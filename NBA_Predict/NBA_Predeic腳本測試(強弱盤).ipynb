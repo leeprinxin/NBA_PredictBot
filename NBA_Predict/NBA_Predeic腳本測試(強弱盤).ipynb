{
 "cells": [
  {
   "cell_type": "code",
   "execution_count": 2,
   "metadata": {
    "collapsed": true
   },
   "outputs": [],
   "source": [
    "import numpy as np\n",
    "import pandas as pd\n",
    "from datetime import datetime\n",
    "import warnings\n",
    "warnings.filterwarnings(\"ignore\", category=UserWarning)"
   ]
  },
  {
   "cell_type": "code",
   "execution_count": 5,
   "outputs": [
    {
     "data": {
      "text/plain": "     a\n0  1_5",
      "text/html": "<div>\n<style scoped>\n    .dataframe tbody tr th:only-of-type {\n        vertical-align: middle;\n    }\n\n    .dataframe tbody tr th {\n        vertical-align: top;\n    }\n\n    .dataframe thead th {\n        text-align: right;\n    }\n</style>\n<table border=\"1\" class=\"dataframe\">\n  <thead>\n    <tr style=\"text-align: right;\">\n      <th></th>\n      <th>a</th>\n    </tr>\n  </thead>\n  <tbody>\n    <tr>\n      <th>0</th>\n      <td>1_5</td>\n    </tr>\n  </tbody>\n</table>\n</div>"
     },
     "execution_count": 5,
     "metadata": {},
     "output_type": "execute_result"
    }
   ],
   "source": [
    "pd.DataFrame([{'a':'1_5'}])"
   ],
   "metadata": {
    "collapsed": false,
    "pycharm": {
     "name": "#%%\n"
    }
   }
  },
  {
   "cell_type": "code",
   "execution_count": 91,
   "outputs": [
    {
     "data": {
      "text/plain": "          gmDate gmTime seasType  offLNm1  offFNm1  offLNm2  offFNm2  OffLNm3  \\\n0     2021/10/19  19:30  Regular      NaN      NaN      NaN      NaN      NaN   \n1     2021/10/19  19:30  Regular      NaN      NaN      NaN      NaN      NaN   \n2     2021/10/19  22:00  Regular      NaN      NaN      NaN      NaN      NaN   \n3     2021/10/19  22:00  Regular      NaN      NaN      NaN      NaN      NaN   \n4     2021/10/20  19:00  Regular      NaN      NaN      NaN      NaN      NaN   \n...          ...    ...      ...      ...      ...      ...      ...      ...   \n1613    2022/2/9  08:40  Regular      NaN      NaN      NaN      NaN      NaN   \n1614    2022/2/9  11:10  Regular      NaN      NaN      NaN      NaN      NaN   \n1615    2022/2/9  09:10  Regular      NaN      NaN      NaN      NaN      NaN   \n1616    2022/2/9  11:00  Regular      NaN      NaN      NaN      NaN      NaN   \n1617    2022/2/9  08:10  Regular      NaN      NaN      NaN      NaN      NaN   \n\n      offFNm3               teamAbbr  ...  OverFirstOptionRate  \\\n0         NaN          Brooklyn Nets  ...                  0.9   \n1         NaN        Milwaukee Bucks  ...                  0.9   \n2         NaN  Golden State Warriors  ...                  0.9   \n3         NaN     Los Angeles Lakers  ...                  0.9   \n4         NaN         Indiana Pacers  ...                  0.9   \n...       ...                    ...  ...                  ...   \n1613      NaN          Atlanta Hawks  ...                  0.9   \n1614      NaN       Sacramento Kings  ...                  0.9   \n1615      NaN   New Orleans Pelicans  ...                  0.9   \n1616      NaN     Los Angeles Lakers  ...                  0.9   \n1617      NaN     Philadelphia 76ers  ...                  0.9   \n\n     UnderFirstOptionRate OverUnderFirstSpecialBetValue  OverLastOptionRate  \\\n0                     0.9                         240.5                0.86   \n1                     0.9                         240.5                0.86   \n2                     0.9                         230.5                1.00   \n3                     0.9                         230.5                1.00   \n4                     0.9                         228.5                0.83   \n...                   ...                           ...                 ...   \n1613                  0.9                         227.5                0.90   \n1614                  0.9                         232.5                0.90   \n1615                  0.9                         226.5                0.90   \n1616                  0.9                         230.5                0.90   \n1617                  0.9                         216.5                0.90   \n\n      UnderLastOptionRate  OverUnderLastSpecialBetValue  \\\n0                    0.86                         233.5   \n1                    0.86                         233.5   \n2                    0.76                         230.5   \n3                    0.76                         230.5   \n4                    0.90                         242.5   \n...                   ...                           ...   \n1613                 0.90                         227.5   \n1614                 0.90                         232.5   \n1615                 0.90                         227.5   \n1616                 0.90                         230.5   \n1617                 0.90                         216.5   \n\n                                          SourceUrl  EventCode  DB_HomeOdds  \\\n0     http://nba.win007.com/1x2/oddslist/429690.htm        NaN          NaN   \n1     http://nba.win007.com/1x2/oddslist/429690.htm        NaN          NaN   \n2     http://nba.win007.com/1x2/oddslist/429689.htm        NaN          NaN   \n3     http://nba.win007.com/1x2/oddslist/429689.htm        NaN          NaN   \n4     http://nba.win007.com/1x2/oddslist/429870.htm        NaN          NaN   \n...                                             ...        ...          ...   \n1613  http://nba.win007.com/1x2/oddslist/431855.htm  114814539         1.20   \n1614  http://nba.win007.com/1x2/oddslist/431863.htm  114814563         2.50   \n1615  http://nba.win007.com/1x2/oddslist/431858.htm  114814542         1.31   \n1616  http://nba.win007.com/1x2/oddslist/431861.htm  114814557         2.67   \n1617  http://nba.win007.com/1x2/oddslist/431854.htm  114814533         1.76   \n\n      DB_AwayOdds  \n0             NaN  \n1             NaN  \n2             NaN  \n3             NaN  \n4             NaN  \n...           ...  \n1613         4.75  \n1614         1.58  \n1615         3.60  \n1616         1.52  \n1617         2.10  \n\n[1618 rows x 141 columns]",
      "text/html": "<div>\n<style scoped>\n    .dataframe tbody tr th:only-of-type {\n        vertical-align: middle;\n    }\n\n    .dataframe tbody tr th {\n        vertical-align: top;\n    }\n\n    .dataframe thead th {\n        text-align: right;\n    }\n</style>\n<table border=\"1\" class=\"dataframe\">\n  <thead>\n    <tr style=\"text-align: right;\">\n      <th></th>\n      <th>gmDate</th>\n      <th>gmTime</th>\n      <th>seasType</th>\n      <th>offLNm1</th>\n      <th>offFNm1</th>\n      <th>offLNm2</th>\n      <th>offFNm2</th>\n      <th>OffLNm3</th>\n      <th>offFNm3</th>\n      <th>teamAbbr</th>\n      <th>...</th>\n      <th>OverFirstOptionRate</th>\n      <th>UnderFirstOptionRate</th>\n      <th>OverUnderFirstSpecialBetValue</th>\n      <th>OverLastOptionRate</th>\n      <th>UnderLastOptionRate</th>\n      <th>OverUnderLastSpecialBetValue</th>\n      <th>SourceUrl</th>\n      <th>EventCode</th>\n      <th>DB_HomeOdds</th>\n      <th>DB_AwayOdds</th>\n    </tr>\n  </thead>\n  <tbody>\n    <tr>\n      <th>0</th>\n      <td>2021/10/19</td>\n      <td>19:30</td>\n      <td>Regular</td>\n      <td>NaN</td>\n      <td>NaN</td>\n      <td>NaN</td>\n      <td>NaN</td>\n      <td>NaN</td>\n      <td>NaN</td>\n      <td>Brooklyn Nets</td>\n      <td>...</td>\n      <td>0.9</td>\n      <td>0.9</td>\n      <td>240.5</td>\n      <td>0.86</td>\n      <td>0.86</td>\n      <td>233.5</td>\n      <td>http://nba.win007.com/1x2/oddslist/429690.htm</td>\n      <td>NaN</td>\n      <td>NaN</td>\n      <td>NaN</td>\n    </tr>\n    <tr>\n      <th>1</th>\n      <td>2021/10/19</td>\n      <td>19:30</td>\n      <td>Regular</td>\n      <td>NaN</td>\n      <td>NaN</td>\n      <td>NaN</td>\n      <td>NaN</td>\n      <td>NaN</td>\n      <td>NaN</td>\n      <td>Milwaukee Bucks</td>\n      <td>...</td>\n      <td>0.9</td>\n      <td>0.9</td>\n      <td>240.5</td>\n      <td>0.86</td>\n      <td>0.86</td>\n      <td>233.5</td>\n      <td>http://nba.win007.com/1x2/oddslist/429690.htm</td>\n      <td>NaN</td>\n      <td>NaN</td>\n      <td>NaN</td>\n    </tr>\n    <tr>\n      <th>2</th>\n      <td>2021/10/19</td>\n      <td>22:00</td>\n      <td>Regular</td>\n      <td>NaN</td>\n      <td>NaN</td>\n      <td>NaN</td>\n      <td>NaN</td>\n      <td>NaN</td>\n      <td>NaN</td>\n      <td>Golden State Warriors</td>\n      <td>...</td>\n      <td>0.9</td>\n      <td>0.9</td>\n      <td>230.5</td>\n      <td>1.00</td>\n      <td>0.76</td>\n      <td>230.5</td>\n      <td>http://nba.win007.com/1x2/oddslist/429689.htm</td>\n      <td>NaN</td>\n      <td>NaN</td>\n      <td>NaN</td>\n    </tr>\n    <tr>\n      <th>3</th>\n      <td>2021/10/19</td>\n      <td>22:00</td>\n      <td>Regular</td>\n      <td>NaN</td>\n      <td>NaN</td>\n      <td>NaN</td>\n      <td>NaN</td>\n      <td>NaN</td>\n      <td>NaN</td>\n      <td>Los Angeles Lakers</td>\n      <td>...</td>\n      <td>0.9</td>\n      <td>0.9</td>\n      <td>230.5</td>\n      <td>1.00</td>\n      <td>0.76</td>\n      <td>230.5</td>\n      <td>http://nba.win007.com/1x2/oddslist/429689.htm</td>\n      <td>NaN</td>\n      <td>NaN</td>\n      <td>NaN</td>\n    </tr>\n    <tr>\n      <th>4</th>\n      <td>2021/10/20</td>\n      <td>19:00</td>\n      <td>Regular</td>\n      <td>NaN</td>\n      <td>NaN</td>\n      <td>NaN</td>\n      <td>NaN</td>\n      <td>NaN</td>\n      <td>NaN</td>\n      <td>Indiana Pacers</td>\n      <td>...</td>\n      <td>0.9</td>\n      <td>0.9</td>\n      <td>228.5</td>\n      <td>0.83</td>\n      <td>0.90</td>\n      <td>242.5</td>\n      <td>http://nba.win007.com/1x2/oddslist/429870.htm</td>\n      <td>NaN</td>\n      <td>NaN</td>\n      <td>NaN</td>\n    </tr>\n    <tr>\n      <th>...</th>\n      <td>...</td>\n      <td>...</td>\n      <td>...</td>\n      <td>...</td>\n      <td>...</td>\n      <td>...</td>\n      <td>...</td>\n      <td>...</td>\n      <td>...</td>\n      <td>...</td>\n      <td>...</td>\n      <td>...</td>\n      <td>...</td>\n      <td>...</td>\n      <td>...</td>\n      <td>...</td>\n      <td>...</td>\n      <td>...</td>\n      <td>...</td>\n      <td>...</td>\n      <td>...</td>\n    </tr>\n    <tr>\n      <th>1613</th>\n      <td>2022/2/9</td>\n      <td>08:40</td>\n      <td>Regular</td>\n      <td>NaN</td>\n      <td>NaN</td>\n      <td>NaN</td>\n      <td>NaN</td>\n      <td>NaN</td>\n      <td>NaN</td>\n      <td>Atlanta Hawks</td>\n      <td>...</td>\n      <td>0.9</td>\n      <td>0.9</td>\n      <td>227.5</td>\n      <td>0.90</td>\n      <td>0.90</td>\n      <td>227.5</td>\n      <td>http://nba.win007.com/1x2/oddslist/431855.htm</td>\n      <td>114814539</td>\n      <td>1.20</td>\n      <td>4.75</td>\n    </tr>\n    <tr>\n      <th>1614</th>\n      <td>2022/2/9</td>\n      <td>11:10</td>\n      <td>Regular</td>\n      <td>NaN</td>\n      <td>NaN</td>\n      <td>NaN</td>\n      <td>NaN</td>\n      <td>NaN</td>\n      <td>NaN</td>\n      <td>Sacramento Kings</td>\n      <td>...</td>\n      <td>0.9</td>\n      <td>0.9</td>\n      <td>232.5</td>\n      <td>0.90</td>\n      <td>0.90</td>\n      <td>232.5</td>\n      <td>http://nba.win007.com/1x2/oddslist/431863.htm</td>\n      <td>114814563</td>\n      <td>2.50</td>\n      <td>1.58</td>\n    </tr>\n    <tr>\n      <th>1615</th>\n      <td>2022/2/9</td>\n      <td>09:10</td>\n      <td>Regular</td>\n      <td>NaN</td>\n      <td>NaN</td>\n      <td>NaN</td>\n      <td>NaN</td>\n      <td>NaN</td>\n      <td>NaN</td>\n      <td>New Orleans Pelicans</td>\n      <td>...</td>\n      <td>0.9</td>\n      <td>0.9</td>\n      <td>226.5</td>\n      <td>0.90</td>\n      <td>0.90</td>\n      <td>227.5</td>\n      <td>http://nba.win007.com/1x2/oddslist/431858.htm</td>\n      <td>114814542</td>\n      <td>1.31</td>\n      <td>3.60</td>\n    </tr>\n    <tr>\n      <th>1616</th>\n      <td>2022/2/9</td>\n      <td>11:00</td>\n      <td>Regular</td>\n      <td>NaN</td>\n      <td>NaN</td>\n      <td>NaN</td>\n      <td>NaN</td>\n      <td>NaN</td>\n      <td>NaN</td>\n      <td>Los Angeles Lakers</td>\n      <td>...</td>\n      <td>0.9</td>\n      <td>0.9</td>\n      <td>230.5</td>\n      <td>0.90</td>\n      <td>0.90</td>\n      <td>230.5</td>\n      <td>http://nba.win007.com/1x2/oddslist/431861.htm</td>\n      <td>114814557</td>\n      <td>2.67</td>\n      <td>1.52</td>\n    </tr>\n    <tr>\n      <th>1617</th>\n      <td>2022/2/9</td>\n      <td>08:10</td>\n      <td>Regular</td>\n      <td>NaN</td>\n      <td>NaN</td>\n      <td>NaN</td>\n      <td>NaN</td>\n      <td>NaN</td>\n      <td>NaN</td>\n      <td>Philadelphia 76ers</td>\n      <td>...</td>\n      <td>0.9</td>\n      <td>0.9</td>\n      <td>216.5</td>\n      <td>0.90</td>\n      <td>0.90</td>\n      <td>216.5</td>\n      <td>http://nba.win007.com/1x2/oddslist/431854.htm</td>\n      <td>114814533</td>\n      <td>1.76</td>\n      <td>2.10</td>\n    </tr>\n  </tbody>\n</table>\n<p>1618 rows × 141 columns</p>\n</div>"
     },
     "execution_count": 91,
     "metadata": {},
     "output_type": "execute_result"
    }
   ],
   "source": [
    "nba_df = pd.DataFrame([])\n",
    "\n",
    "for year in range(2021,2022):\n",
    "    nba_df = pd.concat([nba_df,pd.read_csv(f\"NBA_DATA3-5/{year}_TeamGameStatsAndOdds.csv\",dtype={'EventCode':str})],ignore_index=True)\n",
    "nba_df = pd.concat([nba_df,pd.read_csv(f\"C:/預測機器人NBA(第二版)/test.csv\",dtype={'EventCode':str})],ignore_index=True)\n",
    "nba_df"
   ],
   "metadata": {
    "collapsed": false,
    "pycharm": {
     "name": "#%%\n"
    }
   }
  },
  {
   "cell_type": "code",
   "execution_count": 27,
   "outputs": [
    {
     "name": "stderr",
     "output_type": "stream",
     "text": [
      "C:\\Users\\xin\\AppData\\Local\\Temp/ipykernel_11928/1130588645.py:173: SettingWithCopyWarning: \n",
      "A value is trying to be set on a copy of a slice from a DataFrame.\n",
      "Try using .loc[row_indexer,col_indexer] = value instead\n",
      "\n",
      "See the caveats in the documentation: https://pandas.pydata.org/pandas-docs/stable/user_guide/indexing.html#returning-a-view-versus-a-copy\n",
      "  team_FiveLastGamesAvgDict[f\"{row['homeAbbr']},{row['Season']}\"]['games'] = pd.Series(list(range(len(team_FiveLastGamesAvgDict[f\"{row['homeAbbr']},{row['Season']}\"]))))+1\n"
     ]
    },
    {
     "name": "stdout",
     "output_type": "stream",
     "text": [
      "homePTS awayPTS 已經處理完成.\n",
      "homeAST awayAST 已經處理完成.\n",
      "homeTO awayTO 已經處理完成.\n",
      "homeSTL awaySTL 已經處理完成.\n",
      "homeBLK awayBLK 已經處理完成.\n",
      "homeFGA awayFGA 已經處理完成.\n",
      "homeFGM awayFGM 已經處理完成.\n",
      "homeFG_Percentage awayFG_Percentage 已經處理完成.\n",
      "home3PA away3PA 已經處理完成.\n",
      "home3PM away3PM 已經處理完成.\n",
      "home3P_Percentage away3P_Percentage 已經處理完成.\n",
      "homeFTA awayFTA 已經處理完成.\n",
      "homeFTM awayFTM 已經處理完成.\n",
      "homeFT_Percentage awayFT_Percentage 已經處理完成.\n",
      "homeORB awayORB 已經處理完成.\n",
      "homeDRB awayDRB 已經處理完成.\n",
      "homeTRB awayTRB 已經處理完成.\n",
      "homeTREB_Percentage awayTREB_Percentage 已經處理完成.\n",
      "homeASST_Percentage awayASST_Percentage 已經處理完成.\n",
      "homeTS_Percentage awayTS_Percentage 已經處理完成.\n",
      "homeEFG_Percentage awayEFG_Percentage 已經處理完成.\n",
      "homeOREB_Percentage awayOREB_Percentage 已經處理完成.\n",
      "homeDREB_Percentage awayDREB_Percentage 已經處理完成.\n",
      "homeTO_Percentage awayTO_Percentage 已經處理完成.\n",
      "homeSTL_Percentage awaySTL_Percentage 已經處理完成.\n",
      "homeBLK_Percentage awayBLK_Percentage 已經處理完成.\n",
      "homeOrtg awayOrtg 已經處理完成.\n",
      "homeDrtg awayDrtg 已經處理完成.\n",
      "homeASTDividedByTO awayASTDividedByTO 已經處理完成.\n",
      "homeSTLDividedByTO awaySTLDividedByTO 已經處理完成.\n",
      "homeFouls awayFouls 已經處理完成.\n",
      "homePIR awayPIR 已經處理完成.\n",
      "homePPS awayPPS 已經處理完成.\n",
      "homeFIC awayFIC 已經處理完成.\n",
      "homeEDiff awayEDiff 已經處理完成.\n",
      "homePlay_Percentage awayPlay_Percentage 已經處理完成.\n",
      "homeAR awayAR 已經處理完成.\n",
      "homeDiffPTS awayDiffPTS 已經處理完成.\n"
     ]
    }
   ],
   "source": [
    "nba_df = pd.DataFrame([])\n",
    "\n",
    "for year in range(2021,2022):\n",
    "    nba_df = pd.concat([nba_df,pd.read_csv(f\"NBA_DATA3-5/{year}_TeamGameStatsAndOdds.csv\")],ignore_index=True)\n",
    "nba_df = pd.concat([nba_df,pd.read_csv(f\"C:/預測機器人NBA(第二版)/test.csv\")],ignore_index=True)\n",
    "# 刪除資料欄\n",
    "cols_with_missing = ['offLNm1','offFNm1','offLNm2','offFNm2','OffLNm3','offFNm3',\n",
    "\n",
    "                     'teamConf','teamDayOff','team2PA','team2PM','team2P_Percentage','teamPTS1','teamPTS2','teamPTS3','teamPTS4','teamPTS5','teamPTS6','teamPTS7','teamPTS8','teamBLKR',\n",
    "                     'teamPPS','teamFIC','teamFIC40','teamEDiff','teamPlay_Percentage','teamAR',\n",
    "\n",
    "                     'opptConf','opptDayOff','oppt2PA','oppt2PM','oppt2P_Percentage','opptPTS1','opptPTS2','opptPTS3','opptPTS4','opptPTS5','opptPTS6','opptPTS7','opptPTS8','opptBLKR',\n",
    "                     'opptPPS','opptFIC','opptFIC40','opptEDiff','opptPlay_Percentage','opptAR']\n",
    "\n",
    "nba_df.drop(cols_with_missing, axis=1, inplace=True)\n",
    "# 刪除不相關的資料\n",
    "cols_with_irrelevant = ['seasType','teamMin','opptLoc','opptRslt','opptMin',\n",
    "                        'OverFirstOptionRate','UnderFirstOptionRate','OverUnderFirstSpecialBetValue','OverLastOptionRate','UnderLastOptionRate','OverUnderLastSpecialBetValue','SourceUrl']\n",
    "nba_df.drop(cols_with_irrelevant, axis=1, inplace=True)\n",
    "# 離散資料轉連續數值\n",
    "nba_df['teamLoc'] = nba_df['teamLoc'].replace(['Home', 'Away'], [1,0]).astype(str).astype(int)\n",
    "nba_df['teamRslt'] = nba_df['teamRslt'].replace(['Win', 'Loss',np.nan], [1,0,-1]).astype(str).astype(int)\n",
    "#因為一場比賽被劃分成兩筆，所以只取前面為主場那筆\n",
    "nba_df = nba_df[nba_df.teamLoc == 1].reset_index()\n",
    "del nba_df['index']\n",
    "del nba_df['teamLoc']\n",
    "# 更改欄位名稱\n",
    "nba_df.columns = nba_df.columns.str.replace('team', 'home')\n",
    "nba_df.columns = nba_df.columns.str.replace('oppt', 'away')\n",
    "nba_df.columns = nba_df.columns.str.replace('home1x2FirstRTP', '1x2FirstRTP')\n",
    "nba_df.columns = nba_df.columns.str.replace('away1x2LastRTP', '1x2LastRTP')\n",
    "# 補值\n",
    "def Complement(values):\n",
    "    FirstValue = values[0]\n",
    "    FinalValue = values[1]\n",
    "    if pd.isnull(FinalValue) :\n",
    "        return FirstValue\n",
    "    else:\n",
    "        return FinalValue\n",
    "\n",
    "nba_df['home1x2LastOptionRate'] = nba_df[['home1x2FirstOptionRate','home1x2LastOptionRate']].apply(Complement,axis=1)\n",
    "nba_df['away1x2LastOptionRate'] = nba_df[['away1x2FirstOptionRate','away1x2LastOptionRate']].apply(Complement,axis=1)\n",
    "nba_df['home1x2LastWinRate'] = nba_df[['home1x2FirstWinRate','home1x2LastWinRate']].apply(Complement,axis=1)\n",
    "nba_df['away1x2LastWinRate'] = nba_df[['away1x2FirstWinRate','away1x2LastWinRate']].apply(Complement,axis=1)\n",
    "nba_df['1x2LastRTP'] = nba_df[['1x2FirstRTP','1x2LastRTP']].apply(Complement,axis=1)\n",
    "# 刪除空資料列(沒有賠率的)\n",
    "delete_indexs = nba_df[nba_df.away1x2FirstOptionRate.isnull()].index\n",
    "nba_df = nba_df.drop(delete_indexs,axis = 0).reset_index(drop=True)\n",
    "# Player efficiency rating 績效指數評級 (PIR) 是一個總體績效指標。\n",
    "homePIR = ((nba_df['homePTS'] + nba_df['homeTRB'] + nba_df['homeAST']\n",
    "            + nba_df['homeSTL'] + nba_df['homeBLK'] + nba_df['awayFouls'])\n",
    "           # Missed Field Goals:\n",
    "           - ((nba_df['homeFGA']- nba_df['homeFGM'])\n",
    "              # Missed Free Throws:\n",
    "              +(nba_df['homeFTA'] - nba_df['homeFTM'])\n",
    "              + nba_df['homeTO'] + nba_df['awayBLK'] + nba_df['homeFouls']))\n",
    "\n",
    "awayPIR = ((nba_df['awayPTS'] + nba_df['awayTRB'] + nba_df['awayAST']\n",
    "            + nba_df['awaySTL'] + nba_df['awayBLK'] + nba_df['homeFouls'])\n",
    "           # Missed Field Goals:\n",
    "           - ((nba_df['awayFGA']- nba_df['awayFGM'])\n",
    "              # Missed Free Throws:\n",
    "              +(nba_df['awayFTA'] - nba_df['awayFTM'])\n",
    "              + nba_df['awayTO'] + nba_df['homeBLK'] + nba_df['awayFouls']))\n",
    "nba_df['homePIR'] = pd.Series(homePIR)\n",
    "nba_df['awayPIR'] = pd.Series(awayPIR)\n",
    "# 新增其他特徵\n",
    "homePPS = nba_df.homePTS/nba_df.homeFGA\n",
    "homeFIC = nba_df.homePTS + nba_df.homeORB + 0.75 * nba_df.homeDRB+ nba_df.homeAST + nba_df.homeSTL + nba_df.homeBLK - 0.75 * nba_df.homeFGA - 0.375 * nba_df.homeFTA - nba_df.homeTO - 0.5 * nba_df.homeFouls\n",
    "homeEDiff = nba_df.homeOrtg-nba_df.homeDrtg\n",
    "homePlay_Percentage = nba_df.homeFGM / (nba_df.homeFGA - nba_df.homeORB + nba_df.homeTO)\n",
    "homeAR = (nba_df.homeAST * 100) / (nba_df.homeFGA - 0.44 * nba_df.homeFTA + nba_df.homeAST + nba_df.homeTO)\n",
    "\n",
    "awayPPS = nba_df.awayPTS/nba_df.awayFGA\n",
    "awayFIC = nba_df.awayPTS + nba_df.awayORB + 0.75 * nba_df.awayDRB+ nba_df.awayAST + nba_df.awaySTL + nba_df.awayBLK - 0.75 * nba_df.awayFGA - 0.375 * nba_df.awayFTA - nba_df.awayTO - 0.5 * nba_df.awayFouls\n",
    "awayEDiff = nba_df.awayOrtg-nba_df.awayDrtg\n",
    "awayPlay_Percentage = nba_df.awayFGM / (nba_df.awayFGA - nba_df.awayORB + nba_df.awayTO)\n",
    "awayAR = (nba_df.awayAST * 100) / (nba_df.awayFGA - 0.44 * nba_df.awayFTA + nba_df.awayAST + nba_df.awayTO)\n",
    "\n",
    "nba_df['homePPS'] = pd.Series(homePPS)\n",
    "nba_df['homeFIC'] = pd.Series(homeFIC)\n",
    "nba_df['homeEDiff'] = pd.Series(homeEDiff)\n",
    "nba_df['homePlay_Percentage'] = pd.Series(homePlay_Percentage)\n",
    "nba_df['homeAR'] = pd.Series(homeAR)\n",
    "\n",
    "nba_df['awayPPS'] = pd.Series(awayPPS)\n",
    "nba_df['awayFIC'] = pd.Series(awayFIC)\n",
    "nba_df['awayEDiff'] = pd.Series(awayEDiff)\n",
    "nba_df['awayPlay_Percentage'] = pd.Series(awayPlay_Percentage)\n",
    "nba_df['awayAR'] = pd.Series(awayAR)\n",
    "# 判斷是否為明星賽前後\n",
    "nba_df['gmDate'] = pd.to_datetime(nba_df['gmDate'], errors='coerce')\n",
    "nba_df['year'] = nba_df['gmDate'].dt.year\n",
    "nba_df['month'] = nba_df['gmDate'].dt.month\n",
    "def seasons(d):\n",
    "    y=d[0]\n",
    "    m=d[1]\n",
    "\n",
    "    if (y ==2014 and m in (10,11,12)) or (y==2015 and m in (1,2,3,4)):\n",
    "        s=1\n",
    "    elif (y==2015 and m in (10,11,12)) or (y==2016 and m in (1,2,3,4)):\n",
    "        s=2\n",
    "    elif (y==2016 and m in (10,11,12)) or (y==2017 and m in (1,2,3,4)):\n",
    "        s=3\n",
    "    elif (y==2017 and m in (10,11,12)) or (y==2018 and m in (1,2,3,4)):\n",
    "        s=4\n",
    "    elif (y==2018 and m in (10,11,12)) or (y==2019 and m in (1,2,3,4)):\n",
    "        s=5\n",
    "    elif (y==2019 and m in (10,11,12)) or (y==2020 and m in (1,2,3,4)):\n",
    "        s=6\n",
    "    elif (y==2020 and m in (10,11,12)) or (y==2021 and m in (1,2,3,4)):\n",
    "        s=7\n",
    "    elif (y==2021 and m in (10,11,12)) or (y==2022 and m in (1,2,3,4)):\n",
    "        s=8\n",
    "    else:\n",
    "        s=9\n",
    "    return s\n",
    "nba_df['Season'] = nba_df[['year','month']].apply(seasons,axis=1)\n",
    "def halfs(x):\n",
    "    if x in (10,11,12,1):\n",
    "        x = 'Pre_AllStar'\n",
    "    else:\n",
    "        x = 'Post_AllStar'\n",
    "    return (x)\n",
    "nba_df['Season_half']=nba_df['month'].apply(halfs)\n",
    "# 總得分差\n",
    "nba_df['homeDiffPTS']=nba_df['homePTS']-nba_df['awayPTS']\n",
    "nba_df['awayDiffPTS']=nba_df['awayPTS']-nba_df['homePTS']\n",
    "nba_df['absDiffPTS']=abs(nba_df['homePTS']-nba_df['awayPTS'])\n",
    "# 紀錄主客隊場次\n",
    "team_games = {}\n",
    "for index, row in nba_df[['homeAbbr','Season']].groupby(['homeAbbr','Season']).size().reset_index().sort_values(by=['homeAbbr','Season'])[:].iterrows():\n",
    "    team_games[f\"{row['homeAbbr']},{row['Season']}\"] = 1\n",
    "home_games = []\n",
    "away_games = []\n",
    "for index, row in nba_df.iterrows():\n",
    "    home_games.append(team_games[f\"{row['homeAbbr']},{row['Season']}\"])\n",
    "    team_games[f\"{row['homeAbbr']},{row['Season']}\"] = team_games[f\"{row['homeAbbr']},{row['Season']}\"]+1\n",
    "    away_games.append(team_games[f\"{row['awayAbbr']},{row['Season']}\"])\n",
    "    team_games[f\"{row['awayAbbr']},{row['Season']}\"] = team_games[f\"{row['awayAbbr']},{row['Season']}\"]+1\n",
    "\n",
    "nba_df['home_games'] = pd.Series(home_games)\n",
    "nba_df['away_games'] = pd.Series(away_games)\n",
    "#DF for ML:\n",
    "nba_df_for_ML = nba_df[['homeRslt','gmDate','gmTime',\n",
    "                        'homeAbbr','home_games','home1x2FirstOptionRate','home1x2LastOptionRate','home1x2FirstWinRate','home1x2LastWinRate','home1x2KellyIndex',\n",
    "                        'awayAbbr','away_games','away1x2FirstOptionRate','away1x2LastOptionRate','away1x2FirstWinRate','away1x2LastWinRate','away1x2KellyIndex',\n",
    "                        'Season_half','1x2FirstRTP', '1x2LastRTP','EventCode','DB_HomeOdds','DB_AwayOdds']].copy()\n",
    "# 新增連勝特徵\n",
    "team_streak_dict = {}\n",
    "for index, row in nba_df[['homeAbbr','Season']].groupby(['homeAbbr','Season']).size().reset_index().sort_values(by=['homeAbbr','Season'])[:].iterrows():\n",
    "    team_streak_dict[f\"{row['homeAbbr']},{row['Season']}\"] = 0\n",
    "home_streaks = []\n",
    "away_streaks= []\n",
    "for index, row in nba_df.iterrows():\n",
    "    home_streaks.append(team_streak_dict[f\"{row['homeAbbr']},{row['Season']}\"])\n",
    "    away_streaks.append(team_streak_dict[f\"{row['awayAbbr']},{row['Season']}\"])\n",
    "    if row['homeRslt'] == 1:\n",
    "        team_streak_dict[f\"{row['homeAbbr']},{row['Season']}\"] = team_streak_dict[f\"{row['homeAbbr']},{row['Season']}\"]+1\n",
    "        team_streak_dict[f\"{row['awayAbbr']},{row['Season']}\"] = 0\n",
    "    else:\n",
    "        team_streak_dict[f\"{row['homeAbbr']},{row['Season']}\"] = 0\n",
    "        team_streak_dict[f\"{row['awayAbbr']},{row['Season']}\"] = team_streak_dict[f\"{row['awayAbbr']},{row['Season']}\"]+1\n",
    "\n",
    "nba_df_for_ML['home_streak'] = pd.Series(home_streaks)\n",
    "nba_df_for_ML['away_streak'] = pd.Series(away_streaks)\n",
    "\n",
    "# 新增前5場平均表現特徵\n",
    "team_FiveLastGamesAvgDict = {}\n",
    "for index, row in nba_df[['homeAbbr','Season']].groupby(['homeAbbr','Season']).size().reset_index().sort_values(by=['homeAbbr','Season'])[:].iterrows():\n",
    "    team_FiveLastGamesAvgDict[f\"{row['homeAbbr']},{row['Season']}\"] = nba_df[((nba_df.homeAbbr==row['homeAbbr']) | (nba_df.awayAbbr==row['homeAbbr'])) & (nba_df.Season==row['Season'])]\n",
    "    team_FiveLastGamesAvgDict[f\"{row['homeAbbr']},{row['Season']}\"].reset_index(drop=True,inplace=True)\n",
    "    team_FiveLastGamesAvgDict[f\"{row['homeAbbr']},{row['Season']}\"]['games'] = pd.Series(list(range(len(team_FiveLastGamesAvgDict[f\"{row['homeAbbr']},{row['Season']}\"]))))+1\n",
    "\n",
    "\n",
    "home_cols = ['homePTS', 'homeAST','homeTO', 'homeSTL', 'homeBLK', 'homeFGA', 'homeFGM',\n",
    "             'homeFG_Percentage', 'home3PA', 'home3PM', 'home3P_Percentage',\n",
    "             'homeFTA', 'homeFTM', 'homeFT_Percentage', 'homeORB', 'homeDRB',\n",
    "             'homeTRB', 'homeTREB_Percentage', 'homeASST_Percentage',\n",
    "             'homeTS_Percentage', 'homeEFG_Percentage', 'homeOREB_Percentage',\n",
    "             'homeDREB_Percentage', 'homeTO_Percentage', 'homeSTL_Percentage',\n",
    "             'homeBLK_Percentage', 'homeOrtg', 'homeDrtg', 'homeASTDividedByTO',\n",
    "             'homeSTLDividedByTO', 'homeFouls','homePIR','homePPS', 'homeFIC',\n",
    "             'homeEDiff', 'homePlay_Percentage','homeAR','homeDiffPTS']\n",
    "\n",
    "away_cols = ['awayPTS', 'awayAST','awayTO', 'awaySTL', 'awayBLK', 'awayFGA', 'awayFGM',\n",
    "             'awayFG_Percentage', 'away3PA', 'away3PM', 'away3P_Percentage',\n",
    "             'awayFTA', 'awayFTM', 'awayFT_Percentage', 'awayORB', 'awayDRB',\n",
    "             'awayTRB', 'awayTREB_Percentage', 'awayASST_Percentage',\n",
    "             'awayTS_Percentage', 'awayEFG_Percentage', 'awayOREB_Percentage',\n",
    "             'awayDREB_Percentage', 'awayTO_Percentage', 'awaySTL_Percentage',\n",
    "             'awayBLK_Percentage', 'awayOrtg', 'awayDrtg', 'awayASTDividedByTO',\n",
    "             'awaySTLDividedByTO', 'awayFouls','awayPIR','awayPPS', 'awayFIC',\n",
    "             'awayEDiff', 'awayPlay_Percentage','awayAR','awayDiffPTS']\n",
    "\n",
    "# 第六場含以上 第一場-第五場平均 , 第五場 第一場-第四場平均 , 第四場 第一場-第三場平均 ... , 第一場 無\n",
    "def five_last_games_avg(home_col,away_col):\n",
    "    home_FiveLastGamesAvgDict = {}\n",
    "    away_FiveLastGamesAvgDict = {}\n",
    "    for index, row in nba_df.iterrows():\n",
    "\n",
    "        if row['home_games'] > 5 :\n",
    "            home_games =  row['home_games']\n",
    "            sum = 0\n",
    "            for idx5,row5 in  team_FiveLastGamesAvgDict[f\"{row['homeAbbr']},{row['Season']}\"].query(f'games>={home_games -5} & games<{home_games}').iterrows():\n",
    "                if row['homeAbbr'] == row5['homeAbbr']:\n",
    "                    sum+=row5[home_col]\n",
    "                elif  row['homeAbbr'] == row5['awayAbbr']:\n",
    "                    sum+=row5[away_col]\n",
    "            home_FiveLastGamesAvgDict.update({index:sum/5})\n",
    "        elif row['home_games'] <= 5 and row['home_games'] > 1:\n",
    "            home_games =  row['home_games']\n",
    "            sum = 0\n",
    "            for idxX,rowX in  team_FiveLastGamesAvgDict[f\"{row['homeAbbr']},{row['Season']}\"].query(f'games>={home_games-(home_games -1)} & games<{home_games}').iterrows():\n",
    "                if row['homeAbbr'] == rowX['homeAbbr']:\n",
    "                    sum+=rowX[home_col]\n",
    "                elif  row['homeAbbr'] == rowX['awayAbbr']:\n",
    "                    sum+=rowX[away_col]\n",
    "            home_FiveLastGamesAvgDict.update({index:sum/(home_games -1)})\n",
    "        else:\n",
    "            home_FiveLastGamesAvgDict.update({index:0})\n",
    "\n",
    "        if row['away_games'] > 5 :\n",
    "            away_games =  row['away_games']\n",
    "            sum = 0\n",
    "            for idx5,row5 in  team_FiveLastGamesAvgDict[f\"{row['awayAbbr']},{row['Season']}\"].query(f'games>={away_games -5} & games<{away_games}').iterrows():\n",
    "                if row['awayAbbr'] == row5['homeAbbr']:\n",
    "                    sum+=row5[home_col]\n",
    "                elif  row['awayAbbr'] == row5['awayAbbr']:\n",
    "                    sum+=row5[away_col]\n",
    "            away_FiveLastGamesAvgDict.update({index:sum/5})\n",
    "        elif row['away_games'] <= 5 and row['away_games'] > 1:\n",
    "            away_games =  row['away_games']\n",
    "            sum = 0\n",
    "            for idxX,rowX in  team_FiveLastGamesAvgDict[f\"{row['awayAbbr']},{row['Season']}\"].query(f'games>={away_games -(away_games-1)} & games<{away_games}').iterrows():\n",
    "                if row['awayAbbr'] == rowX['homeAbbr']:\n",
    "                    sum+=rowX[home_col]\n",
    "                elif  row['awayAbbr'] == rowX['awayAbbr']:\n",
    "                    sum+=rowX[away_col]\n",
    "            away_FiveLastGamesAvgDict.update({index:sum/(away_games-1)})\n",
    "        else:\n",
    "            away_FiveLastGamesAvgDict.update({index:0})\n",
    "    nba_df_for_ML[f'avg_{home_col}'] = pd.Series(home_FiveLastGamesAvgDict)\n",
    "    nba_df_for_ML[f'avg_{away_col}'] = pd.Series(away_FiveLastGamesAvgDict)\n",
    "for home_col,away_col in zip(home_cols,away_cols):\n",
    "    #print(home_col,away_col,'已經處理完成.')\n",
    "    five_last_games_avg(home_col,away_col)"
   ],
   "metadata": {
    "collapsed": false,
    "pycharm": {
     "name": "#%%\n"
    }
   }
  },
  {
   "cell_type": "code",
   "execution_count": 57,
   "outputs": [],
   "source": [
    "#刪除nba_df_for_ML觀察用特徵:\n",
    "nba_df_for_ML_dumm = nba_df_for_ML.drop(['gmDate','gmTime','homeAbbr','home_games','awayAbbr','away_games','EventCode','DB_HomeOdds','DB_AwayOdds'],axis=1)\n",
    "#虛擬變數\n",
    "nba_df_for_ML_dumm = pd.get_dummies(nba_df_for_ML_dumm)\n",
    "# 正規化\n",
    "from sklearn.preprocessing import MinMaxScaler\n",
    "X = nba_df_for_ML_dumm.drop('homeRslt',axis = 1)\n",
    "y = nba_df_for_ML_dumm.homeRslt\n",
    "scaler = MinMaxScaler(feature_range=(0, 1)).fit(X)\n",
    "X = pd.DataFrame(scaler.transform(X), index=X.index, columns=X.columns)"
   ],
   "metadata": {
    "collapsed": false,
    "pycharm": {
     "name": "#%%\n"
    }
   }
  },
  {
   "cell_type": "code",
   "execution_count": 89,
   "outputs": [
    {
     "data": {
      "text/plain": "[[791, 1, 0.7974538692366107],\n [792, 1, 0.8341582800893622],\n [794, 1, 0.7539250055327374],\n [795, 0, 0.7056389008931407],\n [796, 1, 0.8065177600996364],\n [797, 0, 0.602423996536711],\n [798, 1, 0.7539250055327374],\n [799, 0, 0.6093079115492466]]"
     },
     "execution_count": 89,
     "metadata": {},
     "output_type": "execute_result"
    }
   ],
   "source": [
    "import joblib\n",
    "# 读取模型\n",
    "GradientBoosting_best = joblib.load('強弱盤_GB.model')\n",
    "# 取出超過門檻的預測值\n",
    "results = []\n",
    "for index in nba_df_for_ML[~nba_df_for_ML.EventCode.isnull()].index:\n",
    "    result = GradientBoosting_best.predict_proba(np.array([X.loc[index]]))\n",
    "    if result[0][1]>result[0][0] and result[0][1]>=0.6:\n",
    "        results.append([index,1,result[0][1]])\n",
    "    if result[0][1]<result[0][0] and result[0][0]>=0.6:\n",
    "        results.append([index,0,result[0][0]])\n",
    "results"
   ],
   "metadata": {
    "collapsed": false,
    "pycharm": {
     "name": "#%%\n"
    }
   }
  },
  {
   "cell_type": "code",
   "execution_count": 87,
   "outputs": [
    {
     "name": "stdout",
     "output_type": "stream",
     "text": [
      "INSERT INTO [dbo].[PredictMatch] ([UserId],[SportCode],[EventType],[EventCode],[TournamentCode],[TournamentText],[GroupOptionCode],[GroupOptionName]\n",
      "                                      ,[PredictTeam],[OptionCode],[SpecialBetValue],[OptionRate],[status],[gameType],[MarketType],[PredictDatetime],[CreatedTime]) VALUES\n",
      "                                      ('self.UserId','self.SportCode', 'self.EventType','114814546.0', 'self.SportTournamentCode','self.TournamentText','GroupOptionCode','GroupOption[GroupOptionCode]',\n",
      "                                       'Memphis Grizzlies','1','','1.27','self.status','gameType','self.MarketType','2022-02-09 11:27:44.000'\n",
      "                                      ,'2022-02-09 11:27:44.000') \n",
      "\n",
      "INSERT INTO [dbo].[PredictMatch] ([UserId],[SportCode],[EventType],[EventCode],[TournamentCode],[TournamentText],[GroupOptionCode],[GroupOptionName]\n",
      "                                      ,[PredictTeam],[OptionCode],[SpecialBetValue],[OptionRate],[status],[gameType],[MarketType],[PredictDatetime],[CreatedTime]) VALUES\n",
      "                                      ('self.UserId','self.SportCode', 'self.EventType','114814550.0', 'self.SportTournamentCode','self.TournamentText','GroupOptionCode','GroupOption[GroupOptionCode]',\n",
      "                                       'Dallas Mavericks','1','','1.13','self.status','gameType','self.MarketType','2022-02-09 11:27:44.000'\n",
      "                                      ,'2022-02-09 11:27:44.000') \n",
      "\n",
      "INSERT INTO [dbo].[PredictMatch] ([UserId],[SportCode],[EventType],[EventCode],[TournamentCode],[TournamentText],[GroupOptionCode],[GroupOptionName]\n",
      "                                      ,[PredictTeam],[OptionCode],[SpecialBetValue],[OptionRate],[status],[gameType],[MarketType],[PredictDatetime],[CreatedTime]) VALUES\n",
      "                                      ('self.UserId','self.SportCode', 'self.EventType','114814554.0', 'self.SportTournamentCode','self.TournamentText','GroupOptionCode','GroupOption[GroupOptionCode]',\n",
      "                                       'Denver Nuggets','1','','1.33','self.status','gameType','self.MarketType','2022-02-09 11:27:44.000'\n",
      "                                      ,'2022-02-09 11:27:44.000') \n",
      "\n",
      "INSERT INTO [dbo].[PredictMatch] ([UserId],[SportCode],[EventType],[EventCode],[TournamentCode],[TournamentText],[GroupOptionCode],[GroupOptionName]\n",
      "                                      ,[PredictTeam],[OptionCode],[SpecialBetValue],[OptionRate],[status],[gameType],[MarketType],[PredictDatetime],[CreatedTime]) VALUES\n",
      "                                      ('self.UserId','self.SportCode', 'self.EventType','114814536.0', 'self.SportTournamentCode','self.TournamentText','GroupOptionCode','GroupOption[GroupOptionCode]',\n",
      "                                       'Boston Celtics','2','','1.41','self.status','gameType','self.MarketType','2022-02-09 11:27:44.000'\n",
      "                                      ,'2022-02-09 11:27:44.000') \n",
      "\n",
      "INSERT INTO [dbo].[PredictMatch] ([UserId],[SportCode],[EventType],[EventCode],[TournamentCode],[TournamentText],[GroupOptionCode],[GroupOptionName]\n",
      "                                      ,[PredictTeam],[OptionCode],[SpecialBetValue],[OptionRate],[status],[gameType],[MarketType],[PredictDatetime],[CreatedTime]) VALUES\n",
      "                                      ('self.UserId','self.SportCode', 'self.EventType','114814539.0', 'self.SportTournamentCode','self.TournamentText','GroupOptionCode','GroupOption[GroupOptionCode]',\n",
      "                                       'Atlanta Hawks','1','','1.2','self.status','gameType','self.MarketType','2022-02-09 11:27:44.000'\n",
      "                                      ,'2022-02-09 11:27:44.000') \n",
      "\n",
      "INSERT INTO [dbo].[PredictMatch] ([UserId],[SportCode],[EventType],[EventCode],[TournamentCode],[TournamentText],[GroupOptionCode],[GroupOptionName]\n",
      "                                      ,[PredictTeam],[OptionCode],[SpecialBetValue],[OptionRate],[status],[gameType],[MarketType],[PredictDatetime],[CreatedTime]) VALUES\n",
      "                                      ('self.UserId','self.SportCode', 'self.EventType','114814563.0', 'self.SportTournamentCode','self.TournamentText','GroupOptionCode','GroupOption[GroupOptionCode]',\n",
      "                                       'Minnesota Timberwolves','2','','1.58','self.status','gameType','self.MarketType','2022-02-09 11:27:44.000'\n",
      "                                      ,'2022-02-09 11:27:44.000') \n",
      "\n",
      "INSERT INTO [dbo].[PredictMatch] ([UserId],[SportCode],[EventType],[EventCode],[TournamentCode],[TournamentText],[GroupOptionCode],[GroupOptionName]\n",
      "                                      ,[PredictTeam],[OptionCode],[SpecialBetValue],[OptionRate],[status],[gameType],[MarketType],[PredictDatetime],[CreatedTime]) VALUES\n",
      "                                      ('self.UserId','self.SportCode', 'self.EventType','114814542.0', 'self.SportTournamentCode','self.TournamentText','GroupOptionCode','GroupOption[GroupOptionCode]',\n",
      "                                       'New Orleans Pelicans','1','','1.31','self.status','gameType','self.MarketType','2022-02-09 11:27:44.000'\n",
      "                                      ,'2022-02-09 11:27:44.000') \n",
      "\n",
      "INSERT INTO [dbo].[PredictMatch] ([UserId],[SportCode],[EventType],[EventCode],[TournamentCode],[TournamentText],[GroupOptionCode],[GroupOptionName]\n",
      "                                      ,[PredictTeam],[OptionCode],[SpecialBetValue],[OptionRate],[status],[gameType],[MarketType],[PredictDatetime],[CreatedTime]) VALUES\n",
      "                                      ('self.UserId','self.SportCode', 'self.EventType','114814557.0', 'self.SportTournamentCode','self.TournamentText','GroupOptionCode','GroupOption[GroupOptionCode]',\n",
      "                                       'Milwaukee Bucks','2','','1.52','self.status','gameType','self.MarketType','2022-02-09 11:27:44.000'\n",
      "                                      ,'2022-02-09 11:27:44.000') \n",
      "\n"
     ]
    }
   ],
   "source": [
    "for result in results:\n",
    "    game = nba_df_for_ML.loc[result[0]]\n",
    "    PredictTeam = game.homeAbbr if result[1]==1 else game.awayAbbr\n",
    "    OptionCode = 1 if result[1]==1 else 2\n",
    "    SpecialBetValue = ''\n",
    "    OptionRate = game.DB_HomeOdds if result[1]==1 else game.DB_AwayOdds\n",
    "    insert_sql = f'''INSERT INTO [dbo].[PredictMatch] ([UserId],[SportCode],[EventType],[EventCode],[TournamentCode],[TournamentText],[GroupOptionCode],[GroupOptionName]\n",
    "                                      ,[PredictTeam],[OptionCode],[SpecialBetValue],[OptionRate],[status],[gameType],[MarketType],[PredictDatetime],[CreatedTime]) VALUES\n",
    "                                      ('self.UserId','self.SportCode', 'self.EventType','{game.EventCode}', 'self.SportTournamentCode','self.TournamentText','GroupOptionCode','GroupOption[GroupOptionCode]',\n",
    "                                       '{PredictTeam}','{OptionCode}','{SpecialBetValue}','{OptionRate}','self.status','gameType','self.MarketType','{datetime.now().replace(microsecond=0).strftime(\"%Y-%m-%d %H:%M:%S.000\")}'\n",
    "                                      ,'{datetime.now().replace(microsecond=0).strftime(\"%Y-%m-%d %H:%M:%S.000\")}') '''\n",
    "    print(insert_sql)\n",
    "    print()"
   ],
   "metadata": {
    "collapsed": false,
    "pycharm": {
     "name": "#%%\n"
    }
   }
  },
  {
   "cell_type": "code",
   "execution_count": 70,
   "outputs": [
    {
     "data": {
      "text/plain": "     homeRslt     gmDate gmTime              homeAbbr  home_games  \\\n0           1 2021-10-19  19:30       Milwaukee Bucks           1   \n1           0 2021-10-19  22:00    Los Angeles Lakers           1   \n2           1 2021-10-20  19:00     Charlotte Hornets           1   \n3           0 2021-10-20  19:00       Detroit Pistons           1   \n4           1 2021-10-20  19:30       New York Knicks           1   \n..        ...        ...    ...                   ...         ...   \n796        -1 2022-02-09  08:40         Atlanta Hawks          52   \n797        -1 2022-02-09  11:10      Sacramento Kings          54   \n798        -1 2022-02-09  09:10  New Orleans Pelicans          52   \n799        -1 2022-02-09  11:00    Los Angeles Lakers          53   \n800        -1 2022-02-09  08:10    Philadelphia 76ers          54   \n\n     home1x2FirstOptionRate  home1x2LastOptionRate  home1x2FirstWinRate  \\\n0                      1.90                   1.80                50.00   \n1                      1.47                   1.62                65.17   \n2                      1.74                   2.05                55.27   \n3                      2.25                   2.80                42.75   \n4                      1.83                   1.68                52.22   \n..                      ...                    ...                  ...   \n796                    1.20                   1.20                79.83   \n797                    2.50                   2.50                38.73   \n798                    1.31                   1.31                73.32   \n799                    2.55                   2.67                38.11   \n800                    1.76                   1.76                54.40   \n\n     home1x2LastWinRate  home1x2KellyIndex  ... avg_homeFIC  avg_awayFIC  \\\n0                 53.25               0.95  ...       0.000        0.000   \n1                 59.70               0.96  ...       0.000        0.000   \n2                 46.75               0.96  ...       0.000        0.000   \n3                 34.12               0.98  ...       0.000        0.000   \n4                 57.25               0.94  ...       0.000        0.000   \n..                  ...                ...  ...         ...          ...   \n796               79.83               0.95  ...      90.325       82.000   \n797               38.73               0.98  ...      81.625      102.750   \n798               73.32               0.94  ...      82.225       76.200   \n799               36.28               0.99  ...      83.675      101.675   \n800               54.40               0.95  ...      85.750      102.125   \n\n     avg_homeEDiff  avg_awayEDiff  avg_homePlay_Percentage  \\\n0             0.00           0.00                 0.000000   \n1             0.00           0.00                 0.000000   \n2             0.00           0.00                 0.000000   \n3             0.00           0.00                 0.000000   \n4             0.00           0.00                 0.000000   \n..             ...            ...                      ...   \n796           5.18          -6.72                 0.467575   \n797          -3.46           5.90                 0.433021   \n798          -0.30         -12.14                 0.431497   \n799          -3.56           8.96                 0.441024   \n800           0.62           8.98                 0.468404   \n\n     avg_awayPlay_Percentage  avg_homeAR avg_awayAR  avg_homeDiffPTS  \\\n0                   0.000000    0.000000   0.000000              0.0   \n1                   0.000000    0.000000   0.000000              0.0   \n2                   0.000000    0.000000   0.000000              0.0   \n3                   0.000000    0.000000   0.000000              0.0   \n4                   0.000000    0.000000   0.000000              0.0   \n..                       ...         ...        ...              ...   \n796                 0.437087   22.051817  20.130670              5.2   \n797                 0.486952   21.261075  23.019380             -3.6   \n798                 0.422328   22.714375  22.027202             -0.2   \n799                 0.487110   21.004506  23.792848             -3.4   \n800                 0.500904   23.014570  25.087297              0.8   \n\n     avg_awayDiffPTS  \n0                0.0  \n1                0.0  \n2                0.0  \n3                0.0  \n4                0.0  \n..               ...  \n796             -6.4  \n797              5.8  \n798            -12.2  \n799              9.2  \n800              8.6  \n\n[801 rows x 101 columns]",
      "text/html": "<div>\n<style scoped>\n    .dataframe tbody tr th:only-of-type {\n        vertical-align: middle;\n    }\n\n    .dataframe tbody tr th {\n        vertical-align: top;\n    }\n\n    .dataframe thead th {\n        text-align: right;\n    }\n</style>\n<table border=\"1\" class=\"dataframe\">\n  <thead>\n    <tr style=\"text-align: right;\">\n      <th></th>\n      <th>homeRslt</th>\n      <th>gmDate</th>\n      <th>gmTime</th>\n      <th>homeAbbr</th>\n      <th>home_games</th>\n      <th>home1x2FirstOptionRate</th>\n      <th>home1x2LastOptionRate</th>\n      <th>home1x2FirstWinRate</th>\n      <th>home1x2LastWinRate</th>\n      <th>home1x2KellyIndex</th>\n      <th>...</th>\n      <th>avg_homeFIC</th>\n      <th>avg_awayFIC</th>\n      <th>avg_homeEDiff</th>\n      <th>avg_awayEDiff</th>\n      <th>avg_homePlay_Percentage</th>\n      <th>avg_awayPlay_Percentage</th>\n      <th>avg_homeAR</th>\n      <th>avg_awayAR</th>\n      <th>avg_homeDiffPTS</th>\n      <th>avg_awayDiffPTS</th>\n    </tr>\n  </thead>\n  <tbody>\n    <tr>\n      <th>0</th>\n      <td>1</td>\n      <td>2021-10-19</td>\n      <td>19:30</td>\n      <td>Milwaukee Bucks</td>\n      <td>1</td>\n      <td>1.90</td>\n      <td>1.80</td>\n      <td>50.00</td>\n      <td>53.25</td>\n      <td>0.95</td>\n      <td>...</td>\n      <td>0.000</td>\n      <td>0.000</td>\n      <td>0.00</td>\n      <td>0.00</td>\n      <td>0.000000</td>\n      <td>0.000000</td>\n      <td>0.000000</td>\n      <td>0.000000</td>\n      <td>0.0</td>\n      <td>0.0</td>\n    </tr>\n    <tr>\n      <th>1</th>\n      <td>0</td>\n      <td>2021-10-19</td>\n      <td>22:00</td>\n      <td>Los Angeles Lakers</td>\n      <td>1</td>\n      <td>1.47</td>\n      <td>1.62</td>\n      <td>65.17</td>\n      <td>59.70</td>\n      <td>0.96</td>\n      <td>...</td>\n      <td>0.000</td>\n      <td>0.000</td>\n      <td>0.00</td>\n      <td>0.00</td>\n      <td>0.000000</td>\n      <td>0.000000</td>\n      <td>0.000000</td>\n      <td>0.000000</td>\n      <td>0.0</td>\n      <td>0.0</td>\n    </tr>\n    <tr>\n      <th>2</th>\n      <td>1</td>\n      <td>2021-10-20</td>\n      <td>19:00</td>\n      <td>Charlotte Hornets</td>\n      <td>1</td>\n      <td>1.74</td>\n      <td>2.05</td>\n      <td>55.27</td>\n      <td>46.75</td>\n      <td>0.96</td>\n      <td>...</td>\n      <td>0.000</td>\n      <td>0.000</td>\n      <td>0.00</td>\n      <td>0.00</td>\n      <td>0.000000</td>\n      <td>0.000000</td>\n      <td>0.000000</td>\n      <td>0.000000</td>\n      <td>0.0</td>\n      <td>0.0</td>\n    </tr>\n    <tr>\n      <th>3</th>\n      <td>0</td>\n      <td>2021-10-20</td>\n      <td>19:00</td>\n      <td>Detroit Pistons</td>\n      <td>1</td>\n      <td>2.25</td>\n      <td>2.80</td>\n      <td>42.75</td>\n      <td>34.12</td>\n      <td>0.98</td>\n      <td>...</td>\n      <td>0.000</td>\n      <td>0.000</td>\n      <td>0.00</td>\n      <td>0.00</td>\n      <td>0.000000</td>\n      <td>0.000000</td>\n      <td>0.000000</td>\n      <td>0.000000</td>\n      <td>0.0</td>\n      <td>0.0</td>\n    </tr>\n    <tr>\n      <th>4</th>\n      <td>1</td>\n      <td>2021-10-20</td>\n      <td>19:30</td>\n      <td>New York Knicks</td>\n      <td>1</td>\n      <td>1.83</td>\n      <td>1.68</td>\n      <td>52.22</td>\n      <td>57.25</td>\n      <td>0.94</td>\n      <td>...</td>\n      <td>0.000</td>\n      <td>0.000</td>\n      <td>0.00</td>\n      <td>0.00</td>\n      <td>0.000000</td>\n      <td>0.000000</td>\n      <td>0.000000</td>\n      <td>0.000000</td>\n      <td>0.0</td>\n      <td>0.0</td>\n    </tr>\n    <tr>\n      <th>...</th>\n      <td>...</td>\n      <td>...</td>\n      <td>...</td>\n      <td>...</td>\n      <td>...</td>\n      <td>...</td>\n      <td>...</td>\n      <td>...</td>\n      <td>...</td>\n      <td>...</td>\n      <td>...</td>\n      <td>...</td>\n      <td>...</td>\n      <td>...</td>\n      <td>...</td>\n      <td>...</td>\n      <td>...</td>\n      <td>...</td>\n      <td>...</td>\n      <td>...</td>\n      <td>...</td>\n    </tr>\n    <tr>\n      <th>796</th>\n      <td>-1</td>\n      <td>2022-02-09</td>\n      <td>08:40</td>\n      <td>Atlanta Hawks</td>\n      <td>52</td>\n      <td>1.20</td>\n      <td>1.20</td>\n      <td>79.83</td>\n      <td>79.83</td>\n      <td>0.95</td>\n      <td>...</td>\n      <td>90.325</td>\n      <td>82.000</td>\n      <td>5.18</td>\n      <td>-6.72</td>\n      <td>0.467575</td>\n      <td>0.437087</td>\n      <td>22.051817</td>\n      <td>20.130670</td>\n      <td>5.2</td>\n      <td>-6.4</td>\n    </tr>\n    <tr>\n      <th>797</th>\n      <td>-1</td>\n      <td>2022-02-09</td>\n      <td>11:10</td>\n      <td>Sacramento Kings</td>\n      <td>54</td>\n      <td>2.50</td>\n      <td>2.50</td>\n      <td>38.73</td>\n      <td>38.73</td>\n      <td>0.98</td>\n      <td>...</td>\n      <td>81.625</td>\n      <td>102.750</td>\n      <td>-3.46</td>\n      <td>5.90</td>\n      <td>0.433021</td>\n      <td>0.486952</td>\n      <td>21.261075</td>\n      <td>23.019380</td>\n      <td>-3.6</td>\n      <td>5.8</td>\n    </tr>\n    <tr>\n      <th>798</th>\n      <td>-1</td>\n      <td>2022-02-09</td>\n      <td>09:10</td>\n      <td>New Orleans Pelicans</td>\n      <td>52</td>\n      <td>1.31</td>\n      <td>1.31</td>\n      <td>73.32</td>\n      <td>73.32</td>\n      <td>0.94</td>\n      <td>...</td>\n      <td>82.225</td>\n      <td>76.200</td>\n      <td>-0.30</td>\n      <td>-12.14</td>\n      <td>0.431497</td>\n      <td>0.422328</td>\n      <td>22.714375</td>\n      <td>22.027202</td>\n      <td>-0.2</td>\n      <td>-12.2</td>\n    </tr>\n    <tr>\n      <th>799</th>\n      <td>-1</td>\n      <td>2022-02-09</td>\n      <td>11:00</td>\n      <td>Los Angeles Lakers</td>\n      <td>53</td>\n      <td>2.55</td>\n      <td>2.67</td>\n      <td>38.11</td>\n      <td>36.28</td>\n      <td>0.99</td>\n      <td>...</td>\n      <td>83.675</td>\n      <td>101.675</td>\n      <td>-3.56</td>\n      <td>8.96</td>\n      <td>0.441024</td>\n      <td>0.487110</td>\n      <td>21.004506</td>\n      <td>23.792848</td>\n      <td>-3.4</td>\n      <td>9.2</td>\n    </tr>\n    <tr>\n      <th>800</th>\n      <td>-1</td>\n      <td>2022-02-09</td>\n      <td>08:10</td>\n      <td>Philadelphia 76ers</td>\n      <td>54</td>\n      <td>1.76</td>\n      <td>1.76</td>\n      <td>54.40</td>\n      <td>54.40</td>\n      <td>0.95</td>\n      <td>...</td>\n      <td>85.750</td>\n      <td>102.125</td>\n      <td>0.62</td>\n      <td>8.98</td>\n      <td>0.468404</td>\n      <td>0.500904</td>\n      <td>23.014570</td>\n      <td>25.087297</td>\n      <td>0.8</td>\n      <td>8.6</td>\n    </tr>\n  </tbody>\n</table>\n<p>801 rows × 101 columns</p>\n</div>"
     },
     "execution_count": 70,
     "metadata": {},
     "output_type": "execute_result"
    }
   ],
   "source": [],
   "metadata": {
    "collapsed": false,
    "pycharm": {
     "name": "#%%\n"
    }
   }
  },
  {
   "cell_type": "code",
   "execution_count": 85,
   "outputs": [
    {
     "data": {
      "text/plain": "     homeRslt     gmDate gmTime              homeAbbr  home_games  \\\n0           1 2021-10-19  19:30       Milwaukee Bucks           1   \n1           0 2021-10-19  22:00    Los Angeles Lakers           1   \n2           1 2021-10-20  19:00     Charlotte Hornets           1   \n3           0 2021-10-20  19:00       Detroit Pistons           1   \n4           1 2021-10-20  19:30       New York Knicks           1   \n..        ...        ...    ...                   ...         ...   \n796        -1 2022-02-09  08:40         Atlanta Hawks          52   \n797        -1 2022-02-09  11:10      Sacramento Kings          54   \n798        -1 2022-02-09  09:10  New Orleans Pelicans          52   \n799        -1 2022-02-09  11:00    Los Angeles Lakers          53   \n800        -1 2022-02-09  08:10    Philadelphia 76ers          54   \n\n     home1x2FirstOptionRate  home1x2LastOptionRate  home1x2FirstWinRate  \\\n0                      1.90                   1.80                50.00   \n1                      1.47                   1.62                65.17   \n2                      1.74                   2.05                55.27   \n3                      2.25                   2.80                42.75   \n4                      1.83                   1.68                52.22   \n..                      ...                    ...                  ...   \n796                    1.20                   1.20                79.83   \n797                    2.50                   2.50                38.73   \n798                    1.31                   1.31                73.32   \n799                    2.55                   2.67                38.11   \n800                    1.76                   1.76                54.40   \n\n     home1x2LastWinRate  home1x2KellyIndex  ... avg_homeFIC  avg_awayFIC  \\\n0                 53.25               0.95  ...       0.000        0.000   \n1                 59.70               0.96  ...       0.000        0.000   \n2                 46.75               0.96  ...       0.000        0.000   \n3                 34.12               0.98  ...       0.000        0.000   \n4                 57.25               0.94  ...       0.000        0.000   \n..                  ...                ...  ...         ...          ...   \n796               79.83               0.95  ...      90.325       82.000   \n797               38.73               0.98  ...      81.625      102.750   \n798               73.32               0.94  ...      82.225       76.200   \n799               36.28               0.99  ...      83.675      101.675   \n800               54.40               0.95  ...      85.750      102.125   \n\n     avg_homeEDiff  avg_awayEDiff  avg_homePlay_Percentage  \\\n0             0.00           0.00                 0.000000   \n1             0.00           0.00                 0.000000   \n2             0.00           0.00                 0.000000   \n3             0.00           0.00                 0.000000   \n4             0.00           0.00                 0.000000   \n..             ...            ...                      ...   \n796           5.18          -6.72                 0.467575   \n797          -3.46           5.90                 0.433021   \n798          -0.30         -12.14                 0.431497   \n799          -3.56           8.96                 0.441024   \n800           0.62           8.98                 0.468404   \n\n     avg_awayPlay_Percentage  avg_homeAR avg_awayAR  avg_homeDiffPTS  \\\n0                   0.000000    0.000000   0.000000              0.0   \n1                   0.000000    0.000000   0.000000              0.0   \n2                   0.000000    0.000000   0.000000              0.0   \n3                   0.000000    0.000000   0.000000              0.0   \n4                   0.000000    0.000000   0.000000              0.0   \n..                       ...         ...        ...              ...   \n796                 0.437087   22.051817  20.130670              5.2   \n797                 0.486952   21.261075  23.019380             -3.6   \n798                 0.422328   22.714375  22.027202             -0.2   \n799                 0.487110   21.004506  23.792848             -3.4   \n800                 0.500904   23.014570  25.087297              0.8   \n\n     avg_awayDiffPTS  \n0                0.0  \n1                0.0  \n2                0.0  \n3                0.0  \n4                0.0  \n..               ...  \n796             -6.4  \n797              5.8  \n798            -12.2  \n799              9.2  \n800              8.6  \n\n[801 rows x 101 columns]",
      "text/html": "<div>\n<style scoped>\n    .dataframe tbody tr th:only-of-type {\n        vertical-align: middle;\n    }\n\n    .dataframe tbody tr th {\n        vertical-align: top;\n    }\n\n    .dataframe thead th {\n        text-align: right;\n    }\n</style>\n<table border=\"1\" class=\"dataframe\">\n  <thead>\n    <tr style=\"text-align: right;\">\n      <th></th>\n      <th>homeRslt</th>\n      <th>gmDate</th>\n      <th>gmTime</th>\n      <th>homeAbbr</th>\n      <th>home_games</th>\n      <th>home1x2FirstOptionRate</th>\n      <th>home1x2LastOptionRate</th>\n      <th>home1x2FirstWinRate</th>\n      <th>home1x2LastWinRate</th>\n      <th>home1x2KellyIndex</th>\n      <th>...</th>\n      <th>avg_homeFIC</th>\n      <th>avg_awayFIC</th>\n      <th>avg_homeEDiff</th>\n      <th>avg_awayEDiff</th>\n      <th>avg_homePlay_Percentage</th>\n      <th>avg_awayPlay_Percentage</th>\n      <th>avg_homeAR</th>\n      <th>avg_awayAR</th>\n      <th>avg_homeDiffPTS</th>\n      <th>avg_awayDiffPTS</th>\n    </tr>\n  </thead>\n  <tbody>\n    <tr>\n      <th>0</th>\n      <td>1</td>\n      <td>2021-10-19</td>\n      <td>19:30</td>\n      <td>Milwaukee Bucks</td>\n      <td>1</td>\n      <td>1.90</td>\n      <td>1.80</td>\n      <td>50.00</td>\n      <td>53.25</td>\n      <td>0.95</td>\n      <td>...</td>\n      <td>0.000</td>\n      <td>0.000</td>\n      <td>0.00</td>\n      <td>0.00</td>\n      <td>0.000000</td>\n      <td>0.000000</td>\n      <td>0.000000</td>\n      <td>0.000000</td>\n      <td>0.0</td>\n      <td>0.0</td>\n    </tr>\n    <tr>\n      <th>1</th>\n      <td>0</td>\n      <td>2021-10-19</td>\n      <td>22:00</td>\n      <td>Los Angeles Lakers</td>\n      <td>1</td>\n      <td>1.47</td>\n      <td>1.62</td>\n      <td>65.17</td>\n      <td>59.70</td>\n      <td>0.96</td>\n      <td>...</td>\n      <td>0.000</td>\n      <td>0.000</td>\n      <td>0.00</td>\n      <td>0.00</td>\n      <td>0.000000</td>\n      <td>0.000000</td>\n      <td>0.000000</td>\n      <td>0.000000</td>\n      <td>0.0</td>\n      <td>0.0</td>\n    </tr>\n    <tr>\n      <th>2</th>\n      <td>1</td>\n      <td>2021-10-20</td>\n      <td>19:00</td>\n      <td>Charlotte Hornets</td>\n      <td>1</td>\n      <td>1.74</td>\n      <td>2.05</td>\n      <td>55.27</td>\n      <td>46.75</td>\n      <td>0.96</td>\n      <td>...</td>\n      <td>0.000</td>\n      <td>0.000</td>\n      <td>0.00</td>\n      <td>0.00</td>\n      <td>0.000000</td>\n      <td>0.000000</td>\n      <td>0.000000</td>\n      <td>0.000000</td>\n      <td>0.0</td>\n      <td>0.0</td>\n    </tr>\n    <tr>\n      <th>3</th>\n      <td>0</td>\n      <td>2021-10-20</td>\n      <td>19:00</td>\n      <td>Detroit Pistons</td>\n      <td>1</td>\n      <td>2.25</td>\n      <td>2.80</td>\n      <td>42.75</td>\n      <td>34.12</td>\n      <td>0.98</td>\n      <td>...</td>\n      <td>0.000</td>\n      <td>0.000</td>\n      <td>0.00</td>\n      <td>0.00</td>\n      <td>0.000000</td>\n      <td>0.000000</td>\n      <td>0.000000</td>\n      <td>0.000000</td>\n      <td>0.0</td>\n      <td>0.0</td>\n    </tr>\n    <tr>\n      <th>4</th>\n      <td>1</td>\n      <td>2021-10-20</td>\n      <td>19:30</td>\n      <td>New York Knicks</td>\n      <td>1</td>\n      <td>1.83</td>\n      <td>1.68</td>\n      <td>52.22</td>\n      <td>57.25</td>\n      <td>0.94</td>\n      <td>...</td>\n      <td>0.000</td>\n      <td>0.000</td>\n      <td>0.00</td>\n      <td>0.00</td>\n      <td>0.000000</td>\n      <td>0.000000</td>\n      <td>0.000000</td>\n      <td>0.000000</td>\n      <td>0.0</td>\n      <td>0.0</td>\n    </tr>\n    <tr>\n      <th>...</th>\n      <td>...</td>\n      <td>...</td>\n      <td>...</td>\n      <td>...</td>\n      <td>...</td>\n      <td>...</td>\n      <td>...</td>\n      <td>...</td>\n      <td>...</td>\n      <td>...</td>\n      <td>...</td>\n      <td>...</td>\n      <td>...</td>\n      <td>...</td>\n      <td>...</td>\n      <td>...</td>\n      <td>...</td>\n      <td>...</td>\n      <td>...</td>\n      <td>...</td>\n      <td>...</td>\n    </tr>\n    <tr>\n      <th>796</th>\n      <td>-1</td>\n      <td>2022-02-09</td>\n      <td>08:40</td>\n      <td>Atlanta Hawks</td>\n      <td>52</td>\n      <td>1.20</td>\n      <td>1.20</td>\n      <td>79.83</td>\n      <td>79.83</td>\n      <td>0.95</td>\n      <td>...</td>\n      <td>90.325</td>\n      <td>82.000</td>\n      <td>5.18</td>\n      <td>-6.72</td>\n      <td>0.467575</td>\n      <td>0.437087</td>\n      <td>22.051817</td>\n      <td>20.130670</td>\n      <td>5.2</td>\n      <td>-6.4</td>\n    </tr>\n    <tr>\n      <th>797</th>\n      <td>-1</td>\n      <td>2022-02-09</td>\n      <td>11:10</td>\n      <td>Sacramento Kings</td>\n      <td>54</td>\n      <td>2.50</td>\n      <td>2.50</td>\n      <td>38.73</td>\n      <td>38.73</td>\n      <td>0.98</td>\n      <td>...</td>\n      <td>81.625</td>\n      <td>102.750</td>\n      <td>-3.46</td>\n      <td>5.90</td>\n      <td>0.433021</td>\n      <td>0.486952</td>\n      <td>21.261075</td>\n      <td>23.019380</td>\n      <td>-3.6</td>\n      <td>5.8</td>\n    </tr>\n    <tr>\n      <th>798</th>\n      <td>-1</td>\n      <td>2022-02-09</td>\n      <td>09:10</td>\n      <td>New Orleans Pelicans</td>\n      <td>52</td>\n      <td>1.31</td>\n      <td>1.31</td>\n      <td>73.32</td>\n      <td>73.32</td>\n      <td>0.94</td>\n      <td>...</td>\n      <td>82.225</td>\n      <td>76.200</td>\n      <td>-0.30</td>\n      <td>-12.14</td>\n      <td>0.431497</td>\n      <td>0.422328</td>\n      <td>22.714375</td>\n      <td>22.027202</td>\n      <td>-0.2</td>\n      <td>-12.2</td>\n    </tr>\n    <tr>\n      <th>799</th>\n      <td>-1</td>\n      <td>2022-02-09</td>\n      <td>11:00</td>\n      <td>Los Angeles Lakers</td>\n      <td>53</td>\n      <td>2.55</td>\n      <td>2.67</td>\n      <td>38.11</td>\n      <td>36.28</td>\n      <td>0.99</td>\n      <td>...</td>\n      <td>83.675</td>\n      <td>101.675</td>\n      <td>-3.56</td>\n      <td>8.96</td>\n      <td>0.441024</td>\n      <td>0.487110</td>\n      <td>21.004506</td>\n      <td>23.792848</td>\n      <td>-3.4</td>\n      <td>9.2</td>\n    </tr>\n    <tr>\n      <th>800</th>\n      <td>-1</td>\n      <td>2022-02-09</td>\n      <td>08:10</td>\n      <td>Philadelphia 76ers</td>\n      <td>54</td>\n      <td>1.76</td>\n      <td>1.76</td>\n      <td>54.40</td>\n      <td>54.40</td>\n      <td>0.95</td>\n      <td>...</td>\n      <td>85.750</td>\n      <td>102.125</td>\n      <td>0.62</td>\n      <td>8.98</td>\n      <td>0.468404</td>\n      <td>0.500904</td>\n      <td>23.014570</td>\n      <td>25.087297</td>\n      <td>0.8</td>\n      <td>8.6</td>\n    </tr>\n  </tbody>\n</table>\n<p>801 rows × 101 columns</p>\n</div>"
     },
     "execution_count": 85,
     "metadata": {},
     "output_type": "execute_result"
    }
   ],
   "source": [
    "nba_df_for_ML"
   ],
   "metadata": {
    "collapsed": false,
    "pycharm": {
     "name": "#%%\n"
    }
   }
  },
  {
   "cell_type": "code",
   "execution_count": null,
   "outputs": [],
   "source": [],
   "metadata": {
    "collapsed": false,
    "pycharm": {
     "name": "#%%\n"
    }
   }
  }
 ],
 "metadata": {
  "kernelspec": {
   "display_name": "Python 3",
   "language": "python",
   "name": "python3"
  },
  "language_info": {
   "codemirror_mode": {
    "name": "ipython",
    "version": 2
   },
   "file_extension": ".py",
   "mimetype": "text/x-python",
   "name": "python",
   "nbconvert_exporter": "python",
   "pygments_lexer": "ipython2",
   "version": "2.7.6"
  }
 },
 "nbformat": 4,
 "nbformat_minor": 0
}