{
 "cells": [
  {
   "cell_type": "code",
   "execution_count": 1,
   "metadata": {
    "collapsed": true
   },
   "outputs": [],
   "source": [
    "import numpy as np\n",
    "import pandas as pd\n",
    "from datetime import datetime\n",
    "import warnings\n",
    "warnings.filterwarnings(\"ignore\", category=UserWarning)"
   ]
  },
  {
   "cell_type": "markdown",
   "source": [
    " # 載入資料與資料清理"
   ],
   "metadata": {
    "collapsed": false,
    "pycharm": {
     "name": "#%% md\n"
    }
   }
  },
  {
   "cell_type": "code",
   "execution_count": 2,
   "outputs": [
    {
     "name": "stdout",
     "output_type": "stream",
     "text": [
      "(16814, 119)\n"
     ]
    },
    {
     "data": {
      "text/plain": "           gmDate gmTime seasType  offLNm1  offFNm1  offLNm2  offFNm2  \\\n3193   2015/12/18  22:30  Regular      NaN      NaN      NaN      NaN   \n9161   2018/03/09  19:30  Regular      NaN      NaN      NaN      NaN   \n14576  2021/02/06  20:00  Regular      NaN      NaN      NaN      NaN   \n9824   2018/10/31  22:30  Regular      NaN      NaN      NaN      NaN   \n9990   2018/11/12  20:00  Regular      NaN      NaN      NaN      NaN   \n\n       OffLNm3  offFNm3               teamAbbr  ...  opptFIC opptFIC40  \\\n3193       NaN      NaN  Golden State Warriors  ...      NaN       NaN   \n9161       NaN      NaN        Toronto Raptors  ...      NaN       NaN   \n14576      NaN      NaN      San Antonio Spurs  ...      NaN       NaN   \n9824       NaN      NaN      San Antonio Spurs  ...      NaN       NaN   \n9990       NaN      NaN       Dallas Mavericks  ...      NaN       NaN   \n\n      opptOrtg  opptDrtg  opptEDiff  opptPlay_RATE  opptAR  \\\n3193     111.2     120.1        NaN            NaN     NaN   \n9161     111.9     115.1        NaN            NaN     NaN   \n14576    102.9     107.8        NaN            NaN     NaN   \n9824      88.2     117.6        NaN            NaN     NaN   \n9990      94.2      99.0        NaN            NaN     NaN   \n\n       opptASTDividedByTO  opptSTLDividedByTO  opptFouls  \n3193                 1.56               37.50         29  \n9161                 1.15               69.23         13  \n14576                1.75               41.67         25  \n9824                 1.40               66.67         26  \n9990                 0.94               64.71         26  \n\n[5 rows x 119 columns]",
      "text/html": "<div>\n<style scoped>\n    .dataframe tbody tr th:only-of-type {\n        vertical-align: middle;\n    }\n\n    .dataframe tbody tr th {\n        vertical-align: top;\n    }\n\n    .dataframe thead th {\n        text-align: right;\n    }\n</style>\n<table border=\"1\" class=\"dataframe\">\n  <thead>\n    <tr style=\"text-align: right;\">\n      <th></th>\n      <th>gmDate</th>\n      <th>gmTime</th>\n      <th>seasType</th>\n      <th>offLNm1</th>\n      <th>offFNm1</th>\n      <th>offLNm2</th>\n      <th>offFNm2</th>\n      <th>OffLNm3</th>\n      <th>offFNm3</th>\n      <th>teamAbbr</th>\n      <th>...</th>\n      <th>opptFIC</th>\n      <th>opptFIC40</th>\n      <th>opptOrtg</th>\n      <th>opptDrtg</th>\n      <th>opptEDiff</th>\n      <th>opptPlay_RATE</th>\n      <th>opptAR</th>\n      <th>opptASTDividedByTO</th>\n      <th>opptSTLDividedByTO</th>\n      <th>opptFouls</th>\n    </tr>\n  </thead>\n  <tbody>\n    <tr>\n      <th>3193</th>\n      <td>2015/12/18</td>\n      <td>22:30</td>\n      <td>Regular</td>\n      <td>NaN</td>\n      <td>NaN</td>\n      <td>NaN</td>\n      <td>NaN</td>\n      <td>NaN</td>\n      <td>NaN</td>\n      <td>Golden State Warriors</td>\n      <td>...</td>\n      <td>NaN</td>\n      <td>NaN</td>\n      <td>111.2</td>\n      <td>120.1</td>\n      <td>NaN</td>\n      <td>NaN</td>\n      <td>NaN</td>\n      <td>1.56</td>\n      <td>37.50</td>\n      <td>29</td>\n    </tr>\n    <tr>\n      <th>9161</th>\n      <td>2018/03/09</td>\n      <td>19:30</td>\n      <td>Regular</td>\n      <td>NaN</td>\n      <td>NaN</td>\n      <td>NaN</td>\n      <td>NaN</td>\n      <td>NaN</td>\n      <td>NaN</td>\n      <td>Toronto Raptors</td>\n      <td>...</td>\n      <td>NaN</td>\n      <td>NaN</td>\n      <td>111.9</td>\n      <td>115.1</td>\n      <td>NaN</td>\n      <td>NaN</td>\n      <td>NaN</td>\n      <td>1.15</td>\n      <td>69.23</td>\n      <td>13</td>\n    </tr>\n    <tr>\n      <th>14576</th>\n      <td>2021/02/06</td>\n      <td>20:00</td>\n      <td>Regular</td>\n      <td>NaN</td>\n      <td>NaN</td>\n      <td>NaN</td>\n      <td>NaN</td>\n      <td>NaN</td>\n      <td>NaN</td>\n      <td>San Antonio Spurs</td>\n      <td>...</td>\n      <td>NaN</td>\n      <td>NaN</td>\n      <td>102.9</td>\n      <td>107.8</td>\n      <td>NaN</td>\n      <td>NaN</td>\n      <td>NaN</td>\n      <td>1.75</td>\n      <td>41.67</td>\n      <td>25</td>\n    </tr>\n    <tr>\n      <th>9824</th>\n      <td>2018/10/31</td>\n      <td>22:30</td>\n      <td>Regular</td>\n      <td>NaN</td>\n      <td>NaN</td>\n      <td>NaN</td>\n      <td>NaN</td>\n      <td>NaN</td>\n      <td>NaN</td>\n      <td>San Antonio Spurs</td>\n      <td>...</td>\n      <td>NaN</td>\n      <td>NaN</td>\n      <td>88.2</td>\n      <td>117.6</td>\n      <td>NaN</td>\n      <td>NaN</td>\n      <td>NaN</td>\n      <td>1.40</td>\n      <td>66.67</td>\n      <td>26</td>\n    </tr>\n    <tr>\n      <th>9990</th>\n      <td>2018/11/12</td>\n      <td>20:00</td>\n      <td>Regular</td>\n      <td>NaN</td>\n      <td>NaN</td>\n      <td>NaN</td>\n      <td>NaN</td>\n      <td>NaN</td>\n      <td>NaN</td>\n      <td>Dallas Mavericks</td>\n      <td>...</td>\n      <td>NaN</td>\n      <td>NaN</td>\n      <td>94.2</td>\n      <td>99.0</td>\n      <td>NaN</td>\n      <td>NaN</td>\n      <td>NaN</td>\n      <td>0.94</td>\n      <td>64.71</td>\n      <td>26</td>\n    </tr>\n  </tbody>\n</table>\n<p>5 rows × 119 columns</p>\n</div>"
     },
     "execution_count": 2,
     "metadata": {},
     "output_type": "execute_result"
    }
   ],
   "source": [
    "nba_df = pd.DataFrame([])\n",
    "for year in range(2014,2022):\n",
    "    nba_df = pd.concat([nba_df,pd.read_csv(f\"NBA_DATA3-5/{year}_TeamGameStats.csv\")],ignore_index=True)\n",
    "print(nba_df.shape)\n",
    "nba_df.sample(5)"
   ],
   "metadata": {
    "collapsed": false,
    "pycharm": {
     "name": "#%%\n"
    }
   }
  },
  {
   "cell_type": "code",
   "execution_count": 3,
   "outputs": [
    {
     "data": {
      "text/plain": "           gmDate gmTime seasType                teamAbbr teamLoc teamRslt  \\\n0      2014/10/28  20:00  Regular           Orlando Magic    Away     Loss   \n1      2014/10/28  20:00  Regular    New Orleans Pelicans    Home      Win   \n2      2014/10/28  20:00  Regular        Dallas Mavericks    Away     Loss   \n3      2014/10/28  20:00  Regular       San Antonio Spurs    Home      Win   \n4      2014/10/28  22:30  Regular         Houston Rockets    Away      Win   \n...           ...    ...      ...                     ...     ...      ...   \n16809  2022/01/03  22:00  Regular  Portland Trail Blazers    Home      Win   \n16810  2022/01/03  22:30  Regular  Minnesota Timberwolves    Away      Win   \n16811  2022/01/03  22:30  Regular    Los Angeles Clippers    Home     Loss   \n16812  2022/01/04  19:00  Regular       Memphis Grizzlies    Away      Win   \n16813  2022/01/04  19:00  Regular     Cleveland Cavaliers    Home     Loss   \n\n       teamMin  teamPTS  teamAST  teamTO  ...  opptOREB_RATE  opptDREB_RATE  \\\n0          240       84       17      18  ...           39.4           69.2   \n1          240      101       20       9  ...           30.8           60.6   \n2          240      100       17      10  ...           27.3           76.3   \n3          240      101       23      20  ...           23.7           72.7   \n4          240      108       22      13  ...           25.0           64.1   \n...        ...      ...      ...     ...  ...            ...            ...   \n16809      240      136       29       9  ...           23.7           71.4   \n16810      240      122       34      17  ...           12.1           71.1   \n16811      240      104       22      20  ...           28.9           87.9   \n16812      240      110       21       9  ...           29.8           74.5   \n16813      240      106       28      11  ...           25.5           70.2   \n\n       opptTO_RATE  opptSTL_RATE  opptBLK_RATE  opptOrtg  opptDrtg  \\\n0              7.3          10.5          23.3     106.1      88.2   \n1             16.2           5.3          10.7      88.2     106.1   \n2             20.6           5.8           5.3     117.3     116.1   \n3             10.4          10.5           7.1     116.1     117.3   \n4             10.3           7.7           6.8      99.0     118.8   \n...            ...           ...           ...       ...       ...   \n16809         10.9           6.1           2.1     133.8     138.9   \n16810         19.0          12.0           6.3     104.1     122.2   \n16811         14.9           9.0           8.7     122.2     104.1   \n16812          9.8           2.1           9.5     111.9     116.1   \n16813          8.3           6.3          13.8     116.1     111.9   \n\n       opptASTDividedByTO  opptSTLDividedByTO  opptFouls  \n0                    2.22              111.11         17  \n1                    0.94               27.78         25  \n2                    1.15               25.00         20  \n3                    1.70               90.00         20  \n4                    1.45               63.64         32  \n...                   ...                 ...        ...  \n16809                2.58               50.00         24  \n16810                1.10               60.00         10  \n16811                2.00               52.94         14  \n16812                2.55               18.18         14  \n16813                2.33               66.67         18  \n\n[16814 rows x 73 columns]",
      "text/html": "<div>\n<style scoped>\n    .dataframe tbody tr th:only-of-type {\n        vertical-align: middle;\n    }\n\n    .dataframe tbody tr th {\n        vertical-align: top;\n    }\n\n    .dataframe thead th {\n        text-align: right;\n    }\n</style>\n<table border=\"1\" class=\"dataframe\">\n  <thead>\n    <tr style=\"text-align: right;\">\n      <th></th>\n      <th>gmDate</th>\n      <th>gmTime</th>\n      <th>seasType</th>\n      <th>teamAbbr</th>\n      <th>teamLoc</th>\n      <th>teamRslt</th>\n      <th>teamMin</th>\n      <th>teamPTS</th>\n      <th>teamAST</th>\n      <th>teamTO</th>\n      <th>...</th>\n      <th>opptOREB_RATE</th>\n      <th>opptDREB_RATE</th>\n      <th>opptTO_RATE</th>\n      <th>opptSTL_RATE</th>\n      <th>opptBLK_RATE</th>\n      <th>opptOrtg</th>\n      <th>opptDrtg</th>\n      <th>opptASTDividedByTO</th>\n      <th>opptSTLDividedByTO</th>\n      <th>opptFouls</th>\n    </tr>\n  </thead>\n  <tbody>\n    <tr>\n      <th>0</th>\n      <td>2014/10/28</td>\n      <td>20:00</td>\n      <td>Regular</td>\n      <td>Orlando Magic</td>\n      <td>Away</td>\n      <td>Loss</td>\n      <td>240</td>\n      <td>84</td>\n      <td>17</td>\n      <td>18</td>\n      <td>...</td>\n      <td>39.4</td>\n      <td>69.2</td>\n      <td>7.3</td>\n      <td>10.5</td>\n      <td>23.3</td>\n      <td>106.1</td>\n      <td>88.2</td>\n      <td>2.22</td>\n      <td>111.11</td>\n      <td>17</td>\n    </tr>\n    <tr>\n      <th>1</th>\n      <td>2014/10/28</td>\n      <td>20:00</td>\n      <td>Regular</td>\n      <td>New Orleans Pelicans</td>\n      <td>Home</td>\n      <td>Win</td>\n      <td>240</td>\n      <td>101</td>\n      <td>20</td>\n      <td>9</td>\n      <td>...</td>\n      <td>30.8</td>\n      <td>60.6</td>\n      <td>16.2</td>\n      <td>5.3</td>\n      <td>10.7</td>\n      <td>88.2</td>\n      <td>106.1</td>\n      <td>0.94</td>\n      <td>27.78</td>\n      <td>25</td>\n    </tr>\n    <tr>\n      <th>2</th>\n      <td>2014/10/28</td>\n      <td>20:00</td>\n      <td>Regular</td>\n      <td>Dallas Mavericks</td>\n      <td>Away</td>\n      <td>Loss</td>\n      <td>240</td>\n      <td>100</td>\n      <td>17</td>\n      <td>10</td>\n      <td>...</td>\n      <td>27.3</td>\n      <td>76.3</td>\n      <td>20.6</td>\n      <td>5.8</td>\n      <td>5.3</td>\n      <td>117.3</td>\n      <td>116.1</td>\n      <td>1.15</td>\n      <td>25.00</td>\n      <td>20</td>\n    </tr>\n    <tr>\n      <th>3</th>\n      <td>2014/10/28</td>\n      <td>20:00</td>\n      <td>Regular</td>\n      <td>San Antonio Spurs</td>\n      <td>Home</td>\n      <td>Win</td>\n      <td>240</td>\n      <td>101</td>\n      <td>23</td>\n      <td>20</td>\n      <td>...</td>\n      <td>23.7</td>\n      <td>72.7</td>\n      <td>10.4</td>\n      <td>10.5</td>\n      <td>7.1</td>\n      <td>116.1</td>\n      <td>117.3</td>\n      <td>1.70</td>\n      <td>90.00</td>\n      <td>20</td>\n    </tr>\n    <tr>\n      <th>4</th>\n      <td>2014/10/28</td>\n      <td>22:30</td>\n      <td>Regular</td>\n      <td>Houston Rockets</td>\n      <td>Away</td>\n      <td>Win</td>\n      <td>240</td>\n      <td>108</td>\n      <td>22</td>\n      <td>13</td>\n      <td>...</td>\n      <td>25.0</td>\n      <td>64.1</td>\n      <td>10.3</td>\n      <td>7.7</td>\n      <td>6.8</td>\n      <td>99.0</td>\n      <td>118.8</td>\n      <td>1.45</td>\n      <td>63.64</td>\n      <td>32</td>\n    </tr>\n    <tr>\n      <th>...</th>\n      <td>...</td>\n      <td>...</td>\n      <td>...</td>\n      <td>...</td>\n      <td>...</td>\n      <td>...</td>\n      <td>...</td>\n      <td>...</td>\n      <td>...</td>\n      <td>...</td>\n      <td>...</td>\n      <td>...</td>\n      <td>...</td>\n      <td>...</td>\n      <td>...</td>\n      <td>...</td>\n      <td>...</td>\n      <td>...</td>\n      <td>...</td>\n      <td>...</td>\n      <td>...</td>\n    </tr>\n    <tr>\n      <th>16809</th>\n      <td>2022/01/03</td>\n      <td>22:00</td>\n      <td>Regular</td>\n      <td>Portland Trail Blazers</td>\n      <td>Home</td>\n      <td>Win</td>\n      <td>240</td>\n      <td>136</td>\n      <td>29</td>\n      <td>9</td>\n      <td>...</td>\n      <td>23.7</td>\n      <td>71.4</td>\n      <td>10.9</td>\n      <td>6.1</td>\n      <td>2.1</td>\n      <td>133.8</td>\n      <td>138.9</td>\n      <td>2.58</td>\n      <td>50.00</td>\n      <td>24</td>\n    </tr>\n    <tr>\n      <th>16810</th>\n      <td>2022/01/03</td>\n      <td>22:30</td>\n      <td>Regular</td>\n      <td>Minnesota Timberwolves</td>\n      <td>Away</td>\n      <td>Win</td>\n      <td>240</td>\n      <td>122</td>\n      <td>34</td>\n      <td>17</td>\n      <td>...</td>\n      <td>12.1</td>\n      <td>71.1</td>\n      <td>19.0</td>\n      <td>12.0</td>\n      <td>6.3</td>\n      <td>104.1</td>\n      <td>122.2</td>\n      <td>1.10</td>\n      <td>60.00</td>\n      <td>10</td>\n    </tr>\n    <tr>\n      <th>16811</th>\n      <td>2022/01/03</td>\n      <td>22:30</td>\n      <td>Regular</td>\n      <td>Los Angeles Clippers</td>\n      <td>Home</td>\n      <td>Loss</td>\n      <td>240</td>\n      <td>104</td>\n      <td>22</td>\n      <td>20</td>\n      <td>...</td>\n      <td>28.9</td>\n      <td>87.9</td>\n      <td>14.9</td>\n      <td>9.0</td>\n      <td>8.7</td>\n      <td>122.2</td>\n      <td>104.1</td>\n      <td>2.00</td>\n      <td>52.94</td>\n      <td>14</td>\n    </tr>\n    <tr>\n      <th>16812</th>\n      <td>2022/01/04</td>\n      <td>19:00</td>\n      <td>Regular</td>\n      <td>Memphis Grizzlies</td>\n      <td>Away</td>\n      <td>Win</td>\n      <td>240</td>\n      <td>110</td>\n      <td>21</td>\n      <td>9</td>\n      <td>...</td>\n      <td>29.8</td>\n      <td>74.5</td>\n      <td>9.8</td>\n      <td>2.1</td>\n      <td>9.5</td>\n      <td>111.9</td>\n      <td>116.1</td>\n      <td>2.55</td>\n      <td>18.18</td>\n      <td>14</td>\n    </tr>\n    <tr>\n      <th>16813</th>\n      <td>2022/01/04</td>\n      <td>19:00</td>\n      <td>Regular</td>\n      <td>Cleveland Cavaliers</td>\n      <td>Home</td>\n      <td>Loss</td>\n      <td>240</td>\n      <td>106</td>\n      <td>28</td>\n      <td>11</td>\n      <td>...</td>\n      <td>25.5</td>\n      <td>70.2</td>\n      <td>8.3</td>\n      <td>6.3</td>\n      <td>13.8</td>\n      <td>116.1</td>\n      <td>111.9</td>\n      <td>2.33</td>\n      <td>66.67</td>\n      <td>18</td>\n    </tr>\n  </tbody>\n</table>\n<p>16814 rows × 73 columns</p>\n</div>"
     },
     "execution_count": 3,
     "metadata": {},
     "output_type": "execute_result"
    }
   ],
   "source": [
    "# 刪除空的資料\n",
    "cols_with_missing = [col for col in nba_df.columns if nba_df[col].isnull().any()]\n",
    "nba_df.drop(cols_with_missing, axis=1, inplace=True)\n",
    "nba_df"
   ],
   "metadata": {
    "collapsed": false,
    "pycharm": {
     "name": "#%%\n"
    }
   }
  },
  {
   "cell_type": "code",
   "execution_count": 4,
   "outputs": [
    {
     "data": {
      "text/plain": "           gmDate gmTime                teamAbbr teamLoc teamRslt  teamPTS  \\\n0      2014/10/28  20:00           Orlando Magic    Away     Loss       84   \n1      2014/10/28  20:00    New Orleans Pelicans    Home      Win      101   \n2      2014/10/28  20:00        Dallas Mavericks    Away     Loss      100   \n3      2014/10/28  20:00       San Antonio Spurs    Home      Win      101   \n4      2014/10/28  22:30         Houston Rockets    Away      Win      108   \n...           ...    ...                     ...     ...      ...      ...   \n16809  2022/01/03  22:00  Portland Trail Blazers    Home      Win      136   \n16810  2022/01/03  22:30  Minnesota Timberwolves    Away      Win      122   \n16811  2022/01/03  22:30    Los Angeles Clippers    Home     Loss      104   \n16812  2022/01/04  19:00       Memphis Grizzlies    Away      Win      110   \n16813  2022/01/04  19:00     Cleveland Cavaliers    Home     Loss      106   \n\n       teamAST  teamTO  teamSTL  teamBLK  ...  opptOREB_RATE  opptDREB_RATE  \\\n0           17      18        5        9  ...           39.4           69.2   \n1           20       9       10       17  ...           30.8           60.6   \n2           17      10        9        3  ...           27.3           76.3   \n3           23      20        5        3  ...           23.7           72.7   \n4           22      13        7        3  ...           25.0           64.1   \n...        ...     ...      ...      ...  ...            ...            ...   \n16809       29       9       10        3  ...           23.7           71.4   \n16810       34      17        9        4  ...           12.1           71.1   \n16811       22      20       12        3  ...           28.9           87.9   \n16812       21       9        6        8  ...           29.8           74.5   \n16813       28      11        2        6  ...           25.5           70.2   \n\n       opptTO_RATE  opptSTL_RATE  opptBLK_RATE  opptOrtg  opptDrtg  \\\n0              7.3          10.5          23.3     106.1      88.2   \n1             16.2           5.3          10.7      88.2     106.1   \n2             20.6           5.8           5.3     117.3     116.1   \n3             10.4          10.5           7.1     116.1     117.3   \n4             10.3           7.7           6.8      99.0     118.8   \n...            ...           ...           ...       ...       ...   \n16809         10.9           6.1           2.1     133.8     138.9   \n16810         19.0          12.0           6.3     104.1     122.2   \n16811         14.9           9.0           8.7     122.2     104.1   \n16812          9.8           2.1           9.5     111.9     116.1   \n16813          8.3           6.3          13.8     116.1     111.9   \n\n       opptASTDividedByTO  opptSTLDividedByTO  opptFouls  \n0                    2.22              111.11         17  \n1                    0.94               27.78         25  \n2                    1.15               25.00         20  \n3                    1.70               90.00         20  \n4                    1.45               63.64         32  \n...                   ...                 ...        ...  \n16809                2.58               50.00         24  \n16810                1.10               60.00         10  \n16811                2.00               52.94         14  \n16812                2.55               18.18         14  \n16813                2.33               66.67         18  \n\n[16814 rows x 68 columns]",
      "text/html": "<div>\n<style scoped>\n    .dataframe tbody tr th:only-of-type {\n        vertical-align: middle;\n    }\n\n    .dataframe tbody tr th {\n        vertical-align: top;\n    }\n\n    .dataframe thead th {\n        text-align: right;\n    }\n</style>\n<table border=\"1\" class=\"dataframe\">\n  <thead>\n    <tr style=\"text-align: right;\">\n      <th></th>\n      <th>gmDate</th>\n      <th>gmTime</th>\n      <th>teamAbbr</th>\n      <th>teamLoc</th>\n      <th>teamRslt</th>\n      <th>teamPTS</th>\n      <th>teamAST</th>\n      <th>teamTO</th>\n      <th>teamSTL</th>\n      <th>teamBLK</th>\n      <th>...</th>\n      <th>opptOREB_RATE</th>\n      <th>opptDREB_RATE</th>\n      <th>opptTO_RATE</th>\n      <th>opptSTL_RATE</th>\n      <th>opptBLK_RATE</th>\n      <th>opptOrtg</th>\n      <th>opptDrtg</th>\n      <th>opptASTDividedByTO</th>\n      <th>opptSTLDividedByTO</th>\n      <th>opptFouls</th>\n    </tr>\n  </thead>\n  <tbody>\n    <tr>\n      <th>0</th>\n      <td>2014/10/28</td>\n      <td>20:00</td>\n      <td>Orlando Magic</td>\n      <td>Away</td>\n      <td>Loss</td>\n      <td>84</td>\n      <td>17</td>\n      <td>18</td>\n      <td>5</td>\n      <td>9</td>\n      <td>...</td>\n      <td>39.4</td>\n      <td>69.2</td>\n      <td>7.3</td>\n      <td>10.5</td>\n      <td>23.3</td>\n      <td>106.1</td>\n      <td>88.2</td>\n      <td>2.22</td>\n      <td>111.11</td>\n      <td>17</td>\n    </tr>\n    <tr>\n      <th>1</th>\n      <td>2014/10/28</td>\n      <td>20:00</td>\n      <td>New Orleans Pelicans</td>\n      <td>Home</td>\n      <td>Win</td>\n      <td>101</td>\n      <td>20</td>\n      <td>9</td>\n      <td>10</td>\n      <td>17</td>\n      <td>...</td>\n      <td>30.8</td>\n      <td>60.6</td>\n      <td>16.2</td>\n      <td>5.3</td>\n      <td>10.7</td>\n      <td>88.2</td>\n      <td>106.1</td>\n      <td>0.94</td>\n      <td>27.78</td>\n      <td>25</td>\n    </tr>\n    <tr>\n      <th>2</th>\n      <td>2014/10/28</td>\n      <td>20:00</td>\n      <td>Dallas Mavericks</td>\n      <td>Away</td>\n      <td>Loss</td>\n      <td>100</td>\n      <td>17</td>\n      <td>10</td>\n      <td>9</td>\n      <td>3</td>\n      <td>...</td>\n      <td>27.3</td>\n      <td>76.3</td>\n      <td>20.6</td>\n      <td>5.8</td>\n      <td>5.3</td>\n      <td>117.3</td>\n      <td>116.1</td>\n      <td>1.15</td>\n      <td>25.00</td>\n      <td>20</td>\n    </tr>\n    <tr>\n      <th>3</th>\n      <td>2014/10/28</td>\n      <td>20:00</td>\n      <td>San Antonio Spurs</td>\n      <td>Home</td>\n      <td>Win</td>\n      <td>101</td>\n      <td>23</td>\n      <td>20</td>\n      <td>5</td>\n      <td>3</td>\n      <td>...</td>\n      <td>23.7</td>\n      <td>72.7</td>\n      <td>10.4</td>\n      <td>10.5</td>\n      <td>7.1</td>\n      <td>116.1</td>\n      <td>117.3</td>\n      <td>1.70</td>\n      <td>90.00</td>\n      <td>20</td>\n    </tr>\n    <tr>\n      <th>4</th>\n      <td>2014/10/28</td>\n      <td>22:30</td>\n      <td>Houston Rockets</td>\n      <td>Away</td>\n      <td>Win</td>\n      <td>108</td>\n      <td>22</td>\n      <td>13</td>\n      <td>7</td>\n      <td>3</td>\n      <td>...</td>\n      <td>25.0</td>\n      <td>64.1</td>\n      <td>10.3</td>\n      <td>7.7</td>\n      <td>6.8</td>\n      <td>99.0</td>\n      <td>118.8</td>\n      <td>1.45</td>\n      <td>63.64</td>\n      <td>32</td>\n    </tr>\n    <tr>\n      <th>...</th>\n      <td>...</td>\n      <td>...</td>\n      <td>...</td>\n      <td>...</td>\n      <td>...</td>\n      <td>...</td>\n      <td>...</td>\n      <td>...</td>\n      <td>...</td>\n      <td>...</td>\n      <td>...</td>\n      <td>...</td>\n      <td>...</td>\n      <td>...</td>\n      <td>...</td>\n      <td>...</td>\n      <td>...</td>\n      <td>...</td>\n      <td>...</td>\n      <td>...</td>\n      <td>...</td>\n    </tr>\n    <tr>\n      <th>16809</th>\n      <td>2022/01/03</td>\n      <td>22:00</td>\n      <td>Portland Trail Blazers</td>\n      <td>Home</td>\n      <td>Win</td>\n      <td>136</td>\n      <td>29</td>\n      <td>9</td>\n      <td>10</td>\n      <td>3</td>\n      <td>...</td>\n      <td>23.7</td>\n      <td>71.4</td>\n      <td>10.9</td>\n      <td>6.1</td>\n      <td>2.1</td>\n      <td>133.8</td>\n      <td>138.9</td>\n      <td>2.58</td>\n      <td>50.00</td>\n      <td>24</td>\n    </tr>\n    <tr>\n      <th>16810</th>\n      <td>2022/01/03</td>\n      <td>22:30</td>\n      <td>Minnesota Timberwolves</td>\n      <td>Away</td>\n      <td>Win</td>\n      <td>122</td>\n      <td>34</td>\n      <td>17</td>\n      <td>9</td>\n      <td>4</td>\n      <td>...</td>\n      <td>12.1</td>\n      <td>71.1</td>\n      <td>19.0</td>\n      <td>12.0</td>\n      <td>6.3</td>\n      <td>104.1</td>\n      <td>122.2</td>\n      <td>1.10</td>\n      <td>60.00</td>\n      <td>10</td>\n    </tr>\n    <tr>\n      <th>16811</th>\n      <td>2022/01/03</td>\n      <td>22:30</td>\n      <td>Los Angeles Clippers</td>\n      <td>Home</td>\n      <td>Loss</td>\n      <td>104</td>\n      <td>22</td>\n      <td>20</td>\n      <td>12</td>\n      <td>3</td>\n      <td>...</td>\n      <td>28.9</td>\n      <td>87.9</td>\n      <td>14.9</td>\n      <td>9.0</td>\n      <td>8.7</td>\n      <td>122.2</td>\n      <td>104.1</td>\n      <td>2.00</td>\n      <td>52.94</td>\n      <td>14</td>\n    </tr>\n    <tr>\n      <th>16812</th>\n      <td>2022/01/04</td>\n      <td>19:00</td>\n      <td>Memphis Grizzlies</td>\n      <td>Away</td>\n      <td>Win</td>\n      <td>110</td>\n      <td>21</td>\n      <td>9</td>\n      <td>6</td>\n      <td>8</td>\n      <td>...</td>\n      <td>29.8</td>\n      <td>74.5</td>\n      <td>9.8</td>\n      <td>2.1</td>\n      <td>9.5</td>\n      <td>111.9</td>\n      <td>116.1</td>\n      <td>2.55</td>\n      <td>18.18</td>\n      <td>14</td>\n    </tr>\n    <tr>\n      <th>16813</th>\n      <td>2022/01/04</td>\n      <td>19:00</td>\n      <td>Cleveland Cavaliers</td>\n      <td>Home</td>\n      <td>Loss</td>\n      <td>106</td>\n      <td>28</td>\n      <td>11</td>\n      <td>2</td>\n      <td>6</td>\n      <td>...</td>\n      <td>25.5</td>\n      <td>70.2</td>\n      <td>8.3</td>\n      <td>6.3</td>\n      <td>13.8</td>\n      <td>116.1</td>\n      <td>111.9</td>\n      <td>2.33</td>\n      <td>66.67</td>\n      <td>18</td>\n    </tr>\n  </tbody>\n</table>\n<p>16814 rows × 68 columns</p>\n</div>"
     },
     "execution_count": 4,
     "metadata": {},
     "output_type": "execute_result"
    }
   ],
   "source": [
    "# 刪除不相關的資料\n",
    "cols_with_irrelevant = ['seasType','teamMin','opptLoc','opptRslt','opptMin']\n",
    "nba_df.drop(cols_with_irrelevant, axis=1, inplace=True)\n",
    "nba_df"
   ],
   "metadata": {
    "collapsed": false,
    "pycharm": {
     "name": "#%%\n"
    }
   }
  },
  {
   "cell_type": "code",
   "execution_count": 5,
   "outputs": [
    {
     "data": {
      "text/plain": "           gmDate gmTime                teamAbbr  teamLoc  teamRslt  teamPTS  \\\n0      2014/10/28  20:00           Orlando Magic        0         0       84   \n1      2014/10/28  20:00    New Orleans Pelicans        1         1      101   \n2      2014/10/28  20:00        Dallas Mavericks        0         0      100   \n3      2014/10/28  20:00       San Antonio Spurs        1         1      101   \n4      2014/10/28  22:30         Houston Rockets        0         1      108   \n...           ...    ...                     ...      ...       ...      ...   \n16809  2022/01/03  22:00  Portland Trail Blazers        1         1      136   \n16810  2022/01/03  22:30  Minnesota Timberwolves        0         1      122   \n16811  2022/01/03  22:30    Los Angeles Clippers        1         0      104   \n16812  2022/01/04  19:00       Memphis Grizzlies        0         1      110   \n16813  2022/01/04  19:00     Cleveland Cavaliers        1         0      106   \n\n       teamAST  teamTO  teamSTL  teamBLK  ...  opptOREB_RATE  opptDREB_RATE  \\\n0           17      18        5        9  ...           39.4           69.2   \n1           20       9       10       17  ...           30.8           60.6   \n2           17      10        9        3  ...           27.3           76.3   \n3           23      20        5        3  ...           23.7           72.7   \n4           22      13        7        3  ...           25.0           64.1   \n...        ...     ...      ...      ...  ...            ...            ...   \n16809       29       9       10        3  ...           23.7           71.4   \n16810       34      17        9        4  ...           12.1           71.1   \n16811       22      20       12        3  ...           28.9           87.9   \n16812       21       9        6        8  ...           29.8           74.5   \n16813       28      11        2        6  ...           25.5           70.2   \n\n       opptTO_RATE  opptSTL_RATE  opptBLK_RATE  opptOrtg  opptDrtg  \\\n0              7.3          10.5          23.3     106.1      88.2   \n1             16.2           5.3          10.7      88.2     106.1   \n2             20.6           5.8           5.3     117.3     116.1   \n3             10.4          10.5           7.1     116.1     117.3   \n4             10.3           7.7           6.8      99.0     118.8   \n...            ...           ...           ...       ...       ...   \n16809         10.9           6.1           2.1     133.8     138.9   \n16810         19.0          12.0           6.3     104.1     122.2   \n16811         14.9           9.0           8.7     122.2     104.1   \n16812          9.8           2.1           9.5     111.9     116.1   \n16813          8.3           6.3          13.8     116.1     111.9   \n\n       opptASTDividedByTO  opptSTLDividedByTO  opptFouls  \n0                    2.22              111.11         17  \n1                    0.94               27.78         25  \n2                    1.15               25.00         20  \n3                    1.70               90.00         20  \n4                    1.45               63.64         32  \n...                   ...                 ...        ...  \n16809                2.58               50.00         24  \n16810                1.10               60.00         10  \n16811                2.00               52.94         14  \n16812                2.55               18.18         14  \n16813                2.33               66.67         18  \n\n[16814 rows x 68 columns]",
      "text/html": "<div>\n<style scoped>\n    .dataframe tbody tr th:only-of-type {\n        vertical-align: middle;\n    }\n\n    .dataframe tbody tr th {\n        vertical-align: top;\n    }\n\n    .dataframe thead th {\n        text-align: right;\n    }\n</style>\n<table border=\"1\" class=\"dataframe\">\n  <thead>\n    <tr style=\"text-align: right;\">\n      <th></th>\n      <th>gmDate</th>\n      <th>gmTime</th>\n      <th>teamAbbr</th>\n      <th>teamLoc</th>\n      <th>teamRslt</th>\n      <th>teamPTS</th>\n      <th>teamAST</th>\n      <th>teamTO</th>\n      <th>teamSTL</th>\n      <th>teamBLK</th>\n      <th>...</th>\n      <th>opptOREB_RATE</th>\n      <th>opptDREB_RATE</th>\n      <th>opptTO_RATE</th>\n      <th>opptSTL_RATE</th>\n      <th>opptBLK_RATE</th>\n      <th>opptOrtg</th>\n      <th>opptDrtg</th>\n      <th>opptASTDividedByTO</th>\n      <th>opptSTLDividedByTO</th>\n      <th>opptFouls</th>\n    </tr>\n  </thead>\n  <tbody>\n    <tr>\n      <th>0</th>\n      <td>2014/10/28</td>\n      <td>20:00</td>\n      <td>Orlando Magic</td>\n      <td>0</td>\n      <td>0</td>\n      <td>84</td>\n      <td>17</td>\n      <td>18</td>\n      <td>5</td>\n      <td>9</td>\n      <td>...</td>\n      <td>39.4</td>\n      <td>69.2</td>\n      <td>7.3</td>\n      <td>10.5</td>\n      <td>23.3</td>\n      <td>106.1</td>\n      <td>88.2</td>\n      <td>2.22</td>\n      <td>111.11</td>\n      <td>17</td>\n    </tr>\n    <tr>\n      <th>1</th>\n      <td>2014/10/28</td>\n      <td>20:00</td>\n      <td>New Orleans Pelicans</td>\n      <td>1</td>\n      <td>1</td>\n      <td>101</td>\n      <td>20</td>\n      <td>9</td>\n      <td>10</td>\n      <td>17</td>\n      <td>...</td>\n      <td>30.8</td>\n      <td>60.6</td>\n      <td>16.2</td>\n      <td>5.3</td>\n      <td>10.7</td>\n      <td>88.2</td>\n      <td>106.1</td>\n      <td>0.94</td>\n      <td>27.78</td>\n      <td>25</td>\n    </tr>\n    <tr>\n      <th>2</th>\n      <td>2014/10/28</td>\n      <td>20:00</td>\n      <td>Dallas Mavericks</td>\n      <td>0</td>\n      <td>0</td>\n      <td>100</td>\n      <td>17</td>\n      <td>10</td>\n      <td>9</td>\n      <td>3</td>\n      <td>...</td>\n      <td>27.3</td>\n      <td>76.3</td>\n      <td>20.6</td>\n      <td>5.8</td>\n      <td>5.3</td>\n      <td>117.3</td>\n      <td>116.1</td>\n      <td>1.15</td>\n      <td>25.00</td>\n      <td>20</td>\n    </tr>\n    <tr>\n      <th>3</th>\n      <td>2014/10/28</td>\n      <td>20:00</td>\n      <td>San Antonio Spurs</td>\n      <td>1</td>\n      <td>1</td>\n      <td>101</td>\n      <td>23</td>\n      <td>20</td>\n      <td>5</td>\n      <td>3</td>\n      <td>...</td>\n      <td>23.7</td>\n      <td>72.7</td>\n      <td>10.4</td>\n      <td>10.5</td>\n      <td>7.1</td>\n      <td>116.1</td>\n      <td>117.3</td>\n      <td>1.70</td>\n      <td>90.00</td>\n      <td>20</td>\n    </tr>\n    <tr>\n      <th>4</th>\n      <td>2014/10/28</td>\n      <td>22:30</td>\n      <td>Houston Rockets</td>\n      <td>0</td>\n      <td>1</td>\n      <td>108</td>\n      <td>22</td>\n      <td>13</td>\n      <td>7</td>\n      <td>3</td>\n      <td>...</td>\n      <td>25.0</td>\n      <td>64.1</td>\n      <td>10.3</td>\n      <td>7.7</td>\n      <td>6.8</td>\n      <td>99.0</td>\n      <td>118.8</td>\n      <td>1.45</td>\n      <td>63.64</td>\n      <td>32</td>\n    </tr>\n    <tr>\n      <th>...</th>\n      <td>...</td>\n      <td>...</td>\n      <td>...</td>\n      <td>...</td>\n      <td>...</td>\n      <td>...</td>\n      <td>...</td>\n      <td>...</td>\n      <td>...</td>\n      <td>...</td>\n      <td>...</td>\n      <td>...</td>\n      <td>...</td>\n      <td>...</td>\n      <td>...</td>\n      <td>...</td>\n      <td>...</td>\n      <td>...</td>\n      <td>...</td>\n      <td>...</td>\n      <td>...</td>\n    </tr>\n    <tr>\n      <th>16809</th>\n      <td>2022/01/03</td>\n      <td>22:00</td>\n      <td>Portland Trail Blazers</td>\n      <td>1</td>\n      <td>1</td>\n      <td>136</td>\n      <td>29</td>\n      <td>9</td>\n      <td>10</td>\n      <td>3</td>\n      <td>...</td>\n      <td>23.7</td>\n      <td>71.4</td>\n      <td>10.9</td>\n      <td>6.1</td>\n      <td>2.1</td>\n      <td>133.8</td>\n      <td>138.9</td>\n      <td>2.58</td>\n      <td>50.00</td>\n      <td>24</td>\n    </tr>\n    <tr>\n      <th>16810</th>\n      <td>2022/01/03</td>\n      <td>22:30</td>\n      <td>Minnesota Timberwolves</td>\n      <td>0</td>\n      <td>1</td>\n      <td>122</td>\n      <td>34</td>\n      <td>17</td>\n      <td>9</td>\n      <td>4</td>\n      <td>...</td>\n      <td>12.1</td>\n      <td>71.1</td>\n      <td>19.0</td>\n      <td>12.0</td>\n      <td>6.3</td>\n      <td>104.1</td>\n      <td>122.2</td>\n      <td>1.10</td>\n      <td>60.00</td>\n      <td>10</td>\n    </tr>\n    <tr>\n      <th>16811</th>\n      <td>2022/01/03</td>\n      <td>22:30</td>\n      <td>Los Angeles Clippers</td>\n      <td>1</td>\n      <td>0</td>\n      <td>104</td>\n      <td>22</td>\n      <td>20</td>\n      <td>12</td>\n      <td>3</td>\n      <td>...</td>\n      <td>28.9</td>\n      <td>87.9</td>\n      <td>14.9</td>\n      <td>9.0</td>\n      <td>8.7</td>\n      <td>122.2</td>\n      <td>104.1</td>\n      <td>2.00</td>\n      <td>52.94</td>\n      <td>14</td>\n    </tr>\n    <tr>\n      <th>16812</th>\n      <td>2022/01/04</td>\n      <td>19:00</td>\n      <td>Memphis Grizzlies</td>\n      <td>0</td>\n      <td>1</td>\n      <td>110</td>\n      <td>21</td>\n      <td>9</td>\n      <td>6</td>\n      <td>8</td>\n      <td>...</td>\n      <td>29.8</td>\n      <td>74.5</td>\n      <td>9.8</td>\n      <td>2.1</td>\n      <td>9.5</td>\n      <td>111.9</td>\n      <td>116.1</td>\n      <td>2.55</td>\n      <td>18.18</td>\n      <td>14</td>\n    </tr>\n    <tr>\n      <th>16813</th>\n      <td>2022/01/04</td>\n      <td>19:00</td>\n      <td>Cleveland Cavaliers</td>\n      <td>1</td>\n      <td>0</td>\n      <td>106</td>\n      <td>28</td>\n      <td>11</td>\n      <td>2</td>\n      <td>6</td>\n      <td>...</td>\n      <td>25.5</td>\n      <td>70.2</td>\n      <td>8.3</td>\n      <td>6.3</td>\n      <td>13.8</td>\n      <td>116.1</td>\n      <td>111.9</td>\n      <td>2.33</td>\n      <td>66.67</td>\n      <td>18</td>\n    </tr>\n  </tbody>\n</table>\n<p>16814 rows × 68 columns</p>\n</div>"
     },
     "execution_count": 5,
     "metadata": {},
     "output_type": "execute_result"
    }
   ],
   "source": [
    "# 離散資料轉連續數值\n",
    "\n",
    "nba_df['teamLoc'] = nba_df['teamLoc'].replace(['Home', 'Away'], [1,0]).astype(str).astype(int)\n",
    "nba_df['teamRslt'] = nba_df['teamRslt'].replace(['Win', 'Loss'], [1,0]).astype(str).astype(int)\n",
    "nba_df"
   ],
   "metadata": {
    "collapsed": false,
    "pycharm": {
     "name": "#%%\n"
    }
   }
  },
  {
   "cell_type": "code",
   "execution_count": 6,
   "outputs": [
    {
     "data": {
      "text/plain": "          gmDate gmTime                teamAbbr  teamLoc  teamRslt  teamPTS  \\\n0     2014/10/28  20:00    New Orleans Pelicans        1         1      101   \n1     2014/10/28  20:00       San Antonio Spurs        1         1      101   \n2     2014/10/28  22:30      Los Angeles Lakers        1         0       90   \n3     2014/10/29  19:00       Charlotte Hornets        1         1      108   \n4     2014/10/29  19:00          Indiana Pacers        1         1      103   \n...          ...    ...                     ...      ...       ...      ...   \n8402  2022/01/03  20:30        Dallas Mavericks        1         1      103   \n8403  2022/01/03  22:00   Golden State Warriors        1         1      115   \n8404  2022/01/03  22:00  Portland Trail Blazers        1         1      136   \n8405  2022/01/03  22:30    Los Angeles Clippers        1         0      104   \n8406  2022/01/04  19:00     Cleveland Cavaliers        1         0      106   \n\n      teamAST  teamTO  teamSTL  teamBLK  ...  opptOREB_RATE  opptDREB_RATE  \\\n0          20       9       10       17  ...           30.8           60.6   \n1          23      20        5        3  ...           23.7           72.7   \n2          16      11        7        3  ...           35.9           75.0   \n3          27      10        8        9  ...            7.9           68.1   \n4          22      17        5       13  ...           29.4           65.9   \n...       ...     ...      ...      ...  ...            ...            ...   \n8402       23      11       12        5  ...           32.4           87.8   \n8403       39      12       11        6  ...           23.4           84.4   \n8404       29       9       10        3  ...           23.7           71.4   \n8405       22      20       12        3  ...           28.9           87.9   \n8406       28      11        2        6  ...           25.5           70.2   \n\n      opptTO_RATE  opptSTL_RATE  opptBLK_RATE  opptOrtg  opptDrtg  \\\n0            16.2           5.3          10.7      88.2     106.1   \n1            10.4          10.5           7.1     116.1     117.3   \n2            12.0           7.7           4.3     118.8      99.0   \n3            13.4           8.9          12.5     104.8     106.8   \n4             9.7          10.6           8.9      96.7     109.5   \n...           ...           ...           ...       ...       ...   \n8402         23.9           6.6           2.4      97.3     112.6   \n8403         15.5           4.9           3.7     106.0     112.9   \n8404         10.9           6.1           2.1     133.8     138.9   \n8405         14.9           9.0           8.7     122.2     104.1   \n8406          8.3           6.3          13.8     116.1     111.9   \n\n      opptASTDividedByTO  opptSTLDividedByTO  opptFouls  \n0                   0.94               27.78         25  \n1                   1.70               90.00         20  \n2                   1.69               53.85         30  \n3                   1.79               64.29         25  \n4                   1.55               90.91         29  \n...                  ...                 ...        ...  \n8402                0.84               24.00         24  \n8403                1.33               27.78         13  \n8404                2.58               50.00         24  \n8405                2.00               52.94         14  \n8406                2.33               66.67         18  \n\n[8407 rows x 68 columns]",
      "text/html": "<div>\n<style scoped>\n    .dataframe tbody tr th:only-of-type {\n        vertical-align: middle;\n    }\n\n    .dataframe tbody tr th {\n        vertical-align: top;\n    }\n\n    .dataframe thead th {\n        text-align: right;\n    }\n</style>\n<table border=\"1\" class=\"dataframe\">\n  <thead>\n    <tr style=\"text-align: right;\">\n      <th></th>\n      <th>gmDate</th>\n      <th>gmTime</th>\n      <th>teamAbbr</th>\n      <th>teamLoc</th>\n      <th>teamRslt</th>\n      <th>teamPTS</th>\n      <th>teamAST</th>\n      <th>teamTO</th>\n      <th>teamSTL</th>\n      <th>teamBLK</th>\n      <th>...</th>\n      <th>opptOREB_RATE</th>\n      <th>opptDREB_RATE</th>\n      <th>opptTO_RATE</th>\n      <th>opptSTL_RATE</th>\n      <th>opptBLK_RATE</th>\n      <th>opptOrtg</th>\n      <th>opptDrtg</th>\n      <th>opptASTDividedByTO</th>\n      <th>opptSTLDividedByTO</th>\n      <th>opptFouls</th>\n    </tr>\n  </thead>\n  <tbody>\n    <tr>\n      <th>0</th>\n      <td>2014/10/28</td>\n      <td>20:00</td>\n      <td>New Orleans Pelicans</td>\n      <td>1</td>\n      <td>1</td>\n      <td>101</td>\n      <td>20</td>\n      <td>9</td>\n      <td>10</td>\n      <td>17</td>\n      <td>...</td>\n      <td>30.8</td>\n      <td>60.6</td>\n      <td>16.2</td>\n      <td>5.3</td>\n      <td>10.7</td>\n      <td>88.2</td>\n      <td>106.1</td>\n      <td>0.94</td>\n      <td>27.78</td>\n      <td>25</td>\n    </tr>\n    <tr>\n      <th>1</th>\n      <td>2014/10/28</td>\n      <td>20:00</td>\n      <td>San Antonio Spurs</td>\n      <td>1</td>\n      <td>1</td>\n      <td>101</td>\n      <td>23</td>\n      <td>20</td>\n      <td>5</td>\n      <td>3</td>\n      <td>...</td>\n      <td>23.7</td>\n      <td>72.7</td>\n      <td>10.4</td>\n      <td>10.5</td>\n      <td>7.1</td>\n      <td>116.1</td>\n      <td>117.3</td>\n      <td>1.70</td>\n      <td>90.00</td>\n      <td>20</td>\n    </tr>\n    <tr>\n      <th>2</th>\n      <td>2014/10/28</td>\n      <td>22:30</td>\n      <td>Los Angeles Lakers</td>\n      <td>1</td>\n      <td>0</td>\n      <td>90</td>\n      <td>16</td>\n      <td>11</td>\n      <td>7</td>\n      <td>3</td>\n      <td>...</td>\n      <td>35.9</td>\n      <td>75.0</td>\n      <td>12.0</td>\n      <td>7.7</td>\n      <td>4.3</td>\n      <td>118.8</td>\n      <td>99.0</td>\n      <td>1.69</td>\n      <td>53.85</td>\n      <td>30</td>\n    </tr>\n    <tr>\n      <th>3</th>\n      <td>2014/10/29</td>\n      <td>19:00</td>\n      <td>Charlotte Hornets</td>\n      <td>1</td>\n      <td>1</td>\n      <td>108</td>\n      <td>27</td>\n      <td>10</td>\n      <td>8</td>\n      <td>9</td>\n      <td>...</td>\n      <td>7.9</td>\n      <td>68.1</td>\n      <td>13.4</td>\n      <td>8.9</td>\n      <td>12.5</td>\n      <td>104.8</td>\n      <td>106.8</td>\n      <td>1.79</td>\n      <td>64.29</td>\n      <td>25</td>\n    </tr>\n    <tr>\n      <th>4</th>\n      <td>2014/10/29</td>\n      <td>19:00</td>\n      <td>Indiana Pacers</td>\n      <td>1</td>\n      <td>1</td>\n      <td>103</td>\n      <td>22</td>\n      <td>17</td>\n      <td>5</td>\n      <td>13</td>\n      <td>...</td>\n      <td>29.4</td>\n      <td>65.9</td>\n      <td>9.7</td>\n      <td>10.6</td>\n      <td>8.9</td>\n      <td>96.7</td>\n      <td>109.5</td>\n      <td>1.55</td>\n      <td>90.91</td>\n      <td>29</td>\n    </tr>\n    <tr>\n      <th>...</th>\n      <td>...</td>\n      <td>...</td>\n      <td>...</td>\n      <td>...</td>\n      <td>...</td>\n      <td>...</td>\n      <td>...</td>\n      <td>...</td>\n      <td>...</td>\n      <td>...</td>\n      <td>...</td>\n      <td>...</td>\n      <td>...</td>\n      <td>...</td>\n      <td>...</td>\n      <td>...</td>\n      <td>...</td>\n      <td>...</td>\n      <td>...</td>\n      <td>...</td>\n      <td>...</td>\n    </tr>\n    <tr>\n      <th>8402</th>\n      <td>2022/01/03</td>\n      <td>20:30</td>\n      <td>Dallas Mavericks</td>\n      <td>1</td>\n      <td>1</td>\n      <td>103</td>\n      <td>23</td>\n      <td>11</td>\n      <td>12</td>\n      <td>5</td>\n      <td>...</td>\n      <td>32.4</td>\n      <td>87.8</td>\n      <td>23.9</td>\n      <td>6.6</td>\n      <td>2.4</td>\n      <td>97.3</td>\n      <td>112.6</td>\n      <td>0.84</td>\n      <td>24.00</td>\n      <td>24</td>\n    </tr>\n    <tr>\n      <th>8403</th>\n      <td>2022/01/03</td>\n      <td>22:00</td>\n      <td>Golden State Warriors</td>\n      <td>1</td>\n      <td>1</td>\n      <td>115</td>\n      <td>39</td>\n      <td>12</td>\n      <td>11</td>\n      <td>6</td>\n      <td>...</td>\n      <td>23.4</td>\n      <td>84.4</td>\n      <td>15.5</td>\n      <td>4.9</td>\n      <td>3.7</td>\n      <td>106.0</td>\n      <td>112.9</td>\n      <td>1.33</td>\n      <td>27.78</td>\n      <td>13</td>\n    </tr>\n    <tr>\n      <th>8404</th>\n      <td>2022/01/03</td>\n      <td>22:00</td>\n      <td>Portland Trail Blazers</td>\n      <td>1</td>\n      <td>1</td>\n      <td>136</td>\n      <td>29</td>\n      <td>9</td>\n      <td>10</td>\n      <td>3</td>\n      <td>...</td>\n      <td>23.7</td>\n      <td>71.4</td>\n      <td>10.9</td>\n      <td>6.1</td>\n      <td>2.1</td>\n      <td>133.8</td>\n      <td>138.9</td>\n      <td>2.58</td>\n      <td>50.00</td>\n      <td>24</td>\n    </tr>\n    <tr>\n      <th>8405</th>\n      <td>2022/01/03</td>\n      <td>22:30</td>\n      <td>Los Angeles Clippers</td>\n      <td>1</td>\n      <td>0</td>\n      <td>104</td>\n      <td>22</td>\n      <td>20</td>\n      <td>12</td>\n      <td>3</td>\n      <td>...</td>\n      <td>28.9</td>\n      <td>87.9</td>\n      <td>14.9</td>\n      <td>9.0</td>\n      <td>8.7</td>\n      <td>122.2</td>\n      <td>104.1</td>\n      <td>2.00</td>\n      <td>52.94</td>\n      <td>14</td>\n    </tr>\n    <tr>\n      <th>8406</th>\n      <td>2022/01/04</td>\n      <td>19:00</td>\n      <td>Cleveland Cavaliers</td>\n      <td>1</td>\n      <td>0</td>\n      <td>106</td>\n      <td>28</td>\n      <td>11</td>\n      <td>2</td>\n      <td>6</td>\n      <td>...</td>\n      <td>25.5</td>\n      <td>70.2</td>\n      <td>8.3</td>\n      <td>6.3</td>\n      <td>13.8</td>\n      <td>116.1</td>\n      <td>111.9</td>\n      <td>2.33</td>\n      <td>66.67</td>\n      <td>18</td>\n    </tr>\n  </tbody>\n</table>\n<p>8407 rows × 68 columns</p>\n</div>"
     },
     "execution_count": 6,
     "metadata": {},
     "output_type": "execute_result"
    }
   ],
   "source": [
    "#因為一場比賽被劃分成兩筆，所以只取前面為主場那筆\n",
    "nba_df = nba_df[nba_df.teamLoc == 1].reset_index()\n",
    "del nba_df['index']\n",
    "nba_df"
   ],
   "metadata": {
    "collapsed": false,
    "pycharm": {
     "name": "#%%\n"
    }
   }
  },
  {
   "cell_type": "code",
   "execution_count": 7,
   "outputs": [
    {
     "data": {
      "text/plain": "          gmDate gmTime                homeAbbr  homeRslt  homePTS  homeAST  \\\n0     2014/10/28  20:00    New Orleans Pelicans         1      101       20   \n1     2014/10/28  20:00       San Antonio Spurs         1      101       23   \n2     2014/10/28  22:30      Los Angeles Lakers         0       90       16   \n3     2014/10/29  19:00       Charlotte Hornets         1      108       27   \n4     2014/10/29  19:00          Indiana Pacers         1      103       22   \n...          ...    ...                     ...       ...      ...      ...   \n8402  2022/01/03  20:30        Dallas Mavericks         1      103       23   \n8403  2022/01/03  22:00   Golden State Warriors         1      115       39   \n8404  2022/01/03  22:00  Portland Trail Blazers         1      136       29   \n8405  2022/01/03  22:30    Los Angeles Clippers         0      104       22   \n8406  2022/01/04  19:00     Cleveland Cavaliers         0      106       28   \n\n      homeTO  homeSTL  homeBLK  homeFGA  ...  awayOREB_RATE  awayDREB_RATE  \\\n0          9       10       17      101  ...           30.8           60.6   \n1         20        5        3       70  ...           23.7           72.7   \n2         11        7        3       79  ...           35.9           75.0   \n3         10        8        9      101  ...            7.9           68.1   \n4         17        5       13       81  ...           29.4           65.9   \n...      ...      ...      ...      ...  ...            ...            ...   \n8402      11       12        5       78  ...           32.4           87.8   \n8403      12       11        6       92  ...           23.4           84.4   \n8404       9       10        3       89  ...           23.7           71.4   \n8405      20       12        3       78  ...           28.9           87.9   \n8406      11        2        6       92  ...           25.5           70.2   \n\n      awayTO_RATE  awaySTL_RATE  awayBLK_RATE  awayOrtg  awayDrtg  \\\n0            16.2           5.3          10.7      88.2     106.1   \n1            10.4          10.5           7.1     116.1     117.3   \n2            12.0           7.7           4.3     118.8      99.0   \n3            13.4           8.9          12.5     104.8     106.8   \n4             9.7          10.6           8.9      96.7     109.5   \n...           ...           ...           ...       ...       ...   \n8402         23.9           6.6           2.4      97.3     112.6   \n8403         15.5           4.9           3.7     106.0     112.9   \n8404         10.9           6.1           2.1     133.8     138.9   \n8405         14.9           9.0           8.7     122.2     104.1   \n8406          8.3           6.3          13.8     116.1     111.9   \n\n      awayASTDividedByTO  awaySTLDividedByTO  awayFouls  \n0                   0.94               27.78         25  \n1                   1.70               90.00         20  \n2                   1.69               53.85         30  \n3                   1.79               64.29         25  \n4                   1.55               90.91         29  \n...                  ...                 ...        ...  \n8402                0.84               24.00         24  \n8403                1.33               27.78         13  \n8404                2.58               50.00         24  \n8405                2.00               52.94         14  \n8406                2.33               66.67         18  \n\n[8407 rows x 67 columns]",
      "text/html": "<div>\n<style scoped>\n    .dataframe tbody tr th:only-of-type {\n        vertical-align: middle;\n    }\n\n    .dataframe tbody tr th {\n        vertical-align: top;\n    }\n\n    .dataframe thead th {\n        text-align: right;\n    }\n</style>\n<table border=\"1\" class=\"dataframe\">\n  <thead>\n    <tr style=\"text-align: right;\">\n      <th></th>\n      <th>gmDate</th>\n      <th>gmTime</th>\n      <th>homeAbbr</th>\n      <th>homeRslt</th>\n      <th>homePTS</th>\n      <th>homeAST</th>\n      <th>homeTO</th>\n      <th>homeSTL</th>\n      <th>homeBLK</th>\n      <th>homeFGA</th>\n      <th>...</th>\n      <th>awayOREB_RATE</th>\n      <th>awayDREB_RATE</th>\n      <th>awayTO_RATE</th>\n      <th>awaySTL_RATE</th>\n      <th>awayBLK_RATE</th>\n      <th>awayOrtg</th>\n      <th>awayDrtg</th>\n      <th>awayASTDividedByTO</th>\n      <th>awaySTLDividedByTO</th>\n      <th>awayFouls</th>\n    </tr>\n  </thead>\n  <tbody>\n    <tr>\n      <th>0</th>\n      <td>2014/10/28</td>\n      <td>20:00</td>\n      <td>New Orleans Pelicans</td>\n      <td>1</td>\n      <td>101</td>\n      <td>20</td>\n      <td>9</td>\n      <td>10</td>\n      <td>17</td>\n      <td>101</td>\n      <td>...</td>\n      <td>30.8</td>\n      <td>60.6</td>\n      <td>16.2</td>\n      <td>5.3</td>\n      <td>10.7</td>\n      <td>88.2</td>\n      <td>106.1</td>\n      <td>0.94</td>\n      <td>27.78</td>\n      <td>25</td>\n    </tr>\n    <tr>\n      <th>1</th>\n      <td>2014/10/28</td>\n      <td>20:00</td>\n      <td>San Antonio Spurs</td>\n      <td>1</td>\n      <td>101</td>\n      <td>23</td>\n      <td>20</td>\n      <td>5</td>\n      <td>3</td>\n      <td>70</td>\n      <td>...</td>\n      <td>23.7</td>\n      <td>72.7</td>\n      <td>10.4</td>\n      <td>10.5</td>\n      <td>7.1</td>\n      <td>116.1</td>\n      <td>117.3</td>\n      <td>1.70</td>\n      <td>90.00</td>\n      <td>20</td>\n    </tr>\n    <tr>\n      <th>2</th>\n      <td>2014/10/28</td>\n      <td>22:30</td>\n      <td>Los Angeles Lakers</td>\n      <td>0</td>\n      <td>90</td>\n      <td>16</td>\n      <td>11</td>\n      <td>7</td>\n      <td>3</td>\n      <td>79</td>\n      <td>...</td>\n      <td>35.9</td>\n      <td>75.0</td>\n      <td>12.0</td>\n      <td>7.7</td>\n      <td>4.3</td>\n      <td>118.8</td>\n      <td>99.0</td>\n      <td>1.69</td>\n      <td>53.85</td>\n      <td>30</td>\n    </tr>\n    <tr>\n      <th>3</th>\n      <td>2014/10/29</td>\n      <td>19:00</td>\n      <td>Charlotte Hornets</td>\n      <td>1</td>\n      <td>108</td>\n      <td>27</td>\n      <td>10</td>\n      <td>8</td>\n      <td>9</td>\n      <td>101</td>\n      <td>...</td>\n      <td>7.9</td>\n      <td>68.1</td>\n      <td>13.4</td>\n      <td>8.9</td>\n      <td>12.5</td>\n      <td>104.8</td>\n      <td>106.8</td>\n      <td>1.79</td>\n      <td>64.29</td>\n      <td>25</td>\n    </tr>\n    <tr>\n      <th>4</th>\n      <td>2014/10/29</td>\n      <td>19:00</td>\n      <td>Indiana Pacers</td>\n      <td>1</td>\n      <td>103</td>\n      <td>22</td>\n      <td>17</td>\n      <td>5</td>\n      <td>13</td>\n      <td>81</td>\n      <td>...</td>\n      <td>29.4</td>\n      <td>65.9</td>\n      <td>9.7</td>\n      <td>10.6</td>\n      <td>8.9</td>\n      <td>96.7</td>\n      <td>109.5</td>\n      <td>1.55</td>\n      <td>90.91</td>\n      <td>29</td>\n    </tr>\n    <tr>\n      <th>...</th>\n      <td>...</td>\n      <td>...</td>\n      <td>...</td>\n      <td>...</td>\n      <td>...</td>\n      <td>...</td>\n      <td>...</td>\n      <td>...</td>\n      <td>...</td>\n      <td>...</td>\n      <td>...</td>\n      <td>...</td>\n      <td>...</td>\n      <td>...</td>\n      <td>...</td>\n      <td>...</td>\n      <td>...</td>\n      <td>...</td>\n      <td>...</td>\n      <td>...</td>\n      <td>...</td>\n    </tr>\n    <tr>\n      <th>8402</th>\n      <td>2022/01/03</td>\n      <td>20:30</td>\n      <td>Dallas Mavericks</td>\n      <td>1</td>\n      <td>103</td>\n      <td>23</td>\n      <td>11</td>\n      <td>12</td>\n      <td>5</td>\n      <td>78</td>\n      <td>...</td>\n      <td>32.4</td>\n      <td>87.8</td>\n      <td>23.9</td>\n      <td>6.6</td>\n      <td>2.4</td>\n      <td>97.3</td>\n      <td>112.6</td>\n      <td>0.84</td>\n      <td>24.00</td>\n      <td>24</td>\n    </tr>\n    <tr>\n      <th>8403</th>\n      <td>2022/01/03</td>\n      <td>22:00</td>\n      <td>Golden State Warriors</td>\n      <td>1</td>\n      <td>115</td>\n      <td>39</td>\n      <td>12</td>\n      <td>11</td>\n      <td>6</td>\n      <td>92</td>\n      <td>...</td>\n      <td>23.4</td>\n      <td>84.4</td>\n      <td>15.5</td>\n      <td>4.9</td>\n      <td>3.7</td>\n      <td>106.0</td>\n      <td>112.9</td>\n      <td>1.33</td>\n      <td>27.78</td>\n      <td>13</td>\n    </tr>\n    <tr>\n      <th>8404</th>\n      <td>2022/01/03</td>\n      <td>22:00</td>\n      <td>Portland Trail Blazers</td>\n      <td>1</td>\n      <td>136</td>\n      <td>29</td>\n      <td>9</td>\n      <td>10</td>\n      <td>3</td>\n      <td>89</td>\n      <td>...</td>\n      <td>23.7</td>\n      <td>71.4</td>\n      <td>10.9</td>\n      <td>6.1</td>\n      <td>2.1</td>\n      <td>133.8</td>\n      <td>138.9</td>\n      <td>2.58</td>\n      <td>50.00</td>\n      <td>24</td>\n    </tr>\n    <tr>\n      <th>8405</th>\n      <td>2022/01/03</td>\n      <td>22:30</td>\n      <td>Los Angeles Clippers</td>\n      <td>0</td>\n      <td>104</td>\n      <td>22</td>\n      <td>20</td>\n      <td>12</td>\n      <td>3</td>\n      <td>78</td>\n      <td>...</td>\n      <td>28.9</td>\n      <td>87.9</td>\n      <td>14.9</td>\n      <td>9.0</td>\n      <td>8.7</td>\n      <td>122.2</td>\n      <td>104.1</td>\n      <td>2.00</td>\n      <td>52.94</td>\n      <td>14</td>\n    </tr>\n    <tr>\n      <th>8406</th>\n      <td>2022/01/04</td>\n      <td>19:00</td>\n      <td>Cleveland Cavaliers</td>\n      <td>0</td>\n      <td>106</td>\n      <td>28</td>\n      <td>11</td>\n      <td>2</td>\n      <td>6</td>\n      <td>92</td>\n      <td>...</td>\n      <td>25.5</td>\n      <td>70.2</td>\n      <td>8.3</td>\n      <td>6.3</td>\n      <td>13.8</td>\n      <td>116.1</td>\n      <td>111.9</td>\n      <td>2.33</td>\n      <td>66.67</td>\n      <td>18</td>\n    </tr>\n  </tbody>\n</table>\n<p>8407 rows × 67 columns</p>\n</div>"
     },
     "execution_count": 7,
     "metadata": {},
     "output_type": "execute_result"
    }
   ],
   "source": [
    "# 更改欄位名稱\n",
    "nba_df.columns = nba_df.columns.str.replace('team', 'home')\n",
    "nba_df.columns = nba_df.columns.str.replace('oppt', 'away')\n",
    "nba_df.drop(['homeLoc'],inplace=True,axis=1)\n",
    "nba_df"
   ],
   "metadata": {
    "collapsed": false,
    "pycharm": {
     "name": "#%%\n"
    }
   }
  },
  {
   "cell_type": "markdown",
   "source": [
    "# 特徵工程"
   ],
   "metadata": {
    "collapsed": false,
    "pycharm": {
     "name": "#%% md\n"
    }
   }
  },
  {
   "cell_type": "code",
   "execution_count": 8,
   "outputs": [
    {
     "data": {
      "text/plain": "          gmDate gmTime                homeAbbr  homeRslt  homePTS  homeAST  \\\n0     2014/10/28  20:00    New Orleans Pelicans         1      101       20   \n1     2014/10/28  20:00       San Antonio Spurs         1      101       23   \n2     2014/10/28  22:30      Los Angeles Lakers         0       90       16   \n3     2014/10/29  19:00       Charlotte Hornets         1      108       27   \n4     2014/10/29  19:00          Indiana Pacers         1      103       22   \n...          ...    ...                     ...       ...      ...      ...   \n8402  2022/01/03  20:30        Dallas Mavericks         1      103       23   \n8403  2022/01/03  22:00   Golden State Warriors         1      115       39   \n8404  2022/01/03  22:00  Portland Trail Blazers         1      136       29   \n8405  2022/01/03  22:30    Los Angeles Clippers         0      104       22   \n8406  2022/01/04  19:00     Cleveland Cavaliers         0      106       28   \n\n      homeTO  homeSTL  homeBLK  homeFGA  ...  awayTO_RATE  awaySTL_RATE  \\\n0          9       10       17      101  ...         16.2           5.3   \n1         20        5        3       70  ...         10.4          10.5   \n2         11        7        3       79  ...         12.0           7.7   \n3         10        8        9      101  ...         13.4           8.9   \n4         17        5       13       81  ...          9.7          10.6   \n...      ...      ...      ...      ...  ...          ...           ...   \n8402      11       12        5       78  ...         23.9           6.6   \n8403      12       11        6       92  ...         15.5           4.9   \n8404       9       10        3       89  ...         10.9           6.1   \n8405      20       12        3       78  ...         14.9           9.0   \n8406      11        2        6       92  ...          8.3           6.3   \n\n      awayBLK_RATE  awayOrtg  awayDrtg  awayASTDividedByTO  \\\n0             10.7      88.2     106.1                0.94   \n1              7.1     116.1     117.3                1.70   \n2              4.3     118.8      99.0                1.69   \n3             12.5     104.8     106.8                1.79   \n4              8.9      96.7     109.5                1.55   \n...            ...       ...       ...                 ...   \n8402           2.4      97.3     112.6                0.84   \n8403           3.7     106.0     112.9                1.33   \n8404           2.1     133.8     138.9                2.58   \n8405           8.7     122.2     104.1                2.00   \n8406          13.8     116.1     111.9                2.33   \n\n      awaySTLDividedByTO  awayFouls  homePIR  awayPIR  \n0                  27.78         25      124       71  \n1                  90.00         20      111      106  \n2                  53.85         30       77      115  \n3                  64.29         25      118      113  \n4                  90.91         29      124       68  \n...                  ...        ...      ...      ...  \n8402               24.00         24      117       87  \n8403               27.78         13      147      113  \n8404               50.00         24      168      145  \n8405               52.94         14      111      140  \n8406               66.67         18      119      118  \n\n[8407 rows x 69 columns]",
      "text/html": "<div>\n<style scoped>\n    .dataframe tbody tr th:only-of-type {\n        vertical-align: middle;\n    }\n\n    .dataframe tbody tr th {\n        vertical-align: top;\n    }\n\n    .dataframe thead th {\n        text-align: right;\n    }\n</style>\n<table border=\"1\" class=\"dataframe\">\n  <thead>\n    <tr style=\"text-align: right;\">\n      <th></th>\n      <th>gmDate</th>\n      <th>gmTime</th>\n      <th>homeAbbr</th>\n      <th>homeRslt</th>\n      <th>homePTS</th>\n      <th>homeAST</th>\n      <th>homeTO</th>\n      <th>homeSTL</th>\n      <th>homeBLK</th>\n      <th>homeFGA</th>\n      <th>...</th>\n      <th>awayTO_RATE</th>\n      <th>awaySTL_RATE</th>\n      <th>awayBLK_RATE</th>\n      <th>awayOrtg</th>\n      <th>awayDrtg</th>\n      <th>awayASTDividedByTO</th>\n      <th>awaySTLDividedByTO</th>\n      <th>awayFouls</th>\n      <th>homePIR</th>\n      <th>awayPIR</th>\n    </tr>\n  </thead>\n  <tbody>\n    <tr>\n      <th>0</th>\n      <td>2014/10/28</td>\n      <td>20:00</td>\n      <td>New Orleans Pelicans</td>\n      <td>1</td>\n      <td>101</td>\n      <td>20</td>\n      <td>9</td>\n      <td>10</td>\n      <td>17</td>\n      <td>101</td>\n      <td>...</td>\n      <td>16.2</td>\n      <td>5.3</td>\n      <td>10.7</td>\n      <td>88.2</td>\n      <td>106.1</td>\n      <td>0.94</td>\n      <td>27.78</td>\n      <td>25</td>\n      <td>124</td>\n      <td>71</td>\n    </tr>\n    <tr>\n      <th>1</th>\n      <td>2014/10/28</td>\n      <td>20:00</td>\n      <td>San Antonio Spurs</td>\n      <td>1</td>\n      <td>101</td>\n      <td>23</td>\n      <td>20</td>\n      <td>5</td>\n      <td>3</td>\n      <td>70</td>\n      <td>...</td>\n      <td>10.4</td>\n      <td>10.5</td>\n      <td>7.1</td>\n      <td>116.1</td>\n      <td>117.3</td>\n      <td>1.70</td>\n      <td>90.00</td>\n      <td>20</td>\n      <td>111</td>\n      <td>106</td>\n    </tr>\n    <tr>\n      <th>2</th>\n      <td>2014/10/28</td>\n      <td>22:30</td>\n      <td>Los Angeles Lakers</td>\n      <td>0</td>\n      <td>90</td>\n      <td>16</td>\n      <td>11</td>\n      <td>7</td>\n      <td>3</td>\n      <td>79</td>\n      <td>...</td>\n      <td>12.0</td>\n      <td>7.7</td>\n      <td>4.3</td>\n      <td>118.8</td>\n      <td>99.0</td>\n      <td>1.69</td>\n      <td>53.85</td>\n      <td>30</td>\n      <td>77</td>\n      <td>115</td>\n    </tr>\n    <tr>\n      <th>3</th>\n      <td>2014/10/29</td>\n      <td>19:00</td>\n      <td>Charlotte Hornets</td>\n      <td>1</td>\n      <td>108</td>\n      <td>27</td>\n      <td>10</td>\n      <td>8</td>\n      <td>9</td>\n      <td>101</td>\n      <td>...</td>\n      <td>13.4</td>\n      <td>8.9</td>\n      <td>12.5</td>\n      <td>104.8</td>\n      <td>106.8</td>\n      <td>1.79</td>\n      <td>64.29</td>\n      <td>25</td>\n      <td>118</td>\n      <td>113</td>\n    </tr>\n    <tr>\n      <th>4</th>\n      <td>2014/10/29</td>\n      <td>19:00</td>\n      <td>Indiana Pacers</td>\n      <td>1</td>\n      <td>103</td>\n      <td>22</td>\n      <td>17</td>\n      <td>5</td>\n      <td>13</td>\n      <td>81</td>\n      <td>...</td>\n      <td>9.7</td>\n      <td>10.6</td>\n      <td>8.9</td>\n      <td>96.7</td>\n      <td>109.5</td>\n      <td>1.55</td>\n      <td>90.91</td>\n      <td>29</td>\n      <td>124</td>\n      <td>68</td>\n    </tr>\n    <tr>\n      <th>...</th>\n      <td>...</td>\n      <td>...</td>\n      <td>...</td>\n      <td>...</td>\n      <td>...</td>\n      <td>...</td>\n      <td>...</td>\n      <td>...</td>\n      <td>...</td>\n      <td>...</td>\n      <td>...</td>\n      <td>...</td>\n      <td>...</td>\n      <td>...</td>\n      <td>...</td>\n      <td>...</td>\n      <td>...</td>\n      <td>...</td>\n      <td>...</td>\n      <td>...</td>\n      <td>...</td>\n    </tr>\n    <tr>\n      <th>8402</th>\n      <td>2022/01/03</td>\n      <td>20:30</td>\n      <td>Dallas Mavericks</td>\n      <td>1</td>\n      <td>103</td>\n      <td>23</td>\n      <td>11</td>\n      <td>12</td>\n      <td>5</td>\n      <td>78</td>\n      <td>...</td>\n      <td>23.9</td>\n      <td>6.6</td>\n      <td>2.4</td>\n      <td>97.3</td>\n      <td>112.6</td>\n      <td>0.84</td>\n      <td>24.00</td>\n      <td>24</td>\n      <td>117</td>\n      <td>87</td>\n    </tr>\n    <tr>\n      <th>8403</th>\n      <td>2022/01/03</td>\n      <td>22:00</td>\n      <td>Golden State Warriors</td>\n      <td>1</td>\n      <td>115</td>\n      <td>39</td>\n      <td>12</td>\n      <td>11</td>\n      <td>6</td>\n      <td>92</td>\n      <td>...</td>\n      <td>15.5</td>\n      <td>4.9</td>\n      <td>3.7</td>\n      <td>106.0</td>\n      <td>112.9</td>\n      <td>1.33</td>\n      <td>27.78</td>\n      <td>13</td>\n      <td>147</td>\n      <td>113</td>\n    </tr>\n    <tr>\n      <th>8404</th>\n      <td>2022/01/03</td>\n      <td>22:00</td>\n      <td>Portland Trail Blazers</td>\n      <td>1</td>\n      <td>136</td>\n      <td>29</td>\n      <td>9</td>\n      <td>10</td>\n      <td>3</td>\n      <td>89</td>\n      <td>...</td>\n      <td>10.9</td>\n      <td>6.1</td>\n      <td>2.1</td>\n      <td>133.8</td>\n      <td>138.9</td>\n      <td>2.58</td>\n      <td>50.00</td>\n      <td>24</td>\n      <td>168</td>\n      <td>145</td>\n    </tr>\n    <tr>\n      <th>8405</th>\n      <td>2022/01/03</td>\n      <td>22:30</td>\n      <td>Los Angeles Clippers</td>\n      <td>0</td>\n      <td>104</td>\n      <td>22</td>\n      <td>20</td>\n      <td>12</td>\n      <td>3</td>\n      <td>78</td>\n      <td>...</td>\n      <td>14.9</td>\n      <td>9.0</td>\n      <td>8.7</td>\n      <td>122.2</td>\n      <td>104.1</td>\n      <td>2.00</td>\n      <td>52.94</td>\n      <td>14</td>\n      <td>111</td>\n      <td>140</td>\n    </tr>\n    <tr>\n      <th>8406</th>\n      <td>2022/01/04</td>\n      <td>19:00</td>\n      <td>Cleveland Cavaliers</td>\n      <td>0</td>\n      <td>106</td>\n      <td>28</td>\n      <td>11</td>\n      <td>2</td>\n      <td>6</td>\n      <td>92</td>\n      <td>...</td>\n      <td>8.3</td>\n      <td>6.3</td>\n      <td>13.8</td>\n      <td>116.1</td>\n      <td>111.9</td>\n      <td>2.33</td>\n      <td>66.67</td>\n      <td>18</td>\n      <td>119</td>\n      <td>118</td>\n    </tr>\n  </tbody>\n</table>\n<p>8407 rows × 69 columns</p>\n</div>"
     },
     "execution_count": 8,
     "metadata": {},
     "output_type": "execute_result"
    }
   ],
   "source": [
    "# Player efficiency rating 績效指數評級 (PIR) 是一個總體績效指標。\n",
    "\n",
    "homePIR = ((nba_df['homePTS'] + nba_df['homeTRB'] + nba_df['homeAST']\n",
    "            + nba_df['homeSTL'] + nba_df['homeBLK'] + nba_df['awayFouls'])\n",
    "           # Missed Field Goals:\n",
    "           - ((nba_df['homeFGA']- nba_df['homeFGM'])\n",
    "              # Missed Free Throws:\n",
    "              +(nba_df['homeFTA'] - nba_df['homeFTM'])\n",
    "              + nba_df['homeTO'] + nba_df['awayBLK'] + nba_df['homeFouls']))\n",
    "\n",
    "awayPIR = ((nba_df['awayPTS'] + nba_df['awayTRB'] + nba_df['awayAST']\n",
    "            + nba_df['awaySTL'] + nba_df['awayBLK'] + nba_df['homeFouls'])\n",
    "           # Missed Field Goals:\n",
    "           - ((nba_df['awayFGA']- nba_df['awayFGM'])\n",
    "              # Missed Free Throws:\n",
    "              +(nba_df['awayFTA'] - nba_df['awayFTM'])\n",
    "              + nba_df['awayTO'] + nba_df['homeBLK'] + nba_df['awayFouls']))\n",
    "\n",
    "nba_df['homePIR'] = pd.Series(homePIR)\n",
    "nba_df['awayPIR'] = pd.Series(awayPIR)\n",
    "nba_df"
   ],
   "metadata": {
    "collapsed": false,
    "pycharm": {
     "name": "#%%\n"
    }
   }
  },
  {
   "cell_type": "code",
   "execution_count": 9,
   "outputs": [],
   "source": [
    "# 判斷是否為明星賽前後\n",
    "\n",
    "nba_df['gmDate'] = pd.to_datetime(nba_df['gmDate'], errors='coerce')\n",
    "nba_df['year'] = nba_df['gmDate'].dt.year\n",
    "nba_df['month'] = nba_df['gmDate'].dt.month\n",
    "\n",
    "def seasons(d):\n",
    "    y=d[0]\n",
    "    m=d[1]\n",
    "\n",
    "    if (y ==2014 and m in (10,11,12)) or (y==2015 and m in (1,2,3,4)):\n",
    "        s=1\n",
    "    elif (y==2015 and m in (10,11,12)) or (y==2016 and m in (1,2,3,4)):\n",
    "        s=2\n",
    "    elif (y==2016 and m in (10,11,12)) or (y==2017 and m in (1,2,3,4)):\n",
    "        s=3\n",
    "    elif (y==2017 and m in (10,11,12)) or (y==2018 and m in (1,2,3,4)):\n",
    "        s=4\n",
    "    elif (y==2018 and m in (10,11,12)) or (y==2019 and m in (1,2,3,4)):\n",
    "        s=5\n",
    "    elif (y==2019 and m in (10,11,12)) or (y==2020 and m in (1,2,3,4)):\n",
    "        s=6\n",
    "    elif (y==2020 and m in (10,11,12)) or (y==2021 and m in (1,2,3,4)):\n",
    "        s=7\n",
    "    else:\n",
    "        s=8\n",
    "    return s\n",
    "\n",
    "nba_df['Season'] = nba_df[['year','month']].apply(seasons,axis=1)"
   ],
   "metadata": {
    "collapsed": false,
    "pycharm": {
     "name": "#%%\n"
    }
   }
  },
  {
   "cell_type": "code",
   "execution_count": 10,
   "outputs": [
    {
     "data": {
      "text/plain": "         gmDate gmTime                homeAbbr  homeRslt  homePTS  homeAST  \\\n0    2014-10-28  20:00    New Orleans Pelicans         1      101       20   \n1    2014-10-28  20:00       San Antonio Spurs         1      101       23   \n2    2014-10-28  22:30      Los Angeles Lakers         0       90       16   \n3    2014-10-29  19:00       Charlotte Hornets         1      108       27   \n4    2014-10-29  19:00          Indiana Pacers         1      103       22   \n...         ...    ...                     ...       ...      ...      ...   \n8402 2022-01-03  20:30        Dallas Mavericks         1      103       23   \n8403 2022-01-03  22:00   Golden State Warriors         1      115       39   \n8404 2022-01-03  22:00  Portland Trail Blazers         1      136       29   \n8405 2022-01-03  22:30    Los Angeles Clippers         0      104       22   \n8406 2022-01-04  19:00     Cleveland Cavaliers         0      106       28   \n\n      homeTO  homeSTL  homeBLK  homeFGA  ...  awayDrtg  awayASTDividedByTO  \\\n0          9       10       17      101  ...     106.1                0.94   \n1         20        5        3       70  ...     117.3                1.70   \n2         11        7        3       79  ...      99.0                1.69   \n3         10        8        9      101  ...     106.8                1.79   \n4         17        5       13       81  ...     109.5                1.55   \n...      ...      ...      ...      ...  ...       ...                 ...   \n8402      11       12        5       78  ...     112.6                0.84   \n8403      12       11        6       92  ...     112.9                1.33   \n8404       9       10        3       89  ...     138.9                2.58   \n8405      20       12        3       78  ...     104.1                2.00   \n8406      11        2        6       92  ...     111.9                2.33   \n\n      awaySTLDividedByTO  awayFouls  homePIR  awayPIR  year  month  Season  \\\n0                  27.78         25      124       71  2014     10       1   \n1                  90.00         20      111      106  2014     10       1   \n2                  53.85         30       77      115  2014     10       1   \n3                  64.29         25      118      113  2014     10       1   \n4                  90.91         29      124       68  2014     10       1   \n...                  ...        ...      ...      ...   ...    ...     ...   \n8402               24.00         24      117       87  2022      1       8   \n8403               27.78         13      147      113  2022      1       8   \n8404               50.00         24      168      145  2022      1       8   \n8405               52.94         14      111      140  2022      1       8   \n8406               66.67         18      119      118  2022      1       8   \n\n      Season_half  \n0     Pre_AllStar  \n1     Pre_AllStar  \n2     Pre_AllStar  \n3     Pre_AllStar  \n4     Pre_AllStar  \n...           ...  \n8402  Pre_AllStar  \n8403  Pre_AllStar  \n8404  Pre_AllStar  \n8405  Pre_AllStar  \n8406  Pre_AllStar  \n\n[8407 rows x 73 columns]",
      "text/html": "<div>\n<style scoped>\n    .dataframe tbody tr th:only-of-type {\n        vertical-align: middle;\n    }\n\n    .dataframe tbody tr th {\n        vertical-align: top;\n    }\n\n    .dataframe thead th {\n        text-align: right;\n    }\n</style>\n<table border=\"1\" class=\"dataframe\">\n  <thead>\n    <tr style=\"text-align: right;\">\n      <th></th>\n      <th>gmDate</th>\n      <th>gmTime</th>\n      <th>homeAbbr</th>\n      <th>homeRslt</th>\n      <th>homePTS</th>\n      <th>homeAST</th>\n      <th>homeTO</th>\n      <th>homeSTL</th>\n      <th>homeBLK</th>\n      <th>homeFGA</th>\n      <th>...</th>\n      <th>awayDrtg</th>\n      <th>awayASTDividedByTO</th>\n      <th>awaySTLDividedByTO</th>\n      <th>awayFouls</th>\n      <th>homePIR</th>\n      <th>awayPIR</th>\n      <th>year</th>\n      <th>month</th>\n      <th>Season</th>\n      <th>Season_half</th>\n    </tr>\n  </thead>\n  <tbody>\n    <tr>\n      <th>0</th>\n      <td>2014-10-28</td>\n      <td>20:00</td>\n      <td>New Orleans Pelicans</td>\n      <td>1</td>\n      <td>101</td>\n      <td>20</td>\n      <td>9</td>\n      <td>10</td>\n      <td>17</td>\n      <td>101</td>\n      <td>...</td>\n      <td>106.1</td>\n      <td>0.94</td>\n      <td>27.78</td>\n      <td>25</td>\n      <td>124</td>\n      <td>71</td>\n      <td>2014</td>\n      <td>10</td>\n      <td>1</td>\n      <td>Pre_AllStar</td>\n    </tr>\n    <tr>\n      <th>1</th>\n      <td>2014-10-28</td>\n      <td>20:00</td>\n      <td>San Antonio Spurs</td>\n      <td>1</td>\n      <td>101</td>\n      <td>23</td>\n      <td>20</td>\n      <td>5</td>\n      <td>3</td>\n      <td>70</td>\n      <td>...</td>\n      <td>117.3</td>\n      <td>1.70</td>\n      <td>90.00</td>\n      <td>20</td>\n      <td>111</td>\n      <td>106</td>\n      <td>2014</td>\n      <td>10</td>\n      <td>1</td>\n      <td>Pre_AllStar</td>\n    </tr>\n    <tr>\n      <th>2</th>\n      <td>2014-10-28</td>\n      <td>22:30</td>\n      <td>Los Angeles Lakers</td>\n      <td>0</td>\n      <td>90</td>\n      <td>16</td>\n      <td>11</td>\n      <td>7</td>\n      <td>3</td>\n      <td>79</td>\n      <td>...</td>\n      <td>99.0</td>\n      <td>1.69</td>\n      <td>53.85</td>\n      <td>30</td>\n      <td>77</td>\n      <td>115</td>\n      <td>2014</td>\n      <td>10</td>\n      <td>1</td>\n      <td>Pre_AllStar</td>\n    </tr>\n    <tr>\n      <th>3</th>\n      <td>2014-10-29</td>\n      <td>19:00</td>\n      <td>Charlotte Hornets</td>\n      <td>1</td>\n      <td>108</td>\n      <td>27</td>\n      <td>10</td>\n      <td>8</td>\n      <td>9</td>\n      <td>101</td>\n      <td>...</td>\n      <td>106.8</td>\n      <td>1.79</td>\n      <td>64.29</td>\n      <td>25</td>\n      <td>118</td>\n      <td>113</td>\n      <td>2014</td>\n      <td>10</td>\n      <td>1</td>\n      <td>Pre_AllStar</td>\n    </tr>\n    <tr>\n      <th>4</th>\n      <td>2014-10-29</td>\n      <td>19:00</td>\n      <td>Indiana Pacers</td>\n      <td>1</td>\n      <td>103</td>\n      <td>22</td>\n      <td>17</td>\n      <td>5</td>\n      <td>13</td>\n      <td>81</td>\n      <td>...</td>\n      <td>109.5</td>\n      <td>1.55</td>\n      <td>90.91</td>\n      <td>29</td>\n      <td>124</td>\n      <td>68</td>\n      <td>2014</td>\n      <td>10</td>\n      <td>1</td>\n      <td>Pre_AllStar</td>\n    </tr>\n    <tr>\n      <th>...</th>\n      <td>...</td>\n      <td>...</td>\n      <td>...</td>\n      <td>...</td>\n      <td>...</td>\n      <td>...</td>\n      <td>...</td>\n      <td>...</td>\n      <td>...</td>\n      <td>...</td>\n      <td>...</td>\n      <td>...</td>\n      <td>...</td>\n      <td>...</td>\n      <td>...</td>\n      <td>...</td>\n      <td>...</td>\n      <td>...</td>\n      <td>...</td>\n      <td>...</td>\n      <td>...</td>\n    </tr>\n    <tr>\n      <th>8402</th>\n      <td>2022-01-03</td>\n      <td>20:30</td>\n      <td>Dallas Mavericks</td>\n      <td>1</td>\n      <td>103</td>\n      <td>23</td>\n      <td>11</td>\n      <td>12</td>\n      <td>5</td>\n      <td>78</td>\n      <td>...</td>\n      <td>112.6</td>\n      <td>0.84</td>\n      <td>24.00</td>\n      <td>24</td>\n      <td>117</td>\n      <td>87</td>\n      <td>2022</td>\n      <td>1</td>\n      <td>8</td>\n      <td>Pre_AllStar</td>\n    </tr>\n    <tr>\n      <th>8403</th>\n      <td>2022-01-03</td>\n      <td>22:00</td>\n      <td>Golden State Warriors</td>\n      <td>1</td>\n      <td>115</td>\n      <td>39</td>\n      <td>12</td>\n      <td>11</td>\n      <td>6</td>\n      <td>92</td>\n      <td>...</td>\n      <td>112.9</td>\n      <td>1.33</td>\n      <td>27.78</td>\n      <td>13</td>\n      <td>147</td>\n      <td>113</td>\n      <td>2022</td>\n      <td>1</td>\n      <td>8</td>\n      <td>Pre_AllStar</td>\n    </tr>\n    <tr>\n      <th>8404</th>\n      <td>2022-01-03</td>\n      <td>22:00</td>\n      <td>Portland Trail Blazers</td>\n      <td>1</td>\n      <td>136</td>\n      <td>29</td>\n      <td>9</td>\n      <td>10</td>\n      <td>3</td>\n      <td>89</td>\n      <td>...</td>\n      <td>138.9</td>\n      <td>2.58</td>\n      <td>50.00</td>\n      <td>24</td>\n      <td>168</td>\n      <td>145</td>\n      <td>2022</td>\n      <td>1</td>\n      <td>8</td>\n      <td>Pre_AllStar</td>\n    </tr>\n    <tr>\n      <th>8405</th>\n      <td>2022-01-03</td>\n      <td>22:30</td>\n      <td>Los Angeles Clippers</td>\n      <td>0</td>\n      <td>104</td>\n      <td>22</td>\n      <td>20</td>\n      <td>12</td>\n      <td>3</td>\n      <td>78</td>\n      <td>...</td>\n      <td>104.1</td>\n      <td>2.00</td>\n      <td>52.94</td>\n      <td>14</td>\n      <td>111</td>\n      <td>140</td>\n      <td>2022</td>\n      <td>1</td>\n      <td>8</td>\n      <td>Pre_AllStar</td>\n    </tr>\n    <tr>\n      <th>8406</th>\n      <td>2022-01-04</td>\n      <td>19:00</td>\n      <td>Cleveland Cavaliers</td>\n      <td>0</td>\n      <td>106</td>\n      <td>28</td>\n      <td>11</td>\n      <td>2</td>\n      <td>6</td>\n      <td>92</td>\n      <td>...</td>\n      <td>111.9</td>\n      <td>2.33</td>\n      <td>66.67</td>\n      <td>18</td>\n      <td>119</td>\n      <td>118</td>\n      <td>2022</td>\n      <td>1</td>\n      <td>8</td>\n      <td>Pre_AllStar</td>\n    </tr>\n  </tbody>\n</table>\n<p>8407 rows × 73 columns</p>\n</div>"
     },
     "execution_count": 10,
     "metadata": {},
     "output_type": "execute_result"
    }
   ],
   "source": [
    "def halfs(x):\n",
    "    if x in (10,11,12,1):\n",
    "        x = 'Pre_AllStar'\n",
    "    else:\n",
    "        x = 'Post_AllStar'\n",
    "    return (x)\n",
    "\n",
    "nba_df['Season_half']=nba_df['month'].apply(halfs)\n",
    "nba_df"
   ],
   "metadata": {
    "collapsed": false,
    "pycharm": {
     "name": "#%%\n"
    }
   }
  },
  {
   "cell_type": "code",
   "execution_count": 11,
   "outputs": [
    {
     "data": {
      "text/plain": "         gmDate gmTime                homeAbbr  homeRslt  homePTS  homeAST  \\\n0    2014-10-28  20:00    New Orleans Pelicans         1      101       20   \n1    2014-10-28  20:00       San Antonio Spurs         1      101       23   \n2    2014-10-28  22:30      Los Angeles Lakers         0       90       16   \n3    2014-10-29  19:00       Charlotte Hornets         1      108       27   \n4    2014-10-29  19:00          Indiana Pacers         1      103       22   \n...         ...    ...                     ...       ...      ...      ...   \n8402 2022-01-03  20:30        Dallas Mavericks         1      103       23   \n8403 2022-01-03  22:00   Golden State Warriors         1      115       39   \n8404 2022-01-03  22:00  Portland Trail Blazers         1      136       29   \n8405 2022-01-03  22:30    Los Angeles Clippers         0      104       22   \n8406 2022-01-04  19:00     Cleveland Cavaliers         0      106       28   \n\n      homeTO  homeSTL  homeBLK  homeFGA  ...  awayASTDividedByTO  \\\n0          9       10       17      101  ...                0.94   \n1         20        5        3       70  ...                1.70   \n2         11        7        3       79  ...                1.69   \n3         10        8        9      101  ...                1.79   \n4         17        5       13       81  ...                1.55   \n...      ...      ...      ...      ...  ...                 ...   \n8402      11       12        5       78  ...                0.84   \n8403      12       11        6       92  ...                1.33   \n8404       9       10        3       89  ...                2.58   \n8405      20       12        3       78  ...                2.00   \n8406      11        2        6       92  ...                2.33   \n\n      awaySTLDividedByTO  awayFouls  homePIR  awayPIR  year  month  Season  \\\n0                  27.78         25      124       71  2014     10       1   \n1                  90.00         20      111      106  2014     10       1   \n2                  53.85         30       77      115  2014     10       1   \n3                  64.29         25      118      113  2014     10       1   \n4                  90.91         29      124       68  2014     10       1   \n...                  ...        ...      ...      ...   ...    ...     ...   \n8402               24.00         24      117       87  2022      1       8   \n8403               27.78         13      147      113  2022      1       8   \n8404               50.00         24      168      145  2022      1       8   \n8405               52.94         14      111      140  2022      1       8   \n8406               66.67         18      119      118  2022      1       8   \n\n      Season_half  diffPTS  \n0     Pre_AllStar       17  \n1     Pre_AllStar        1  \n2     Pre_AllStar       18  \n3     Pre_AllStar        2  \n4     Pre_AllStar       12  \n...           ...      ...  \n8402  Pre_AllStar       14  \n8403  Pre_AllStar        7  \n8404  Pre_AllStar        5  \n8405  Pre_AllStar       18  \n8406  Pre_AllStar        4  \n\n[8407 rows x 74 columns]",
      "text/html": "<div>\n<style scoped>\n    .dataframe tbody tr th:only-of-type {\n        vertical-align: middle;\n    }\n\n    .dataframe tbody tr th {\n        vertical-align: top;\n    }\n\n    .dataframe thead th {\n        text-align: right;\n    }\n</style>\n<table border=\"1\" class=\"dataframe\">\n  <thead>\n    <tr style=\"text-align: right;\">\n      <th></th>\n      <th>gmDate</th>\n      <th>gmTime</th>\n      <th>homeAbbr</th>\n      <th>homeRslt</th>\n      <th>homePTS</th>\n      <th>homeAST</th>\n      <th>homeTO</th>\n      <th>homeSTL</th>\n      <th>homeBLK</th>\n      <th>homeFGA</th>\n      <th>...</th>\n      <th>awayASTDividedByTO</th>\n      <th>awaySTLDividedByTO</th>\n      <th>awayFouls</th>\n      <th>homePIR</th>\n      <th>awayPIR</th>\n      <th>year</th>\n      <th>month</th>\n      <th>Season</th>\n      <th>Season_half</th>\n      <th>diffPTS</th>\n    </tr>\n  </thead>\n  <tbody>\n    <tr>\n      <th>0</th>\n      <td>2014-10-28</td>\n      <td>20:00</td>\n      <td>New Orleans Pelicans</td>\n      <td>1</td>\n      <td>101</td>\n      <td>20</td>\n      <td>9</td>\n      <td>10</td>\n      <td>17</td>\n      <td>101</td>\n      <td>...</td>\n      <td>0.94</td>\n      <td>27.78</td>\n      <td>25</td>\n      <td>124</td>\n      <td>71</td>\n      <td>2014</td>\n      <td>10</td>\n      <td>1</td>\n      <td>Pre_AllStar</td>\n      <td>17</td>\n    </tr>\n    <tr>\n      <th>1</th>\n      <td>2014-10-28</td>\n      <td>20:00</td>\n      <td>San Antonio Spurs</td>\n      <td>1</td>\n      <td>101</td>\n      <td>23</td>\n      <td>20</td>\n      <td>5</td>\n      <td>3</td>\n      <td>70</td>\n      <td>...</td>\n      <td>1.70</td>\n      <td>90.00</td>\n      <td>20</td>\n      <td>111</td>\n      <td>106</td>\n      <td>2014</td>\n      <td>10</td>\n      <td>1</td>\n      <td>Pre_AllStar</td>\n      <td>1</td>\n    </tr>\n    <tr>\n      <th>2</th>\n      <td>2014-10-28</td>\n      <td>22:30</td>\n      <td>Los Angeles Lakers</td>\n      <td>0</td>\n      <td>90</td>\n      <td>16</td>\n      <td>11</td>\n      <td>7</td>\n      <td>3</td>\n      <td>79</td>\n      <td>...</td>\n      <td>1.69</td>\n      <td>53.85</td>\n      <td>30</td>\n      <td>77</td>\n      <td>115</td>\n      <td>2014</td>\n      <td>10</td>\n      <td>1</td>\n      <td>Pre_AllStar</td>\n      <td>18</td>\n    </tr>\n    <tr>\n      <th>3</th>\n      <td>2014-10-29</td>\n      <td>19:00</td>\n      <td>Charlotte Hornets</td>\n      <td>1</td>\n      <td>108</td>\n      <td>27</td>\n      <td>10</td>\n      <td>8</td>\n      <td>9</td>\n      <td>101</td>\n      <td>...</td>\n      <td>1.79</td>\n      <td>64.29</td>\n      <td>25</td>\n      <td>118</td>\n      <td>113</td>\n      <td>2014</td>\n      <td>10</td>\n      <td>1</td>\n      <td>Pre_AllStar</td>\n      <td>2</td>\n    </tr>\n    <tr>\n      <th>4</th>\n      <td>2014-10-29</td>\n      <td>19:00</td>\n      <td>Indiana Pacers</td>\n      <td>1</td>\n      <td>103</td>\n      <td>22</td>\n      <td>17</td>\n      <td>5</td>\n      <td>13</td>\n      <td>81</td>\n      <td>...</td>\n      <td>1.55</td>\n      <td>90.91</td>\n      <td>29</td>\n      <td>124</td>\n      <td>68</td>\n      <td>2014</td>\n      <td>10</td>\n      <td>1</td>\n      <td>Pre_AllStar</td>\n      <td>12</td>\n    </tr>\n    <tr>\n      <th>...</th>\n      <td>...</td>\n      <td>...</td>\n      <td>...</td>\n      <td>...</td>\n      <td>...</td>\n      <td>...</td>\n      <td>...</td>\n      <td>...</td>\n      <td>...</td>\n      <td>...</td>\n      <td>...</td>\n      <td>...</td>\n      <td>...</td>\n      <td>...</td>\n      <td>...</td>\n      <td>...</td>\n      <td>...</td>\n      <td>...</td>\n      <td>...</td>\n      <td>...</td>\n      <td>...</td>\n    </tr>\n    <tr>\n      <th>8402</th>\n      <td>2022-01-03</td>\n      <td>20:30</td>\n      <td>Dallas Mavericks</td>\n      <td>1</td>\n      <td>103</td>\n      <td>23</td>\n      <td>11</td>\n      <td>12</td>\n      <td>5</td>\n      <td>78</td>\n      <td>...</td>\n      <td>0.84</td>\n      <td>24.00</td>\n      <td>24</td>\n      <td>117</td>\n      <td>87</td>\n      <td>2022</td>\n      <td>1</td>\n      <td>8</td>\n      <td>Pre_AllStar</td>\n      <td>14</td>\n    </tr>\n    <tr>\n      <th>8403</th>\n      <td>2022-01-03</td>\n      <td>22:00</td>\n      <td>Golden State Warriors</td>\n      <td>1</td>\n      <td>115</td>\n      <td>39</td>\n      <td>12</td>\n      <td>11</td>\n      <td>6</td>\n      <td>92</td>\n      <td>...</td>\n      <td>1.33</td>\n      <td>27.78</td>\n      <td>13</td>\n      <td>147</td>\n      <td>113</td>\n      <td>2022</td>\n      <td>1</td>\n      <td>8</td>\n      <td>Pre_AllStar</td>\n      <td>7</td>\n    </tr>\n    <tr>\n      <th>8404</th>\n      <td>2022-01-03</td>\n      <td>22:00</td>\n      <td>Portland Trail Blazers</td>\n      <td>1</td>\n      <td>136</td>\n      <td>29</td>\n      <td>9</td>\n      <td>10</td>\n      <td>3</td>\n      <td>89</td>\n      <td>...</td>\n      <td>2.58</td>\n      <td>50.00</td>\n      <td>24</td>\n      <td>168</td>\n      <td>145</td>\n      <td>2022</td>\n      <td>1</td>\n      <td>8</td>\n      <td>Pre_AllStar</td>\n      <td>5</td>\n    </tr>\n    <tr>\n      <th>8405</th>\n      <td>2022-01-03</td>\n      <td>22:30</td>\n      <td>Los Angeles Clippers</td>\n      <td>0</td>\n      <td>104</td>\n      <td>22</td>\n      <td>20</td>\n      <td>12</td>\n      <td>3</td>\n      <td>78</td>\n      <td>...</td>\n      <td>2.00</td>\n      <td>52.94</td>\n      <td>14</td>\n      <td>111</td>\n      <td>140</td>\n      <td>2022</td>\n      <td>1</td>\n      <td>8</td>\n      <td>Pre_AllStar</td>\n      <td>18</td>\n    </tr>\n    <tr>\n      <th>8406</th>\n      <td>2022-01-04</td>\n      <td>19:00</td>\n      <td>Cleveland Cavaliers</td>\n      <td>0</td>\n      <td>106</td>\n      <td>28</td>\n      <td>11</td>\n      <td>2</td>\n      <td>6</td>\n      <td>92</td>\n      <td>...</td>\n      <td>2.33</td>\n      <td>66.67</td>\n      <td>18</td>\n      <td>119</td>\n      <td>118</td>\n      <td>2022</td>\n      <td>1</td>\n      <td>8</td>\n      <td>Pre_AllStar</td>\n      <td>4</td>\n    </tr>\n  </tbody>\n</table>\n<p>8407 rows × 74 columns</p>\n</div>"
     },
     "execution_count": 11,
     "metadata": {},
     "output_type": "execute_result"
    }
   ],
   "source": [
    "# 總得分差\n",
    "nba_df['diffPTS']=abs(nba_df['homePTS']-nba_df['awayPTS'])\n",
    "nba_df"
   ],
   "metadata": {
    "collapsed": false,
    "pycharm": {
     "name": "#%%\n"
    }
   }
  },
  {
   "cell_type": "code",
   "execution_count": 12,
   "outputs": [
    {
     "data": {
      "text/plain": "         gmDate                homeAbbr  home_games            awayAbbr  \\\n8    2014-10-29         New York Knicks           1       Chicago Bulls   \n16   2014-10-30     Cleveland Cavaliers           1     New York Knicks   \n40   2014-11-02         New York Knicks           3   Charlotte Hornets   \n50   2014-11-04         New York Knicks           4  Washington Wizards   \n60   2014-11-05         Detroit Pistons           4     New York Knicks   \n...         ...                     ...         ...                 ...   \n8334 2021-12-25         New York Knicks          33       Atlanta Hawks   \n8358 2021-12-28  Minnesota Timberwolves          34     New York Knicks   \n8362 2021-12-29         Detroit Pistons          33     New York Knicks   \n8380 2021-12-31   Oklahoma City Thunder          35     New York Knicks   \n8389 2022-01-02         Toronto Raptors          33     New York Knicks   \n\n      away_games  \n8              1  \n16             2  \n40             3  \n50             4  \n60             5  \n...          ...  \n8334          32  \n8358          34  \n8362          35  \n8380          36  \n8389          37  \n\n[561 rows x 5 columns]",
      "text/html": "<div>\n<style scoped>\n    .dataframe tbody tr th:only-of-type {\n        vertical-align: middle;\n    }\n\n    .dataframe tbody tr th {\n        vertical-align: top;\n    }\n\n    .dataframe thead th {\n        text-align: right;\n    }\n</style>\n<table border=\"1\" class=\"dataframe\">\n  <thead>\n    <tr style=\"text-align: right;\">\n      <th></th>\n      <th>gmDate</th>\n      <th>homeAbbr</th>\n      <th>home_games</th>\n      <th>awayAbbr</th>\n      <th>away_games</th>\n    </tr>\n  </thead>\n  <tbody>\n    <tr>\n      <th>8</th>\n      <td>2014-10-29</td>\n      <td>New York Knicks</td>\n      <td>1</td>\n      <td>Chicago Bulls</td>\n      <td>1</td>\n    </tr>\n    <tr>\n      <th>16</th>\n      <td>2014-10-30</td>\n      <td>Cleveland Cavaliers</td>\n      <td>1</td>\n      <td>New York Knicks</td>\n      <td>2</td>\n    </tr>\n    <tr>\n      <th>40</th>\n      <td>2014-11-02</td>\n      <td>New York Knicks</td>\n      <td>3</td>\n      <td>Charlotte Hornets</td>\n      <td>3</td>\n    </tr>\n    <tr>\n      <th>50</th>\n      <td>2014-11-04</td>\n      <td>New York Knicks</td>\n      <td>4</td>\n      <td>Washington Wizards</td>\n      <td>4</td>\n    </tr>\n    <tr>\n      <th>60</th>\n      <td>2014-11-05</td>\n      <td>Detroit Pistons</td>\n      <td>4</td>\n      <td>New York Knicks</td>\n      <td>5</td>\n    </tr>\n    <tr>\n      <th>...</th>\n      <td>...</td>\n      <td>...</td>\n      <td>...</td>\n      <td>...</td>\n      <td>...</td>\n    </tr>\n    <tr>\n      <th>8334</th>\n      <td>2021-12-25</td>\n      <td>New York Knicks</td>\n      <td>33</td>\n      <td>Atlanta Hawks</td>\n      <td>32</td>\n    </tr>\n    <tr>\n      <th>8358</th>\n      <td>2021-12-28</td>\n      <td>Minnesota Timberwolves</td>\n      <td>34</td>\n      <td>New York Knicks</td>\n      <td>34</td>\n    </tr>\n    <tr>\n      <th>8362</th>\n      <td>2021-12-29</td>\n      <td>Detroit Pistons</td>\n      <td>33</td>\n      <td>New York Knicks</td>\n      <td>35</td>\n    </tr>\n    <tr>\n      <th>8380</th>\n      <td>2021-12-31</td>\n      <td>Oklahoma City Thunder</td>\n      <td>35</td>\n      <td>New York Knicks</td>\n      <td>36</td>\n    </tr>\n    <tr>\n      <th>8389</th>\n      <td>2022-01-02</td>\n      <td>Toronto Raptors</td>\n      <td>33</td>\n      <td>New York Knicks</td>\n      <td>37</td>\n    </tr>\n  </tbody>\n</table>\n<p>561 rows × 5 columns</p>\n</div>"
     },
     "execution_count": 12,
     "metadata": {},
     "output_type": "execute_result"
    }
   ],
   "source": [
    "# 紀錄主客隊場次\n",
    "team_games = {}\n",
    "for index, row in nba_df[['homeAbbr','Season']].groupby(['homeAbbr','Season']).size().reset_index().sort_values(by=['homeAbbr','Season'])[:].iterrows():\n",
    "    team_games[f\"{row['homeAbbr']},{row['Season']}\"] = 1\n",
    "home_games = []\n",
    "away_games = []\n",
    "for index, row in nba_df.iterrows():\n",
    "\n",
    "    home_games.append(team_games[f\"{row['homeAbbr']},{row['Season']}\"])\n",
    "    team_games[f\"{row['homeAbbr']},{row['Season']}\"] = team_games[f\"{row['homeAbbr']},{row['Season']}\"]+1\n",
    "\n",
    "    away_games.append(team_games[f\"{row['awayAbbr']},{row['Season']}\"])\n",
    "    team_games[f\"{row['awayAbbr']},{row['Season']}\"] = team_games[f\"{row['awayAbbr']},{row['Season']}\"]+1\n",
    "\n",
    "nba_df['home_games'] = pd.Series(home_games)\n",
    "nba_df['away_games'] = pd.Series(away_games)\n",
    "nba_df[(nba_df.homeAbbr=='New York Knicks')|(nba_df.awayAbbr=='New York Knicks')][['gmDate','homeAbbr','home_games','awayAbbr','away_games']]"
   ],
   "metadata": {
    "collapsed": false,
    "pycharm": {
     "name": "#%%\n"
    }
   }
  },
  {
   "cell_type": "code",
   "execution_count": 13,
   "outputs": [
    {
     "data": {
      "text/plain": "      homeRslt     gmDate gmTime                homeAbbr  home_games  \\\n0            1 2014-10-28  20:00    New Orleans Pelicans           1   \n1            1 2014-10-28  20:00       San Antonio Spurs           1   \n2            0 2014-10-28  22:30      Los Angeles Lakers           1   \n3            1 2014-10-29  19:00       Charlotte Hornets           1   \n4            1 2014-10-29  19:00          Indiana Pacers           1   \n...        ...        ...    ...                     ...         ...   \n8402         1 2022-01-03  20:30        Dallas Mavericks          37   \n8403         1 2022-01-03  22:00   Golden State Warriors          36   \n8404         1 2022-01-03  22:00  Portland Trail Blazers          36   \n8405         0 2022-01-03  22:30    Los Angeles Clippers          38   \n8406         0 2022-01-04  19:00     Cleveland Cavaliers          38   \n\n                    awayAbbr  away_games  Season_half  \n0              Orlando Magic           1  Pre_AllStar  \n1           Dallas Mavericks           1  Pre_AllStar  \n2            Houston Rockets           1  Pre_AllStar  \n3            Milwaukee Bucks           1  Pre_AllStar  \n4         Philadelphia 76ers           1  Pre_AllStar  \n...                      ...         ...          ...  \n8402          Denver Nuggets          35  Pre_AllStar  \n8403              Miami Heat          38  Pre_AllStar  \n8404           Atlanta Hawks          36  Pre_AllStar  \n8405  Minnesota Timberwolves          37  Pre_AllStar  \n8406       Memphis Grizzlies          39  Pre_AllStar  \n\n[8407 rows x 8 columns]",
      "text/html": "<div>\n<style scoped>\n    .dataframe tbody tr th:only-of-type {\n        vertical-align: middle;\n    }\n\n    .dataframe tbody tr th {\n        vertical-align: top;\n    }\n\n    .dataframe thead th {\n        text-align: right;\n    }\n</style>\n<table border=\"1\" class=\"dataframe\">\n  <thead>\n    <tr style=\"text-align: right;\">\n      <th></th>\n      <th>homeRslt</th>\n      <th>gmDate</th>\n      <th>gmTime</th>\n      <th>homeAbbr</th>\n      <th>home_games</th>\n      <th>awayAbbr</th>\n      <th>away_games</th>\n      <th>Season_half</th>\n    </tr>\n  </thead>\n  <tbody>\n    <tr>\n      <th>0</th>\n      <td>1</td>\n      <td>2014-10-28</td>\n      <td>20:00</td>\n      <td>New Orleans Pelicans</td>\n      <td>1</td>\n      <td>Orlando Magic</td>\n      <td>1</td>\n      <td>Pre_AllStar</td>\n    </tr>\n    <tr>\n      <th>1</th>\n      <td>1</td>\n      <td>2014-10-28</td>\n      <td>20:00</td>\n      <td>San Antonio Spurs</td>\n      <td>1</td>\n      <td>Dallas Mavericks</td>\n      <td>1</td>\n      <td>Pre_AllStar</td>\n    </tr>\n    <tr>\n      <th>2</th>\n      <td>0</td>\n      <td>2014-10-28</td>\n      <td>22:30</td>\n      <td>Los Angeles Lakers</td>\n      <td>1</td>\n      <td>Houston Rockets</td>\n      <td>1</td>\n      <td>Pre_AllStar</td>\n    </tr>\n    <tr>\n      <th>3</th>\n      <td>1</td>\n      <td>2014-10-29</td>\n      <td>19:00</td>\n      <td>Charlotte Hornets</td>\n      <td>1</td>\n      <td>Milwaukee Bucks</td>\n      <td>1</td>\n      <td>Pre_AllStar</td>\n    </tr>\n    <tr>\n      <th>4</th>\n      <td>1</td>\n      <td>2014-10-29</td>\n      <td>19:00</td>\n      <td>Indiana Pacers</td>\n      <td>1</td>\n      <td>Philadelphia 76ers</td>\n      <td>1</td>\n      <td>Pre_AllStar</td>\n    </tr>\n    <tr>\n      <th>...</th>\n      <td>...</td>\n      <td>...</td>\n      <td>...</td>\n      <td>...</td>\n      <td>...</td>\n      <td>...</td>\n      <td>...</td>\n      <td>...</td>\n    </tr>\n    <tr>\n      <th>8402</th>\n      <td>1</td>\n      <td>2022-01-03</td>\n      <td>20:30</td>\n      <td>Dallas Mavericks</td>\n      <td>37</td>\n      <td>Denver Nuggets</td>\n      <td>35</td>\n      <td>Pre_AllStar</td>\n    </tr>\n    <tr>\n      <th>8403</th>\n      <td>1</td>\n      <td>2022-01-03</td>\n      <td>22:00</td>\n      <td>Golden State Warriors</td>\n      <td>36</td>\n      <td>Miami Heat</td>\n      <td>38</td>\n      <td>Pre_AllStar</td>\n    </tr>\n    <tr>\n      <th>8404</th>\n      <td>1</td>\n      <td>2022-01-03</td>\n      <td>22:00</td>\n      <td>Portland Trail Blazers</td>\n      <td>36</td>\n      <td>Atlanta Hawks</td>\n      <td>36</td>\n      <td>Pre_AllStar</td>\n    </tr>\n    <tr>\n      <th>8405</th>\n      <td>0</td>\n      <td>2022-01-03</td>\n      <td>22:30</td>\n      <td>Los Angeles Clippers</td>\n      <td>38</td>\n      <td>Minnesota Timberwolves</td>\n      <td>37</td>\n      <td>Pre_AllStar</td>\n    </tr>\n    <tr>\n      <th>8406</th>\n      <td>0</td>\n      <td>2022-01-04</td>\n      <td>19:00</td>\n      <td>Cleveland Cavaliers</td>\n      <td>38</td>\n      <td>Memphis Grizzlies</td>\n      <td>39</td>\n      <td>Pre_AllStar</td>\n    </tr>\n  </tbody>\n</table>\n<p>8407 rows × 8 columns</p>\n</div>"
     },
     "execution_count": 13,
     "metadata": {},
     "output_type": "execute_result"
    }
   ],
   "source": [
    "#DF for ML:\n",
    "nba_df_for_ML = nba_df[['homeRslt','gmDate','gmTime','homeAbbr','home_games','awayAbbr','away_games','Season_half']].copy()\n",
    "nba_df_for_ML"
   ],
   "metadata": {
    "collapsed": false,
    "pycharm": {
     "name": "#%%\n"
    }
   }
  },
  {
   "cell_type": "code",
   "execution_count": 15,
   "outputs": [
    {
     "data": {
      "text/plain": "         gmDate gmTime            homeAbbr  home_games  home_streak  \\\n3    2014-10-29  19:00   Charlotte Hornets           1            0   \n22   2014-10-31  20:30     Milwaukee Bucks           2            0   \n30   2014-11-01  19:00  Washington Wizards           3            1   \n48   2014-11-04  19:00      Indiana Pacers           4            0   \n61   2014-11-05  20:00     Milwaukee Bucks           5            1   \n...         ...    ...                 ...         ...          ...   \n8335 2021-12-25  14:30     Milwaukee Bucks          35            2   \n8354 2021-12-28  19:00       Orlando Magic          35            0   \n8371 2021-12-30  19:00       Orlando Magic          36            0   \n8383 2022-01-01  18:30     Milwaukee Bucks          38            5   \n8400 2022-01-03  20:00     Milwaukee Bucks          39            6   \n\n                  awayAbbr  away_games  away_streak  \n3          Milwaukee Bucks           1            0  \n22      Philadelphia 76ers           2            0  \n30         Milwaukee Bucks           3            1  \n48         Milwaukee Bucks           4            0  \n61           Chicago Bulls           5            2  \n...                    ...         ...          ...  \n8335        Boston Celtics          33            1  \n8354       Milwaukee Bucks          36            3  \n8371       Milwaukee Bucks          37            4  \n8383  New Orleans Pelicans          36            1  \n8400       Detroit Pistons          35            1  \n\n[562 rows x 8 columns]",
      "text/html": "<div>\n<style scoped>\n    .dataframe tbody tr th:only-of-type {\n        vertical-align: middle;\n    }\n\n    .dataframe tbody tr th {\n        vertical-align: top;\n    }\n\n    .dataframe thead th {\n        text-align: right;\n    }\n</style>\n<table border=\"1\" class=\"dataframe\">\n  <thead>\n    <tr style=\"text-align: right;\">\n      <th></th>\n      <th>gmDate</th>\n      <th>gmTime</th>\n      <th>homeAbbr</th>\n      <th>home_games</th>\n      <th>home_streak</th>\n      <th>awayAbbr</th>\n      <th>away_games</th>\n      <th>away_streak</th>\n    </tr>\n  </thead>\n  <tbody>\n    <tr>\n      <th>3</th>\n      <td>2014-10-29</td>\n      <td>19:00</td>\n      <td>Charlotte Hornets</td>\n      <td>1</td>\n      <td>0</td>\n      <td>Milwaukee Bucks</td>\n      <td>1</td>\n      <td>0</td>\n    </tr>\n    <tr>\n      <th>22</th>\n      <td>2014-10-31</td>\n      <td>20:30</td>\n      <td>Milwaukee Bucks</td>\n      <td>2</td>\n      <td>0</td>\n      <td>Philadelphia 76ers</td>\n      <td>2</td>\n      <td>0</td>\n    </tr>\n    <tr>\n      <th>30</th>\n      <td>2014-11-01</td>\n      <td>19:00</td>\n      <td>Washington Wizards</td>\n      <td>3</td>\n      <td>1</td>\n      <td>Milwaukee Bucks</td>\n      <td>3</td>\n      <td>1</td>\n    </tr>\n    <tr>\n      <th>48</th>\n      <td>2014-11-04</td>\n      <td>19:00</td>\n      <td>Indiana Pacers</td>\n      <td>4</td>\n      <td>0</td>\n      <td>Milwaukee Bucks</td>\n      <td>4</td>\n      <td>0</td>\n    </tr>\n    <tr>\n      <th>61</th>\n      <td>2014-11-05</td>\n      <td>20:00</td>\n      <td>Milwaukee Bucks</td>\n      <td>5</td>\n      <td>1</td>\n      <td>Chicago Bulls</td>\n      <td>5</td>\n      <td>2</td>\n    </tr>\n    <tr>\n      <th>...</th>\n      <td>...</td>\n      <td>...</td>\n      <td>...</td>\n      <td>...</td>\n      <td>...</td>\n      <td>...</td>\n      <td>...</td>\n      <td>...</td>\n    </tr>\n    <tr>\n      <th>8335</th>\n      <td>2021-12-25</td>\n      <td>14:30</td>\n      <td>Milwaukee Bucks</td>\n      <td>35</td>\n      <td>2</td>\n      <td>Boston Celtics</td>\n      <td>33</td>\n      <td>1</td>\n    </tr>\n    <tr>\n      <th>8354</th>\n      <td>2021-12-28</td>\n      <td>19:00</td>\n      <td>Orlando Magic</td>\n      <td>35</td>\n      <td>0</td>\n      <td>Milwaukee Bucks</td>\n      <td>36</td>\n      <td>3</td>\n    </tr>\n    <tr>\n      <th>8371</th>\n      <td>2021-12-30</td>\n      <td>19:00</td>\n      <td>Orlando Magic</td>\n      <td>36</td>\n      <td>0</td>\n      <td>Milwaukee Bucks</td>\n      <td>37</td>\n      <td>4</td>\n    </tr>\n    <tr>\n      <th>8383</th>\n      <td>2022-01-01</td>\n      <td>18:30</td>\n      <td>Milwaukee Bucks</td>\n      <td>38</td>\n      <td>5</td>\n      <td>New Orleans Pelicans</td>\n      <td>36</td>\n      <td>1</td>\n    </tr>\n    <tr>\n      <th>8400</th>\n      <td>2022-01-03</td>\n      <td>20:00</td>\n      <td>Milwaukee Bucks</td>\n      <td>39</td>\n      <td>6</td>\n      <td>Detroit Pistons</td>\n      <td>35</td>\n      <td>1</td>\n    </tr>\n  </tbody>\n</table>\n<p>562 rows × 8 columns</p>\n</div>"
     },
     "execution_count": 15,
     "metadata": {},
     "output_type": "execute_result"
    }
   ],
   "source": [
    "# 新增連勝特徵\n",
    "\n",
    "team_streak_dict = {}\n",
    "for index, row in nba_df[['homeAbbr','Season']].groupby(['homeAbbr','Season']).size().reset_index().sort_values(by=['homeAbbr','Season'])[:].iterrows():\n",
    "    team_streak_dict[f\"{row['homeAbbr']},{row['Season']}\"] = 0\n",
    "\n",
    "\n",
    "home_streaks = []\n",
    "away_streaks= []\n",
    "for index, row in nba_df.iterrows():\n",
    "\n",
    "    home_streaks.append(team_streak_dict[f\"{row['homeAbbr']},{row['Season']}\"])\n",
    "    away_streaks.append(team_streak_dict[f\"{row['awayAbbr']},{row['Season']}\"])\n",
    "\n",
    "    if row['homeRslt'] == 1:\n",
    "        team_streak_dict[f\"{row['homeAbbr']},{row['Season']}\"] = team_streak_dict[f\"{row['homeAbbr']},{row['Season']}\"]+1\n",
    "        team_streak_dict[f\"{row['awayAbbr']},{row['Season']}\"] = 0\n",
    "    else:\n",
    "        team_streak_dict[f\"{row['homeAbbr']},{row['Season']}\"] = 0\n",
    "        team_streak_dict[f\"{row['awayAbbr']},{row['Season']}\"] = team_streak_dict[f\"{row['awayAbbr']},{row['Season']}\"]+1\n",
    "\n",
    "nba_df_for_ML['home_streak'] = pd.Series(home_streaks)\n",
    "nba_df_for_ML['away_streak'] = pd.Series(away_streaks)\n",
    "\n",
    "nba_df_for_ML[((nba_df_for_ML.homeAbbr=='Milwaukee Bucks')|(nba_df_for_ML.awayAbbr=='Milwaukee Bucks'))][['gmDate','gmTime','homeAbbr','home_games','home_streak','awayAbbr','away_games','away_streak']]"
   ],
   "metadata": {
    "collapsed": false,
    "pycharm": {
     "name": "#%%\n"
    }
   }
  },
  {
   "cell_type": "code",
   "execution_count": 16,
   "outputs": [
    {
     "name": "stderr",
     "output_type": "stream",
     "text": [
      "C:\\Users\\xin\\AppData\\Local\\Temp/ipykernel_15548/1593516627.py:6: SettingWithCopyWarning: \n",
      "A value is trying to be set on a copy of a slice from a DataFrame.\n",
      "Try using .loc[row_indexer,col_indexer] = value instead\n",
      "\n",
      "See the caveats in the documentation: https://pandas.pydata.org/pandas-docs/stable/user_guide/indexing.html#returning-a-view-versus-a-copy\n",
      "  team_FiveLastGamesAvgDict[f\"{row['homeAbbr']},{row['Season']}\"]['games'] = pd.Series(list(range(len(team_FiveLastGamesAvgDict[f\"{row['homeAbbr']},{row['Season']}\"]))))+1\n"
     ]
    },
    {
     "data": {
      "text/plain": "      homeRslt     gmDate gmTime                homeAbbr  home_games  \\\n0            1 2014-10-28  20:00    New Orleans Pelicans           1   \n1            1 2014-10-28  20:00       San Antonio Spurs           1   \n2            0 2014-10-28  22:30      Los Angeles Lakers           1   \n3            1 2014-10-29  19:00       Charlotte Hornets           1   \n4            1 2014-10-29  19:00          Indiana Pacers           1   \n...        ...        ...    ...                     ...         ...   \n8402         1 2022-01-03  20:30        Dallas Mavericks          37   \n8403         1 2022-01-03  22:00   Golden State Warriors          36   \n8404         1 2022-01-03  22:00  Portland Trail Blazers          36   \n8405         0 2022-01-03  22:30    Los Angeles Clippers          38   \n8406         0 2022-01-04  19:00     Cleveland Cavaliers          38   \n\n                    awayAbbr  away_games  Season_half  home_streak  \\\n0              Orlando Magic           1  Pre_AllStar            0   \n1           Dallas Mavericks           1  Pre_AllStar            0   \n2            Houston Rockets           1  Pre_AllStar            0   \n3            Milwaukee Bucks           1  Pre_AllStar            0   \n4         Philadelphia 76ers           1  Pre_AllStar            0   \n...                      ...         ...          ...          ...   \n8402          Denver Nuggets          35  Pre_AllStar            2   \n8403              Miami Heat          38  Pre_AllStar            1   \n8404           Atlanta Hawks          36  Pre_AllStar            0   \n8405  Minnesota Timberwolves          37  Pre_AllStar            1   \n8406       Memphis Grizzlies          39  Pre_AllStar            1   \n\n      away_streak  ...  home_avg_homeTO  away_avg_awayTO  home_avg_homeSTL  \\\n0               0  ...              0.0              0.0               0.0   \n1               0  ...              0.0              0.0               0.0   \n2               0  ...              0.0              0.0               0.0   \n3               0  ...              0.0              0.0               0.0   \n4               0  ...              0.0              0.0               0.0   \n...           ...  ...              ...              ...               ...   \n8402            3  ...             12.8             14.6               6.8   \n8403            0  ...             14.8             11.2              10.0   \n8404            1  ...             12.0              9.0               6.0   \n8405            0  ...             12.2             14.2               6.6   \n8406            5  ...              9.6             12.4               5.8   \n\n      away_avg_awaySTL  home_avg_homeBLK  away_avg_awayBLK  \\\n0                  0.0               0.0               0.0   \n1                  0.0               0.0               0.0   \n2                  0.0               0.0               0.0   \n3                  0.0               0.0               0.0   \n4                  0.0               0.0               0.0   \n...                ...               ...               ...   \n8402               8.2               4.4               4.4   \n8403               7.2               5.8               3.0   \n8404               6.0               4.6               4.2   \n8405               7.6               5.6               5.4   \n8406              10.4               4.6               6.6   \n\n      home_avg_homeFouls  away_avg_awayFouls  home_avg_home_diffPTS  \\\n0                    0.0                 0.0                    0.0   \n1                    0.0                 0.0                    0.0   \n2                    0.0                 0.0                    0.0   \n3                    0.0                 0.0                    0.0   \n4                    0.0                 0.0                    0.0   \n...                  ...                 ...                    ...   \n8402                21.4                20.4                    9.0   \n8403                20.6                18.2                    8.6   \n8404                22.6                17.0                   16.4   \n8405                18.8                22.0                    8.0   \n8406                16.4                18.4                   14.6   \n\n      away_avg_away_diffPTS  \n0                       0.0  \n1                       0.0  \n2                       0.0  \n3                       0.0  \n4                       0.0  \n...                     ...  \n8402                    8.2  \n8403                    6.4  \n8404                    9.0  \n8405                    8.4  \n8406                   11.6  \n\n[8407 rows x 40 columns]",
      "text/html": "<div>\n<style scoped>\n    .dataframe tbody tr th:only-of-type {\n        vertical-align: middle;\n    }\n\n    .dataframe tbody tr th {\n        vertical-align: top;\n    }\n\n    .dataframe thead th {\n        text-align: right;\n    }\n</style>\n<table border=\"1\" class=\"dataframe\">\n  <thead>\n    <tr style=\"text-align: right;\">\n      <th></th>\n      <th>homeRslt</th>\n      <th>gmDate</th>\n      <th>gmTime</th>\n      <th>homeAbbr</th>\n      <th>home_games</th>\n      <th>awayAbbr</th>\n      <th>away_games</th>\n      <th>Season_half</th>\n      <th>home_streak</th>\n      <th>away_streak</th>\n      <th>...</th>\n      <th>home_avg_homeTO</th>\n      <th>away_avg_awayTO</th>\n      <th>home_avg_homeSTL</th>\n      <th>away_avg_awaySTL</th>\n      <th>home_avg_homeBLK</th>\n      <th>away_avg_awayBLK</th>\n      <th>home_avg_homeFouls</th>\n      <th>away_avg_awayFouls</th>\n      <th>home_avg_home_diffPTS</th>\n      <th>away_avg_away_diffPTS</th>\n    </tr>\n  </thead>\n  <tbody>\n    <tr>\n      <th>0</th>\n      <td>1</td>\n      <td>2014-10-28</td>\n      <td>20:00</td>\n      <td>New Orleans Pelicans</td>\n      <td>1</td>\n      <td>Orlando Magic</td>\n      <td>1</td>\n      <td>Pre_AllStar</td>\n      <td>0</td>\n      <td>0</td>\n      <td>...</td>\n      <td>0.0</td>\n      <td>0.0</td>\n      <td>0.0</td>\n      <td>0.0</td>\n      <td>0.0</td>\n      <td>0.0</td>\n      <td>0.0</td>\n      <td>0.0</td>\n      <td>0.0</td>\n      <td>0.0</td>\n    </tr>\n    <tr>\n      <th>1</th>\n      <td>1</td>\n      <td>2014-10-28</td>\n      <td>20:00</td>\n      <td>San Antonio Spurs</td>\n      <td>1</td>\n      <td>Dallas Mavericks</td>\n      <td>1</td>\n      <td>Pre_AllStar</td>\n      <td>0</td>\n      <td>0</td>\n      <td>...</td>\n      <td>0.0</td>\n      <td>0.0</td>\n      <td>0.0</td>\n      <td>0.0</td>\n      <td>0.0</td>\n      <td>0.0</td>\n      <td>0.0</td>\n      <td>0.0</td>\n      <td>0.0</td>\n      <td>0.0</td>\n    </tr>\n    <tr>\n      <th>2</th>\n      <td>0</td>\n      <td>2014-10-28</td>\n      <td>22:30</td>\n      <td>Los Angeles Lakers</td>\n      <td>1</td>\n      <td>Houston Rockets</td>\n      <td>1</td>\n      <td>Pre_AllStar</td>\n      <td>0</td>\n      <td>0</td>\n      <td>...</td>\n      <td>0.0</td>\n      <td>0.0</td>\n      <td>0.0</td>\n      <td>0.0</td>\n      <td>0.0</td>\n      <td>0.0</td>\n      <td>0.0</td>\n      <td>0.0</td>\n      <td>0.0</td>\n      <td>0.0</td>\n    </tr>\n    <tr>\n      <th>3</th>\n      <td>1</td>\n      <td>2014-10-29</td>\n      <td>19:00</td>\n      <td>Charlotte Hornets</td>\n      <td>1</td>\n      <td>Milwaukee Bucks</td>\n      <td>1</td>\n      <td>Pre_AllStar</td>\n      <td>0</td>\n      <td>0</td>\n      <td>...</td>\n      <td>0.0</td>\n      <td>0.0</td>\n      <td>0.0</td>\n      <td>0.0</td>\n      <td>0.0</td>\n      <td>0.0</td>\n      <td>0.0</td>\n      <td>0.0</td>\n      <td>0.0</td>\n      <td>0.0</td>\n    </tr>\n    <tr>\n      <th>4</th>\n      <td>1</td>\n      <td>2014-10-29</td>\n      <td>19:00</td>\n      <td>Indiana Pacers</td>\n      <td>1</td>\n      <td>Philadelphia 76ers</td>\n      <td>1</td>\n      <td>Pre_AllStar</td>\n      <td>0</td>\n      <td>0</td>\n      <td>...</td>\n      <td>0.0</td>\n      <td>0.0</td>\n      <td>0.0</td>\n      <td>0.0</td>\n      <td>0.0</td>\n      <td>0.0</td>\n      <td>0.0</td>\n      <td>0.0</td>\n      <td>0.0</td>\n      <td>0.0</td>\n    </tr>\n    <tr>\n      <th>...</th>\n      <td>...</td>\n      <td>...</td>\n      <td>...</td>\n      <td>...</td>\n      <td>...</td>\n      <td>...</td>\n      <td>...</td>\n      <td>...</td>\n      <td>...</td>\n      <td>...</td>\n      <td>...</td>\n      <td>...</td>\n      <td>...</td>\n      <td>...</td>\n      <td>...</td>\n      <td>...</td>\n      <td>...</td>\n      <td>...</td>\n      <td>...</td>\n      <td>...</td>\n      <td>...</td>\n    </tr>\n    <tr>\n      <th>8402</th>\n      <td>1</td>\n      <td>2022-01-03</td>\n      <td>20:30</td>\n      <td>Dallas Mavericks</td>\n      <td>37</td>\n      <td>Denver Nuggets</td>\n      <td>35</td>\n      <td>Pre_AllStar</td>\n      <td>2</td>\n      <td>3</td>\n      <td>...</td>\n      <td>12.8</td>\n      <td>14.6</td>\n      <td>6.8</td>\n      <td>8.2</td>\n      <td>4.4</td>\n      <td>4.4</td>\n      <td>21.4</td>\n      <td>20.4</td>\n      <td>9.0</td>\n      <td>8.2</td>\n    </tr>\n    <tr>\n      <th>8403</th>\n      <td>1</td>\n      <td>2022-01-03</td>\n      <td>22:00</td>\n      <td>Golden State Warriors</td>\n      <td>36</td>\n      <td>Miami Heat</td>\n      <td>38</td>\n      <td>Pre_AllStar</td>\n      <td>1</td>\n      <td>0</td>\n      <td>...</td>\n      <td>14.8</td>\n      <td>11.2</td>\n      <td>10.0</td>\n      <td>7.2</td>\n      <td>5.8</td>\n      <td>3.0</td>\n      <td>20.6</td>\n      <td>18.2</td>\n      <td>8.6</td>\n      <td>6.4</td>\n    </tr>\n    <tr>\n      <th>8404</th>\n      <td>1</td>\n      <td>2022-01-03</td>\n      <td>22:00</td>\n      <td>Portland Trail Blazers</td>\n      <td>36</td>\n      <td>Atlanta Hawks</td>\n      <td>36</td>\n      <td>Pre_AllStar</td>\n      <td>0</td>\n      <td>1</td>\n      <td>...</td>\n      <td>12.0</td>\n      <td>9.0</td>\n      <td>6.0</td>\n      <td>6.0</td>\n      <td>4.6</td>\n      <td>4.2</td>\n      <td>22.6</td>\n      <td>17.0</td>\n      <td>16.4</td>\n      <td>9.0</td>\n    </tr>\n    <tr>\n      <th>8405</th>\n      <td>0</td>\n      <td>2022-01-03</td>\n      <td>22:30</td>\n      <td>Los Angeles Clippers</td>\n      <td>38</td>\n      <td>Minnesota Timberwolves</td>\n      <td>37</td>\n      <td>Pre_AllStar</td>\n      <td>1</td>\n      <td>0</td>\n      <td>...</td>\n      <td>12.2</td>\n      <td>14.2</td>\n      <td>6.6</td>\n      <td>7.6</td>\n      <td>5.6</td>\n      <td>5.4</td>\n      <td>18.8</td>\n      <td>22.0</td>\n      <td>8.0</td>\n      <td>8.4</td>\n    </tr>\n    <tr>\n      <th>8406</th>\n      <td>0</td>\n      <td>2022-01-04</td>\n      <td>19:00</td>\n      <td>Cleveland Cavaliers</td>\n      <td>38</td>\n      <td>Memphis Grizzlies</td>\n      <td>39</td>\n      <td>Pre_AllStar</td>\n      <td>1</td>\n      <td>5</td>\n      <td>...</td>\n      <td>9.6</td>\n      <td>12.4</td>\n      <td>5.8</td>\n      <td>10.4</td>\n      <td>4.6</td>\n      <td>6.6</td>\n      <td>16.4</td>\n      <td>18.4</td>\n      <td>14.6</td>\n      <td>11.6</td>\n    </tr>\n  </tbody>\n</table>\n<p>8407 rows × 40 columns</p>\n</div>"
     },
     "execution_count": 16,
     "metadata": {},
     "output_type": "execute_result"
    }
   ],
   "source": [
    "# 新增前5場平均表現特徵\n",
    "team_FiveLastGamesAvgDict = {}\n",
    "for index, row in nba_df[['homeAbbr','Season']].groupby(['homeAbbr','Season']).size().reset_index().sort_values(by=['homeAbbr','Season'])[:].iterrows():\n",
    "    team_FiveLastGamesAvgDict[f\"{row['homeAbbr']},{row['Season']}\"] = nba_df[((nba_df.homeAbbr==row['homeAbbr']) | (nba_df.awayAbbr==row['homeAbbr'])) & (nba_df.Season==row['Season'])]\n",
    "    team_FiveLastGamesAvgDict[f\"{row['homeAbbr']},{row['Season']}\"].reset_index(drop=True,inplace=True)\n",
    "    team_FiveLastGamesAvgDict[f\"{row['homeAbbr']},{row['Season']}\"]['games'] = pd.Series(list(range(len(team_FiveLastGamesAvgDict[f\"{row['homeAbbr']},{row['Season']}\"]))))+1\n",
    "\n",
    "\n",
    "home_cols = ['homePIR','homePTS','homeFGA','homeFGM','homeFGM','home3PA','homeFTA','homeFTM','homeORB','homeDRB','homeAST','homeTO','homeSTL','homeBLK','homeFouls','diffPTS']\n",
    "away_cols = ['awayPIR','awayPTS','awayFGA','awayFGM','awayFGM','away3PA','awayFTA','awayFTM','awayORB','awayDRB','awayAST','awayTO','awaySTL','awayBLK','awayFouls','diffPTS']\n",
    "\n",
    "def five_last_games_avg(home_col,away_col):\n",
    "    home_FiveLastGamesAvgDict = {}\n",
    "    away_FiveLastGamesAvgDict = {}\n",
    "    for index, row in nba_df.iterrows():\n",
    "\n",
    "        if row['home_games'] > 5 :\n",
    "            home_games =  row['home_games']\n",
    "            sum = 0\n",
    "            for idx5,row5 in  team_FiveLastGamesAvgDict[f\"{row['homeAbbr']},{row['Season']}\"].query(f'games>={home_games -5} & games<{home_games}').iterrows():\n",
    "                if row['homeAbbr'] == row5['homeAbbr']:\n",
    "                    sum+=row5[home_col]\n",
    "                elif  row['homeAbbr'] == row5['awayAbbr']:\n",
    "                    sum+=row5[away_col]\n",
    "            home_FiveLastGamesAvgDict.update({index:sum/5})\n",
    "        elif row['home_games'] <= 5 and row['home_games'] > 1:\n",
    "            home_games =  row['home_games']\n",
    "            sum = 0\n",
    "            for idxX,rowX in  team_FiveLastGamesAvgDict[f\"{row['homeAbbr']},{row['Season']}\"].query(f'games>={home_games-(home_games -1)} & games<{home_games}').iterrows():\n",
    "                if row['homeAbbr'] == rowX['homeAbbr']:\n",
    "                    sum+=rowX[home_col]\n",
    "                elif  row['homeAbbr'] == rowX['awayAbbr']:\n",
    "                    sum+=rowX[away_col]\n",
    "            home_FiveLastGamesAvgDict.update({index:sum/(home_games -1)})\n",
    "        else:\n",
    "            home_FiveLastGamesAvgDict.update({index:0})\n",
    "\n",
    "        if row['away_games'] > 5 :\n",
    "            away_games =  row['away_games']\n",
    "            sum = 0\n",
    "            for idx5,row5 in  team_FiveLastGamesAvgDict[f\"{row['awayAbbr']},{row['Season']}\"].query(f'games>={away_games -5} & games<{away_games}').iterrows():\n",
    "                if row['awayAbbr'] == row5['homeAbbr']:\n",
    "                    sum+=row5[home_col]\n",
    "                elif  row['awayAbbr'] == row5['awayAbbr']:\n",
    "                    sum+=row5[away_col]\n",
    "            away_FiveLastGamesAvgDict.update({index:sum/5})\n",
    "        elif row['away_games'] <= 5 and row['away_games'] > 1:\n",
    "            away_games =  row['away_games']\n",
    "            sum = 0\n",
    "            for idxX,rowX in  team_FiveLastGamesAvgDict[f\"{row['awayAbbr']},{row['Season']}\"].query(f'games>={away_games -(away_games-1)} & games<{away_games}').iterrows():\n",
    "                if row['awayAbbr'] == rowX['homeAbbr']:\n",
    "                    sum+=rowX[home_col]\n",
    "                elif  row['awayAbbr'] == rowX['awayAbbr']:\n",
    "                    sum+=rowX[away_col]\n",
    "            away_FiveLastGamesAvgDict.update({index:sum/(away_games-1)})\n",
    "        else:\n",
    "            away_FiveLastGamesAvgDict.update({index:0})\n",
    "\n",
    "    if home_col=='diffPTS' or away_col=='diffPTS':\n",
    "        home_col = f'home_{home_col}'\n",
    "        away_col = f'away_{away_col}'\n",
    "\n",
    "    nba_df_for_ML[f'home_avg_{home_col}'] = pd.Series(home_FiveLastGamesAvgDict)\n",
    "    nba_df_for_ML[f'away_avg_{away_col}'] = pd.Series(away_FiveLastGamesAvgDict)\n",
    "\n",
    "for home_col,away_col in zip(home_cols,away_cols):\n",
    "    five_last_games_avg(home_col,away_col)\n",
    "\n",
    "nba_df_for_ML"
   ],
   "metadata": {
    "collapsed": false,
    "pycharm": {
     "name": "#%%\n"
    }
   }
  },
  {
   "cell_type": "code",
   "execution_count": 17,
   "outputs": [
    {
     "data": {
      "text/plain": "      homeRslt     gmDate gmTime                homeAbbr  home_games  \\\n0          185 2014-10-28  20:00    New Orleans Pelicans           1   \n1          201 2014-10-28  20:00       San Antonio Spurs           1   \n2          198 2014-10-28  22:30      Los Angeles Lakers           1   \n3          214 2014-10-29  19:00       Charlotte Hornets           1   \n4          194 2014-10-29  19:00          Indiana Pacers           1   \n...        ...        ...    ...                     ...         ...   \n8402       192 2022-01-03  20:30        Dallas Mavericks          37   \n8403       223 2022-01-03  22:00   Golden State Warriors          36   \n8404       267 2022-01-03  22:00  Portland Trail Blazers          36   \n8405       226 2022-01-03  22:30    Los Angeles Clippers          38   \n8406       216 2022-01-04  19:00     Cleveland Cavaliers          38   \n\n                    awayAbbr  away_games  Season_half  home_streak  \\\n0              Orlando Magic           1  Pre_AllStar            0   \n1           Dallas Mavericks           1  Pre_AllStar            0   \n2            Houston Rockets           1  Pre_AllStar            0   \n3            Milwaukee Bucks           1  Pre_AllStar            0   \n4         Philadelphia 76ers           1  Pre_AllStar            0   \n...                      ...         ...          ...          ...   \n8402          Denver Nuggets          35  Pre_AllStar            2   \n8403              Miami Heat          38  Pre_AllStar            1   \n8404           Atlanta Hawks          36  Pre_AllStar            0   \n8405  Minnesota Timberwolves          37  Pre_AllStar            1   \n8406       Memphis Grizzlies          39  Pre_AllStar            1   \n\n      away_streak  ...  away_avg_awayTO  home_avg_homeSTL  away_avg_awaySTL  \\\n0               0  ...              0.0               0.0               0.0   \n1               0  ...              0.0               0.0               0.0   \n2               0  ...              0.0               0.0               0.0   \n3               0  ...              0.0               0.0               0.0   \n4               0  ...              0.0               0.0               0.0   \n...           ...  ...              ...               ...               ...   \n8402            3  ...             14.6               6.8               8.2   \n8403            0  ...             11.2              10.0               7.2   \n8404            1  ...              9.0               6.0               6.0   \n8405            0  ...             14.2               6.6               7.6   \n8406            5  ...             12.4               5.8              10.4   \n\n      home_avg_homeBLK  away_avg_awayBLK  home_avg_homeFouls  \\\n0                  0.0               0.0                 0.0   \n1                  0.0               0.0                 0.0   \n2                  0.0               0.0                 0.0   \n3                  0.0               0.0                 0.0   \n4                  0.0               0.0                 0.0   \n...                ...               ...                 ...   \n8402               4.4               4.4                21.4   \n8403               5.8               3.0                20.6   \n8404               4.6               4.2                22.6   \n8405               5.6               5.4                18.8   \n8406               4.6               6.6                16.4   \n\n      away_avg_awayFouls  home_avg_home_diffPTS  away_avg_away_diffPTS  \\\n0                    0.0                    0.0                    0.0   \n1                    0.0                    0.0                    0.0   \n2                    0.0                    0.0                    0.0   \n3                    0.0                    0.0                    0.0   \n4                    0.0                    0.0                    0.0   \n...                  ...                    ...                    ...   \n8402                20.4                    9.0                    8.2   \n8403                18.2                    8.6                    6.4   \n8404                17.0                   16.4                    9.0   \n8405                22.0                    8.0                    8.4   \n8406                18.4                   14.6                   11.6   \n\n      avg_PTS  \n0         0.0  \n1         0.0  \n2         0.0  \n3         0.0  \n4         0.0  \n...       ...  \n8402    213.2  \n8403    222.2  \n8404    214.2  \n8405    210.0  \n8406    229.6  \n\n[8407 rows x 41 columns]",
      "text/html": "<div>\n<style scoped>\n    .dataframe tbody tr th:only-of-type {\n        vertical-align: middle;\n    }\n\n    .dataframe tbody tr th {\n        vertical-align: top;\n    }\n\n    .dataframe thead th {\n        text-align: right;\n    }\n</style>\n<table border=\"1\" class=\"dataframe\">\n  <thead>\n    <tr style=\"text-align: right;\">\n      <th></th>\n      <th>homeRslt</th>\n      <th>gmDate</th>\n      <th>gmTime</th>\n      <th>homeAbbr</th>\n      <th>home_games</th>\n      <th>awayAbbr</th>\n      <th>away_games</th>\n      <th>Season_half</th>\n      <th>home_streak</th>\n      <th>away_streak</th>\n      <th>...</th>\n      <th>away_avg_awayTO</th>\n      <th>home_avg_homeSTL</th>\n      <th>away_avg_awaySTL</th>\n      <th>home_avg_homeBLK</th>\n      <th>away_avg_awayBLK</th>\n      <th>home_avg_homeFouls</th>\n      <th>away_avg_awayFouls</th>\n      <th>home_avg_home_diffPTS</th>\n      <th>away_avg_away_diffPTS</th>\n      <th>avg_PTS</th>\n    </tr>\n  </thead>\n  <tbody>\n    <tr>\n      <th>0</th>\n      <td>185</td>\n      <td>2014-10-28</td>\n      <td>20:00</td>\n      <td>New Orleans Pelicans</td>\n      <td>1</td>\n      <td>Orlando Magic</td>\n      <td>1</td>\n      <td>Pre_AllStar</td>\n      <td>0</td>\n      <td>0</td>\n      <td>...</td>\n      <td>0.0</td>\n      <td>0.0</td>\n      <td>0.0</td>\n      <td>0.0</td>\n      <td>0.0</td>\n      <td>0.0</td>\n      <td>0.0</td>\n      <td>0.0</td>\n      <td>0.0</td>\n      <td>0.0</td>\n    </tr>\n    <tr>\n      <th>1</th>\n      <td>201</td>\n      <td>2014-10-28</td>\n      <td>20:00</td>\n      <td>San Antonio Spurs</td>\n      <td>1</td>\n      <td>Dallas Mavericks</td>\n      <td>1</td>\n      <td>Pre_AllStar</td>\n      <td>0</td>\n      <td>0</td>\n      <td>...</td>\n      <td>0.0</td>\n      <td>0.0</td>\n      <td>0.0</td>\n      <td>0.0</td>\n      <td>0.0</td>\n      <td>0.0</td>\n      <td>0.0</td>\n      <td>0.0</td>\n      <td>0.0</td>\n      <td>0.0</td>\n    </tr>\n    <tr>\n      <th>2</th>\n      <td>198</td>\n      <td>2014-10-28</td>\n      <td>22:30</td>\n      <td>Los Angeles Lakers</td>\n      <td>1</td>\n      <td>Houston Rockets</td>\n      <td>1</td>\n      <td>Pre_AllStar</td>\n      <td>0</td>\n      <td>0</td>\n      <td>...</td>\n      <td>0.0</td>\n      <td>0.0</td>\n      <td>0.0</td>\n      <td>0.0</td>\n      <td>0.0</td>\n      <td>0.0</td>\n      <td>0.0</td>\n      <td>0.0</td>\n      <td>0.0</td>\n      <td>0.0</td>\n    </tr>\n    <tr>\n      <th>3</th>\n      <td>214</td>\n      <td>2014-10-29</td>\n      <td>19:00</td>\n      <td>Charlotte Hornets</td>\n      <td>1</td>\n      <td>Milwaukee Bucks</td>\n      <td>1</td>\n      <td>Pre_AllStar</td>\n      <td>0</td>\n      <td>0</td>\n      <td>...</td>\n      <td>0.0</td>\n      <td>0.0</td>\n      <td>0.0</td>\n      <td>0.0</td>\n      <td>0.0</td>\n      <td>0.0</td>\n      <td>0.0</td>\n      <td>0.0</td>\n      <td>0.0</td>\n      <td>0.0</td>\n    </tr>\n    <tr>\n      <th>4</th>\n      <td>194</td>\n      <td>2014-10-29</td>\n      <td>19:00</td>\n      <td>Indiana Pacers</td>\n      <td>1</td>\n      <td>Philadelphia 76ers</td>\n      <td>1</td>\n      <td>Pre_AllStar</td>\n      <td>0</td>\n      <td>0</td>\n      <td>...</td>\n      <td>0.0</td>\n      <td>0.0</td>\n      <td>0.0</td>\n      <td>0.0</td>\n      <td>0.0</td>\n      <td>0.0</td>\n      <td>0.0</td>\n      <td>0.0</td>\n      <td>0.0</td>\n      <td>0.0</td>\n    </tr>\n    <tr>\n      <th>...</th>\n      <td>...</td>\n      <td>...</td>\n      <td>...</td>\n      <td>...</td>\n      <td>...</td>\n      <td>...</td>\n      <td>...</td>\n      <td>...</td>\n      <td>...</td>\n      <td>...</td>\n      <td>...</td>\n      <td>...</td>\n      <td>...</td>\n      <td>...</td>\n      <td>...</td>\n      <td>...</td>\n      <td>...</td>\n      <td>...</td>\n      <td>...</td>\n      <td>...</td>\n      <td>...</td>\n    </tr>\n    <tr>\n      <th>8402</th>\n      <td>192</td>\n      <td>2022-01-03</td>\n      <td>20:30</td>\n      <td>Dallas Mavericks</td>\n      <td>37</td>\n      <td>Denver Nuggets</td>\n      <td>35</td>\n      <td>Pre_AllStar</td>\n      <td>2</td>\n      <td>3</td>\n      <td>...</td>\n      <td>14.6</td>\n      <td>6.8</td>\n      <td>8.2</td>\n      <td>4.4</td>\n      <td>4.4</td>\n      <td>21.4</td>\n      <td>20.4</td>\n      <td>9.0</td>\n      <td>8.2</td>\n      <td>213.2</td>\n    </tr>\n    <tr>\n      <th>8403</th>\n      <td>223</td>\n      <td>2022-01-03</td>\n      <td>22:00</td>\n      <td>Golden State Warriors</td>\n      <td>36</td>\n      <td>Miami Heat</td>\n      <td>38</td>\n      <td>Pre_AllStar</td>\n      <td>1</td>\n      <td>0</td>\n      <td>...</td>\n      <td>11.2</td>\n      <td>10.0</td>\n      <td>7.2</td>\n      <td>5.8</td>\n      <td>3.0</td>\n      <td>20.6</td>\n      <td>18.2</td>\n      <td>8.6</td>\n      <td>6.4</td>\n      <td>222.2</td>\n    </tr>\n    <tr>\n      <th>8404</th>\n      <td>267</td>\n      <td>2022-01-03</td>\n      <td>22:00</td>\n      <td>Portland Trail Blazers</td>\n      <td>36</td>\n      <td>Atlanta Hawks</td>\n      <td>36</td>\n      <td>Pre_AllStar</td>\n      <td>0</td>\n      <td>1</td>\n      <td>...</td>\n      <td>9.0</td>\n      <td>6.0</td>\n      <td>6.0</td>\n      <td>4.6</td>\n      <td>4.2</td>\n      <td>22.6</td>\n      <td>17.0</td>\n      <td>16.4</td>\n      <td>9.0</td>\n      <td>214.2</td>\n    </tr>\n    <tr>\n      <th>8405</th>\n      <td>226</td>\n      <td>2022-01-03</td>\n      <td>22:30</td>\n      <td>Los Angeles Clippers</td>\n      <td>38</td>\n      <td>Minnesota Timberwolves</td>\n      <td>37</td>\n      <td>Pre_AllStar</td>\n      <td>1</td>\n      <td>0</td>\n      <td>...</td>\n      <td>14.2</td>\n      <td>6.6</td>\n      <td>7.6</td>\n      <td>5.6</td>\n      <td>5.4</td>\n      <td>18.8</td>\n      <td>22.0</td>\n      <td>8.0</td>\n      <td>8.4</td>\n      <td>210.0</td>\n    </tr>\n    <tr>\n      <th>8406</th>\n      <td>216</td>\n      <td>2022-01-04</td>\n      <td>19:00</td>\n      <td>Cleveland Cavaliers</td>\n      <td>38</td>\n      <td>Memphis Grizzlies</td>\n      <td>39</td>\n      <td>Pre_AllStar</td>\n      <td>1</td>\n      <td>5</td>\n      <td>...</td>\n      <td>12.4</td>\n      <td>5.8</td>\n      <td>10.4</td>\n      <td>4.6</td>\n      <td>6.6</td>\n      <td>16.4</td>\n      <td>18.4</td>\n      <td>14.6</td>\n      <td>11.6</td>\n      <td>229.6</td>\n    </tr>\n  </tbody>\n</table>\n<p>8407 rows × 41 columns</p>\n</div>"
     },
     "execution_count": 17,
     "metadata": {},
     "output_type": "execute_result"
    }
   ],
   "source": [
    "# 創建場比賽總分\n",
    "nba_df_for_ML.homeRslt = nba_df.homePTS+nba_df.awayPTS\n",
    "# 加總主客隊前五場得分\n",
    "nba_df_for_ML['avg_PTS'] = nba_df_for_ML.home_avg_homePTS+nba_df_for_ML.away_avg_awayPTS\n",
    "nba_df_for_ML"
   ],
   "metadata": {
    "collapsed": false,
    "pycharm": {
     "name": "#%%\n"
    }
   }
  },
  {
   "cell_type": "markdown",
   "source": [
    "# 儲存資料"
   ],
   "metadata": {
    "collapsed": false,
    "pycharm": {
     "name": "#%% md\n"
    }
   }
  },
  {
   "cell_type": "code",
   "execution_count": 18,
   "outputs": [],
   "source": [
    "nba_df_for_ML.to_csv('nba_df_for_ML(大小盤).csv')"
   ],
   "metadata": {
    "collapsed": false,
    "pycharm": {
     "name": "#%%\n"
    }
   }
  },
  {
   "cell_type": "markdown",
   "source": [
    "# 繼續處理"
   ],
   "metadata": {
    "collapsed": false,
    "pycharm": {
     "name": "#%% md\n"
    }
   }
  },
  {
   "cell_type": "code",
   "execution_count": 19,
   "outputs": [
    {
     "data": {
      "text/plain": "      homeRslt  Season_half  home_streak  away_streak  home_avg_homePIR  \\\n0          185  Pre_AllStar            0            0               0.0   \n1          201  Pre_AllStar            0            0               0.0   \n2          198  Pre_AllStar            0            0               0.0   \n3          214  Pre_AllStar            0            0               0.0   \n4          194  Pre_AllStar            0            0               0.0   \n...        ...          ...          ...          ...               ...   \n8402       192  Pre_AllStar            2            3             126.4   \n8403       223  Pre_AllStar            1            0             126.6   \n8404       267  Pre_AllStar            0            1             107.0   \n8405       226  Pre_AllStar            1            0             115.2   \n8406       216  Pre_AllStar            1            5             132.6   \n\n      away_avg_awayPIR  home_avg_homeFGA  away_avg_awayFGA  home_avg_homeFGM  \\\n0                  0.0               0.0               0.0               0.0   \n1                  0.0               0.0               0.0               0.0   \n2                  0.0               0.0               0.0               0.0   \n3                  0.0               0.0               0.0               0.0   \n4                  0.0               0.0               0.0               0.0   \n...                ...               ...               ...               ...   \n8402             114.6              84.0              88.8              40.8   \n8403             127.4              82.6              92.0              40.8   \n8404             114.2              84.8              89.4              35.6   \n8405             108.2              85.6              92.2              38.0   \n8406             136.8              89.8              95.4              43.4   \n\n      away_avg_awayFGM  ...  away_avg_awayTO  home_avg_homeSTL  \\\n0                  0.0  ...              0.0               0.0   \n1                  0.0  ...              0.0               0.0   \n2                  0.0  ...              0.0               0.0   \n3                  0.0  ...              0.0               0.0   \n4                  0.0  ...              0.0               0.0   \n...                ...  ...              ...               ...   \n8402              38.4  ...             14.6               6.8   \n8403              41.2  ...             11.2              10.0   \n8404              39.4  ...              9.0               6.0   \n8405              40.0  ...             14.2               6.6   \n8406              44.8  ...             12.4               5.8   \n\n      away_avg_awaySTL  home_avg_homeBLK  away_avg_awayBLK  \\\n0                  0.0               0.0               0.0   \n1                  0.0               0.0               0.0   \n2                  0.0               0.0               0.0   \n3                  0.0               0.0               0.0   \n4                  0.0               0.0               0.0   \n...                ...               ...               ...   \n8402               8.2               4.4               4.4   \n8403               7.2               5.8               3.0   \n8404               6.0               4.6               4.2   \n8405               7.6               5.6               5.4   \n8406              10.4               4.6               6.6   \n\n      home_avg_homeFouls  away_avg_awayFouls  home_avg_home_diffPTS  \\\n0                    0.0                 0.0                    0.0   \n1                    0.0                 0.0                    0.0   \n2                    0.0                 0.0                    0.0   \n3                    0.0                 0.0                    0.0   \n4                    0.0                 0.0                    0.0   \n...                  ...                 ...                    ...   \n8402                21.4                20.4                    9.0   \n8403                20.6                18.2                    8.6   \n8404                22.6                17.0                   16.4   \n8405                18.8                22.0                    8.0   \n8406                16.4                18.4                   14.6   \n\n      away_avg_away_diffPTS  avg_PTS  \n0                       0.0      0.0  \n1                       0.0      0.0  \n2                       0.0      0.0  \n3                       0.0      0.0  \n4                       0.0      0.0  \n...                     ...      ...  \n8402                    8.2    213.2  \n8403                    6.4    222.2  \n8404                    9.0    214.2  \n8405                    8.4    210.0  \n8406                   11.6    229.6  \n\n[8407 rows x 33 columns]",
      "text/html": "<div>\n<style scoped>\n    .dataframe tbody tr th:only-of-type {\n        vertical-align: middle;\n    }\n\n    .dataframe tbody tr th {\n        vertical-align: top;\n    }\n\n    .dataframe thead th {\n        text-align: right;\n    }\n</style>\n<table border=\"1\" class=\"dataframe\">\n  <thead>\n    <tr style=\"text-align: right;\">\n      <th></th>\n      <th>homeRslt</th>\n      <th>Season_half</th>\n      <th>home_streak</th>\n      <th>away_streak</th>\n      <th>home_avg_homePIR</th>\n      <th>away_avg_awayPIR</th>\n      <th>home_avg_homeFGA</th>\n      <th>away_avg_awayFGA</th>\n      <th>home_avg_homeFGM</th>\n      <th>away_avg_awayFGM</th>\n      <th>...</th>\n      <th>away_avg_awayTO</th>\n      <th>home_avg_homeSTL</th>\n      <th>away_avg_awaySTL</th>\n      <th>home_avg_homeBLK</th>\n      <th>away_avg_awayBLK</th>\n      <th>home_avg_homeFouls</th>\n      <th>away_avg_awayFouls</th>\n      <th>home_avg_home_diffPTS</th>\n      <th>away_avg_away_diffPTS</th>\n      <th>avg_PTS</th>\n    </tr>\n  </thead>\n  <tbody>\n    <tr>\n      <th>0</th>\n      <td>185</td>\n      <td>Pre_AllStar</td>\n      <td>0</td>\n      <td>0</td>\n      <td>0.0</td>\n      <td>0.0</td>\n      <td>0.0</td>\n      <td>0.0</td>\n      <td>0.0</td>\n      <td>0.0</td>\n      <td>...</td>\n      <td>0.0</td>\n      <td>0.0</td>\n      <td>0.0</td>\n      <td>0.0</td>\n      <td>0.0</td>\n      <td>0.0</td>\n      <td>0.0</td>\n      <td>0.0</td>\n      <td>0.0</td>\n      <td>0.0</td>\n    </tr>\n    <tr>\n      <th>1</th>\n      <td>201</td>\n      <td>Pre_AllStar</td>\n      <td>0</td>\n      <td>0</td>\n      <td>0.0</td>\n      <td>0.0</td>\n      <td>0.0</td>\n      <td>0.0</td>\n      <td>0.0</td>\n      <td>0.0</td>\n      <td>...</td>\n      <td>0.0</td>\n      <td>0.0</td>\n      <td>0.0</td>\n      <td>0.0</td>\n      <td>0.0</td>\n      <td>0.0</td>\n      <td>0.0</td>\n      <td>0.0</td>\n      <td>0.0</td>\n      <td>0.0</td>\n    </tr>\n    <tr>\n      <th>2</th>\n      <td>198</td>\n      <td>Pre_AllStar</td>\n      <td>0</td>\n      <td>0</td>\n      <td>0.0</td>\n      <td>0.0</td>\n      <td>0.0</td>\n      <td>0.0</td>\n      <td>0.0</td>\n      <td>0.0</td>\n      <td>...</td>\n      <td>0.0</td>\n      <td>0.0</td>\n      <td>0.0</td>\n      <td>0.0</td>\n      <td>0.0</td>\n      <td>0.0</td>\n      <td>0.0</td>\n      <td>0.0</td>\n      <td>0.0</td>\n      <td>0.0</td>\n    </tr>\n    <tr>\n      <th>3</th>\n      <td>214</td>\n      <td>Pre_AllStar</td>\n      <td>0</td>\n      <td>0</td>\n      <td>0.0</td>\n      <td>0.0</td>\n      <td>0.0</td>\n      <td>0.0</td>\n      <td>0.0</td>\n      <td>0.0</td>\n      <td>...</td>\n      <td>0.0</td>\n      <td>0.0</td>\n      <td>0.0</td>\n      <td>0.0</td>\n      <td>0.0</td>\n      <td>0.0</td>\n      <td>0.0</td>\n      <td>0.0</td>\n      <td>0.0</td>\n      <td>0.0</td>\n    </tr>\n    <tr>\n      <th>4</th>\n      <td>194</td>\n      <td>Pre_AllStar</td>\n      <td>0</td>\n      <td>0</td>\n      <td>0.0</td>\n      <td>0.0</td>\n      <td>0.0</td>\n      <td>0.0</td>\n      <td>0.0</td>\n      <td>0.0</td>\n      <td>...</td>\n      <td>0.0</td>\n      <td>0.0</td>\n      <td>0.0</td>\n      <td>0.0</td>\n      <td>0.0</td>\n      <td>0.0</td>\n      <td>0.0</td>\n      <td>0.0</td>\n      <td>0.0</td>\n      <td>0.0</td>\n    </tr>\n    <tr>\n      <th>...</th>\n      <td>...</td>\n      <td>...</td>\n      <td>...</td>\n      <td>...</td>\n      <td>...</td>\n      <td>...</td>\n      <td>...</td>\n      <td>...</td>\n      <td>...</td>\n      <td>...</td>\n      <td>...</td>\n      <td>...</td>\n      <td>...</td>\n      <td>...</td>\n      <td>...</td>\n      <td>...</td>\n      <td>...</td>\n      <td>...</td>\n      <td>...</td>\n      <td>...</td>\n      <td>...</td>\n    </tr>\n    <tr>\n      <th>8402</th>\n      <td>192</td>\n      <td>Pre_AllStar</td>\n      <td>2</td>\n      <td>3</td>\n      <td>126.4</td>\n      <td>114.6</td>\n      <td>84.0</td>\n      <td>88.8</td>\n      <td>40.8</td>\n      <td>38.4</td>\n      <td>...</td>\n      <td>14.6</td>\n      <td>6.8</td>\n      <td>8.2</td>\n      <td>4.4</td>\n      <td>4.4</td>\n      <td>21.4</td>\n      <td>20.4</td>\n      <td>9.0</td>\n      <td>8.2</td>\n      <td>213.2</td>\n    </tr>\n    <tr>\n      <th>8403</th>\n      <td>223</td>\n      <td>Pre_AllStar</td>\n      <td>1</td>\n      <td>0</td>\n      <td>126.6</td>\n      <td>127.4</td>\n      <td>82.6</td>\n      <td>92.0</td>\n      <td>40.8</td>\n      <td>41.2</td>\n      <td>...</td>\n      <td>11.2</td>\n      <td>10.0</td>\n      <td>7.2</td>\n      <td>5.8</td>\n      <td>3.0</td>\n      <td>20.6</td>\n      <td>18.2</td>\n      <td>8.6</td>\n      <td>6.4</td>\n      <td>222.2</td>\n    </tr>\n    <tr>\n      <th>8404</th>\n      <td>267</td>\n      <td>Pre_AllStar</td>\n      <td>0</td>\n      <td>1</td>\n      <td>107.0</td>\n      <td>114.2</td>\n      <td>84.8</td>\n      <td>89.4</td>\n      <td>35.6</td>\n      <td>39.4</td>\n      <td>...</td>\n      <td>9.0</td>\n      <td>6.0</td>\n      <td>6.0</td>\n      <td>4.6</td>\n      <td>4.2</td>\n      <td>22.6</td>\n      <td>17.0</td>\n      <td>16.4</td>\n      <td>9.0</td>\n      <td>214.2</td>\n    </tr>\n    <tr>\n      <th>8405</th>\n      <td>226</td>\n      <td>Pre_AllStar</td>\n      <td>1</td>\n      <td>0</td>\n      <td>115.2</td>\n      <td>108.2</td>\n      <td>85.6</td>\n      <td>92.2</td>\n      <td>38.0</td>\n      <td>40.0</td>\n      <td>...</td>\n      <td>14.2</td>\n      <td>6.6</td>\n      <td>7.6</td>\n      <td>5.6</td>\n      <td>5.4</td>\n      <td>18.8</td>\n      <td>22.0</td>\n      <td>8.0</td>\n      <td>8.4</td>\n      <td>210.0</td>\n    </tr>\n    <tr>\n      <th>8406</th>\n      <td>216</td>\n      <td>Pre_AllStar</td>\n      <td>1</td>\n      <td>5</td>\n      <td>132.6</td>\n      <td>136.8</td>\n      <td>89.8</td>\n      <td>95.4</td>\n      <td>43.4</td>\n      <td>44.8</td>\n      <td>...</td>\n      <td>12.4</td>\n      <td>5.8</td>\n      <td>10.4</td>\n      <td>4.6</td>\n      <td>6.6</td>\n      <td>16.4</td>\n      <td>18.4</td>\n      <td>14.6</td>\n      <td>11.6</td>\n      <td>229.6</td>\n    </tr>\n  </tbody>\n</table>\n<p>8407 rows × 33 columns</p>\n</div>"
     },
     "execution_count": 19,
     "metadata": {},
     "output_type": "execute_result"
    }
   ],
   "source": [
    "#刪除nba_df_for_ML觀察用特徵:\n",
    "nba_df_for_ML_dumm = nba_df_for_ML.drop(['gmDate','gmTime','homeAbbr','home_games','home_avg_homePTS','awayAbbr','away_games','away_avg_awayPTS'],axis=1)\n",
    "nba_df_for_ML_dumm"
   ],
   "metadata": {
    "collapsed": false,
    "pycharm": {
     "name": "#%%\n"
    }
   }
  },
  {
   "cell_type": "code",
   "execution_count": 22,
   "outputs": [
    {
     "data": {
      "text/plain": "      homeRslt  home_streak  away_streak  home_avg_homePIR  away_avg_awayPIR  \\\n0          185            0            0               0.0               0.0   \n1          201            0            0               0.0               0.0   \n2          198            0            0               0.0               0.0   \n3          214            0            0               0.0               0.0   \n4          194            0            0               0.0               0.0   \n...        ...          ...          ...               ...               ...   \n8402       192            2            3             126.4             114.6   \n8403       223            1            0             126.6             127.4   \n8404       267            0            1             107.0             114.2   \n8405       226            1            0             115.2             108.2   \n8406       216            1            5             132.6             136.8   \n\n      home_avg_homeFGA  away_avg_awayFGA  home_avg_homeFGM  away_avg_awayFGM  \\\n0                  0.0               0.0               0.0               0.0   \n1                  0.0               0.0               0.0               0.0   \n2                  0.0               0.0               0.0               0.0   \n3                  0.0               0.0               0.0               0.0   \n4                  0.0               0.0               0.0               0.0   \n...                ...               ...               ...               ...   \n8402              84.0              88.8              40.8              38.4   \n8403              82.6              92.0              40.8              41.2   \n8404              84.8              89.4              35.6              39.4   \n8405              85.6              92.2              38.0              40.0   \n8406              89.8              95.4              43.4              44.8   \n\n      home_avg_home3PA  ...  away_avg_awaySTL  home_avg_homeBLK  \\\n0                  0.0  ...               0.0               0.0   \n1                  0.0  ...               0.0               0.0   \n2                  0.0  ...               0.0               0.0   \n3                  0.0  ...               0.0               0.0   \n4                  0.0  ...               0.0               0.0   \n...                ...  ...               ...               ...   \n8402              29.6  ...               8.2               4.4   \n8403              35.6  ...               7.2               5.8   \n8404              37.6  ...               6.0               4.6   \n8405              32.2  ...               7.6               5.6   \n8406              34.4  ...              10.4               4.6   \n\n      away_avg_awayBLK  home_avg_homeFouls  away_avg_awayFouls  \\\n0                  0.0                 0.0                 0.0   \n1                  0.0                 0.0                 0.0   \n2                  0.0                 0.0                 0.0   \n3                  0.0                 0.0                 0.0   \n4                  0.0                 0.0                 0.0   \n...                ...                 ...                 ...   \n8402               4.4                21.4                20.4   \n8403               3.0                20.6                18.2   \n8404               4.2                22.6                17.0   \n8405               5.4                18.8                22.0   \n8406               6.6                16.4                18.4   \n\n      home_avg_home_diffPTS  away_avg_away_diffPTS  avg_PTS  \\\n0                       0.0                    0.0      0.0   \n1                       0.0                    0.0      0.0   \n2                       0.0                    0.0      0.0   \n3                       0.0                    0.0      0.0   \n4                       0.0                    0.0      0.0   \n...                     ...                    ...      ...   \n8402                    9.0                    8.2    213.2   \n8403                    8.6                    6.4    222.2   \n8404                   16.4                    9.0    214.2   \n8405                    8.0                    8.4    210.0   \n8406                   14.6                   11.6    229.6   \n\n      Season_half_Post_AllStar  Season_half_Pre_AllStar  \n0                            0                        1  \n1                            0                        1  \n2                            0                        1  \n3                            0                        1  \n4                            0                        1  \n...                        ...                      ...  \n8402                         0                        1  \n8403                         0                        1  \n8404                         0                        1  \n8405                         0                        1  \n8406                         0                        1  \n\n[8407 rows x 34 columns]",
      "text/html": "<div>\n<style scoped>\n    .dataframe tbody tr th:only-of-type {\n        vertical-align: middle;\n    }\n\n    .dataframe tbody tr th {\n        vertical-align: top;\n    }\n\n    .dataframe thead th {\n        text-align: right;\n    }\n</style>\n<table border=\"1\" class=\"dataframe\">\n  <thead>\n    <tr style=\"text-align: right;\">\n      <th></th>\n      <th>homeRslt</th>\n      <th>home_streak</th>\n      <th>away_streak</th>\n      <th>home_avg_homePIR</th>\n      <th>away_avg_awayPIR</th>\n      <th>home_avg_homeFGA</th>\n      <th>away_avg_awayFGA</th>\n      <th>home_avg_homeFGM</th>\n      <th>away_avg_awayFGM</th>\n      <th>home_avg_home3PA</th>\n      <th>...</th>\n      <th>away_avg_awaySTL</th>\n      <th>home_avg_homeBLK</th>\n      <th>away_avg_awayBLK</th>\n      <th>home_avg_homeFouls</th>\n      <th>away_avg_awayFouls</th>\n      <th>home_avg_home_diffPTS</th>\n      <th>away_avg_away_diffPTS</th>\n      <th>avg_PTS</th>\n      <th>Season_half_Post_AllStar</th>\n      <th>Season_half_Pre_AllStar</th>\n    </tr>\n  </thead>\n  <tbody>\n    <tr>\n      <th>0</th>\n      <td>185</td>\n      <td>0</td>\n      <td>0</td>\n      <td>0.0</td>\n      <td>0.0</td>\n      <td>0.0</td>\n      <td>0.0</td>\n      <td>0.0</td>\n      <td>0.0</td>\n      <td>0.0</td>\n      <td>...</td>\n      <td>0.0</td>\n      <td>0.0</td>\n      <td>0.0</td>\n      <td>0.0</td>\n      <td>0.0</td>\n      <td>0.0</td>\n      <td>0.0</td>\n      <td>0.0</td>\n      <td>0</td>\n      <td>1</td>\n    </tr>\n    <tr>\n      <th>1</th>\n      <td>201</td>\n      <td>0</td>\n      <td>0</td>\n      <td>0.0</td>\n      <td>0.0</td>\n      <td>0.0</td>\n      <td>0.0</td>\n      <td>0.0</td>\n      <td>0.0</td>\n      <td>0.0</td>\n      <td>...</td>\n      <td>0.0</td>\n      <td>0.0</td>\n      <td>0.0</td>\n      <td>0.0</td>\n      <td>0.0</td>\n      <td>0.0</td>\n      <td>0.0</td>\n      <td>0.0</td>\n      <td>0</td>\n      <td>1</td>\n    </tr>\n    <tr>\n      <th>2</th>\n      <td>198</td>\n      <td>0</td>\n      <td>0</td>\n      <td>0.0</td>\n      <td>0.0</td>\n      <td>0.0</td>\n      <td>0.0</td>\n      <td>0.0</td>\n      <td>0.0</td>\n      <td>0.0</td>\n      <td>...</td>\n      <td>0.0</td>\n      <td>0.0</td>\n      <td>0.0</td>\n      <td>0.0</td>\n      <td>0.0</td>\n      <td>0.0</td>\n      <td>0.0</td>\n      <td>0.0</td>\n      <td>0</td>\n      <td>1</td>\n    </tr>\n    <tr>\n      <th>3</th>\n      <td>214</td>\n      <td>0</td>\n      <td>0</td>\n      <td>0.0</td>\n      <td>0.0</td>\n      <td>0.0</td>\n      <td>0.0</td>\n      <td>0.0</td>\n      <td>0.0</td>\n      <td>0.0</td>\n      <td>...</td>\n      <td>0.0</td>\n      <td>0.0</td>\n      <td>0.0</td>\n      <td>0.0</td>\n      <td>0.0</td>\n      <td>0.0</td>\n      <td>0.0</td>\n      <td>0.0</td>\n      <td>0</td>\n      <td>1</td>\n    </tr>\n    <tr>\n      <th>4</th>\n      <td>194</td>\n      <td>0</td>\n      <td>0</td>\n      <td>0.0</td>\n      <td>0.0</td>\n      <td>0.0</td>\n      <td>0.0</td>\n      <td>0.0</td>\n      <td>0.0</td>\n      <td>0.0</td>\n      <td>...</td>\n      <td>0.0</td>\n      <td>0.0</td>\n      <td>0.0</td>\n      <td>0.0</td>\n      <td>0.0</td>\n      <td>0.0</td>\n      <td>0.0</td>\n      <td>0.0</td>\n      <td>0</td>\n      <td>1</td>\n    </tr>\n    <tr>\n      <th>...</th>\n      <td>...</td>\n      <td>...</td>\n      <td>...</td>\n      <td>...</td>\n      <td>...</td>\n      <td>...</td>\n      <td>...</td>\n      <td>...</td>\n      <td>...</td>\n      <td>...</td>\n      <td>...</td>\n      <td>...</td>\n      <td>...</td>\n      <td>...</td>\n      <td>...</td>\n      <td>...</td>\n      <td>...</td>\n      <td>...</td>\n      <td>...</td>\n      <td>...</td>\n      <td>...</td>\n    </tr>\n    <tr>\n      <th>8402</th>\n      <td>192</td>\n      <td>2</td>\n      <td>3</td>\n      <td>126.4</td>\n      <td>114.6</td>\n      <td>84.0</td>\n      <td>88.8</td>\n      <td>40.8</td>\n      <td>38.4</td>\n      <td>29.6</td>\n      <td>...</td>\n      <td>8.2</td>\n      <td>4.4</td>\n      <td>4.4</td>\n      <td>21.4</td>\n      <td>20.4</td>\n      <td>9.0</td>\n      <td>8.2</td>\n      <td>213.2</td>\n      <td>0</td>\n      <td>1</td>\n    </tr>\n    <tr>\n      <th>8403</th>\n      <td>223</td>\n      <td>1</td>\n      <td>0</td>\n      <td>126.6</td>\n      <td>127.4</td>\n      <td>82.6</td>\n      <td>92.0</td>\n      <td>40.8</td>\n      <td>41.2</td>\n      <td>35.6</td>\n      <td>...</td>\n      <td>7.2</td>\n      <td>5.8</td>\n      <td>3.0</td>\n      <td>20.6</td>\n      <td>18.2</td>\n      <td>8.6</td>\n      <td>6.4</td>\n      <td>222.2</td>\n      <td>0</td>\n      <td>1</td>\n    </tr>\n    <tr>\n      <th>8404</th>\n      <td>267</td>\n      <td>0</td>\n      <td>1</td>\n      <td>107.0</td>\n      <td>114.2</td>\n      <td>84.8</td>\n      <td>89.4</td>\n      <td>35.6</td>\n      <td>39.4</td>\n      <td>37.6</td>\n      <td>...</td>\n      <td>6.0</td>\n      <td>4.6</td>\n      <td>4.2</td>\n      <td>22.6</td>\n      <td>17.0</td>\n      <td>16.4</td>\n      <td>9.0</td>\n      <td>214.2</td>\n      <td>0</td>\n      <td>1</td>\n    </tr>\n    <tr>\n      <th>8405</th>\n      <td>226</td>\n      <td>1</td>\n      <td>0</td>\n      <td>115.2</td>\n      <td>108.2</td>\n      <td>85.6</td>\n      <td>92.2</td>\n      <td>38.0</td>\n      <td>40.0</td>\n      <td>32.2</td>\n      <td>...</td>\n      <td>7.6</td>\n      <td>5.6</td>\n      <td>5.4</td>\n      <td>18.8</td>\n      <td>22.0</td>\n      <td>8.0</td>\n      <td>8.4</td>\n      <td>210.0</td>\n      <td>0</td>\n      <td>1</td>\n    </tr>\n    <tr>\n      <th>8406</th>\n      <td>216</td>\n      <td>1</td>\n      <td>5</td>\n      <td>132.6</td>\n      <td>136.8</td>\n      <td>89.8</td>\n      <td>95.4</td>\n      <td>43.4</td>\n      <td>44.8</td>\n      <td>34.4</td>\n      <td>...</td>\n      <td>10.4</td>\n      <td>4.6</td>\n      <td>6.6</td>\n      <td>16.4</td>\n      <td>18.4</td>\n      <td>14.6</td>\n      <td>11.6</td>\n      <td>229.6</td>\n      <td>0</td>\n      <td>1</td>\n    </tr>\n  </tbody>\n</table>\n<p>8407 rows × 34 columns</p>\n</div>"
     },
     "execution_count": 22,
     "metadata": {},
     "output_type": "execute_result"
    }
   ],
   "source": [
    "#虛擬變數\n",
    "nba_df_for_ML_dumm = pd.get_dummies(nba_df_for_ML_dumm)\n",
    "nba_df_for_ML_dumm"
   ],
   "metadata": {
    "collapsed": false,
    "pycharm": {
     "name": "#%%\n"
    }
   }
  },
  {
   "cell_type": "markdown",
   "source": [
    "# 儲存資料"
   ],
   "metadata": {
    "collapsed": false
   }
  },
  {
   "cell_type": "code",
   "execution_count": 23,
   "outputs": [],
   "source": [
    "nba_df_for_ML_dumm.to_csv('nba_df_for_ML_dumm(大小盤).csv')"
   ],
   "metadata": {
    "collapsed": false,
    "pycharm": {
     "name": "#%%\n"
    }
   }
  },
  {
   "cell_type": "markdown",
   "source": [
    "# 閱讀資料"
   ],
   "metadata": {
    "collapsed": false
   }
  },
  {
   "cell_type": "code",
   "execution_count": 218,
   "outputs": [],
   "source": [
    "nba_df_for_ML = pd.read_csv('nba_df_for_ML(大小盤).csv').set_index('Unnamed: 0')\n",
    "nba_df_for_ML_dumm = pd.read_csv('nba_df_for_ML_dumm(大小盤).csv').set_index('Unnamed: 0')"
   ],
   "metadata": {
    "collapsed": false,
    "pycharm": {
     "name": "#%%\n"
    }
   }
  },
  {
   "cell_type": "code",
   "execution_count": 219,
   "outputs": [],
   "source": [
    "nba_df_for_ML_dumm = nba_df_for_ML_dumm[:7856]"
   ],
   "metadata": {
    "collapsed": false,
    "pycharm": {
     "name": "#%%\n"
    }
   }
  },
  {
   "cell_type": "code",
   "execution_count": 220,
   "outputs": [
    {
     "data": {
      "text/plain": "            homeRslt  home_streak  away_streak  home_avg_homePIR  \\\nUnnamed: 0                                                         \n0                185            0            0               0.0   \n1                201            0            0               0.0   \n2                198            0            0               0.0   \n3                214            0            0               0.0   \n4                194            0            0               0.0   \n...              ...          ...          ...               ...   \n7851             245            0            0             137.8   \n7852             229            1            0             113.2   \n7853             247            1            0             134.6   \n7854             233            0            1             119.0   \n7855             229            7            0             134.8   \n\n            away_avg_awayPIR  home_avg_homeFGA  away_avg_awayFGA  \\\nUnnamed: 0                                                         \n0                        0.0               0.0               0.0   \n1                        0.0               0.0               0.0   \n2                        0.0               0.0               0.0   \n3                        0.0               0.0               0.0   \n4                        0.0               0.0               0.0   \n...                      ...               ...               ...   \n7851                   102.2              92.2              88.2   \n7852                   120.4              85.6              85.4   \n7853                   113.4              86.6              91.2   \n7854                   142.4              91.4              93.6   \n7855                   120.0              93.0              84.6   \n\n            home_avg_homeFGM  away_avg_awayFGM  home_avg_home3PA  ...  \\\nUnnamed: 0                                                        ...   \n0                        0.0               0.0               0.0  ...   \n1                        0.0               0.0               0.0  ...   \n2                        0.0               0.0               0.0  ...   \n3                        0.0               0.0               0.0  ...   \n4                        0.0               0.0               0.0  ...   \n...                      ...               ...               ...  ...   \n7851                    43.6              36.8              38.2  ...   \n7852                    39.4              39.8              37.4  ...   \n7853                    41.6              42.4              38.8  ...   \n7854                    41.0              47.4              36.0  ...   \n7855                    45.4              40.4              26.8  ...   \n\n            away_avg_awaySTL  home_avg_homeBLK  away_avg_awayBLK  \\\nUnnamed: 0                                                         \n0                        0.0               0.0               0.0   \n1                        0.0               0.0               0.0   \n2                        0.0               0.0               0.0   \n3                        0.0               0.0               0.0   \n4                        0.0               0.0               0.0   \n...                      ...               ...               ...   \n7851                     7.2               5.6               4.6   \n7852                     6.8               3.6               3.8   \n7853                     8.0               5.2               4.0   \n7854                     9.4               3.6               4.6   \n7855                     7.6               5.8               2.6   \n\n            home_avg_homeFouls  away_avg_awayFouls  home_avg_home_diffPTS  \\\nUnnamed: 0                                                                  \n0                          0.0                 0.0                    0.0   \n1                          0.0                 0.0                    0.0   \n2                          0.0                 0.0                    0.0   \n3                          0.0                 0.0                    0.0   \n4                          0.0                 0.0                    0.0   \n...                        ...                 ...                    ...   \n7851                      16.6                17.4                   14.0   \n7852                      17.4                17.0                   11.6   \n7853                      18.2                18.4                    7.6   \n7854                      16.2                21.8                    2.6   \n7855                      21.2                18.0                   11.8   \n\n            away_avg_away_diffPTS  avg_PTS  Season_half_Post_AllStar  \\\nUnnamed: 0                                                             \n0                             0.0      0.0                         0   \n1                             0.0      0.0                         0   \n2                             0.0      0.0                         0   \n3                             0.0      0.0                         0   \n4                             0.0      0.0                         0   \n...                           ...      ...                       ...   \n7851                         16.6    218.0                         1   \n7852                          7.4    211.8                         1   \n7853                         10.2    224.0                         1   \n7854                          8.0    235.8                         1   \n7855                         10.8    225.8                         1   \n\n            Season_half_Pre_AllStar  \nUnnamed: 0                           \n0                                 1  \n1                                 1  \n2                                 1  \n3                                 1  \n4                                 1  \n...                             ...  \n7851                              0  \n7852                              0  \n7853                              0  \n7854                              0  \n7855                              0  \n\n[7856 rows x 34 columns]",
      "text/html": "<div>\n<style scoped>\n    .dataframe tbody tr th:only-of-type {\n        vertical-align: middle;\n    }\n\n    .dataframe tbody tr th {\n        vertical-align: top;\n    }\n\n    .dataframe thead th {\n        text-align: right;\n    }\n</style>\n<table border=\"1\" class=\"dataframe\">\n  <thead>\n    <tr style=\"text-align: right;\">\n      <th></th>\n      <th>homeRslt</th>\n      <th>home_streak</th>\n      <th>away_streak</th>\n      <th>home_avg_homePIR</th>\n      <th>away_avg_awayPIR</th>\n      <th>home_avg_homeFGA</th>\n      <th>away_avg_awayFGA</th>\n      <th>home_avg_homeFGM</th>\n      <th>away_avg_awayFGM</th>\n      <th>home_avg_home3PA</th>\n      <th>...</th>\n      <th>away_avg_awaySTL</th>\n      <th>home_avg_homeBLK</th>\n      <th>away_avg_awayBLK</th>\n      <th>home_avg_homeFouls</th>\n      <th>away_avg_awayFouls</th>\n      <th>home_avg_home_diffPTS</th>\n      <th>away_avg_away_diffPTS</th>\n      <th>avg_PTS</th>\n      <th>Season_half_Post_AllStar</th>\n      <th>Season_half_Pre_AllStar</th>\n    </tr>\n    <tr>\n      <th>Unnamed: 0</th>\n      <th></th>\n      <th></th>\n      <th></th>\n      <th></th>\n      <th></th>\n      <th></th>\n      <th></th>\n      <th></th>\n      <th></th>\n      <th></th>\n      <th></th>\n      <th></th>\n      <th></th>\n      <th></th>\n      <th></th>\n      <th></th>\n      <th></th>\n      <th></th>\n      <th></th>\n      <th></th>\n      <th></th>\n    </tr>\n  </thead>\n  <tbody>\n    <tr>\n      <th>0</th>\n      <td>185</td>\n      <td>0</td>\n      <td>0</td>\n      <td>0.0</td>\n      <td>0.0</td>\n      <td>0.0</td>\n      <td>0.0</td>\n      <td>0.0</td>\n      <td>0.0</td>\n      <td>0.0</td>\n      <td>...</td>\n      <td>0.0</td>\n      <td>0.0</td>\n      <td>0.0</td>\n      <td>0.0</td>\n      <td>0.0</td>\n      <td>0.0</td>\n      <td>0.0</td>\n      <td>0.0</td>\n      <td>0</td>\n      <td>1</td>\n    </tr>\n    <tr>\n      <th>1</th>\n      <td>201</td>\n      <td>0</td>\n      <td>0</td>\n      <td>0.0</td>\n      <td>0.0</td>\n      <td>0.0</td>\n      <td>0.0</td>\n      <td>0.0</td>\n      <td>0.0</td>\n      <td>0.0</td>\n      <td>...</td>\n      <td>0.0</td>\n      <td>0.0</td>\n      <td>0.0</td>\n      <td>0.0</td>\n      <td>0.0</td>\n      <td>0.0</td>\n      <td>0.0</td>\n      <td>0.0</td>\n      <td>0</td>\n      <td>1</td>\n    </tr>\n    <tr>\n      <th>2</th>\n      <td>198</td>\n      <td>0</td>\n      <td>0</td>\n      <td>0.0</td>\n      <td>0.0</td>\n      <td>0.0</td>\n      <td>0.0</td>\n      <td>0.0</td>\n      <td>0.0</td>\n      <td>0.0</td>\n      <td>...</td>\n      <td>0.0</td>\n      <td>0.0</td>\n      <td>0.0</td>\n      <td>0.0</td>\n      <td>0.0</td>\n      <td>0.0</td>\n      <td>0.0</td>\n      <td>0.0</td>\n      <td>0</td>\n      <td>1</td>\n    </tr>\n    <tr>\n      <th>3</th>\n      <td>214</td>\n      <td>0</td>\n      <td>0</td>\n      <td>0.0</td>\n      <td>0.0</td>\n      <td>0.0</td>\n      <td>0.0</td>\n      <td>0.0</td>\n      <td>0.0</td>\n      <td>0.0</td>\n      <td>...</td>\n      <td>0.0</td>\n      <td>0.0</td>\n      <td>0.0</td>\n      <td>0.0</td>\n      <td>0.0</td>\n      <td>0.0</td>\n      <td>0.0</td>\n      <td>0.0</td>\n      <td>0</td>\n      <td>1</td>\n    </tr>\n    <tr>\n      <th>4</th>\n      <td>194</td>\n      <td>0</td>\n      <td>0</td>\n      <td>0.0</td>\n      <td>0.0</td>\n      <td>0.0</td>\n      <td>0.0</td>\n      <td>0.0</td>\n      <td>0.0</td>\n      <td>0.0</td>\n      <td>...</td>\n      <td>0.0</td>\n      <td>0.0</td>\n      <td>0.0</td>\n      <td>0.0</td>\n      <td>0.0</td>\n      <td>0.0</td>\n      <td>0.0</td>\n      <td>0.0</td>\n      <td>0</td>\n      <td>1</td>\n    </tr>\n    <tr>\n      <th>...</th>\n      <td>...</td>\n      <td>...</td>\n      <td>...</td>\n      <td>...</td>\n      <td>...</td>\n      <td>...</td>\n      <td>...</td>\n      <td>...</td>\n      <td>...</td>\n      <td>...</td>\n      <td>...</td>\n      <td>...</td>\n      <td>...</td>\n      <td>...</td>\n      <td>...</td>\n      <td>...</td>\n      <td>...</td>\n      <td>...</td>\n      <td>...</td>\n      <td>...</td>\n      <td>...</td>\n    </tr>\n    <tr>\n      <th>7851</th>\n      <td>245</td>\n      <td>0</td>\n      <td>0</td>\n      <td>137.8</td>\n      <td>102.2</td>\n      <td>92.2</td>\n      <td>88.2</td>\n      <td>43.6</td>\n      <td>36.8</td>\n      <td>38.2</td>\n      <td>...</td>\n      <td>7.2</td>\n      <td>5.6</td>\n      <td>4.6</td>\n      <td>16.6</td>\n      <td>17.4</td>\n      <td>14.0</td>\n      <td>16.6</td>\n      <td>218.0</td>\n      <td>1</td>\n      <td>0</td>\n    </tr>\n    <tr>\n      <th>7852</th>\n      <td>229</td>\n      <td>1</td>\n      <td>0</td>\n      <td>113.2</td>\n      <td>120.4</td>\n      <td>85.6</td>\n      <td>85.4</td>\n      <td>39.4</td>\n      <td>39.8</td>\n      <td>37.4</td>\n      <td>...</td>\n      <td>6.8</td>\n      <td>3.6</td>\n      <td>3.8</td>\n      <td>17.4</td>\n      <td>17.0</td>\n      <td>11.6</td>\n      <td>7.4</td>\n      <td>211.8</td>\n      <td>1</td>\n      <td>0</td>\n    </tr>\n    <tr>\n      <th>7853</th>\n      <td>247</td>\n      <td>1</td>\n      <td>0</td>\n      <td>134.6</td>\n      <td>113.4</td>\n      <td>86.6</td>\n      <td>91.2</td>\n      <td>41.6</td>\n      <td>42.4</td>\n      <td>38.8</td>\n      <td>...</td>\n      <td>8.0</td>\n      <td>5.2</td>\n      <td>4.0</td>\n      <td>18.2</td>\n      <td>18.4</td>\n      <td>7.6</td>\n      <td>10.2</td>\n      <td>224.0</td>\n      <td>1</td>\n      <td>0</td>\n    </tr>\n    <tr>\n      <th>7854</th>\n      <td>233</td>\n      <td>0</td>\n      <td>1</td>\n      <td>119.0</td>\n      <td>142.4</td>\n      <td>91.4</td>\n      <td>93.6</td>\n      <td>41.0</td>\n      <td>47.4</td>\n      <td>36.0</td>\n      <td>...</td>\n      <td>9.4</td>\n      <td>3.6</td>\n      <td>4.6</td>\n      <td>16.2</td>\n      <td>21.8</td>\n      <td>2.6</td>\n      <td>8.0</td>\n      <td>235.8</td>\n      <td>1</td>\n      <td>0</td>\n    </tr>\n    <tr>\n      <th>7855</th>\n      <td>229</td>\n      <td>7</td>\n      <td>0</td>\n      <td>134.8</td>\n      <td>120.0</td>\n      <td>93.0</td>\n      <td>84.6</td>\n      <td>45.4</td>\n      <td>40.4</td>\n      <td>26.8</td>\n      <td>...</td>\n      <td>7.6</td>\n      <td>5.8</td>\n      <td>2.6</td>\n      <td>21.2</td>\n      <td>18.0</td>\n      <td>11.8</td>\n      <td>10.8</td>\n      <td>225.8</td>\n      <td>1</td>\n      <td>0</td>\n    </tr>\n  </tbody>\n</table>\n<p>7856 rows × 34 columns</p>\n</div>"
     },
     "execution_count": 220,
     "metadata": {},
     "output_type": "execute_result"
    }
   ],
   "source": [
    "nba_df_for_ML_dumm"
   ],
   "metadata": {
    "collapsed": false,
    "pycharm": {
     "name": "#%%\n"
    }
   }
  },
  {
   "cell_type": "markdown",
   "source": [
    "# 可視化分析"
   ],
   "metadata": {
    "collapsed": false
   }
  },
  {
   "cell_type": "code",
   "execution_count": 221,
   "outputs": [],
   "source": [
    "# 剔除 主客場 第一到第五場比賽\n",
    "# nba_df_for_ML_dumm = nba_df_for_ML_dumm[(nba_df_for_ML_dumm.home_avg_homePIR>0 )|(nba_df_for_ML_dumm.away_avg_awayPIR>0)]"
   ],
   "metadata": {
    "collapsed": false,
    "pycharm": {
     "name": "#%%\n"
    }
   }
  },
  {
   "cell_type": "code",
   "execution_count": 222,
   "outputs": [
    {
     "data": {
      "text/plain": "            homeRslt  home_streak  away_streak  home_avg_homePIR  \\\nUnnamed: 0                                                         \n0                185            0            0               0.0   \n1                201            0            0               0.0   \n2                198            0            0               0.0   \n3                214            0            0               0.0   \n4                194            0            0               0.0   \n...              ...          ...          ...               ...   \n7851             245            0            0             137.8   \n7852             229            1            0             113.2   \n7853             247            1            0             134.6   \n7854             233            0            1             119.0   \n7855             229            7            0             134.8   \n\n            away_avg_awayPIR  home_avg_homeFGA  away_avg_awayFGA  \\\nUnnamed: 0                                                         \n0                        0.0               0.0               0.0   \n1                        0.0               0.0               0.0   \n2                        0.0               0.0               0.0   \n3                        0.0               0.0               0.0   \n4                        0.0               0.0               0.0   \n...                      ...               ...               ...   \n7851                   102.2              92.2              88.2   \n7852                   120.4              85.6              85.4   \n7853                   113.4              86.6              91.2   \n7854                   142.4              91.4              93.6   \n7855                   120.0              93.0              84.6   \n\n            home_avg_homeFGM  away_avg_awayFGM  home_avg_home3PA  ...  \\\nUnnamed: 0                                                        ...   \n0                        0.0               0.0               0.0  ...   \n1                        0.0               0.0               0.0  ...   \n2                        0.0               0.0               0.0  ...   \n3                        0.0               0.0               0.0  ...   \n4                        0.0               0.0               0.0  ...   \n...                      ...               ...               ...  ...   \n7851                    43.6              36.8              38.2  ...   \n7852                    39.4              39.8              37.4  ...   \n7853                    41.6              42.4              38.8  ...   \n7854                    41.0              47.4              36.0  ...   \n7855                    45.4              40.4              26.8  ...   \n\n            away_avg_awaySTL  home_avg_homeBLK  away_avg_awayBLK  \\\nUnnamed: 0                                                         \n0                        0.0               0.0               0.0   \n1                        0.0               0.0               0.0   \n2                        0.0               0.0               0.0   \n3                        0.0               0.0               0.0   \n4                        0.0               0.0               0.0   \n...                      ...               ...               ...   \n7851                     7.2               5.6               4.6   \n7852                     6.8               3.6               3.8   \n7853                     8.0               5.2               4.0   \n7854                     9.4               3.6               4.6   \n7855                     7.6               5.8               2.6   \n\n            home_avg_homeFouls  away_avg_awayFouls  home_avg_home_diffPTS  \\\nUnnamed: 0                                                                  \n0                          0.0                 0.0                    0.0   \n1                          0.0                 0.0                    0.0   \n2                          0.0                 0.0                    0.0   \n3                          0.0                 0.0                    0.0   \n4                          0.0                 0.0                    0.0   \n...                        ...                 ...                    ...   \n7851                      16.6                17.4                   14.0   \n7852                      17.4                17.0                   11.6   \n7853                      18.2                18.4                    7.6   \n7854                      16.2                21.8                    2.6   \n7855                      21.2                18.0                   11.8   \n\n            away_avg_away_diffPTS  avg_PTS  Season_half_Post_AllStar  \\\nUnnamed: 0                                                             \n0                             0.0      0.0                         0   \n1                             0.0      0.0                         0   \n2                             0.0      0.0                         0   \n3                             0.0      0.0                         0   \n4                             0.0      0.0                         0   \n...                           ...      ...                       ...   \n7851                         16.6    218.0                         1   \n7852                          7.4    211.8                         1   \n7853                         10.2    224.0                         1   \n7854                          8.0    235.8                         1   \n7855                         10.8    225.8                         1   \n\n            Season_half_Pre_AllStar  \nUnnamed: 0                           \n0                                 1  \n1                                 1  \n2                                 1  \n3                                 1  \n4                                 1  \n...                             ...  \n7851                              0  \n7852                              0  \n7853                              0  \n7854                              0  \n7855                              0  \n\n[7856 rows x 34 columns]",
      "text/html": "<div>\n<style scoped>\n    .dataframe tbody tr th:only-of-type {\n        vertical-align: middle;\n    }\n\n    .dataframe tbody tr th {\n        vertical-align: top;\n    }\n\n    .dataframe thead th {\n        text-align: right;\n    }\n</style>\n<table border=\"1\" class=\"dataframe\">\n  <thead>\n    <tr style=\"text-align: right;\">\n      <th></th>\n      <th>homeRslt</th>\n      <th>home_streak</th>\n      <th>away_streak</th>\n      <th>home_avg_homePIR</th>\n      <th>away_avg_awayPIR</th>\n      <th>home_avg_homeFGA</th>\n      <th>away_avg_awayFGA</th>\n      <th>home_avg_homeFGM</th>\n      <th>away_avg_awayFGM</th>\n      <th>home_avg_home3PA</th>\n      <th>...</th>\n      <th>away_avg_awaySTL</th>\n      <th>home_avg_homeBLK</th>\n      <th>away_avg_awayBLK</th>\n      <th>home_avg_homeFouls</th>\n      <th>away_avg_awayFouls</th>\n      <th>home_avg_home_diffPTS</th>\n      <th>away_avg_away_diffPTS</th>\n      <th>avg_PTS</th>\n      <th>Season_half_Post_AllStar</th>\n      <th>Season_half_Pre_AllStar</th>\n    </tr>\n    <tr>\n      <th>Unnamed: 0</th>\n      <th></th>\n      <th></th>\n      <th></th>\n      <th></th>\n      <th></th>\n      <th></th>\n      <th></th>\n      <th></th>\n      <th></th>\n      <th></th>\n      <th></th>\n      <th></th>\n      <th></th>\n      <th></th>\n      <th></th>\n      <th></th>\n      <th></th>\n      <th></th>\n      <th></th>\n      <th></th>\n      <th></th>\n    </tr>\n  </thead>\n  <tbody>\n    <tr>\n      <th>0</th>\n      <td>185</td>\n      <td>0</td>\n      <td>0</td>\n      <td>0.0</td>\n      <td>0.0</td>\n      <td>0.0</td>\n      <td>0.0</td>\n      <td>0.0</td>\n      <td>0.0</td>\n      <td>0.0</td>\n      <td>...</td>\n      <td>0.0</td>\n      <td>0.0</td>\n      <td>0.0</td>\n      <td>0.0</td>\n      <td>0.0</td>\n      <td>0.0</td>\n      <td>0.0</td>\n      <td>0.0</td>\n      <td>0</td>\n      <td>1</td>\n    </tr>\n    <tr>\n      <th>1</th>\n      <td>201</td>\n      <td>0</td>\n      <td>0</td>\n      <td>0.0</td>\n      <td>0.0</td>\n      <td>0.0</td>\n      <td>0.0</td>\n      <td>0.0</td>\n      <td>0.0</td>\n      <td>0.0</td>\n      <td>...</td>\n      <td>0.0</td>\n      <td>0.0</td>\n      <td>0.0</td>\n      <td>0.0</td>\n      <td>0.0</td>\n      <td>0.0</td>\n      <td>0.0</td>\n      <td>0.0</td>\n      <td>0</td>\n      <td>1</td>\n    </tr>\n    <tr>\n      <th>2</th>\n      <td>198</td>\n      <td>0</td>\n      <td>0</td>\n      <td>0.0</td>\n      <td>0.0</td>\n      <td>0.0</td>\n      <td>0.0</td>\n      <td>0.0</td>\n      <td>0.0</td>\n      <td>0.0</td>\n      <td>...</td>\n      <td>0.0</td>\n      <td>0.0</td>\n      <td>0.0</td>\n      <td>0.0</td>\n      <td>0.0</td>\n      <td>0.0</td>\n      <td>0.0</td>\n      <td>0.0</td>\n      <td>0</td>\n      <td>1</td>\n    </tr>\n    <tr>\n      <th>3</th>\n      <td>214</td>\n      <td>0</td>\n      <td>0</td>\n      <td>0.0</td>\n      <td>0.0</td>\n      <td>0.0</td>\n      <td>0.0</td>\n      <td>0.0</td>\n      <td>0.0</td>\n      <td>0.0</td>\n      <td>...</td>\n      <td>0.0</td>\n      <td>0.0</td>\n      <td>0.0</td>\n      <td>0.0</td>\n      <td>0.0</td>\n      <td>0.0</td>\n      <td>0.0</td>\n      <td>0.0</td>\n      <td>0</td>\n      <td>1</td>\n    </tr>\n    <tr>\n      <th>4</th>\n      <td>194</td>\n      <td>0</td>\n      <td>0</td>\n      <td>0.0</td>\n      <td>0.0</td>\n      <td>0.0</td>\n      <td>0.0</td>\n      <td>0.0</td>\n      <td>0.0</td>\n      <td>0.0</td>\n      <td>...</td>\n      <td>0.0</td>\n      <td>0.0</td>\n      <td>0.0</td>\n      <td>0.0</td>\n      <td>0.0</td>\n      <td>0.0</td>\n      <td>0.0</td>\n      <td>0.0</td>\n      <td>0</td>\n      <td>1</td>\n    </tr>\n    <tr>\n      <th>...</th>\n      <td>...</td>\n      <td>...</td>\n      <td>...</td>\n      <td>...</td>\n      <td>...</td>\n      <td>...</td>\n      <td>...</td>\n      <td>...</td>\n      <td>...</td>\n      <td>...</td>\n      <td>...</td>\n      <td>...</td>\n      <td>...</td>\n      <td>...</td>\n      <td>...</td>\n      <td>...</td>\n      <td>...</td>\n      <td>...</td>\n      <td>...</td>\n      <td>...</td>\n      <td>...</td>\n    </tr>\n    <tr>\n      <th>7851</th>\n      <td>245</td>\n      <td>0</td>\n      <td>0</td>\n      <td>137.8</td>\n      <td>102.2</td>\n      <td>92.2</td>\n      <td>88.2</td>\n      <td>43.6</td>\n      <td>36.8</td>\n      <td>38.2</td>\n      <td>...</td>\n      <td>7.2</td>\n      <td>5.6</td>\n      <td>4.6</td>\n      <td>16.6</td>\n      <td>17.4</td>\n      <td>14.0</td>\n      <td>16.6</td>\n      <td>218.0</td>\n      <td>1</td>\n      <td>0</td>\n    </tr>\n    <tr>\n      <th>7852</th>\n      <td>229</td>\n      <td>1</td>\n      <td>0</td>\n      <td>113.2</td>\n      <td>120.4</td>\n      <td>85.6</td>\n      <td>85.4</td>\n      <td>39.4</td>\n      <td>39.8</td>\n      <td>37.4</td>\n      <td>...</td>\n      <td>6.8</td>\n      <td>3.6</td>\n      <td>3.8</td>\n      <td>17.4</td>\n      <td>17.0</td>\n      <td>11.6</td>\n      <td>7.4</td>\n      <td>211.8</td>\n      <td>1</td>\n      <td>0</td>\n    </tr>\n    <tr>\n      <th>7853</th>\n      <td>247</td>\n      <td>1</td>\n      <td>0</td>\n      <td>134.6</td>\n      <td>113.4</td>\n      <td>86.6</td>\n      <td>91.2</td>\n      <td>41.6</td>\n      <td>42.4</td>\n      <td>38.8</td>\n      <td>...</td>\n      <td>8.0</td>\n      <td>5.2</td>\n      <td>4.0</td>\n      <td>18.2</td>\n      <td>18.4</td>\n      <td>7.6</td>\n      <td>10.2</td>\n      <td>224.0</td>\n      <td>1</td>\n      <td>0</td>\n    </tr>\n    <tr>\n      <th>7854</th>\n      <td>233</td>\n      <td>0</td>\n      <td>1</td>\n      <td>119.0</td>\n      <td>142.4</td>\n      <td>91.4</td>\n      <td>93.6</td>\n      <td>41.0</td>\n      <td>47.4</td>\n      <td>36.0</td>\n      <td>...</td>\n      <td>9.4</td>\n      <td>3.6</td>\n      <td>4.6</td>\n      <td>16.2</td>\n      <td>21.8</td>\n      <td>2.6</td>\n      <td>8.0</td>\n      <td>235.8</td>\n      <td>1</td>\n      <td>0</td>\n    </tr>\n    <tr>\n      <th>7855</th>\n      <td>229</td>\n      <td>7</td>\n      <td>0</td>\n      <td>134.8</td>\n      <td>120.0</td>\n      <td>93.0</td>\n      <td>84.6</td>\n      <td>45.4</td>\n      <td>40.4</td>\n      <td>26.8</td>\n      <td>...</td>\n      <td>7.6</td>\n      <td>5.8</td>\n      <td>2.6</td>\n      <td>21.2</td>\n      <td>18.0</td>\n      <td>11.8</td>\n      <td>10.8</td>\n      <td>225.8</td>\n      <td>1</td>\n      <td>0</td>\n    </tr>\n  </tbody>\n</table>\n<p>7856 rows × 34 columns</p>\n</div>"
     },
     "execution_count": 222,
     "metadata": {},
     "output_type": "execute_result"
    }
   ],
   "source": [
    "# 補值\n",
    "nba_df_for_ML_dumm"
   ],
   "metadata": {
    "collapsed": false,
    "pycharm": {
     "name": "#%%\n"
    }
   }
  },
  {
   "cell_type": "code",
   "execution_count": 223,
   "outputs": [],
   "source": [
    "nba_df_for_ML_dumm = nba_df_for_ML_dumm.drop(['Season_half_Post_AllStar'],axis=1)"
   ],
   "metadata": {
    "collapsed": false,
    "pycharm": {
     "name": "#%%\n"
    }
   }
  },
  {
   "cell_type": "code",
   "execution_count": 224,
   "outputs": [
    {
     "data": {
      "text/plain": "<AxesSubplot:>"
     },
     "execution_count": 224,
     "metadata": {},
     "output_type": "execute_result"
    },
    {
     "data": {
      "text/plain": "<Figure size 792x648 with 2 Axes>",
      "image/png": "[encoded data removed]"
     },
     "metadata": {
      "needs_background": "light"
     },
     "output_type": "display_data"
    }
   ],
   "source": [
    "import seaborn as sns\n",
    "from matplotlib import pyplot as plt\n",
    "\n",
    "corr = nba_df_for_ML_dumm.corr()\n",
    "mask = np.triu(np.ones_like(corr, dtype=bool))\n",
    "\n",
    "# Set up the matplotlib figure\n",
    "f, ax = plt.subplots(figsize=(11, 9))\n",
    "\n",
    "# Generate a custom diverging colormap\n",
    "cmap = sns.diverging_palette(230, 20, as_cmap=True)\n",
    "\n",
    "# Draw the heatmap with the mask and correct aspect ratio\n",
    "sns.heatmap(corr, mask=mask, cmap=cmap, vmax=.3, center=0,\n",
    "            square=True, linewidths=.5, cbar_kws={\"shrink\": .5})"
   ],
   "metadata": {
    "collapsed": false,
    "pycharm": {
     "name": "#%%\n"
    }
   }
  },
  {
   "cell_type": "markdown",
   "source": [
    "# 正規化"
   ],
   "metadata": {
    "collapsed": false
   }
  },
  {
   "cell_type": "code",
   "execution_count": 225,
   "outputs": [
    {
     "data": {
      "text/plain": "array([[0.        , 0.        , 0.        , ..., 0.        , 0.        ,\n        1.        ],\n       [0.        , 0.        , 0.        , ..., 0.        , 0.        ,\n        1.        ],\n       [0.        , 0.        , 0.        , ..., 0.        , 0.        ,\n        1.        ],\n       ...,\n       [0.05555556, 0.        , 0.79881306, ..., 0.2125    , 0.84848485,\n        0.        ],\n       [0.        , 0.04166667, 0.70623145, ..., 0.16666667, 0.89318182,\n        0.        ],\n       [0.38888889, 0.        , 0.8       , ..., 0.225     , 0.85530303,\n        0.        ]])"
     },
     "execution_count": 225,
     "metadata": {},
     "output_type": "execute_result"
    }
   ],
   "source": [
    "# 正規化\n",
    "from sklearn.preprocessing import MinMaxScaler\n",
    "\n",
    "X = nba_df_for_ML_dumm.drop('homeRslt',axis = 1)\n",
    "y = nba_df_for_ML_dumm.homeRslt\n",
    "\n",
    "scaler = MinMaxScaler(feature_range=(0, 1)).fit(X)\n",
    "X= scaler.transform(X)\n",
    "X"
   ],
   "metadata": {
    "collapsed": false,
    "pycharm": {
     "name": "#%%\n"
    }
   }
  },
  {
   "cell_type": "markdown",
   "source": [
    "# 建立大小盤預測模型"
   ],
   "metadata": {
    "collapsed": false,
    "pycharm": {
     "name": "#%% md\n"
    }
   }
  },
  {
   "cell_type": "code",
   "execution_count": 226,
   "outputs": [],
   "source": [
    "from sklearn.model_selection import train_test_split\n",
    "\n",
    "\n",
    "X_train, X_test, y_train, y_test = train_test_split(X, y,\n",
    "                                                    train_size=0.7,\n",
    "                                                    test_size=0.3,\n",
    "                                                    shuffle=True\n",
    "                                                    )"
   ],
   "metadata": {
    "collapsed": false,
    "pycharm": {
     "name": "#%%\n"
    }
   }
  },
  {
   "cell_type": "markdown",
   "source": [
    "## 1.RandomForestRegressor"
   ],
   "metadata": {
    "collapsed": false,
    "pycharm": {
     "name": "#%% md\n"
    }
   }
  },
  {
   "cell_type": "code",
   "execution_count": 227,
   "outputs": [
    {
     "data": {
      "text/plain": "RandomForestRegressor()"
     },
     "execution_count": 227,
     "metadata": {},
     "output_type": "execute_result"
    }
   ],
   "source": [
    "from sklearn.linear_model import LinearRegression\n",
    "from sklearn.model_selection import cross_val_score\n",
    "from sklearn.ensemble import RandomForestRegressor\n",
    "\n",
    "RandomForestRegressorModel = RandomForestRegressor()\n",
    "RandomForestRegressorModel.fit(X_train,y_train)"
   ],
   "metadata": {
    "collapsed": false,
    "pycharm": {
     "name": "#%%\n"
    }
   }
  },
  {
   "cell_type": "code",
   "execution_count": 228,
   "outputs": [
    {
     "name": "stdout",
     "output_type": "stream",
     "text": [
      "MSE： 376.2677336493995\n",
      "MSE(直接计算)： 376.26773364939993\n",
      "RMSE 19.397621855511037\n",
      "R2: 0.20784201710583428\n"
     ]
    }
   ],
   "source": [
    "from sklearn import datasets\n",
    "from sklearn.model_selection import train_test_split\n",
    "from sklearn.ensemble import RandomForestRegressor\n",
    "from sklearn.metrics import mean_squared_error\n",
    "from sklearn.metrics import median_absolute_error\n",
    "from sklearn.metrics import mean_squared_log_error\n",
    "from sklearn.metrics import mean_absolute_error,r2_score\n",
    "import numpy as np\n",
    "\n",
    "y_pred = RandomForestRegressorModel.predict(X_test)\n",
    "print('MSE：',mean_squared_error(y_test,y_pred))\n",
    "print('MSE(直接计算)：',np.mean((y_test-y_pred)**2))\n",
    "print('RMSE',np.sqrt(mean_squared_error(y_test,y_pred)))\n",
    "print('R2:',r2_score(y_test,y_pred))"
   ],
   "metadata": {
    "collapsed": false,
    "pycharm": {
     "name": "#%%\n"
    }
   }
  },
  {
   "cell_type": "code",
   "execution_count": 229,
   "outputs": [
    {
     "name": "stdout",
     "output_type": "stream",
     "text": [
      "平均誤差%: 7.09456769001152\n",
      "平均+/-誤差: 0.2468447253352792\n"
     ]
    }
   ],
   "source": [
    "print('平均誤差%:',abs(np.array(y_test)-np.array(RandomForestRegressorModel.predict(X_test))).mean()/y_test.mean()*100)\n",
    "print('平均+/-誤差:',(np.array(y_test)-np.array(RandomForestRegressorModel.predict(X_test))).mean())"
   ],
   "metadata": {
    "collapsed": false,
    "pycharm": {
     "name": "#%%\n"
    }
   }
  },
  {
   "cell_type": "code",
   "execution_count": 230,
   "outputs": [
    {
     "data": {
      "text/plain": "Text(0.5, 1.0, 'SCORE')"
     },
     "execution_count": 230,
     "metadata": {},
     "output_type": "execute_result"
    },
    {
     "data": {
      "text/plain": "<Figure size 1440x720 with 1 Axes>",
      "image/png": "[encoded data removed]"
     },
     "metadata": {
      "needs_background": "light"
     },
     "output_type": "display_data"
    }
   ],
   "source": [
    "plt.figure(figsize=(20,10))\n",
    "plt.plot(y_test.reset_index(drop=True).loc[200:250])\n",
    "plt.plot(pd.DataFrame(RandomForestRegressorModel.predict(X_test)).loc[200:250])\n",
    "plt.title('SCORE')"
   ],
   "metadata": {
    "collapsed": false,
    "pycharm": {
     "name": "#%%\n"
    }
   }
  },
  {
   "cell_type": "markdown",
   "source": [
    "## 保存模型"
   ],
   "metadata": {
    "collapsed": false,
    "pycharm": {
     "name": "#%% md\n"
    }
   }
  },
  {
   "cell_type": "code",
   "execution_count": 231,
   "outputs": [
    {
     "data": {
      "text/plain": "['大小盤_RFG.model']"
     },
     "execution_count": 231,
     "metadata": {},
     "output_type": "execute_result"
    }
   ],
   "source": [
    "import joblib\n",
    "#保存模型\n",
    "joblib.dump(RandomForestRegressorModel, '大小盤_RFG.model')"
   ],
   "metadata": {
    "collapsed": false,
    "pycharm": {
     "name": "#%%\n"
    }
   }
  },
  {
   "cell_type": "markdown",
   "source": [
    "# 讀取模型"
   ],
   "metadata": {
    "collapsed": false,
    "pycharm": {
     "name": "#%% md\n"
    }
   }
  },
  {
   "cell_type": "code",
   "execution_count": 232,
   "outputs": [],
   "source": [
    "#读取模型\n",
    "RandomForestRegressorModel = joblib.load('大小盤_RFG.model')"
   ],
   "metadata": {
    "collapsed": false,
    "pycharm": {
     "name": "#%%\n"
    }
   }
  },
  {
   "cell_type": "markdown",
   "source": [
    "# 虛擬獲利"
   ],
   "metadata": {
    "collapsed": false,
    "pycharm": {
     "name": "#%% md\n"
    }
   }
  },
  {
   "cell_type": "code",
   "execution_count": 233,
   "outputs": [
    {
     "data": {
      "text/plain": "            homeRslt      gmDate gmTime                homeAbbr  home_games  \\\nUnnamed: 0                                                                    \n0                185  2014-10-28  20:00    New Orleans Pelicans           1   \n1                201  2014-10-28  20:00       San Antonio Spurs           1   \n2                198  2014-10-28  22:30      Los Angeles Lakers           1   \n3                214  2014-10-29  19:00       Charlotte Hornets           1   \n4                194  2014-10-29  19:00          Indiana Pacers           1   \n...              ...         ...    ...                     ...         ...   \n8402             192  2022-01-03  20:30        Dallas Mavericks          37   \n8403             223  2022-01-03  22:00   Golden State Warriors          36   \n8404             267  2022-01-03  22:00  Portland Trail Blazers          36   \n8405             226  2022-01-03  22:30    Los Angeles Clippers          38   \n8406             216  2022-01-04  19:00     Cleveland Cavaliers          38   \n\n                          awayAbbr  away_games  Season_half  home_streak  \\\nUnnamed: 0                                                                 \n0                    Orlando Magic           1  Pre_AllStar            0   \n1                 Dallas Mavericks           1  Pre_AllStar            0   \n2                  Houston Rockets           1  Pre_AllStar            0   \n3                  Milwaukee Bucks           1  Pre_AllStar            0   \n4               Philadelphia 76ers           1  Pre_AllStar            0   \n...                            ...         ...          ...          ...   \n8402                Denver Nuggets          35  Pre_AllStar            2   \n8403                    Miami Heat          38  Pre_AllStar            1   \n8404                 Atlanta Hawks          36  Pre_AllStar            0   \n8405        Minnesota Timberwolves          37  Pre_AllStar            1   \n8406             Memphis Grizzlies          39  Pre_AllStar            1   \n\n            away_streak  ...  away_avg_awayTO  home_avg_homeSTL  \\\nUnnamed: 0               ...                                      \n0                     0  ...              0.0               0.0   \n1                     0  ...              0.0               0.0   \n2                     0  ...              0.0               0.0   \n3                     0  ...              0.0               0.0   \n4                     0  ...              0.0               0.0   \n...                 ...  ...              ...               ...   \n8402                  3  ...             14.6               6.8   \n8403                  0  ...             11.2              10.0   \n8404                  1  ...              9.0               6.0   \n8405                  0  ...             14.2               6.6   \n8406                  5  ...             12.4               5.8   \n\n            away_avg_awaySTL  home_avg_homeBLK  away_avg_awayBLK  \\\nUnnamed: 0                                                         \n0                        0.0               0.0               0.0   \n1                        0.0               0.0               0.0   \n2                        0.0               0.0               0.0   \n3                        0.0               0.0               0.0   \n4                        0.0               0.0               0.0   \n...                      ...               ...               ...   \n8402                     8.2               4.4               4.4   \n8403                     7.2               5.8               3.0   \n8404                     6.0               4.6               4.2   \n8405                     7.6               5.6               5.4   \n8406                    10.4               4.6               6.6   \n\n            home_avg_homeFouls  away_avg_awayFouls  home_avg_home_diffPTS  \\\nUnnamed: 0                                                                  \n0                          0.0                 0.0                    0.0   \n1                          0.0                 0.0                    0.0   \n2                          0.0                 0.0                    0.0   \n3                          0.0                 0.0                    0.0   \n4                          0.0                 0.0                    0.0   \n...                        ...                 ...                    ...   \n8402                      21.4                20.4                    9.0   \n8403                      20.6                18.2                    8.6   \n8404                      22.6                17.0                   16.4   \n8405                      18.8                22.0                    8.0   \n8406                      16.4                18.4                   14.6   \n\n            away_avg_away_diffPTS  avg_PTS  \nUnnamed: 0                                  \n0                             0.0      0.0  \n1                             0.0      0.0  \n2                             0.0      0.0  \n3                             0.0      0.0  \n4                             0.0      0.0  \n...                           ...      ...  \n8402                          8.2    213.2  \n8403                          6.4    222.2  \n8404                          9.0    214.2  \n8405                          8.4    210.0  \n8406                         11.6    229.6  \n\n[8407 rows x 41 columns]",
      "text/html": "<div>\n<style scoped>\n    .dataframe tbody tr th:only-of-type {\n        vertical-align: middle;\n    }\n\n    .dataframe tbody tr th {\n        vertical-align: top;\n    }\n\n    .dataframe thead th {\n        text-align: right;\n    }\n</style>\n<table border=\"1\" class=\"dataframe\">\n  <thead>\n    <tr style=\"text-align: right;\">\n      <th></th>\n      <th>homeRslt</th>\n      <th>gmDate</th>\n      <th>gmTime</th>\n      <th>homeAbbr</th>\n      <th>home_games</th>\n      <th>awayAbbr</th>\n      <th>away_games</th>\n      <th>Season_half</th>\n      <th>home_streak</th>\n      <th>away_streak</th>\n      <th>...</th>\n      <th>away_avg_awayTO</th>\n      <th>home_avg_homeSTL</th>\n      <th>away_avg_awaySTL</th>\n      <th>home_avg_homeBLK</th>\n      <th>away_avg_awayBLK</th>\n      <th>home_avg_homeFouls</th>\n      <th>away_avg_awayFouls</th>\n      <th>home_avg_home_diffPTS</th>\n      <th>away_avg_away_diffPTS</th>\n      <th>avg_PTS</th>\n    </tr>\n    <tr>\n      <th>Unnamed: 0</th>\n      <th></th>\n      <th></th>\n      <th></th>\n      <th></th>\n      <th></th>\n      <th></th>\n      <th></th>\n      <th></th>\n      <th></th>\n      <th></th>\n      <th></th>\n      <th></th>\n      <th></th>\n      <th></th>\n      <th></th>\n      <th></th>\n      <th></th>\n      <th></th>\n      <th></th>\n      <th></th>\n      <th></th>\n    </tr>\n  </thead>\n  <tbody>\n    <tr>\n      <th>0</th>\n      <td>185</td>\n      <td>2014-10-28</td>\n      <td>20:00</td>\n      <td>New Orleans Pelicans</td>\n      <td>1</td>\n      <td>Orlando Magic</td>\n      <td>1</td>\n      <td>Pre_AllStar</td>\n      <td>0</td>\n      <td>0</td>\n      <td>...</td>\n      <td>0.0</td>\n      <td>0.0</td>\n      <td>0.0</td>\n      <td>0.0</td>\n      <td>0.0</td>\n      <td>0.0</td>\n      <td>0.0</td>\n      <td>0.0</td>\n      <td>0.0</td>\n      <td>0.0</td>\n    </tr>\n    <tr>\n      <th>1</th>\n      <td>201</td>\n      <td>2014-10-28</td>\n      <td>20:00</td>\n      <td>San Antonio Spurs</td>\n      <td>1</td>\n      <td>Dallas Mavericks</td>\n      <td>1</td>\n      <td>Pre_AllStar</td>\n      <td>0</td>\n      <td>0</td>\n      <td>...</td>\n      <td>0.0</td>\n      <td>0.0</td>\n      <td>0.0</td>\n      <td>0.0</td>\n      <td>0.0</td>\n      <td>0.0</td>\n      <td>0.0</td>\n      <td>0.0</td>\n      <td>0.0</td>\n      <td>0.0</td>\n    </tr>\n    <tr>\n      <th>2</th>\n      <td>198</td>\n      <td>2014-10-28</td>\n      <td>22:30</td>\n      <td>Los Angeles Lakers</td>\n      <td>1</td>\n      <td>Houston Rockets</td>\n      <td>1</td>\n      <td>Pre_AllStar</td>\n      <td>0</td>\n      <td>0</td>\n      <td>...</td>\n      <td>0.0</td>\n      <td>0.0</td>\n      <td>0.0</td>\n      <td>0.0</td>\n      <td>0.0</td>\n      <td>0.0</td>\n      <td>0.0</td>\n      <td>0.0</td>\n      <td>0.0</td>\n      <td>0.0</td>\n    </tr>\n    <tr>\n      <th>3</th>\n      <td>214</td>\n      <td>2014-10-29</td>\n      <td>19:00</td>\n      <td>Charlotte Hornets</td>\n      <td>1</td>\n      <td>Milwaukee Bucks</td>\n      <td>1</td>\n      <td>Pre_AllStar</td>\n      <td>0</td>\n      <td>0</td>\n      <td>...</td>\n      <td>0.0</td>\n      <td>0.0</td>\n      <td>0.0</td>\n      <td>0.0</td>\n      <td>0.0</td>\n      <td>0.0</td>\n      <td>0.0</td>\n      <td>0.0</td>\n      <td>0.0</td>\n      <td>0.0</td>\n    </tr>\n    <tr>\n      <th>4</th>\n      <td>194</td>\n      <td>2014-10-29</td>\n      <td>19:00</td>\n      <td>Indiana Pacers</td>\n      <td>1</td>\n      <td>Philadelphia 76ers</td>\n      <td>1</td>\n      <td>Pre_AllStar</td>\n      <td>0</td>\n      <td>0</td>\n      <td>...</td>\n      <td>0.0</td>\n      <td>0.0</td>\n      <td>0.0</td>\n      <td>0.0</td>\n      <td>0.0</td>\n      <td>0.0</td>\n      <td>0.0</td>\n      <td>0.0</td>\n      <td>0.0</td>\n      <td>0.0</td>\n    </tr>\n    <tr>\n      <th>...</th>\n      <td>...</td>\n      <td>...</td>\n      <td>...</td>\n      <td>...</td>\n      <td>...</td>\n      <td>...</td>\n      <td>...</td>\n      <td>...</td>\n      <td>...</td>\n      <td>...</td>\n      <td>...</td>\n      <td>...</td>\n      <td>...</td>\n      <td>...</td>\n      <td>...</td>\n      <td>...</td>\n      <td>...</td>\n      <td>...</td>\n      <td>...</td>\n      <td>...</td>\n      <td>...</td>\n    </tr>\n    <tr>\n      <th>8402</th>\n      <td>192</td>\n      <td>2022-01-03</td>\n      <td>20:30</td>\n      <td>Dallas Mavericks</td>\n      <td>37</td>\n      <td>Denver Nuggets</td>\n      <td>35</td>\n      <td>Pre_AllStar</td>\n      <td>2</td>\n      <td>3</td>\n      <td>...</td>\n      <td>14.6</td>\n      <td>6.8</td>\n      <td>8.2</td>\n      <td>4.4</td>\n      <td>4.4</td>\n      <td>21.4</td>\n      <td>20.4</td>\n      <td>9.0</td>\n      <td>8.2</td>\n      <td>213.2</td>\n    </tr>\n    <tr>\n      <th>8403</th>\n      <td>223</td>\n      <td>2022-01-03</td>\n      <td>22:00</td>\n      <td>Golden State Warriors</td>\n      <td>36</td>\n      <td>Miami Heat</td>\n      <td>38</td>\n      <td>Pre_AllStar</td>\n      <td>1</td>\n      <td>0</td>\n      <td>...</td>\n      <td>11.2</td>\n      <td>10.0</td>\n      <td>7.2</td>\n      <td>5.8</td>\n      <td>3.0</td>\n      <td>20.6</td>\n      <td>18.2</td>\n      <td>8.6</td>\n      <td>6.4</td>\n      <td>222.2</td>\n    </tr>\n    <tr>\n      <th>8404</th>\n      <td>267</td>\n      <td>2022-01-03</td>\n      <td>22:00</td>\n      <td>Portland Trail Blazers</td>\n      <td>36</td>\n      <td>Atlanta Hawks</td>\n      <td>36</td>\n      <td>Pre_AllStar</td>\n      <td>0</td>\n      <td>1</td>\n      <td>...</td>\n      <td>9.0</td>\n      <td>6.0</td>\n      <td>6.0</td>\n      <td>4.6</td>\n      <td>4.2</td>\n      <td>22.6</td>\n      <td>17.0</td>\n      <td>16.4</td>\n      <td>9.0</td>\n      <td>214.2</td>\n    </tr>\n    <tr>\n      <th>8405</th>\n      <td>226</td>\n      <td>2022-01-03</td>\n      <td>22:30</td>\n      <td>Los Angeles Clippers</td>\n      <td>38</td>\n      <td>Minnesota Timberwolves</td>\n      <td>37</td>\n      <td>Pre_AllStar</td>\n      <td>1</td>\n      <td>0</td>\n      <td>...</td>\n      <td>14.2</td>\n      <td>6.6</td>\n      <td>7.6</td>\n      <td>5.6</td>\n      <td>5.4</td>\n      <td>18.8</td>\n      <td>22.0</td>\n      <td>8.0</td>\n      <td>8.4</td>\n      <td>210.0</td>\n    </tr>\n    <tr>\n      <th>8406</th>\n      <td>216</td>\n      <td>2022-01-04</td>\n      <td>19:00</td>\n      <td>Cleveland Cavaliers</td>\n      <td>38</td>\n      <td>Memphis Grizzlies</td>\n      <td>39</td>\n      <td>Pre_AllStar</td>\n      <td>1</td>\n      <td>5</td>\n      <td>...</td>\n      <td>12.4</td>\n      <td>5.8</td>\n      <td>10.4</td>\n      <td>4.6</td>\n      <td>6.6</td>\n      <td>16.4</td>\n      <td>18.4</td>\n      <td>14.6</td>\n      <td>11.6</td>\n      <td>229.6</td>\n    </tr>\n  </tbody>\n</table>\n<p>8407 rows × 41 columns</p>\n</div>"
     },
     "execution_count": 233,
     "metadata": {},
     "output_type": "execute_result"
    }
   ],
   "source": [
    "nba_df_for_ML = pd.read_csv('nba_df_for_ML(大小盤).csv')\n",
    "nba_df_for_ML = nba_df_for_ML.set_index('Unnamed: 0',drop=True)\n",
    "nba_df_for_ML"
   ],
   "metadata": {
    "collapsed": false,
    "pycharm": {
     "name": "#%%\n"
    }
   }
  },
  {
   "cell_type": "code",
   "execution_count": 234,
   "outputs": [],
   "source": [
    "import pandas as pd\n",
    "import pymssql\n",
    "import pandasql as ps\n",
    "from datetime import datetime, timezone, timedelta\n",
    "\n",
    "SourceCode = 'Bet365'  # 台灣運彩編碼\n",
    "server = \"gh.ecocoshiny.com\"\n",
    "database = 'GoHit'\n",
    "user = 'userLC'\n",
    "password = '123123Gohit'\n",
    "TournamentText = 'NBA'\n",
    "\n",
    "def get_ConnectionFromDB():\n",
    "    db = pymssql.connect(server, user, password, database)\n",
    "    cursor = db.cursor()\n",
    "    return db, cursor\n",
    "\n",
    "def TeamNameCorrection(Taiwan_TeamName, cursor):\n",
    "    sql = f\"SELECT teams.team FROM teamText join teams on teamText.team_id = teams.id where Text = '{Taiwan_TeamName}' ;\"\n",
    "    cursor.execute(sql)\n",
    "    result = cursor.fetchone()\n",
    "    if result:\n",
    "        print(f'{Taiwan_TeamName}更換名稱為{result[0]}')\n",
    "        return result[0]\n",
    "    else:\n",
    "        return Taiwan_TeamName\n",
    "\n",
    "import time\n",
    "def getOddsDataFrame(MatchTime, db, cursor):\n",
    "    sql = f'''SELECT MatchResults.EventCode,MatchTime,HomeTeam,AwayTeam,HomeScore,AwayScore,Odds.GroupOptionCode,Odds.OptionCode,Odds.OptionRate,Odds.SpecialBetValue\n",
    "              from MatchResults\n",
    "              inner join Odds on Odds.EventCode = MatchResults.EventCode\n",
    "              where TournamentText = '{TournamentText}' and Odds.SourceCode='{SourceCode}' and Odds.GroupOptionCode = 52 AND\n",
    "                    MatchTime >= '{MatchTime}' order by MatchTime '''\n",
    "\n",
    "    return pd.read_sql(sql, db)\n",
    "\n",
    "def get_MatchResults(nba_df_for_ML):\n",
    "    db, cursor = get_ConnectionFromDB()\n",
    "    MatchResults = nba_df_for_ML.copy()\n",
    "    MatchResults['Odd_H'] = 0\n",
    "    MatchResults['Odd_A'] = 0\n",
    "    MatchResults['SpecialBetValue'] = 0\n",
    "    Odds = getOddsDataFrame('2021-10-20 00:00:00', db, cursor)\n",
    "    for index, game in nba_df_for_ML.iterrows():\n",
    "        MatchTime =datetime.strptime(game['gmDate']+' '+game['gmTime'], \"%Y-%m-%d %H:%M\")+timedelta(hours=12)\n",
    "        if MatchTime <= datetime.strptime('2021-10-20 00:00', \"%Y-%m-%d %H:%M\"):\n",
    "            continue\n",
    "        print(MatchTime)\n",
    "        HomeTeam = TeamNameCorrection(game['homeAbbr'],cursor)\n",
    "        AwayTeam = TeamNameCorrection(game['awayAbbr'],cursor)\n",
    "\n",
    "        offset_sec = 120*60\n",
    "        timestamp = time.mktime(MatchTime.timetuple())\n",
    "        top = datetime.fromtimestamp(timestamp+offset_sec)\n",
    "        bottom = datetime.fromtimestamp(timestamp-offset_sec)\n",
    "\n",
    "        Odd = Odds[(Odds['MatchTime']>=bottom) & (Odds['MatchTime']<top) & (Odds.HomeTeam==HomeTeam) & (Odds.AwayTeam==AwayTeam)]\n",
    "\n",
    "        for _,odd in Odd.iterrows():\n",
    "            if odd['OptionCode'] == 'Over':\n",
    "                MatchResults.loc[index,'Odd_H'] =odd['OptionRate']\n",
    "            else:\n",
    "                MatchResults.loc[index,'Odd_A'] =odd['OptionRate']\n",
    "            MatchResults.loc[index,'SpecialBetValue'] =odd['SpecialBetValue']\n",
    "\n",
    "        print(MatchResults.loc[index]['Odd_H'],MatchResults.loc[index]['Odd_A'],MatchResults.loc[index,'SpecialBetValue'])\n",
    "    cursor.close()\n",
    "    db.close()\n",
    "    return MatchResults"
   ],
   "metadata": {
    "collapsed": false,
    "pycharm": {
     "name": "#%%\n"
    }
   }
  },
  {
   "cell_type": "code",
   "execution_count": 235,
   "outputs": [
    {
     "name": "stdout",
     "output_type": "stream",
     "text": [
      "2021-10-20 07:30:00\n",
      "Milwaukee Bucks更換名稱為MIL Bucks\n",
      "Brooklyn Nets更換名稱為BKN Nets\n",
      "1.90 1.90 233.5\n",
      "2021-10-20 10:00:00\n",
      "Los Angeles Lakers更換名稱為LA Lakers\n",
      "Golden State Warriors更換名稱為GS Warriors\n",
      "1.90 1.90 226.5\n",
      "2021-10-21 07:00:00\n",
      "Charlotte Hornets更換名稱為CHA Hornets\n",
      "Indiana Pacers更換名稱為IND Pacers\n",
      "1.90 1.90 223.5\n",
      "2021-10-21 07:00:00\n",
      "Detroit Pistons更換名稱為DET Pistons\n",
      "Chicago Bulls更換名稱為CHI Bulls\n",
      "1.90 1.90 218.5\n",
      "2021-10-21 07:30:00\n",
      "New York Knicks更換名稱為NY Knicks\n",
      "Boston Celtics更換名稱為BOS Celtics\n",
      "1.90 1.90 216.5\n",
      "2021-10-21 07:30:00\n",
      "Toronto Raptors更換名稱為TOR Raptors\n",
      "Washington Wizards更換名稱為WAS Wizards\n",
      "1.90 1.90 221.0\n",
      "2021-10-21 08:00:00\n",
      "Memphis Grizzlies更換名稱為MEM Grizzlies\n",
      "Cleveland Cavaliers更換名稱為CLE Cavaliers\n",
      "1.90 1.90 218.5\n",
      "2021-10-21 08:00:00\n",
      "Minnesota Timberwolves更換名稱為MIN Timberwolves\n",
      "Houston Rockets更換名稱為HOU Rockets\n",
      "1.90 1.90 231.5\n",
      "2021-10-21 08:00:00\n",
      "New Orleans Pelicans更換名稱為NO Pelicans\n",
      "Philadelphia 76ers更換名稱為PHI 76ers\n",
      "1.90 1.90 224.0\n",
      "2021-10-21 08:30:00\n",
      "San Antonio Spurs更換名稱為SA Spurs\n",
      "Orlando Magic更換名稱為ORL Magic\n",
      "1.90 1.90 212.5\n",
      "2021-10-21 09:00:00\n",
      "Utah Jazz更換名稱為UTA Jazz\n",
      "Oklahoma City Thunder更換名稱為OKC Thunder\n",
      "1.90 1.90 221.5\n",
      "2021-10-21 10:00:00\n",
      "Portland Trail Blazers更換名稱為POR Trail Blazers\n",
      "Sacramento Kings更換名稱為SAC Kings\n",
      "1.90 1.90 235.0\n",
      "2021-10-21 10:00:00\n",
      "Phoenix Suns更換名稱為PHX Suns\n",
      "Denver Nuggets更換名稱為DEN Nuggets\n",
      "1.90 1.90 224.0\n",
      "2021-10-22 07:30:00\n",
      "Atlanta Hawks更換名稱為ATL Hawks\n",
      "Dallas Mavericks更換名稱為DAL Mavericks\n",
      "1.90 1.90 225.0\n",
      "2021-10-22 08:00:00\n",
      "Miami Heat更換名稱為MIA Heat\n",
      "Milwaukee Bucks更換名稱為MIL Bucks\n",
      "1.90 1.90 222.5\n",
      "2021-10-22 10:00:00\n",
      "Golden State Warriors更換名稱為GS Warriors\n",
      "Los Angeles Clippers更換名稱為LA Clippers\n",
      "1.90 1.90 229.0\n",
      "2021-10-23 07:00:00\n",
      "Orlando Magic更換名稱為ORL Magic\n",
      "New York Knicks更換名稱為NY Knicks\n",
      "1.90 1.90 213.0\n",
      "2021-10-23 07:00:00\n",
      "Washington Wizards更換名稱為WAS Wizards\n",
      "Indiana Pacers更換名稱為IND Pacers\n",
      "1.90 1.90 227.5\n",
      "2021-10-23 07:00:00\n",
      "Cleveland Cavaliers更換名稱為CLE Cavaliers\n",
      "Charlotte Hornets更換名稱為CHA Hornets\n",
      "1.90 1.90 225.5\n",
      "2021-10-23 07:30:00\n",
      "Boston Celtics更換名稱為BOS Celtics\n",
      "Toronto Raptors更換名稱為TOR Raptors\n",
      "1.90 1.90 218.5\n",
      "2021-10-23 07:30:00\n",
      "Philadelphia 76ers更換名稱為PHI 76ers\n",
      "Brooklyn Nets更換名稱為BKN Nets\n",
      "1.90 1.90 226.0\n",
      "2021-10-23 08:00:00\n",
      "Houston Rockets更換名稱為HOU Rockets\n",
      "Oklahoma City Thunder更換名稱為OKC Thunder\n",
      "1.90 1.90 220.5\n",
      "2021-10-23 08:00:00\n",
      "Chicago Bulls更換名稱為CHI Bulls\n",
      "New Orleans Pelicans更換名稱為NO Pelicans\n",
      "1.90 1.90 223.0\n",
      "2021-10-23 09:00:00\n",
      "Denver Nuggets更換名稱為DEN Nuggets\n",
      "San Antonio Spurs更換名稱為SA Spurs\n",
      "1.90 1.90 221.5\n",
      "2021-10-23 10:00:00\n",
      "Los Angeles Lakers更換名稱為LA Lakers\n",
      "Phoenix Suns更換名稱為PHX Suns\n",
      "1.90 1.90 222.0\n",
      "2021-10-23 10:00:00\n",
      "Sacramento Kings更換名稱為SAC Kings\n",
      "Utah Jazz更換名稱為UTA Jazz\n",
      "1.90 1.90 227.0\n",
      "2021-10-24 06:00:00\n",
      "Cleveland Cavaliers更換名稱為CLE Cavaliers\n",
      "Atlanta Hawks更換名稱為ATL Hawks\n",
      "1.90 1.90 222.5\n",
      "2021-10-24 07:00:00\n",
      "Indiana Pacers更換名稱為IND Pacers\n",
      "Miami Heat更換名稱為MIA Heat\n",
      "1.90 1.90 223.5\n",
      "2021-10-24 07:30:00\n",
      "Toronto Raptors更換名稱為TOR Raptors\n",
      "Dallas Mavericks更換名稱為DAL Mavericks\n",
      "1.90 1.90 216.5\n",
      "2021-10-24 08:00:00\n",
      "Chicago Bulls更換名稱為CHI Bulls\n",
      "Detroit Pistons更換名稱為DET Pistons\n",
      "1.90 1.90 213.5\n",
      "2021-10-24 08:00:00\n",
      "Minnesota Timberwolves更換名稱為MIN Timberwolves\n",
      "New Orleans Pelicans更換名稱為NO Pelicans\n",
      "1.90 1.90 228.5\n",
      "2021-10-24 08:30:00\n",
      "San Antonio Spurs更換名稱為SA Spurs\n",
      "Milwaukee Bucks更換名稱為MIL Bucks\n",
      "1.90 1.90 225.5\n",
      "2021-10-24 10:00:00\n",
      "Portland Trail Blazers更換名稱為POR Trail Blazers\n",
      "Phoenix Suns更換名稱為PHX Suns\n",
      "1.90 1.90 229.0\n",
      "2021-10-24 10:30:00\n",
      "Los Angeles Clippers更換名稱為LA Clippers\n",
      "Memphis Grizzlies更換名稱為MEM Grizzlies\n",
      "1.90 1.90 226.5\n",
      "2021-10-25 04:00:00\n",
      "Brooklyn Nets更換名稱為BKN Nets\n",
      "Charlotte Hornets更換名稱為CHA Hornets\n",
      "1.90 1.90 233.5\n",
      "2021-10-25 07:00:00\n",
      "Houston Rockets更換名稱為HOU Rockets\n",
      "Boston Celtics更換名稱為BOS Celtics\n",
      "1.90 1.90 222.5\n",
      "2021-10-25 07:00:00\n",
      "New York Knicks更換名稱為NY Knicks\n",
      "Orlando Magic更換名稱為ORL Magic\n",
      "1.90 1.90 215.0\n",
      "2021-10-25 07:00:00\n",
      "Oklahoma City Thunder更換名稱為OKC Thunder\n",
      "Philadelphia 76ers更換名稱為PHI 76ers\n",
      "1.90 1.90 215.0\n",
      "2021-10-25 09:00:00\n",
      "Sacramento Kings更換名稱為SAC Kings\n",
      "Golden State Warriors更換名稱為GS Warriors\n",
      "1.90 1.90 234.5\n",
      "2021-10-25 09:30:00\n",
      "Los Angeles Lakers更換名稱為LA Lakers\n",
      "Memphis Grizzlies更換名稱為MEM Grizzlies\n",
      "1.90 1.90 225.5\n",
      "2021-10-26 07:00:00\n",
      "Charlotte Hornets更換名稱為CHA Hornets\n",
      "Boston Celtics更換名稱為BOS Celtics\n",
      "1.90 1.90 223.5\n",
      "2021-10-26 07:00:00\n",
      "Indiana Pacers更換名稱為IND Pacers\n",
      "Milwaukee Bucks更換名稱為MIL Bucks\n",
      "1.90 1.90 230.0\n",
      "2021-10-26 07:30:00\n",
      "Toronto Raptors更換名稱為TOR Raptors\n",
      "Chicago Bulls更換名稱為CHI Bulls\n",
      "1.90 1.90 211.5\n",
      "2021-10-26 07:30:00\n",
      "Miami Heat更換名稱為MIA Heat\n",
      "Orlando Magic更換名稱為ORL Magic\n",
      "1.90 1.90 211.5\n",
      "2021-10-26 07:30:00\n",
      "Brooklyn Nets更換名稱為BKN Nets\n",
      "Washington Wizards更換名稱為WAS Wizards\n",
      "1.90 1.90 228.5\n",
      "2021-10-26 07:30:00\n",
      "Atlanta Hawks更換名稱為ATL Hawks\n",
      "Detroit Pistons更換名稱為DET Pistons\n",
      "1.90 1.90 212.5\n",
      "2021-10-26 08:00:00\n",
      "Minnesota Timberwolves更換名稱為MIN Timberwolves\n",
      "New Orleans Pelicans更換名稱為NO Pelicans\n",
      "1.90 1.90 224.5\n",
      "2021-10-26 09:00:00\n",
      "Denver Nuggets更換名稱為DEN Nuggets\n",
      "Cleveland Cavaliers更換名稱為CLE Cavaliers\n",
      "1.90 1.90 220.5\n",
      "2021-10-26 10:30:00\n",
      "Los Angeles Clippers更換名稱為LA Clippers\n",
      "Portland Trail Blazers更換名稱為POR Trail Blazers\n",
      "1.90 1.90 230.5\n",
      "2021-10-27 07:30:00\n",
      "New York Knicks更換名稱為NY Knicks\n",
      "Philadelphia 76ers更換名稱為PHI 76ers\n",
      "1.90 1.90 217.0\n",
      "2021-10-27 08:00:00\n",
      "Oklahoma City Thunder更換名稱為OKC Thunder\n",
      "Golden State Warriors更換名稱為GS Warriors\n",
      "1.90 1.90 223.5\n",
      "2021-10-27 08:30:00\n",
      "San Antonio Spurs更換名稱為SA Spurs\n",
      "Los Angeles Lakers更換名稱為LA Lakers\n",
      "1.90 1.90 220.5\n",
      "2021-10-27 08:30:00\n",
      "Dallas Mavericks更換名稱為DAL Mavericks\n",
      "Houston Rockets更換名稱為HOU Rockets\n",
      "1.90 1.90 222.0\n",
      "2021-10-27 10:00:00\n",
      "Utah Jazz更換名稱為UTA Jazz\n",
      "Denver Nuggets更換名稱為DEN Nuggets\n",
      "1.90 1.90 218.5\n",
      "2021-10-28 07:00:00\n",
      "Orlando Magic更換名稱為ORL Magic\n",
      "Charlotte Hornets更換名稱為CHA Hornets\n",
      "1.90 1.90 220.0\n",
      "2021-10-28 07:30:00\n",
      "Boston Celtics更換名稱為BOS Celtics\n",
      "Washington Wizards更換名稱為WAS Wizards\n",
      "1.90 1.90 224.0\n",
      "2021-10-28 07:30:00\n",
      "Brooklyn Nets更換名稱為BKN Nets\n",
      "Miami Heat更換名稱為MIA Heat\n",
      "1.90 1.90 217.5\n",
      "2021-10-28 07:30:00\n",
      "Toronto Raptors更換名稱為TOR Raptors\n",
      "Indiana Pacers更換名稱為IND Pacers\n",
      "1.90 1.90 215.5\n",
      "2021-10-28 07:30:00\n",
      "New Orleans Pelicans更換名稱為NO Pelicans\n",
      "Atlanta Hawks更換名稱為ATL Hawks\n",
      "1.90 1.90 219.5\n",
      "2021-10-28 08:00:00\n",
      "Milwaukee Bucks更換名稱為MIL Bucks\n",
      "Minnesota Timberwolves更換名稱為MIN Timberwolves\n",
      "1.90 1.90 231.0\n",
      "2021-10-28 08:00:00\n",
      "Oklahoma City Thunder更換名稱為OKC Thunder\n",
      "Los Angeles Lakers更換名稱為LA Lakers\n",
      "1.90 1.90 217.0\n",
      "2021-10-28 10:00:00\n",
      "Phoenix Suns更換名稱為PHX Suns\n",
      "Sacramento Kings更換名稱為SAC Kings\n",
      "1.90 1.90 224.5\n",
      "2021-10-28 10:00:00\n",
      "Portland Trail Blazers更換名稱為POR Trail Blazers\n",
      "Memphis Grizzlies更換名稱為MEM Grizzlies\n",
      "1.90 1.90 234.0\n",
      "2021-10-28 10:30:00\n",
      "Los Angeles Clippers更換名稱為LA Clippers\n",
      "Cleveland Cavaliers更換名稱為CLE Cavaliers\n",
      "1.90 1.90 219.0\n",
      "2021-10-29 07:00:00\n",
      "Washington Wizards更換名稱為WAS Wizards\n",
      "Atlanta Hawks更換名稱為ATL Hawks\n",
      "1.90 1.90 222.5\n",
      "2021-10-29 07:00:00\n",
      "Philadelphia 76ers更換名稱為PHI 76ers\n",
      "Detroit Pistons更換名稱為DET Pistons\n",
      "1.90 1.90 212.5\n",
      "2021-10-29 08:00:00\n",
      "Houston Rockets更換名稱為HOU Rockets\n",
      "Utah Jazz更換名稱為UTA Jazz\n",
      "1.90 1.90 222.5\n",
      "2021-10-29 08:00:00\n",
      "Chicago Bulls更換名稱為CHI Bulls\n",
      "New York Knicks更換名稱為NY Knicks\n",
      "1.90 1.90 216.5\n",
      "2021-10-29 08:30:00\n",
      "Dallas Mavericks更換名稱為DAL Mavericks\n",
      "San Antonio Spurs更換名稱為SA Spurs\n",
      "1.90 1.90 219.5\n",
      "2021-10-29 10:00:00\n",
      "Golden State Warriors更換名稱為GS Warriors\n",
      "Memphis Grizzlies更換名稱為MEM Grizzlies\n",
      "1.90 1.90 228.5\n",
      "2021-10-30 07:00:00\n",
      "Toronto Raptors更換名稱為TOR Raptors\n",
      "Orlando Magic更換名稱為ORL Magic\n",
      "1.90 1.90 206.0\n",
      "2021-10-30 07:30:00\n",
      "Miami Heat更換名稱為MIA Heat\n",
      "Charlotte Hornets更換名稱為CHA Hornets\n",
      "1.90 1.90 223.0\n",
      "2021-10-30 07:30:00\n",
      "Brooklyn Nets更換名稱為BKN Nets\n",
      "Indiana Pacers更換名稱為IND Pacers\n",
      "1.90 1.90 222.5\n",
      "2021-10-30 08:00:00\n",
      "New Orleans Pelicans更換名稱為NO Pelicans\n",
      "Sacramento Kings更換名稱為SAC Kings\n",
      "1.90 1.90 222.0\n",
      "2021-10-30 10:00:00\n",
      "Denver Nuggets更換名稱為DEN Nuggets\n",
      "Dallas Mavericks更換名稱為DAL Mavericks\n",
      "1.90 1.90 215.5\n",
      "2021-10-30 10:00:00\n",
      "Portland Trail Blazers更換名稱為POR Trail Blazers\n",
      "Los Angeles Clippers更換名稱為LA Clippers\n",
      "1.90 1.90 223.0\n",
      "2021-10-30 10:30:00\n",
      "Los Angeles Lakers更換名稱為LA Lakers\n",
      "Cleveland Cavaliers更換名稱為CLE Cavaliers\n",
      "1.90 1.90 221.5\n",
      "2021-10-31 05:00:00\n",
      "Washington Wizards更換名稱為WAS Wizards\n",
      "Boston Celtics更換名稱為BOS Celtics\n",
      "1.90 1.90 223.5\n",
      "2021-10-31 07:00:00\n",
      "Detroit Pistons更換名稱為DET Pistons\n",
      "Orlando Magic更換名稱為ORL Magic\n",
      "1.90 1.90 207.0\n",
      "2021-10-31 07:00:00\n",
      "New Orleans Pelicans更換名稱為NO Pelicans\n",
      "New York Knicks更換名稱為NY Knicks\n",
      "1.90 1.90 215.0\n",
      "2021-10-31 07:30:00\n",
      "Indiana Pacers更換名稱為IND Pacers\n",
      "Toronto Raptors更換名稱為TOR Raptors\n",
      "1.90 1.90 212.0\n",
      "2021-10-31 07:30:00\n",
      "Philadelphia 76ers更換名稱為PHI 76ers\n",
      "Atlanta Hawks更換名稱為ATL Hawks\n",
      "1.90 1.90 217.0\n",
      "2021-10-31 08:00:00\n",
      "Chicago Bulls更換名稱為CHI Bulls\n",
      "Utah Jazz更換名稱為UTA Jazz\n",
      "1.90 1.90 218.5\n",
      "2021-10-31 08:00:00\n",
      "Memphis Grizzlies更換名稱為MEM Grizzlies\n",
      "Miami Heat更換名稱為MIA Heat\n",
      "1.90 1.90 215.0\n",
      "2021-10-31 08:00:00\n",
      "Milwaukee Bucks更換名稱為MIL Bucks\n",
      "San Antonio Spurs更換名稱為SA Spurs\n",
      "1.90 1.90 223.5\n",
      "2021-10-31 08:30:00\n",
      "Golden State Warriors更換名稱為GS Warriors\n",
      "Oklahoma City Thunder更換名稱為OKC Thunder\n",
      "1.90 1.90 216.5\n",
      "2021-10-31 09:00:00\n",
      "Minnesota Timberwolves更換名稱為MIN Timberwolves\n",
      "Denver Nuggets更換名稱為DEN Nuggets\n",
      "1.90 1.90 219.5\n",
      "2021-10-31 10:00:00\n",
      "Phoenix Suns更換名稱為PHX Suns\n",
      "Cleveland Cavaliers更換名稱為CLE Cavaliers\n",
      "1.90 1.90 216.0\n",
      "2021-11-01 03:30:00\n",
      "Dallas Mavericks更換名稱為DAL Mavericks\n",
      "Sacramento Kings更換名稱為SAC Kings\n",
      "1.90 1.90 218.5\n",
      "2021-11-01 07:00:00\n",
      "Charlotte Hornets更換名稱為CHA Hornets\n",
      "Portland Trail Blazers更換名稱為POR Trail Blazers\n",
      "1.90 1.90 230.5\n",
      "2021-11-01 07:00:00\n",
      "Milwaukee Bucks更換名稱為MIL Bucks\n",
      "Utah Jazz更換名稱為UTA Jazz\n",
      "1.90 1.90 224.5\n",
      "2021-11-01 07:30:00\n",
      "Brooklyn Nets更換名稱為BKN Nets\n",
      "Detroit Pistons更換名稱為DET Pistons\n",
      "1.90 1.90 212.0\n",
      "2021-11-01 10:30:00\n",
      "Los Angeles Lakers更換名稱為LA Lakers\n",
      "Houston Rockets更換名稱為HOU Rockets\n",
      "1.90 1.90 221.5\n",
      "2021-11-02 07:00:00\n",
      "Charlotte Hornets更換名稱為CHA Hornets\n",
      "Cleveland Cavaliers更換名稱為CLE Cavaliers\n",
      "1.90 1.90 221.0\n",
      "2021-11-02 07:00:00\n",
      "Indiana Pacers更換名稱為IND Pacers\n",
      "San Antonio Spurs更換名稱為SA Spurs\n",
      "1.90 1.90 217.5\n",
      "2021-11-02 07:00:00\n",
      "Philadelphia 76ers更換名稱為PHI 76ers\n",
      "Portland Trail Blazers更換名稱為POR Trail Blazers\n",
      "1.90 1.90 219.5\n",
      "2021-11-02 07:30:00\n",
      "Atlanta Hawks更換名稱為ATL Hawks\n",
      "Washington Wizards更換名稱為WAS Wizards\n",
      "1.90 1.90 223.0\n",
      "2021-11-02 07:30:00\n",
      "Boston Celtics更換名稱為BOS Celtics\n",
      "Chicago Bulls更換名稱為CHI Bulls\n",
      "1.90 1.90 217.0\n",
      "2021-11-02 07:30:00\n",
      "New York Knicks更換名稱為NY Knicks\n",
      "Toronto Raptors更換名稱為TOR Raptors\n",
      "1.90 1.90 208.5\n",
      "2021-11-02 08:00:00\n",
      "Memphis Grizzlies更換名稱為MEM Grizzlies\n",
      "Denver Nuggets更換名稱為DEN Nuggets\n",
      "1.90 1.90 214.5\n",
      "2021-11-02 08:00:00\n",
      "Minnesota Timberwolves更換名稱為MIN Timberwolves\n",
      "Orlando Magic更換名稱為ORL Magic\n",
      "1.90 1.90 216.5\n",
      "2021-11-02 10:30:00\n",
      "Los Angeles Clippers更換名稱為LA Clippers\n",
      "Oklahoma City Thunder更換名稱為OKC Thunder\n",
      "1.90 1.90 210.0\n",
      "2021-11-03 07:00:00\n",
      "Detroit Pistons更換名稱為DET Pistons\n",
      "Milwaukee Bucks更換名稱為MIL Bucks\n",
      "1.90 1.90 211.0\n",
      "2021-11-03 07:30:00\n",
      "Dallas Mavericks更換名稱為DAL Mavericks\n",
      "Miami Heat更換名稱為MIA Heat\n",
      "1.90 1.90 210.0\n",
      "2021-11-03 09:00:00\n",
      "Utah Jazz更換名稱為UTA Jazz\n",
      "Sacramento Kings更換名稱為SAC Kings\n",
      "1.90 1.90 222.5\n",
      "2021-11-03 10:00:00\n",
      "Phoenix Suns更換名稱為PHX Suns\n",
      "New Orleans Pelicans更換名稱為NO Pelicans\n",
      "1.90 1.90 214.5\n",
      "2021-11-03 10:30:00\n",
      "Los Angeles Lakers更換名稱為LA Lakers\n",
      "Houston Rockets更換名稱為HOU Rockets\n",
      "1.90 1.90 219.0\n",
      "2021-11-04 07:00:00\n",
      "Cleveland Cavaliers更換名稱為CLE Cavaliers\n",
      "Portland Trail Blazers更換名稱為POR Trail Blazers\n",
      "1.90 1.90 217.5\n",
      "2021-11-04 07:00:00\n",
      "Indiana Pacers更換名稱為IND Pacers\n",
      "New York Knicks更換名稱為NY Knicks\n",
      "1.90 1.90 217.0\n",
      "2021-11-04 07:00:00\n",
      "Orlando Magic更換名稱為ORL Magic\n",
      "Boston Celtics更換名稱為BOS Celtics\n",
      "1.90 1.90 212.5\n",
      "2021-11-04 07:00:00\n",
      "Philadelphia 76ers更換名稱為PHI 76ers\n",
      "Chicago Bulls更換名稱為CHI Bulls\n",
      "1.90 1.90 216.5\n",
      "2021-11-04 07:00:00\n",
      "Washington Wizards更換名稱為WAS Wizards\n",
      "Toronto Raptors更換名稱為TOR Raptors\n",
      "1.90 1.90 212.5\n",
      "2021-11-04 07:30:00\n",
      "Brooklyn Nets更換名稱為BKN Nets\n",
      "Atlanta Hawks更換名稱為ATL Hawks\n",
      "1.90 1.90 220.0\n",
      "2021-11-04 08:00:00\n",
      "Memphis Grizzlies更換名稱為MEM Grizzlies\n",
      "Denver Nuggets更換名稱為DEN Nuggets\n",
      "1.90 1.90 215.5\n",
      "2021-11-04 08:00:00\n",
      "Minnesota Timberwolves更換名稱為MIN Timberwolves\n",
      "Los Angeles Clippers更換名稱為LA Clippers\n",
      "1.90 1.90 212.0\n",
      "2021-11-04 08:30:00\n",
      "San Antonio Spurs更換名稱為SA Spurs\n",
      "Dallas Mavericks更換名稱為DAL Mavericks\n",
      "1.90 1.90 217.5\n",
      "2021-11-04 10:00:00\n",
      "Golden State Warriors更換名稱為GS Warriors\n",
      "Charlotte Hornets更換名稱為CHA Hornets\n",
      "1.90 1.90 226.5\n",
      "2021-11-04 10:00:00\n",
      "Sacramento Kings更換名稱為SAC Kings\n",
      "New Orleans Pelicans更換名稱為NO Pelicans\n",
      "1.90 1.90 219.5\n",
      "2021-11-05 07:00:00\n",
      "Detroit Pistons更換名稱為DET Pistons\n",
      "Philadelphia 76ers更換名稱為PHI 76ers\n",
      "1.90 1.90 208.0\n",
      "2021-11-05 07:30:00\n",
      "Atlanta Hawks更換名稱為ATL Hawks\n",
      "Utah Jazz更換名稱為UTA Jazz\n",
      "1.90 1.90 220.0\n",
      "2021-11-05 07:30:00\n",
      "Miami Heat更換名稱為MIA Heat\n",
      "Boston Celtics更換名稱為BOS Celtics\n",
      "1.90 1.90 214.5\n",
      "2021-11-05 10:00:00\n",
      "Phoenix Suns更換名稱為PHX Suns\n",
      "Houston Rockets更換名稱為HOU Rockets\n",
      "1.90 1.90 219.0\n",
      "2021-11-05 10:30:00\n",
      "Los Angeles Lakers更換名稱為LA Lakers\n",
      "Oklahoma City Thunder更換名稱為OKC Thunder\n",
      "1.90 1.90 214.5\n",
      "2021-11-06 07:00:00\n",
      "Detroit Pistons更換名稱為DET Pistons\n",
      "Brooklyn Nets更換名稱為BKN Nets\n",
      "1.90 1.90 211.0\n",
      "2021-11-06 07:00:00\n",
      "Orlando Magic更換名稱為ORL Magic\n",
      "San Antonio Spurs更換名稱為SA Spurs\n",
      "1.90 1.90 213.0\n",
      "2021-11-06 07:00:00\n",
      "Washington Wizards更換名稱為WAS Wizards\n",
      "Memphis Grizzlies更換名稱為MEM Grizzlies\n",
      "1.90 1.90 220.5\n",
      "2021-11-06 07:30:00\n",
      "Milwaukee Bucks更換名稱為MIL Bucks\n",
      "New York Knicks更換名稱為NY Knicks\n",
      "1.90 1.90 217.0\n",
      "2021-11-06 07:30:00\n",
      "Toronto Raptors更換名稱為TOR Raptors\n",
      "Cleveland Cavaliers更換名稱為CLE Cavaliers\n",
      "1.90 1.90 205.0\n",
      "2021-11-06 08:00:00\n",
      "Minnesota Timberwolves更換名稱為MIN Timberwolves\n",
      "Los Angeles Clippers更換名稱為LA Clippers\n",
      "1.90 1.90 216.0\n",
      "2021-11-06 10:00:00\n",
      "Golden State Warriors更換名稱為GS Warriors\n",
      "New Orleans Pelicans更換名稱為NO Pelicans\n",
      "1.90 1.90 214.5\n",
      "2021-11-06 10:00:00\n",
      "Portland Trail Blazers更換名稱為POR Trail Blazers\n",
      "Indiana Pacers更換名稱為IND Pacers\n",
      "1.90 1.90 223.0\n",
      "2021-11-06 10:00:00\n",
      "Sacramento Kings更換名稱為SAC Kings\n",
      "Charlotte Hornets更換名稱為CHA Hornets\n",
      "1.90 1.90 231.5\n",
      "2021-11-07 05:00:00\n",
      "Denver Nuggets更換名稱為DEN Nuggets\n",
      "Houston Rockets更換名稱為HOU Rockets\n",
      "1.90 1.90 217.5\n",
      "2021-11-07 07:30:00\n",
      "Miami Heat更換名稱為MIA Heat\n",
      "Utah Jazz更換名稱為UTA Jazz\n",
      "1.90 1.90 211.0\n",
      "2021-11-07 08:00:00\n",
      "Chicago Bulls更換名稱為CHI Bulls\n",
      "Philadelphia 76ers更換名稱為PHI 76ers\n",
      "1.90 1.90 215.0\n",
      "2021-11-07 08:30:00\n",
      "Dallas Mavericks更換名稱為DAL Mavericks\n",
      "Boston Celtics更換名稱為BOS Celtics\n",
      "1.90 1.90 210.5\n",
      "2021-11-07 10:00:00\n",
      "Phoenix Suns更換名稱為PHX Suns\n",
      "Atlanta Hawks更換名稱為ATL Hawks\n",
      "1.90 1.90 221.5\n",
      "2021-11-07 10:30:00\n",
      "Portland Trail Blazers更換名稱為POR Trail Blazers\n",
      "Los Angeles Lakers更換名稱為LA Lakers\n",
      "1.90 1.90 223.5\n",
      "2021-11-08 03:30:00\n",
      "Toronto Raptors更換名稱為TOR Raptors\n",
      "Brooklyn Nets更換名稱為BKN Nets\n",
      "1.90 1.90 209.0\n",
      "2021-11-08 06:00:00\n",
      "New York Knicks更換名稱為NY Knicks\n",
      "Cleveland Cavaliers更換名稱為CLE Cavaliers\n",
      "1.90 1.90 207.0\n",
      "2021-11-08 06:00:00\n",
      "Orlando Magic更換名稱為ORL Magic\n",
      "Utah Jazz更換名稱為UTA Jazz\n",
      "1.90 1.90 211.0\n",
      "2021-11-08 06:00:00\n",
      "Sacramento Kings更換名稱為SAC Kings\n",
      "Indiana Pacers更換名稱為IND Pacers\n",
      "1.90 1.90 225.0\n",
      "2021-11-08 06:00:00\n",
      "Washington Wizards更換名稱為WAS Wizards\n",
      "Milwaukee Bucks更換名稱為MIL Bucks\n",
      "1.90 1.90 219.0\n",
      "2021-11-08 07:00:00\n",
      "Oklahoma City Thunder更換名稱為OKC Thunder\n",
      "San Antonio Spurs更換名稱為SA Spurs\n",
      "1.90 1.90 213.5\n",
      "2021-11-08 08:30:00\n",
      "Golden State Warriors更換名稱為GS Warriors\n",
      "Houston Rockets更換名稱為HOU Rockets\n",
      "1.90 1.90 219.0\n",
      "2021-11-08 09:00:00\n",
      "Los Angeles Clippers更換名稱為LA Clippers\n",
      "Charlotte Hornets更換名稱為CHA Hornets\n",
      "1.90 1.90 224.5\n",
      "2021-11-09 07:00:00\n",
      "Philadelphia 76ers更換名稱為PHI 76ers\n",
      "New York Knicks更換名稱為NY Knicks\n",
      "1.90 1.90 213.5\n",
      "2021-11-09 08:00:00\n",
      "Chicago Bulls更換名稱為CHI Bulls\n",
      "Brooklyn Nets更換名稱為BKN Nets\n",
      "1.90 1.90 216.5\n",
      "2021-11-09 08:00:00\n",
      "Memphis Grizzlies更換名稱為MEM Grizzlies\n",
      "Minnesota Timberwolves更換名稱為MIN Timberwolves\n",
      "1.90 1.90 217.5\n",
      "2021-11-09 08:30:00\n",
      "Dallas Mavericks更換名稱為DAL Mavericks\n",
      "New Orleans Pelicans更換名稱為NO Pelicans\n",
      "1.90 1.90 213.5\n",
      "2021-11-09 09:00:00\n",
      "Denver Nuggets更換名稱為DEN Nuggets\n",
      "Miami Heat更換名稱為MIA Heat\n",
      "1.90 1.90 204.5\n",
      "2021-11-09 10:00:00\n",
      "Golden State Warriors更換名稱為GS Warriors\n",
      "Atlanta Hawks更換名稱為ATL Hawks\n",
      "1.90 1.90 222.5\n",
      "2021-11-09 10:00:00\n",
      "Sacramento Kings更換名稱為SAC Kings\n",
      "Phoenix Suns更換名稱為PHX Suns\n",
      "1.90 1.90 225.0\n",
      "2021-11-09 10:30:00\n",
      "Los Angeles Lakers更換名稱為LA Lakers\n",
      "Charlotte Hornets更換名稱為CHA Hornets\n",
      "1.90 1.90 226.0\n",
      "2021-11-10 07:30:00\n",
      "Philadelphia 76ers更換名稱為PHI 76ers\n",
      "Milwaukee Bucks更換名稱為MIL Bucks\n",
      "1.90 1.90 215.5\n",
      "2021-11-10 09:00:00\n",
      "Utah Jazz更換名稱為UTA Jazz\n",
      "Atlanta Hawks更換名稱為ATL Hawks\n",
      "1.90 1.90 222.5\n",
      "2021-11-10 10:00:00\n",
      "Los Angeles Clippers更換名稱為LA Clippers\n",
      "Portland Trail Blazers更換名稱為POR Trail Blazers\n",
      "1.90 1.90 221.0\n",
      "2021-11-11 07:00:00\n",
      "Cleveland Cavaliers更換名稱為CLE Cavaliers\n",
      "Washington Wizards更換名稱為WAS Wizards\n",
      "1.90 1.90 208.5\n",
      "2021-11-11 07:00:00\n",
      "Orlando Magic更換名稱為ORL Magic\n",
      "Brooklyn Nets更換名稱為BKN Nets\n",
      "1.90 1.90 210.5\n",
      "2021-11-11 07:30:00\n",
      "Boston Celtics更換名稱為BOS Celtics\n",
      "Toronto Raptors更換名稱為TOR Raptors\n",
      "1.90 1.90 206.0\n",
      "2021-11-11 07:30:00\n",
      "Houston Rockets更換名稱為HOU Rockets\n",
      "Detroit Pistons更換名稱為DET Pistons\n",
      "1.90 1.90 210.5\n",
      "2021-11-11 07:30:00\n",
      "New York Knicks更換名稱為NY Knicks\n",
      "Milwaukee Bucks更換名稱為MIL Bucks\n",
      "1.90 1.90 216.0\n",
      "2021-11-11 08:00:00\n",
      "Chicago Bulls更換名稱為CHI Bulls\n",
      "Dallas Mavericks更換名稱為DAL Mavericks\n",
      "1.90 1.90 215.0\n",
      "2021-11-11 08:00:00\n",
      "Memphis Grizzlies更換名稱為MEM Grizzlies\n",
      "Charlotte Hornets更換名稱為CHA Hornets\n",
      "1.90 1.90 229.5\n",
      "2021-11-11 08:00:00\n",
      "New Orleans Pelicans更換名稱為NO Pelicans\n",
      "Oklahoma City Thunder更換名稱為OKC Thunder\n",
      "1.90 1.90 208.5\n",
      "2021-11-11 08:30:00\n",
      "San Antonio Spurs更換名稱為SA Spurs\n",
      "Sacramento Kings更換名稱為SAC Kings\n",
      "1.90 1.90 223.0\n",
      "2021-11-11 09:00:00\n",
      "Denver Nuggets更換名稱為DEN Nuggets\n",
      "Indiana Pacers更換名稱為IND Pacers\n",
      "1.90 1.90 205.0\n",
      "2021-11-11 09:00:00\n",
      "Phoenix Suns更換名稱為PHX Suns\n",
      "Portland Trail Blazers更換名稱為POR Trail Blazers\n",
      "1.90 1.90 225.0\n",
      "2021-11-11 10:00:00\n",
      "Golden State Warriors更換名稱為GS Warriors\n",
      "Minnesota Timberwolves更換名稱為MIN Timberwolves\n",
      "1.90 1.90 222.5\n",
      "2021-11-11 10:00:00\n",
      "Los Angeles Lakers更換名稱為LA Lakers\n",
      "Miami Heat更換名稱為MIA Heat\n",
      "1.90 1.90 215.5\n",
      "2021-11-12 07:00:00\n",
      "Philadelphia 76ers更換名稱為PHI 76ers\n",
      "Toronto Raptors更換名稱為TOR Raptors\n",
      "1.90 1.90 211.5\n",
      "2021-11-12 09:00:00\n",
      "Utah Jazz更換名稱為UTA Jazz\n",
      "Indiana Pacers更換名稱為IND Pacers\n",
      "1.90 1.90 215.5\n",
      "2021-11-12 10:30:00\n",
      "Los Angeles Clippers更換名稱為LA Clippers\n",
      "Miami Heat更換名稱為MIA Heat\n",
      "1.90 1.90 211.5\n",
      "2021-11-13 07:00:00\n",
      "Charlotte Hornets更換名稱為CHA Hornets\n",
      "New York Knicks更換名稱為NY Knicks\n",
      "1.90 1.90 224.5\n",
      "2021-11-13 07:30:00\n",
      "Boston Celtics更換名稱為BOS Celtics\n",
      "Milwaukee Bucks更換名稱為MIL Bucks\n",
      "1.90 1.90 208.5\n",
      "2021-11-13 07:30:00\n",
      "Cleveland Cavaliers更換名稱為CLE Cavaliers\n",
      "Detroit Pistons更換名稱為DET Pistons\n",
      "1.90 1.90 200.5\n",
      "2021-11-13 08:00:00\n",
      "Houston Rockets更換名稱為HOU Rockets\n",
      "Portland Trail Blazers更換名稱為POR Trail Blazers\n",
      "1.90 1.90 223.0\n",
      "2021-11-13 08:00:00\n",
      "Memphis Grizzlies更換名稱為MEM Grizzlies\n",
      "Phoenix Suns更換名稱為PHX Suns\n",
      "1.90 1.90 222.5\n",
      "2021-11-13 08:00:00\n",
      "New Orleans Pelicans更換名稱為NO Pelicans\n",
      "Brooklyn Nets更換名稱為BKN Nets\n",
      "1.90 1.90 214.5\n",
      "2021-11-13 08:00:00\n",
      "Oklahoma City Thunder更換名稱為OKC Thunder\n",
      "Sacramento Kings更換名稱為SAC Kings\n",
      "1.90 1.90 219.0\n",
      "2021-11-13 08:30:00\n",
      "San Antonio Spurs更換名稱為SA Spurs\n",
      "Dallas Mavericks更換名稱為DAL Mavericks\n",
      "1.90 1.90 219.5\n",
      "2021-11-13 09:00:00\n",
      "Denver Nuggets更換名稱為DEN Nuggets\n",
      "Atlanta Hawks更換名稱為ATL Hawks\n",
      "1.90 1.90 214.5\n",
      "2021-11-13 10:00:00\n",
      "Golden State Warriors更換名稱為GS Warriors\n",
      "Chicago Bulls更換名稱為CHI Bulls\n",
      "1.90 1.90 222.5\n",
      "2021-11-13 10:30:00\n",
      "Los Angeles Lakers更換名稱為LA Lakers\n",
      "Minnesota Timberwolves更換名稱為MIN Timberwolves\n",
      "1.90 1.90 223.5\n",
      "2021-11-14 05:00:00\n",
      "Utah Jazz更換名稱為UTA Jazz\n",
      "Miami Heat更換名稱為MIA Heat\n",
      "1.90 1.90 213.5\n",
      "2021-11-14 07:00:00\n",
      "Indiana Pacers更換名稱為IND Pacers\n",
      "Philadelphia 76ers更換名稱為PHI 76ers\n",
      "1.90 1.90 213.5\n",
      "2021-11-14 07:00:00\n",
      "New Orleans Pelicans更換名稱為NO Pelicans\n",
      "Memphis Grizzlies更換名稱為MEM Grizzlies\n",
      "1.90 1.90 219.0\n",
      "2021-11-14 07:00:00\n",
      "Orlando Magic更換名稱為ORL Magic\n",
      "Washington Wizards更換名稱為WAS Wizards\n",
      "1.90 1.90 203.5\n",
      "2021-11-14 07:30:00\n",
      "Toronto Raptors更換名稱為TOR Raptors\n",
      "Detroit Pistons更換名稱為DET Pistons\n",
      "1.90 1.90 200.5\n",
      "2021-11-14 08:00:00\n",
      "Cleveland Cavaliers更換名稱為CLE Cavaliers\n",
      "Boston Celtics更換名稱為BOS Celtics\n",
      "1.90 1.90 201.0\n",
      "2021-11-14 10:30:00\n",
      "Los Angeles Clippers更換名稱為LA Clippers\n",
      "Minnesota Timberwolves更換名稱為MIN Timberwolves\n",
      "1.90 1.90 220.5\n",
      "2021-11-15 03:30:00\n",
      "Los Angeles Lakers更換名稱為LA Lakers\n",
      "San Antonio Spurs更換名稱為SA Spurs\n",
      "1.90 1.90 219.5\n",
      "2021-11-15 06:00:00\n",
      "Atlanta Hawks更換名稱為ATL Hawks\n",
      "Milwaukee Bucks更換名稱為MIL Bucks\n",
      "1.90 1.90 221.0\n",
      "2021-11-15 07:00:00\n",
      "Charlotte Hornets更換名稱為CHA Hornets\n",
      "Golden State Warriors更換名稱為GS Warriors\n",
      "1.90 1.90 227.5\n",
      "2021-11-15 07:00:00\n",
      "Houston Rockets更換名稱為HOU Rockets\n",
      "Phoenix Suns更換名稱為PHX Suns\n",
      "1.90 1.90 221.0\n",
      "2021-11-15 07:00:00\n",
      "Oklahoma City Thunder更換名稱為OKC Thunder\n",
      "Brooklyn Nets更換名稱為BKN Nets\n",
      "1.90 1.90 215.5\n",
      "2021-11-15 08:00:00\n",
      "Denver Nuggets更換名稱為DEN Nuggets\n",
      "Portland Trail Blazers更換名稱為POR Trail Blazers\n",
      "1.90 1.90 208.0\n",
      "2021-11-15 09:30:00\n",
      "Los Angeles Clippers更換名稱為LA Clippers\n",
      "Chicago Bulls更換名稱為CHI Bulls\n",
      "1.90 1.90 218.0\n",
      "2021-11-16 07:00:00\n",
      "Cleveland Cavaliers更換名稱為CLE Cavaliers\n",
      "Boston Celtics更換名稱為BOS Celtics\n",
      "1.90 1.90 199.0\n",
      "2021-11-16 07:00:00\n",
      "Detroit Pistons更換名稱為DET Pistons\n",
      "Sacramento Kings更換名稱為SAC Kings\n",
      "1.90 1.90 214.0\n",
      "2021-11-16 07:00:00\n",
      "Washington Wizards更換名稱為WAS Wizards\n",
      "New Orleans Pelicans更換名稱為NO Pelicans\n",
      "1.90 1.90 208.0\n",
      "2021-11-16 07:30:00\n",
      "Atlanta Hawks更換名稱為ATL Hawks\n",
      "Orlando Magic更換名稱為ORL Magic\n",
      "1.90 1.90 214.5\n",
      "2021-11-16 07:30:00\n",
      "New York Knicks更換名稱為NY Knicks\n",
      "Indiana Pacers更換名稱為IND Pacers\n",
      "1.90 1.90 212.0\n",
      "2021-11-16 08:00:00\n",
      "Dallas Mavericks更換名稱為DAL Mavericks\n",
      "Denver Nuggets更換名稱為DEN Nuggets\n",
      "1.90 1.90 209.0\n",
      "2021-11-16 08:00:00\n",
      "Memphis Grizzlies更換名稱為MEM Grizzlies\n",
      "Houston Rockets更換名稱為HOU Rockets\n",
      "1.90 1.90 219.0\n",
      "2021-11-16 08:00:00\n",
      "Minnesota Timberwolves更換名稱為MIN Timberwolves\n",
      "Phoenix Suns更換名稱為PHX Suns\n",
      "1.90 1.90 222.5\n",
      "2021-11-16 08:00:00\n",
      "Oklahoma City Thunder更換名稱為OKC Thunder\n",
      "Miami Heat更換名稱為MIA Heat\n",
      "1.90 1.90 207.0\n",
      "2021-11-16 10:00:00\n",
      "Portland Trail Blazers更換名稱為POR Trail Blazers\n",
      "Toronto Raptors更換名稱為TOR Raptors\n",
      "1.90 1.90 212.0\n",
      "2021-11-16 10:30:00\n",
      "Los Angeles Lakers更換名稱為LA Lakers\n",
      "Chicago Bulls更換名稱為CHI Bulls\n",
      "1.90 1.90 217.0\n",
      "2021-11-17 07:30:00\n",
      "Brooklyn Nets更換名稱為BKN Nets\n",
      "Golden State Warriors更換名稱為GS Warriors\n",
      "1.90 1.90 222.0\n",
      "2021-11-17 10:00:00\n",
      "Utah Jazz更換名稱為UTA Jazz\n",
      "Philadelphia 76ers更換名稱為PHI 76ers\n",
      "1.90 1.90 216.5\n",
      "2021-11-17 10:30:00\n",
      "Los Angeles Clippers更換名稱為LA Clippers\n",
      "San Antonio Spurs更換名稱為SA Spurs\n",
      "1.90 1.90 221.0\n",
      "2021-11-18 07:00:00\n",
      "Charlotte Hornets更換名稱為CHA Hornets\n",
      "Washington Wizards更換名稱為WAS Wizards\n",
      "1.90 1.90 220.5\n",
      "2021-11-18 07:00:00\n",
      "Detroit Pistons更換名稱為DET Pistons\n",
      "Indiana Pacers更換名稱為IND Pacers\n",
      "1.90 1.90 206.0\n",
      "2021-11-18 07:30:00\n",
      "Atlanta Hawks更換名稱為ATL Hawks\n",
      "Boston Celtics更換名稱為BOS Celtics\n",
      "1.90 1.90 216.0\n",
      "2021-11-18 07:30:00\n",
      "Brooklyn Nets更換名稱為BKN Nets\n",
      "Cleveland Cavaliers更換名稱為CLE Cavaliers\n",
      "1.90 1.90 206.5\n",
      "2021-11-18 07:30:00\n",
      "Miami Heat更換名稱為MIA Heat\n",
      "New Orleans Pelicans更換名稱為NO Pelicans\n",
      "1.90 1.90 210.5\n",
      "2021-11-18 07:30:00\n",
      "Milwaukee Bucks更換名稱為MIL Bucks\n",
      "Los Angeles Lakers更換名稱為LA Lakers\n",
      "1.90 1.90 222.5\n",
      "2021-11-18 07:30:00\n",
      "New York Knicks更換名稱為NY Knicks\n",
      "Orlando Magic更換名稱為ORL Magic\n",
      "1.90 1.90 207.0\n",
      "2021-11-18 08:00:00\n",
      "Minnesota Timberwolves更換名稱為MIN Timberwolves\n",
      "Sacramento Kings更換名稱為SAC Kings\n",
      "1.90 1.90 227.0\n",
      "2021-11-18 08:00:00\n",
      "Oklahoma City Thunder更換名稱為OKC Thunder\n",
      "Houston Rockets更換名稱為HOU Rockets\n",
      "1.90 1.90 213.5\n",
      "2021-11-18 10:00:00\n",
      "Phoenix Suns更換名稱為PHX Suns\n",
      "Dallas Mavericks更換名稱為DAL Mavericks\n",
      "1.90 1.90 212.5\n",
      "2021-11-18 10:00:00\n",
      "Portland Trail Blazers更換名稱為POR Trail Blazers\n",
      "Chicago Bulls更換名稱為CHI Bulls\n",
      "1.90 1.90 219.5\n",
      "2021-11-19 07:30:00\n",
      "Cleveland Cavaliers更換名稱為CLE Cavaliers\n",
      "Golden State Warriors更換名稱為GS Warriors\n",
      "1.90 1.90 209.0\n",
      "2021-11-19 07:30:00\n",
      "Miami Heat更換名稱為MIA Heat\n",
      "Washington Wizards更換名稱為WAS Wizards\n",
      "1.90 1.90 206.0\n",
      "2021-11-19 08:00:00\n",
      "Memphis Grizzlies更換名稱為MEM Grizzlies\n",
      "Los Angeles Clippers更換名稱為LA Clippers\n",
      "1.90 1.90 221.0\n",
      "2021-11-19 08:00:00\n",
      "Minnesota Timberwolves更換名稱為MIN Timberwolves\n",
      "San Antonio Spurs更換名稱為SA Spurs\n",
      "1.90 1.90 219.5\n",
      "2021-11-19 09:00:00\n",
      "Denver Nuggets更換名稱為DEN Nuggets\n",
      "Philadelphia 76ers更換名稱為PHI 76ers\n",
      "1.90 1.90 209.5\n",
      "2021-11-19 09:00:00\n",
      "Utah Jazz更換名稱為UTA Jazz\n",
      "Toronto Raptors更換名稱為TOR Raptors\n",
      "1.90 1.90 215.0\n",
      "2021-11-20 07:00:00\n",
      "Charlotte Hornets更換名稱為CHA Hornets\n",
      "Indiana Pacers更換名稱為IND Pacers\n",
      "1.90 1.90 216.0\n",
      "2021-11-20 07:00:00\n",
      "Detroit Pistons更換名稱為DET Pistons\n",
      "Golden State Warriors更換名稱為GS Warriors\n",
      "1.90 1.90 201.5\n",
      "2021-11-20 07:30:00\n",
      "Boston Celtics更換名稱為BOS Celtics\n",
      "Los Angeles Lakers更換名稱為LA Lakers\n",
      "1.90 1.90 214.5\n",
      "2021-11-20 07:30:00\n",
      "Brooklyn Nets更換名稱為BKN Nets\n",
      "Orlando Magic更換名稱為ORL Magic\n",
      "1.90 1.90 209.5\n",
      "2021-11-20 08:00:00\n",
      "Milwaukee Bucks更換名稱為MIL Bucks\n",
      "Oklahoma City Thunder更換名稱為OKC Thunder\n",
      "1.90 1.90 215.5\n",
      "2021-11-20 08:00:00\n",
      "New Orleans Pelicans更換名稱為NO Pelicans\n",
      "Los Angeles Clippers更換名稱為LA Clippers\n",
      "1.90 1.90 214.0\n",
      "2021-11-20 09:00:00\n",
      "Denver Nuggets更換名稱為DEN Nuggets\n",
      "Chicago Bulls更換名稱為CHI Bulls\n",
      "1.90 1.90 208.5\n",
      "2021-11-20 10:00:00\n",
      "Phoenix Suns更換名稱為PHX Suns\n",
      "Dallas Mavericks更換名稱為DAL Mavericks\n",
      "1.90 1.90 210.5\n",
      "2021-11-20 10:00:00\n",
      "Sacramento Kings更換名稱為SAC Kings\n",
      "Toronto Raptors更換名稱為TOR Raptors\n",
      "1.90 1.90 220.5\n",
      "2021-11-21 05:00:00\n",
      "New York Knicks更換名稱為NY Knicks\n",
      "Houston Rockets更換名稱為HOU Rockets\n",
      "1.90 1.90 211.5\n",
      "2021-11-21 07:00:00\n",
      "Indiana Pacers更換名稱為IND Pacers\n",
      "New Orleans Pelicans更換名稱為NO Pelicans\n",
      "1.90 1.90 207.0\n",
      "2021-11-21 07:00:00\n",
      "Washington Wizards更換名稱為WAS Wizards\n",
      "Miami Heat更換名稱為MIA Heat\n",
      "1.90 1.90 207.0\n",
      "2021-11-21 07:30:00\n",
      "Atlanta Hawks更換名稱為ATL Hawks\n",
      "Charlotte Hornets更換名稱為CHA Hornets\n",
      "1.90 1.90 226.5\n",
      "2021-11-21 07:30:00\n",
      "Boston Celtics更換名稱為BOS Celtics\n",
      "Oklahoma City Thunder更換名稱為OKC Thunder\n",
      "1.90 1.90 205.0\n",
      "2021-11-21 08:00:00\n",
      "Milwaukee Bucks更換名稱為MIL Bucks\n",
      "Orlando Magic更換名稱為ORL Magic\n",
      "1.90 1.90 214.5\n",
      "2021-11-21 08:00:00\n",
      "Minnesota Timberwolves更換名稱為MIN Timberwolves\n",
      "Memphis Grizzlies更換名稱為MEM Grizzlies\n",
      "1.90 1.90 221.0\n",
      "2021-11-21 10:00:00\n",
      "Portland Trail Blazers更換名稱為POR Trail Blazers\n",
      "Philadelphia 76ers更換名稱為PHI 76ers\n",
      "1.90 1.90 217.0\n",
      "2021-11-21 10:00:00\n",
      "Sacramento Kings更換名稱為SAC Kings\n",
      "Utah Jazz更換名稱為UTA Jazz\n",
      "1.90 1.90 221.0\n",
      "2021-11-22 03:30:00\n",
      "Los Angeles Clippers更換名稱為LA Clippers\n",
      "Dallas Mavericks更換名稱為DAL Mavericks\n",
      "1.90 1.90 212.0\n",
      "2021-11-22 06:00:00\n",
      "Detroit Pistons更換名稱為DET Pistons\n",
      "Los Angeles Lakers更換名稱為LA Lakers\n",
      "1.90 1.90 211.5\n",
      "2021-11-22 08:00:00\n",
      "Chicago Bulls更換名稱為CHI Bulls\n",
      "New York Knicks更換名稱為NY Knicks\n",
      "1.90 1.90 210.0\n",
      "2021-11-22 08:00:00\n",
      "Phoenix Suns更換名稱為PHX Suns\n",
      "Denver Nuggets更換名稱為DEN Nuggets\n",
      "1.90 1.90 209.5\n",
      "2021-11-22 08:30:00\n",
      "Golden State Warriors更換名稱為GS Warriors\n",
      "Toronto Raptors更換名稱為TOR Raptors\n",
      "1.90 1.90 216.5\n",
      "2021-11-23 07:00:00\n",
      "Cleveland Cavaliers更換名稱為CLE Cavaliers\n",
      "Brooklyn Nets更換名稱為BKN Nets\n",
      "1.90 1.90 208.5\n",
      "2021-11-23 07:00:00\n",
      "Washington Wizards更換名稱為WAS Wizards\n",
      "Charlotte Hornets更換名稱為CHA Hornets\n",
      "1.90 1.90 216.0\n",
      "2021-11-23 07:30:00\n",
      "Atlanta Hawks更換名稱為ATL Hawks\n",
      "Oklahoma City Thunder更換名稱為OKC Thunder\n",
      "1.90 1.90 211.0\n",
      "2021-11-23 07:30:00\n",
      "Boston Celtics更換名稱為BOS Celtics\n",
      "Houston Rockets更換名稱為HOU Rockets\n",
      "1.90 1.90 213.5\n",
      "2021-11-23 08:00:00\n",
      "Chicago Bulls更換名稱為CHI Bulls\n",
      "Indiana Pacers更換名稱為IND Pacers\n",
      "1.90 1.90 214.0\n",
      "2021-11-23 08:00:00\n",
      "Milwaukee Bucks更換名稱為MIL Bucks\n",
      "Orlando Magic更換名稱為ORL Magic\n",
      "1.90 1.90 218.5\n",
      "2021-11-23 08:00:00\n",
      "New Orleans Pelicans更換名稱為NO Pelicans\n",
      "Minnesota Timberwolves更換名稱為MIN Timberwolves\n",
      "1.90 1.90 214.0\n",
      "2021-11-23 08:30:00\n",
      "San Antonio Spurs更換名稱為SA Spurs\n",
      "Phoenix Suns更換名稱為PHX Suns\n",
      "1.90 1.90 219.5\n",
      "2021-11-23 09:00:00\n",
      "Utah Jazz更換名稱為UTA Jazz\n",
      "Memphis Grizzlies更換名稱為MEM Grizzlies\n",
      "1.90 1.90 221.5\n",
      "2021-11-23 10:00:00\n",
      "Sacramento Kings更換名稱為SAC Kings\n",
      "Philadelphia 76ers更換名稱為PHI 76ers\n",
      "1.90 1.90 221.0\n",
      "2021-11-24 07:00:00\n",
      "Detroit Pistons更換名稱為DET Pistons\n",
      "Miami Heat更換名稱為MIA Heat\n",
      "1.90 1.90 208.5\n",
      "2021-11-24 07:30:00\n",
      "New York Knicks更換名稱為NY Knicks\n",
      "Los Angeles Lakers更換名稱為LA Lakers\n",
      "1.90 1.90 214.0\n",
      "2021-11-24 10:00:00\n",
      "Portland Trail Blazers更換名稱為POR Trail Blazers\n",
      "Denver Nuggets更換名稱為DEN Nuggets\n",
      "1.90 1.90 214.5\n",
      "2021-11-24 10:30:00\n",
      "Los Angeles Clippers更換名稱為LA Clippers\n",
      "Dallas Mavericks更換名稱為DAL Mavericks\n",
      "1.90 1.90 210.5\n",
      "2021-11-25 07:00:00\n",
      "Cleveland Cavaliers更換名稱為CLE Cavaliers\n",
      "Phoenix Suns更換名稱為PHX Suns\n",
      "1.90 1.90 211.5\n",
      "2021-11-25 07:00:00\n",
      "Indiana Pacers更換名稱為IND Pacers\n",
      "Los Angeles Lakers更換名稱為LA Lakers\n",
      "1.90 1.90 217.0\n",
      "2021-11-25 07:00:00\n",
      "Orlando Magic更換名稱為ORL Magic\n",
      "Charlotte Hornets更換名稱為CHA Hornets\n",
      "1.90 1.90 219.5\n",
      "2021-11-25 07:30:00\n",
      "Boston Celtics更換名稱為BOS Celtics\n",
      "Brooklyn Nets更換名稱為BKN Nets\n",
      "1.90 1.90 216.0\n",
      "2021-11-25 08:00:00\n",
      "Houston Rockets更換名稱為HOU Rockets\n",
      "Chicago Bulls更換名稱為CHI Bulls\n",
      "1.90 1.90 217.0\n",
      "2021-11-25 08:00:00\n",
      "Memphis Grizzlies更換名稱為MEM Grizzlies\n",
      "Toronto Raptors更換名稱為TOR Raptors\n",
      "1.90 1.90 217.5\n",
      "2021-11-25 08:00:00\n",
      "Milwaukee Bucks更換名稱為MIL Bucks\n",
      "Detroit Pistons更換名稱為DET Pistons\n",
      "1.90 1.90 213.0\n",
      "2021-11-25 08:00:00\n",
      "Minnesota Timberwolves更換名稱為MIN Timberwolves\n",
      "Miami Heat更換名稱為MIA Heat\n",
      "1.90 1.90 212.5\n",
      "2021-11-25 08:00:00\n",
      "New Orleans Pelicans更換名稱為NO Pelicans\n",
      "Washington Wizards更換名稱為WAS Wizards\n",
      "1.90 1.90 210.5\n",
      "2021-11-25 08:00:00\n",
      "Oklahoma City Thunder更換名稱為OKC Thunder\n",
      "Utah Jazz更換名稱為UTA Jazz\n",
      "1.90 1.90 207.5\n",
      "2021-11-25 08:30:00\n",
      "San Antonio Spurs更換名稱為SA Spurs\n",
      "Atlanta Hawks更換名稱為ATL Hawks\n",
      "1.90 1.90 223.5\n",
      "2021-11-25 10:00:00\n",
      "Golden State Warriors更換名稱為GS Warriors\n",
      "Philadelphia 76ers更換名稱為PHI 76ers\n",
      "1.90 1.90 217.0\n",
      "2021-11-25 10:00:00\n",
      "Sacramento Kings更換名稱為SAC Kings\n",
      "Portland Trail Blazers更換名稱為POR Trail Blazers\n",
      "1.90 1.90 225.0\n",
      "2021-11-27 03:30:00\n",
      "Los Angeles Clippers更換名稱為LA Clippers\n",
      "Detroit Pistons更換名稱為DET Pistons\n",
      "1.90 1.90 206.5\n",
      "2021-11-27 07:00:00\n",
      "Charlotte Hornets更換名稱為CHA Hornets\n",
      "Minnesota Timberwolves更換名稱為MIN Timberwolves\n",
      "1.90 1.90 226.0\n",
      "2021-11-27 07:00:00\n",
      "New York Knicks更換名稱為NY Knicks\n",
      "Phoenix Suns更換名稱為PHX Suns\n",
      "1.90 1.90 214.5\n",
      "2021-11-27 07:00:00\n",
      "Orlando Magic更換名稱為ORL Magic\n",
      "Chicago Bulls更換名稱為CHI Bulls\n",
      "1.90 1.90 212.5\n",
      "2021-11-27 08:00:00\n",
      "Indiana Pacers更換名稱為IND Pacers\n",
      "Toronto Raptors更換名稱為TOR Raptors\n",
      "1.90 1.90 209.5\n",
      "2021-11-27 08:00:00\n",
      "Memphis Grizzlies更換名稱為MEM Grizzlies\n",
      "Atlanta Hawks更換名稱為ATL Hawks\n",
      "1.90 1.90 226.5\n",
      "2021-11-27 08:00:00\n",
      "Oklahoma City Thunder更換名稱為OKC Thunder\n",
      "Washington Wizards更換名稱為WAS Wizards\n",
      "1.90 1.90 206.5\n",
      "2021-11-27 08:30:00\n",
      "San Antonio Spurs更換名稱為SA Spurs\n",
      "Boston Celtics更換名稱為BOS Celtics\n",
      "1.90 1.90 213.5\n",
      "2021-11-27 09:00:00\n",
      "Denver Nuggets更換名稱為DEN Nuggets\n",
      "Milwaukee Bucks更換名稱為MIL Bucks\n",
      "1.90 1.90 214.0\n",
      "2021-11-27 09:00:00\n",
      "Utah Jazz更換名稱為UTA Jazz\n",
      "New Orleans Pelicans更換名稱為NO Pelicans\n",
      "1.90 1.90 218.0\n",
      "2021-11-27 10:00:00\n",
      "Golden State Warriors更換名稱為GS Warriors\n",
      "Portland Trail Blazers更換名稱為POR Trail Blazers\n",
      "1.90 1.90 225.0\n",
      "2021-11-27 10:30:00\n",
      "Los Angeles Lakers更換名稱為LA Lakers\n",
      "Sacramento Kings更換名稱為SAC Kings\n",
      "1.90 1.90 229.5\n",
      "2021-11-28 06:00:00\n",
      "Philadelphia 76ers更換名稱為PHI 76ers\n",
      "Minnesota Timberwolves更換名稱為MIN Timberwolves\n",
      "1.90 1.90 216.0\n",
      "2021-11-28 07:30:00\n",
      "Atlanta Hawks更換名稱為ATL Hawks\n",
      "New York Knicks更換名稱為NY Knicks\n",
      "1.90 1.90 215.5\n",
      "2021-11-28 07:30:00\n",
      "Brooklyn Nets更換名稱為BKN Nets\n",
      "Phoenix Suns更換名稱為PHX Suns\n",
      "1.90 1.90 225.5\n",
      "2021-11-28 08:00:00\n",
      "Chicago Bulls更換名稱為CHI Bulls\n",
      "Miami Heat更換名稱為MIA Heat\n",
      "1.90 1.90 210.5\n",
      "2021-11-28 08:00:00\n",
      "Cleveland Cavaliers更換名稱為CLE Cavaliers\n",
      "Orlando Magic更換名稱為ORL Magic\n",
      "1.90 1.90 205.5\n",
      "2021-11-28 08:00:00\n",
      "Houston Rockets更換名稱為HOU Rockets\n",
      "Charlotte Hornets更換名稱為CHA Hornets\n",
      "1.90 1.90 226.5\n",
      "2021-11-28 08:30:00\n",
      "Dallas Mavericks更換名稱為DAL Mavericks\n",
      "Washington Wizards更換名稱為WAS Wizards\n",
      "1.90 1.90 212.5\n",
      "2021-11-28 09:00:00\n",
      "Utah Jazz更換名稱為UTA Jazz\n",
      "New Orleans Pelicans更換名稱為NO Pelicans\n",
      "1.90 1.90 213.5\n",
      "2021-11-29 03:30:00\n",
      "Los Angeles Clippers更換名稱為LA Clippers\n",
      "Golden State Warriors更換名稱為GS Warriors\n",
      "1.90 1.90 215.5\n",
      "2021-11-29 05:00:00\n",
      "Indiana Pacers更換名稱為IND Pacers\n",
      "Milwaukee Bucks更換名稱為MIL Bucks\n",
      "1.90 1.90 217.5\n",
      "2021-11-29 06:00:00\n",
      "Memphis Grizzlies更換名稱為MEM Grizzlies\n",
      "Sacramento Kings更換名稱為SAC Kings\n",
      "1.90 1.90 224.5\n",
      "2021-11-29 06:00:00\n",
      "Toronto Raptors更換名稱為TOR Raptors\n",
      "Boston Celtics更換名稱為BOS Celtics\n",
      "1.90 1.90 209.5\n",
      "2021-11-29 09:30:00\n",
      "Los Angeles Lakers更換名稱為LA Lakers\n",
      "Detroit Pistons更換名稱為DET Pistons\n",
      "1.90 1.90 216.5\n",
      "2021-11-30 07:00:00\n",
      "Philadelphia 76ers更換名稱為PHI 76ers\n",
      "Orlando Magic更換名稱為ORL Magic\n",
      "1.90 1.90 205.5\n",
      "2021-11-30 07:30:00\n",
      "Miami Heat更換名稱為MIA Heat\n",
      "Denver Nuggets更換名稱為DEN Nuggets\n",
      "1.90 1.90 207.0\n",
      "2021-11-30 08:00:00\n",
      "Chicago Bulls更換名稱為CHI Bulls\n",
      "Charlotte Hornets更換名稱為CHA Hornets\n",
      "1.90 1.90 223.0\n",
      "2021-11-30 08:00:00\n",
      "Houston Rockets更換名稱為HOU Rockets\n",
      "Oklahoma City Thunder更換名稱為OKC Thunder\n",
      "1.90 1.90 217.0\n",
      "2021-11-30 08:00:00\n",
      "Minnesota Timberwolves更換名稱為MIN Timberwolves\n",
      "Indiana Pacers更換名稱為IND Pacers\n",
      "1.90 1.90 218.0\n",
      "2021-11-30 08:30:00\n",
      "Dallas Mavericks更換名稱為DAL Mavericks\n",
      "Cleveland Cavaliers更換名稱為CLE Cavaliers\n",
      "1.90 1.90 210.5\n",
      "2021-11-30 08:30:00\n",
      "San Antonio Spurs更換名稱為SA Spurs\n",
      "Washington Wizards更換名稱為WAS Wizards\n",
      "1.90 1.90 215.0\n",
      "2021-11-30 09:00:00\n",
      "Utah Jazz更換名稱為UTA Jazz\n",
      "Portland Trail Blazers更換名稱為POR Trail Blazers\n",
      "1.90 1.90 223.0\n",
      "2021-11-30 10:30:00\n",
      "Los Angeles Clippers更換名稱為LA Clippers\n",
      "New Orleans Pelicans更換名稱為NO Pelicans\n",
      "1.90 1.90 211.0\n",
      "2021-12-01 07:30:00\n",
      "Brooklyn Nets更換名稱為BKN Nets\n",
      "New York Knicks更換名稱為NY Knicks\n",
      "1.90 1.90 216.0\n",
      "2021-12-01 07:30:00\n",
      "Toronto Raptors更換名稱為TOR Raptors\n",
      "Memphis Grizzlies更換名稱為MEM Grizzlies\n",
      "0 0 0\n",
      "2021-12-01 10:00:00\n",
      "Phoenix Suns更換名稱為PHX Suns\n",
      "Golden State Warriors更換名稱為GS Warriors\n",
      "1.90 1.90 221.5\n",
      "2021-12-01 10:00:00\n",
      "Portland Trail Blazers更換名稱為POR Trail Blazers\n",
      "Detroit Pistons更換名稱為DET Pistons\n",
      "1.90 1.90 210.0\n",
      "2021-12-01 10:00:00\n",
      "Sacramento Kings更換名稱為SAC Kings\n",
      "Los Angeles Lakers更換名稱為LA Lakers\n",
      "1.90 1.90 227.5\n",
      "2021-12-02 07:00:00\n",
      "Indiana Pacers更換名稱為IND Pacers\n",
      "Atlanta Hawks更換名稱為ATL Hawks\n",
      "1.90 1.90 217.5\n",
      "2021-12-02 07:00:00\n",
      "Orlando Magic更換名稱為ORL Magic\n",
      "Denver Nuggets更換名稱為DEN Nuggets\n",
      "1.90 1.90 207.5\n",
      "2021-12-02 07:00:00\n",
      "Washington Wizards更換名稱為WAS Wizards\n",
      "Minnesota Timberwolves更換名稱為MIN Timberwolves\n",
      "1.90 1.90 217.5\n",
      "2021-12-02 07:30:00\n",
      "Boston Celtics更換名稱為BOS Celtics\n",
      "Philadelphia 76ers更換名稱為PHI 76ers\n",
      "1.90 1.90 206.0\n",
      "2021-12-02 07:30:00\n",
      "Miami Heat更換名稱為MIA Heat\n",
      "Cleveland Cavaliers更換名稱為CLE Cavaliers\n",
      "1.90 1.90 206.0\n",
      "2021-12-02 08:00:00\n",
      "Milwaukee Bucks更換名稱為MIL Bucks\n",
      "Charlotte Hornets更換名稱為CHA Hornets\n",
      "1.90 1.90 231.0\n",
      "2021-12-02 08:00:00\n",
      "New Orleans Pelicans更換名稱為NO Pelicans\n",
      "Dallas Mavericks更換名稱為DAL Mavericks\n",
      "1.90 1.90 216.5\n",
      "2021-12-02 08:00:00\n",
      "Oklahoma City Thunder更換名稱為OKC Thunder\n",
      "Houston Rockets更換名稱為HOU Rockets\n",
      "1.90 1.90 216.5\n",
      "2021-12-02 10:30:00\n",
      "Los Angeles Clippers更換名稱為LA Clippers\n",
      "Sacramento Kings更換名稱為SAC Kings\n",
      "1.90 1.90 215.0\n",
      "2021-12-03 07:30:00\n",
      "New York Knicks更換名稱為NY Knicks\n",
      "Chicago Bulls更換名稱為CHI Bulls\n",
      "1.90 1.90 210.0\n",
      "2021-12-03 07:30:00\n",
      "Toronto Raptors更換名稱為TOR Raptors\n",
      "Milwaukee Bucks更換名稱為MIL Bucks\n",
      "1.90 1.90 217.5\n",
      "2021-12-03 08:00:00\n",
      "Memphis Grizzlies更換名稱為MEM Grizzlies\n",
      "Oklahoma City Thunder更換名稱為OKC Thunder\n",
      "1.90 1.90 210.0\n",
      "2021-12-03 09:00:00\n",
      "Phoenix Suns更換名稱為PHX Suns\n",
      "Detroit Pistons更換名稱為DET Pistons\n",
      "1.90 1.90 207.5\n",
      "2021-12-03 10:00:00\n",
      "Portland Trail Blazers更換名稱為POR Trail Blazers\n",
      "San Antonio Spurs更換名稱為SA Spurs\n",
      "1.90 1.90 216.0\n",
      "2021-12-04 07:00:00\n",
      "Indiana Pacers更換名稱為IND Pacers\n",
      "Miami Heat更換名稱為MIA Heat\n",
      "1.90 1.90 206.0\n",
      "2021-12-04 07:00:00\n",
      "Washington Wizards更換名稱為WAS Wizards\n",
      "Cleveland Cavaliers更換名稱為CLE Cavaliers\n",
      "1.90 1.90 208.5\n",
      "2021-12-04 07:30:00\n",
      "Atlanta Hawks更換名稱為ATL Hawks\n",
      "Philadelphia 76ers更換名稱為PHI 76ers\n",
      "1.90 1.90 216.0\n",
      "2021-12-04 07:30:00\n",
      "Brooklyn Nets更換名稱為BKN Nets\n",
      "Minnesota Timberwolves更換名稱為MIN Timberwolves\n",
      "1.90 1.90 222.0\n",
      "2021-12-04 08:00:00\n",
      "Houston Rockets更換名稱為HOU Rockets\n",
      "Orlando Magic更換名稱為ORL Magic\n",
      "1.90 1.90 216.5\n",
      "2021-12-04 08:30:00\n",
      "Dallas Mavericks更換名稱為DAL Mavericks\n",
      "New Orleans Pelicans更換名稱為NO Pelicans\n",
      "1.90 1.90 216.0\n",
      "2021-12-04 09:00:00\n",
      "Utah Jazz更換名稱為UTA Jazz\n",
      "Boston Celtics更換名稱為BOS Celtics\n",
      "1.90 1.90 210.0\n",
      "2021-12-04 10:00:00\n",
      "Golden State Warriors更換名稱為GS Warriors\n",
      "Phoenix Suns更換名稱為PHX Suns\n",
      "1.90 1.90 215.5\n",
      "2021-12-04 10:00:00\n",
      "Los Angeles Lakers更換名稱為LA Lakers\n",
      "Los Angeles Clippers更換名稱為LA Clippers\n",
      "1.90 1.90 218.0\n",
      "2021-12-05 01:00:00\n",
      "New York Knicks更換名稱為NY Knicks\n",
      "Denver Nuggets更換名稱為DEN Nuggets\n",
      "1.90 1.90 210.5\n",
      "2021-12-05 08:00:00\n",
      "Brooklyn Nets更換名稱為BKN Nets\n",
      "Chicago Bulls更換名稱為CHI Bulls\n",
      "1.90 1.90 222.0\n",
      "2021-12-05 08:00:00\n",
      "Milwaukee Bucks更換名稱為MIL Bucks\n",
      "Miami Heat更換名稱為MIA Heat\n",
      "1.90 1.90 211.0\n",
      "2021-12-05 08:30:00\n",
      "Dallas Mavericks更換名稱為DAL Mavericks\n",
      "Memphis Grizzlies更換名稱為MEM Grizzlies\n",
      "1.90 1.90 215.5\n",
      "2021-12-05 08:30:00\n",
      "Golden State Warriors更換名稱為GS Warriors\n",
      "San Antonio Spurs更換名稱為SA Spurs\n",
      "1.90 1.90 219.0\n",
      "2021-12-05 10:00:00\n",
      "Portland Trail Blazers更換名稱為POR Trail Blazers\n",
      "Boston Celtics更換名稱為BOS Celtics\n",
      "1.90 1.90 211.0\n",
      "2021-12-05 10:00:00\n",
      "Sacramento Kings更換名稱為SAC Kings\n",
      "Los Angeles Clippers更換名稱為LA Clippers\n",
      "1.90 1.90 219.5\n",
      "2021-12-06 03:30:00\n",
      "Cleveland Cavaliers更換名稱為CLE Cavaliers\n",
      "Utah Jazz更換名稱為UTA Jazz\n",
      "1.90 1.90 212.5\n",
      "2021-12-06 06:00:00\n",
      "Atlanta Hawks更換名稱為ATL Hawks\n",
      "Charlotte Hornets更換名稱為CHA Hornets\n",
      "1.90 1.90 220.5\n",
      "2021-12-06 06:00:00\n",
      "Toronto Raptors更換名稱為TOR Raptors\n",
      "Washington Wizards更換名稱為WAS Wizards\n",
      "1.90 1.90 212.0\n",
      "2021-12-06 07:00:00\n",
      "Houston Rockets更換名稱為HOU Rockets\n",
      "New Orleans Pelicans更換名稱為NO Pelicans\n",
      "1.90 1.90 222.0\n",
      "2021-12-07 07:00:00\n",
      "Charlotte Hornets更換名稱為CHA Hornets\n",
      "Philadelphia 76ers更換名稱為PHI 76ers\n",
      "1.90 1.90 214.5\n",
      "2021-12-07 07:00:00\n",
      "Detroit Pistons更換名稱為DET Pistons\n",
      "Oklahoma City Thunder更換名稱為OKC Thunder\n",
      "1.90 1.90 205.5\n",
      "2021-12-07 07:00:00\n",
      "Indiana Pacers更換名稱為IND Pacers\n",
      "Washington Wizards更換名稱為WAS Wizards\n",
      "1.90 1.90 211.5\n",
      "2021-12-07 07:30:00\n",
      "Miami Heat更換名稱為MIA Heat\n",
      "Memphis Grizzlies更換名稱為MEM Grizzlies\n",
      "1.90 1.90 214.0\n",
      "2021-12-07 08:00:00\n",
      "Chicago Bulls更換名稱為CHI Bulls\n",
      "Denver Nuggets更換名稱為DEN Nuggets\n",
      "1.90 1.90 213.5\n",
      "2021-12-07 08:00:00\n",
      "Milwaukee Bucks更換名稱為MIL Bucks\n",
      "Cleveland Cavaliers更換名稱為CLE Cavaliers\n",
      "1.90 1.90 215.0\n",
      "2021-12-07 08:00:00\n",
      "Minnesota Timberwolves更換名稱為MIN Timberwolves\n",
      "Atlanta Hawks更換名稱為ATL Hawks\n",
      "1.90 1.90 223.0\n",
      "2021-12-07 09:00:00\n",
      "Phoenix Suns更換名稱為PHX Suns\n",
      "San Antonio Spurs更換名稱為SA Spurs\n",
      "1.90 1.90 215.5\n",
      "2021-12-07 10:00:00\n",
      "Golden State Warriors更換名稱為GS Warriors\n",
      "Orlando Magic更換名稱為ORL Magic\n",
      "1.90 1.90 217.5\n",
      "2021-12-07 10:00:00\n",
      "Portland Trail Blazers更換名稱為POR Trail Blazers\n",
      "Los Angeles Clippers更換名稱為LA Clippers\n",
      "1.90 1.90 215.5\n",
      "2021-12-08 07:30:00\n",
      "Dallas Mavericks更換名稱為DAL Mavericks\n",
      "Brooklyn Nets更換名稱為BKN Nets\n",
      "1.90 1.90 221.5\n",
      "2021-12-08 08:30:00\n",
      "San Antonio Spurs更換名稱為SA Spurs\n",
      "New York Knicks更換名稱為NY Knicks\n",
      "1.90 1.90 211.0\n",
      "2021-12-08 10:00:00\n",
      "Los Angeles Lakers更換名稱為LA Lakers\n",
      "Boston Celtics更換名稱為BOS Celtics\n",
      "1.90 1.90 219.0\n",
      "2021-12-09 07:00:00\n",
      "Charlotte Hornets更換名稱為CHA Hornets\n",
      "Philadelphia 76ers更換名稱為PHI 76ers\n",
      "1.90 1.90 215.0\n",
      "2021-12-09 07:00:00\n",
      "Cleveland Cavaliers更換名稱為CLE Cavaliers\n",
      "Chicago Bulls更換名稱為CHI Bulls\n",
      "1.90 1.90 212.5\n",
      "2021-12-09 07:00:00\n",
      "Detroit Pistons更換名稱為DET Pistons\n",
      "Washington Wizards更換名稱為WAS Wizards\n",
      "1.90 1.90 210.0\n",
      "2021-12-09 07:00:00\n",
      "Indiana Pacers更換名稱為IND Pacers\n",
      "New York Knicks更換名稱為NY Knicks\n",
      "1.90 1.90 207.5\n",
      "2021-12-09 07:30:00\n",
      "Miami Heat更換名稱為MIA Heat\n",
      "Milwaukee Bucks更換名稱為MIL Bucks\n",
      "1.90 1.90 217.0\n",
      "2021-12-09 07:30:00\n",
      "Toronto Raptors更換名稱為TOR Raptors\n",
      "Oklahoma City Thunder更換名稱為OKC Thunder\n",
      "1.90 1.90 206.5\n",
      "2021-12-09 08:00:00\n",
      "Houston Rockets更換名稱為HOU Rockets\n",
      "Brooklyn Nets更換名稱為BKN Nets\n",
      "1.90 1.90 223.0\n",
      "2021-12-09 08:00:00\n",
      "Memphis Grizzlies更換名稱為MEM Grizzlies\n",
      "Dallas Mavericks更換名稱為DAL Mavericks\n",
      "1.90 1.90 219.0\n",
      "2021-12-09 08:00:00\n",
      "Minnesota Timberwolves更換名稱為MIN Timberwolves\n",
      "Utah Jazz更換名稱為UTA Jazz\n",
      "1.90 1.90 218.0\n",
      "2021-12-09 08:00:00\n",
      "New Orleans Pelicans更換名稱為NO Pelicans\n",
      "Denver Nuggets更換名稱為DEN Nuggets\n",
      "1.90 1.90 212.5\n",
      "2021-12-09 10:00:00\n",
      "Golden State Warriors更換名稱為GS Warriors\n",
      "Portland Trail Blazers更換名稱為POR Trail Blazers\n",
      "1.90 1.90 215.5\n",
      "2021-12-09 10:00:00\n",
      "Sacramento Kings更換名稱為SAC Kings\n",
      "Orlando Magic更換名稱為ORL Magic\n",
      "1.90 1.90 222.5\n",
      "2021-12-09 10:30:00\n",
      "Los Angeles Clippers更換名稱為LA Clippers\n",
      "Boston Celtics更換名稱為BOS Celtics\n",
      "1.90 1.90 209.5\n",
      "2021-12-10 07:00:00\n",
      "Philadelphia 76ers更換名稱為PHI 76ers\n",
      "Utah Jazz更換名稱為UTA Jazz\n",
      "1.90 1.90 217.0\n",
      "2021-12-10 08:00:00\n",
      "Memphis Grizzlies更換名稱為MEM Grizzlies\n",
      "Los Angeles Lakers更換名稱為LA Lakers\n",
      "1.90 1.90 223.5\n",
      "2021-12-10 08:30:00\n",
      "San Antonio Spurs更換名稱為SA Spurs\n",
      "Denver Nuggets更換名稱為DEN Nuggets\n",
      "1.90 1.90 215.5\n",
      "2021-12-11 07:00:00\n",
      "Charlotte Hornets更換名稱為CHA Hornets\n",
      "Sacramento Kings更換名稱為SAC Kings\n",
      "1.90 1.90 231.5\n",
      "2021-12-11 07:00:00\n",
      "Indiana Pacers更換名稱為IND Pacers\n",
      "Dallas Mavericks更換名稱為DAL Mavericks\n",
      "1.90 1.90 213.0\n",
      "2021-12-11 07:30:00\n",
      "Atlanta Hawks更換名稱為ATL Hawks\n",
      "Brooklyn Nets更換名稱為BKN Nets\n",
      "1.90 1.90 227.5\n",
      "2021-12-11 07:30:00\n",
      "Toronto Raptors更換名稱為TOR Raptors\n",
      "New York Knicks更換名稱為NY Knicks\n",
      "1.90 1.90 207.5\n",
      "2021-12-11 08:00:00\n",
      "Houston Rockets更換名稱為HOU Rockets\n",
      "Milwaukee Bucks更換名稱為MIL Bucks\n",
      "1.90 1.90 226.5\n",
      "2021-12-11 08:00:00\n",
      "Minnesota Timberwolves更換名稱為MIN Timberwolves\n",
      "Cleveland Cavaliers更換名稱為CLE Cavaliers\n",
      "1.90 1.90 212.0\n",
      "2021-12-11 08:00:00\n",
      "New Orleans Pelicans更換名稱為NO Pelicans\n",
      "Detroit Pistons更換名稱為DET Pistons\n",
      "1.90 1.90 211.0\n",
      "2021-12-11 08:00:00\n",
      "Oklahoma City Thunder更換名稱為OKC Thunder\n",
      "Los Angeles Lakers更換名稱為LA Lakers\n",
      "1.90 1.90 218.0\n",
      "2021-12-11 10:00:00\n",
      "Phoenix Suns更換名稱為PHX Suns\n",
      "Boston Celtics更換名稱為BOS Celtics\n",
      "1.90 1.90 213.5\n",
      "2021-12-12 03:30:00\n",
      "Los Angeles Clippers更換名稱為LA Clippers\n",
      "Orlando Magic更換名稱為ORL Magic\n",
      "1.90 1.90 211.5\n",
      "2021-12-12 07:00:00\n",
      "Washington Wizards更換名稱為WAS Wizards\n",
      "Utah Jazz更換名稱為UTA Jazz\n",
      "1.90 1.90 220.0\n",
      "2021-12-12 08:00:00\n",
      "Cleveland Cavaliers更換名稱為CLE Cavaliers\n",
      "Sacramento Kings更換名稱為SAC Kings\n",
      "1.90 1.90 223.0\n",
      "2021-12-12 08:00:00\n",
      "Memphis Grizzlies更換名稱為MEM Grizzlies\n",
      "Houston Rockets更換名稱為HOU Rockets\n",
      "1.90 1.90 218.0\n",
      "2021-12-12 08:00:00\n",
      "Miami Heat更換名稱為MIA Heat\n",
      "Chicago Bulls更換名稱為CHI Bulls\n",
      "1.90 1.90 209.0\n",
      "2021-12-12 08:30:00\n",
      "Philadelphia 76ers更換名稱為PHI 76ers\n",
      "Golden State Warriors更換名稱為GS Warriors\n",
      "1.90 1.90 212.5\n",
      "2021-12-12 08:30:00\n",
      "San Antonio Spurs更換名稱為SA Spurs\n",
      "Denver Nuggets更換名稱為DEN Nuggets\n",
      "1.90 1.90 219.0\n",
      "2021-12-13 00:00:00\n",
      "New York Knicks更換名稱為NY Knicks\n",
      "Milwaukee Bucks更換名稱為MIL Bucks\n",
      "1.90 1.90 215.0\n",
      "2021-12-13 06:00:00\n",
      "Detroit Pistons更換名稱為DET Pistons\n",
      "Brooklyn Nets更換名稱為BKN Nets\n",
      "1.90 1.90 213.5\n",
      "2021-12-13 07:00:00\n",
      "Oklahoma City Thunder更換名稱為OKC Thunder\n",
      "Dallas Mavericks更換名稱為DAL Mavericks\n",
      "1.90 1.90 206.5\n",
      "2021-12-13 07:00:00\n",
      "San Antonio Spurs更換名稱為SA Spurs\n",
      "New Orleans Pelicans更換名稱為NO Pelicans\n",
      "1.90 1.90 220.5\n",
      "2021-12-13 09:00:00\n",
      "Portland Trail Blazers更換名稱為POR Trail Blazers\n",
      "Minnesota Timberwolves更換名稱為MIN Timberwolves\n",
      "1.90 1.90 223.0\n",
      "2021-12-13 09:30:00\n",
      "Los Angeles Lakers更換名稱為LA Lakers\n",
      "Orlando Magic更換名稱為ORL Magic\n",
      "1.90 1.90 220.5\n",
      "2021-12-14 07:00:00\n",
      "Cleveland Cavaliers更換名稱為CLE Cavaliers\n",
      "Miami Heat更換名稱為MIA Heat\n",
      "1.90 1.90 208.0\n",
      "2021-12-14 07:00:00\n",
      "Indiana Pacers更換名稱為IND Pacers\n",
      "Golden State Warriors更換名稱為GS Warriors\n",
      "1.90 1.90 213.5\n",
      "2021-12-14 07:00:00\n",
      "Toronto Raptors更換名稱為TOR Raptors\n",
      "Sacramento Kings更換名稱為SAC Kings\n",
      "1.90 1.90 222.0\n",
      "2021-12-14 07:30:00\n",
      "Atlanta Hawks更換名稱為ATL Hawks\n",
      "Houston Rockets更換名稱為HOU Rockets\n",
      "1.90 1.90 227.0\n",
      "2021-12-14 07:30:00\n",
      "Boston Celtics更換名稱為BOS Celtics\n",
      "Milwaukee Bucks更換名稱為MIL Bucks\n",
      "1.90 1.90 222.5\n",
      "2021-12-14 08:00:00\n",
      "Memphis Grizzlies更換名稱為MEM Grizzlies\n",
      "Philadelphia 76ers更換名稱為PHI 76ers\n",
      "1.90 1.90 209.5\n",
      "2021-12-14 08:30:00\n",
      "Dallas Mavericks更換名稱為DAL Mavericks\n",
      "Charlotte Hornets更換名稱為CHA Hornets\n",
      "1.90 1.90 216.5\n",
      "2021-12-14 09:00:00\n",
      "Denver Nuggets更換名稱為DEN Nuggets\n",
      "Washington Wizards更換名稱為WAS Wizards\n",
      "1.90 1.90 216.0\n",
      "2021-12-14 10:30:00\n",
      "Los Angeles Clippers更換名稱為LA Clippers\n",
      "Phoenix Suns更換名稱為PHX Suns\n",
      "1.90 1.90 211.5\n",
      "2021-12-15 07:30:00\n",
      "Brooklyn Nets更換名稱為BKN Nets\n",
      "Toronto Raptors更換名稱為TOR Raptors\n",
      "1.90 1.90 218.0\n",
      "2021-12-15 07:30:00\n",
      "New York Knicks更換名稱為NY Knicks\n",
      "Golden State Warriors更換名稱為GS Warriors\n",
      "1.90 1.90 211.5\n",
      "2021-12-15 10:00:00\n",
      "Portland Trail Blazers更換名稱為POR Trail Blazers\n",
      "Phoenix Suns更換名稱為PHX Suns\n",
      "1.90 1.90 219.0\n",
      "2021-12-16 07:00:00\n",
      "Cleveland Cavaliers更換名稱為CLE Cavaliers\n",
      "Houston Rockets更換名稱為HOU Rockets\n",
      "1.90 1.90 217.0\n",
      "2021-12-16 07:00:00\n",
      "Orlando Magic更換名稱為ORL Magic\n",
      "Atlanta Hawks更換名稱為ATL Hawks\n",
      "1.90 1.90 223.5\n",
      "2021-12-16 07:00:00\n",
      "Philadelphia 76ers更換名稱為PHI 76ers\n",
      "Miami Heat更換名稱為MIA Heat\n",
      "1.90 1.90 204.5\n",
      "2021-12-16 07:30:00\n",
      "Dallas Mavericks更換名稱為DAL Mavericks\n",
      "Los Angeles Lakers更換名稱為LA Lakers\n",
      "1.90 1.90 212.5\n",
      "2021-12-16 08:00:00\n",
      "Milwaukee Bucks更換名稱為MIL Bucks\n",
      "Indiana Pacers更換名稱為IND Pacers\n",
      "1.90 1.90 214.5\n",
      "2021-12-16 08:00:00\n",
      "Oklahoma City Thunder更換名稱為OKC Thunder\n",
      "New Orleans Pelicans更換名稱為NO Pelicans\n",
      "1.90 1.90 211.5\n",
      "2021-12-16 08:30:00\n",
      "San Antonio Spurs更換名稱為SA Spurs\n",
      "Charlotte Hornets更換名稱為CHA Hornets\n",
      "1.90 1.90 224.0\n",
      "2021-12-16 09:00:00\n",
      "Denver Nuggets更換名稱為DEN Nuggets\n",
      "Minnesota Timberwolves更換名稱為MIN Timberwolves\n",
      "1.90 1.90 224.5\n",
      "2021-12-16 10:00:00\n",
      "Portland Trail Blazers更換名稱為POR Trail Blazers\n",
      "Memphis Grizzlies更換名稱為MEM Grizzlies\n",
      "1.90 1.90 217.5\n",
      "2021-12-16 10:00:00\n",
      "Sacramento Kings更換名稱為SAC Kings\n",
      "Washington Wizards更換名稱為WAS Wizards\n",
      "1.90 1.90 226.5\n",
      "2021-12-16 10:00:00\n",
      "Utah Jazz更換名稱為UTA Jazz\n",
      "Los Angeles Clippers更換名稱為LA Clippers\n",
      "1.90 1.90 217.5\n",
      "2021-12-17 07:00:00\n",
      "Indiana Pacers更換名稱為IND Pacers\n",
      "Detroit Pistons更換名稱為DET Pistons\n",
      "1.90 1.90 208.5\n",
      "2021-12-17 07:30:00\n",
      "Brooklyn Nets更換名稱為BKN Nets\n",
      "Philadelphia 76ers更換名稱為PHI 76ers\n",
      "1.90 1.90 216.5\n",
      "2021-12-17 08:00:00\n",
      "Houston Rockets更換名稱為HOU Rockets\n",
      "New York Knicks更換名稱為NY Knicks\n",
      "1.90 1.90 215.5\n",
      "2021-12-17 09:00:00\n",
      "Phoenix Suns更換名稱為PHX Suns\n",
      "Washington Wizards更換名稱為WAS Wizards\n",
      "1.90 1.90 213.0\n",
      "2021-12-18 07:00:00\n",
      "Orlando Magic更換名稱為ORL Magic\n",
      "Miami Heat更換名稱為MIA Heat\n",
      "1.90 1.90 203.0\n",
      "2021-12-18 07:30:00\n",
      "Atlanta Hawks更換名稱為ATL Hawks\n",
      "Denver Nuggets更換名稱為DEN Nuggets\n",
      "1.90 1.90 225.5\n",
      "2021-12-18 07:30:00\n",
      "Boston Celtics更換名稱為BOS Celtics\n",
      "Golden State Warriors更換名稱為GS Warriors\n",
      "1.90 1.90 216.5\n",
      "2021-12-18 08:00:00\n",
      "New Orleans Pelicans更換名稱為NO Pelicans\n",
      "Milwaukee Bucks更換名稱為MIL Bucks\n",
      "1.90 1.90 218.5\n",
      "2021-12-18 09:00:00\n",
      "Utah Jazz更換名稱為UTA Jazz\n",
      "San Antonio Spurs更換名稱為SA Spurs\n",
      "1.90 1.90 226.0\n",
      "2021-12-18 10:00:00\n",
      "Minnesota Timberwolves更換名稱為MIN Timberwolves\n",
      "Los Angeles Lakers更換名稱為LA Lakers\n",
      "1.90 1.90 222.5\n",
      "2021-12-18 10:00:00\n",
      "Portland Trail Blazers更換名稱為POR Trail Blazers\n",
      "Charlotte Hornets更換名稱為CHA Hornets\n",
      "1.90 1.90 230.5\n",
      "2021-12-18 10:00:00\n",
      "Sacramento Kings更換名稱為SAC Kings\n",
      "Memphis Grizzlies更換名稱為MEM Grizzlies\n",
      "1.90 1.90 221.0\n",
      "2021-12-19 00:00:00\n",
      "Detroit Pistons更換名稱為DET Pistons\n",
      "Houston Rockets更換名稱為HOU Rockets\n",
      "1.90 1.90 218.0\n",
      "2021-12-19 07:00:00\n",
      "Boston Celtics更換名稱為BOS Celtics\n",
      "New York Knicks更換名稱為NY Knicks\n",
      "1.90 1.90 209.0\n",
      "2021-12-19 07:30:00\n",
      "Brooklyn Nets更換名稱為BKN Nets\n",
      "Orlando Magic更換名稱為ORL Magic\n",
      "1.90 1.90 211.0\n",
      "2021-12-19 07:30:00\n",
      "Toronto Raptors更換名稱為TOR Raptors\n",
      "Golden State Warriors更換名稱為GS Warriors\n",
      "1.90 1.90 201.5\n",
      "2021-12-19 08:00:00\n",
      "Oklahoma City Thunder更換名稱為OKC Thunder\n",
      "Los Angeles Clippers更換名稱為LA Clippers\n",
      "1.90 1.90 210.5\n",
      "2021-12-19 09:00:00\n",
      "Milwaukee Bucks更換名稱為MIL Bucks\n",
      "Cleveland Cavaliers更換名稱為CLE Cavaliers\n",
      "1.90 1.90 212.5\n",
      "2021-12-19 09:00:00\n",
      "Utah Jazz更換名稱為UTA Jazz\n",
      "Washington Wizards更換名稱為WAS Wizards\n",
      "1.90 1.90 222.5\n",
      "2021-12-20 06:00:00\n",
      "Detroit Pistons更換名稱為DET Pistons\n",
      "Miami Heat更換名稱為MIA Heat\n",
      "1.90 1.90 208.0\n",
      "2021-12-20 06:00:00\n",
      "Memphis Grizzlies更換名稱為MEM Grizzlies\n",
      "Portland Trail Blazers更換名稱為POR Trail Blazers\n",
      "1.90 1.90 218.0\n",
      "2021-12-20 06:00:00\n",
      "Sacramento Kings更換名稱為SAC Kings\n",
      "San Antonio Spurs更換名稱為SA Spurs\n",
      "1.90 1.90 227.0\n",
      "2021-12-20 08:00:00\n",
      "Chicago Bulls更換名稱為CHI Bulls\n",
      "Los Angeles Lakers更換名稱為LA Lakers\n",
      "1.90 1.90 216.0\n",
      "2021-12-20 08:00:00\n",
      "Minnesota Timberwolves更換名稱為MIN Timberwolves\n",
      "Dallas Mavericks更換名稱為DAL Mavericks\n",
      "1.90 1.90 213.0\n",
      "2021-12-20 08:00:00\n",
      "Phoenix Suns更換名稱為PHX Suns\n",
      "Charlotte Hornets更換名稱為CHA Hornets\n",
      "1.90 1.90 231.0\n",
      "2021-12-21 07:30:00\n",
      "Boston Celtics更換名稱為BOS Celtics\n",
      "Philadelphia 76ers更換名稱為PHI 76ers\n",
      "1.90 1.90 214.0\n",
      "2021-12-21 08:00:00\n",
      "Chicago Bulls更換名稱為CHI Bulls\n",
      "Houston Rockets更換名稱為HOU Rockets\n",
      "1.90 1.90 222.5\n",
      "2021-12-21 08:00:00\n",
      "Memphis Grizzlies更換名稱為MEM Grizzlies\n",
      "Oklahoma City Thunder更換名稱為OKC Thunder\n",
      "1.90 1.90 215.5\n",
      "2021-12-21 09:00:00\n",
      "Utah Jazz更換名稱為UTA Jazz\n",
      "Charlotte Hornets更換名稱為CHA Hornets\n",
      "1.90 1.90 237.5\n",
      "2021-12-21 10:00:00\n",
      "Golden State Warriors更換名稱為GS Warriors\n",
      "Sacramento Kings更換名稱為SAC Kings\n",
      "1.90 1.90 221.5\n",
      "2021-12-21 10:30:00\n",
      "Los Angeles Clippers更換名稱為LA Clippers\n",
      "San Antonio Spurs更換名稱為SA Spurs\n",
      "1.90 1.90 217.5\n",
      "2021-12-22 07:30:00\n",
      "Miami Heat更換名稱為MIA Heat\n",
      "Indiana Pacers更換名稱為IND Pacers\n",
      "1.90 1.90 211.0\n",
      "2021-12-22 07:30:00\n",
      "New York Knicks更換名稱為NY Knicks\n",
      "Detroit Pistons更換名稱為DET Pistons\n",
      "1.90 1.90 207.0\n",
      "2021-12-22 08:00:00\n",
      "New Orleans Pelicans更換名稱為NO Pelicans\n",
      "Portland Trail Blazers更換名稱為POR Trail Blazers\n",
      "1.90 1.90 218.0\n",
      "2021-12-22 08:30:00\n",
      "Dallas Mavericks更換名稱為DAL Mavericks\n",
      "Minnesota Timberwolves更換名稱為MIN Timberwolves\n",
      "1.90 1.90 213.5\n",
      "2021-12-22 10:00:00\n",
      "Los Angeles Lakers更換名稱為LA Lakers\n",
      "Phoenix Suns更換名稱為PHX Suns\n",
      "1.90 1.90 224.5\n",
      "2021-12-23 07:30:00\n",
      "Atlanta Hawks更換名稱為ATL Hawks\n",
      "Orlando Magic更換名稱為ORL Magic\n",
      "1.90 1.90 208.0\n",
      "2021-12-23 07:30:00\n",
      "Boston Celtics更換名稱為BOS Celtics\n",
      "Cleveland Cavaliers更換名稱為CLE Cavaliers\n",
      "1.90 1.90 216.5\n",
      "2021-12-23 08:00:00\n",
      "Milwaukee Bucks更換名稱為MIL Bucks\n",
      "Houston Rockets更換名稱為HOU Rockets\n",
      "1.90 1.90 224.0\n",
      "2021-12-23 08:00:00\n",
      "Oklahoma City Thunder更換名稱為OKC Thunder\n",
      "Denver Nuggets更換名稱為DEN Nuggets\n",
      "1.90 1.90 213.0\n",
      "2021-12-23 10:00:00\n",
      "Sacramento Kings更換名稱為SAC Kings\n",
      "Los Angeles Clippers更換名稱為LA Clippers\n",
      "1.90 1.90 218.0\n",
      "2021-12-24 07:00:00\n",
      "Indiana Pacers更換名稱為IND Pacers\n",
      "Houston Rockets更換名稱為HOU Rockets\n",
      "1.90 1.90 221.0\n",
      "2021-12-24 07:00:00\n",
      "Orlando Magic更換名稱為ORL Magic\n",
      "New Orleans Pelicans更換名稱為NO Pelicans\n",
      "1.90 1.90 211.0\n",
      "2021-12-24 07:00:00\n",
      "Philadelphia 76ers更換名稱為PHI 76ers\n",
      "Atlanta Hawks更換名稱為ATL Hawks\n",
      "1.90 1.90 205.0\n",
      "2021-12-24 07:30:00\n",
      "Miami Heat更換名稱為MIA Heat\n",
      "Detroit Pistons更換名稱為DET Pistons\n",
      "1.90 1.90 207.0\n",
      "2021-12-24 07:30:00\n",
      "New York Knicks更換名稱為NY Knicks\n",
      "Washington Wizards更換名稱為WAS Wizards\n",
      "1.90 1.90 207.5\n",
      "2021-12-24 08:30:00\n",
      "Dallas Mavericks更換名稱為DAL Mavericks\n",
      "Milwaukee Bucks更換名稱為MIL Bucks\n",
      "1.90 1.90 209.5\n",
      "2021-12-24 09:00:00\n",
      "Denver Nuggets更換名稱為DEN Nuggets\n",
      "Charlotte Hornets更換名稱為CHA Hornets\n",
      "1.90 1.90 231.5\n",
      "2021-12-24 09:00:00\n",
      "Phoenix Suns更換名稱為PHX Suns\n",
      "Oklahoma City Thunder更換名稱為OKC Thunder\n",
      "1.90 1.90 214.0\n",
      "2021-12-24 09:00:00\n",
      "Utah Jazz更換名稱為UTA Jazz\n",
      "Minnesota Timberwolves更換名稱為MIN Timberwolves\n",
      "1.90 1.90 224.5\n",
      "2021-12-24 10:00:00\n",
      "Golden State Warriors更換名稱為GS Warriors\n",
      "Memphis Grizzlies更換名稱為MEM Grizzlies\n",
      "1.90 1.90 217.0\n",
      "2021-12-24 10:30:00\n",
      "Los Angeles Lakers更換名稱為LA Lakers\n",
      "San Antonio Spurs更換名稱為SA Spurs\n",
      "1.90 1.90 225.5\n",
      "2021-12-26 00:00:00\n",
      "New York Knicks更換名稱為NY Knicks\n",
      "Atlanta Hawks更換名稱為ATL Hawks\n",
      "1.90 1.90 206.5\n",
      "2021-12-26 02:30:00\n",
      "Milwaukee Bucks更換名稱為MIL Bucks\n",
      "Boston Celtics更換名稱為BOS Celtics\n",
      "1.90 1.90 220.5\n",
      "2021-12-26 05:00:00\n",
      "Phoenix Suns更換名稱為PHX Suns\n",
      "Golden State Warriors更換名稱為GS Warriors\n",
      "1.90 1.90 215.5\n",
      "2021-12-26 08:00:00\n",
      "Los Angeles Lakers更換名稱為LA Lakers\n",
      "Brooklyn Nets更換名稱為BKN Nets\n",
      "1.90 1.90 223.0\n",
      "2021-12-26 10:30:00\n",
      "Utah Jazz更換名稱為UTA Jazz\n",
      "Dallas Mavericks更換名稱為DAL Mavericks\n",
      "1.90 1.90 213.5\n",
      "2021-12-27 03:30:00\n",
      "Miami Heat更換名稱為MIA Heat\n",
      "Orlando Magic更換名稱為ORL Magic\n",
      "1.90 1.90 206.5\n",
      "2021-12-27 06:00:00\n",
      "Cleveland Cavaliers更換名稱為CLE Cavaliers\n",
      "Toronto Raptors更換名稱為TOR Raptors\n",
      "1.90 1.90 205.5\n",
      "2021-12-27 06:00:00\n",
      "Sacramento Kings更換名稱為SAC Kings\n",
      "Memphis Grizzlies更換名稱為MEM Grizzlies\n",
      "1.90 1.90 224.5\n",
      "2021-12-27 06:00:00\n",
      "Washington Wizards更換名稱為WAS Wizards\n",
      "Philadelphia 76ers更換名稱為PHI 76ers\n",
      "1.90 1.90 210.0\n",
      "2021-12-27 07:00:00\n",
      "Oklahoma City Thunder更換名稱為OKC Thunder\n",
      "New Orleans Pelicans更換名稱為NO Pelicans\n",
      "1.90 1.90 212.5\n",
      "2021-12-27 07:00:00\n",
      "San Antonio Spurs更換名稱為SA Spurs\n",
      "Detroit Pistons更換名稱為DET Pistons\n",
      "1.90 1.90 221.5\n",
      "2021-12-27 08:00:00\n",
      "Chicago Bulls更換名稱為CHI Bulls\n",
      "Indiana Pacers更換名稱為IND Pacers\n",
      "1.90 1.90 219.0\n",
      "2021-12-27 09:00:00\n",
      "Los Angeles Clippers更換名稱為LA Clippers\n",
      "Denver Nuggets更換名稱為DEN Nuggets\n",
      "1.90 1.90 211.5\n",
      "2021-12-28 07:00:00\n",
      "Charlotte Hornets更換名稱為CHA Hornets\n",
      "Houston Rockets更換名稱為HOU Rockets\n",
      "1.90 1.90 233.5\n",
      "2021-12-28 07:30:00\n",
      "Atlanta Hawks更換名稱為ATL Hawks\n",
      "Chicago Bulls更換名稱為CHI Bulls\n",
      "1.90 1.90 217.0\n",
      "2021-12-28 08:00:00\n",
      "Minnesota Timberwolves更換名稱為MIN Timberwolves\n",
      "Boston Celtics更換名稱為BOS Celtics\n",
      "1.90 1.90 214.5\n",
      "2021-12-28 08:30:00\n",
      "San Antonio Spurs更換名稱為SA Spurs\n",
      "Utah Jazz更換名稱為UTA Jazz\n",
      "1.90 1.90 230.5\n",
      "2021-12-28 09:00:00\n",
      "Phoenix Suns更換名稱為PHX Suns\n",
      "Memphis Grizzlies更換名稱為MEM Grizzlies\n",
      "1.90 1.90 221.5\n",
      "2021-12-28 10:00:00\n",
      "Portland Trail Blazers更換名稱為POR Trail Blazers\n",
      "Dallas Mavericks更換名稱為DAL Mavericks\n",
      "1.90 1.90 212.5\n",
      "2021-12-28 10:30:00\n",
      "Los Angeles Clippers更換名稱為LA Clippers\n",
      "Brooklyn Nets更換名稱為BKN Nets\n",
      "1.90 1.90 214.0\n",
      "2021-12-29 07:00:00\n",
      "Orlando Magic更換名稱為ORL Magic\n",
      "Milwaukee Bucks更換名稱為MIL Bucks\n",
      "1.90 1.90 215.5\n",
      "2021-12-29 07:30:00\n",
      "Miami Heat更換名稱為MIA Heat\n",
      "Washington Wizards更換名稱為WAS Wizards\n",
      "1.90 1.90 205.5\n",
      "2021-12-29 07:30:00\n",
      "Toronto Raptors更換名稱為TOR Raptors\n",
      "Philadelphia 76ers更換名稱為PHI 76ers\n",
      "1.90 1.90 214.5\n",
      "2021-12-29 08:00:00\n",
      "Houston Rockets更換名稱為HOU Rockets\n",
      "Los Angeles Lakers更換名稱為LA Lakers\n",
      "1.90 1.90 225.5\n",
      "2021-12-29 08:00:00\n",
      "Minnesota Timberwolves更換名稱為MIN Timberwolves\n",
      "New York Knicks更換名稱為NY Knicks\n",
      "1.90 1.90 211.0\n",
      "2021-12-29 08:00:00\n",
      "New Orleans Pelicans更換名稱為NO Pelicans\n",
      "Cleveland Cavaliers更換名稱為CLE Cavaliers\n",
      "1.90 1.90 211.5\n",
      "2021-12-29 10:00:00\n",
      "Golden State Warriors更換名稱為GS Warriors\n",
      "Denver Nuggets更換名稱為DEN Nuggets\n",
      "1.90 1.90 218.0\n",
      "2021-12-29 10:00:00\n",
      "Sacramento Kings更換名稱為SAC Kings\n",
      "Oklahoma City Thunder更換名稱為OKC Thunder\n",
      "1.90 1.90 224.0\n",
      "2021-12-30 07:00:00\n",
      "Detroit Pistons更換名稱為DET Pistons\n",
      "New York Knicks更換名稱為NY Knicks\n",
      "1.90 1.90 214.5\n",
      "2021-12-30 07:00:00\n",
      "Indiana Pacers更換名稱為IND Pacers\n",
      "Charlotte Hornets更換名稱為CHA Hornets\n",
      "1.90 1.90 226.0\n",
      "2021-12-30 07:30:00\n",
      "Boston Celtics更換名稱為BOS Celtics\n",
      "Los Angeles Clippers更換名稱為LA Clippers\n",
      "1.90 1.90 211.0\n",
      "2021-12-30 08:00:00\n",
      "Chicago Bulls更換名稱為CHI Bulls\n",
      "Atlanta Hawks更換名稱為ATL Hawks\n",
      "1.90 1.90 227.0\n",
      "2021-12-30 08:00:00\n",
      "Memphis Grizzlies更換名稱為MEM Grizzlies\n",
      "Los Angeles Lakers更換名稱為LA Lakers\n",
      "1.90 1.90 225.5\n",
      "2021-12-30 09:00:00\n",
      "Phoenix Suns更換名稱為PHX Suns\n",
      "Oklahoma City Thunder更換名稱為OKC Thunder\n",
      "1.90 1.90 219.0\n",
      "2021-12-30 10:00:00\n",
      "Portland Trail Blazers更換名稱為POR Trail Blazers\n",
      "Utah Jazz更換名稱為UTA Jazz\n",
      "1.90 1.90 228.5\n",
      "2021-12-30 10:30:00\n",
      "Sacramento Kings更換名稱為SAC Kings\n",
      "Dallas Mavericks更換名稱為DAL Mavericks\n",
      "1.90 1.90 220.5\n",
      "2021-12-31 07:00:00\n",
      "Brooklyn Nets更換名稱為BKN Nets\n",
      "Philadelphia 76ers更換名稱為PHI 76ers\n",
      "1.90 1.90 221.0\n",
      "2021-12-31 07:00:00\n",
      "Orlando Magic更換名稱為ORL Magic\n",
      "Milwaukee Bucks更換名稱為MIL Bucks\n",
      "1.90 1.90 218.0\n",
      "2021-12-31 07:00:00\n",
      "Washington Wizards更換名稱為WAS Wizards\n",
      "Cleveland Cavaliers更換名稱為CLE Cavaliers\n",
      "1.90 1.90 211.5\n",
      "2022-01-01 01:00:00\n",
      "Boston Celtics更換名稱為BOS Celtics\n",
      "Phoenix Suns更換名稱為PHX Suns\n",
      "1.90 1.90 213.5\n",
      "2022-01-01 03:00:00\n",
      "Indiana Pacers更換名稱為IND Pacers\n",
      "Chicago Bulls更換名稱為CHI Bulls\n",
      "1.90 1.90 219.5\n",
      "2022-01-01 06:00:00\n",
      "Sacramento Kings更換名稱為SAC Kings\n",
      "Dallas Mavericks更換名稱為DAL Mavericks\n",
      "1.90 1.90 217.5\n",
      "2022-01-01 07:00:00\n",
      "Houston Rockets更換名稱為HOU Rockets\n",
      "Miami Heat更換名稱為MIA Heat\n",
      "1.90 1.90 219.0\n",
      "2022-01-01 07:30:00\n",
      "Cleveland Cavaliers更換名稱為CLE Cavaliers\n",
      "Atlanta Hawks更換名稱為ATL Hawks\n",
      "1.90 1.90 218.5\n",
      "2022-01-01 07:30:00\n",
      "Toronto Raptors更換名稱為TOR Raptors\n",
      "Los Angeles Clippers更換名稱為LA Clippers\n",
      "1.90 1.90 212.5\n",
      "2022-01-01 08:00:00\n",
      "Memphis Grizzlies更換名稱為MEM Grizzlies\n",
      "San Antonio Spurs更換名稱為SA Spurs\n",
      "1.90 1.90 227.0\n",
      "2022-01-01 08:00:00\n",
      "Oklahoma City Thunder更換名稱為OKC Thunder\n",
      "New York Knicks更換名稱為NY Knicks\n",
      "1.90 1.90 207.5\n",
      "2022-01-01 09:00:00\n",
      "Utah Jazz更換名稱為UTA Jazz\n",
      "Minnesota Timberwolves更換名稱為MIN Timberwolves\n",
      "1.90 1.90 222.0\n",
      "2022-01-01 10:30:00\n",
      "Los Angeles Lakers更換名稱為LA Lakers\n",
      "Portland Trail Blazers更換名稱為POR Trail Blazers\n",
      "1.90 1.90 227.0\n",
      "2022-01-02 06:30:00\n",
      "Milwaukee Bucks更換名稱為MIL Bucks\n",
      "New Orleans Pelicans更換名稱為NO Pelicans\n",
      "1.90 1.90 221.5\n",
      "2022-01-02 07:00:00\n",
      "Detroit Pistons更換名稱為DET Pistons\n",
      "San Antonio Spurs更換名稱為SA Spurs\n",
      "1.90 1.90 222.0\n",
      "2022-01-02 07:00:00\n",
      "Washington Wizards更換名稱為WAS Wizards\n",
      "Chicago Bulls更換名稱為CHI Bulls\n",
      "1.90 1.90 221.5\n",
      "2022-01-02 07:30:00\n",
      "Brooklyn Nets更換名稱為BKN Nets\n",
      "Los Angeles Clippers更換名稱為LA Clippers\n",
      "1.90 1.90 220.5\n",
      "2022-01-02 08:00:00\n",
      "Houston Rockets更換名稱為HOU Rockets\n",
      "Denver Nuggets更換名稱為DEN Nuggets\n",
      "1.90 1.90 221.0\n",
      "2022-01-02 09:00:00\n",
      "Utah Jazz更換名稱為UTA Jazz\n",
      "Golden State Warriors更換名稱為GS Warriors\n",
      "1.90 1.90 223.5\n",
      "2022-01-03 03:30:00\n",
      "Toronto Raptors更換名稱為TOR Raptors\n",
      "New York Knicks更換名稱為NY Knicks\n",
      "1.90 1.90 206.5\n",
      "2022-01-03 06:00:00\n",
      "Boston Celtics更換名稱為BOS Celtics\n",
      "Orlando Magic更換名稱為ORL Magic\n",
      "1.90 1.90 216.0\n",
      "2022-01-03 06:00:00\n",
      "Cleveland Cavaliers更換名稱為CLE Cavaliers\n",
      "Indiana Pacers更換名稱為IND Pacers\n",
      "1.90 1.90 211.5\n",
      "2022-01-03 06:00:00\n",
      "Sacramento Kings更換名稱為SAC Kings\n",
      "Miami Heat更換名稱為MIA Heat\n",
      "1.90 1.90 220.5\n",
      "2022-01-03 07:00:00\n",
      "Charlotte Hornets更換名稱為CHA Hornets\n",
      "Phoenix Suns更換名稱為PHX Suns\n",
      "1.90 1.90 234.0\n",
      "2022-01-03 07:00:00\n",
      "Oklahoma City Thunder更換名稱為OKC Thunder\n",
      "Dallas Mavericks更換名稱為DAL Mavericks\n",
      "1.90 1.90 206.5\n",
      "2022-01-03 09:30:00\n",
      "Los Angeles Lakers更換名稱為LA Lakers\n",
      "Minnesota Timberwolves更換名稱為MIN Timberwolves\n",
      "1.90 1.90 221.0\n",
      "2022-01-04 07:00:00\n",
      "Philadelphia 76ers更換名稱為PHI 76ers\n",
      "Houston Rockets更換名稱為HOU Rockets\n",
      "1.90 1.90 218.0\n",
      "2022-01-04 07:00:00\n",
      "Washington Wizards更換名稱為WAS Wizards\n",
      "Charlotte Hornets更換名稱為CHA Hornets\n",
      "1.90 1.90 230.5\n",
      "2022-01-04 07:30:00\n",
      "Brooklyn Nets更換名稱為BKN Nets\n",
      "Memphis Grizzlies更換名稱為MEM Grizzlies\n",
      "1.90 1.90 230.0\n",
      "2022-01-04 08:00:00\n",
      "Chicago Bulls更換名稱為CHI Bulls\n",
      "Orlando Magic更換名稱為ORL Magic\n",
      "1.90 1.90 218.5\n",
      "2022-01-04 08:00:00\n",
      "Milwaukee Bucks更換名稱為MIL Bucks\n",
      "Detroit Pistons更換名稱為DET Pistons\n",
      "1.90 1.90 227.5\n",
      "2022-01-04 08:00:00\n",
      "New Orleans Pelicans更換名稱為NO Pelicans\n",
      "Utah Jazz更換名稱為UTA Jazz\n",
      "1.90 1.90 228.0\n",
      "2022-01-04 08:30:00\n",
      "Dallas Mavericks更換名稱為DAL Mavericks\n",
      "Denver Nuggets更換名稱為DEN Nuggets\n",
      "1.90 1.90 213.5\n",
      "2022-01-04 10:00:00\n",
      "Golden State Warriors更換名稱為GS Warriors\n",
      "Miami Heat更換名稱為MIA Heat\n",
      "1.90 1.90 216.5\n",
      "2022-01-04 10:00:00\n",
      "Portland Trail Blazers更換名稱為POR Trail Blazers\n",
      "Atlanta Hawks更換名稱為ATL Hawks\n",
      "1.90 1.90 226.0\n",
      "2022-01-04 10:30:00\n",
      "Los Angeles Clippers更換名稱為LA Clippers\n",
      "Minnesota Timberwolves更換名稱為MIN Timberwolves\n",
      "1.90 1.90 216.0\n",
      "2022-01-05 07:00:00\n",
      "Cleveland Cavaliers更換名稱為CLE Cavaliers\n",
      "Memphis Grizzlies更換名稱為MEM Grizzlies\n",
      "1.90 1.90 216.0\n"
     ]
    },
    {
     "data": {
      "text/plain": "            homeRslt      gmDate gmTime                homeAbbr  home_games  \\\nUnnamed: 0                                                                    \n0                185  2014-10-28  20:00    New Orleans Pelicans           1   \n1                201  2014-10-28  20:00       San Antonio Spurs           1   \n2                198  2014-10-28  22:30      Los Angeles Lakers           1   \n3                214  2014-10-29  19:00       Charlotte Hornets           1   \n4                194  2014-10-29  19:00          Indiana Pacers           1   \n...              ...         ...    ...                     ...         ...   \n8402             192  2022-01-03  20:30        Dallas Mavericks          37   \n8403             223  2022-01-03  22:00   Golden State Warriors          36   \n8404             267  2022-01-03  22:00  Portland Trail Blazers          36   \n8405             226  2022-01-03  22:30    Los Angeles Clippers          38   \n8406             216  2022-01-04  19:00     Cleveland Cavaliers          38   \n\n                          awayAbbr  away_games  Season_half  home_streak  \\\nUnnamed: 0                                                                 \n0                    Orlando Magic           1  Pre_AllStar            0   \n1                 Dallas Mavericks           1  Pre_AllStar            0   \n2                  Houston Rockets           1  Pre_AllStar            0   \n3                  Milwaukee Bucks           1  Pre_AllStar            0   \n4               Philadelphia 76ers           1  Pre_AllStar            0   \n...                            ...         ...          ...          ...   \n8402                Denver Nuggets          35  Pre_AllStar            2   \n8403                    Miami Heat          38  Pre_AllStar            1   \n8404                 Atlanta Hawks          36  Pre_AllStar            0   \n8405        Minnesota Timberwolves          37  Pre_AllStar            1   \n8406             Memphis Grizzlies          39  Pre_AllStar            1   \n\n            away_streak  ...  home_avg_homeBLK  away_avg_awayBLK  \\\nUnnamed: 0               ...                                       \n0                     0  ...               0.0               0.0   \n1                     0  ...               0.0               0.0   \n2                     0  ...               0.0               0.0   \n3                     0  ...               0.0               0.0   \n4                     0  ...               0.0               0.0   \n...                 ...  ...               ...               ...   \n8402                  3  ...               4.4               4.4   \n8403                  0  ...               5.8               3.0   \n8404                  1  ...               4.6               4.2   \n8405                  0  ...               5.6               5.4   \n8406                  5  ...               4.6               6.6   \n\n            home_avg_homeFouls  away_avg_awayFouls  home_avg_home_diffPTS  \\\nUnnamed: 0                                                                  \n0                          0.0                 0.0                    0.0   \n1                          0.0                 0.0                    0.0   \n2                          0.0                 0.0                    0.0   \n3                          0.0                 0.0                    0.0   \n4                          0.0                 0.0                    0.0   \n...                        ...                 ...                    ...   \n8402                      21.4                20.4                    9.0   \n8403                      20.6                18.2                    8.6   \n8404                      22.6                17.0                   16.4   \n8405                      18.8                22.0                    8.0   \n8406                      16.4                18.4                   14.6   \n\n            away_avg_away_diffPTS  avg_PTS  Odd_H  Odd_A  SpecialBetValue  \nUnnamed: 0                                                                 \n0                             0.0      0.0      0      0                0  \n1                             0.0      0.0      0      0                0  \n2                             0.0      0.0      0      0                0  \n3                             0.0      0.0      0      0                0  \n4                             0.0      0.0      0      0                0  \n...                           ...      ...    ...    ...              ...  \n8402                          8.2    213.2   1.90   1.90            213.5  \n8403                          6.4    222.2   1.90   1.90            216.5  \n8404                          9.0    214.2   1.90   1.90            226.0  \n8405                          8.4    210.0   1.90   1.90            216.0  \n8406                         11.6    229.6   1.90   1.90            216.0  \n\n[8407 rows x 44 columns]",
      "text/html": "<div>\n<style scoped>\n    .dataframe tbody tr th:only-of-type {\n        vertical-align: middle;\n    }\n\n    .dataframe tbody tr th {\n        vertical-align: top;\n    }\n\n    .dataframe thead th {\n        text-align: right;\n    }\n</style>\n<table border=\"1\" class=\"dataframe\">\n  <thead>\n    <tr style=\"text-align: right;\">\n      <th></th>\n      <th>homeRslt</th>\n      <th>gmDate</th>\n      <th>gmTime</th>\n      <th>homeAbbr</th>\n      <th>home_games</th>\n      <th>awayAbbr</th>\n      <th>away_games</th>\n      <th>Season_half</th>\n      <th>home_streak</th>\n      <th>away_streak</th>\n      <th>...</th>\n      <th>home_avg_homeBLK</th>\n      <th>away_avg_awayBLK</th>\n      <th>home_avg_homeFouls</th>\n      <th>away_avg_awayFouls</th>\n      <th>home_avg_home_diffPTS</th>\n      <th>away_avg_away_diffPTS</th>\n      <th>avg_PTS</th>\n      <th>Odd_H</th>\n      <th>Odd_A</th>\n      <th>SpecialBetValue</th>\n    </tr>\n    <tr>\n      <th>Unnamed: 0</th>\n      <th></th>\n      <th></th>\n      <th></th>\n      <th></th>\n      <th></th>\n      <th></th>\n      <th></th>\n      <th></th>\n      <th></th>\n      <th></th>\n      <th></th>\n      <th></th>\n      <th></th>\n      <th></th>\n      <th></th>\n      <th></th>\n      <th></th>\n      <th></th>\n      <th></th>\n      <th></th>\n      <th></th>\n    </tr>\n  </thead>\n  <tbody>\n    <tr>\n      <th>0</th>\n      <td>185</td>\n      <td>2014-10-28</td>\n      <td>20:00</td>\n      <td>New Orleans Pelicans</td>\n      <td>1</td>\n      <td>Orlando Magic</td>\n      <td>1</td>\n      <td>Pre_AllStar</td>\n      <td>0</td>\n      <td>0</td>\n      <td>...</td>\n      <td>0.0</td>\n      <td>0.0</td>\n      <td>0.0</td>\n      <td>0.0</td>\n      <td>0.0</td>\n      <td>0.0</td>\n      <td>0.0</td>\n      <td>0</td>\n      <td>0</td>\n      <td>0</td>\n    </tr>\n    <tr>\n      <th>1</th>\n      <td>201</td>\n      <td>2014-10-28</td>\n      <td>20:00</td>\n      <td>San Antonio Spurs</td>\n      <td>1</td>\n      <td>Dallas Mavericks</td>\n      <td>1</td>\n      <td>Pre_AllStar</td>\n      <td>0</td>\n      <td>0</td>\n      <td>...</td>\n      <td>0.0</td>\n      <td>0.0</td>\n      <td>0.0</td>\n      <td>0.0</td>\n      <td>0.0</td>\n      <td>0.0</td>\n      <td>0.0</td>\n      <td>0</td>\n      <td>0</td>\n      <td>0</td>\n    </tr>\n    <tr>\n      <th>2</th>\n      <td>198</td>\n      <td>2014-10-28</td>\n      <td>22:30</td>\n      <td>Los Angeles Lakers</td>\n      <td>1</td>\n      <td>Houston Rockets</td>\n      <td>1</td>\n      <td>Pre_AllStar</td>\n      <td>0</td>\n      <td>0</td>\n      <td>...</td>\n      <td>0.0</td>\n      <td>0.0</td>\n      <td>0.0</td>\n      <td>0.0</td>\n      <td>0.0</td>\n      <td>0.0</td>\n      <td>0.0</td>\n      <td>0</td>\n      <td>0</td>\n      <td>0</td>\n    </tr>\n    <tr>\n      <th>3</th>\n      <td>214</td>\n      <td>2014-10-29</td>\n      <td>19:00</td>\n      <td>Charlotte Hornets</td>\n      <td>1</td>\n      <td>Milwaukee Bucks</td>\n      <td>1</td>\n      <td>Pre_AllStar</td>\n      <td>0</td>\n      <td>0</td>\n      <td>...</td>\n      <td>0.0</td>\n      <td>0.0</td>\n      <td>0.0</td>\n      <td>0.0</td>\n      <td>0.0</td>\n      <td>0.0</td>\n      <td>0.0</td>\n      <td>0</td>\n      <td>0</td>\n      <td>0</td>\n    </tr>\n    <tr>\n      <th>4</th>\n      <td>194</td>\n      <td>2014-10-29</td>\n      <td>19:00</td>\n      <td>Indiana Pacers</td>\n      <td>1</td>\n      <td>Philadelphia 76ers</td>\n      <td>1</td>\n      <td>Pre_AllStar</td>\n      <td>0</td>\n      <td>0</td>\n      <td>...</td>\n      <td>0.0</td>\n      <td>0.0</td>\n      <td>0.0</td>\n      <td>0.0</td>\n      <td>0.0</td>\n      <td>0.0</td>\n      <td>0.0</td>\n      <td>0</td>\n      <td>0</td>\n      <td>0</td>\n    </tr>\n    <tr>\n      <th>...</th>\n      <td>...</td>\n      <td>...</td>\n      <td>...</td>\n      <td>...</td>\n      <td>...</td>\n      <td>...</td>\n      <td>...</td>\n      <td>...</td>\n      <td>...</td>\n      <td>...</td>\n      <td>...</td>\n      <td>...</td>\n      <td>...</td>\n      <td>...</td>\n      <td>...</td>\n      <td>...</td>\n      <td>...</td>\n      <td>...</td>\n      <td>...</td>\n      <td>...</td>\n      <td>...</td>\n    </tr>\n    <tr>\n      <th>8402</th>\n      <td>192</td>\n      <td>2022-01-03</td>\n      <td>20:30</td>\n      <td>Dallas Mavericks</td>\n      <td>37</td>\n      <td>Denver Nuggets</td>\n      <td>35</td>\n      <td>Pre_AllStar</td>\n      <td>2</td>\n      <td>3</td>\n      <td>...</td>\n      <td>4.4</td>\n      <td>4.4</td>\n      <td>21.4</td>\n      <td>20.4</td>\n      <td>9.0</td>\n      <td>8.2</td>\n      <td>213.2</td>\n      <td>1.90</td>\n      <td>1.90</td>\n      <td>213.5</td>\n    </tr>\n    <tr>\n      <th>8403</th>\n      <td>223</td>\n      <td>2022-01-03</td>\n      <td>22:00</td>\n      <td>Golden State Warriors</td>\n      <td>36</td>\n      <td>Miami Heat</td>\n      <td>38</td>\n      <td>Pre_AllStar</td>\n      <td>1</td>\n      <td>0</td>\n      <td>...</td>\n      <td>5.8</td>\n      <td>3.0</td>\n      <td>20.6</td>\n      <td>18.2</td>\n      <td>8.6</td>\n      <td>6.4</td>\n      <td>222.2</td>\n      <td>1.90</td>\n      <td>1.90</td>\n      <td>216.5</td>\n    </tr>\n    <tr>\n      <th>8404</th>\n      <td>267</td>\n      <td>2022-01-03</td>\n      <td>22:00</td>\n      <td>Portland Trail Blazers</td>\n      <td>36</td>\n      <td>Atlanta Hawks</td>\n      <td>36</td>\n      <td>Pre_AllStar</td>\n      <td>0</td>\n      <td>1</td>\n      <td>...</td>\n      <td>4.6</td>\n      <td>4.2</td>\n      <td>22.6</td>\n      <td>17.0</td>\n      <td>16.4</td>\n      <td>9.0</td>\n      <td>214.2</td>\n      <td>1.90</td>\n      <td>1.90</td>\n      <td>226.0</td>\n    </tr>\n    <tr>\n      <th>8405</th>\n      <td>226</td>\n      <td>2022-01-03</td>\n      <td>22:30</td>\n      <td>Los Angeles Clippers</td>\n      <td>38</td>\n      <td>Minnesota Timberwolves</td>\n      <td>37</td>\n      <td>Pre_AllStar</td>\n      <td>1</td>\n      <td>0</td>\n      <td>...</td>\n      <td>5.6</td>\n      <td>5.4</td>\n      <td>18.8</td>\n      <td>22.0</td>\n      <td>8.0</td>\n      <td>8.4</td>\n      <td>210.0</td>\n      <td>1.90</td>\n      <td>1.90</td>\n      <td>216.0</td>\n    </tr>\n    <tr>\n      <th>8406</th>\n      <td>216</td>\n      <td>2022-01-04</td>\n      <td>19:00</td>\n      <td>Cleveland Cavaliers</td>\n      <td>38</td>\n      <td>Memphis Grizzlies</td>\n      <td>39</td>\n      <td>Pre_AllStar</td>\n      <td>1</td>\n      <td>5</td>\n      <td>...</td>\n      <td>4.6</td>\n      <td>6.6</td>\n      <td>16.4</td>\n      <td>18.4</td>\n      <td>14.6</td>\n      <td>11.6</td>\n      <td>229.6</td>\n      <td>1.90</td>\n      <td>1.90</td>\n      <td>216.0</td>\n    </tr>\n  </tbody>\n</table>\n<p>8407 rows × 44 columns</p>\n</div>"
     },
     "execution_count": 235,
     "metadata": {},
     "output_type": "execute_result"
    }
   ],
   "source": [
    "MatchResults = get_MatchResults(nba_df_for_ML)\n",
    "MatchResults"
   ],
   "metadata": {
    "collapsed": false,
    "pycharm": {
     "name": "#%%\n"
    }
   }
  },
  {
   "cell_type": "code",
   "execution_count": 236,
   "outputs": [
    {
     "data": {
      "text/plain": "array([[0.        , 0.        , 0.        , ..., 0.        , 0.        ,\n        1.        ],\n       [0.        , 0.        , 0.        , ..., 0.        , 0.        ,\n        1.        ],\n       [0.        , 0.        , 0.        , ..., 0.        , 0.        ,\n        1.        ],\n       ...,\n       [0.        , 0.04166667, 0.63501484, ..., 0.1875    , 0.80830189,\n        1.        ],\n       [0.05555556, 0.        , 0.68367953, ..., 0.175     , 0.79245283,\n        1.        ],\n       [0.05555556, 0.20833333, 0.78694362, ..., 0.24166667, 0.86641509,\n        1.        ]])"
     },
     "execution_count": 236,
     "metadata": {},
     "output_type": "execute_result"
    }
   ],
   "source": [
    "#刪除nba_df_for_ML觀察用特徵:\n",
    "nba_df_for_ML_dumm = nba_df_for_ML.drop(['gmDate','gmTime','homeAbbr','home_games','home_avg_homePTS','awayAbbr','away_games','away_avg_awayPTS'],axis=1)\n",
    "#虛擬變數\n",
    "nba_df_for_ML_dumm = pd.get_dummies(nba_df_for_ML_dumm)\n",
    "#Season_half_Post_AllStar\n",
    "nba_df_for_ML_dumm = nba_df_for_ML_dumm.drop(['Season_half_Post_AllStar'],axis=1)\n",
    "# 正規化\n",
    "from sklearn.preprocessing import MinMaxScaler\n",
    "X = nba_df_for_ML_dumm.drop('homeRslt',axis = 1)\n",
    "y = nba_df_for_ML_dumm.homeRslt\n",
    "scaler = MinMaxScaler(feature_range=(0, 1)).fit(X)\n",
    "X= scaler.transform(X)\n",
    "X"
   ],
   "metadata": {
    "collapsed": false,
    "pycharm": {
     "name": "#%%\n"
    }
   }
  },
  {
   "cell_type": "code",
   "execution_count": 480,
   "outputs": [],
   "source": [
    "MatchResults.Odd_H = MatchResults.Odd_H.astype('float64')\n",
    "MatchResults.Odd_A = MatchResults.Odd_A.astype('float64')\n",
    "MatchResults.SpecialBetValue = MatchResults.SpecialBetValue.astype('float64')\n",
    "\n",
    "# 取出有賠率的索引\n",
    "MatchResultsIndex = MatchResults[MatchResults.Odd_H>0][['homeRslt','Odd_H','Odd_A','SpecialBetValue']].index\n",
    "# 取出預測\n",
    "MatchResults_pred_y = RandomForestRegressorModel.predict(X[MatchResultsIndex])\n",
    "# 取出賽果\n",
    "MatchResults2  = MatchResults.loc[MatchResultsIndex]\n",
    "# 取出Y\n",
    "MatchResults_y = y[MatchResultsIndex]"
   ],
   "metadata": {
    "collapsed": false,
    "pycharm": {
     "name": "#%%\n"
    }
   }
  },
  {
   "cell_type": "code",
   "execution_count": 481,
   "outputs": [
    {
     "name": "stdout",
     "output_type": "stream",
     "text": [
      "平均誤差%: 7.3881018943989405\n",
      "平均+/-誤差: 0.02462722732701381\n"
     ]
    }
   ],
   "source": [
    "print('平均誤差%:',abs(np.array(MatchResults_y)-MatchResults_pred_y).mean()/y_test.mean()*100)\n",
    "print('平均+/-誤差:',(np.array(MatchResults_y)-MatchResults_pred_y).mean())\n"
   ],
   "metadata": {
    "collapsed": false,
    "pycharm": {
     "name": "#%%\n"
    }
   }
  },
  {
   "cell_type": "code",
   "execution_count": 489,
   "outputs": [
    {
     "data": {
      "text/plain": "6.792654597641589"
     },
     "execution_count": 489,
     "metadata": {},
     "output_type": "execute_result"
    }
   ],
   "source": [
    "MatchResults2['SpecialBetValue'].std()"
   ],
   "metadata": {
    "collapsed": false,
    "pycharm": {
     "name": "#%%\n"
    }
   }
  },
  {
   "cell_type": "code",
   "execution_count": 482,
   "outputs": [
    {
     "name": "stdout",
     "output_type": "stream",
     "text": [
      "準確率: 0.49272727272727274\n"
     ]
    }
   ],
   "source": [
    "for i,isOverMean in enumerate(list(MatchResults2['SpecialBetValue'] >= MatchResults2['SpecialBetValue'].mean())):\n",
    "    if isOverMean:\n",
    "        MatchResults_pred_y[i] = MatchResults_pred_y[i]-10\n",
    "    else:\n",
    "        MatchResults_pred_y[i] = MatchResults_pred_y[i]+10\n",
    "MatchResults2['ActualIsOver'] = MatchResults2['homeRslt'] > MatchResults2['SpecialBetValue']\n",
    "MatchResults2['PredIsOver'] = MatchResults_pred_y > MatchResults2['SpecialBetValue']\n",
    "records = (MatchResults2['ActualIsOver']==MatchResults2['PredIsOver'])\n",
    "print('準確率:',len(records[records==True])/ len(records))"
   ],
   "metadata": {
    "collapsed": false,
    "pycharm": {
     "name": "#%%\n"
    }
   }
  },
  {
   "cell_type": "code",
   "execution_count": 483,
   "outputs": [
    {
     "data": {
      "text/plain": "<matplotlib.legend.Legend at 0x190bb2965e0>"
     },
     "execution_count": 483,
     "metadata": {},
     "output_type": "execute_result"
    },
    {
     "data": {
      "text/plain": "<Figure size 1440x720 with 1 Axes>",
      "image/png": "[encoded data removed]"
     },
     "metadata": {
      "needs_background": "light"
     },
     "output_type": "display_data"
    }
   ],
   "source": [
    "plt.figure(figsize=(20,10))\n",
    "plt.plot(MatchResults2['homeRslt'].reset_index(drop=True)[200:250], label='Actual')\n",
    "plt.plot(MatchResults2['SpecialBetValue'].reset_index(drop=True)[200:250], label='Threshold')\n",
    "plt.plot(pd.Series(MatchResults_pred_y)[200:250] , label='Pred')\n",
    "plt.legend(loc='upper right', shadow=True)"
   ],
   "metadata": {
    "collapsed": false,
    "pycharm": {
     "name": "#%%\n"
    }
   }
  },
  {
   "cell_type": "code",
   "execution_count": 484,
   "outputs": [],
   "source": [
    "for index in MatchResults2.index:\n",
    "    if records.loc[index] == True:\n",
    "        MatchResults2.loc[index,'profit'] = MatchResults2.loc[index,'Odd_H']*1000-1000\n",
    "    else:\n",
    "        MatchResults2.loc[index,'profit'] = -1000"
   ],
   "metadata": {
    "collapsed": false,
    "pycharm": {
     "name": "#%%\n"
    }
   }
  },
  {
   "cell_type": "code",
   "execution_count": 485,
   "outputs": [
    {
     "name": "stdout",
     "output_type": "stream",
     "text": [
      "虛擬獲利 : -35100.0\n"
     ]
    }
   ],
   "source": [
    "print('虛擬獲利 :',sum(MatchResults2.profit))"
   ],
   "metadata": {
    "collapsed": false,
    "pycharm": {
     "name": "#%%\n"
    }
   }
  },
  {
   "cell_type": "code",
   "execution_count": 486,
   "outputs": [
    {
     "name": "stderr",
     "output_type": "stream",
     "text": [
      "C:\\Users\\xin\\AppData\\Local\\Temp/ipykernel_15548/4015121101.py:7: SettingWithCopyWarning: \n",
      "A value is trying to be set on a copy of a slice from a DataFrame.\n",
      "Try using .loc[row_indexer,col_indexer] = value instead\n",
      "\n",
      "See the caveats in the documentation: https://pandas.pydata.org/pandas-docs/stable/user_guide/indexing.html#returning-a-view-versus-a-copy\n",
      "  MatchResultsGroup['isMkMoney'] = MatchResultsGroup.profit.apply(lambda p: 1 if p > 0 else 0)\n",
      "C:\\Users\\xin\\AppData\\Local\\Temp/ipykernel_15548/4015121101.py:8: SettingWithCopyWarning: \n",
      "A value is trying to be set on a copy of a slice from a DataFrame.\n",
      "Try using .loc[row_indexer,col_indexer] = value instead\n",
      "\n",
      "See the caveats in the documentation: https://pandas.pydata.org/pandas-docs/stable/user_guide/indexing.html#returning-a-view-versus-a-copy\n",
      "  MatchResultsGroup['gms'] = MatchResultsGroup.profit.apply(lambda p: 1)\n"
     ]
    },
    {
     "data": {
      "text/plain": "<Figure size 1440x720 with 1 Axes>",
      "image/png": "[encoded data removed]"
     },
     "metadata": {
      "needs_background": "light"
     },
     "output_type": "display_data"
    }
   ],
   "source": [
    "import matplotlib.dates as mdates\n",
    "import seaborn as sns\n",
    "# 每天虛擬獲利情形\n",
    "fig = plt.figure(figsize=(20,10))\n",
    "ax = plt.gca()\n",
    "MatchResultsGroup = MatchResults2[['gmDate','profit']]\n",
    "MatchResultsGroup['isMkMoney'] = MatchResultsGroup.profit.apply(lambda p: 1 if p > 0 else 0)\n",
    "MatchResultsGroup['gms'] = MatchResultsGroup.profit.apply(lambda p: 1)\n",
    "MatchResultsGroup = MatchResultsGroup[['gmDate','profit','isMkMoney','gms']].groupby(['gmDate']).sum().reset_index()\n",
    "MatchResultsGroup['>=50%'] = np.where(MatchResultsGroup['isMkMoney']/MatchResultsGroup['gms'] >= 0.5,'Y','N')\n",
    "MatchResultsGroup['isMkMoney' ]= MatchResultsGroup.profit.apply(lambda p: 'Y' if p > 0 else 'N')\n",
    "\n",
    "MatchResultsGroup['accumulate_profit'] = 0\n",
    "for idx in MatchResultsGroup.index:\n",
    "    if idx > 0:\n",
    "        MatchResultsGroup.loc[idx,'accumulate_profit'] = MatchResultsGroup.loc[idx-1,'accumulate_profit']+MatchResultsGroup.loc[idx,'profit']\n",
    "    else:\n",
    "        MatchResultsGroup.loc[idx,'accumulate_profit'] = MatchResultsGroup.loc[idx,'profit']\n",
    "\n",
    "ax = sns.barplot(x='gmDate', y='accumulate_profit', data=MatchResultsGroup)\n",
    "ax.xaxis.set_major_locator(mdates.WeekdayLocator(interval=1))"
   ],
   "metadata": {
    "collapsed": false,
    "pycharm": {
     "name": "#%%\n"
    }
   }
  },
  {
   "cell_type": "code",
   "execution_count": 488,
   "outputs": [
    {
     "data": {
      "text/plain": "        gmDate  profit isMkMoney  gms >=50%  accumulate_profit\n0   2021-10-19  -100.0         N    2     Y               -100\n1   2021-10-20  2300.0         Y   11     Y               2200\n2   2021-10-21  2700.0         Y    3     Y               4900\n3   2021-10-22  -500.0         N   10     Y               4400\n4   2021-10-23  -400.0         N    8     Y               4000\n..         ...     ...       ...  ...   ...                ...\n71  2021-12-31 -2400.0         N   10     N             -24400\n72  2022-01-01 -4100.0         N    6     N             -28500\n73  2022-01-02 -1300.0         N    7     N             -29800\n74  2022-01-03 -4300.0         N   10     N             -34100\n75  2022-01-04 -1000.0         N    1     N             -35100\n\n[76 rows x 6 columns]",
      "text/html": "<div>\n<style scoped>\n    .dataframe tbody tr th:only-of-type {\n        vertical-align: middle;\n    }\n\n    .dataframe tbody tr th {\n        vertical-align: top;\n    }\n\n    .dataframe thead th {\n        text-align: right;\n    }\n</style>\n<table border=\"1\" class=\"dataframe\">\n  <thead>\n    <tr style=\"text-align: right;\">\n      <th></th>\n      <th>gmDate</th>\n      <th>profit</th>\n      <th>isMkMoney</th>\n      <th>gms</th>\n      <th>&gt;=50%</th>\n      <th>accumulate_profit</th>\n    </tr>\n  </thead>\n  <tbody>\n    <tr>\n      <th>0</th>\n      <td>2021-10-19</td>\n      <td>-100.0</td>\n      <td>N</td>\n      <td>2</td>\n      <td>Y</td>\n      <td>-100</td>\n    </tr>\n    <tr>\n      <th>1</th>\n      <td>2021-10-20</td>\n      <td>2300.0</td>\n      <td>Y</td>\n      <td>11</td>\n      <td>Y</td>\n      <td>2200</td>\n    </tr>\n    <tr>\n      <th>2</th>\n      <td>2021-10-21</td>\n      <td>2700.0</td>\n      <td>Y</td>\n      <td>3</td>\n      <td>Y</td>\n      <td>4900</td>\n    </tr>\n    <tr>\n      <th>3</th>\n      <td>2021-10-22</td>\n      <td>-500.0</td>\n      <td>N</td>\n      <td>10</td>\n      <td>Y</td>\n      <td>4400</td>\n    </tr>\n    <tr>\n      <th>4</th>\n      <td>2021-10-23</td>\n      <td>-400.0</td>\n      <td>N</td>\n      <td>8</td>\n      <td>Y</td>\n      <td>4000</td>\n    </tr>\n    <tr>\n      <th>...</th>\n      <td>...</td>\n      <td>...</td>\n      <td>...</td>\n      <td>...</td>\n      <td>...</td>\n      <td>...</td>\n    </tr>\n    <tr>\n      <th>71</th>\n      <td>2021-12-31</td>\n      <td>-2400.0</td>\n      <td>N</td>\n      <td>10</td>\n      <td>N</td>\n      <td>-24400</td>\n    </tr>\n    <tr>\n      <th>72</th>\n      <td>2022-01-01</td>\n      <td>-4100.0</td>\n      <td>N</td>\n      <td>6</td>\n      <td>N</td>\n      <td>-28500</td>\n    </tr>\n    <tr>\n      <th>73</th>\n      <td>2022-01-02</td>\n      <td>-1300.0</td>\n      <td>N</td>\n      <td>7</td>\n      <td>N</td>\n      <td>-29800</td>\n    </tr>\n    <tr>\n      <th>74</th>\n      <td>2022-01-03</td>\n      <td>-4300.0</td>\n      <td>N</td>\n      <td>10</td>\n      <td>N</td>\n      <td>-34100</td>\n    </tr>\n    <tr>\n      <th>75</th>\n      <td>2022-01-04</td>\n      <td>-1000.0</td>\n      <td>N</td>\n      <td>1</td>\n      <td>N</td>\n      <td>-35100</td>\n    </tr>\n  </tbody>\n</table>\n<p>76 rows × 6 columns</p>\n</div>"
     },
     "execution_count": 488,
     "metadata": {},
     "output_type": "execute_result"
    }
   ],
   "source": [
    "MatchResultsGroup"
   ],
   "metadata": {
    "collapsed": false,
    "pycharm": {
     "name": "#%%\n"
    }
   }
  },
  {
   "cell_type": "code",
   "execution_count": 476,
   "outputs": [
    {
     "name": "stderr",
     "output_type": "stream",
     "text": [
      "C:\\Users\\xin\\AppData\\Local\\Temp/ipykernel_15548/3872322315.py:7: SettingWithCopyWarning: \n",
      "A value is trying to be set on a copy of a slice from a DataFrame.\n",
      "Try using .loc[row_indexer,col_indexer] = value instead\n",
      "\n",
      "See the caveats in the documentation: https://pandas.pydata.org/pandas-docs/stable/user_guide/indexing.html#returning-a-view-versus-a-copy\n",
      "  MatchResultsGroup['isMkMoney'] = MatchResultsGroup.profit.apply(lambda p: 1 if p > 0 else 0)\n",
      "C:\\Users\\xin\\AppData\\Local\\Temp/ipykernel_15548/3872322315.py:8: SettingWithCopyWarning: \n",
      "A value is trying to be set on a copy of a slice from a DataFrame.\n",
      "Try using .loc[row_indexer,col_indexer] = value instead\n",
      "\n",
      "See the caveats in the documentation: https://pandas.pydata.org/pandas-docs/stable/user_guide/indexing.html#returning-a-view-versus-a-copy\n",
      "  MatchResultsGroup['gms'] = MatchResultsGroup.profit.apply(lambda p: 1)\n"
     ]
    },
    {
     "data": {
      "text/plain": "<Figure size 1440x720 with 1 Axes>",
      "image/png": "[encoded data removed]"
     },
     "metadata": {
      "needs_background": "light"
     },
     "output_type": "display_data"
    }
   ],
   "source": [
    "import matplotlib.dates as mdates\n",
    "import seaborn as sns\n",
    "# 每天虛擬獲利情形\n",
    "fig = plt.figure(figsize=(20,10))\n",
    "ax = plt.gca()\n",
    "MatchResultsGroup = MatchResults2[['gmDate','profit']]\n",
    "MatchResultsGroup['isMkMoney'] = MatchResultsGroup.profit.apply(lambda p: 1 if p > 0 else 0)\n",
    "MatchResultsGroup['gms'] = MatchResultsGroup.profit.apply(lambda p: 1)\n",
    "MatchResultsGroup = MatchResultsGroup[['gmDate','profit','isMkMoney','gms']].groupby(['gmDate']).sum().reset_index()\n",
    "MatchResultsGroup['>=50%'] = np.where(MatchResultsGroup['isMkMoney']/MatchResultsGroup['gms'] >= 0.5,'Y','N')\n",
    "MatchResultsGroup['isMkMoney' ]= MatchResultsGroup.profit.apply(lambda p: 'Y' if p > 0 else 'N')\n",
    "\n",
    "ax = sns.barplot(x='gmDate', y='profit', data=MatchResultsGroup,hue = 'isMkMoney')\n",
    "ax.xaxis.set_major_locator(mdates.WeekdayLocator(interval=1))"
   ],
   "metadata": {
    "collapsed": false,
    "pycharm": {
     "name": "#%%\n"
    }
   }
  },
  {
   "cell_type": "code",
   "execution_count": 477,
   "outputs": [
    {
     "name": "stderr",
     "output_type": "stream",
     "text": [
      "C:\\Users\\xin\\AppData\\Local\\Temp/ipykernel_15548/3114824656.py:3: SettingWithCopyWarning: \n",
      "A value is trying to be set on a copy of a slice from a DataFrame.\n",
      "Try using .loc[row_indexer,col_indexer] = value instead\n",
      "\n",
      "See the caveats in the documentation: https://pandas.pydata.org/pandas-docs/stable/user_guide/indexing.html#returning-a-view-versus-a-copy\n",
      "  MatchResultsGroup['isMkMoney'] = MatchResultsGroup.profit.apply(lambda p: 1 if p > 0 else 0)\n",
      "C:\\Users\\xin\\AppData\\Local\\Temp/ipykernel_15548/3114824656.py:4: SettingWithCopyWarning: \n",
      "A value is trying to be set on a copy of a slice from a DataFrame.\n",
      "Try using .loc[row_indexer,col_indexer] = value instead\n",
      "\n",
      "See the caveats in the documentation: https://pandas.pydata.org/pandas-docs/stable/user_guide/indexing.html#returning-a-view-versus-a-copy\n",
      "  MatchResultsGroup['gms'] = MatchResultsGroup.profit.apply(lambda p: 1)\n"
     ]
    },
    {
     "data": {
      "text/plain": "<AxesSubplot:ylabel='>50%'>"
     },
     "execution_count": 477,
     "metadata": {},
     "output_type": "execute_result"
    },
    {
     "data": {
      "text/plain": "<Figure size 432x288 with 1 Axes>",
      "image/png": "[encoded data removed]"
     },
     "metadata": {
      "needs_background": "light"
     },
     "output_type": "display_data"
    }
   ],
   "source": [
    "# 計天猜中>50%與<50%總數\n",
    "MatchResultsGroup = MatchResults2[['gmDate','profit']]\n",
    "MatchResultsGroup['isMkMoney'] = MatchResultsGroup.profit.apply(lambda p: 1 if p > 0 else 0)\n",
    "MatchResultsGroup['gms'] = MatchResultsGroup.profit.apply(lambda p: 1)\n",
    "MatchResultsGroup = MatchResultsGroup[['gmDate','profit','isMkMoney','gms']].groupby(['gmDate']).sum().reset_index()\n",
    "MatchResultsGroup['>=50%'] = np.where(MatchResultsGroup['isMkMoney']/MatchResultsGroup['gms'] >= 0.5,'Y','N')\n",
    "MatchResultsGroup['isMkMoney' ]= MatchResultsGroup.profit.apply(lambda p: 'Y' if p > 0 else 'N')\n",
    "\n",
    "sns.barplot( x =['y','n'] ,y='>50%' ,data = pd.DataFrame({'>50%':[int(MatchResultsGroup[MatchResultsGroup['>=50%']=='Y']['>=50%'].count()),int(MatchResultsGroup[MatchResultsGroup['>=50%']=='N']['>=50%'].count())]}))"
   ],
   "metadata": {
    "collapsed": false,
    "pycharm": {
     "name": "#%%\n"
    }
   }
  },
  {
   "cell_type": "code",
   "execution_count": 478,
   "outputs": [
    {
     "name": "stderr",
     "output_type": "stream",
     "text": [
      "C:\\Users\\xin\\AppData\\Local\\Temp/ipykernel_15548/3443735752.py:3: SettingWithCopyWarning: \n",
      "A value is trying to be set on a copy of a slice from a DataFrame.\n",
      "Try using .loc[row_indexer,col_indexer] = value instead\n",
      "\n",
      "See the caveats in the documentation: https://pandas.pydata.org/pandas-docs/stable/user_guide/indexing.html#returning-a-view-versus-a-copy\n",
      "  MatchResultsGroup['isMkMoney'] = MatchResultsGroup.profit.apply(lambda p: 1 if p > 0 else 0)\n",
      "C:\\Users\\xin\\AppData\\Local\\Temp/ipykernel_15548/3443735752.py:4: SettingWithCopyWarning: \n",
      "A value is trying to be set on a copy of a slice from a DataFrame.\n",
      "Try using .loc[row_indexer,col_indexer] = value instead\n",
      "\n",
      "See the caveats in the documentation: https://pandas.pydata.org/pandas-docs/stable/user_guide/indexing.html#returning-a-view-versus-a-copy\n",
      "  MatchResultsGroup['gms'] = MatchResultsGroup.profit.apply(lambda p: 1)\n"
     ]
    },
    {
     "data": {
      "text/plain": "<AxesSubplot:ylabel='isMkMoney'>"
     },
     "execution_count": 478,
     "metadata": {},
     "output_type": "execute_result"
    },
    {
     "data": {
      "text/plain": "<Figure size 432x288 with 1 Axes>",
      "image/png": "[encoded data removed]"
     },
     "metadata": {
      "needs_background": "light"
     },
     "output_type": "display_data"
    }
   ],
   "source": [
    "# 計天虛擬獲利>0與<0總數\n",
    "MatchResultsGroup = MatchResults2[['gmDate','profit']]\n",
    "MatchResultsGroup['isMkMoney'] = MatchResultsGroup.profit.apply(lambda p: 1 if p > 0 else 0)\n",
    "MatchResultsGroup['gms'] = MatchResultsGroup.profit.apply(lambda p: 1)\n",
    "MatchResultsGroup = MatchResultsGroup[['gmDate','profit','isMkMoney','gms']].groupby(['gmDate']).sum().reset_index()\n",
    "MatchResultsGroup['>=50%'] = np.where(MatchResultsGroup['isMkMoney']/MatchResultsGroup['gms'] >= 0.5,'Y','N')\n",
    "MatchResultsGroup['isMkMoney' ]= MatchResultsGroup.profit.apply(lambda p: 'Y' if p > 0 else 'N')\n",
    "\n",
    "sns.barplot( x =['y','n'] ,y='isMkMoney' ,data = pd.DataFrame({'isMkMoney':[int(MatchResultsGroup[MatchResultsGroup['isMkMoney']=='Y']['isMkMoney'].count()),int(MatchResultsGroup[MatchResultsGroup['isMkMoney']=='N']['isMkMoney'].count())]}))"
   ],
   "metadata": {
    "collapsed": false,
    "pycharm": {
     "name": "#%%\n"
    }
   }
  },
  {
   "cell_type": "code",
   "execution_count": 479,
   "outputs": [
    {
     "name": "stderr",
     "output_type": "stream",
     "text": [
      "C:\\Users\\xin\\AppData\\Local\\Temp/ipykernel_15548/2161554215.py:3: SettingWithCopyWarning: \n",
      "A value is trying to be set on a copy of a slice from a DataFrame.\n",
      "Try using .loc[row_indexer,col_indexer] = value instead\n",
      "\n",
      "See the caveats in the documentation: https://pandas.pydata.org/pandas-docs/stable/user_guide/indexing.html#returning-a-view-versus-a-copy\n",
      "  MatchResultsGroup['isMkMoney'] = MatchResultsGroup.profit.apply(lambda p: 1 if p > 0 else 0)\n",
      "C:\\Users\\xin\\AppData\\Local\\Temp/ipykernel_15548/2161554215.py:4: SettingWithCopyWarning: \n",
      "A value is trying to be set on a copy of a slice from a DataFrame.\n",
      "Try using .loc[row_indexer,col_indexer] = value instead\n",
      "\n",
      "See the caveats in the documentation: https://pandas.pydata.org/pandas-docs/stable/user_guide/indexing.html#returning-a-view-versus-a-copy\n",
      "  MatchResultsGroup['gms'] = MatchResultsGroup.profit.apply(lambda p: 1)\n"
     ]
    },
    {
     "data": {
      "text/plain": "<AxesSubplot:ylabel='isMkMoney'>"
     },
     "execution_count": 479,
     "metadata": {},
     "output_type": "execute_result"
    },
    {
     "data": {
      "text/plain": "<Figure size 432x288 with 1 Axes>",
      "image/png": "[encoded data removed]"
     },
     "metadata": {
      "needs_background": "light"
     },
     "output_type": "display_data"
    }
   ],
   "source": [
    "# 計天猜中>50%且虛擬獲利>0總數\n",
    "MatchResultsGroup = MatchResults2[['gmDate','profit']]\n",
    "MatchResultsGroup['isMkMoney'] = MatchResultsGroup.profit.apply(lambda p: 1 if p > 0 else 0)\n",
    "MatchResultsGroup['gms'] = MatchResultsGroup.profit.apply(lambda p: 1)\n",
    "MatchResultsGroup = MatchResultsGroup[['gmDate','profit','isMkMoney','gms']].groupby(['gmDate']).sum().reset_index()\n",
    "MatchResultsGroup['>=50%'] = np.where(MatchResultsGroup['isMkMoney']/MatchResultsGroup['gms'] >= 0.5,'Y','N')\n",
    "MatchResultsGroup['isMkMoney' ]= MatchResultsGroup.profit.apply(lambda p: 'Y' if p > 0 else 'N')\n",
    "\n",
    "sns.barplot( x =['y','n'] ,y='isMkMoney' ,data = pd.DataFrame({'isMkMoney':[int(MatchResultsGroup[MatchResultsGroup['isMkMoney']=='Y']['isMkMoney'].count()),int(MatchResultsGroup[MatchResultsGroup['isMkMoney']=='N']['isMkMoney'].count())]}))"
   ],
   "metadata": {
    "collapsed": false,
    "pycharm": {
     "name": "#%%\n"
    }
   }
  },
  {
   "cell_type": "code",
   "execution_count": null,
   "outputs": [],
   "source": [],
   "metadata": {
    "collapsed": false,
    "pycharm": {
     "name": "#%%\n"
    }
   }
  }
 ],
 "metadata": {
  "kernelspec": {
   "display_name": "Python 3",
   "language": "python",
   "name": "python3"
  },
  "language_info": {
   "codemirror_mode": {
    "name": "ipython",
    "version": 2
   },
   "file_extension": ".py",
   "mimetype": "text/x-python",
   "name": "python",
   "nbconvert_exporter": "python",
   "pygments_lexer": "ipython2",
   "version": "2.7.6"
  }
 },
 "nbformat": 4,
 "nbformat_minor": 0
}