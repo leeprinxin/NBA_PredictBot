{
 "cells": [
  {
   "cell_type": "code",
   "execution_count": 2,
   "metadata": {
    "collapsed": true
   },
   "outputs": [],
   "source": [
    "import numpy as np\n",
    "import pandas as pd\n",
    "from datetime import datetime\n",
    "import warnings\n",
    "warnings.filterwarnings(\"ignore\", category=UserWarning)"
   ]
  },
  {
   "cell_type": "markdown",
   "source": [
    "# 載入資料與資料清理"
   ],
   "metadata": {
    "collapsed": false,
    "pycharm": {
     "name": "#%% md\n"
    }
   }
  },
  {
   "cell_type": "code",
   "execution_count": 2,
   "outputs": [
    {
     "name": "stdout",
     "output_type": "stream",
     "text": [
      "(1674, 138)\n"
     ]
    },
    {
     "data": {
      "text/plain": "          gmDate gmTime seasType  offLNm1  offFNm1  offLNm2  offFNm2  OffLNm3  \\\n0     2021/10/19  19:30  Regular      NaN      NaN      NaN      NaN      NaN   \n1     2021/10/19  19:30  Regular      NaN      NaN      NaN      NaN      NaN   \n2     2021/10/19  22:00  Regular      NaN      NaN      NaN      NaN      NaN   \n3     2021/10/19  22:00  Regular      NaN      NaN      NaN      NaN      NaN   \n4     2021/10/20  19:00  Regular      NaN      NaN      NaN      NaN      NaN   \n...          ...    ...      ...      ...      ...      ...      ...      ...   \n1669  2022/02/12  21:00  Regular      NaN      NaN      NaN      NaN      NaN   \n1670  2022/02/13  14:00  Regular      NaN      NaN      NaN      NaN      NaN   \n1671  2022/02/13  14:00  Regular      NaN      NaN      NaN      NaN      NaN   \n1672  2022/02/13  15:00  Regular      NaN      NaN      NaN      NaN      NaN   \n1673  2022/02/13  15:00  Regular      NaN      NaN      NaN      NaN      NaN   \n\n      offFNm3                teamAbbr  ...  away1x2LastRTP home1x2KellyIndex  \\\n0         NaN           Brooklyn Nets  ...           95.85              0.95   \n1         NaN         Milwaukee Bucks  ...           95.85              0.95   \n2         NaN   Golden State Warriors  ...           96.71              0.96   \n3         NaN      Los Angeles Lakers  ...           96.71              0.96   \n4         NaN          Indiana Pacers  ...           95.84              0.96   \n...       ...                     ...  ...             ...               ...   \n1669      NaN            Phoenix Suns  ...           97.39              0.96   \n1670      NaN           Atlanta Hawks  ...           95.60              0.96   \n1671      NaN          Boston Celtics  ...           95.60              0.96   \n1672      NaN  Minnesota Timberwolves  ...           95.61              0.95   \n1673      NaN          Indiana Pacers  ...           95.61              0.95   \n\n     away1x2KellyIndex  OverFirstOptionRate  UnderFirstOptionRate  \\\n0                 0.96                 0.90                  0.90   \n1                 0.96                 0.90                  0.90   \n2                 0.98                 0.90                  0.90   \n3                 0.98                 0.90                  0.90   \n4                 0.95                 0.90                  0.90   \n...                ...                  ...                   ...   \n1669              1.08                 0.91                  0.91   \n1670              0.95                 0.91                  0.91   \n1671              0.95                 0.91                  0.91   \n1672              0.96                 0.91                  0.91   \n1673              0.96                 0.91                  0.91   \n\n      OverUnderFirstSpecialBetValue  OverLastOptionRate  UnderLastOptionRate  \\\n0                             240.5                0.86                 0.86   \n1                             240.5                0.86                 0.86   \n2                             230.5                1.00                 0.76   \n3                             230.5                1.00                 0.76   \n4                             228.5                0.83                 0.90   \n...                             ...                 ...                  ...   \n1669                          225.5                0.95                 0.80   \n1670                          220.5                0.95                 0.80   \n1671                          220.5                0.95                 0.80   \n1672                          236.5                0.80                 0.95   \n1673                          236.5                0.80                 0.95   \n\n      OverUnderLastSpecialBetValue  \\\n0                            233.5   \n1                            233.5   \n2                            230.5   \n3                            230.5   \n4                            242.5   \n...                            ...   \n1669                         234.5   \n1670                         204.5   \n1671                         204.5   \n1672                         255.5   \n1673                         255.5   \n\n                                          SourceUrl  \n0     http://nba.win007.com/1x2/oddslist/429690.htm  \n1     http://nba.win007.com/1x2/oddslist/429690.htm  \n2     http://nba.win007.com/1x2/oddslist/429689.htm  \n3     http://nba.win007.com/1x2/oddslist/429689.htm  \n4     http://nba.win007.com/1x2/oddslist/429870.htm  \n...                                             ...  \n1669  http://nba.win007.com/1x2/oddslist/431894.htm  \n1670  http://nba.win007.com/1x2/oddslist/431895.htm  \n1671  http://nba.win007.com/1x2/oddslist/431895.htm  \n1672  http://nba.win007.com/1x2/oddslist/431896.htm  \n1673  http://nba.win007.com/1x2/oddslist/431896.htm  \n\n[1674 rows x 138 columns]",
      "text/html": "<div>\n<style scoped>\n    .dataframe tbody tr th:only-of-type {\n        vertical-align: middle;\n    }\n\n    .dataframe tbody tr th {\n        vertical-align: top;\n    }\n\n    .dataframe thead th {\n        text-align: right;\n    }\n</style>\n<table border=\"1\" class=\"dataframe\">\n  <thead>\n    <tr style=\"text-align: right;\">\n      <th></th>\n      <th>gmDate</th>\n      <th>gmTime</th>\n      <th>seasType</th>\n      <th>offLNm1</th>\n      <th>offFNm1</th>\n      <th>offLNm2</th>\n      <th>offFNm2</th>\n      <th>OffLNm3</th>\n      <th>offFNm3</th>\n      <th>teamAbbr</th>\n      <th>...</th>\n      <th>away1x2LastRTP</th>\n      <th>home1x2KellyIndex</th>\n      <th>away1x2KellyIndex</th>\n      <th>OverFirstOptionRate</th>\n      <th>UnderFirstOptionRate</th>\n      <th>OverUnderFirstSpecialBetValue</th>\n      <th>OverLastOptionRate</th>\n      <th>UnderLastOptionRate</th>\n      <th>OverUnderLastSpecialBetValue</th>\n      <th>SourceUrl</th>\n    </tr>\n  </thead>\n  <tbody>\n    <tr>\n      <th>0</th>\n      <td>2021/10/19</td>\n      <td>19:30</td>\n      <td>Regular</td>\n      <td>NaN</td>\n      <td>NaN</td>\n      <td>NaN</td>\n      <td>NaN</td>\n      <td>NaN</td>\n      <td>NaN</td>\n      <td>Brooklyn Nets</td>\n      <td>...</td>\n      <td>95.85</td>\n      <td>0.95</td>\n      <td>0.96</td>\n      <td>0.90</td>\n      <td>0.90</td>\n      <td>240.5</td>\n      <td>0.86</td>\n      <td>0.86</td>\n      <td>233.5</td>\n      <td>http://nba.win007.com/1x2/oddslist/429690.htm</td>\n    </tr>\n    <tr>\n      <th>1</th>\n      <td>2021/10/19</td>\n      <td>19:30</td>\n      <td>Regular</td>\n      <td>NaN</td>\n      <td>NaN</td>\n      <td>NaN</td>\n      <td>NaN</td>\n      <td>NaN</td>\n      <td>NaN</td>\n      <td>Milwaukee Bucks</td>\n      <td>...</td>\n      <td>95.85</td>\n      <td>0.95</td>\n      <td>0.96</td>\n      <td>0.90</td>\n      <td>0.90</td>\n      <td>240.5</td>\n      <td>0.86</td>\n      <td>0.86</td>\n      <td>233.5</td>\n      <td>http://nba.win007.com/1x2/oddslist/429690.htm</td>\n    </tr>\n    <tr>\n      <th>2</th>\n      <td>2021/10/19</td>\n      <td>22:00</td>\n      <td>Regular</td>\n      <td>NaN</td>\n      <td>NaN</td>\n      <td>NaN</td>\n      <td>NaN</td>\n      <td>NaN</td>\n      <td>NaN</td>\n      <td>Golden State Warriors</td>\n      <td>...</td>\n      <td>96.71</td>\n      <td>0.96</td>\n      <td>0.98</td>\n      <td>0.90</td>\n      <td>0.90</td>\n      <td>230.5</td>\n      <td>1.00</td>\n      <td>0.76</td>\n      <td>230.5</td>\n      <td>http://nba.win007.com/1x2/oddslist/429689.htm</td>\n    </tr>\n    <tr>\n      <th>3</th>\n      <td>2021/10/19</td>\n      <td>22:00</td>\n      <td>Regular</td>\n      <td>NaN</td>\n      <td>NaN</td>\n      <td>NaN</td>\n      <td>NaN</td>\n      <td>NaN</td>\n      <td>NaN</td>\n      <td>Los Angeles Lakers</td>\n      <td>...</td>\n      <td>96.71</td>\n      <td>0.96</td>\n      <td>0.98</td>\n      <td>0.90</td>\n      <td>0.90</td>\n      <td>230.5</td>\n      <td>1.00</td>\n      <td>0.76</td>\n      <td>230.5</td>\n      <td>http://nba.win007.com/1x2/oddslist/429689.htm</td>\n    </tr>\n    <tr>\n      <th>4</th>\n      <td>2021/10/20</td>\n      <td>19:00</td>\n      <td>Regular</td>\n      <td>NaN</td>\n      <td>NaN</td>\n      <td>NaN</td>\n      <td>NaN</td>\n      <td>NaN</td>\n      <td>NaN</td>\n      <td>Indiana Pacers</td>\n      <td>...</td>\n      <td>95.84</td>\n      <td>0.96</td>\n      <td>0.95</td>\n      <td>0.90</td>\n      <td>0.90</td>\n      <td>228.5</td>\n      <td>0.83</td>\n      <td>0.90</td>\n      <td>242.5</td>\n      <td>http://nba.win007.com/1x2/oddslist/429870.htm</td>\n    </tr>\n    <tr>\n      <th>...</th>\n      <td>...</td>\n      <td>...</td>\n      <td>...</td>\n      <td>...</td>\n      <td>...</td>\n      <td>...</td>\n      <td>...</td>\n      <td>...</td>\n      <td>...</td>\n      <td>...</td>\n      <td>...</td>\n      <td>...</td>\n      <td>...</td>\n      <td>...</td>\n      <td>...</td>\n      <td>...</td>\n      <td>...</td>\n      <td>...</td>\n      <td>...</td>\n      <td>...</td>\n      <td>...</td>\n    </tr>\n    <tr>\n      <th>1669</th>\n      <td>2022/02/12</td>\n      <td>21:00</td>\n      <td>Regular</td>\n      <td>NaN</td>\n      <td>NaN</td>\n      <td>NaN</td>\n      <td>NaN</td>\n      <td>NaN</td>\n      <td>NaN</td>\n      <td>Phoenix Suns</td>\n      <td>...</td>\n      <td>97.39</td>\n      <td>0.96</td>\n      <td>1.08</td>\n      <td>0.91</td>\n      <td>0.91</td>\n      <td>225.5</td>\n      <td>0.95</td>\n      <td>0.80</td>\n      <td>234.5</td>\n      <td>http://nba.win007.com/1x2/oddslist/431894.htm</td>\n    </tr>\n    <tr>\n      <th>1670</th>\n      <td>2022/02/13</td>\n      <td>14:00</td>\n      <td>Regular</td>\n      <td>NaN</td>\n      <td>NaN</td>\n      <td>NaN</td>\n      <td>NaN</td>\n      <td>NaN</td>\n      <td>NaN</td>\n      <td>Atlanta Hawks</td>\n      <td>...</td>\n      <td>95.60</td>\n      <td>0.96</td>\n      <td>0.95</td>\n      <td>0.91</td>\n      <td>0.91</td>\n      <td>220.5</td>\n      <td>0.95</td>\n      <td>0.80</td>\n      <td>204.5</td>\n      <td>http://nba.win007.com/1x2/oddslist/431895.htm</td>\n    </tr>\n    <tr>\n      <th>1671</th>\n      <td>2022/02/13</td>\n      <td>14:00</td>\n      <td>Regular</td>\n      <td>NaN</td>\n      <td>NaN</td>\n      <td>NaN</td>\n      <td>NaN</td>\n      <td>NaN</td>\n      <td>NaN</td>\n      <td>Boston Celtics</td>\n      <td>...</td>\n      <td>95.60</td>\n      <td>0.96</td>\n      <td>0.95</td>\n      <td>0.91</td>\n      <td>0.91</td>\n      <td>220.5</td>\n      <td>0.95</td>\n      <td>0.80</td>\n      <td>204.5</td>\n      <td>http://nba.win007.com/1x2/oddslist/431895.htm</td>\n    </tr>\n    <tr>\n      <th>1672</th>\n      <td>2022/02/13</td>\n      <td>15:00</td>\n      <td>Regular</td>\n      <td>NaN</td>\n      <td>NaN</td>\n      <td>NaN</td>\n      <td>NaN</td>\n      <td>NaN</td>\n      <td>NaN</td>\n      <td>Minnesota Timberwolves</td>\n      <td>...</td>\n      <td>95.61</td>\n      <td>0.95</td>\n      <td>0.96</td>\n      <td>0.91</td>\n      <td>0.91</td>\n      <td>236.5</td>\n      <td>0.80</td>\n      <td>0.95</td>\n      <td>255.5</td>\n      <td>http://nba.win007.com/1x2/oddslist/431896.htm</td>\n    </tr>\n    <tr>\n      <th>1673</th>\n      <td>2022/02/13</td>\n      <td>15:00</td>\n      <td>Regular</td>\n      <td>NaN</td>\n      <td>NaN</td>\n      <td>NaN</td>\n      <td>NaN</td>\n      <td>NaN</td>\n      <td>NaN</td>\n      <td>Indiana Pacers</td>\n      <td>...</td>\n      <td>95.61</td>\n      <td>0.95</td>\n      <td>0.96</td>\n      <td>0.91</td>\n      <td>0.91</td>\n      <td>236.5</td>\n      <td>0.80</td>\n      <td>0.95</td>\n      <td>255.5</td>\n      <td>http://nba.win007.com/1x2/oddslist/431896.htm</td>\n    </tr>\n  </tbody>\n</table>\n<p>1674 rows × 138 columns</p>\n</div>"
     },
     "execution_count": 2,
     "metadata": {},
     "output_type": "execute_result"
    }
   ],
   "source": [
    "nba_df = pd.DataFrame([])\n",
    "for year in range(2021,2022):\n",
    "    nba_df = pd.concat([nba_df,pd.read_csv(f\"NBA_DATA3-5/{year}_TeamGameStatsAndOdds.csv\")],ignore_index=True)\n",
    "print(nba_df.shape)\n",
    "nba_df"
   ],
   "metadata": {
    "collapsed": false,
    "pycharm": {
     "name": "#%%\n"
    }
   }
  },
  {
   "cell_type": "code",
   "execution_count": 3,
   "outputs": [
    {
     "data": {
      "text/plain": "          gmDate gmTime seasType                teamAbbr teamLoc teamRslt  \\\n0     2021/10/19  19:30  Regular           Brooklyn Nets    Away     Loss   \n1     2021/10/19  19:30  Regular         Milwaukee Bucks    Home      Win   \n2     2021/10/19  22:00  Regular   Golden State Warriors    Away      Win   \n3     2021/10/19  22:00  Regular      Los Angeles Lakers    Home     Loss   \n4     2021/10/20  19:00  Regular          Indiana Pacers    Away     Loss   \n...          ...    ...      ...                     ...     ...      ...   \n1669  2022/02/12  21:00  Regular            Phoenix Suns    Home      Win   \n1670  2022/02/13  14:00  Regular           Atlanta Hawks    Away     Loss   \n1671  2022/02/13  14:00  Regular          Boston Celtics    Home      Win   \n1672  2022/02/13  15:00  Regular  Minnesota Timberwolves    Away      Win   \n1673  2022/02/13  15:00  Regular          Indiana Pacers    Home     Loss   \n\n      teamMin  teamPTS  teamAST  teamTO  ...  away1x2LastRTP  \\\n0         240      104       19      12  ...           95.85   \n1         240      127       25       7  ...           95.85   \n2         240      121       30      17  ...           96.71   \n3         240      114       21      17  ...           96.71   \n4         240      122       29      16  ...           95.84   \n...       ...      ...      ...     ...  ...             ...   \n1669      240      132       40       7  ...           97.39   \n1670      240       95       18      13  ...           95.60   \n1671      240      105       21      12  ...           95.60   \n1672      240      129       23      13  ...           95.61   \n1673      240      120       28      13  ...           95.61   \n\n      home1x2KellyIndex  away1x2KellyIndex  OverFirstOptionRate  \\\n0                  0.95               0.96                 0.90   \n1                  0.95               0.96                 0.90   \n2                  0.96               0.98                 0.90   \n3                  0.96               0.98                 0.90   \n4                  0.96               0.95                 0.90   \n...                 ...                ...                  ...   \n1669               0.96               1.08                 0.91   \n1670               0.96               0.95                 0.91   \n1671               0.96               0.95                 0.91   \n1672               0.95               0.96                 0.91   \n1673               0.95               0.96                 0.91   \n\n      UnderFirstOptionRate  OverUnderFirstSpecialBetValue  OverLastOptionRate  \\\n0                     0.90                          240.5                0.86   \n1                     0.90                          240.5                0.86   \n2                     0.90                          230.5                1.00   \n3                     0.90                          230.5                1.00   \n4                     0.90                          228.5                0.83   \n...                    ...                            ...                 ...   \n1669                  0.91                          225.5                0.95   \n1670                  0.91                          220.5                0.95   \n1671                  0.91                          220.5                0.95   \n1672                  0.91                          236.5                0.80   \n1673                  0.91                          236.5                0.80   \n\n      UnderLastOptionRate  OverUnderLastSpecialBetValue  \\\n0                    0.86                         233.5   \n1                    0.86                         233.5   \n2                    0.76                         230.5   \n3                    0.76                         230.5   \n4                    0.90                         242.5   \n...                   ...                           ...   \n1669                 0.80                         234.5   \n1670                 0.80                         204.5   \n1671                 0.80                         204.5   \n1672                 0.95                         255.5   \n1673                 0.95                         255.5   \n\n                                          SourceUrl  \n0     http://nba.win007.com/1x2/oddslist/429690.htm  \n1     http://nba.win007.com/1x2/oddslist/429690.htm  \n2     http://nba.win007.com/1x2/oddslist/429689.htm  \n3     http://nba.win007.com/1x2/oddslist/429689.htm  \n4     http://nba.win007.com/1x2/oddslist/429870.htm  \n...                                             ...  \n1669  http://nba.win007.com/1x2/oddslist/431894.htm  \n1670  http://nba.win007.com/1x2/oddslist/431895.htm  \n1671  http://nba.win007.com/1x2/oddslist/431895.htm  \n1672  http://nba.win007.com/1x2/oddslist/431896.htm  \n1673  http://nba.win007.com/1x2/oddslist/431896.htm  \n\n[1674 rows x 92 columns]",
      "text/html": "<div>\n<style scoped>\n    .dataframe tbody tr th:only-of-type {\n        vertical-align: middle;\n    }\n\n    .dataframe tbody tr th {\n        vertical-align: top;\n    }\n\n    .dataframe thead th {\n        text-align: right;\n    }\n</style>\n<table border=\"1\" class=\"dataframe\">\n  <thead>\n    <tr style=\"text-align: right;\">\n      <th></th>\n      <th>gmDate</th>\n      <th>gmTime</th>\n      <th>seasType</th>\n      <th>teamAbbr</th>\n      <th>teamLoc</th>\n      <th>teamRslt</th>\n      <th>teamMin</th>\n      <th>teamPTS</th>\n      <th>teamAST</th>\n      <th>teamTO</th>\n      <th>...</th>\n      <th>away1x2LastRTP</th>\n      <th>home1x2KellyIndex</th>\n      <th>away1x2KellyIndex</th>\n      <th>OverFirstOptionRate</th>\n      <th>UnderFirstOptionRate</th>\n      <th>OverUnderFirstSpecialBetValue</th>\n      <th>OverLastOptionRate</th>\n      <th>UnderLastOptionRate</th>\n      <th>OverUnderLastSpecialBetValue</th>\n      <th>SourceUrl</th>\n    </tr>\n  </thead>\n  <tbody>\n    <tr>\n      <th>0</th>\n      <td>2021/10/19</td>\n      <td>19:30</td>\n      <td>Regular</td>\n      <td>Brooklyn Nets</td>\n      <td>Away</td>\n      <td>Loss</td>\n      <td>240</td>\n      <td>104</td>\n      <td>19</td>\n      <td>12</td>\n      <td>...</td>\n      <td>95.85</td>\n      <td>0.95</td>\n      <td>0.96</td>\n      <td>0.90</td>\n      <td>0.90</td>\n      <td>240.5</td>\n      <td>0.86</td>\n      <td>0.86</td>\n      <td>233.5</td>\n      <td>http://nba.win007.com/1x2/oddslist/429690.htm</td>\n    </tr>\n    <tr>\n      <th>1</th>\n      <td>2021/10/19</td>\n      <td>19:30</td>\n      <td>Regular</td>\n      <td>Milwaukee Bucks</td>\n      <td>Home</td>\n      <td>Win</td>\n      <td>240</td>\n      <td>127</td>\n      <td>25</td>\n      <td>7</td>\n      <td>...</td>\n      <td>95.85</td>\n      <td>0.95</td>\n      <td>0.96</td>\n      <td>0.90</td>\n      <td>0.90</td>\n      <td>240.5</td>\n      <td>0.86</td>\n      <td>0.86</td>\n      <td>233.5</td>\n      <td>http://nba.win007.com/1x2/oddslist/429690.htm</td>\n    </tr>\n    <tr>\n      <th>2</th>\n      <td>2021/10/19</td>\n      <td>22:00</td>\n      <td>Regular</td>\n      <td>Golden State Warriors</td>\n      <td>Away</td>\n      <td>Win</td>\n      <td>240</td>\n      <td>121</td>\n      <td>30</td>\n      <td>17</td>\n      <td>...</td>\n      <td>96.71</td>\n      <td>0.96</td>\n      <td>0.98</td>\n      <td>0.90</td>\n      <td>0.90</td>\n      <td>230.5</td>\n      <td>1.00</td>\n      <td>0.76</td>\n      <td>230.5</td>\n      <td>http://nba.win007.com/1x2/oddslist/429689.htm</td>\n    </tr>\n    <tr>\n      <th>3</th>\n      <td>2021/10/19</td>\n      <td>22:00</td>\n      <td>Regular</td>\n      <td>Los Angeles Lakers</td>\n      <td>Home</td>\n      <td>Loss</td>\n      <td>240</td>\n      <td>114</td>\n      <td>21</td>\n      <td>17</td>\n      <td>...</td>\n      <td>96.71</td>\n      <td>0.96</td>\n      <td>0.98</td>\n      <td>0.90</td>\n      <td>0.90</td>\n      <td>230.5</td>\n      <td>1.00</td>\n      <td>0.76</td>\n      <td>230.5</td>\n      <td>http://nba.win007.com/1x2/oddslist/429689.htm</td>\n    </tr>\n    <tr>\n      <th>4</th>\n      <td>2021/10/20</td>\n      <td>19:00</td>\n      <td>Regular</td>\n      <td>Indiana Pacers</td>\n      <td>Away</td>\n      <td>Loss</td>\n      <td>240</td>\n      <td>122</td>\n      <td>29</td>\n      <td>16</td>\n      <td>...</td>\n      <td>95.84</td>\n      <td>0.96</td>\n      <td>0.95</td>\n      <td>0.90</td>\n      <td>0.90</td>\n      <td>228.5</td>\n      <td>0.83</td>\n      <td>0.90</td>\n      <td>242.5</td>\n      <td>http://nba.win007.com/1x2/oddslist/429870.htm</td>\n    </tr>\n    <tr>\n      <th>...</th>\n      <td>...</td>\n      <td>...</td>\n      <td>...</td>\n      <td>...</td>\n      <td>...</td>\n      <td>...</td>\n      <td>...</td>\n      <td>...</td>\n      <td>...</td>\n      <td>...</td>\n      <td>...</td>\n      <td>...</td>\n      <td>...</td>\n      <td>...</td>\n      <td>...</td>\n      <td>...</td>\n      <td>...</td>\n      <td>...</td>\n      <td>...</td>\n      <td>...</td>\n      <td>...</td>\n    </tr>\n    <tr>\n      <th>1669</th>\n      <td>2022/02/12</td>\n      <td>21:00</td>\n      <td>Regular</td>\n      <td>Phoenix Suns</td>\n      <td>Home</td>\n      <td>Win</td>\n      <td>240</td>\n      <td>132</td>\n      <td>40</td>\n      <td>7</td>\n      <td>...</td>\n      <td>97.39</td>\n      <td>0.96</td>\n      <td>1.08</td>\n      <td>0.91</td>\n      <td>0.91</td>\n      <td>225.5</td>\n      <td>0.95</td>\n      <td>0.80</td>\n      <td>234.5</td>\n      <td>http://nba.win007.com/1x2/oddslist/431894.htm</td>\n    </tr>\n    <tr>\n      <th>1670</th>\n      <td>2022/02/13</td>\n      <td>14:00</td>\n      <td>Regular</td>\n      <td>Atlanta Hawks</td>\n      <td>Away</td>\n      <td>Loss</td>\n      <td>240</td>\n      <td>95</td>\n      <td>18</td>\n      <td>13</td>\n      <td>...</td>\n      <td>95.60</td>\n      <td>0.96</td>\n      <td>0.95</td>\n      <td>0.91</td>\n      <td>0.91</td>\n      <td>220.5</td>\n      <td>0.95</td>\n      <td>0.80</td>\n      <td>204.5</td>\n      <td>http://nba.win007.com/1x2/oddslist/431895.htm</td>\n    </tr>\n    <tr>\n      <th>1671</th>\n      <td>2022/02/13</td>\n      <td>14:00</td>\n      <td>Regular</td>\n      <td>Boston Celtics</td>\n      <td>Home</td>\n      <td>Win</td>\n      <td>240</td>\n      <td>105</td>\n      <td>21</td>\n      <td>12</td>\n      <td>...</td>\n      <td>95.60</td>\n      <td>0.96</td>\n      <td>0.95</td>\n      <td>0.91</td>\n      <td>0.91</td>\n      <td>220.5</td>\n      <td>0.95</td>\n      <td>0.80</td>\n      <td>204.5</td>\n      <td>http://nba.win007.com/1x2/oddslist/431895.htm</td>\n    </tr>\n    <tr>\n      <th>1672</th>\n      <td>2022/02/13</td>\n      <td>15:00</td>\n      <td>Regular</td>\n      <td>Minnesota Timberwolves</td>\n      <td>Away</td>\n      <td>Win</td>\n      <td>240</td>\n      <td>129</td>\n      <td>23</td>\n      <td>13</td>\n      <td>...</td>\n      <td>95.61</td>\n      <td>0.95</td>\n      <td>0.96</td>\n      <td>0.91</td>\n      <td>0.91</td>\n      <td>236.5</td>\n      <td>0.80</td>\n      <td>0.95</td>\n      <td>255.5</td>\n      <td>http://nba.win007.com/1x2/oddslist/431896.htm</td>\n    </tr>\n    <tr>\n      <th>1673</th>\n      <td>2022/02/13</td>\n      <td>15:00</td>\n      <td>Regular</td>\n      <td>Indiana Pacers</td>\n      <td>Home</td>\n      <td>Loss</td>\n      <td>240</td>\n      <td>120</td>\n      <td>28</td>\n      <td>13</td>\n      <td>...</td>\n      <td>95.61</td>\n      <td>0.95</td>\n      <td>0.96</td>\n      <td>0.91</td>\n      <td>0.91</td>\n      <td>236.5</td>\n      <td>0.80</td>\n      <td>0.95</td>\n      <td>255.5</td>\n      <td>http://nba.win007.com/1x2/oddslist/431896.htm</td>\n    </tr>\n  </tbody>\n</table>\n<p>1674 rows × 92 columns</p>\n</div>"
     },
     "execution_count": 3,
     "metadata": {},
     "output_type": "execute_result"
    }
   ],
   "source": [
    "# 刪除資料欄\n",
    "cols_with_missing = ['offLNm1','offFNm1','offLNm2','offFNm2','OffLNm3','offFNm3',\n",
    "\n",
    "                     'teamConf','teamDayOff','team2PA','team2PM','team2P_Percentage','teamPTS1','teamPTS2','teamPTS3','teamPTS4','teamPTS5','teamPTS6','teamPTS7','teamPTS8','teamBLKR',\n",
    "                     'teamPPS','teamFIC','teamFIC40','teamEDiff','teamPlay_Percentage','teamAR',\n",
    "\n",
    "                     'opptConf','opptDayOff','oppt2PA','oppt2PM','oppt2P_Percentage','opptPTS1','opptPTS2','opptPTS3','opptPTS4','opptPTS5','opptPTS6','opptPTS7','opptPTS8','opptBLKR',\n",
    "                     'opptPPS','opptFIC','opptFIC40','opptEDiff','opptPlay_Percentage','opptAR']\n",
    "\n",
    "nba_df.drop(cols_with_missing, axis=1, inplace=True)\n",
    "nba_df"
   ],
   "metadata": {
    "collapsed": false,
    "pycharm": {
     "name": "#%%\n"
    }
   }
  },
  {
   "cell_type": "code",
   "execution_count": 4,
   "outputs": [],
   "source": [
    "# 刪除不相關的資料\n",
    "cols_with_irrelevant = ['seasType','teamMin','opptLoc','opptRslt','opptMin',\n",
    "                        'OverFirstOptionRate','UnderFirstOptionRate','OverUnderFirstSpecialBetValue','OverLastOptionRate','UnderLastOptionRate','OverUnderLastSpecialBetValue','SourceUrl']\n",
    "nba_df.drop(cols_with_irrelevant, axis=1, inplace=True)"
   ],
   "metadata": {
    "collapsed": false,
    "pycharm": {
     "name": "#%%\n"
    }
   }
  },
  {
   "cell_type": "code",
   "execution_count": 5,
   "outputs": [],
   "source": [
    "# 離散資料轉連續數值\n",
    "nba_df['teamLoc'] = nba_df['teamLoc'].replace(['Home', 'Away'], [1,0]).astype(str).astype(int)\n",
    "nba_df['teamRslt'] = nba_df['teamRslt'].replace(['Win', 'Loss'], [1,0]).astype(str).astype(int)"
   ],
   "metadata": {
    "collapsed": false,
    "pycharm": {
     "name": "#%%\n"
    }
   }
  },
  {
   "cell_type": "code",
   "execution_count": 6,
   "outputs": [],
   "source": [
    "#因為一場比賽被劃分成兩筆，所以只取前面為主場那筆\n",
    "nba_df = nba_df[nba_df.teamLoc == 1].reset_index()\n",
    "del nba_df['index']\n",
    "del nba_df['teamLoc']"
   ],
   "metadata": {
    "collapsed": false,
    "pycharm": {
     "name": "#%%\n"
    }
   }
  },
  {
   "cell_type": "code",
   "execution_count": 7,
   "outputs": [],
   "source": [
    "# 更改欄位名稱\n",
    "nba_df.columns = nba_df.columns.str.replace('team', 'home')\n",
    "nba_df.columns = nba_df.columns.str.replace('oppt', 'away')\n",
    "nba_df.columns = nba_df.columns.str.replace('home1x2FirstRTP', '1x2FirstRTP')\n",
    "nba_df.columns = nba_df.columns.str.replace('away1x2LastRTP', '1x2LastRTP')"
   ],
   "metadata": {
    "collapsed": false,
    "pycharm": {
     "name": "#%%\n"
    }
   }
  },
  {
   "cell_type": "code",
   "execution_count": 8,
   "outputs": [],
   "source": [
    "# 補值\n",
    "def Complement(values):\n",
    "    FirstValue = values[0]\n",
    "    FinalValue = values[1]\n",
    "    if pd.isnull(FinalValue) :\n",
    "        return FirstValue\n",
    "    else:\n",
    "        return FinalValue\n",
    "\n",
    "nba_df['home1x2LastOptionRate'] = nba_df[['home1x2FirstOptionRate','home1x2LastOptionRate']].apply(Complement,axis=1)\n",
    "nba_df['away1x2LastOptionRate'] = nba_df[['away1x2FirstOptionRate','away1x2LastOptionRate']].apply(Complement,axis=1)\n",
    "nba_df['home1x2LastWinRate'] = nba_df[['home1x2FirstWinRate','home1x2LastWinRate']].apply(Complement,axis=1)\n",
    "nba_df['away1x2LastWinRate'] = nba_df[['away1x2FirstWinRate','away1x2LastWinRate']].apply(Complement,axis=1)\n",
    "nba_df['1x2LastRTP'] = nba_df[['1x2FirstRTP','1x2LastRTP']].apply(Complement,axis=1)"
   ],
   "metadata": {
    "collapsed": false,
    "pycharm": {
     "name": "#%%\n"
    }
   }
  },
  {
   "cell_type": "code",
   "execution_count": 9,
   "outputs": [
    {
     "data": {
      "text/plain": "         gmDate gmTime            homeAbbr  homeRslt  homePTS  homeAST  \\\n0    2021/10/19  19:30     Milwaukee Bucks         1      127       25   \n1    2021/10/19  22:00  Los Angeles Lakers         0      114       21   \n2    2021/10/20  19:00   Charlotte Hornets         1      123       29   \n3    2021/10/20  19:00     Detroit Pistons         0       88       17   \n4    2021/10/20  19:30     New York Knicks         1      138       27   \n..          ...    ...                 ...       ...      ...      ...   \n819  2022/02/11  20:00       Chicago Bulls         1      134       32   \n820  2022/02/11  21:00           Utah Jazz         1      114       22   \n821  2022/02/12  21:00        Phoenix Suns         1      132       40   \n822  2022/02/13  14:00      Boston Celtics         1      105       21   \n823  2022/02/13  15:00      Indiana Pacers         0      120       28   \n\n     homeTO  homeSTL  homeBLK  homeFGA  ...  home1x2LastOptionRate  \\\n0         7        8        9      105  ...                   1.80   \n1        17        7        4       95  ...                   1.62   \n2         8        9        5      107  ...                   2.05   \n3        16        7        5       90  ...                   2.80   \n4        17        9       10      105  ...                   1.68   \n..      ...      ...      ...      ...  ...                    ...   \n819      13        6        3       87  ...                   1.87   \n820      15       15        5       89  ...                   1.11   \n821       7        8        2      105  ...                   1.06   \n822      12        5        6       85  ...                   1.33   \n823      13        5        6      102  ...                   3.40   \n\n     away1x2LastOptionRate  home1x2FirstWinRate  away1x2FirstWinRate  \\\n0                     2.05                50.00                50.00   \n1                     2.40                65.17                34.83   \n2                     1.80                55.27                44.73   \n3                     1.45                42.75                57.25   \n4                     2.25                52.22                47.78   \n..                     ...                  ...                  ...   \n819                   1.95                62.50                37.50   \n820                   7.00                86.31                13.69   \n821                  12.00                91.21                 8.79   \n822                   3.40                67.87                32.13   \n823                   1.33                32.13                67.87   \n\n     home1x2LastWinRate  away1x2LastWinRate  1x2FirstRTP  1x2LastRTP  \\\n0                 53.25               46.75        95.00       95.85   \n1                 59.70               40.30        95.80       96.71   \n2                 46.75               53.25        96.17       95.84   \n3                 34.12               65.88        96.19       95.54   \n4                 57.25               42.75        95.56       96.18   \n..                  ...                 ...          ...         ...   \n819               51.05               48.95        97.50       95.46   \n820               86.31               13.69        95.80       95.80   \n821               91.88                8.12        96.68       97.39   \n822               71.88               28.12        96.38       95.60   \n823               28.12               71.88        96.39       95.61   \n\n     home1x2KellyIndex  away1x2KellyIndex  \n0                 0.95               0.96  \n1                 0.96               0.98  \n2                 0.96               0.95  \n3                 0.98               0.94  \n4                 0.94               0.99  \n..                 ...                ...  \n819               0.97               0.94  \n820               0.94               1.05  \n821               0.96               1.08  \n822               0.96               0.95  \n823               0.95               0.96  \n\n[824 rows x 79 columns]",
      "text/html": "<div>\n<style scoped>\n    .dataframe tbody tr th:only-of-type {\n        vertical-align: middle;\n    }\n\n    .dataframe tbody tr th {\n        vertical-align: top;\n    }\n\n    .dataframe thead th {\n        text-align: right;\n    }\n</style>\n<table border=\"1\" class=\"dataframe\">\n  <thead>\n    <tr style=\"text-align: right;\">\n      <th></th>\n      <th>gmDate</th>\n      <th>gmTime</th>\n      <th>homeAbbr</th>\n      <th>homeRslt</th>\n      <th>homePTS</th>\n      <th>homeAST</th>\n      <th>homeTO</th>\n      <th>homeSTL</th>\n      <th>homeBLK</th>\n      <th>homeFGA</th>\n      <th>...</th>\n      <th>home1x2LastOptionRate</th>\n      <th>away1x2LastOptionRate</th>\n      <th>home1x2FirstWinRate</th>\n      <th>away1x2FirstWinRate</th>\n      <th>home1x2LastWinRate</th>\n      <th>away1x2LastWinRate</th>\n      <th>1x2FirstRTP</th>\n      <th>1x2LastRTP</th>\n      <th>home1x2KellyIndex</th>\n      <th>away1x2KellyIndex</th>\n    </tr>\n  </thead>\n  <tbody>\n    <tr>\n      <th>0</th>\n      <td>2021/10/19</td>\n      <td>19:30</td>\n      <td>Milwaukee Bucks</td>\n      <td>1</td>\n      <td>127</td>\n      <td>25</td>\n      <td>7</td>\n      <td>8</td>\n      <td>9</td>\n      <td>105</td>\n      <td>...</td>\n      <td>1.80</td>\n      <td>2.05</td>\n      <td>50.00</td>\n      <td>50.00</td>\n      <td>53.25</td>\n      <td>46.75</td>\n      <td>95.00</td>\n      <td>95.85</td>\n      <td>0.95</td>\n      <td>0.96</td>\n    </tr>\n    <tr>\n      <th>1</th>\n      <td>2021/10/19</td>\n      <td>22:00</td>\n      <td>Los Angeles Lakers</td>\n      <td>0</td>\n      <td>114</td>\n      <td>21</td>\n      <td>17</td>\n      <td>7</td>\n      <td>4</td>\n      <td>95</td>\n      <td>...</td>\n      <td>1.62</td>\n      <td>2.40</td>\n      <td>65.17</td>\n      <td>34.83</td>\n      <td>59.70</td>\n      <td>40.30</td>\n      <td>95.80</td>\n      <td>96.71</td>\n      <td>0.96</td>\n      <td>0.98</td>\n    </tr>\n    <tr>\n      <th>2</th>\n      <td>2021/10/20</td>\n      <td>19:00</td>\n      <td>Charlotte Hornets</td>\n      <td>1</td>\n      <td>123</td>\n      <td>29</td>\n      <td>8</td>\n      <td>9</td>\n      <td>5</td>\n      <td>107</td>\n      <td>...</td>\n      <td>2.05</td>\n      <td>1.80</td>\n      <td>55.27</td>\n      <td>44.73</td>\n      <td>46.75</td>\n      <td>53.25</td>\n      <td>96.17</td>\n      <td>95.84</td>\n      <td>0.96</td>\n      <td>0.95</td>\n    </tr>\n    <tr>\n      <th>3</th>\n      <td>2021/10/20</td>\n      <td>19:00</td>\n      <td>Detroit Pistons</td>\n      <td>0</td>\n      <td>88</td>\n      <td>17</td>\n      <td>16</td>\n      <td>7</td>\n      <td>5</td>\n      <td>90</td>\n      <td>...</td>\n      <td>2.80</td>\n      <td>1.45</td>\n      <td>42.75</td>\n      <td>57.25</td>\n      <td>34.12</td>\n      <td>65.88</td>\n      <td>96.19</td>\n      <td>95.54</td>\n      <td>0.98</td>\n      <td>0.94</td>\n    </tr>\n    <tr>\n      <th>4</th>\n      <td>2021/10/20</td>\n      <td>19:30</td>\n      <td>New York Knicks</td>\n      <td>1</td>\n      <td>138</td>\n      <td>27</td>\n      <td>17</td>\n      <td>9</td>\n      <td>10</td>\n      <td>105</td>\n      <td>...</td>\n      <td>1.68</td>\n      <td>2.25</td>\n      <td>52.22</td>\n      <td>47.78</td>\n      <td>57.25</td>\n      <td>42.75</td>\n      <td>95.56</td>\n      <td>96.18</td>\n      <td>0.94</td>\n      <td>0.99</td>\n    </tr>\n    <tr>\n      <th>...</th>\n      <td>...</td>\n      <td>...</td>\n      <td>...</td>\n      <td>...</td>\n      <td>...</td>\n      <td>...</td>\n      <td>...</td>\n      <td>...</td>\n      <td>...</td>\n      <td>...</td>\n      <td>...</td>\n      <td>...</td>\n      <td>...</td>\n      <td>...</td>\n      <td>...</td>\n      <td>...</td>\n      <td>...</td>\n      <td>...</td>\n      <td>...</td>\n      <td>...</td>\n      <td>...</td>\n    </tr>\n    <tr>\n      <th>819</th>\n      <td>2022/02/11</td>\n      <td>20:00</td>\n      <td>Chicago Bulls</td>\n      <td>1</td>\n      <td>134</td>\n      <td>32</td>\n      <td>13</td>\n      <td>6</td>\n      <td>3</td>\n      <td>87</td>\n      <td>...</td>\n      <td>1.87</td>\n      <td>1.95</td>\n      <td>62.50</td>\n      <td>37.50</td>\n      <td>51.05</td>\n      <td>48.95</td>\n      <td>97.50</td>\n      <td>95.46</td>\n      <td>0.97</td>\n      <td>0.94</td>\n    </tr>\n    <tr>\n      <th>820</th>\n      <td>2022/02/11</td>\n      <td>21:00</td>\n      <td>Utah Jazz</td>\n      <td>1</td>\n      <td>114</td>\n      <td>22</td>\n      <td>15</td>\n      <td>15</td>\n      <td>5</td>\n      <td>89</td>\n      <td>...</td>\n      <td>1.11</td>\n      <td>7.00</td>\n      <td>86.31</td>\n      <td>13.69</td>\n      <td>86.31</td>\n      <td>13.69</td>\n      <td>95.80</td>\n      <td>95.80</td>\n      <td>0.94</td>\n      <td>1.05</td>\n    </tr>\n    <tr>\n      <th>821</th>\n      <td>2022/02/12</td>\n      <td>21:00</td>\n      <td>Phoenix Suns</td>\n      <td>1</td>\n      <td>132</td>\n      <td>40</td>\n      <td>7</td>\n      <td>8</td>\n      <td>2</td>\n      <td>105</td>\n      <td>...</td>\n      <td>1.06</td>\n      <td>12.00</td>\n      <td>91.21</td>\n      <td>8.79</td>\n      <td>91.88</td>\n      <td>8.12</td>\n      <td>96.68</td>\n      <td>97.39</td>\n      <td>0.96</td>\n      <td>1.08</td>\n    </tr>\n    <tr>\n      <th>822</th>\n      <td>2022/02/13</td>\n      <td>14:00</td>\n      <td>Boston Celtics</td>\n      <td>1</td>\n      <td>105</td>\n      <td>21</td>\n      <td>12</td>\n      <td>5</td>\n      <td>6</td>\n      <td>85</td>\n      <td>...</td>\n      <td>1.33</td>\n      <td>3.40</td>\n      <td>67.87</td>\n      <td>32.13</td>\n      <td>71.88</td>\n      <td>28.12</td>\n      <td>96.38</td>\n      <td>95.60</td>\n      <td>0.96</td>\n      <td>0.95</td>\n    </tr>\n    <tr>\n      <th>823</th>\n      <td>2022/02/13</td>\n      <td>15:00</td>\n      <td>Indiana Pacers</td>\n      <td>0</td>\n      <td>120</td>\n      <td>28</td>\n      <td>13</td>\n      <td>5</td>\n      <td>6</td>\n      <td>102</td>\n      <td>...</td>\n      <td>3.40</td>\n      <td>1.33</td>\n      <td>32.13</td>\n      <td>67.87</td>\n      <td>28.12</td>\n      <td>71.88</td>\n      <td>96.39</td>\n      <td>95.61</td>\n      <td>0.95</td>\n      <td>0.96</td>\n    </tr>\n  </tbody>\n</table>\n<p>824 rows × 79 columns</p>\n</div>"
     },
     "execution_count": 9,
     "metadata": {},
     "output_type": "execute_result"
    }
   ],
   "source": [
    "# 刪除空資料列(沒有賠率的)\n",
    "delete_indexs = nba_df[nba_df.away1x2FirstOptionRate.isnull()].index\n",
    "nba_df = nba_df.drop(delete_indexs,axis = 0).reset_index(drop=True)\n",
    "nba_df"
   ],
   "metadata": {
    "collapsed": false,
    "pycharm": {
     "name": "#%%\n"
    }
   }
  },
  {
   "cell_type": "code",
   "execution_count": 10,
   "outputs": [
    {
     "data": {
      "text/plain": "         homeRslt     homePTS     homeAST      homeTO     homeSTL     homeBLK  \\\ncount  824.000000  824.000000  824.000000  824.000000  824.000000  824.000000   \nmean     0.550971  109.811893   24.639563   13.048544    7.725728    5.012136   \nstd      0.497697   12.184978    4.987463    3.728980    2.824131    2.438024   \nmin      0.000000   77.000000   11.000000    4.000000    0.000000    0.000000   \n25%      0.000000  102.000000   21.000000   10.000000    6.000000    3.000000   \n50%      1.000000  110.000000   24.000000   13.000000    8.000000    5.000000   \n75%      1.000000  118.000000   28.000000   15.250000    9.000000    7.000000   \nmax      1.000000  152.000000   41.000000   25.000000   21.000000   13.000000   \n\n          homeFGA     homeFGM  homeFG_Percentage     home3PA  ...  \\\ncount  824.000000  824.000000         824.000000  824.000000  ...   \nmean    88.225728   40.506068           0.459961   35.625000  ...   \nstd      6.818959    5.167894           0.054132    6.553743  ...   \nmin     68.000000   26.000000           0.309000   18.000000  ...   \n25%     83.000000   37.000000           0.420000   31.000000  ...   \n50%     88.000000   40.000000           0.460500   35.000000  ...   \n75%     93.000000   44.000000           0.500000   40.000000  ...   \nmax    111.000000   60.000000           0.653000   55.000000  ...   \n\n       home1x2LastOptionRate  away1x2LastOptionRate  home1x2FirstWinRate  \\\ncount             824.000000             824.000000           824.000000   \nmean                1.953216               2.860328            57.015910   \nstd                 0.962772               1.755526            18.021571   \nmin                 1.050000               1.070000            11.990000   \n25%                 1.330000               1.680000            42.750000   \n50%                 1.660000               2.300000            57.250000   \n75%                 2.250000               3.400000            71.430000   \nmax                 9.500000              12.250000            91.950000   \n\n       away1x2FirstWinRate  home1x2LastWinRate  away1x2LastWinRate  \\\ncount           824.000000          824.000000          824.000000   \nmean             42.984090           56.971735           43.028265   \nstd              18.021571           18.388331           18.388331   \nmin               8.050000           10.120000            7.890000   \n25%              28.570000           42.750000           28.120000   \n50%              42.750000           58.080000           41.920000   \n75%              57.250000           71.880000           57.250000   \nmax              88.010000           92.110000           89.880000   \n\n       1x2FirstRTP  1x2LastRTP  home1x2KellyIndex  away1x2KellyIndex  \ncount   824.000000   824.00000         824.000000         824.000000  \nmean     96.050121    96.06790           0.961129           0.965777  \nstd       0.512920     0.51981           0.032127           0.043603  \nmin      95.000000    95.00000           0.670000           0.670000  \n25%      95.760000    95.76000           0.950000           0.950000  \n50%      95.860000    95.93000           0.960000           0.960000  \n75%      96.380000    96.41000           0.970000           0.980000  \nmax      97.500000    97.40000           1.250000           1.420000  \n\n[8 rows x 75 columns]",
      "text/html": "<div>\n<style scoped>\n    .dataframe tbody tr th:only-of-type {\n        vertical-align: middle;\n    }\n\n    .dataframe tbody tr th {\n        vertical-align: top;\n    }\n\n    .dataframe thead th {\n        text-align: right;\n    }\n</style>\n<table border=\"1\" class=\"dataframe\">\n  <thead>\n    <tr style=\"text-align: right;\">\n      <th></th>\n      <th>homeRslt</th>\n      <th>homePTS</th>\n      <th>homeAST</th>\n      <th>homeTO</th>\n      <th>homeSTL</th>\n      <th>homeBLK</th>\n      <th>homeFGA</th>\n      <th>homeFGM</th>\n      <th>homeFG_Percentage</th>\n      <th>home3PA</th>\n      <th>...</th>\n      <th>home1x2LastOptionRate</th>\n      <th>away1x2LastOptionRate</th>\n      <th>home1x2FirstWinRate</th>\n      <th>away1x2FirstWinRate</th>\n      <th>home1x2LastWinRate</th>\n      <th>away1x2LastWinRate</th>\n      <th>1x2FirstRTP</th>\n      <th>1x2LastRTP</th>\n      <th>home1x2KellyIndex</th>\n      <th>away1x2KellyIndex</th>\n    </tr>\n  </thead>\n  <tbody>\n    <tr>\n      <th>count</th>\n      <td>824.000000</td>\n      <td>824.000000</td>\n      <td>824.000000</td>\n      <td>824.000000</td>\n      <td>824.000000</td>\n      <td>824.000000</td>\n      <td>824.000000</td>\n      <td>824.000000</td>\n      <td>824.000000</td>\n      <td>824.000000</td>\n      <td>...</td>\n      <td>824.000000</td>\n      <td>824.000000</td>\n      <td>824.000000</td>\n      <td>824.000000</td>\n      <td>824.000000</td>\n      <td>824.000000</td>\n      <td>824.000000</td>\n      <td>824.00000</td>\n      <td>824.000000</td>\n      <td>824.000000</td>\n    </tr>\n    <tr>\n      <th>mean</th>\n      <td>0.550971</td>\n      <td>109.811893</td>\n      <td>24.639563</td>\n      <td>13.048544</td>\n      <td>7.725728</td>\n      <td>5.012136</td>\n      <td>88.225728</td>\n      <td>40.506068</td>\n      <td>0.459961</td>\n      <td>35.625000</td>\n      <td>...</td>\n      <td>1.953216</td>\n      <td>2.860328</td>\n      <td>57.015910</td>\n      <td>42.984090</td>\n      <td>56.971735</td>\n      <td>43.028265</td>\n      <td>96.050121</td>\n      <td>96.06790</td>\n      <td>0.961129</td>\n      <td>0.965777</td>\n    </tr>\n    <tr>\n      <th>std</th>\n      <td>0.497697</td>\n      <td>12.184978</td>\n      <td>4.987463</td>\n      <td>3.728980</td>\n      <td>2.824131</td>\n      <td>2.438024</td>\n      <td>6.818959</td>\n      <td>5.167894</td>\n      <td>0.054132</td>\n      <td>6.553743</td>\n      <td>...</td>\n      <td>0.962772</td>\n      <td>1.755526</td>\n      <td>18.021571</td>\n      <td>18.021571</td>\n      <td>18.388331</td>\n      <td>18.388331</td>\n      <td>0.512920</td>\n      <td>0.51981</td>\n      <td>0.032127</td>\n      <td>0.043603</td>\n    </tr>\n    <tr>\n      <th>min</th>\n      <td>0.000000</td>\n      <td>77.000000</td>\n      <td>11.000000</td>\n      <td>4.000000</td>\n      <td>0.000000</td>\n      <td>0.000000</td>\n      <td>68.000000</td>\n      <td>26.000000</td>\n      <td>0.309000</td>\n      <td>18.000000</td>\n      <td>...</td>\n      <td>1.050000</td>\n      <td>1.070000</td>\n      <td>11.990000</td>\n      <td>8.050000</td>\n      <td>10.120000</td>\n      <td>7.890000</td>\n      <td>95.000000</td>\n      <td>95.00000</td>\n      <td>0.670000</td>\n      <td>0.670000</td>\n    </tr>\n    <tr>\n      <th>25%</th>\n      <td>0.000000</td>\n      <td>102.000000</td>\n      <td>21.000000</td>\n      <td>10.000000</td>\n      <td>6.000000</td>\n      <td>3.000000</td>\n      <td>83.000000</td>\n      <td>37.000000</td>\n      <td>0.420000</td>\n      <td>31.000000</td>\n      <td>...</td>\n      <td>1.330000</td>\n      <td>1.680000</td>\n      <td>42.750000</td>\n      <td>28.570000</td>\n      <td>42.750000</td>\n      <td>28.120000</td>\n      <td>95.760000</td>\n      <td>95.76000</td>\n      <td>0.950000</td>\n      <td>0.950000</td>\n    </tr>\n    <tr>\n      <th>50%</th>\n      <td>1.000000</td>\n      <td>110.000000</td>\n      <td>24.000000</td>\n      <td>13.000000</td>\n      <td>8.000000</td>\n      <td>5.000000</td>\n      <td>88.000000</td>\n      <td>40.000000</td>\n      <td>0.460500</td>\n      <td>35.000000</td>\n      <td>...</td>\n      <td>1.660000</td>\n      <td>2.300000</td>\n      <td>57.250000</td>\n      <td>42.750000</td>\n      <td>58.080000</td>\n      <td>41.920000</td>\n      <td>95.860000</td>\n      <td>95.93000</td>\n      <td>0.960000</td>\n      <td>0.960000</td>\n    </tr>\n    <tr>\n      <th>75%</th>\n      <td>1.000000</td>\n      <td>118.000000</td>\n      <td>28.000000</td>\n      <td>15.250000</td>\n      <td>9.000000</td>\n      <td>7.000000</td>\n      <td>93.000000</td>\n      <td>44.000000</td>\n      <td>0.500000</td>\n      <td>40.000000</td>\n      <td>...</td>\n      <td>2.250000</td>\n      <td>3.400000</td>\n      <td>71.430000</td>\n      <td>57.250000</td>\n      <td>71.880000</td>\n      <td>57.250000</td>\n      <td>96.380000</td>\n      <td>96.41000</td>\n      <td>0.970000</td>\n      <td>0.980000</td>\n    </tr>\n    <tr>\n      <th>max</th>\n      <td>1.000000</td>\n      <td>152.000000</td>\n      <td>41.000000</td>\n      <td>25.000000</td>\n      <td>21.000000</td>\n      <td>13.000000</td>\n      <td>111.000000</td>\n      <td>60.000000</td>\n      <td>0.653000</td>\n      <td>55.000000</td>\n      <td>...</td>\n      <td>9.500000</td>\n      <td>12.250000</td>\n      <td>91.950000</td>\n      <td>88.010000</td>\n      <td>92.110000</td>\n      <td>89.880000</td>\n      <td>97.500000</td>\n      <td>97.40000</td>\n      <td>1.250000</td>\n      <td>1.420000</td>\n    </tr>\n  </tbody>\n</table>\n<p>8 rows × 75 columns</p>\n</div>"
     },
     "execution_count": 10,
     "metadata": {},
     "output_type": "execute_result"
    }
   ],
   "source": [
    "nba_df.describe()"
   ],
   "metadata": {
    "collapsed": false,
    "pycharm": {
     "name": "#%%\n"
    }
   }
  },
  {
   "cell_type": "markdown",
   "source": [
    "# 特徵工程"
   ],
   "metadata": {
    "collapsed": false,
    "pycharm": {
     "name": "#%% md\n"
    }
   }
  },
  {
   "cell_type": "code",
   "execution_count": 11,
   "outputs": [],
   "source": [
    "# Player efficiency rating 績效指數評級 (PIR) 是一個總體績效指標。\n",
    "\n",
    "homePIR = ((nba_df['homePTS'] + nba_df['homeTRB'] + nba_df['homeAST']\n",
    "            + nba_df['homeSTL'] + nba_df['homeBLK'] + nba_df['awayFouls'])\n",
    "           # Missed Field Goals:\n",
    "           - ((nba_df['homeFGA']- nba_df['homeFGM'])\n",
    "              # Missed Free Throws:\n",
    "              +(nba_df['homeFTA'] - nba_df['homeFTM'])\n",
    "              + nba_df['homeTO'] + nba_df['awayBLK'] + nba_df['homeFouls']))\n",
    "\n",
    "awayPIR = ((nba_df['awayPTS'] + nba_df['awayTRB'] + nba_df['awayAST']\n",
    "            + nba_df['awaySTL'] + nba_df['awayBLK'] + nba_df['homeFouls'])\n",
    "           # Missed Field Goals:\n",
    "           - ((nba_df['awayFGA']- nba_df['awayFGM'])\n",
    "              # Missed Free Throws:\n",
    "              +(nba_df['awayFTA'] - nba_df['awayFTM'])\n",
    "              + nba_df['awayTO'] + nba_df['homeBLK'] + nba_df['awayFouls']))\n",
    "\n",
    "nba_df['homePIR'] = pd.Series(homePIR)\n",
    "nba_df['awayPIR'] = pd.Series(awayPIR)"
   ],
   "metadata": {
    "collapsed": false,
    "pycharm": {
     "name": "#%%\n"
    }
   }
  },
  {
   "cell_type": "code",
   "execution_count": 12,
   "outputs": [],
   "source": [
    "# 新增其他特徵\n",
    "homePPS = nba_df.homePTS/nba_df.homeFGA\n",
    "homeFIC = nba_df.homePTS + nba_df.homeORB + 0.75 * nba_df.homeDRB+ nba_df.homeAST + nba_df.homeSTL + nba_df.homeBLK - 0.75 * nba_df.homeFGA - 0.375 * nba_df.homeFTA - nba_df.homeTO - 0.5 * nba_df.homeFouls\n",
    "homeEDiff = nba_df.homeOrtg-nba_df.homeDrtg\n",
    "homePlay_Percentage = nba_df.homeFGM / (nba_df.homeFGA - nba_df.homeORB + nba_df.homeTO)\n",
    "homeAR = (nba_df.homeAST * 100) / (nba_df.homeFGA - 0.44 * nba_df.homeFTA + nba_df.homeAST + nba_df.homeTO)\n",
    "\n",
    "awayPPS = nba_df.awayPTS/nba_df.awayFGA\n",
    "awayFIC = nba_df.awayPTS + nba_df.awayORB + 0.75 * nba_df.awayDRB+ nba_df.awayAST + nba_df.awaySTL + nba_df.awayBLK - 0.75 * nba_df.awayFGA - 0.375 * nba_df.awayFTA - nba_df.awayTO - 0.5 * nba_df.awayFouls\n",
    "awayEDiff = nba_df.awayOrtg-nba_df.awayDrtg\n",
    "awayPlay_Percentage = nba_df.awayFGM / (nba_df.awayFGA - nba_df.awayORB + nba_df.awayTO)\n",
    "awayAR = (nba_df.awayAST * 100) / (nba_df.awayFGA - 0.44 * nba_df.awayFTA + nba_df.awayAST + nba_df.awayTO)\n",
    "\n",
    "nba_df['homePPS'] = pd.Series(homePPS)\n",
    "nba_df['homeFIC'] = pd.Series(homeFIC)\n",
    "nba_df['homeEDiff'] = pd.Series(homeEDiff)\n",
    "nba_df['homePlay_Percentage'] = pd.Series(homePlay_Percentage)\n",
    "nba_df['homeAR'] = pd.Series(homeAR)\n",
    "\n",
    "nba_df['awayPPS'] = pd.Series(awayPPS)\n",
    "nba_df['awayFIC'] = pd.Series(awayFIC)\n",
    "nba_df['awayEDiff'] = pd.Series(awayEDiff)\n",
    "nba_df['awayPlay_Percentage'] = pd.Series(awayPlay_Percentage)\n",
    "nba_df['awayAR'] = pd.Series(awayAR)"
   ],
   "metadata": {
    "collapsed": false,
    "pycharm": {
     "name": "#%%\n"
    }
   }
  },
  {
   "cell_type": "code",
   "execution_count": 13,
   "outputs": [],
   "source": [
    "# 判斷是否為明星賽前後\n",
    "\n",
    "nba_df['gmDate'] = pd.to_datetime(nba_df['gmDate'], errors='coerce')\n",
    "nba_df['year'] = nba_df['gmDate'].dt.year\n",
    "nba_df['month'] = nba_df['gmDate'].dt.month\n",
    "\n",
    "def seasons(d):\n",
    "    y=d[0]\n",
    "    m=d[1]\n",
    "\n",
    "    if (y ==2014 and m in (10,11,12)) or (y==2015 and m in (1,2,3,4)):\n",
    "        s=1\n",
    "    elif (y==2015 and m in (10,11,12)) or (y==2016 and m in (1,2,3,4)):\n",
    "        s=2\n",
    "    elif (y==2016 and m in (10,11,12)) or (y==2017 and m in (1,2,3,4)):\n",
    "        s=3\n",
    "    elif (y==2017 and m in (10,11,12)) or (y==2018 and m in (1,2,3,4)):\n",
    "        s=4\n",
    "    elif (y==2018 and m in (10,11,12)) or (y==2019 and m in (1,2,3,4)):\n",
    "        s=5\n",
    "    elif (y==2019 and m in (10,11,12)) or (y==2020 and m in (1,2,3,4)):\n",
    "        s=6\n",
    "    elif (y==2020 and m in (10,11,12)) or (y==2021 and m in (1,2,3,4)):\n",
    "        s=7\n",
    "    else:\n",
    "        s=8\n",
    "    return s\n",
    "\n",
    "nba_df['Season'] = nba_df[['year','month']].apply(seasons,axis=1)"
   ],
   "metadata": {
    "collapsed": false,
    "pycharm": {
     "name": "#%%\n"
    }
   }
  },
  {
   "cell_type": "code",
   "execution_count": 14,
   "outputs": [],
   "source": [
    "def halfs(x):\n",
    "    if x in (10,11,12,1):\n",
    "        x = 'Pre_AllStar'\n",
    "    else:\n",
    "        x = 'Post_AllStar'\n",
    "    return (x)\n",
    "\n",
    "nba_df['Season_half']=nba_df['month'].apply(halfs)"
   ],
   "metadata": {
    "collapsed": false,
    "pycharm": {
     "name": "#%%\n"
    }
   }
  },
  {
   "cell_type": "code",
   "execution_count": 15,
   "outputs": [
    {
     "data": {
      "text/plain": "        gmDate gmTime            homeAbbr  homeRslt  homePTS  homeAST  homeTO  \\\n0   2021-10-19  19:30     Milwaukee Bucks         1      127       25       7   \n1   2021-10-19  22:00  Los Angeles Lakers         0      114       21      17   \n2   2021-10-20  19:00   Charlotte Hornets         1      123       29       8   \n3   2021-10-20  19:00     Detroit Pistons         0       88       17      16   \n4   2021-10-20  19:30     New York Knicks         1      138       27      17   \n..         ...    ...                 ...       ...      ...      ...     ...   \n819 2022-02-11  20:00       Chicago Bulls         1      134       32      13   \n820 2022-02-11  21:00           Utah Jazz         1      114       22      15   \n821 2022-02-12  21:00        Phoenix Suns         1      132       40       7   \n822 2022-02-13  14:00      Boston Celtics         1      105       21      12   \n823 2022-02-13  15:00      Indiana Pacers         0      120       28      13   \n\n     homeSTL  homeBLK  homeFGA  ...  awayEDiff  awayPlay_Percentage  \\\n0          8        9      105  ...      -22.6             0.406593   \n1          7        4       95  ...        6.2             0.405941   \n2          9        5      107  ...       -1.0             0.428571   \n3          7        5       90  ...        6.1             0.393617   \n4          9       10      105  ...       -3.2             0.400000   \n..       ...      ...      ...  ...        ...                  ...   \n819        6        3       87  ...      -11.9             0.489796   \n820       15        5       89  ...      -15.1             0.397849   \n821        8        2      105  ...      -25.2             0.381443   \n822        5        6       85  ...      -10.3             0.357895   \n823        5        6      102  ...        9.1             0.483146   \n\n        awayAR  year  month  Season   Season_half  homeDiffPTS  awayDiffPTS  \\\n0    18.115942  2021     10       8   Pre_AllStar           23          -23   \n1    23.659306  2021     10       8   Pre_AllStar           -7            7   \n2    23.304404  2021     10       8   Pre_AllStar            1           -1   \n3    15.734266  2021     10       8   Pre_AllStar           -6            6   \n4    21.399799  2021     10       8   Pre_AllStar            4           -4   \n..         ...   ...    ...     ...           ...          ...          ...   \n819  24.622961  2022      2       8  Post_AllStar           12          -12   \n820  19.498135  2022      2       8  Post_AllStar           15          -15   \n821  21.656272  2022      2       8  Post_AllStar           27          -27   \n822  15.332198  2022      2       8  Post_AllStar           10          -10   \n823  21.359584  2022      2       8  Post_AllStar           -9            9   \n\n     absDiffPTS  \n0            23  \n1             7  \n2             1  \n3             6  \n4             4  \n..          ...  \n819          12  \n820          15  \n821          27  \n822          10  \n823           9  \n\n[824 rows x 98 columns]",
      "text/html": "<div>\n<style scoped>\n    .dataframe tbody tr th:only-of-type {\n        vertical-align: middle;\n    }\n\n    .dataframe tbody tr th {\n        vertical-align: top;\n    }\n\n    .dataframe thead th {\n        text-align: right;\n    }\n</style>\n<table border=\"1\" class=\"dataframe\">\n  <thead>\n    <tr style=\"text-align: right;\">\n      <th></th>\n      <th>gmDate</th>\n      <th>gmTime</th>\n      <th>homeAbbr</th>\n      <th>homeRslt</th>\n      <th>homePTS</th>\n      <th>homeAST</th>\n      <th>homeTO</th>\n      <th>homeSTL</th>\n      <th>homeBLK</th>\n      <th>homeFGA</th>\n      <th>...</th>\n      <th>awayEDiff</th>\n      <th>awayPlay_Percentage</th>\n      <th>awayAR</th>\n      <th>year</th>\n      <th>month</th>\n      <th>Season</th>\n      <th>Season_half</th>\n      <th>homeDiffPTS</th>\n      <th>awayDiffPTS</th>\n      <th>absDiffPTS</th>\n    </tr>\n  </thead>\n  <tbody>\n    <tr>\n      <th>0</th>\n      <td>2021-10-19</td>\n      <td>19:30</td>\n      <td>Milwaukee Bucks</td>\n      <td>1</td>\n      <td>127</td>\n      <td>25</td>\n      <td>7</td>\n      <td>8</td>\n      <td>9</td>\n      <td>105</td>\n      <td>...</td>\n      <td>-22.6</td>\n      <td>0.406593</td>\n      <td>18.115942</td>\n      <td>2021</td>\n      <td>10</td>\n      <td>8</td>\n      <td>Pre_AllStar</td>\n      <td>23</td>\n      <td>-23</td>\n      <td>23</td>\n    </tr>\n    <tr>\n      <th>1</th>\n      <td>2021-10-19</td>\n      <td>22:00</td>\n      <td>Los Angeles Lakers</td>\n      <td>0</td>\n      <td>114</td>\n      <td>21</td>\n      <td>17</td>\n      <td>7</td>\n      <td>4</td>\n      <td>95</td>\n      <td>...</td>\n      <td>6.2</td>\n      <td>0.405941</td>\n      <td>23.659306</td>\n      <td>2021</td>\n      <td>10</td>\n      <td>8</td>\n      <td>Pre_AllStar</td>\n      <td>-7</td>\n      <td>7</td>\n      <td>7</td>\n    </tr>\n    <tr>\n      <th>2</th>\n      <td>2021-10-20</td>\n      <td>19:00</td>\n      <td>Charlotte Hornets</td>\n      <td>1</td>\n      <td>123</td>\n      <td>29</td>\n      <td>8</td>\n      <td>9</td>\n      <td>5</td>\n      <td>107</td>\n      <td>...</td>\n      <td>-1.0</td>\n      <td>0.428571</td>\n      <td>23.304404</td>\n      <td>2021</td>\n      <td>10</td>\n      <td>8</td>\n      <td>Pre_AllStar</td>\n      <td>1</td>\n      <td>-1</td>\n      <td>1</td>\n    </tr>\n    <tr>\n      <th>3</th>\n      <td>2021-10-20</td>\n      <td>19:00</td>\n      <td>Detroit Pistons</td>\n      <td>0</td>\n      <td>88</td>\n      <td>17</td>\n      <td>16</td>\n      <td>7</td>\n      <td>5</td>\n      <td>90</td>\n      <td>...</td>\n      <td>6.1</td>\n      <td>0.393617</td>\n      <td>15.734266</td>\n      <td>2021</td>\n      <td>10</td>\n      <td>8</td>\n      <td>Pre_AllStar</td>\n      <td>-6</td>\n      <td>6</td>\n      <td>6</td>\n    </tr>\n    <tr>\n      <th>4</th>\n      <td>2021-10-20</td>\n      <td>19:30</td>\n      <td>New York Knicks</td>\n      <td>1</td>\n      <td>138</td>\n      <td>27</td>\n      <td>17</td>\n      <td>9</td>\n      <td>10</td>\n      <td>105</td>\n      <td>...</td>\n      <td>-3.2</td>\n      <td>0.400000</td>\n      <td>21.399799</td>\n      <td>2021</td>\n      <td>10</td>\n      <td>8</td>\n      <td>Pre_AllStar</td>\n      <td>4</td>\n      <td>-4</td>\n      <td>4</td>\n    </tr>\n    <tr>\n      <th>...</th>\n      <td>...</td>\n      <td>...</td>\n      <td>...</td>\n      <td>...</td>\n      <td>...</td>\n      <td>...</td>\n      <td>...</td>\n      <td>...</td>\n      <td>...</td>\n      <td>...</td>\n      <td>...</td>\n      <td>...</td>\n      <td>...</td>\n      <td>...</td>\n      <td>...</td>\n      <td>...</td>\n      <td>...</td>\n      <td>...</td>\n      <td>...</td>\n      <td>...</td>\n      <td>...</td>\n    </tr>\n    <tr>\n      <th>819</th>\n      <td>2022-02-11</td>\n      <td>20:00</td>\n      <td>Chicago Bulls</td>\n      <td>1</td>\n      <td>134</td>\n      <td>32</td>\n      <td>13</td>\n      <td>6</td>\n      <td>3</td>\n      <td>87</td>\n      <td>...</td>\n      <td>-11.9</td>\n      <td>0.489796</td>\n      <td>24.622961</td>\n      <td>2022</td>\n      <td>2</td>\n      <td>8</td>\n      <td>Post_AllStar</td>\n      <td>12</td>\n      <td>-12</td>\n      <td>12</td>\n    </tr>\n    <tr>\n      <th>820</th>\n      <td>2022-02-11</td>\n      <td>21:00</td>\n      <td>Utah Jazz</td>\n      <td>1</td>\n      <td>114</td>\n      <td>22</td>\n      <td>15</td>\n      <td>15</td>\n      <td>5</td>\n      <td>89</td>\n      <td>...</td>\n      <td>-15.1</td>\n      <td>0.397849</td>\n      <td>19.498135</td>\n      <td>2022</td>\n      <td>2</td>\n      <td>8</td>\n      <td>Post_AllStar</td>\n      <td>15</td>\n      <td>-15</td>\n      <td>15</td>\n    </tr>\n    <tr>\n      <th>821</th>\n      <td>2022-02-12</td>\n      <td>21:00</td>\n      <td>Phoenix Suns</td>\n      <td>1</td>\n      <td>132</td>\n      <td>40</td>\n      <td>7</td>\n      <td>8</td>\n      <td>2</td>\n      <td>105</td>\n      <td>...</td>\n      <td>-25.2</td>\n      <td>0.381443</td>\n      <td>21.656272</td>\n      <td>2022</td>\n      <td>2</td>\n      <td>8</td>\n      <td>Post_AllStar</td>\n      <td>27</td>\n      <td>-27</td>\n      <td>27</td>\n    </tr>\n    <tr>\n      <th>822</th>\n      <td>2022-02-13</td>\n      <td>14:00</td>\n      <td>Boston Celtics</td>\n      <td>1</td>\n      <td>105</td>\n      <td>21</td>\n      <td>12</td>\n      <td>5</td>\n      <td>6</td>\n      <td>85</td>\n      <td>...</td>\n      <td>-10.3</td>\n      <td>0.357895</td>\n      <td>15.332198</td>\n      <td>2022</td>\n      <td>2</td>\n      <td>8</td>\n      <td>Post_AllStar</td>\n      <td>10</td>\n      <td>-10</td>\n      <td>10</td>\n    </tr>\n    <tr>\n      <th>823</th>\n      <td>2022-02-13</td>\n      <td>15:00</td>\n      <td>Indiana Pacers</td>\n      <td>0</td>\n      <td>120</td>\n      <td>28</td>\n      <td>13</td>\n      <td>5</td>\n      <td>6</td>\n      <td>102</td>\n      <td>...</td>\n      <td>9.1</td>\n      <td>0.483146</td>\n      <td>21.359584</td>\n      <td>2022</td>\n      <td>2</td>\n      <td>8</td>\n      <td>Post_AllStar</td>\n      <td>-9</td>\n      <td>9</td>\n      <td>9</td>\n    </tr>\n  </tbody>\n</table>\n<p>824 rows × 98 columns</p>\n</div>"
     },
     "execution_count": 15,
     "metadata": {},
     "output_type": "execute_result"
    }
   ],
   "source": [
    "# 總得分差\n",
    "nba_df['homeDiffPTS']=nba_df['homePTS']-nba_df['awayPTS']\n",
    "nba_df['awayDiffPTS']=nba_df['awayPTS']-nba_df['homePTS']\n",
    "nba_df['absDiffPTS']=abs(nba_df['homePTS']-nba_df['awayPTS'])\n",
    "nba_df"
   ],
   "metadata": {
    "collapsed": false,
    "pycharm": {
     "name": "#%%\n"
    }
   }
  },
  {
   "cell_type": "code",
   "execution_count": 16,
   "outputs": [
    {
     "data": {
      "text/plain": "        gmDate                homeAbbr  home_games                awayAbbr  \\\n4   2021-10-20         New York Knicks           1          Boston Celtics   \n16  2021-10-22           Orlando Magic           2         New York Knicks   \n36  2021-10-24         New York Knicks           3           Orlando Magic   \n49  2021-10-26         New York Knicks           4      Philadelphia 76ers   \n67  2021-10-28           Chicago Bulls           5         New York Knicks   \n79  2021-10-30    New Orleans Pelicans           7         New York Knicks   \n98  2021-11-01         New York Knicks           7         Toronto Raptors   \n108 2021-11-03          Indiana Pacers           9         New York Knicks   \n126 2021-11-05         Milwaukee Bucks           9         New York Knicks   \n139 2021-11-07         New York Knicks          10     Cleveland Cavaliers   \n146 2021-11-08      Philadelphia 76ers          11         New York Knicks   \n161 2021-11-10         New York Knicks          12         Milwaukee Bucks   \n173 2021-11-12       Charlotte Hornets          14         New York Knicks   \n202 2021-11-15         New York Knicks          14          Indiana Pacers   \n218 2021-11-17         New York Knicks          15           Orlando Magic   \n238 2021-11-20         New York Knicks          16         Houston Rockets   \n249 2021-11-21           Chicago Bulls          17         New York Knicks   \n263 2021-11-23         New York Knicks          18      Los Angeles Lakers   \n281 2021-11-26         New York Knicks          19            Phoenix Suns   \n292 2021-11-27           Atlanta Hawks          21         New York Knicks   \n313 2021-11-30           Brooklyn Nets          21         New York Knicks   \n327 2021-12-02         New York Knicks          22           Chicago Bulls   \n341 2021-12-04         New York Knicks          23          Denver Nuggets   \n363 2021-12-07       San Antonio Spurs          23         New York Knicks   \n368 2021-12-08          Indiana Pacers          27         New York Knicks   \n384 2021-12-10         Toronto Raptors          26         New York Knicks   \n397 2021-12-12         New York Knicks          27         Milwaukee Bucks   \n413 2021-12-14         New York Knicks          28   Golden State Warriors   \n428 2021-12-16         Houston Rockets          29         New York Knicks   \n439 2021-12-18          Boston Celtics          30         New York Knicks   \n458 2021-12-21         New York Knicks          31         Detroit Pistons   \n471 2021-12-23         New York Knicks          32      Washington Wizards   \n478 2021-12-25         New York Knicks          33           Atlanta Hawks   \n502 2021-12-28  Minnesota Timberwolves          34         New York Knicks   \n506 2021-12-29         Detroit Pistons          33         New York Knicks   \n524 2021-12-31   Oklahoma City Thunder          35         New York Knicks   \n533 2022-01-02         Toronto Raptors          33         New York Knicks   \n562 2022-01-06         New York Knicks          38          Boston Celtics   \n579 2022-01-08          Boston Celtics          40         New York Knicks   \n594 2022-01-10         New York Knicks          40       San Antonio Spurs   \n608 2022-01-12         New York Knicks          41        Dallas Mavericks   \n629 2022-01-15           Atlanta Hawks          42         New York Knicks   \n642 2022-01-17         New York Knicks          43       Charlotte Hornets   \n653 2022-01-18         New York Knicks          44  Minnesota Timberwolves   \n669 2022-01-20         New York Knicks          45    New Orleans Pelicans   \n685 2022-01-23         New York Knicks          46    Los Angeles Clippers   \n696 2022-01-24     Cleveland Cavaliers          48         New York Knicks   \n713 2022-01-26              Miami Heat          48         New York Knicks   \n731 2022-01-28         Milwaukee Bucks          51         New York Knicks   \n751 2022-01-31         New York Knicks          50        Sacramento Kings   \n764 2022-02-02         New York Knicks          51       Memphis Grizzlies   \n775 2022-02-05      Los Angeles Lakers          52         New York Knicks   \n790 2022-02-07               Utah Jazz          53         New York Knicks   \n797 2022-02-08          Denver Nuggets          53         New York Knicks   \n812 2022-02-10   Golden State Warriors          55         New York Knicks   \n\n     away_games  \n4             1  \n16            2  \n36            3  \n49            4  \n67            5  \n79            6  \n98            8  \n108           8  \n126           9  \n139          11  \n146          11  \n161          12  \n173          13  \n202          15  \n218          15  \n238          16  \n249          17  \n263          19  \n281          19  \n292          20  \n313          21  \n327          23  \n341          22  \n363          24  \n368          25  \n384          26  \n397          28  \n413          28  \n428          29  \n439          30  \n458          30  \n471          32  \n478          32  \n502          34  \n506          35  \n524          36  \n533          37  \n562          39  \n579          39  \n594          39  \n608          41  \n629          42  \n642          44  \n653          44  \n669          44  \n685          48  \n696          47  \n713          48  \n731          49  \n751          51  \n764          54  \n775          52  \n790          53  \n797          54  \n812          55  ",
      "text/html": "<div>\n<style scoped>\n    .dataframe tbody tr th:only-of-type {\n        vertical-align: middle;\n    }\n\n    .dataframe tbody tr th {\n        vertical-align: top;\n    }\n\n    .dataframe thead th {\n        text-align: right;\n    }\n</style>\n<table border=\"1\" class=\"dataframe\">\n  <thead>\n    <tr style=\"text-align: right;\">\n      <th></th>\n      <th>gmDate</th>\n      <th>homeAbbr</th>\n      <th>home_games</th>\n      <th>awayAbbr</th>\n      <th>away_games</th>\n    </tr>\n  </thead>\n  <tbody>\n    <tr>\n      <th>4</th>\n      <td>2021-10-20</td>\n      <td>New York Knicks</td>\n      <td>1</td>\n      <td>Boston Celtics</td>\n      <td>1</td>\n    </tr>\n    <tr>\n      <th>16</th>\n      <td>2021-10-22</td>\n      <td>Orlando Magic</td>\n      <td>2</td>\n      <td>New York Knicks</td>\n      <td>2</td>\n    </tr>\n    <tr>\n      <th>36</th>\n      <td>2021-10-24</td>\n      <td>New York Knicks</td>\n      <td>3</td>\n      <td>Orlando Magic</td>\n      <td>3</td>\n    </tr>\n    <tr>\n      <th>49</th>\n      <td>2021-10-26</td>\n      <td>New York Knicks</td>\n      <td>4</td>\n      <td>Philadelphia 76ers</td>\n      <td>4</td>\n    </tr>\n    <tr>\n      <th>67</th>\n      <td>2021-10-28</td>\n      <td>Chicago Bulls</td>\n      <td>5</td>\n      <td>New York Knicks</td>\n      <td>5</td>\n    </tr>\n    <tr>\n      <th>79</th>\n      <td>2021-10-30</td>\n      <td>New Orleans Pelicans</td>\n      <td>7</td>\n      <td>New York Knicks</td>\n      <td>6</td>\n    </tr>\n    <tr>\n      <th>98</th>\n      <td>2021-11-01</td>\n      <td>New York Knicks</td>\n      <td>7</td>\n      <td>Toronto Raptors</td>\n      <td>8</td>\n    </tr>\n    <tr>\n      <th>108</th>\n      <td>2021-11-03</td>\n      <td>Indiana Pacers</td>\n      <td>9</td>\n      <td>New York Knicks</td>\n      <td>8</td>\n    </tr>\n    <tr>\n      <th>126</th>\n      <td>2021-11-05</td>\n      <td>Milwaukee Bucks</td>\n      <td>9</td>\n      <td>New York Knicks</td>\n      <td>9</td>\n    </tr>\n    <tr>\n      <th>139</th>\n      <td>2021-11-07</td>\n      <td>New York Knicks</td>\n      <td>10</td>\n      <td>Cleveland Cavaliers</td>\n      <td>11</td>\n    </tr>\n    <tr>\n      <th>146</th>\n      <td>2021-11-08</td>\n      <td>Philadelphia 76ers</td>\n      <td>11</td>\n      <td>New York Knicks</td>\n      <td>11</td>\n    </tr>\n    <tr>\n      <th>161</th>\n      <td>2021-11-10</td>\n      <td>New York Knicks</td>\n      <td>12</td>\n      <td>Milwaukee Bucks</td>\n      <td>12</td>\n    </tr>\n    <tr>\n      <th>173</th>\n      <td>2021-11-12</td>\n      <td>Charlotte Hornets</td>\n      <td>14</td>\n      <td>New York Knicks</td>\n      <td>13</td>\n    </tr>\n    <tr>\n      <th>202</th>\n      <td>2021-11-15</td>\n      <td>New York Knicks</td>\n      <td>14</td>\n      <td>Indiana Pacers</td>\n      <td>15</td>\n    </tr>\n    <tr>\n      <th>218</th>\n      <td>2021-11-17</td>\n      <td>New York Knicks</td>\n      <td>15</td>\n      <td>Orlando Magic</td>\n      <td>15</td>\n    </tr>\n    <tr>\n      <th>238</th>\n      <td>2021-11-20</td>\n      <td>New York Knicks</td>\n      <td>16</td>\n      <td>Houston Rockets</td>\n      <td>16</td>\n    </tr>\n    <tr>\n      <th>249</th>\n      <td>2021-11-21</td>\n      <td>Chicago Bulls</td>\n      <td>17</td>\n      <td>New York Knicks</td>\n      <td>17</td>\n    </tr>\n    <tr>\n      <th>263</th>\n      <td>2021-11-23</td>\n      <td>New York Knicks</td>\n      <td>18</td>\n      <td>Los Angeles Lakers</td>\n      <td>19</td>\n    </tr>\n    <tr>\n      <th>281</th>\n      <td>2021-11-26</td>\n      <td>New York Knicks</td>\n      <td>19</td>\n      <td>Phoenix Suns</td>\n      <td>19</td>\n    </tr>\n    <tr>\n      <th>292</th>\n      <td>2021-11-27</td>\n      <td>Atlanta Hawks</td>\n      <td>21</td>\n      <td>New York Knicks</td>\n      <td>20</td>\n    </tr>\n    <tr>\n      <th>313</th>\n      <td>2021-11-30</td>\n      <td>Brooklyn Nets</td>\n      <td>21</td>\n      <td>New York Knicks</td>\n      <td>21</td>\n    </tr>\n    <tr>\n      <th>327</th>\n      <td>2021-12-02</td>\n      <td>New York Knicks</td>\n      <td>22</td>\n      <td>Chicago Bulls</td>\n      <td>23</td>\n    </tr>\n    <tr>\n      <th>341</th>\n      <td>2021-12-04</td>\n      <td>New York Knicks</td>\n      <td>23</td>\n      <td>Denver Nuggets</td>\n      <td>22</td>\n    </tr>\n    <tr>\n      <th>363</th>\n      <td>2021-12-07</td>\n      <td>San Antonio Spurs</td>\n      <td>23</td>\n      <td>New York Knicks</td>\n      <td>24</td>\n    </tr>\n    <tr>\n      <th>368</th>\n      <td>2021-12-08</td>\n      <td>Indiana Pacers</td>\n      <td>27</td>\n      <td>New York Knicks</td>\n      <td>25</td>\n    </tr>\n    <tr>\n      <th>384</th>\n      <td>2021-12-10</td>\n      <td>Toronto Raptors</td>\n      <td>26</td>\n      <td>New York Knicks</td>\n      <td>26</td>\n    </tr>\n    <tr>\n      <th>397</th>\n      <td>2021-12-12</td>\n      <td>New York Knicks</td>\n      <td>27</td>\n      <td>Milwaukee Bucks</td>\n      <td>28</td>\n    </tr>\n    <tr>\n      <th>413</th>\n      <td>2021-12-14</td>\n      <td>New York Knicks</td>\n      <td>28</td>\n      <td>Golden State Warriors</td>\n      <td>28</td>\n    </tr>\n    <tr>\n      <th>428</th>\n      <td>2021-12-16</td>\n      <td>Houston Rockets</td>\n      <td>29</td>\n      <td>New York Knicks</td>\n      <td>29</td>\n    </tr>\n    <tr>\n      <th>439</th>\n      <td>2021-12-18</td>\n      <td>Boston Celtics</td>\n      <td>30</td>\n      <td>New York Knicks</td>\n      <td>30</td>\n    </tr>\n    <tr>\n      <th>458</th>\n      <td>2021-12-21</td>\n      <td>New York Knicks</td>\n      <td>31</td>\n      <td>Detroit Pistons</td>\n      <td>30</td>\n    </tr>\n    <tr>\n      <th>471</th>\n      <td>2021-12-23</td>\n      <td>New York Knicks</td>\n      <td>32</td>\n      <td>Washington Wizards</td>\n      <td>32</td>\n    </tr>\n    <tr>\n      <th>478</th>\n      <td>2021-12-25</td>\n      <td>New York Knicks</td>\n      <td>33</td>\n      <td>Atlanta Hawks</td>\n      <td>32</td>\n    </tr>\n    <tr>\n      <th>502</th>\n      <td>2021-12-28</td>\n      <td>Minnesota Timberwolves</td>\n      <td>34</td>\n      <td>New York Knicks</td>\n      <td>34</td>\n    </tr>\n    <tr>\n      <th>506</th>\n      <td>2021-12-29</td>\n      <td>Detroit Pistons</td>\n      <td>33</td>\n      <td>New York Knicks</td>\n      <td>35</td>\n    </tr>\n    <tr>\n      <th>524</th>\n      <td>2021-12-31</td>\n      <td>Oklahoma City Thunder</td>\n      <td>35</td>\n      <td>New York Knicks</td>\n      <td>36</td>\n    </tr>\n    <tr>\n      <th>533</th>\n      <td>2022-01-02</td>\n      <td>Toronto Raptors</td>\n      <td>33</td>\n      <td>New York Knicks</td>\n      <td>37</td>\n    </tr>\n    <tr>\n      <th>562</th>\n      <td>2022-01-06</td>\n      <td>New York Knicks</td>\n      <td>38</td>\n      <td>Boston Celtics</td>\n      <td>39</td>\n    </tr>\n    <tr>\n      <th>579</th>\n      <td>2022-01-08</td>\n      <td>Boston Celtics</td>\n      <td>40</td>\n      <td>New York Knicks</td>\n      <td>39</td>\n    </tr>\n    <tr>\n      <th>594</th>\n      <td>2022-01-10</td>\n      <td>New York Knicks</td>\n      <td>40</td>\n      <td>San Antonio Spurs</td>\n      <td>39</td>\n    </tr>\n    <tr>\n      <th>608</th>\n      <td>2022-01-12</td>\n      <td>New York Knicks</td>\n      <td>41</td>\n      <td>Dallas Mavericks</td>\n      <td>41</td>\n    </tr>\n    <tr>\n      <th>629</th>\n      <td>2022-01-15</td>\n      <td>Atlanta Hawks</td>\n      <td>42</td>\n      <td>New York Knicks</td>\n      <td>42</td>\n    </tr>\n    <tr>\n      <th>642</th>\n      <td>2022-01-17</td>\n      <td>New York Knicks</td>\n      <td>43</td>\n      <td>Charlotte Hornets</td>\n      <td>44</td>\n    </tr>\n    <tr>\n      <th>653</th>\n      <td>2022-01-18</td>\n      <td>New York Knicks</td>\n      <td>44</td>\n      <td>Minnesota Timberwolves</td>\n      <td>44</td>\n    </tr>\n    <tr>\n      <th>669</th>\n      <td>2022-01-20</td>\n      <td>New York Knicks</td>\n      <td>45</td>\n      <td>New Orleans Pelicans</td>\n      <td>44</td>\n    </tr>\n    <tr>\n      <th>685</th>\n      <td>2022-01-23</td>\n      <td>New York Knicks</td>\n      <td>46</td>\n      <td>Los Angeles Clippers</td>\n      <td>48</td>\n    </tr>\n    <tr>\n      <th>696</th>\n      <td>2022-01-24</td>\n      <td>Cleveland Cavaliers</td>\n      <td>48</td>\n      <td>New York Knicks</td>\n      <td>47</td>\n    </tr>\n    <tr>\n      <th>713</th>\n      <td>2022-01-26</td>\n      <td>Miami Heat</td>\n      <td>48</td>\n      <td>New York Knicks</td>\n      <td>48</td>\n    </tr>\n    <tr>\n      <th>731</th>\n      <td>2022-01-28</td>\n      <td>Milwaukee Bucks</td>\n      <td>51</td>\n      <td>New York Knicks</td>\n      <td>49</td>\n    </tr>\n    <tr>\n      <th>751</th>\n      <td>2022-01-31</td>\n      <td>New York Knicks</td>\n      <td>50</td>\n      <td>Sacramento Kings</td>\n      <td>51</td>\n    </tr>\n    <tr>\n      <th>764</th>\n      <td>2022-02-02</td>\n      <td>New York Knicks</td>\n      <td>51</td>\n      <td>Memphis Grizzlies</td>\n      <td>54</td>\n    </tr>\n    <tr>\n      <th>775</th>\n      <td>2022-02-05</td>\n      <td>Los Angeles Lakers</td>\n      <td>52</td>\n      <td>New York Knicks</td>\n      <td>52</td>\n    </tr>\n    <tr>\n      <th>790</th>\n      <td>2022-02-07</td>\n      <td>Utah Jazz</td>\n      <td>53</td>\n      <td>New York Knicks</td>\n      <td>53</td>\n    </tr>\n    <tr>\n      <th>797</th>\n      <td>2022-02-08</td>\n      <td>Denver Nuggets</td>\n      <td>53</td>\n      <td>New York Knicks</td>\n      <td>54</td>\n    </tr>\n    <tr>\n      <th>812</th>\n      <td>2022-02-10</td>\n      <td>Golden State Warriors</td>\n      <td>55</td>\n      <td>New York Knicks</td>\n      <td>55</td>\n    </tr>\n  </tbody>\n</table>\n</div>"
     },
     "execution_count": 16,
     "metadata": {},
     "output_type": "execute_result"
    }
   ],
   "source": [
    "# 紀錄主客隊場次\n",
    "team_games = {}\n",
    "for index, row in nba_df[['homeAbbr','Season']].groupby(['homeAbbr','Season']).size().reset_index().sort_values(by=['homeAbbr','Season'])[:].iterrows():\n",
    "    team_games[f\"{row['homeAbbr']},{row['Season']}\"] = 1\n",
    "home_games = []\n",
    "away_games = []\n",
    "for index, row in nba_df.iterrows():\n",
    "\n",
    "    home_games.append(team_games[f\"{row['homeAbbr']},{row['Season']}\"])\n",
    "    team_games[f\"{row['homeAbbr']},{row['Season']}\"] = team_games[f\"{row['homeAbbr']},{row['Season']}\"]+1\n",
    "\n",
    "    away_games.append(team_games[f\"{row['awayAbbr']},{row['Season']}\"])\n",
    "    team_games[f\"{row['awayAbbr']},{row['Season']}\"] = team_games[f\"{row['awayAbbr']},{row['Season']}\"]+1\n",
    "\n",
    "nba_df['home_games'] = pd.Series(home_games)\n",
    "nba_df['away_games'] = pd.Series(away_games)\n",
    "nba_df[(nba_df.homeAbbr=='New York Knicks')|(nba_df.awayAbbr=='New York Knicks')][['gmDate','homeAbbr','home_games','awayAbbr','away_games']]"
   ],
   "metadata": {
    "collapsed": false,
    "pycharm": {
     "name": "#%%\n"
    }
   }
  },
  {
   "cell_type": "code",
   "execution_count": 17,
   "outputs": [
    {
     "data": {
      "text/plain": "     homeRslt     gmDate gmTime            homeAbbr  home_games  \\\n0           1 2021-10-19  19:30     Milwaukee Bucks           1   \n1           0 2021-10-19  22:00  Los Angeles Lakers           1   \n2           1 2021-10-20  19:00   Charlotte Hornets           1   \n3           0 2021-10-20  19:00     Detroit Pistons           1   \n4           1 2021-10-20  19:30     New York Knicks           1   \n..        ...        ...    ...                 ...         ...   \n819         1 2022-02-11  20:00       Chicago Bulls          54   \n820         1 2022-02-11  21:00           Utah Jazz          55   \n821         1 2022-02-12  21:00        Phoenix Suns          54   \n822         1 2022-02-13  14:00      Boston Celtics          57   \n823         0 2022-02-13  15:00      Indiana Pacers          56   \n\n     home1x2FirstOptionRate  home1x2LastOptionRate  home1x2FirstWinRate  \\\n0                      1.90                   1.80                50.00   \n1                      1.47                   1.62                65.17   \n2                      1.74                   2.05                55.27   \n3                      2.25                   2.80                42.75   \n4                      1.83                   1.68                52.22   \n..                      ...                    ...                  ...   \n819                    1.56                   1.87                62.50   \n820                    1.11                   1.11                86.31   \n821                    1.06                   1.06                91.21   \n822                    1.42                   1.33                67.87   \n823                    3.00                   3.40                32.13   \n\n     home1x2LastWinRate  home1x2KellyIndex                awayAbbr  \\\n0                 53.25               0.95           Brooklyn Nets   \n1                 59.70               0.96   Golden State Warriors   \n2                 46.75               0.96          Indiana Pacers   \n3                 34.12               0.98           Chicago Bulls   \n4                 57.25               0.94          Boston Celtics   \n..                  ...                ...                     ...   \n819               51.05               0.97  Minnesota Timberwolves   \n820               86.31               0.94           Orlando Magic   \n821               91.88               0.96           Orlando Magic   \n822               71.88               0.96           Atlanta Hawks   \n823               28.12               0.95  Minnesota Timberwolves   \n\n     away_games  away1x2FirstOptionRate  away1x2LastOptionRate  \\\n0             1                    1.90                   2.05   \n1             1                    2.75                   2.40   \n2             1                    2.15                   1.80   \n3             1                    1.68                   1.45   \n4             1                    2.00                   2.25   \n..          ...                     ...                    ...   \n819          55                    2.60                   1.95   \n820          57                    7.00                   7.00   \n821          58                   11.00                  12.00   \n822          54                    3.00                   3.40   \n823          56                    1.42                   1.33   \n\n     away1x2FirstWinRate  away1x2LastWinRate  away1x2KellyIndex   Season_half  \\\n0                  50.00               46.75               0.96   Pre_AllStar   \n1                  34.83               40.30               0.98   Pre_AllStar   \n2                  44.73               53.25               0.95   Pre_AllStar   \n3                  57.25               65.88               0.94   Pre_AllStar   \n4                  47.78               42.75               0.99   Pre_AllStar   \n..                   ...                 ...                ...           ...   \n819                37.50               48.95               0.94  Post_AllStar   \n820                13.69               13.69               1.05  Post_AllStar   \n821                 8.79                8.12               1.08  Post_AllStar   \n822                32.13               28.12               0.95  Post_AllStar   \n823                67.87               71.88               0.96  Post_AllStar   \n\n     1x2FirstRTP  1x2LastRTP  \n0          95.00       95.85  \n1          95.80       96.71  \n2          96.17       95.84  \n3          96.19       95.54  \n4          95.56       96.18  \n..           ...         ...  \n819        97.50       95.46  \n820        95.80       95.80  \n821        96.68       97.39  \n822        96.38       95.60  \n823        96.39       95.61  \n\n[824 rows x 20 columns]",
      "text/html": "<div>\n<style scoped>\n    .dataframe tbody tr th:only-of-type {\n        vertical-align: middle;\n    }\n\n    .dataframe tbody tr th {\n        vertical-align: top;\n    }\n\n    .dataframe thead th {\n        text-align: right;\n    }\n</style>\n<table border=\"1\" class=\"dataframe\">\n  <thead>\n    <tr style=\"text-align: right;\">\n      <th></th>\n      <th>homeRslt</th>\n      <th>gmDate</th>\n      <th>gmTime</th>\n      <th>homeAbbr</th>\n      <th>home_games</th>\n      <th>home1x2FirstOptionRate</th>\n      <th>home1x2LastOptionRate</th>\n      <th>home1x2FirstWinRate</th>\n      <th>home1x2LastWinRate</th>\n      <th>home1x2KellyIndex</th>\n      <th>awayAbbr</th>\n      <th>away_games</th>\n      <th>away1x2FirstOptionRate</th>\n      <th>away1x2LastOptionRate</th>\n      <th>away1x2FirstWinRate</th>\n      <th>away1x2LastWinRate</th>\n      <th>away1x2KellyIndex</th>\n      <th>Season_half</th>\n      <th>1x2FirstRTP</th>\n      <th>1x2LastRTP</th>\n    </tr>\n  </thead>\n  <tbody>\n    <tr>\n      <th>0</th>\n      <td>1</td>\n      <td>2021-10-19</td>\n      <td>19:30</td>\n      <td>Milwaukee Bucks</td>\n      <td>1</td>\n      <td>1.90</td>\n      <td>1.80</td>\n      <td>50.00</td>\n      <td>53.25</td>\n      <td>0.95</td>\n      <td>Brooklyn Nets</td>\n      <td>1</td>\n      <td>1.90</td>\n      <td>2.05</td>\n      <td>50.00</td>\n      <td>46.75</td>\n      <td>0.96</td>\n      <td>Pre_AllStar</td>\n      <td>95.00</td>\n      <td>95.85</td>\n    </tr>\n    <tr>\n      <th>1</th>\n      <td>0</td>\n      <td>2021-10-19</td>\n      <td>22:00</td>\n      <td>Los Angeles Lakers</td>\n      <td>1</td>\n      <td>1.47</td>\n      <td>1.62</td>\n      <td>65.17</td>\n      <td>59.70</td>\n      <td>0.96</td>\n      <td>Golden State Warriors</td>\n      <td>1</td>\n      <td>2.75</td>\n      <td>2.40</td>\n      <td>34.83</td>\n      <td>40.30</td>\n      <td>0.98</td>\n      <td>Pre_AllStar</td>\n      <td>95.80</td>\n      <td>96.71</td>\n    </tr>\n    <tr>\n      <th>2</th>\n      <td>1</td>\n      <td>2021-10-20</td>\n      <td>19:00</td>\n      <td>Charlotte Hornets</td>\n      <td>1</td>\n      <td>1.74</td>\n      <td>2.05</td>\n      <td>55.27</td>\n      <td>46.75</td>\n      <td>0.96</td>\n      <td>Indiana Pacers</td>\n      <td>1</td>\n      <td>2.15</td>\n      <td>1.80</td>\n      <td>44.73</td>\n      <td>53.25</td>\n      <td>0.95</td>\n      <td>Pre_AllStar</td>\n      <td>96.17</td>\n      <td>95.84</td>\n    </tr>\n    <tr>\n      <th>3</th>\n      <td>0</td>\n      <td>2021-10-20</td>\n      <td>19:00</td>\n      <td>Detroit Pistons</td>\n      <td>1</td>\n      <td>2.25</td>\n      <td>2.80</td>\n      <td>42.75</td>\n      <td>34.12</td>\n      <td>0.98</td>\n      <td>Chicago Bulls</td>\n      <td>1</td>\n      <td>1.68</td>\n      <td>1.45</td>\n      <td>57.25</td>\n      <td>65.88</td>\n      <td>0.94</td>\n      <td>Pre_AllStar</td>\n      <td>96.19</td>\n      <td>95.54</td>\n    </tr>\n    <tr>\n      <th>4</th>\n      <td>1</td>\n      <td>2021-10-20</td>\n      <td>19:30</td>\n      <td>New York Knicks</td>\n      <td>1</td>\n      <td>1.83</td>\n      <td>1.68</td>\n      <td>52.22</td>\n      <td>57.25</td>\n      <td>0.94</td>\n      <td>Boston Celtics</td>\n      <td>1</td>\n      <td>2.00</td>\n      <td>2.25</td>\n      <td>47.78</td>\n      <td>42.75</td>\n      <td>0.99</td>\n      <td>Pre_AllStar</td>\n      <td>95.56</td>\n      <td>96.18</td>\n    </tr>\n    <tr>\n      <th>...</th>\n      <td>...</td>\n      <td>...</td>\n      <td>...</td>\n      <td>...</td>\n      <td>...</td>\n      <td>...</td>\n      <td>...</td>\n      <td>...</td>\n      <td>...</td>\n      <td>...</td>\n      <td>...</td>\n      <td>...</td>\n      <td>...</td>\n      <td>...</td>\n      <td>...</td>\n      <td>...</td>\n      <td>...</td>\n      <td>...</td>\n      <td>...</td>\n      <td>...</td>\n    </tr>\n    <tr>\n      <th>819</th>\n      <td>1</td>\n      <td>2022-02-11</td>\n      <td>20:00</td>\n      <td>Chicago Bulls</td>\n      <td>54</td>\n      <td>1.56</td>\n      <td>1.87</td>\n      <td>62.50</td>\n      <td>51.05</td>\n      <td>0.97</td>\n      <td>Minnesota Timberwolves</td>\n      <td>55</td>\n      <td>2.60</td>\n      <td>1.95</td>\n      <td>37.50</td>\n      <td>48.95</td>\n      <td>0.94</td>\n      <td>Post_AllStar</td>\n      <td>97.50</td>\n      <td>95.46</td>\n    </tr>\n    <tr>\n      <th>820</th>\n      <td>1</td>\n      <td>2022-02-11</td>\n      <td>21:00</td>\n      <td>Utah Jazz</td>\n      <td>55</td>\n      <td>1.11</td>\n      <td>1.11</td>\n      <td>86.31</td>\n      <td>86.31</td>\n      <td>0.94</td>\n      <td>Orlando Magic</td>\n      <td>57</td>\n      <td>7.00</td>\n      <td>7.00</td>\n      <td>13.69</td>\n      <td>13.69</td>\n      <td>1.05</td>\n      <td>Post_AllStar</td>\n      <td>95.80</td>\n      <td>95.80</td>\n    </tr>\n    <tr>\n      <th>821</th>\n      <td>1</td>\n      <td>2022-02-12</td>\n      <td>21:00</td>\n      <td>Phoenix Suns</td>\n      <td>54</td>\n      <td>1.06</td>\n      <td>1.06</td>\n      <td>91.21</td>\n      <td>91.88</td>\n      <td>0.96</td>\n      <td>Orlando Magic</td>\n      <td>58</td>\n      <td>11.00</td>\n      <td>12.00</td>\n      <td>8.79</td>\n      <td>8.12</td>\n      <td>1.08</td>\n      <td>Post_AllStar</td>\n      <td>96.68</td>\n      <td>97.39</td>\n    </tr>\n    <tr>\n      <th>822</th>\n      <td>1</td>\n      <td>2022-02-13</td>\n      <td>14:00</td>\n      <td>Boston Celtics</td>\n      <td>57</td>\n      <td>1.42</td>\n      <td>1.33</td>\n      <td>67.87</td>\n      <td>71.88</td>\n      <td>0.96</td>\n      <td>Atlanta Hawks</td>\n      <td>54</td>\n      <td>3.00</td>\n      <td>3.40</td>\n      <td>32.13</td>\n      <td>28.12</td>\n      <td>0.95</td>\n      <td>Post_AllStar</td>\n      <td>96.38</td>\n      <td>95.60</td>\n    </tr>\n    <tr>\n      <th>823</th>\n      <td>0</td>\n      <td>2022-02-13</td>\n      <td>15:00</td>\n      <td>Indiana Pacers</td>\n      <td>56</td>\n      <td>3.00</td>\n      <td>3.40</td>\n      <td>32.13</td>\n      <td>28.12</td>\n      <td>0.95</td>\n      <td>Minnesota Timberwolves</td>\n      <td>56</td>\n      <td>1.42</td>\n      <td>1.33</td>\n      <td>67.87</td>\n      <td>71.88</td>\n      <td>0.96</td>\n      <td>Post_AllStar</td>\n      <td>96.39</td>\n      <td>95.61</td>\n    </tr>\n  </tbody>\n</table>\n<p>824 rows × 20 columns</p>\n</div>"
     },
     "execution_count": 17,
     "metadata": {},
     "output_type": "execute_result"
    }
   ],
   "source": [
    "#DF for ML:\n",
    "nba_df_for_ML = nba_df[['homeRslt','gmDate','gmTime',\n",
    "                        'homeAbbr','home_games','home1x2FirstOptionRate','home1x2LastOptionRate','home1x2FirstWinRate','home1x2LastWinRate','home1x2KellyIndex',\n",
    "                        'awayAbbr','away_games','away1x2FirstOptionRate','away1x2LastOptionRate','away1x2FirstWinRate','away1x2LastWinRate','away1x2KellyIndex',\n",
    "                        'Season_half','1x2FirstRTP', '1x2LastRTP']].copy()\n",
    "nba_df_for_ML"
   ],
   "metadata": {
    "collapsed": false,
    "pycharm": {
     "name": "#%%\n"
    }
   }
  },
  {
   "cell_type": "code",
   "execution_count": 18,
   "outputs": [
    {
     "data": {
      "text/plain": "        gmDate                homeAbbr  home_games  home_streak  \\\n0   2021-10-19         Milwaukee Bucks           1            0   \n14  2021-10-21              Miami Heat           1            0   \n31  2021-10-23       San Antonio Spurs           3            0   \n41  2021-10-25          Indiana Pacers           4            1   \n59  2021-10-27         Milwaukee Bucks           5            2   \n84  2021-10-30         Milwaukee Bucks           6            0   \n90  2021-10-31         Milwaukee Bucks           7            0   \n102 2021-11-02         Detroit Pistons           7            0   \n126 2021-11-05         Milwaukee Bucks           9            1   \n142 2021-11-07      Washington Wizards          10            1   \n154 2021-11-09      Philadelphia 76ers          12            0   \n161 2021-11-10         New York Knicks          12            1   \n174 2021-11-12          Boston Celtics          12            1   \n192 2021-11-14           Atlanta Hawks          14            0   \n217 2021-11-17         Milwaukee Bucks          15            0   \n233 2021-11-19         Milwaukee Bucks          16            1   \n243 2021-11-20         Milwaukee Bucks          17            2   \n257 2021-11-22         Milwaukee Bucks          18            3   \n272 2021-11-24         Milwaukee Bucks          19            4   \n287 2021-11-26          Denver Nuggets          19            0   \n300 2021-11-28          Indiana Pacers          22            1   \n323 2021-12-01         Milwaukee Bucks          22            7   \n328 2021-12-02         Toronto Raptors          23            0   \n343 2021-12-04         Milwaukee Bucks          24            0   \n357 2021-12-06         Milwaukee Bucks          25            1   \n369 2021-12-08              Miami Heat          26            0   \n385 2021-12-10         Houston Rockets          25            7   \n397 2021-12-12         New York Knicks          27            0   \n407 2021-12-13          Boston Celtics          28            0   \n419 2021-12-15         Milwaukee Bucks          30            0   \n433 2021-12-17    New Orleans Pelicans          31            1   \n443 2021-12-18         Milwaukee Bucks          32            0   \n464 2021-12-22         Milwaukee Bucks          33            0   \n472 2021-12-23        Dallas Mavericks          31            1   \n479 2021-12-25         Milwaukee Bucks          35            2   \n498 2021-12-28           Orlando Magic          35            0   \n515 2021-12-30           Orlando Magic          36            0   \n527 2022-01-01         Milwaukee Bucks          38            5   \n544 2022-01-03         Milwaukee Bucks          39            6   \n557 2022-01-05         Milwaukee Bucks          40            0   \n567 2022-01-07           Brooklyn Nets          37            1   \n576 2022-01-08       Charlotte Hornets          40            1   \n591 2022-01-10       Charlotte Hornets          41            2   \n613 2022-01-13         Milwaukee Bucks          44            0   \n627 2022-01-15         Milwaukee Bucks          45            1   \n647 2022-01-17           Atlanta Hawks          43            0   \n661 2022-01-19         Milwaukee Bucks          47            0   \n676 2022-01-21         Milwaukee Bucks          48            1   \n682 2022-01-22         Milwaukee Bucks          49            2   \n709 2022-01-26     Cleveland Cavaliers          49            2   \n731 2022-01-28         Milwaukee Bucks          51            0   \n742 2022-01-30         Milwaukee Bucks          52            1   \n755 2022-02-01         Milwaukee Bucks          53            0   \n776 2022-02-05  Portland Trail Blazers          54            0   \n785 2022-02-06    Los Angeles Clippers          54            0   \n798 2022-02-08      Los Angeles Lakers          53            2   \n813 2022-02-10            Phoenix Suns          53           14   \n\n                   awayAbbr  away_games  away_streak  \n0             Brooklyn Nets           1            0  \n14          Milwaukee Bucks           2            1  \n31          Milwaukee Bucks           3            0  \n41          Milwaukee Bucks           4            1  \n59   Minnesota Timberwolves           4            0  \n84        San Antonio Spurs           6            0  \n90                Utah Jazz           6            0  \n102         Milwaukee Bucks           8            0  \n126         New York Knicks           9            0  \n142         Milwaukee Bucks          10            0  \n154         Milwaukee Bucks          11            0  \n161         Milwaukee Bucks          12            1  \n174         Milwaukee Bucks          13            2  \n192         Milwaukee Bucks          14            0  \n217      Los Angeles Lakers          16            0  \n233   Oklahoma City Thunder          15            1  \n243           Orlando Magic          17            0  \n257           Orlando Magic          18            0  \n272         Detroit Pistons          18            0  \n287         Milwaukee Bucks          20            5  \n300         Milwaukee Bucks          21            6  \n323       Charlotte Hornets          24            0  \n328         Milwaukee Bucks          23            8  \n343              Miami Heat          24            1  \n357     Cleveland Cavaliers          25            0  \n369         Milwaukee Bucks          26            2  \n385         Milwaukee Bucks          27            0  \n397         Milwaukee Bucks          28            1  \n407         Milwaukee Bucks          29            2  \n419          Indiana Pacers          30            0  \n433         Milwaukee Bucks          31            1  \n443     Cleveland Cavaliers          31            5  \n464         Houston Rockets          32            0  \n472         Milwaukee Bucks          34            1  \n479          Boston Celtics          33            1  \n498         Milwaukee Bucks          36            3  \n515         Milwaukee Bucks          37            4  \n527    New Orleans Pelicans          36            1  \n544         Detroit Pistons          35            1  \n557         Toronto Raptors          34            2  \n567         Milwaukee Bucks          41            0  \n576         Milwaukee Bucks          42            1  \n591         Milwaukee Bucks          43            0  \n613   Golden State Warriors          41            0  \n627         Toronto Raptors          39            0  \n647         Milwaukee Bucks          46            0  \n661       Memphis Grizzlies          47            1  \n676           Chicago Bulls          44            1  \n682        Sacramento Kings          47            0  \n709         Milwaukee Bucks          50            3  \n731         New York Knicks          49            0  \n742          Denver Nuggets          49            4  \n755      Washington Wizards          50            0  \n776         Milwaukee Bucks          54            1  \n785         Milwaukee Bucks          55            2  \n798         Milwaukee Bucks          56            3  \n813         Milwaukee Bucks          57            4  ",
      "text/html": "<div>\n<style scoped>\n    .dataframe tbody tr th:only-of-type {\n        vertical-align: middle;\n    }\n\n    .dataframe tbody tr th {\n        vertical-align: top;\n    }\n\n    .dataframe thead th {\n        text-align: right;\n    }\n</style>\n<table border=\"1\" class=\"dataframe\">\n  <thead>\n    <tr style=\"text-align: right;\">\n      <th></th>\n      <th>gmDate</th>\n      <th>homeAbbr</th>\n      <th>home_games</th>\n      <th>home_streak</th>\n      <th>awayAbbr</th>\n      <th>away_games</th>\n      <th>away_streak</th>\n    </tr>\n  </thead>\n  <tbody>\n    <tr>\n      <th>0</th>\n      <td>2021-10-19</td>\n      <td>Milwaukee Bucks</td>\n      <td>1</td>\n      <td>0</td>\n      <td>Brooklyn Nets</td>\n      <td>1</td>\n      <td>0</td>\n    </tr>\n    <tr>\n      <th>14</th>\n      <td>2021-10-21</td>\n      <td>Miami Heat</td>\n      <td>1</td>\n      <td>0</td>\n      <td>Milwaukee Bucks</td>\n      <td>2</td>\n      <td>1</td>\n    </tr>\n    <tr>\n      <th>31</th>\n      <td>2021-10-23</td>\n      <td>San Antonio Spurs</td>\n      <td>3</td>\n      <td>0</td>\n      <td>Milwaukee Bucks</td>\n      <td>3</td>\n      <td>0</td>\n    </tr>\n    <tr>\n      <th>41</th>\n      <td>2021-10-25</td>\n      <td>Indiana Pacers</td>\n      <td>4</td>\n      <td>1</td>\n      <td>Milwaukee Bucks</td>\n      <td>4</td>\n      <td>1</td>\n    </tr>\n    <tr>\n      <th>59</th>\n      <td>2021-10-27</td>\n      <td>Milwaukee Bucks</td>\n      <td>5</td>\n      <td>2</td>\n      <td>Minnesota Timberwolves</td>\n      <td>4</td>\n      <td>0</td>\n    </tr>\n    <tr>\n      <th>84</th>\n      <td>2021-10-30</td>\n      <td>Milwaukee Bucks</td>\n      <td>6</td>\n      <td>0</td>\n      <td>San Antonio Spurs</td>\n      <td>6</td>\n      <td>0</td>\n    </tr>\n    <tr>\n      <th>90</th>\n      <td>2021-10-31</td>\n      <td>Milwaukee Bucks</td>\n      <td>7</td>\n      <td>0</td>\n      <td>Utah Jazz</td>\n      <td>6</td>\n      <td>0</td>\n    </tr>\n    <tr>\n      <th>102</th>\n      <td>2021-11-02</td>\n      <td>Detroit Pistons</td>\n      <td>7</td>\n      <td>0</td>\n      <td>Milwaukee Bucks</td>\n      <td>8</td>\n      <td>0</td>\n    </tr>\n    <tr>\n      <th>126</th>\n      <td>2021-11-05</td>\n      <td>Milwaukee Bucks</td>\n      <td>9</td>\n      <td>1</td>\n      <td>New York Knicks</td>\n      <td>9</td>\n      <td>0</td>\n    </tr>\n    <tr>\n      <th>142</th>\n      <td>2021-11-07</td>\n      <td>Washington Wizards</td>\n      <td>10</td>\n      <td>1</td>\n      <td>Milwaukee Bucks</td>\n      <td>10</td>\n      <td>0</td>\n    </tr>\n    <tr>\n      <th>154</th>\n      <td>2021-11-09</td>\n      <td>Philadelphia 76ers</td>\n      <td>12</td>\n      <td>0</td>\n      <td>Milwaukee Bucks</td>\n      <td>11</td>\n      <td>0</td>\n    </tr>\n    <tr>\n      <th>161</th>\n      <td>2021-11-10</td>\n      <td>New York Knicks</td>\n      <td>12</td>\n      <td>1</td>\n      <td>Milwaukee Bucks</td>\n      <td>12</td>\n      <td>1</td>\n    </tr>\n    <tr>\n      <th>174</th>\n      <td>2021-11-12</td>\n      <td>Boston Celtics</td>\n      <td>12</td>\n      <td>1</td>\n      <td>Milwaukee Bucks</td>\n      <td>13</td>\n      <td>2</td>\n    </tr>\n    <tr>\n      <th>192</th>\n      <td>2021-11-14</td>\n      <td>Atlanta Hawks</td>\n      <td>14</td>\n      <td>0</td>\n      <td>Milwaukee Bucks</td>\n      <td>14</td>\n      <td>0</td>\n    </tr>\n    <tr>\n      <th>217</th>\n      <td>2021-11-17</td>\n      <td>Milwaukee Bucks</td>\n      <td>15</td>\n      <td>0</td>\n      <td>Los Angeles Lakers</td>\n      <td>16</td>\n      <td>0</td>\n    </tr>\n    <tr>\n      <th>233</th>\n      <td>2021-11-19</td>\n      <td>Milwaukee Bucks</td>\n      <td>16</td>\n      <td>1</td>\n      <td>Oklahoma City Thunder</td>\n      <td>15</td>\n      <td>1</td>\n    </tr>\n    <tr>\n      <th>243</th>\n      <td>2021-11-20</td>\n      <td>Milwaukee Bucks</td>\n      <td>17</td>\n      <td>2</td>\n      <td>Orlando Magic</td>\n      <td>17</td>\n      <td>0</td>\n    </tr>\n    <tr>\n      <th>257</th>\n      <td>2021-11-22</td>\n      <td>Milwaukee Bucks</td>\n      <td>18</td>\n      <td>3</td>\n      <td>Orlando Magic</td>\n      <td>18</td>\n      <td>0</td>\n    </tr>\n    <tr>\n      <th>272</th>\n      <td>2021-11-24</td>\n      <td>Milwaukee Bucks</td>\n      <td>19</td>\n      <td>4</td>\n      <td>Detroit Pistons</td>\n      <td>18</td>\n      <td>0</td>\n    </tr>\n    <tr>\n      <th>287</th>\n      <td>2021-11-26</td>\n      <td>Denver Nuggets</td>\n      <td>19</td>\n      <td>0</td>\n      <td>Milwaukee Bucks</td>\n      <td>20</td>\n      <td>5</td>\n    </tr>\n    <tr>\n      <th>300</th>\n      <td>2021-11-28</td>\n      <td>Indiana Pacers</td>\n      <td>22</td>\n      <td>1</td>\n      <td>Milwaukee Bucks</td>\n      <td>21</td>\n      <td>6</td>\n    </tr>\n    <tr>\n      <th>323</th>\n      <td>2021-12-01</td>\n      <td>Milwaukee Bucks</td>\n      <td>22</td>\n      <td>7</td>\n      <td>Charlotte Hornets</td>\n      <td>24</td>\n      <td>0</td>\n    </tr>\n    <tr>\n      <th>328</th>\n      <td>2021-12-02</td>\n      <td>Toronto Raptors</td>\n      <td>23</td>\n      <td>0</td>\n      <td>Milwaukee Bucks</td>\n      <td>23</td>\n      <td>8</td>\n    </tr>\n    <tr>\n      <th>343</th>\n      <td>2021-12-04</td>\n      <td>Milwaukee Bucks</td>\n      <td>24</td>\n      <td>0</td>\n      <td>Miami Heat</td>\n      <td>24</td>\n      <td>1</td>\n    </tr>\n    <tr>\n      <th>357</th>\n      <td>2021-12-06</td>\n      <td>Milwaukee Bucks</td>\n      <td>25</td>\n      <td>1</td>\n      <td>Cleveland Cavaliers</td>\n      <td>25</td>\n      <td>0</td>\n    </tr>\n    <tr>\n      <th>369</th>\n      <td>2021-12-08</td>\n      <td>Miami Heat</td>\n      <td>26</td>\n      <td>0</td>\n      <td>Milwaukee Bucks</td>\n      <td>26</td>\n      <td>2</td>\n    </tr>\n    <tr>\n      <th>385</th>\n      <td>2021-12-10</td>\n      <td>Houston Rockets</td>\n      <td>25</td>\n      <td>7</td>\n      <td>Milwaukee Bucks</td>\n      <td>27</td>\n      <td>0</td>\n    </tr>\n    <tr>\n      <th>397</th>\n      <td>2021-12-12</td>\n      <td>New York Knicks</td>\n      <td>27</td>\n      <td>0</td>\n      <td>Milwaukee Bucks</td>\n      <td>28</td>\n      <td>1</td>\n    </tr>\n    <tr>\n      <th>407</th>\n      <td>2021-12-13</td>\n      <td>Boston Celtics</td>\n      <td>28</td>\n      <td>0</td>\n      <td>Milwaukee Bucks</td>\n      <td>29</td>\n      <td>2</td>\n    </tr>\n    <tr>\n      <th>419</th>\n      <td>2021-12-15</td>\n      <td>Milwaukee Bucks</td>\n      <td>30</td>\n      <td>0</td>\n      <td>Indiana Pacers</td>\n      <td>30</td>\n      <td>0</td>\n    </tr>\n    <tr>\n      <th>433</th>\n      <td>2021-12-17</td>\n      <td>New Orleans Pelicans</td>\n      <td>31</td>\n      <td>1</td>\n      <td>Milwaukee Bucks</td>\n      <td>31</td>\n      <td>1</td>\n    </tr>\n    <tr>\n      <th>443</th>\n      <td>2021-12-18</td>\n      <td>Milwaukee Bucks</td>\n      <td>32</td>\n      <td>0</td>\n      <td>Cleveland Cavaliers</td>\n      <td>31</td>\n      <td>5</td>\n    </tr>\n    <tr>\n      <th>464</th>\n      <td>2021-12-22</td>\n      <td>Milwaukee Bucks</td>\n      <td>33</td>\n      <td>0</td>\n      <td>Houston Rockets</td>\n      <td>32</td>\n      <td>0</td>\n    </tr>\n    <tr>\n      <th>472</th>\n      <td>2021-12-23</td>\n      <td>Dallas Mavericks</td>\n      <td>31</td>\n      <td>1</td>\n      <td>Milwaukee Bucks</td>\n      <td>34</td>\n      <td>1</td>\n    </tr>\n    <tr>\n      <th>479</th>\n      <td>2021-12-25</td>\n      <td>Milwaukee Bucks</td>\n      <td>35</td>\n      <td>2</td>\n      <td>Boston Celtics</td>\n      <td>33</td>\n      <td>1</td>\n    </tr>\n    <tr>\n      <th>498</th>\n      <td>2021-12-28</td>\n      <td>Orlando Magic</td>\n      <td>35</td>\n      <td>0</td>\n      <td>Milwaukee Bucks</td>\n      <td>36</td>\n      <td>3</td>\n    </tr>\n    <tr>\n      <th>515</th>\n      <td>2021-12-30</td>\n      <td>Orlando Magic</td>\n      <td>36</td>\n      <td>0</td>\n      <td>Milwaukee Bucks</td>\n      <td>37</td>\n      <td>4</td>\n    </tr>\n    <tr>\n      <th>527</th>\n      <td>2022-01-01</td>\n      <td>Milwaukee Bucks</td>\n      <td>38</td>\n      <td>5</td>\n      <td>New Orleans Pelicans</td>\n      <td>36</td>\n      <td>1</td>\n    </tr>\n    <tr>\n      <th>544</th>\n      <td>2022-01-03</td>\n      <td>Milwaukee Bucks</td>\n      <td>39</td>\n      <td>6</td>\n      <td>Detroit Pistons</td>\n      <td>35</td>\n      <td>1</td>\n    </tr>\n    <tr>\n      <th>557</th>\n      <td>2022-01-05</td>\n      <td>Milwaukee Bucks</td>\n      <td>40</td>\n      <td>0</td>\n      <td>Toronto Raptors</td>\n      <td>34</td>\n      <td>2</td>\n    </tr>\n    <tr>\n      <th>567</th>\n      <td>2022-01-07</td>\n      <td>Brooklyn Nets</td>\n      <td>37</td>\n      <td>1</td>\n      <td>Milwaukee Bucks</td>\n      <td>41</td>\n      <td>0</td>\n    </tr>\n    <tr>\n      <th>576</th>\n      <td>2022-01-08</td>\n      <td>Charlotte Hornets</td>\n      <td>40</td>\n      <td>1</td>\n      <td>Milwaukee Bucks</td>\n      <td>42</td>\n      <td>1</td>\n    </tr>\n    <tr>\n      <th>591</th>\n      <td>2022-01-10</td>\n      <td>Charlotte Hornets</td>\n      <td>41</td>\n      <td>2</td>\n      <td>Milwaukee Bucks</td>\n      <td>43</td>\n      <td>0</td>\n    </tr>\n    <tr>\n      <th>613</th>\n      <td>2022-01-13</td>\n      <td>Milwaukee Bucks</td>\n      <td>44</td>\n      <td>0</td>\n      <td>Golden State Warriors</td>\n      <td>41</td>\n      <td>0</td>\n    </tr>\n    <tr>\n      <th>627</th>\n      <td>2022-01-15</td>\n      <td>Milwaukee Bucks</td>\n      <td>45</td>\n      <td>1</td>\n      <td>Toronto Raptors</td>\n      <td>39</td>\n      <td>0</td>\n    </tr>\n    <tr>\n      <th>647</th>\n      <td>2022-01-17</td>\n      <td>Atlanta Hawks</td>\n      <td>43</td>\n      <td>0</td>\n      <td>Milwaukee Bucks</td>\n      <td>46</td>\n      <td>0</td>\n    </tr>\n    <tr>\n      <th>661</th>\n      <td>2022-01-19</td>\n      <td>Milwaukee Bucks</td>\n      <td>47</td>\n      <td>0</td>\n      <td>Memphis Grizzlies</td>\n      <td>47</td>\n      <td>1</td>\n    </tr>\n    <tr>\n      <th>676</th>\n      <td>2022-01-21</td>\n      <td>Milwaukee Bucks</td>\n      <td>48</td>\n      <td>1</td>\n      <td>Chicago Bulls</td>\n      <td>44</td>\n      <td>1</td>\n    </tr>\n    <tr>\n      <th>682</th>\n      <td>2022-01-22</td>\n      <td>Milwaukee Bucks</td>\n      <td>49</td>\n      <td>2</td>\n      <td>Sacramento Kings</td>\n      <td>47</td>\n      <td>0</td>\n    </tr>\n    <tr>\n      <th>709</th>\n      <td>2022-01-26</td>\n      <td>Cleveland Cavaliers</td>\n      <td>49</td>\n      <td>2</td>\n      <td>Milwaukee Bucks</td>\n      <td>50</td>\n      <td>3</td>\n    </tr>\n    <tr>\n      <th>731</th>\n      <td>2022-01-28</td>\n      <td>Milwaukee Bucks</td>\n      <td>51</td>\n      <td>0</td>\n      <td>New York Knicks</td>\n      <td>49</td>\n      <td>0</td>\n    </tr>\n    <tr>\n      <th>742</th>\n      <td>2022-01-30</td>\n      <td>Milwaukee Bucks</td>\n      <td>52</td>\n      <td>1</td>\n      <td>Denver Nuggets</td>\n      <td>49</td>\n      <td>4</td>\n    </tr>\n    <tr>\n      <th>755</th>\n      <td>2022-02-01</td>\n      <td>Milwaukee Bucks</td>\n      <td>53</td>\n      <td>0</td>\n      <td>Washington Wizards</td>\n      <td>50</td>\n      <td>0</td>\n    </tr>\n    <tr>\n      <th>776</th>\n      <td>2022-02-05</td>\n      <td>Portland Trail Blazers</td>\n      <td>54</td>\n      <td>0</td>\n      <td>Milwaukee Bucks</td>\n      <td>54</td>\n      <td>1</td>\n    </tr>\n    <tr>\n      <th>785</th>\n      <td>2022-02-06</td>\n      <td>Los Angeles Clippers</td>\n      <td>54</td>\n      <td>0</td>\n      <td>Milwaukee Bucks</td>\n      <td>55</td>\n      <td>2</td>\n    </tr>\n    <tr>\n      <th>798</th>\n      <td>2022-02-08</td>\n      <td>Los Angeles Lakers</td>\n      <td>53</td>\n      <td>2</td>\n      <td>Milwaukee Bucks</td>\n      <td>56</td>\n      <td>3</td>\n    </tr>\n    <tr>\n      <th>813</th>\n      <td>2022-02-10</td>\n      <td>Phoenix Suns</td>\n      <td>53</td>\n      <td>14</td>\n      <td>Milwaukee Bucks</td>\n      <td>57</td>\n      <td>4</td>\n    </tr>\n  </tbody>\n</table>\n</div>"
     },
     "execution_count": 18,
     "metadata": {},
     "output_type": "execute_result"
    }
   ],
   "source": [
    "# 新增連勝特徵\n",
    "\n",
    "team_streak_dict = {}\n",
    "for index, row in nba_df[['homeAbbr','Season']].groupby(['homeAbbr','Season']).size().reset_index().sort_values(by=['homeAbbr','Season'])[:].iterrows():\n",
    "    team_streak_dict[f\"{row['homeAbbr']},{row['Season']}\"] = 0\n",
    "\n",
    "\n",
    "home_streaks = []\n",
    "away_streaks= []\n",
    "for index, row in nba_df.iterrows():\n",
    "\n",
    "    home_streaks.append(team_streak_dict[f\"{row['homeAbbr']},{row['Season']}\"])\n",
    "    away_streaks.append(team_streak_dict[f\"{row['awayAbbr']},{row['Season']}\"])\n",
    "\n",
    "    if row['homeRslt'] == 1:\n",
    "        team_streak_dict[f\"{row['homeAbbr']},{row['Season']}\"] = team_streak_dict[f\"{row['homeAbbr']},{row['Season']}\"]+1\n",
    "        team_streak_dict[f\"{row['awayAbbr']},{row['Season']}\"] = 0\n",
    "    else:\n",
    "        team_streak_dict[f\"{row['homeAbbr']},{row['Season']}\"] = 0\n",
    "        team_streak_dict[f\"{row['awayAbbr']},{row['Season']}\"] = team_streak_dict[f\"{row['awayAbbr']},{row['Season']}\"]+1\n",
    "\n",
    "nba_df_for_ML['home_streak'] = pd.Series(home_streaks)\n",
    "nba_df_for_ML['away_streak'] = pd.Series(away_streaks)\n",
    "\n",
    "nba_df_for_ML[((nba_df_for_ML.homeAbbr=='Milwaukee Bucks')|(nba_df_for_ML.awayAbbr=='Milwaukee Bucks'))][['gmDate','homeAbbr','home_games','home_streak','awayAbbr','away_games','away_streak']]"
   ],
   "metadata": {
    "collapsed": false,
    "pycharm": {
     "name": "#%%\n"
    }
   }
  },
  {
   "cell_type": "code",
   "execution_count": 20,
   "outputs": [
    {
     "data": {
      "text/plain": "Index(['gmDate', 'gmTime', 'homeAbbr', 'homeRslt', 'homePTS', 'homeAST',\n       'homeTO', 'homeSTL', 'homeBLK', 'homeFGA', 'homeFGM',\n       'homeFG_Percentage', 'home3PA', 'home3PM', 'home3P_Percentage',\n       'homeFTA', 'homeFTM', 'homeFT_Percentage', 'homeORB', 'homeDRB',\n       'homeTRB', 'homeTREB_Percentage', 'homeASST_Percentage',\n       'homeTS_Percentage', 'homeEFG_Percentage', 'homeOREB_Percentage',\n       'homeDREB_Percentage', 'homeTO_Percentage', 'homeSTL_Percentage',\n       'homeBLK_Percentage', 'homeOrtg', 'homeDrtg', 'homeASTDividedByTO',\n       'homeSTLDividedByTO', 'homeFouls', 'awayAbbr', 'awayPTS', 'awayAST',\n       'awayTO', 'awaySTL', 'awayBLK', 'awayFGA', 'awayFGM',\n       'awayFG_Percentage', 'away3PA', 'away3PM', 'away3P_Percentage',\n       'awayFTA', 'awayFTM', 'awayFT_Percentage', 'awayORB', 'awayDRB',\n       'awayTRB', 'awayTREB_Percentage', 'awayASST_Percentage',\n       'awayTS_Percentage', 'awayEFG_Percentage', 'awayOREB_Percentage',\n       'awayDREB_Percentage', 'awayTO_Percentage', 'awaySTL_Percentage',\n       'awayBLK_Percentage', 'awayOrtg', 'awayDrtg', 'awayASTDividedByTO',\n       'awaySTLDividedByTO', 'awayFouls', 'home1x2FirstOptionRate',\n       'away1x2FirstOptionRate', 'home1x2LastOptionRate',\n       'away1x2LastOptionRate', 'home1x2FirstWinRate', 'away1x2FirstWinRate',\n       'home1x2LastWinRate', 'away1x2LastWinRate', '1x2FirstRTP', '1x2LastRTP',\n       'home1x2KellyIndex', 'away1x2KellyIndex', 'homePIR', 'awayPIR',\n       'homePPS', 'homeFIC', 'homeEDiff', 'homePlay_Percentage', 'homeAR',\n       'awayPPS', 'awayFIC', 'awayEDiff', 'awayPlay_Percentage', 'awayAR',\n       'year', 'month', 'Season', 'Season_half', 'homeDiffPTS', 'awayDiffPTS',\n       'absDiffPTS', 'home_games', 'away_games'],\n      dtype='object')"
     },
     "execution_count": 20,
     "metadata": {},
     "output_type": "execute_result"
    }
   ],
   "source": [
    "nba_df.columns"
   ],
   "metadata": {
    "collapsed": false,
    "pycharm": {
     "name": "#%%\n"
    }
   }
  },
  {
   "cell_type": "code",
   "execution_count": 21,
   "outputs": [
    {
     "name": "stderr",
     "output_type": "stream",
     "text": [
      "C:\\Users\\xin\\AppData\\Local\\Temp/ipykernel_15588/1443993949.py:6: SettingWithCopyWarning: \n",
      "A value is trying to be set on a copy of a slice from a DataFrame.\n",
      "Try using .loc[row_indexer,col_indexer] = value instead\n",
      "\n",
      "See the caveats in the documentation: https://pandas.pydata.org/pandas-docs/stable/user_guide/indexing.html#returning-a-view-versus-a-copy\n",
      "  team_FiveLastGamesAvgDict[f\"{row['homeAbbr']},{row['Season']}\"]['games'] = pd.Series(list(range(len(team_FiveLastGamesAvgDict[f\"{row['homeAbbr']},{row['Season']}\"]))))+1\n"
     ]
    },
    {
     "name": "stdout",
     "output_type": "stream",
     "text": [
      "homePTS awayPTS 已經處理完成.\n",
      "homeAST awayAST 已經處理完成.\n",
      "homeTO awayTO 已經處理完成.\n",
      "homeSTL awaySTL 已經處理完成.\n",
      "homeBLK awayBLK 已經處理完成.\n",
      "homeFGA awayFGA 已經處理完成.\n",
      "homeFGM awayFGM 已經處理完成.\n",
      "homeFG_Percentage awayFG_Percentage 已經處理完成.\n",
      "home3PA away3PA 已經處理完成.\n",
      "home3PM away3PM 已經處理完成.\n",
      "home3P_Percentage away3P_Percentage 已經處理完成.\n",
      "homeFTA awayFTA 已經處理完成.\n",
      "homeFTM awayFTM 已經處理完成.\n",
      "homeFT_Percentage awayFT_Percentage 已經處理完成.\n",
      "homeORB awayORB 已經處理完成.\n",
      "homeDRB awayDRB 已經處理完成.\n",
      "homeTRB awayTRB 已經處理完成.\n",
      "homeTREB_Percentage awayTREB_Percentage 已經處理完成.\n",
      "homeASST_Percentage awayASST_Percentage 已經處理完成.\n",
      "homeTS_Percentage awayTS_Percentage 已經處理完成.\n",
      "homeEFG_Percentage awayEFG_Percentage 已經處理完成.\n",
      "homeOREB_Percentage awayOREB_Percentage 已經處理完成.\n",
      "homeDREB_Percentage awayDREB_Percentage 已經處理完成.\n",
      "homeTO_Percentage awayTO_Percentage 已經處理完成.\n",
      "homeSTL_Percentage awaySTL_Percentage 已經處理完成.\n",
      "homeBLK_Percentage awayBLK_Percentage 已經處理完成.\n",
      "homeOrtg awayOrtg 已經處理完成.\n",
      "homeDrtg awayDrtg 已經處理完成.\n",
      "homeASTDividedByTO awayASTDividedByTO 已經處理完成.\n",
      "homeSTLDividedByTO awaySTLDividedByTO 已經處理完成.\n",
      "homeFouls awayFouls 已經處理完成.\n",
      "homePIR awayPIR 已經處理完成.\n",
      "homePPS awayPPS 已經處理完成.\n",
      "homeFIC awayFIC 已經處理完成.\n",
      "homeEDiff awayEDiff 已經處理完成.\n",
      "homePlay_Percentage awayPlay_Percentage 已經處理完成.\n",
      "homeAR awayAR 已經處理完成.\n",
      "homeDiffPTS awayDiffPTS 已經處理完成.\n"
     ]
    },
    {
     "data": {
      "text/plain": "     homeRslt     gmDate gmTime                homeAbbr  home_games  \\\n0           1 2021-10-19  19:30         Milwaukee Bucks           1   \n1           0 2021-10-19  22:00      Los Angeles Lakers           1   \n2           1 2021-10-20  19:00       Charlotte Hornets           1   \n3           0 2021-10-20  19:00         Detroit Pistons           1   \n4           1 2021-10-20  19:30         New York Knicks           1   \n..        ...        ...    ...                     ...         ...   \n546         1 2022-01-03  20:30        Dallas Mavericks          37   \n547         1 2022-01-03  22:00   Golden State Warriors          36   \n548         1 2022-01-03  22:00  Portland Trail Blazers          36   \n549         0 2022-01-03  22:30    Los Angeles Clippers          38   \n550         0 2022-01-04  19:00     Cleveland Cavaliers          38   \n\n     home1x2FirstOptionRate  home1x2LastOptionRate  home1x2FirstWinRate  \\\n0                      1.90                   1.80                50.00   \n1                      1.47                   1.62                65.17   \n2                      1.74                   2.05                55.27   \n3                      2.25                   2.80                42.75   \n4                      1.83                   1.68                52.22   \n..                      ...                    ...                  ...   \n546                    1.68                   1.68                57.25   \n547                    1.26                   1.18                76.05   \n548                    2.60                   2.55                37.35   \n549                    1.74                   1.64                55.27   \n550                    1.68                   1.64                57.25   \n\n     home1x2LastWinRate  home1x2KellyIndex  ... avg_homeFIC  avg_awayFIC  \\\n0                 53.25               0.95  ...        0.00        0.000   \n1                 59.70               0.96  ...        0.00        0.000   \n2                 46.75               0.96  ...        0.00        0.000   \n3                 34.12               0.98  ...        0.00        0.000   \n4                 57.25               0.94  ...        0.00        0.000   \n..                  ...                ...  ...         ...          ...   \n546               57.25               0.96  ...       88.20       80.175   \n547               81.65               0.96  ...       93.60       87.625   \n548               38.11               0.99  ...       73.30       84.100   \n549               58.90               0.97  ...       81.75       80.775   \n550               58.90               0.95  ...       95.90      100.625   \n\n     avg_homeEDiff  avg_awayEDiff  avg_homePlay_Percentage  \\\n0             0.00           0.00                 0.000000   \n1             0.00           0.00                 0.000000   \n2             0.00           0.00                 0.000000   \n3             0.00           0.00                 0.000000   \n4             0.00           0.00                 0.000000   \n..             ...            ...                      ...   \n546           7.42          -0.46                 0.463898   \n547           7.64           6.02                 0.460140   \n548         -14.88          -7.18                 0.416183   \n549          -2.72          -6.46                 0.426758   \n550           4.12          11.82                 0.485782   \n\n     avg_awayPlay_Percentage  avg_homeAR avg_awayAR  avg_homeDiffPTS  \\\n0                   0.000000    0.000000   0.000000              0.0   \n1                   0.000000    0.000000   0.000000              0.0   \n2                   0.000000    0.000000   0.000000              0.0   \n3                   0.000000    0.000000   0.000000              0.0   \n4                   0.000000    0.000000   0.000000              0.0   \n..                       ...         ...        ...              ...   \n546                 0.411622   23.905105  21.523502              7.0   \n547                 0.460523   24.458955  20.863410              7.4   \n548                 0.450595   18.578021  20.349306            -14.4   \n549                 0.429294   21.121426  20.234609             -2.8   \n550                 0.493061   23.382055  20.189421              5.0   \n\n     avg_awayDiffPTS  \n0                0.0  \n1                0.0  \n2                0.0  \n3                0.0  \n4                0.0  \n..               ...  \n546             -0.6  \n547              5.6  \n548             -7.0  \n549             -6.4  \n550             11.6  \n\n[551 rows x 98 columns]",
      "text/html": "<div>\n<style scoped>\n    .dataframe tbody tr th:only-of-type {\n        vertical-align: middle;\n    }\n\n    .dataframe tbody tr th {\n        vertical-align: top;\n    }\n\n    .dataframe thead th {\n        text-align: right;\n    }\n</style>\n<table border=\"1\" class=\"dataframe\">\n  <thead>\n    <tr style=\"text-align: right;\">\n      <th></th>\n      <th>homeRslt</th>\n      <th>gmDate</th>\n      <th>gmTime</th>\n      <th>homeAbbr</th>\n      <th>home_games</th>\n      <th>home1x2FirstOptionRate</th>\n      <th>home1x2LastOptionRate</th>\n      <th>home1x2FirstWinRate</th>\n      <th>home1x2LastWinRate</th>\n      <th>home1x2KellyIndex</th>\n      <th>...</th>\n      <th>avg_homeFIC</th>\n      <th>avg_awayFIC</th>\n      <th>avg_homeEDiff</th>\n      <th>avg_awayEDiff</th>\n      <th>avg_homePlay_Percentage</th>\n      <th>avg_awayPlay_Percentage</th>\n      <th>avg_homeAR</th>\n      <th>avg_awayAR</th>\n      <th>avg_homeDiffPTS</th>\n      <th>avg_awayDiffPTS</th>\n    </tr>\n  </thead>\n  <tbody>\n    <tr>\n      <th>0</th>\n      <td>1</td>\n      <td>2021-10-19</td>\n      <td>19:30</td>\n      <td>Milwaukee Bucks</td>\n      <td>1</td>\n      <td>1.90</td>\n      <td>1.80</td>\n      <td>50.00</td>\n      <td>53.25</td>\n      <td>0.95</td>\n      <td>...</td>\n      <td>0.00</td>\n      <td>0.000</td>\n      <td>0.00</td>\n      <td>0.00</td>\n      <td>0.000000</td>\n      <td>0.000000</td>\n      <td>0.000000</td>\n      <td>0.000000</td>\n      <td>0.0</td>\n      <td>0.0</td>\n    </tr>\n    <tr>\n      <th>1</th>\n      <td>0</td>\n      <td>2021-10-19</td>\n      <td>22:00</td>\n      <td>Los Angeles Lakers</td>\n      <td>1</td>\n      <td>1.47</td>\n      <td>1.62</td>\n      <td>65.17</td>\n      <td>59.70</td>\n      <td>0.96</td>\n      <td>...</td>\n      <td>0.00</td>\n      <td>0.000</td>\n      <td>0.00</td>\n      <td>0.00</td>\n      <td>0.000000</td>\n      <td>0.000000</td>\n      <td>0.000000</td>\n      <td>0.000000</td>\n      <td>0.0</td>\n      <td>0.0</td>\n    </tr>\n    <tr>\n      <th>2</th>\n      <td>1</td>\n      <td>2021-10-20</td>\n      <td>19:00</td>\n      <td>Charlotte Hornets</td>\n      <td>1</td>\n      <td>1.74</td>\n      <td>2.05</td>\n      <td>55.27</td>\n      <td>46.75</td>\n      <td>0.96</td>\n      <td>...</td>\n      <td>0.00</td>\n      <td>0.000</td>\n      <td>0.00</td>\n      <td>0.00</td>\n      <td>0.000000</td>\n      <td>0.000000</td>\n      <td>0.000000</td>\n      <td>0.000000</td>\n      <td>0.0</td>\n      <td>0.0</td>\n    </tr>\n    <tr>\n      <th>3</th>\n      <td>0</td>\n      <td>2021-10-20</td>\n      <td>19:00</td>\n      <td>Detroit Pistons</td>\n      <td>1</td>\n      <td>2.25</td>\n      <td>2.80</td>\n      <td>42.75</td>\n      <td>34.12</td>\n      <td>0.98</td>\n      <td>...</td>\n      <td>0.00</td>\n      <td>0.000</td>\n      <td>0.00</td>\n      <td>0.00</td>\n      <td>0.000000</td>\n      <td>0.000000</td>\n      <td>0.000000</td>\n      <td>0.000000</td>\n      <td>0.0</td>\n      <td>0.0</td>\n    </tr>\n    <tr>\n      <th>4</th>\n      <td>1</td>\n      <td>2021-10-20</td>\n      <td>19:30</td>\n      <td>New York Knicks</td>\n      <td>1</td>\n      <td>1.83</td>\n      <td>1.68</td>\n      <td>52.22</td>\n      <td>57.25</td>\n      <td>0.94</td>\n      <td>...</td>\n      <td>0.00</td>\n      <td>0.000</td>\n      <td>0.00</td>\n      <td>0.00</td>\n      <td>0.000000</td>\n      <td>0.000000</td>\n      <td>0.000000</td>\n      <td>0.000000</td>\n      <td>0.0</td>\n      <td>0.0</td>\n    </tr>\n    <tr>\n      <th>...</th>\n      <td>...</td>\n      <td>...</td>\n      <td>...</td>\n      <td>...</td>\n      <td>...</td>\n      <td>...</td>\n      <td>...</td>\n      <td>...</td>\n      <td>...</td>\n      <td>...</td>\n      <td>...</td>\n      <td>...</td>\n      <td>...</td>\n      <td>...</td>\n      <td>...</td>\n      <td>...</td>\n      <td>...</td>\n      <td>...</td>\n      <td>...</td>\n      <td>...</td>\n      <td>...</td>\n    </tr>\n    <tr>\n      <th>546</th>\n      <td>1</td>\n      <td>2022-01-03</td>\n      <td>20:30</td>\n      <td>Dallas Mavericks</td>\n      <td>37</td>\n      <td>1.68</td>\n      <td>1.68</td>\n      <td>57.25</td>\n      <td>57.25</td>\n      <td>0.96</td>\n      <td>...</td>\n      <td>88.20</td>\n      <td>80.175</td>\n      <td>7.42</td>\n      <td>-0.46</td>\n      <td>0.463898</td>\n      <td>0.411622</td>\n      <td>23.905105</td>\n      <td>21.523502</td>\n      <td>7.0</td>\n      <td>-0.6</td>\n    </tr>\n    <tr>\n      <th>547</th>\n      <td>1</td>\n      <td>2022-01-03</td>\n      <td>22:00</td>\n      <td>Golden State Warriors</td>\n      <td>36</td>\n      <td>1.26</td>\n      <td>1.18</td>\n      <td>76.05</td>\n      <td>81.65</td>\n      <td>0.96</td>\n      <td>...</td>\n      <td>93.60</td>\n      <td>87.625</td>\n      <td>7.64</td>\n      <td>6.02</td>\n      <td>0.460140</td>\n      <td>0.460523</td>\n      <td>24.458955</td>\n      <td>20.863410</td>\n      <td>7.4</td>\n      <td>5.6</td>\n    </tr>\n    <tr>\n      <th>548</th>\n      <td>1</td>\n      <td>2022-01-03</td>\n      <td>22:00</td>\n      <td>Portland Trail Blazers</td>\n      <td>36</td>\n      <td>2.60</td>\n      <td>2.55</td>\n      <td>37.35</td>\n      <td>38.11</td>\n      <td>0.99</td>\n      <td>...</td>\n      <td>73.30</td>\n      <td>84.100</td>\n      <td>-14.88</td>\n      <td>-7.18</td>\n      <td>0.416183</td>\n      <td>0.450595</td>\n      <td>18.578021</td>\n      <td>20.349306</td>\n      <td>-14.4</td>\n      <td>-7.0</td>\n    </tr>\n    <tr>\n      <th>549</th>\n      <td>0</td>\n      <td>2022-01-03</td>\n      <td>22:30</td>\n      <td>Los Angeles Clippers</td>\n      <td>38</td>\n      <td>1.74</td>\n      <td>1.64</td>\n      <td>55.27</td>\n      <td>58.90</td>\n      <td>0.97</td>\n      <td>...</td>\n      <td>81.75</td>\n      <td>80.775</td>\n      <td>-2.72</td>\n      <td>-6.46</td>\n      <td>0.426758</td>\n      <td>0.429294</td>\n      <td>21.121426</td>\n      <td>20.234609</td>\n      <td>-2.8</td>\n      <td>-6.4</td>\n    </tr>\n    <tr>\n      <th>550</th>\n      <td>0</td>\n      <td>2022-01-04</td>\n      <td>19:00</td>\n      <td>Cleveland Cavaliers</td>\n      <td>38</td>\n      <td>1.68</td>\n      <td>1.64</td>\n      <td>57.25</td>\n      <td>58.90</td>\n      <td>0.95</td>\n      <td>...</td>\n      <td>95.90</td>\n      <td>100.625</td>\n      <td>4.12</td>\n      <td>11.82</td>\n      <td>0.485782</td>\n      <td>0.493061</td>\n      <td>23.382055</td>\n      <td>20.189421</td>\n      <td>5.0</td>\n      <td>11.6</td>\n    </tr>\n  </tbody>\n</table>\n<p>551 rows × 98 columns</p>\n</div>"
     },
     "execution_count": 21,
     "metadata": {},
     "output_type": "execute_result"
    }
   ],
   "source": [
    "# 新增前5場平均表現特徵\n",
    "team_FiveLastGamesAvgDict = {}\n",
    "for index, row in nba_df[['homeAbbr','Season']].groupby(['homeAbbr','Season']).size().reset_index().sort_values(by=['homeAbbr','Season'])[:].iterrows():\n",
    "    team_FiveLastGamesAvgDict[f\"{row['homeAbbr']},{row['Season']}\"] = nba_df[((nba_df.homeAbbr==row['homeAbbr']) | (nba_df.awayAbbr==row['homeAbbr'])) & (nba_df.Season==row['Season'])]\n",
    "    team_FiveLastGamesAvgDict[f\"{row['homeAbbr']},{row['Season']}\"].reset_index(drop=True,inplace=True)\n",
    "    team_FiveLastGamesAvgDict[f\"{row['homeAbbr']},{row['Season']}\"]['games'] = pd.Series(list(range(len(team_FiveLastGamesAvgDict[f\"{row['homeAbbr']},{row['Season']}\"]))))+1\n",
    "\n",
    "\n",
    "home_cols = ['homePTS', 'homeAST','homeTO', 'homeSTL', 'homeBLK', 'homeFGA', 'homeFGM',\n",
    "             'homeFG_Percentage', 'home3PA', 'home3PM', 'home3P_Percentage',\n",
    "             'homeFTA', 'homeFTM', 'homeFT_Percentage', 'homeORB', 'homeDRB',\n",
    "             'homeTRB', 'homeTREB_Percentage', 'homeASST_Percentage',\n",
    "             'homeTS_Percentage', 'homeEFG_Percentage', 'homeOREB_Percentage',\n",
    "             'homeDREB_Percentage', 'homeTO_Percentage', 'homeSTL_Percentage',\n",
    "             'homeBLK_Percentage', 'homeOrtg', 'homeDrtg', 'homeASTDividedByTO',\n",
    "             'homeSTLDividedByTO', 'homeFouls','homePIR','homePPS', 'homeFIC',\n",
    "             'homeEDiff', 'homePlay_Percentage','homeAR','homeDiffPTS']\n",
    "\n",
    "away_cols = ['awayPTS', 'awayAST','awayTO', 'awaySTL', 'awayBLK', 'awayFGA', 'awayFGM',\n",
    "             'awayFG_Percentage', 'away3PA', 'away3PM', 'away3P_Percentage',\n",
    "             'awayFTA', 'awayFTM', 'awayFT_Percentage', 'awayORB', 'awayDRB',\n",
    "             'awayTRB', 'awayTREB_Percentage', 'awayASST_Percentage',\n",
    "             'awayTS_Percentage', 'awayEFG_Percentage', 'awayOREB_Percentage',\n",
    "             'awayDREB_Percentage', 'awayTO_Percentage', 'awaySTL_Percentage',\n",
    "             'awayBLK_Percentage', 'awayOrtg', 'awayDrtg', 'awayASTDividedByTO',\n",
    "             'awaySTLDividedByTO', 'awayFouls','awayPIR','awayPPS', 'awayFIC',\n",
    "             'awayEDiff', 'awayPlay_Percentage','awayAR','awayDiffPTS']\n",
    "# 第六場含以上 第一場-第五場平均 , 第五場 第一場-第四場平均 , 第四場 第一場-第三場平均 ... , 第一場 無\n",
    "def five_last_games_avg(home_col,away_col):\n",
    "    home_FiveLastGamesAvgDict = {}\n",
    "    away_FiveLastGamesAvgDict = {}\n",
    "    for index, row in nba_df.iterrows():\n",
    "\n",
    "        if row['home_games'] > 5 :\n",
    "            home_games =  row['home_games']\n",
    "            sum = 0\n",
    "            for idx5,row5 in  team_FiveLastGamesAvgDict[f\"{row['homeAbbr']},{row['Season']}\"].query(f'games>={home_games -5} & games<{home_games}').iterrows():\n",
    "                if row['homeAbbr'] == row5['homeAbbr']:\n",
    "                    sum+=row5[home_col]\n",
    "                elif  row['homeAbbr'] == row5['awayAbbr']:\n",
    "                    sum+=row5[away_col]\n",
    "            home_FiveLastGamesAvgDict.update({index:sum/5})\n",
    "        elif row['home_games'] <= 5 and row['home_games'] > 1:\n",
    "            home_games =  row['home_games']\n",
    "            sum = 0\n",
    "            for idxX,rowX in  team_FiveLastGamesAvgDict[f\"{row['homeAbbr']},{row['Season']}\"].query(f'games>={home_games-(home_games -1)} & games<{home_games}').iterrows():\n",
    "                if row['homeAbbr'] == rowX['homeAbbr']:\n",
    "                    sum+=rowX[home_col]\n",
    "                elif  row['homeAbbr'] == rowX['awayAbbr']:\n",
    "                    sum+=rowX[away_col]\n",
    "            home_FiveLastGamesAvgDict.update({index:sum/(home_games -1)})\n",
    "        else:\n",
    "            home_FiveLastGamesAvgDict.update({index:0})\n",
    "\n",
    "        if row['away_games'] > 5 :\n",
    "            away_games =  row['away_games']\n",
    "            sum = 0\n",
    "            for idx5,row5 in  team_FiveLastGamesAvgDict[f\"{row['awayAbbr']},{row['Season']}\"].query(f'games>={away_games -5} & games<{away_games}').iterrows():\n",
    "                if row['awayAbbr'] == row5['homeAbbr']:\n",
    "                    sum+=row5[home_col]\n",
    "                elif  row['awayAbbr'] == row5['awayAbbr']:\n",
    "                    sum+=row5[away_col]\n",
    "            away_FiveLastGamesAvgDict.update({index:sum/5})\n",
    "        elif row['away_games'] <= 5 and row['away_games'] > 1:\n",
    "            away_games =  row['away_games']\n",
    "            sum = 0\n",
    "            for idxX,rowX in  team_FiveLastGamesAvgDict[f\"{row['awayAbbr']},{row['Season']}\"].query(f'games>={away_games -(away_games-1)} & games<{away_games}').iterrows():\n",
    "                if row['awayAbbr'] == rowX['homeAbbr']:\n",
    "                    sum+=rowX[home_col]\n",
    "                elif  row['awayAbbr'] == rowX['awayAbbr']:\n",
    "                    sum+=rowX[away_col]\n",
    "            away_FiveLastGamesAvgDict.update({index:sum/(away_games-1)})\n",
    "        else:\n",
    "            away_FiveLastGamesAvgDict.update({index:0})\n",
    "\n",
    "\n",
    "\n",
    "    nba_df_for_ML[f'avg_{home_col}'] = pd.Series(home_FiveLastGamesAvgDict)\n",
    "    nba_df_for_ML[f'avg_{away_col}'] = pd.Series(away_FiveLastGamesAvgDict)\n",
    "\n",
    "for home_col,away_col in zip(home_cols,away_cols):\n",
    "        print(home_col,away_col,'已經處理完成.')\n",
    "        five_last_games_avg(home_col,away_col)\n",
    "\n",
    "nba_df_for_ML"
   ],
   "metadata": {
    "collapsed": false,
    "pycharm": {
     "name": "#%%\n"
    }
   }
  },
  {
   "cell_type": "markdown",
   "source": [
    "# 儲存資料"
   ],
   "metadata": {
    "collapsed": false,
    "pycharm": {
     "name": "#%% md\n"
    }
   }
  },
  {
   "cell_type": "code",
   "execution_count": 441,
   "outputs": [],
   "source": [
    "nba_df_for_ML.to_csv('nba_df_for_ML(強弱盤).csv')"
   ],
   "metadata": {
    "collapsed": false,
    "pycharm": {
     "name": "#%%\n"
    }
   }
  },
  {
   "cell_type": "markdown",
   "source": [
    "# 轉換為可直接餵入的資料"
   ],
   "metadata": {
    "collapsed": false,
    "pycharm": {
     "name": "#%% md\n"
    }
   }
  },
  {
   "cell_type": "code",
   "execution_count": 627,
   "outputs": [
    {
     "data": {
      "text/plain": "      homeRslt  home1x2FirstOptionRate  home1x2LastOptionRate  \\\n0            1                    1.16                   1.20   \n1            1                    1.50                   1.62   \n2            0                    3.20                   3.35   \n3            1                    1.23                   1.25   \n4            1                    1.33                   1.29   \n...        ...                     ...                    ...   \n8389         1                    1.68                   1.68   \n8390         1                    1.26                   1.18   \n8391         1                    2.60                   2.55   \n8392         0                    1.74                   1.64   \n8393         0                    1.68                   1.64   \n\n      home1x2FirstWinRate  home1x2LastWinRate  home1x2KellyIndex  \\\n0                   82.58               79.83               0.97   \n1                   64.29               59.70               0.99   \n2                   29.98               28.57               0.97   \n3                   77.55               76.64               0.95   \n4                   71.88               74.15               0.94   \n...                   ...                 ...                ...   \n8389                57.25               57.25               0.96   \n8390                76.05               81.65               0.96   \n8391                37.35               38.11               0.99   \n8392                55.27               58.90               0.97   \n8393                57.25               58.90               0.95   \n\n      away1x2FirstOptionRate  away1x2LastOptionRate  away1x2FirstWinRate  \\\n0                       5.50                   4.75                17.42   \n1                       2.70                   2.40                35.71   \n2                       1.37                   1.34                70.02   \n3                       4.25                   4.10                22.45   \n4                       3.40                   3.70                28.12   \n...                      ...                    ...                  ...   \n8389                    2.25                   2.25                42.75   \n8390                    4.00                   5.25                23.95   \n8391                    1.55                   1.57                62.65   \n8392                    2.15                   2.35                44.73   \n8393                    2.25                   2.35                42.75   \n\n      away1x2LastWinRate  ...  avg_homeFIC avg_awayFIC  avg_homeEDiff  \\\n0                  20.17  ...         0.00       0.000           0.00   \n1                  40.30  ...         0.00       0.000           0.00   \n2                  71.43  ...         0.00       0.000           0.00   \n3                  23.36  ...         0.00       0.000           0.00   \n4                  25.85  ...         0.00       0.000           0.00   \n...                  ...  ...          ...         ...            ...   \n8389               42.75  ...        88.20      80.175           7.42   \n8390               18.35  ...        93.60      87.625           7.64   \n8391               61.89  ...        73.30      84.100         -14.88   \n8392               41.10  ...        81.75      80.775          -2.72   \n8393               41.10  ...        95.90     100.625           4.12   \n\n      avg_awayEDiff  avg_homePlay_Percentage  avg_awayPlay_Percentage  \\\n0              0.00                 0.000000                 0.000000   \n1              0.00                 0.000000                 0.000000   \n2              0.00                 0.000000                 0.000000   \n3              0.00                 0.000000                 0.000000   \n4              0.00                 0.000000                 0.000000   \n...             ...                      ...                      ...   \n8389          -0.46                 0.463898                 0.411622   \n8390           6.02                 0.460140                 0.460523   \n8391          -7.18                 0.416183                 0.450595   \n8392          -6.46                 0.426758                 0.429294   \n8393          11.82                 0.485782                 0.493061   \n\n      avg_homeAR  avg_awayAR  avg_homeDiffPTS  avg_awayDiffPTS  \n0       0.000000    0.000000              0.0              0.0  \n1       0.000000    0.000000              0.0              0.0  \n2       0.000000    0.000000              0.0              0.0  \n3       0.000000    0.000000              0.0              0.0  \n4       0.000000    0.000000              0.0              0.0  \n...          ...         ...              ...              ...  \n8389   23.905105   21.523502              7.0             -0.6  \n8390   24.458955   20.863410              7.4              5.6  \n8391   18.578021   20.349306            -14.4             -7.0  \n8392   21.121426   20.234609             -2.8             -6.4  \n8393   23.382055   20.189421              5.0             11.6  \n\n[8394 rows x 92 columns]",
      "text/html": "<div>\n<style scoped>\n    .dataframe tbody tr th:only-of-type {\n        vertical-align: middle;\n    }\n\n    .dataframe tbody tr th {\n        vertical-align: top;\n    }\n\n    .dataframe thead th {\n        text-align: right;\n    }\n</style>\n<table border=\"1\" class=\"dataframe\">\n  <thead>\n    <tr style=\"text-align: right;\">\n      <th></th>\n      <th>homeRslt</th>\n      <th>home1x2FirstOptionRate</th>\n      <th>home1x2LastOptionRate</th>\n      <th>home1x2FirstWinRate</th>\n      <th>home1x2LastWinRate</th>\n      <th>home1x2KellyIndex</th>\n      <th>away1x2FirstOptionRate</th>\n      <th>away1x2LastOptionRate</th>\n      <th>away1x2FirstWinRate</th>\n      <th>away1x2LastWinRate</th>\n      <th>...</th>\n      <th>avg_homeFIC</th>\n      <th>avg_awayFIC</th>\n      <th>avg_homeEDiff</th>\n      <th>avg_awayEDiff</th>\n      <th>avg_homePlay_Percentage</th>\n      <th>avg_awayPlay_Percentage</th>\n      <th>avg_homeAR</th>\n      <th>avg_awayAR</th>\n      <th>avg_homeDiffPTS</th>\n      <th>avg_awayDiffPTS</th>\n    </tr>\n  </thead>\n  <tbody>\n    <tr>\n      <th>0</th>\n      <td>1</td>\n      <td>1.16</td>\n      <td>1.20</td>\n      <td>82.58</td>\n      <td>79.83</td>\n      <td>0.97</td>\n      <td>5.50</td>\n      <td>4.75</td>\n      <td>17.42</td>\n      <td>20.17</td>\n      <td>...</td>\n      <td>0.00</td>\n      <td>0.000</td>\n      <td>0.00</td>\n      <td>0.00</td>\n      <td>0.000000</td>\n      <td>0.000000</td>\n      <td>0.000000</td>\n      <td>0.000000</td>\n      <td>0.0</td>\n      <td>0.0</td>\n    </tr>\n    <tr>\n      <th>1</th>\n      <td>1</td>\n      <td>1.50</td>\n      <td>1.62</td>\n      <td>64.29</td>\n      <td>59.70</td>\n      <td>0.99</td>\n      <td>2.70</td>\n      <td>2.40</td>\n      <td>35.71</td>\n      <td>40.30</td>\n      <td>...</td>\n      <td>0.00</td>\n      <td>0.000</td>\n      <td>0.00</td>\n      <td>0.00</td>\n      <td>0.000000</td>\n      <td>0.000000</td>\n      <td>0.000000</td>\n      <td>0.000000</td>\n      <td>0.0</td>\n      <td>0.0</td>\n    </tr>\n    <tr>\n      <th>2</th>\n      <td>0</td>\n      <td>3.20</td>\n      <td>3.35</td>\n      <td>29.98</td>\n      <td>28.57</td>\n      <td>0.97</td>\n      <td>1.37</td>\n      <td>1.34</td>\n      <td>70.02</td>\n      <td>71.43</td>\n      <td>...</td>\n      <td>0.00</td>\n      <td>0.000</td>\n      <td>0.00</td>\n      <td>0.00</td>\n      <td>0.000000</td>\n      <td>0.000000</td>\n      <td>0.000000</td>\n      <td>0.000000</td>\n      <td>0.0</td>\n      <td>0.0</td>\n    </tr>\n    <tr>\n      <th>3</th>\n      <td>1</td>\n      <td>1.23</td>\n      <td>1.25</td>\n      <td>77.55</td>\n      <td>76.64</td>\n      <td>0.95</td>\n      <td>4.25</td>\n      <td>4.10</td>\n      <td>22.45</td>\n      <td>23.36</td>\n      <td>...</td>\n      <td>0.00</td>\n      <td>0.000</td>\n      <td>0.00</td>\n      <td>0.00</td>\n      <td>0.000000</td>\n      <td>0.000000</td>\n      <td>0.000000</td>\n      <td>0.000000</td>\n      <td>0.0</td>\n      <td>0.0</td>\n    </tr>\n    <tr>\n      <th>4</th>\n      <td>1</td>\n      <td>1.33</td>\n      <td>1.29</td>\n      <td>71.88</td>\n      <td>74.15</td>\n      <td>0.94</td>\n      <td>3.40</td>\n      <td>3.70</td>\n      <td>28.12</td>\n      <td>25.85</td>\n      <td>...</td>\n      <td>0.00</td>\n      <td>0.000</td>\n      <td>0.00</td>\n      <td>0.00</td>\n      <td>0.000000</td>\n      <td>0.000000</td>\n      <td>0.000000</td>\n      <td>0.000000</td>\n      <td>0.0</td>\n      <td>0.0</td>\n    </tr>\n    <tr>\n      <th>...</th>\n      <td>...</td>\n      <td>...</td>\n      <td>...</td>\n      <td>...</td>\n      <td>...</td>\n      <td>...</td>\n      <td>...</td>\n      <td>...</td>\n      <td>...</td>\n      <td>...</td>\n      <td>...</td>\n      <td>...</td>\n      <td>...</td>\n      <td>...</td>\n      <td>...</td>\n      <td>...</td>\n      <td>...</td>\n      <td>...</td>\n      <td>...</td>\n      <td>...</td>\n      <td>...</td>\n    </tr>\n    <tr>\n      <th>8389</th>\n      <td>1</td>\n      <td>1.68</td>\n      <td>1.68</td>\n      <td>57.25</td>\n      <td>57.25</td>\n      <td>0.96</td>\n      <td>2.25</td>\n      <td>2.25</td>\n      <td>42.75</td>\n      <td>42.75</td>\n      <td>...</td>\n      <td>88.20</td>\n      <td>80.175</td>\n      <td>7.42</td>\n      <td>-0.46</td>\n      <td>0.463898</td>\n      <td>0.411622</td>\n      <td>23.905105</td>\n      <td>21.523502</td>\n      <td>7.0</td>\n      <td>-0.6</td>\n    </tr>\n    <tr>\n      <th>8390</th>\n      <td>1</td>\n      <td>1.26</td>\n      <td>1.18</td>\n      <td>76.05</td>\n      <td>81.65</td>\n      <td>0.96</td>\n      <td>4.00</td>\n      <td>5.25</td>\n      <td>23.95</td>\n      <td>18.35</td>\n      <td>...</td>\n      <td>93.60</td>\n      <td>87.625</td>\n      <td>7.64</td>\n      <td>6.02</td>\n      <td>0.460140</td>\n      <td>0.460523</td>\n      <td>24.458955</td>\n      <td>20.863410</td>\n      <td>7.4</td>\n      <td>5.6</td>\n    </tr>\n    <tr>\n      <th>8391</th>\n      <td>1</td>\n      <td>2.60</td>\n      <td>2.55</td>\n      <td>37.35</td>\n      <td>38.11</td>\n      <td>0.99</td>\n      <td>1.55</td>\n      <td>1.57</td>\n      <td>62.65</td>\n      <td>61.89</td>\n      <td>...</td>\n      <td>73.30</td>\n      <td>84.100</td>\n      <td>-14.88</td>\n      <td>-7.18</td>\n      <td>0.416183</td>\n      <td>0.450595</td>\n      <td>18.578021</td>\n      <td>20.349306</td>\n      <td>-14.4</td>\n      <td>-7.0</td>\n    </tr>\n    <tr>\n      <th>8392</th>\n      <td>0</td>\n      <td>1.74</td>\n      <td>1.64</td>\n      <td>55.27</td>\n      <td>58.90</td>\n      <td>0.97</td>\n      <td>2.15</td>\n      <td>2.35</td>\n      <td>44.73</td>\n      <td>41.10</td>\n      <td>...</td>\n      <td>81.75</td>\n      <td>80.775</td>\n      <td>-2.72</td>\n      <td>-6.46</td>\n      <td>0.426758</td>\n      <td>0.429294</td>\n      <td>21.121426</td>\n      <td>20.234609</td>\n      <td>-2.8</td>\n      <td>-6.4</td>\n    </tr>\n    <tr>\n      <th>8393</th>\n      <td>0</td>\n      <td>1.68</td>\n      <td>1.64</td>\n      <td>57.25</td>\n      <td>58.90</td>\n      <td>0.95</td>\n      <td>2.25</td>\n      <td>2.35</td>\n      <td>42.75</td>\n      <td>41.10</td>\n      <td>...</td>\n      <td>95.90</td>\n      <td>100.625</td>\n      <td>4.12</td>\n      <td>11.82</td>\n      <td>0.485782</td>\n      <td>0.493061</td>\n      <td>23.382055</td>\n      <td>20.189421</td>\n      <td>5.0</td>\n      <td>11.6</td>\n    </tr>\n  </tbody>\n</table>\n<p>8394 rows × 92 columns</p>\n</div>"
     },
     "execution_count": 627,
     "metadata": {},
     "output_type": "execute_result"
    }
   ],
   "source": [
    "#刪除nba_df_for_ML觀察用特徵:\n",
    "nba_df_for_ML_dumm = nba_df_for_ML.drop(['gmDate','gmTime','homeAbbr','home_games','awayAbbr','away_games'],axis=1)\n",
    "nba_df_for_ML_dumm"
   ],
   "metadata": {
    "collapsed": false,
    "pycharm": {
     "name": "#%%\n"
    }
   }
  },
  {
   "cell_type": "code",
   "execution_count": 628,
   "outputs": [
    {
     "data": {
      "text/plain": "      homeRslt  home1x2FirstOptionRate  home1x2LastOptionRate  \\\n0            1                    1.16                   1.20   \n1            1                    1.50                   1.62   \n2            0                    3.20                   3.35   \n3            1                    1.23                   1.25   \n4            1                    1.33                   1.29   \n...        ...                     ...                    ...   \n8389         1                    1.68                   1.68   \n8390         1                    1.26                   1.18   \n8391         1                    2.60                   2.55   \n8392         0                    1.74                   1.64   \n8393         0                    1.68                   1.64   \n\n      home1x2FirstWinRate  home1x2LastWinRate  home1x2KellyIndex  \\\n0                   82.58               79.83               0.97   \n1                   64.29               59.70               0.99   \n2                   29.98               28.57               0.97   \n3                   77.55               76.64               0.95   \n4                   71.88               74.15               0.94   \n...                   ...                 ...                ...   \n8389                57.25               57.25               0.96   \n8390                76.05               81.65               0.96   \n8391                37.35               38.11               0.99   \n8392                55.27               58.90               0.97   \n8393                57.25               58.90               0.95   \n\n      away1x2FirstOptionRate  away1x2LastOptionRate  away1x2FirstWinRate  \\\n0                       5.50                   4.75                17.42   \n1                       2.70                   2.40                35.71   \n2                       1.37                   1.34                70.02   \n3                       4.25                   4.10                22.45   \n4                       3.40                   3.70                28.12   \n...                      ...                    ...                  ...   \n8389                    2.25                   2.25                42.75   \n8390                    4.00                   5.25                23.95   \n8391                    1.55                   1.57                62.65   \n8392                    2.15                   2.35                44.73   \n8393                    2.25                   2.35                42.75   \n\n      away1x2LastWinRate  ...  avg_homeEDiff  avg_awayEDiff  \\\n0                  20.17  ...           0.00           0.00   \n1                  40.30  ...           0.00           0.00   \n2                  71.43  ...           0.00           0.00   \n3                  23.36  ...           0.00           0.00   \n4                  25.85  ...           0.00           0.00   \n...                  ...  ...            ...            ...   \n8389               42.75  ...           7.42          -0.46   \n8390               18.35  ...           7.64           6.02   \n8391               61.89  ...         -14.88          -7.18   \n8392               41.10  ...          -2.72          -6.46   \n8393               41.10  ...           4.12          11.82   \n\n      avg_homePlay_Percentage  avg_awayPlay_Percentage  avg_homeAR  \\\n0                    0.000000                 0.000000    0.000000   \n1                    0.000000                 0.000000    0.000000   \n2                    0.000000                 0.000000    0.000000   \n3                    0.000000                 0.000000    0.000000   \n4                    0.000000                 0.000000    0.000000   \n...                       ...                      ...         ...   \n8389                 0.463898                 0.411622   23.905105   \n8390                 0.460140                 0.460523   24.458955   \n8391                 0.416183                 0.450595   18.578021   \n8392                 0.426758                 0.429294   21.121426   \n8393                 0.485782                 0.493061   23.382055   \n\n      avg_awayAR  avg_homeDiffPTS  avg_awayDiffPTS  Season_half_Post_AllStar  \\\n0       0.000000              0.0              0.0                         0   \n1       0.000000              0.0              0.0                         0   \n2       0.000000              0.0              0.0                         0   \n3       0.000000              0.0              0.0                         0   \n4       0.000000              0.0              0.0                         0   \n...          ...              ...              ...                       ...   \n8389   21.523502              7.0             -0.6                         0   \n8390   20.863410              7.4              5.6                         0   \n8391   20.349306            -14.4             -7.0                         0   \n8392   20.234609             -2.8             -6.4                         0   \n8393   20.189421              5.0             11.6                         0   \n\n      Season_half_Pre_AllStar  \n0                           1  \n1                           1  \n2                           1  \n3                           1  \n4                           1  \n...                       ...  \n8389                        1  \n8390                        1  \n8391                        1  \n8392                        1  \n8393                        1  \n\n[8394 rows x 93 columns]",
      "text/html": "<div>\n<style scoped>\n    .dataframe tbody tr th:only-of-type {\n        vertical-align: middle;\n    }\n\n    .dataframe tbody tr th {\n        vertical-align: top;\n    }\n\n    .dataframe thead th {\n        text-align: right;\n    }\n</style>\n<table border=\"1\" class=\"dataframe\">\n  <thead>\n    <tr style=\"text-align: right;\">\n      <th></th>\n      <th>homeRslt</th>\n      <th>home1x2FirstOptionRate</th>\n      <th>home1x2LastOptionRate</th>\n      <th>home1x2FirstWinRate</th>\n      <th>home1x2LastWinRate</th>\n      <th>home1x2KellyIndex</th>\n      <th>away1x2FirstOptionRate</th>\n      <th>away1x2LastOptionRate</th>\n      <th>away1x2FirstWinRate</th>\n      <th>away1x2LastWinRate</th>\n      <th>...</th>\n      <th>avg_homeEDiff</th>\n      <th>avg_awayEDiff</th>\n      <th>avg_homePlay_Percentage</th>\n      <th>avg_awayPlay_Percentage</th>\n      <th>avg_homeAR</th>\n      <th>avg_awayAR</th>\n      <th>avg_homeDiffPTS</th>\n      <th>avg_awayDiffPTS</th>\n      <th>Season_half_Post_AllStar</th>\n      <th>Season_half_Pre_AllStar</th>\n    </tr>\n  </thead>\n  <tbody>\n    <tr>\n      <th>0</th>\n      <td>1</td>\n      <td>1.16</td>\n      <td>1.20</td>\n      <td>82.58</td>\n      <td>79.83</td>\n      <td>0.97</td>\n      <td>5.50</td>\n      <td>4.75</td>\n      <td>17.42</td>\n      <td>20.17</td>\n      <td>...</td>\n      <td>0.00</td>\n      <td>0.00</td>\n      <td>0.000000</td>\n      <td>0.000000</td>\n      <td>0.000000</td>\n      <td>0.000000</td>\n      <td>0.0</td>\n      <td>0.0</td>\n      <td>0</td>\n      <td>1</td>\n    </tr>\n    <tr>\n      <th>1</th>\n      <td>1</td>\n      <td>1.50</td>\n      <td>1.62</td>\n      <td>64.29</td>\n      <td>59.70</td>\n      <td>0.99</td>\n      <td>2.70</td>\n      <td>2.40</td>\n      <td>35.71</td>\n      <td>40.30</td>\n      <td>...</td>\n      <td>0.00</td>\n      <td>0.00</td>\n      <td>0.000000</td>\n      <td>0.000000</td>\n      <td>0.000000</td>\n      <td>0.000000</td>\n      <td>0.0</td>\n      <td>0.0</td>\n      <td>0</td>\n      <td>1</td>\n    </tr>\n    <tr>\n      <th>2</th>\n      <td>0</td>\n      <td>3.20</td>\n      <td>3.35</td>\n      <td>29.98</td>\n      <td>28.57</td>\n      <td>0.97</td>\n      <td>1.37</td>\n      <td>1.34</td>\n      <td>70.02</td>\n      <td>71.43</td>\n      <td>...</td>\n      <td>0.00</td>\n      <td>0.00</td>\n      <td>0.000000</td>\n      <td>0.000000</td>\n      <td>0.000000</td>\n      <td>0.000000</td>\n      <td>0.0</td>\n      <td>0.0</td>\n      <td>0</td>\n      <td>1</td>\n    </tr>\n    <tr>\n      <th>3</th>\n      <td>1</td>\n      <td>1.23</td>\n      <td>1.25</td>\n      <td>77.55</td>\n      <td>76.64</td>\n      <td>0.95</td>\n      <td>4.25</td>\n      <td>4.10</td>\n      <td>22.45</td>\n      <td>23.36</td>\n      <td>...</td>\n      <td>0.00</td>\n      <td>0.00</td>\n      <td>0.000000</td>\n      <td>0.000000</td>\n      <td>0.000000</td>\n      <td>0.000000</td>\n      <td>0.0</td>\n      <td>0.0</td>\n      <td>0</td>\n      <td>1</td>\n    </tr>\n    <tr>\n      <th>4</th>\n      <td>1</td>\n      <td>1.33</td>\n      <td>1.29</td>\n      <td>71.88</td>\n      <td>74.15</td>\n      <td>0.94</td>\n      <td>3.40</td>\n      <td>3.70</td>\n      <td>28.12</td>\n      <td>25.85</td>\n      <td>...</td>\n      <td>0.00</td>\n      <td>0.00</td>\n      <td>0.000000</td>\n      <td>0.000000</td>\n      <td>0.000000</td>\n      <td>0.000000</td>\n      <td>0.0</td>\n      <td>0.0</td>\n      <td>0</td>\n      <td>1</td>\n    </tr>\n    <tr>\n      <th>...</th>\n      <td>...</td>\n      <td>...</td>\n      <td>...</td>\n      <td>...</td>\n      <td>...</td>\n      <td>...</td>\n      <td>...</td>\n      <td>...</td>\n      <td>...</td>\n      <td>...</td>\n      <td>...</td>\n      <td>...</td>\n      <td>...</td>\n      <td>...</td>\n      <td>...</td>\n      <td>...</td>\n      <td>...</td>\n      <td>...</td>\n      <td>...</td>\n      <td>...</td>\n      <td>...</td>\n    </tr>\n    <tr>\n      <th>8389</th>\n      <td>1</td>\n      <td>1.68</td>\n      <td>1.68</td>\n      <td>57.25</td>\n      <td>57.25</td>\n      <td>0.96</td>\n      <td>2.25</td>\n      <td>2.25</td>\n      <td>42.75</td>\n      <td>42.75</td>\n      <td>...</td>\n      <td>7.42</td>\n      <td>-0.46</td>\n      <td>0.463898</td>\n      <td>0.411622</td>\n      <td>23.905105</td>\n      <td>21.523502</td>\n      <td>7.0</td>\n      <td>-0.6</td>\n      <td>0</td>\n      <td>1</td>\n    </tr>\n    <tr>\n      <th>8390</th>\n      <td>1</td>\n      <td>1.26</td>\n      <td>1.18</td>\n      <td>76.05</td>\n      <td>81.65</td>\n      <td>0.96</td>\n      <td>4.00</td>\n      <td>5.25</td>\n      <td>23.95</td>\n      <td>18.35</td>\n      <td>...</td>\n      <td>7.64</td>\n      <td>6.02</td>\n      <td>0.460140</td>\n      <td>0.460523</td>\n      <td>24.458955</td>\n      <td>20.863410</td>\n      <td>7.4</td>\n      <td>5.6</td>\n      <td>0</td>\n      <td>1</td>\n    </tr>\n    <tr>\n      <th>8391</th>\n      <td>1</td>\n      <td>2.60</td>\n      <td>2.55</td>\n      <td>37.35</td>\n      <td>38.11</td>\n      <td>0.99</td>\n      <td>1.55</td>\n      <td>1.57</td>\n      <td>62.65</td>\n      <td>61.89</td>\n      <td>...</td>\n      <td>-14.88</td>\n      <td>-7.18</td>\n      <td>0.416183</td>\n      <td>0.450595</td>\n      <td>18.578021</td>\n      <td>20.349306</td>\n      <td>-14.4</td>\n      <td>-7.0</td>\n      <td>0</td>\n      <td>1</td>\n    </tr>\n    <tr>\n      <th>8392</th>\n      <td>0</td>\n      <td>1.74</td>\n      <td>1.64</td>\n      <td>55.27</td>\n      <td>58.90</td>\n      <td>0.97</td>\n      <td>2.15</td>\n      <td>2.35</td>\n      <td>44.73</td>\n      <td>41.10</td>\n      <td>...</td>\n      <td>-2.72</td>\n      <td>-6.46</td>\n      <td>0.426758</td>\n      <td>0.429294</td>\n      <td>21.121426</td>\n      <td>20.234609</td>\n      <td>-2.8</td>\n      <td>-6.4</td>\n      <td>0</td>\n      <td>1</td>\n    </tr>\n    <tr>\n      <th>8393</th>\n      <td>0</td>\n      <td>1.68</td>\n      <td>1.64</td>\n      <td>57.25</td>\n      <td>58.90</td>\n      <td>0.95</td>\n      <td>2.25</td>\n      <td>2.35</td>\n      <td>42.75</td>\n      <td>41.10</td>\n      <td>...</td>\n      <td>4.12</td>\n      <td>11.82</td>\n      <td>0.485782</td>\n      <td>0.493061</td>\n      <td>23.382055</td>\n      <td>20.189421</td>\n      <td>5.0</td>\n      <td>11.6</td>\n      <td>0</td>\n      <td>1</td>\n    </tr>\n  </tbody>\n</table>\n<p>8394 rows × 93 columns</p>\n</div>"
     },
     "execution_count": 628,
     "metadata": {},
     "output_type": "execute_result"
    }
   ],
   "source": [
    "#虛擬變數\n",
    "nba_df_for_ML_dumm = pd.get_dummies(nba_df_for_ML_dumm)\n",
    "nba_df_for_ML_dumm"
   ],
   "metadata": {
    "collapsed": false,
    "pycharm": {
     "name": "#%%\n"
    }
   }
  },
  {
   "cell_type": "code",
   "execution_count": 629,
   "outputs": [],
   "source": [
    "# 刪除明星賽後\n",
    "#nba_df_for_ML_dumm = nba_df_for_ML_dumm.drop(['Season_half_Post_AllStar'],axis=1)\n",
    "#nba_df_for_ML_dumm = nba_df_for_ML_dumm.drop(['Season_half_Pre_AllStar'],axis=1)"
   ],
   "metadata": {
    "collapsed": false,
    "pycharm": {
     "name": "#%%\n"
    }
   }
  },
  {
   "cell_type": "code",
   "execution_count": 630,
   "outputs": [
    {
     "data": {
      "text/plain": "<AxesSubplot:>"
     },
     "execution_count": 630,
     "metadata": {},
     "output_type": "execute_result"
    },
    {
     "data": {
      "text/plain": "<Figure size 792x648 with 2 Axes>",
      "image/png": "[encoded data removed]"
     },
     "metadata": {},
     "output_type": "display_data"
    }
   ],
   "source": [
    "# 可視化分析\n",
    "import seaborn as sns\n",
    "from matplotlib import pyplot as plt\n",
    "\n",
    "corr = nba_df_for_ML_dumm.corr()\n",
    "mask = np.triu(np.ones_like(corr, dtype=bool))\n",
    "\n",
    "# Set up the matplotlib figure\n",
    "f, ax = plt.subplots(figsize=(11, 9))\n",
    "\n",
    "# Generate a custom diverging colormap\n",
    "cmap = sns.diverging_palette(230, 20, as_cmap=True)\n",
    "\n",
    "# Draw the heatmap with the mask and correct aspect ratio\n",
    "sns.heatmap(corr, mask=mask, cmap=cmap, vmax=.3, center=0,\n",
    "            square=True, linewidths=.5, cbar_kws={\"shrink\": .5})"
   ],
   "metadata": {
    "collapsed": false,
    "pycharm": {
     "name": "#%%\n"
    }
   }
  },
  {
   "cell_type": "code",
   "execution_count": 631,
   "outputs": [
    {
     "data": {
      "text/plain": "<AxesSubplot:xlabel='homeRslt', ylabel='index'>"
     },
     "execution_count": 631,
     "metadata": {},
     "output_type": "execute_result"
    },
    {
     "data": {
      "text/plain": "<Figure size 1152x720 with 1 Axes>",
      "image/png": "[encoded data removed]"
     },
     "metadata": {},
     "output_type": "display_data"
    }
   ],
   "source": [
    "plt.figure(figsize=(16,10))\n",
    "k = 30\n",
    "cols = corr.nlargest(k, 'homeRslt')['homeRslt']\n",
    "cols = cols.reset_index().loc[1:]\n",
    "sns.barplot(y = 'index',x ='homeRslt',data = cols)\n"
   ],
   "metadata": {
    "collapsed": false,
    "pycharm": {
     "name": "#%%\n"
    }
   }
  },
  {
   "cell_type": "markdown",
   "source": [
    "# 儲存資料"
   ],
   "metadata": {
    "collapsed": false
   }
  },
  {
   "cell_type": "code",
   "execution_count": 632,
   "outputs": [],
   "source": [
    "nba_df_for_ML_dumm.to_csv('nba_df_for_ML_dumm(強弱盤).csv')"
   ],
   "metadata": {
    "collapsed": false,
    "pycharm": {
     "name": "#%%\n"
    }
   }
  },
  {
   "cell_type": "markdown",
   "source": [
    "# 閱讀資料"
   ],
   "metadata": {
    "collapsed": false
   }
  },
  {
   "cell_type": "code",
   "execution_count": 3,
   "outputs": [],
   "source": [
    "nba_df_for_ML = pd.read_csv('nba_df_for_ML(強弱盤).csv',index_col='Unnamed: 0')\n",
    "nba_df_for_ML_dumm = pd.read_csv('nba_df_for_ML_dumm(強弱盤).csv',index_col='Unnamed: 0')"
   ],
   "metadata": {
    "collapsed": false,
    "pycharm": {
     "name": "#%%\n"
    }
   }
  },
  {
   "cell_type": "code",
   "execution_count": 4,
   "outputs": [
    {
     "data": {
      "text/plain": "      homeRslt      gmDate gmTime                homeAbbr  home_games  \\\n0            1  2014-10-28  20:00    New Orleans Pelicans           1   \n1            1  2014-10-28  20:00       San Antonio Spurs           1   \n2            0  2014-10-28  22:30      Los Angeles Lakers           1   \n3            1  2014-10-29  19:00       Charlotte Hornets           1   \n4            1  2014-10-29  19:00          Indiana Pacers           1   \n...        ...         ...    ...                     ...         ...   \n8389         1  2022-01-03  20:30        Dallas Mavericks          37   \n8390         1  2022-01-03  22:00   Golden State Warriors          36   \n8391         1  2022-01-03  22:00  Portland Trail Blazers          36   \n8392         0  2022-01-03  22:30    Los Angeles Clippers          38   \n8393         0  2022-01-04  19:00     Cleveland Cavaliers          38   \n\n      home1x2FirstOptionRate  home1x2LastOptionRate  home1x2FirstWinRate  \\\n0                       1.16                   1.20                82.58   \n1                       1.50                   1.62                64.29   \n2                       3.20                   3.35                29.98   \n3                       1.23                   1.25                77.55   \n4                       1.33                   1.29                71.88   \n...                      ...                    ...                  ...   \n8389                    1.68                   1.68                57.25   \n8390                    1.26                   1.18                76.05   \n8391                    2.60                   2.55                37.35   \n8392                    1.74                   1.64                55.27   \n8393                    1.68                   1.64                57.25   \n\n      home1x2LastWinRate  home1x2KellyIndex  ... avg_homeFIC  avg_awayFIC  \\\n0                  79.83               0.97  ...        0.00        0.000   \n1                  59.70               0.99  ...        0.00        0.000   \n2                  28.57               0.97  ...        0.00        0.000   \n3                  76.64               0.95  ...        0.00        0.000   \n4                  74.15               0.94  ...        0.00        0.000   \n...                  ...                ...  ...         ...          ...   \n8389               57.25               0.96  ...       88.20       80.175   \n8390               81.65               0.96  ...       93.60       87.625   \n8391               38.11               0.99  ...       73.30       84.100   \n8392               58.90               0.97  ...       81.75       80.775   \n8393               58.90               0.95  ...       95.90      100.625   \n\n      avg_homeEDiff  avg_awayEDiff  avg_homePlay_Percentage  \\\n0              0.00           0.00                 0.000000   \n1              0.00           0.00                 0.000000   \n2              0.00           0.00                 0.000000   \n3              0.00           0.00                 0.000000   \n4              0.00           0.00                 0.000000   \n...             ...            ...                      ...   \n8389           7.42          -0.46                 0.463898   \n8390           7.64           6.02                 0.460140   \n8391         -14.88          -7.18                 0.416183   \n8392          -2.72          -6.46                 0.426758   \n8393           4.12          11.82                 0.485782   \n\n      avg_awayPlay_Percentage  avg_homeAR avg_awayAR  avg_homeDiffPTS  \\\n0                    0.000000    0.000000   0.000000              0.0   \n1                    0.000000    0.000000   0.000000              0.0   \n2                    0.000000    0.000000   0.000000              0.0   \n3                    0.000000    0.000000   0.000000              0.0   \n4                    0.000000    0.000000   0.000000              0.0   \n...                       ...         ...        ...              ...   \n8389                 0.411622   23.905105  21.523502              7.0   \n8390                 0.460523   24.458955  20.863410              7.4   \n8391                 0.450595   18.578021  20.349306            -14.4   \n8392                 0.429294   21.121426  20.234609             -2.8   \n8393                 0.493061   23.382055  20.189421              5.0   \n\n      avg_awayDiffPTS  \n0                 0.0  \n1                 0.0  \n2                 0.0  \n3                 0.0  \n4                 0.0  \n...               ...  \n8389             -0.6  \n8390              5.6  \n8391             -7.0  \n8392             -6.4  \n8393             11.6  \n\n[8394 rows x 98 columns]",
      "text/html": "<div>\n<style scoped>\n    .dataframe tbody tr th:only-of-type {\n        vertical-align: middle;\n    }\n\n    .dataframe tbody tr th {\n        vertical-align: top;\n    }\n\n    .dataframe thead th {\n        text-align: right;\n    }\n</style>\n<table border=\"1\" class=\"dataframe\">\n  <thead>\n    <tr style=\"text-align: right;\">\n      <th></th>\n      <th>homeRslt</th>\n      <th>gmDate</th>\n      <th>gmTime</th>\n      <th>homeAbbr</th>\n      <th>home_games</th>\n      <th>home1x2FirstOptionRate</th>\n      <th>home1x2LastOptionRate</th>\n      <th>home1x2FirstWinRate</th>\n      <th>home1x2LastWinRate</th>\n      <th>home1x2KellyIndex</th>\n      <th>...</th>\n      <th>avg_homeFIC</th>\n      <th>avg_awayFIC</th>\n      <th>avg_homeEDiff</th>\n      <th>avg_awayEDiff</th>\n      <th>avg_homePlay_Percentage</th>\n      <th>avg_awayPlay_Percentage</th>\n      <th>avg_homeAR</th>\n      <th>avg_awayAR</th>\n      <th>avg_homeDiffPTS</th>\n      <th>avg_awayDiffPTS</th>\n    </tr>\n  </thead>\n  <tbody>\n    <tr>\n      <th>0</th>\n      <td>1</td>\n      <td>2014-10-28</td>\n      <td>20:00</td>\n      <td>New Orleans Pelicans</td>\n      <td>1</td>\n      <td>1.16</td>\n      <td>1.20</td>\n      <td>82.58</td>\n      <td>79.83</td>\n      <td>0.97</td>\n      <td>...</td>\n      <td>0.00</td>\n      <td>0.000</td>\n      <td>0.00</td>\n      <td>0.00</td>\n      <td>0.000000</td>\n      <td>0.000000</td>\n      <td>0.000000</td>\n      <td>0.000000</td>\n      <td>0.0</td>\n      <td>0.0</td>\n    </tr>\n    <tr>\n      <th>1</th>\n      <td>1</td>\n      <td>2014-10-28</td>\n      <td>20:00</td>\n      <td>San Antonio Spurs</td>\n      <td>1</td>\n      <td>1.50</td>\n      <td>1.62</td>\n      <td>64.29</td>\n      <td>59.70</td>\n      <td>0.99</td>\n      <td>...</td>\n      <td>0.00</td>\n      <td>0.000</td>\n      <td>0.00</td>\n      <td>0.00</td>\n      <td>0.000000</td>\n      <td>0.000000</td>\n      <td>0.000000</td>\n      <td>0.000000</td>\n      <td>0.0</td>\n      <td>0.0</td>\n    </tr>\n    <tr>\n      <th>2</th>\n      <td>0</td>\n      <td>2014-10-28</td>\n      <td>22:30</td>\n      <td>Los Angeles Lakers</td>\n      <td>1</td>\n      <td>3.20</td>\n      <td>3.35</td>\n      <td>29.98</td>\n      <td>28.57</td>\n      <td>0.97</td>\n      <td>...</td>\n      <td>0.00</td>\n      <td>0.000</td>\n      <td>0.00</td>\n      <td>0.00</td>\n      <td>0.000000</td>\n      <td>0.000000</td>\n      <td>0.000000</td>\n      <td>0.000000</td>\n      <td>0.0</td>\n      <td>0.0</td>\n    </tr>\n    <tr>\n      <th>3</th>\n      <td>1</td>\n      <td>2014-10-29</td>\n      <td>19:00</td>\n      <td>Charlotte Hornets</td>\n      <td>1</td>\n      <td>1.23</td>\n      <td>1.25</td>\n      <td>77.55</td>\n      <td>76.64</td>\n      <td>0.95</td>\n      <td>...</td>\n      <td>0.00</td>\n      <td>0.000</td>\n      <td>0.00</td>\n      <td>0.00</td>\n      <td>0.000000</td>\n      <td>0.000000</td>\n      <td>0.000000</td>\n      <td>0.000000</td>\n      <td>0.0</td>\n      <td>0.0</td>\n    </tr>\n    <tr>\n      <th>4</th>\n      <td>1</td>\n      <td>2014-10-29</td>\n      <td>19:00</td>\n      <td>Indiana Pacers</td>\n      <td>1</td>\n      <td>1.33</td>\n      <td>1.29</td>\n      <td>71.88</td>\n      <td>74.15</td>\n      <td>0.94</td>\n      <td>...</td>\n      <td>0.00</td>\n      <td>0.000</td>\n      <td>0.00</td>\n      <td>0.00</td>\n      <td>0.000000</td>\n      <td>0.000000</td>\n      <td>0.000000</td>\n      <td>0.000000</td>\n      <td>0.0</td>\n      <td>0.0</td>\n    </tr>\n    <tr>\n      <th>...</th>\n      <td>...</td>\n      <td>...</td>\n      <td>...</td>\n      <td>...</td>\n      <td>...</td>\n      <td>...</td>\n      <td>...</td>\n      <td>...</td>\n      <td>...</td>\n      <td>...</td>\n      <td>...</td>\n      <td>...</td>\n      <td>...</td>\n      <td>...</td>\n      <td>...</td>\n      <td>...</td>\n      <td>...</td>\n      <td>...</td>\n      <td>...</td>\n      <td>...</td>\n      <td>...</td>\n    </tr>\n    <tr>\n      <th>8389</th>\n      <td>1</td>\n      <td>2022-01-03</td>\n      <td>20:30</td>\n      <td>Dallas Mavericks</td>\n      <td>37</td>\n      <td>1.68</td>\n      <td>1.68</td>\n      <td>57.25</td>\n      <td>57.25</td>\n      <td>0.96</td>\n      <td>...</td>\n      <td>88.20</td>\n      <td>80.175</td>\n      <td>7.42</td>\n      <td>-0.46</td>\n      <td>0.463898</td>\n      <td>0.411622</td>\n      <td>23.905105</td>\n      <td>21.523502</td>\n      <td>7.0</td>\n      <td>-0.6</td>\n    </tr>\n    <tr>\n      <th>8390</th>\n      <td>1</td>\n      <td>2022-01-03</td>\n      <td>22:00</td>\n      <td>Golden State Warriors</td>\n      <td>36</td>\n      <td>1.26</td>\n      <td>1.18</td>\n      <td>76.05</td>\n      <td>81.65</td>\n      <td>0.96</td>\n      <td>...</td>\n      <td>93.60</td>\n      <td>87.625</td>\n      <td>7.64</td>\n      <td>6.02</td>\n      <td>0.460140</td>\n      <td>0.460523</td>\n      <td>24.458955</td>\n      <td>20.863410</td>\n      <td>7.4</td>\n      <td>5.6</td>\n    </tr>\n    <tr>\n      <th>8391</th>\n      <td>1</td>\n      <td>2022-01-03</td>\n      <td>22:00</td>\n      <td>Portland Trail Blazers</td>\n      <td>36</td>\n      <td>2.60</td>\n      <td>2.55</td>\n      <td>37.35</td>\n      <td>38.11</td>\n      <td>0.99</td>\n      <td>...</td>\n      <td>73.30</td>\n      <td>84.100</td>\n      <td>-14.88</td>\n      <td>-7.18</td>\n      <td>0.416183</td>\n      <td>0.450595</td>\n      <td>18.578021</td>\n      <td>20.349306</td>\n      <td>-14.4</td>\n      <td>-7.0</td>\n    </tr>\n    <tr>\n      <th>8392</th>\n      <td>0</td>\n      <td>2022-01-03</td>\n      <td>22:30</td>\n      <td>Los Angeles Clippers</td>\n      <td>38</td>\n      <td>1.74</td>\n      <td>1.64</td>\n      <td>55.27</td>\n      <td>58.90</td>\n      <td>0.97</td>\n      <td>...</td>\n      <td>81.75</td>\n      <td>80.775</td>\n      <td>-2.72</td>\n      <td>-6.46</td>\n      <td>0.426758</td>\n      <td>0.429294</td>\n      <td>21.121426</td>\n      <td>20.234609</td>\n      <td>-2.8</td>\n      <td>-6.4</td>\n    </tr>\n    <tr>\n      <th>8393</th>\n      <td>0</td>\n      <td>2022-01-04</td>\n      <td>19:00</td>\n      <td>Cleveland Cavaliers</td>\n      <td>38</td>\n      <td>1.68</td>\n      <td>1.64</td>\n      <td>57.25</td>\n      <td>58.90</td>\n      <td>0.95</td>\n      <td>...</td>\n      <td>95.90</td>\n      <td>100.625</td>\n      <td>4.12</td>\n      <td>11.82</td>\n      <td>0.485782</td>\n      <td>0.493061</td>\n      <td>23.382055</td>\n      <td>20.189421</td>\n      <td>5.0</td>\n      <td>11.6</td>\n    </tr>\n  </tbody>\n</table>\n<p>8394 rows × 98 columns</p>\n</div>"
     },
     "execution_count": 4,
     "metadata": {},
     "output_type": "execute_result"
    }
   ],
   "source": [
    "nba_df_for_ML"
   ],
   "metadata": {
    "collapsed": false,
    "pycharm": {
     "name": "#%%\n"
    }
   }
  },
  {
   "cell_type": "code",
   "execution_count": 5,
   "outputs": [
    {
     "data": {
      "text/plain": "      homeRslt  home1x2FirstOptionRate  home1x2LastOptionRate  \\\n0            1                    1.16                   1.20   \n1            1                    1.50                   1.62   \n2            0                    3.20                   3.35   \n3            1                    1.23                   1.25   \n4            1                    1.33                   1.29   \n...        ...                     ...                    ...   \n8389         1                    1.68                   1.68   \n8390         1                    1.26                   1.18   \n8391         1                    2.60                   2.55   \n8392         0                    1.74                   1.64   \n8393         0                    1.68                   1.64   \n\n      home1x2FirstWinRate  home1x2LastWinRate  home1x2KellyIndex  \\\n0                   82.58               79.83               0.97   \n1                   64.29               59.70               0.99   \n2                   29.98               28.57               0.97   \n3                   77.55               76.64               0.95   \n4                   71.88               74.15               0.94   \n...                   ...                 ...                ...   \n8389                57.25               57.25               0.96   \n8390                76.05               81.65               0.96   \n8391                37.35               38.11               0.99   \n8392                55.27               58.90               0.97   \n8393                57.25               58.90               0.95   \n\n      away1x2FirstOptionRate  away1x2LastOptionRate  away1x2FirstWinRate  \\\n0                       5.50                   4.75                17.42   \n1                       2.70                   2.40                35.71   \n2                       1.37                   1.34                70.02   \n3                       4.25                   4.10                22.45   \n4                       3.40                   3.70                28.12   \n...                      ...                    ...                  ...   \n8389                    2.25                   2.25                42.75   \n8390                    4.00                   5.25                23.95   \n8391                    1.55                   1.57                62.65   \n8392                    2.15                   2.35                44.73   \n8393                    2.25                   2.35                42.75   \n\n      away1x2LastWinRate  ...  avg_homeEDiff  avg_awayEDiff  \\\n0                  20.17  ...           0.00           0.00   \n1                  40.30  ...           0.00           0.00   \n2                  71.43  ...           0.00           0.00   \n3                  23.36  ...           0.00           0.00   \n4                  25.85  ...           0.00           0.00   \n...                  ...  ...            ...            ...   \n8389               42.75  ...           7.42          -0.46   \n8390               18.35  ...           7.64           6.02   \n8391               61.89  ...         -14.88          -7.18   \n8392               41.10  ...          -2.72          -6.46   \n8393               41.10  ...           4.12          11.82   \n\n      avg_homePlay_Percentage  avg_awayPlay_Percentage  avg_homeAR  \\\n0                    0.000000                 0.000000    0.000000   \n1                    0.000000                 0.000000    0.000000   \n2                    0.000000                 0.000000    0.000000   \n3                    0.000000                 0.000000    0.000000   \n4                    0.000000                 0.000000    0.000000   \n...                       ...                      ...         ...   \n8389                 0.463898                 0.411622   23.905105   \n8390                 0.460140                 0.460523   24.458955   \n8391                 0.416183                 0.450595   18.578021   \n8392                 0.426758                 0.429294   21.121426   \n8393                 0.485782                 0.493061   23.382055   \n\n      avg_awayAR  avg_homeDiffPTS  avg_awayDiffPTS  Season_half_Post_AllStar  \\\n0       0.000000              0.0              0.0                         0   \n1       0.000000              0.0              0.0                         0   \n2       0.000000              0.0              0.0                         0   \n3       0.000000              0.0              0.0                         0   \n4       0.000000              0.0              0.0                         0   \n...          ...              ...              ...                       ...   \n8389   21.523502              7.0             -0.6                         0   \n8390   20.863410              7.4              5.6                         0   \n8391   20.349306            -14.4             -7.0                         0   \n8392   20.234609             -2.8             -6.4                         0   \n8393   20.189421              5.0             11.6                         0   \n\n      Season_half_Pre_AllStar  \n0                           1  \n1                           1  \n2                           1  \n3                           1  \n4                           1  \n...                       ...  \n8389                        1  \n8390                        1  \n8391                        1  \n8392                        1  \n8393                        1  \n\n[8394 rows x 93 columns]",
      "text/html": "<div>\n<style scoped>\n    .dataframe tbody tr th:only-of-type {\n        vertical-align: middle;\n    }\n\n    .dataframe tbody tr th {\n        vertical-align: top;\n    }\n\n    .dataframe thead th {\n        text-align: right;\n    }\n</style>\n<table border=\"1\" class=\"dataframe\">\n  <thead>\n    <tr style=\"text-align: right;\">\n      <th></th>\n      <th>homeRslt</th>\n      <th>home1x2FirstOptionRate</th>\n      <th>home1x2LastOptionRate</th>\n      <th>home1x2FirstWinRate</th>\n      <th>home1x2LastWinRate</th>\n      <th>home1x2KellyIndex</th>\n      <th>away1x2FirstOptionRate</th>\n      <th>away1x2LastOptionRate</th>\n      <th>away1x2FirstWinRate</th>\n      <th>away1x2LastWinRate</th>\n      <th>...</th>\n      <th>avg_homeEDiff</th>\n      <th>avg_awayEDiff</th>\n      <th>avg_homePlay_Percentage</th>\n      <th>avg_awayPlay_Percentage</th>\n      <th>avg_homeAR</th>\n      <th>avg_awayAR</th>\n      <th>avg_homeDiffPTS</th>\n      <th>avg_awayDiffPTS</th>\n      <th>Season_half_Post_AllStar</th>\n      <th>Season_half_Pre_AllStar</th>\n    </tr>\n  </thead>\n  <tbody>\n    <tr>\n      <th>0</th>\n      <td>1</td>\n      <td>1.16</td>\n      <td>1.20</td>\n      <td>82.58</td>\n      <td>79.83</td>\n      <td>0.97</td>\n      <td>5.50</td>\n      <td>4.75</td>\n      <td>17.42</td>\n      <td>20.17</td>\n      <td>...</td>\n      <td>0.00</td>\n      <td>0.00</td>\n      <td>0.000000</td>\n      <td>0.000000</td>\n      <td>0.000000</td>\n      <td>0.000000</td>\n      <td>0.0</td>\n      <td>0.0</td>\n      <td>0</td>\n      <td>1</td>\n    </tr>\n    <tr>\n      <th>1</th>\n      <td>1</td>\n      <td>1.50</td>\n      <td>1.62</td>\n      <td>64.29</td>\n      <td>59.70</td>\n      <td>0.99</td>\n      <td>2.70</td>\n      <td>2.40</td>\n      <td>35.71</td>\n      <td>40.30</td>\n      <td>...</td>\n      <td>0.00</td>\n      <td>0.00</td>\n      <td>0.000000</td>\n      <td>0.000000</td>\n      <td>0.000000</td>\n      <td>0.000000</td>\n      <td>0.0</td>\n      <td>0.0</td>\n      <td>0</td>\n      <td>1</td>\n    </tr>\n    <tr>\n      <th>2</th>\n      <td>0</td>\n      <td>3.20</td>\n      <td>3.35</td>\n      <td>29.98</td>\n      <td>28.57</td>\n      <td>0.97</td>\n      <td>1.37</td>\n      <td>1.34</td>\n      <td>70.02</td>\n      <td>71.43</td>\n      <td>...</td>\n      <td>0.00</td>\n      <td>0.00</td>\n      <td>0.000000</td>\n      <td>0.000000</td>\n      <td>0.000000</td>\n      <td>0.000000</td>\n      <td>0.0</td>\n      <td>0.0</td>\n      <td>0</td>\n      <td>1</td>\n    </tr>\n    <tr>\n      <th>3</th>\n      <td>1</td>\n      <td>1.23</td>\n      <td>1.25</td>\n      <td>77.55</td>\n      <td>76.64</td>\n      <td>0.95</td>\n      <td>4.25</td>\n      <td>4.10</td>\n      <td>22.45</td>\n      <td>23.36</td>\n      <td>...</td>\n      <td>0.00</td>\n      <td>0.00</td>\n      <td>0.000000</td>\n      <td>0.000000</td>\n      <td>0.000000</td>\n      <td>0.000000</td>\n      <td>0.0</td>\n      <td>0.0</td>\n      <td>0</td>\n      <td>1</td>\n    </tr>\n    <tr>\n      <th>4</th>\n      <td>1</td>\n      <td>1.33</td>\n      <td>1.29</td>\n      <td>71.88</td>\n      <td>74.15</td>\n      <td>0.94</td>\n      <td>3.40</td>\n      <td>3.70</td>\n      <td>28.12</td>\n      <td>25.85</td>\n      <td>...</td>\n      <td>0.00</td>\n      <td>0.00</td>\n      <td>0.000000</td>\n      <td>0.000000</td>\n      <td>0.000000</td>\n      <td>0.000000</td>\n      <td>0.0</td>\n      <td>0.0</td>\n      <td>0</td>\n      <td>1</td>\n    </tr>\n    <tr>\n      <th>...</th>\n      <td>...</td>\n      <td>...</td>\n      <td>...</td>\n      <td>...</td>\n      <td>...</td>\n      <td>...</td>\n      <td>...</td>\n      <td>...</td>\n      <td>...</td>\n      <td>...</td>\n      <td>...</td>\n      <td>...</td>\n      <td>...</td>\n      <td>...</td>\n      <td>...</td>\n      <td>...</td>\n      <td>...</td>\n      <td>...</td>\n      <td>...</td>\n      <td>...</td>\n      <td>...</td>\n    </tr>\n    <tr>\n      <th>8389</th>\n      <td>1</td>\n      <td>1.68</td>\n      <td>1.68</td>\n      <td>57.25</td>\n      <td>57.25</td>\n      <td>0.96</td>\n      <td>2.25</td>\n      <td>2.25</td>\n      <td>42.75</td>\n      <td>42.75</td>\n      <td>...</td>\n      <td>7.42</td>\n      <td>-0.46</td>\n      <td>0.463898</td>\n      <td>0.411622</td>\n      <td>23.905105</td>\n      <td>21.523502</td>\n      <td>7.0</td>\n      <td>-0.6</td>\n      <td>0</td>\n      <td>1</td>\n    </tr>\n    <tr>\n      <th>8390</th>\n      <td>1</td>\n      <td>1.26</td>\n      <td>1.18</td>\n      <td>76.05</td>\n      <td>81.65</td>\n      <td>0.96</td>\n      <td>4.00</td>\n      <td>5.25</td>\n      <td>23.95</td>\n      <td>18.35</td>\n      <td>...</td>\n      <td>7.64</td>\n      <td>6.02</td>\n      <td>0.460140</td>\n      <td>0.460523</td>\n      <td>24.458955</td>\n      <td>20.863410</td>\n      <td>7.4</td>\n      <td>5.6</td>\n      <td>0</td>\n      <td>1</td>\n    </tr>\n    <tr>\n      <th>8391</th>\n      <td>1</td>\n      <td>2.60</td>\n      <td>2.55</td>\n      <td>37.35</td>\n      <td>38.11</td>\n      <td>0.99</td>\n      <td>1.55</td>\n      <td>1.57</td>\n      <td>62.65</td>\n      <td>61.89</td>\n      <td>...</td>\n      <td>-14.88</td>\n      <td>-7.18</td>\n      <td>0.416183</td>\n      <td>0.450595</td>\n      <td>18.578021</td>\n      <td>20.349306</td>\n      <td>-14.4</td>\n      <td>-7.0</td>\n      <td>0</td>\n      <td>1</td>\n    </tr>\n    <tr>\n      <th>8392</th>\n      <td>0</td>\n      <td>1.74</td>\n      <td>1.64</td>\n      <td>55.27</td>\n      <td>58.90</td>\n      <td>0.97</td>\n      <td>2.15</td>\n      <td>2.35</td>\n      <td>44.73</td>\n      <td>41.10</td>\n      <td>...</td>\n      <td>-2.72</td>\n      <td>-6.46</td>\n      <td>0.426758</td>\n      <td>0.429294</td>\n      <td>21.121426</td>\n      <td>20.234609</td>\n      <td>-2.8</td>\n      <td>-6.4</td>\n      <td>0</td>\n      <td>1</td>\n    </tr>\n    <tr>\n      <th>8393</th>\n      <td>0</td>\n      <td>1.68</td>\n      <td>1.64</td>\n      <td>57.25</td>\n      <td>58.90</td>\n      <td>0.95</td>\n      <td>2.25</td>\n      <td>2.35</td>\n      <td>42.75</td>\n      <td>41.10</td>\n      <td>...</td>\n      <td>4.12</td>\n      <td>11.82</td>\n      <td>0.485782</td>\n      <td>0.493061</td>\n      <td>23.382055</td>\n      <td>20.189421</td>\n      <td>5.0</td>\n      <td>11.6</td>\n      <td>0</td>\n      <td>1</td>\n    </tr>\n  </tbody>\n</table>\n<p>8394 rows × 93 columns</p>\n</div>"
     },
     "execution_count": 5,
     "metadata": {},
     "output_type": "execute_result"
    }
   ],
   "source": [
    "nba_df_for_ML_dumm"
   ],
   "metadata": {
    "collapsed": false,
    "pycharm": {
     "name": "#%%\n"
    }
   }
  },
  {
   "cell_type": "markdown",
   "source": [
    "# Sequential Feature Selection(可選)"
   ],
   "metadata": {
    "collapsed": false,
    "pycharm": {
     "name": "#%% md\n"
    }
   }
  },
  {
   "cell_type": "code",
   "execution_count": null,
   "outputs": [],
   "source": [],
   "metadata": {
    "collapsed": false,
    "pycharm": {
     "name": "#%%\n"
    }
   }
  },
  {
   "cell_type": "code",
   "execution_count": 866,
   "outputs": [],
   "source": [
    "nba_df_for_ML_dumm_X = nba_df_for_ML_dumm.drop('homeRslt',axis = 1)\n",
    "nba_df_for_ML_dumm_y = nba_df_for_ML_dumm.homeRslt"
   ],
   "metadata": {
    "collapsed": false,
    "pycharm": {
     "name": "#%%\n"
    }
   }
  },
  {
   "cell_type": "code",
   "execution_count": null,
   "outputs": [],
   "source": [
    "from mlxtend.feature_selection import SequentialFeatureSelector as SFS\n",
    "from sklearn.ensemble import GradientBoostingClassifier\n",
    "\n",
    "SFS_GradientBoostingClassifier = GradientBoostingClassifier(max_depth=1, max_leaf_nodes=30, min_samples_leaf=100)\n",
    "sfs = SFS(SFS_GradientBoostingClassifier, cv=5, scoring='neg_log_loss', n_jobs=-1 ,k_features=(10,50))\n",
    "sfs.fit(nba_df_for_ML_dumm_X[:], nba_df_for_ML_dumm_y[:])"
   ],
   "metadata": {
    "collapsed": false,
    "pycharm": {
     "name": "#%%\n",
     "is_executing": true
    }
   }
  },
  {
   "cell_type": "code",
   "execution_count": null,
   "outputs": [],
   "source": [
    "pd.DataFrame(sfs.get_metric_dict())"
   ],
   "metadata": {
    "collapsed": false,
    "pycharm": {
     "name": "#%%\n",
     "is_executing": true
    }
   }
  },
  {
   "cell_type": "markdown",
   "source": [
    "## 調用SFS特徵進行訓練(可選)"
   ],
   "metadata": {
    "collapsed": false,
    "pycharm": {
     "name": "#%% md\n"
    }
   }
  },
  {
   "cell_type": "code",
   "execution_count": 29,
   "outputs": [
    {
     "data": {
      "text/plain": "            homeRslt  home_streak  home_avg_homePIR  away_avg_awayPIR  \\\nUnnamed: 0                                                              \n0                  1            0               0.0               0.0   \n1                  1            0               0.0               0.0   \n2                  0            0               0.0               0.0   \n3                  1            0               0.0               0.0   \n4                  1            0               0.0               0.0   \n...              ...          ...               ...               ...   \n7851               1            0             137.8             102.2   \n7852               1            1             113.2             120.4   \n7853               1            1             134.6             113.4   \n7854               0            0             119.0             142.4   \n7855               1            7             134.8             120.0   \n\n            home_avg_homePTS  away_avg_awayPTS  away_avg_awayFGA  \\\nUnnamed: 0                                                         \n0                        0.0               0.0               0.0   \n1                        0.0               0.0               0.0   \n2                        0.0               0.0               0.0   \n3                        0.0               0.0               0.0   \n4                        0.0               0.0               0.0   \n...                      ...               ...               ...   \n7851                   118.6              99.4              88.2   \n7852                   104.0             107.8              85.4   \n7853                   116.6             107.4              91.2   \n7854                   110.6             125.2              93.6   \n7855                   120.8             105.0              84.6   \n\n            home_avg_homeFGM  away_avg_awayFGM  away_avg_away3PM  ...  \\\nUnnamed: 0                                                        ...   \n0                        0.0               0.0               0.0  ...   \n1                        0.0               0.0               0.0  ...   \n2                        0.0               0.0               0.0  ...   \n3                        0.0               0.0               0.0  ...   \n4                        0.0               0.0               0.0  ...   \n...                      ...               ...               ...  ...   \n7851                    43.6              36.8              11.8  ...   \n7852                    39.4              39.8              13.6  ...   \n7853                    41.6              42.4              11.6  ...   \n7854                    41.0              47.4              14.2  ...   \n7855                    45.4              40.4              10.6  ...   \n\n            away_avg_awayASST_Percentage  away_avg_awayTS_Percentage  \\\nUnnamed: 0                                                             \n0                                   0.00                      0.0000   \n1                                   0.00                      0.0000   \n2                                   0.00                      0.0000   \n3                                   0.00                      0.0000   \n4                                   0.00                      0.0000   \n...                                  ...                         ...   \n7851                               59.66                      0.5184   \n7852                               56.78                      0.5800   \n7853                               58.68                      0.5514   \n7854                               62.46                      0.6096   \n7855                               62.44                      0.5690   \n\n            away_avg_awayEFG_Percentage  home_avg_homeDREB_Percentage  \\\nUnnamed: 0                                                              \n0                                0.0000                          0.00   \n1                                0.0000                          0.00   \n2                                0.0000                          0.00   \n3                                0.0000                          0.00   \n4                                0.0000                          0.00   \n...                                 ...                           ...   \n7851                             0.4878                         82.10   \n7852                             0.5456                         73.76   \n7853                             0.5282                         76.22   \n7854                             0.5828                         74.64   \n7855                             0.5398                         78.96   \n\n            home_avg_homeOrtg  home_avg_homeDrtg  away_avg_awayDrtg  \\\nUnnamed: 0                                                            \n0                        0.00               0.00               0.00   \n1                        0.00               0.00               0.00   \n2                        0.00               0.00               0.00   \n3                        0.00               0.00               0.00   \n4                        0.00               0.00               0.00   \n...                       ...                ...                ...   \n7851                   119.82             113.80             115.22   \n7852                   111.62             117.92             106.74   \n7853                   116.66             114.42             115.74   \n7854                   115.26             117.54             118.66   \n7855                   112.46             101.16             115.72   \n\n            home_avg_homeASTDividedByTO  away_avg_awayASTDividedByTO  \\\nUnnamed: 0                                                             \n0                                 0.000                        0.000   \n1                                 0.000                        0.000   \n2                                 0.000                        0.000   \n3                                 0.000                        0.000   \n4                                 0.000                        0.000   \n...                                 ...                          ...   \n7851                              2.326                        1.562   \n7852                              2.548                        1.416   \n7853                              2.086                        2.290   \n7854                              2.494                        3.528   \n7855                              1.762                        2.024   \n\n            Season_half_Pre_AllStar  \nUnnamed: 0                           \n0                                 1  \n1                                 1  \n2                                 1  \n3                                 1  \n4                                 1  \n...                             ...  \n7851                              0  \n7852                              0  \n7853                              0  \n7854                              0  \n7855                              0  \n\n[7856 rows x 30 columns]",
      "text/html": "<div>\n<style scoped>\n    .dataframe tbody tr th:only-of-type {\n        vertical-align: middle;\n    }\n\n    .dataframe tbody tr th {\n        vertical-align: top;\n    }\n\n    .dataframe thead th {\n        text-align: right;\n    }\n</style>\n<table border=\"1\" class=\"dataframe\">\n  <thead>\n    <tr style=\"text-align: right;\">\n      <th></th>\n      <th>homeRslt</th>\n      <th>home_streak</th>\n      <th>home_avg_homePIR</th>\n      <th>away_avg_awayPIR</th>\n      <th>home_avg_homePTS</th>\n      <th>away_avg_awayPTS</th>\n      <th>away_avg_awayFGA</th>\n      <th>home_avg_homeFGM</th>\n      <th>away_avg_awayFGM</th>\n      <th>away_avg_away3PM</th>\n      <th>...</th>\n      <th>away_avg_awayASST_Percentage</th>\n      <th>away_avg_awayTS_Percentage</th>\n      <th>away_avg_awayEFG_Percentage</th>\n      <th>home_avg_homeDREB_Percentage</th>\n      <th>home_avg_homeOrtg</th>\n      <th>home_avg_homeDrtg</th>\n      <th>away_avg_awayDrtg</th>\n      <th>home_avg_homeASTDividedByTO</th>\n      <th>away_avg_awayASTDividedByTO</th>\n      <th>Season_half_Pre_AllStar</th>\n    </tr>\n    <tr>\n      <th>Unnamed: 0</th>\n      <th></th>\n      <th></th>\n      <th></th>\n      <th></th>\n      <th></th>\n      <th></th>\n      <th></th>\n      <th></th>\n      <th></th>\n      <th></th>\n      <th></th>\n      <th></th>\n      <th></th>\n      <th></th>\n      <th></th>\n      <th></th>\n      <th></th>\n      <th></th>\n      <th></th>\n      <th></th>\n      <th></th>\n    </tr>\n  </thead>\n  <tbody>\n    <tr>\n      <th>0</th>\n      <td>1</td>\n      <td>0</td>\n      <td>0.0</td>\n      <td>0.0</td>\n      <td>0.0</td>\n      <td>0.0</td>\n      <td>0.0</td>\n      <td>0.0</td>\n      <td>0.0</td>\n      <td>0.0</td>\n      <td>...</td>\n      <td>0.00</td>\n      <td>0.0000</td>\n      <td>0.0000</td>\n      <td>0.00</td>\n      <td>0.00</td>\n      <td>0.00</td>\n      <td>0.00</td>\n      <td>0.000</td>\n      <td>0.000</td>\n      <td>1</td>\n    </tr>\n    <tr>\n      <th>1</th>\n      <td>1</td>\n      <td>0</td>\n      <td>0.0</td>\n      <td>0.0</td>\n      <td>0.0</td>\n      <td>0.0</td>\n      <td>0.0</td>\n      <td>0.0</td>\n      <td>0.0</td>\n      <td>0.0</td>\n      <td>...</td>\n      <td>0.00</td>\n      <td>0.0000</td>\n      <td>0.0000</td>\n      <td>0.00</td>\n      <td>0.00</td>\n      <td>0.00</td>\n      <td>0.00</td>\n      <td>0.000</td>\n      <td>0.000</td>\n      <td>1</td>\n    </tr>\n    <tr>\n      <th>2</th>\n      <td>0</td>\n      <td>0</td>\n      <td>0.0</td>\n      <td>0.0</td>\n      <td>0.0</td>\n      <td>0.0</td>\n      <td>0.0</td>\n      <td>0.0</td>\n      <td>0.0</td>\n      <td>0.0</td>\n      <td>...</td>\n      <td>0.00</td>\n      <td>0.0000</td>\n      <td>0.0000</td>\n      <td>0.00</td>\n      <td>0.00</td>\n      <td>0.00</td>\n      <td>0.00</td>\n      <td>0.000</td>\n      <td>0.000</td>\n      <td>1</td>\n    </tr>\n    <tr>\n      <th>3</th>\n      <td>1</td>\n      <td>0</td>\n      <td>0.0</td>\n      <td>0.0</td>\n      <td>0.0</td>\n      <td>0.0</td>\n      <td>0.0</td>\n      <td>0.0</td>\n      <td>0.0</td>\n      <td>0.0</td>\n      <td>...</td>\n      <td>0.00</td>\n      <td>0.0000</td>\n      <td>0.0000</td>\n      <td>0.00</td>\n      <td>0.00</td>\n      <td>0.00</td>\n      <td>0.00</td>\n      <td>0.000</td>\n      <td>0.000</td>\n      <td>1</td>\n    </tr>\n    <tr>\n      <th>4</th>\n      <td>1</td>\n      <td>0</td>\n      <td>0.0</td>\n      <td>0.0</td>\n      <td>0.0</td>\n      <td>0.0</td>\n      <td>0.0</td>\n      <td>0.0</td>\n      <td>0.0</td>\n      <td>0.0</td>\n      <td>...</td>\n      <td>0.00</td>\n      <td>0.0000</td>\n      <td>0.0000</td>\n      <td>0.00</td>\n      <td>0.00</td>\n      <td>0.00</td>\n      <td>0.00</td>\n      <td>0.000</td>\n      <td>0.000</td>\n      <td>1</td>\n    </tr>\n    <tr>\n      <th>...</th>\n      <td>...</td>\n      <td>...</td>\n      <td>...</td>\n      <td>...</td>\n      <td>...</td>\n      <td>...</td>\n      <td>...</td>\n      <td>...</td>\n      <td>...</td>\n      <td>...</td>\n      <td>...</td>\n      <td>...</td>\n      <td>...</td>\n      <td>...</td>\n      <td>...</td>\n      <td>...</td>\n      <td>...</td>\n      <td>...</td>\n      <td>...</td>\n      <td>...</td>\n      <td>...</td>\n    </tr>\n    <tr>\n      <th>7851</th>\n      <td>1</td>\n      <td>0</td>\n      <td>137.8</td>\n      <td>102.2</td>\n      <td>118.6</td>\n      <td>99.4</td>\n      <td>88.2</td>\n      <td>43.6</td>\n      <td>36.8</td>\n      <td>11.8</td>\n      <td>...</td>\n      <td>59.66</td>\n      <td>0.5184</td>\n      <td>0.4878</td>\n      <td>82.10</td>\n      <td>119.82</td>\n      <td>113.80</td>\n      <td>115.22</td>\n      <td>2.326</td>\n      <td>1.562</td>\n      <td>0</td>\n    </tr>\n    <tr>\n      <th>7852</th>\n      <td>1</td>\n      <td>1</td>\n      <td>113.2</td>\n      <td>120.4</td>\n      <td>104.0</td>\n      <td>107.8</td>\n      <td>85.4</td>\n      <td>39.4</td>\n      <td>39.8</td>\n      <td>13.6</td>\n      <td>...</td>\n      <td>56.78</td>\n      <td>0.5800</td>\n      <td>0.5456</td>\n      <td>73.76</td>\n      <td>111.62</td>\n      <td>117.92</td>\n      <td>106.74</td>\n      <td>2.548</td>\n      <td>1.416</td>\n      <td>0</td>\n    </tr>\n    <tr>\n      <th>7853</th>\n      <td>1</td>\n      <td>1</td>\n      <td>134.6</td>\n      <td>113.4</td>\n      <td>116.6</td>\n      <td>107.4</td>\n      <td>91.2</td>\n      <td>41.6</td>\n      <td>42.4</td>\n      <td>11.6</td>\n      <td>...</td>\n      <td>58.68</td>\n      <td>0.5514</td>\n      <td>0.5282</td>\n      <td>76.22</td>\n      <td>116.66</td>\n      <td>114.42</td>\n      <td>115.74</td>\n      <td>2.086</td>\n      <td>2.290</td>\n      <td>0</td>\n    </tr>\n    <tr>\n      <th>7854</th>\n      <td>0</td>\n      <td>0</td>\n      <td>119.0</td>\n      <td>142.4</td>\n      <td>110.6</td>\n      <td>125.2</td>\n      <td>93.6</td>\n      <td>41.0</td>\n      <td>47.4</td>\n      <td>14.2</td>\n      <td>...</td>\n      <td>62.46</td>\n      <td>0.6096</td>\n      <td>0.5828</td>\n      <td>74.64</td>\n      <td>115.26</td>\n      <td>117.54</td>\n      <td>118.66</td>\n      <td>2.494</td>\n      <td>3.528</td>\n      <td>0</td>\n    </tr>\n    <tr>\n      <th>7855</th>\n      <td>1</td>\n      <td>7</td>\n      <td>134.8</td>\n      <td>120.0</td>\n      <td>120.8</td>\n      <td>105.0</td>\n      <td>84.6</td>\n      <td>45.4</td>\n      <td>40.4</td>\n      <td>10.6</td>\n      <td>...</td>\n      <td>62.44</td>\n      <td>0.5690</td>\n      <td>0.5398</td>\n      <td>78.96</td>\n      <td>112.46</td>\n      <td>101.16</td>\n      <td>115.72</td>\n      <td>1.762</td>\n      <td>2.024</td>\n      <td>0</td>\n    </tr>\n  </tbody>\n</table>\n<p>7856 rows × 30 columns</p>\n</div>"
     },
     "execution_count": 29,
     "metadata": {},
     "output_type": "execute_result"
    }
   ],
   "source": [
    "nba_df_for_ML_dumm = nba_df_for_ML_dumm[['homeRslt']+list(sfs.k_feature_names_)]\n",
    "nba_df_for_ML_dumm"
   ],
   "metadata": {
    "collapsed": false,
    "pycharm": {
     "name": "#%%\n"
    }
   }
  },
  {
   "cell_type": "markdown",
   "source": [
    "# 正規化"
   ],
   "metadata": {
    "collapsed": false,
    "pycharm": {
     "name": "#%% md\n"
    }
   },
   "execution_count": 20
  },
  {
   "cell_type": "code",
   "execution_count": 6,
   "outputs": [
    {
     "data": {
      "text/plain": "array([[0.008     , 0.01176471, 0.85046322, ..., 0.40372671, 0.        ,\n        1.        ],\n       [0.025     , 0.03647059, 0.65111717, ..., 0.40372671, 0.        ,\n        1.        ],\n       [0.11      , 0.13823529, 0.27716621, ..., 0.40372671, 0.        ,\n        1.        ],\n       ...,\n       [0.08      , 0.09117647, 0.35749319, ..., 0.31677019, 0.        ,\n        1.        ],\n       [0.037     , 0.03764706, 0.55280654, ..., 0.3242236 , 0.        ,\n        1.        ],\n       [0.034     , 0.03764706, 0.57438692, ..., 0.54782609, 0.        ,\n        1.        ]])"
     },
     "execution_count": 6,
     "metadata": {},
     "output_type": "execute_result"
    }
   ],
   "source": [
    "# 正規化\n",
    "from sklearn.preprocessing import MinMaxScaler\n",
    "\n",
    "X = nba_df_for_ML_dumm.drop('homeRslt',axis = 1)\n",
    "y = nba_df_for_ML_dumm.homeRslt\n",
    "\n",
    "scaler = MinMaxScaler(feature_range=(0, 1)).fit(X)\n",
    "X= scaler.transform(X)\n",
    "X"
   ],
   "metadata": {
    "collapsed": false,
    "pycharm": {
     "name": "#%%\n"
    }
   }
  },
  {
   "cell_type": "markdown",
   "source": [
    "# 建立強弱盤預測模型"
   ],
   "metadata": {
    "collapsed": false,
    "pycharm": {
     "name": "#%% md\n"
    }
   }
  },
  {
   "cell_type": "code",
   "execution_count": 7,
   "outputs": [],
   "source": [
    "nba_df_for_ML.gmDate = nba_df_for_ML.gmDate.astype('datetime64')\n",
    "X_test = X[nba_df_for_ML.gmDate>=datetime.strptime('2021/10/01','%Y/%m/%d')]\n",
    "y_test = y[nba_df_for_ML.gmDate>=datetime.strptime('2021/10/01','%Y/%m/%d')]\n",
    "\n",
    "X= X[nba_df_for_ML.gmDate<datetime.strptime('2021/10/01','%Y/%m/%d')]\n",
    "y= y[nba_df_for_ML.gmDate<datetime.strptime('2021/10/01','%Y/%m/%d')]"
   ],
   "metadata": {
    "collapsed": false,
    "pycharm": {
     "name": "#%%\n"
    }
   }
  },
  {
   "cell_type": "code",
   "execution_count": 8,
   "outputs": [],
   "source": [
    "from sklearn.model_selection import train_test_split\n",
    "\n",
    "X_train, X_val, y_train, y_val = train_test_split(X, y,\n",
    "                                                    train_size=0.75,\n",
    "                                                    test_size=0.25,\n",
    "                                                    shuffle=True\n",
    "                                                    )"
   ],
   "metadata": {
    "collapsed": false,
    "pycharm": {
     "name": "#%%\n"
    }
   }
  },
  {
   "cell_type": "code",
   "execution_count": 9,
   "outputs": [
    {
     "name": "stdout",
     "output_type": "stream",
     "text": [
      "訓練集: 5882\n",
      "驗證集: 1961\n",
      "測試集: 551\n"
     ]
    }
   ],
   "source": [
    "print('訓練集:',X_train.shape[0])\n",
    "print('驗證集:',X_val.shape[0])\n",
    "print('測試集:',X_test.shape[0])"
   ],
   "metadata": {
    "collapsed": false,
    "pycharm": {
     "name": "#%%\n"
    }
   }
  },
  {
   "cell_type": "markdown",
   "source": [
    "## 1.DecisionTreeClassifier"
   ],
   "metadata": {
    "collapsed": false
   }
  },
  {
   "cell_type": "code",
   "execution_count": 643,
   "outputs": [],
   "source": [
    "from sklearn.tree import DecisionTreeClassifier\n",
    "from sklearn.model_selection import cross_val_score\n",
    "from sklearn.model_selection import train_test_split,GridSearchCV"
   ],
   "metadata": {
    "collapsed": false,
    "pycharm": {
     "name": "#%%\n"
    }
   }
  },
  {
   "cell_type": "code",
   "execution_count": 644,
   "outputs": [],
   "source": [
    "decision_tree = DecisionTreeClassifier(min_samples_leaf=3, min_weight_fraction_leaf=0.01, max_leaf_nodes=40).fit(X_train, y_train)\n",
    "my_param_grid = [{\"min_samples_leaf\": [3, 5 ,8,2],\"min_weight_fraction_leaf\": [0.01, 0.02, 0.03,0.05,0.08], \"max_leaf_nodes\" : [10 ,20 ,40, 60, 70]}]\n",
    "k = 10\n",
    "decision_tree_gs = GridSearchCV(decision_tree, my_param_grid, scoring='neg_log_loss',cv=k,n_jobs=-1)\n",
    "decision_tree_gs.fit(X_train, y_train)\n",
    "decision_tree_best = decision_tree_gs.best_estimator_"
   ],
   "metadata": {
    "collapsed": false,
    "pycharm": {
     "name": "#%%\n"
    }
   }
  },
  {
   "cell_type": "code",
   "execution_count": 645,
   "outputs": [
    {
     "name": "stdout",
     "output_type": "stream",
     "text": [
      "accuracy :  0.661\n",
      "f1 :  0.714\n",
      "recall :  0.746\n",
      "precision :  0.686\n"
     ]
    }
   ],
   "source": [
    "# Cross Validation:\n",
    "print('accuracy : ',(cross_val_score(decision_tree_best, X_val, y_val, cv=9, scoring='accuracy')).mean().round(3))\n",
    "print('f1 : ',(cross_val_score(decision_tree_best, X_val, y_val, cv=9, scoring='f1')).mean().round(3))\n",
    "print('recall : ',(cross_val_score(decision_tree_best, X_val, y_val, cv=9, scoring='recall')).mean().round(3))\n",
    "print('precision : ',(cross_val_score(decision_tree_best, X_val, y_val, cv=9, scoring='precision')).mean().round(3))"
   ],
   "metadata": {
    "collapsed": false,
    "pycharm": {
     "name": "#%%\n"
    }
   }
  },
  {
   "cell_type": "markdown",
   "source": [],
   "metadata": {
    "collapsed": false,
    "pycharm": {
     "name": "#%% md\n"
    }
   }
  },
  {
   "cell_type": "code",
   "execution_count": 646,
   "outputs": [],
   "source": [
    "from sklearn.ensemble import RandomForestClassifier\n",
    "from sklearn.model_selection import GridSearchCV"
   ],
   "metadata": {
    "collapsed": false,
    "pycharm": {
     "name": "#%%\n"
    }
   }
  },
  {
   "cell_type": "code",
   "execution_count": 647,
   "outputs": [],
   "source": [
    "random_forest = RandomForestClassifier(n_estimators=100,max_leaf_nodes=100, min_weight_fraction_leaf= 0.01)\n",
    "my_param_grid = [{\"n_estimators\": [20,30, 70 ,100],\"max_leaf_nodes\": [ 20,30, 70, 100], \"min_samples_leaf\" : [20,30, 70, 100]}]\n",
    "k = 7\n",
    "random_forest_gs = GridSearchCV(random_forest, my_param_grid, scoring='neg_log_loss',cv=k,n_jobs=-1)\n",
    "random_forest_gs.fit(X_train, y_train)\n",
    "\n",
    "random_forest_best = random_forest_gs.best_estimator_"
   ],
   "metadata": {
    "collapsed": false,
    "pycharm": {
     "name": "#%%\n"
    }
   }
  },
  {
   "cell_type": "code",
   "execution_count": 648,
   "outputs": [
    {
     "name": "stdout",
     "output_type": "stream",
     "text": [
      "accuracy :  0.679\n",
      "f1 :  0.716\n",
      "recall :  0.714\n",
      "precision :  0.713\n"
     ]
    }
   ],
   "source": [
    "# Cross Validation:\n",
    "print('accuracy : ',(cross_val_score(random_forest_best, X_val, y_val, cv=9, scoring='accuracy')).mean().round(3))\n",
    "print('f1 : ',(cross_val_score(random_forest_best, X_val, y_val, cv=9, scoring='f1')).mean().round(3))\n",
    "print('recall : ',(cross_val_score(random_forest_best, X_val, y_val, cv=9, scoring='recall')).mean().round(3))\n",
    "print('precision : ',(cross_val_score(random_forest_best, X_val, y_val, cv=9, scoring='precision')).mean().round(3))"
   ],
   "metadata": {
    "collapsed": false,
    "pycharm": {
     "name": "#%%\n"
    }
   }
  },
  {
   "cell_type": "markdown",
   "source": [
    "## 3.GradientBoostingClassifier :"
   ],
   "metadata": {
    "collapsed": false,
    "pycharm": {
     "name": "#%% md\n"
    }
   }
  },
  {
   "cell_type": "code",
   "execution_count": 649,
   "outputs": [],
   "source": [
    "from sklearn.ensemble import GradientBoostingClassifier"
   ],
   "metadata": {
    "collapsed": false,
    "pycharm": {
     "name": "#%%\n"
    }
   }
  },
  {
   "cell_type": "code",
   "execution_count": 650,
   "outputs": [],
   "source": [
    "GradientBoosting = GradientBoostingClassifier(n_estimators=100, max_leaf_nodes=100,max_depth=1)\n",
    "my_param_grid = [{\"n_estimators\": [20,30, 70 ,100],\"max_leaf_nodes\": [ 20,30, 70, 100], \"min_samples_leaf\" : [20,30, 70, 100]}]\n",
    "k = 10\n",
    "GradientBoosting_gs = GridSearchCV(GradientBoosting, my_param_grid, scoring='neg_log_loss',cv=k,n_jobs=-1)\n",
    "GradientBoosting_gs.fit(X_train, y_train)\n",
    "GradientBoosting_best = GradientBoosting_gs.best_estimator_"
   ],
   "metadata": {
    "collapsed": false,
    "pycharm": {
     "name": "#%%\n"
    }
   }
  },
  {
   "cell_type": "code",
   "execution_count": 651,
   "outputs": [
    {
     "name": "stdout",
     "output_type": "stream",
     "text": [
      "accuracy :  0.672\n",
      "f1 :  0.715\n",
      "recall :  0.726\n",
      "precision :  0.705\n"
     ]
    }
   ],
   "source": [
    "# Cross Validation:\n",
    "print('accuracy : ',(cross_val_score(GradientBoosting_best, X_val, y_val, cv=9, scoring='accuracy')).mean().round(3))\n",
    "print('f1 : ',(cross_val_score(GradientBoosting_best, X_val, y_val, cv=9, scoring='f1')).mean().round(3))\n",
    "print('recall : ',(cross_val_score(GradientBoosting_best, X_val, y_val, cv=9, scoring='recall')).mean().round(3))\n",
    "print('precision : ',(cross_val_score(GradientBoosting_best, X_val, y_val, cv=9, scoring='precision')).mean().round(3))"
   ],
   "metadata": {
    "collapsed": false,
    "pycharm": {
     "name": "#%%\n"
    }
   }
  },
  {
   "cell_type": "code",
   "execution_count": 652,
   "outputs": [
    {
     "data": {
      "text/plain": "<AxesSubplot:title={'center':'Features importance'}>"
     },
     "execution_count": 652,
     "metadata": {},
     "output_type": "execute_result"
    },
    {
     "data": {
      "text/plain": "<Figure size 720x720 with 1 Axes>",
      "image/png": "[encoded data removed]"
     },
     "metadata": {},
     "output_type": "display_data"
    }
   ],
   "source": [
    "plt.figure(figsize = (10,10))\n",
    "pd.Series(GradientBoosting_best.feature_importances_, index=nba_df_for_ML_dumm.drop('homeRslt',axis=1).columns).sort_values().tail(20).plot.barh(title='Features importance')"
   ],
   "metadata": {
    "collapsed": false,
    "pycharm": {
     "name": "#%%\n"
    }
   }
  },
  {
   "cell_type": "markdown",
   "source": [
    "## 解析預測效能"
   ],
   "metadata": {
    "collapsed": false,
    "pycharm": {
     "name": "#%% md\n"
    }
   }
  },
  {
   "cell_type": "code",
   "execution_count": 653,
   "outputs": [],
   "source": [
    "evaluates = []\n",
    "for model in [GradientBoosting_best,random_forest_best,decision_tree_best]:\n",
    "    evaluate={}\n",
    "    evaluate['model']=model.__class__.__name__\n",
    "    evaluate['accuracy']=(cross_val_score(model, X_val, y_val, cv=9, scoring='accuracy')).mean().round(3)\n",
    "    evaluate['f1']=(cross_val_score(model, X_val, y_val, cv=9, scoring='f1')).mean().round(3)\n",
    "    evaluate['recall']=(cross_val_score(model, X_val, y_val, cv=9, scoring='recall')).mean().round(3)\n",
    "    evaluate['precision']=(cross_val_score(model, X_val, y_val, cv=9, scoring='precision')).mean().round(3)\n",
    "    evaluates.append(evaluate)"
   ],
   "metadata": {
    "collapsed": false,
    "pycharm": {
     "name": "#%%\n"
    }
   }
  },
  {
   "cell_type": "code",
   "execution_count": 654,
   "outputs": [
    {
     "data": {
      "text/plain": "                            accuracy     f1  recall  precision\nmodel                                                         \nGradientBoostingClassifier     0.672  0.715   0.726      0.705\nRandomForestClassifier         0.676  0.714   0.722      0.717\nDecisionTreeClassifier         0.661  0.714   0.746      0.686",
      "text/html": "<div>\n<style scoped>\n    .dataframe tbody tr th:only-of-type {\n        vertical-align: middle;\n    }\n\n    .dataframe tbody tr th {\n        vertical-align: top;\n    }\n\n    .dataframe thead th {\n        text-align: right;\n    }\n</style>\n<table border=\"1\" class=\"dataframe\">\n  <thead>\n    <tr style=\"text-align: right;\">\n      <th></th>\n      <th>accuracy</th>\n      <th>f1</th>\n      <th>recall</th>\n      <th>precision</th>\n    </tr>\n    <tr>\n      <th>model</th>\n      <th></th>\n      <th></th>\n      <th></th>\n      <th></th>\n    </tr>\n  </thead>\n  <tbody>\n    <tr>\n      <th>GradientBoostingClassifier</th>\n      <td>0.672</td>\n      <td>0.715</td>\n      <td>0.726</td>\n      <td>0.705</td>\n    </tr>\n    <tr>\n      <th>RandomForestClassifier</th>\n      <td>0.676</td>\n      <td>0.714</td>\n      <td>0.722</td>\n      <td>0.717</td>\n    </tr>\n    <tr>\n      <th>DecisionTreeClassifier</th>\n      <td>0.661</td>\n      <td>0.714</td>\n      <td>0.746</td>\n      <td>0.686</td>\n    </tr>\n  </tbody>\n</table>\n</div>"
     },
     "execution_count": 654,
     "metadata": {},
     "output_type": "execute_result"
    }
   ],
   "source": [
    "import matplotlib.pyplot as plt\n",
    "evaluates = pd.DataFrame(evaluates)\n",
    "evaluates = evaluates.set_index('model')\n",
    "evaluates"
   ],
   "metadata": {
    "collapsed": false,
    "pycharm": {
     "name": "#%%\n"
    }
   }
  },
  {
   "cell_type": "markdown",
   "source": [
    "## 保存模型"
   ],
   "metadata": {
    "collapsed": false,
    "pycharm": {
     "name": "#%% md\n"
    }
   }
  },
  {
   "cell_type": "code",
   "execution_count": 657,
   "outputs": [
    {
     "data": {
      "text/plain": "['強弱盤_GB.model']"
     },
     "execution_count": 657,
     "metadata": {},
     "output_type": "execute_result"
    }
   ],
   "source": [
    "import joblib\n",
    "#保存模型\n",
    "joblib.dump(GradientBoosting_best, '強弱盤_GB.model')\n"
   ],
   "metadata": {
    "collapsed": false,
    "pycharm": {
     "name": "#%%\n"
    }
   }
  },
  {
   "cell_type": "markdown",
   "source": [
    "# 讀取模型"
   ],
   "metadata": {
    "collapsed": false,
    "pycharm": {
     "name": "#%% md\n"
    }
   }
  },
  {
   "cell_type": "code",
   "execution_count": 19,
   "outputs": [],
   "source": [
    "import joblib\n",
    "#读取模型\n",
    "GradientBoosting_best = joblib.load('強弱盤_GB.model')"
   ],
   "metadata": {
    "collapsed": false,
    "pycharm": {
     "name": "#%%\n"
    }
   }
  },
  {
   "cell_type": "markdown",
   "source": [
    "# 虛擬獲利-1"
   ],
   "metadata": {
    "collapsed": false,
    "pycharm": {
     "name": "#%% md\n"
    }
   }
  },
  {
   "cell_type": "code",
   "execution_count": 20,
   "outputs": [
    {
     "name": "stdout",
     "output_type": "stream",
     "text": [
      "測試集: 551\n"
     ]
    }
   ],
   "source": [
    "nba_df_for_ML = pd.read_csv('nba_df_for_ML(強弱盤).csv',index_col='Unnamed: 0')\n",
    "nba_df_for_ML_dumm = pd.read_csv('nba_df_for_ML_dumm(強弱盤).csv',index_col='Unnamed: 0')\n",
    "\n",
    "# 正規化\n",
    "from sklearn.preprocessing import MinMaxScaler\n",
    "X = nba_df_for_ML_dumm.drop('homeRslt',axis = 1)\n",
    "y = nba_df_for_ML_dumm.homeRslt\n",
    "scaler = MinMaxScaler(feature_range=(0, 1)).fit(X)\n",
    "X = pd.DataFrame(scaler.transform(X), index=X.index, columns=X.columns)\n",
    "\n",
    "#日期轉型\n",
    "nba_df_for_ML.gmDate = nba_df_for_ML.gmDate.astype('datetime64')\n",
    "#抓出>2021/10/01的test set\n",
    "nba_df_for_ML_test = nba_df_for_ML[nba_df_for_ML.gmDate>=datetime.strptime('2021/10/01','%Y/%m/%d')]\n",
    "X_test, y_test = X.loc[nba_df_for_ML_test.index],  y.loc[nba_df_for_ML_test.index]\n",
    "\n",
    "print('測試集:',nba_df_for_ML_test.shape[0])"
   ],
   "metadata": {
    "collapsed": false,
    "pycharm": {
     "name": "#%%\n"
    }
   }
  },
  {
   "cell_type": "code",
   "execution_count": 21,
   "outputs": [],
   "source": [
    "# 取出超過門檻的預測值\n",
    "idxs = []\n",
    "for index in nba_df_for_ML_test.index:\n",
    "    results = GradientBoosting_best.predict_proba(np.array([X_test.loc[index]]))\n",
    "    if results[0][1]>results[0][0] and results[0][1]>=0.9:\n",
    "        idxs.append(index)\n",
    "    if results[0][1]<results[0][0] and results[0][0]>=0.6:\n",
    "        idxs.append(index)\n",
    "\n",
    "# 取出預測\n",
    "pred_y =  pd.DataFrame(GradientBoosting_best.predict(X_test.loc[idxs]),index=X_test.loc[idxs].index,columns=['homeRslt'])\n",
    "# 取出賽果\n",
    "ot = len(nba_df_for_ML_test)\n",
    "nba_df_for_ML_test  = nba_df_for_ML_test.loc[idxs]\n",
    "# 取出Y\n",
    "y_test = pd.DataFrame(y_test.loc[idxs],columns=['homeRslt'])"
   ],
   "metadata": {
    "collapsed": false,
    "pycharm": {
     "name": "#%%\n"
    }
   }
  },
  {
   "cell_type": "code",
   "execution_count": 22,
   "outputs": [
    {
     "name": "stdout",
     "output_type": "stream",
     "text": [
      "原本數量 :  551\n",
      "預測數量 :  122\n",
      "預測比例 :  22.1 %\n",
      "預測準確率 :  74.59 %\n"
     ]
    }
   ],
   "source": [
    "records = pd.DataFrame(pred_y == y_test)\n",
    "print('原本數量 : ',ot)\n",
    "print('預測數量 : ',len(records))\n",
    "print('預測比例 : ',round(len(records)/ot*100,1),'%')\n",
    "print('預測準確率 : ',round(float(records[records.homeRslt==True].count()/records.count()*100),2),'%')"
   ],
   "metadata": {
    "collapsed": false,
    "pycharm": {
     "name": "#%%\n"
    }
   }
  },
  {
   "cell_type": "code",
   "execution_count": 23,
   "outputs": [
    {
     "name": "stdout",
     "output_type": "stream",
     "text": [
      "虛擬獲利 : 6320.0\n"
     ]
    }
   ],
   "source": [
    "for index in idxs:\n",
    "    if bool(records.loc[index].homeRslt) == True:\n",
    "        if int(y_test.loc[index]) == 1:\n",
    "            nba_df_for_ML_test.loc[index, 'profit'] =( nba_df_for_ML_test.loc[index, 'home1x2LastOptionRate']-1) * 1000\n",
    "            nba_df_for_ML_test.loc[index, 'select_1x2LastOptionRate'] = nba_df_for_ML_test.loc[index, 'home1x2LastOptionRate']\n",
    "        else:\n",
    "            nba_df_for_ML_test.loc[index, 'profit'] = (nba_df_for_ML_test.loc[index, 'away1x2LastOptionRate']-1) * 1000\n",
    "            nba_df_for_ML_test.loc[index, 'select_1x2LastOptionRate'] = nba_df_for_ML_test.loc[index, 'away1x2LastOptionRate']\n",
    "    else:\n",
    "        if int(y_test.loc[index]) == 1:\n",
    "            nba_df_for_ML_test.loc[index, 'profit'] = -1000\n",
    "            nba_df_for_ML_test.loc[index, 'select_1x2LastOptionRate'] = 0\n",
    "        else:\n",
    "            nba_df_for_ML_test.loc[index, 'profit'] = -1000\n",
    "            nba_df_for_ML_test.loc[index, 'select_1x2LastOptionRate'] = 0\n",
    "print('虛擬獲利 :', sum(nba_df_for_ML_test.profit))"
   ],
   "metadata": {
    "collapsed": false,
    "pycharm": {
     "name": "#%%\n"
    }
   }
  },
  {
   "cell_type": "code",
   "execution_count": 24,
   "outputs": [
    {
     "name": "stderr",
     "output_type": "stream",
     "text": [
      "C:\\Users\\xin\\AppData\\Local\\Temp/ipykernel_12240/2319921246.py:8: SettingWithCopyWarning: \n",
      "A value is trying to be set on a copy of a slice from a DataFrame.\n",
      "Try using .loc[row_indexer,col_indexer] = value instead\n",
      "\n",
      "See the caveats in the documentation: https://pandas.pydata.org/pandas-docs/stable/user_guide/indexing.html#returning-a-view-versus-a-copy\n",
      "  nba_df_for_ML_test_Group['isMkMoney'] = nba_df_for_ML_test_Group.profit.apply(lambda p: 1 if p > 0 else 0)\n",
      "C:\\Users\\xin\\AppData\\Local\\Temp/ipykernel_12240/2319921246.py:9: SettingWithCopyWarning: \n",
      "A value is trying to be set on a copy of a slice from a DataFrame.\n",
      "Try using .loc[row_indexer,col_indexer] = value instead\n",
      "\n",
      "See the caveats in the documentation: https://pandas.pydata.org/pandas-docs/stable/user_guide/indexing.html#returning-a-view-versus-a-copy\n",
      "  nba_df_for_ML_test_Group['gms'] = nba_df_for_ML_test_Group.profit.apply(lambda p: 1)\n"
     ]
    },
    {
     "data": {
      "text/plain": "<Figure size 1440x720 with 1 Axes>",
      "image/png": "[encoded data removed]"
     },
     "metadata": {
      "needs_background": "light"
     },
     "output_type": "display_data"
    }
   ],
   "source": [
    "import matplotlib.dates as mdates\n",
    "import seaborn as sns\n",
    "from matplotlib import pyplot as plt\n",
    "# 每天虛擬獲利情形\n",
    "fig = plt.figure(figsize=(20,10))\n",
    "ax = plt.gca()\n",
    "nba_df_for_ML_test_Group = nba_df_for_ML_test[['gmDate','profit','select_1x2LastOptionRate']]\n",
    "nba_df_for_ML_test_Group['isMkMoney'] = nba_df_for_ML_test_Group.profit.apply(lambda p: 1 if p > 0 else 0)\n",
    "nba_df_for_ML_test_Group['gms'] = nba_df_for_ML_test_Group.profit.apply(lambda p: 1)\n",
    "nba_df_for_ML_test_Group = nba_df_for_ML_test_Group[['gmDate','profit','isMkMoney','gms','select_1x2LastOptionRate']].groupby(['gmDate']).sum().reset_index()\n",
    "\n",
    "nba_df_for_ML_test_Group['select_1x2LastOptionRate'] = nba_df_for_ML_test_Group['select_1x2LastOptionRate']/nba_df_for_ML_test_Group['isMkMoney']\n",
    "nba_df_for_ML_test_Group['accuracy'] = nba_df_for_ML_test_Group['isMkMoney']/nba_df_for_ML_test_Group['gms']\n",
    "nba_df_for_ML_test_Group['>=50%'] = np.where(nba_df_for_ML_test_Group['isMkMoney']/nba_df_for_ML_test_Group['gms'] >= 0.5,'Y','N')\n",
    "nba_df_for_ML_test_Group['isMkMoney' ]= nba_df_for_ML_test_Group.profit.apply(lambda p: 'Y' if p > 0 else 'N')\n",
    "nba_df_for_ML_test_Group['gmDate'] = nba_df_for_ML_test_Group['gmDate'].map(lambda s: s.strftime('%Y-%m-%d'))\n",
    "\n",
    "ax = sns.barplot(x='gmDate', y='profit', data=nba_df_for_ML_test_Group,hue = 'isMkMoney')\n",
    "ax.xaxis.set_major_locator(mdates.WeekdayLocator(interval=2))\n"
   ],
   "metadata": {
    "collapsed": false,
    "pycharm": {
     "name": "#%%\n"
    }
   }
  },
  {
   "cell_type": "code",
   "execution_count": 28,
   "outputs": [
    {
     "data": {
      "text/plain": "0     1030.0\n1      690.0\n2    -1080.0\n3      860.0\n4      150.0\n5     -120.0\n6      220.0\n7     -730.0\n8      540.0\n9      550.0\n10    -660.0\n11     540.0\n12     780.0\n13   -1360.0\n14     640.0\n15     330.0\n16    -160.0\n17    -430.0\n18    -500.0\n19    -490.0\n20    1530.0\n21   -1000.0\n22     200.0\n23    -400.0\n24     290.0\n25     320.0\n26     880.0\n27     180.0\n28   -1720.0\n29     970.0\n30   -1000.0\n31   -1000.0\n32    -450.0\n33     470.0\n34     810.0\n35    -800.0\n36     680.0\n37     810.0\n38     340.0\n39    1300.0\n40    -430.0\n41     420.0\n42    1380.0\n43     430.0\n44    1220.0\n45    -570.0\n46   -1000.0\n47     320.0\n48    -460.0\n49    1120.0\n50    1170.0\n51     550.0\n52     410.0\n53     570.0\n54      80.0\n55    -860.0\n56    -690.0\n57     190.0\n58    -740.0\nName: profit, dtype: float64"
     },
     "execution_count": 28,
     "metadata": {},
     "output_type": "execute_result"
    }
   ],
   "source": [
    "nba_df_for_ML_test_Group.profit"
   ],
   "metadata": {
    "collapsed": false,
    "pycharm": {
     "name": "#%%\n"
    }
   }
  },
  {
   "cell_type": "code",
   "execution_count": 19,
   "outputs": [
    {
     "name": "stdout",
     "output_type": "stream",
     "text": [
      "平均當日賠錢: -723.9130434782609\n",
      "平均當日賺錢: 638.0555555555555\n"
     ]
    }
   ],
   "source": [
    "print('平均當日賠錢:',nba_df_for_ML_test_Group[nba_df_for_ML_test_Group.profit<0].profit.mean())\n",
    "print('平均當日賺錢:',nba_df_for_ML_test_Group[nba_df_for_ML_test_Group.profit>=0].profit.mean())"
   ],
   "metadata": {
    "collapsed": false,
    "pycharm": {
     "name": "#%%\n"
    }
   }
  },
  {
   "cell_type": "code",
   "execution_count": 20,
   "outputs": [
    {
     "name": "stdout",
     "output_type": "stream",
     "text": [
      "平均贏錢賠錢: 1.4075\n"
     ]
    }
   ],
   "source": [
    "print('平均贏錢賠錢:',nba_df_for_ML_test_Group.select_1x2LastOptionRate.mean())"
   ],
   "metadata": {
    "collapsed": false,
    "pycharm": {
     "name": "#%%\n"
    }
   }
  },
  {
   "cell_type": "code",
   "execution_count": 21,
   "outputs": [
    {
     "data": {
      "text/plain": "<AxesSubplot:ylabel='isMkMoney'>"
     },
     "execution_count": 21,
     "metadata": {},
     "output_type": "execute_result"
    },
    {
     "data": {
      "text/plain": "<Figure size 432x288 with 2 Axes>",
      "image/png": "[encoded data removed]"
     },
     "metadata": {
      "needs_background": "light"
     },
     "output_type": "display_data"
    }
   ],
   "source": [
    "fig, axes = plt.subplots(1,2)\n",
    "sns.set(rc={'figure.figsize':(16,10)})\n",
    "\n",
    "# 計天猜中>50%與<50%總數\n",
    "sns.barplot( x =['y','n'] ,y='>50%' ,data = pd.DataFrame({'>50%':[int(nba_df_for_ML_test_Group[nba_df_for_ML_test_Group['>=50%']=='Y']['>=50%'].count()),int(nba_df_for_ML_test_Group[nba_df_for_ML_test_Group['>=50%']=='N']['>=50%'].count())]}),ax=axes[0])\n",
    "\n",
    "# 計天虛擬獲利>0與<0總數\n",
    "sns.barplot( x =['y','n'] ,y='isMkMoney' ,data = pd.DataFrame({'isMkMoney':[int(nba_df_for_ML_test_Group[nba_df_for_ML_test_Group['isMkMoney']=='Y']['isMkMoney'].count()),int(nba_df_for_ML_test_Group[nba_df_for_ML_test_Group['isMkMoney']=='N']['isMkMoney'].count())]}),ax=axes[1])"
   ],
   "metadata": {
    "collapsed": false,
    "pycharm": {
     "name": "#%%\n"
    }
   }
  },
  {
   "cell_type": "code",
   "execution_count": 22,
   "outputs": [
    {
     "data": {
      "text/plain": "<Figure size 1152x720 with 1 Axes>",
      "image/png": "[encoded data removed]"
     },
     "metadata": {},
     "output_type": "display_data"
    }
   ],
   "source": [
    "import matplotlib.dates as mdates\n",
    "import seaborn as sns\n",
    "# 每天虛擬獲利情形\n",
    "nba_df_for_ML_test_Group['accumulate_profit'] = 0\n",
    "for idx in nba_df_for_ML_test_Group.index:\n",
    "    if idx > 0:\n",
    "        nba_df_for_ML_test_Group.loc[idx,'accumulate_profit'] = nba_df_for_ML_test_Group.loc[idx-1,'accumulate_profit']+nba_df_for_ML_test_Group.loc[idx,'profit']\n",
    "    else:\n",
    "        nba_df_for_ML_test_Group.loc[idx,'accumulate_profit'] = nba_df_for_ML_test_Group.loc[idx,'profit']\n",
    "#nba_df_for_ML_test_Group['gmDate'] = nba_df_for_ML_test_Group['gmDate'].map(lambda s: s.strftime('%Y-%m-%d'))\n",
    "\n",
    "ax = sns.barplot(x='gmDate', y='accumulate_profit', data=nba_df_for_ML_test_Group)\n",
    "ax.xaxis.set_major_locator(mdates.WeekdayLocator(interval=1))"
   ],
   "metadata": {
    "collapsed": false,
    "pycharm": {
     "name": "#%%\n"
    }
   }
  },
  {
   "cell_type": "markdown",
   "source": [
    "# 虛擬獲利-2"
   ],
   "metadata": {
    "collapsed": false,
    "pycharm": {
     "name": "#%% md\n"
    }
   }
  },
  {
   "cell_type": "code",
   "execution_count": 7,
   "outputs": [
    {
     "data": {
      "text/plain": "      homeRslt      gmDate gmTime                homeAbbr  home_games  \\\n0            1  2014-10-28  20:00    New Orleans Pelicans           1   \n1            1  2014-10-28  20:00       San Antonio Spurs           1   \n2            0  2014-10-28  22:30      Los Angeles Lakers           1   \n3            1  2014-10-29  19:00       Charlotte Hornets           1   \n4            1  2014-10-29  19:00          Indiana Pacers           1   \n...        ...         ...    ...                     ...         ...   \n8389         1  2022-01-03  20:30        Dallas Mavericks          37   \n8390         1  2022-01-03  22:00   Golden State Warriors          36   \n8391         1  2022-01-03  22:00  Portland Trail Blazers          36   \n8392         0  2022-01-03  22:30    Los Angeles Clippers          38   \n8393         0  2022-01-04  19:00     Cleveland Cavaliers          38   \n\n      home1x2FirstOptionRate  home1x2LastOptionRate  home1x2FirstWinRate  \\\n0                       1.16                   1.20                82.58   \n1                       1.50                   1.62                64.29   \n2                       3.20                   3.35                29.98   \n3                       1.23                   1.25                77.55   \n4                       1.33                   1.29                71.88   \n...                      ...                    ...                  ...   \n8389                    1.68                   1.68                57.25   \n8390                    1.26                   1.18                76.05   \n8391                    2.60                   2.55                37.35   \n8392                    1.74                   1.64                55.27   \n8393                    1.68                   1.64                57.25   \n\n      home1x2LastWinRate  home1x2KellyIndex  ... avg_homeFIC  avg_awayFIC  \\\n0                  79.83               0.97  ...        0.00        0.000   \n1                  59.70               0.99  ...        0.00        0.000   \n2                  28.57               0.97  ...        0.00        0.000   \n3                  76.64               0.95  ...        0.00        0.000   \n4                  74.15               0.94  ...        0.00        0.000   \n...                  ...                ...  ...         ...          ...   \n8389               57.25               0.96  ...       88.20       80.175   \n8390               81.65               0.96  ...       93.60       87.625   \n8391               38.11               0.99  ...       73.30       84.100   \n8392               58.90               0.97  ...       81.75       80.775   \n8393               58.90               0.95  ...       95.90      100.625   \n\n      avg_homeEDiff  avg_awayEDiff  avg_homePlay_Percentage  \\\n0              0.00           0.00                 0.000000   \n1              0.00           0.00                 0.000000   \n2              0.00           0.00                 0.000000   \n3              0.00           0.00                 0.000000   \n4              0.00           0.00                 0.000000   \n...             ...            ...                      ...   \n8389           7.42          -0.46                 0.463898   \n8390           7.64           6.02                 0.460140   \n8391         -14.88          -7.18                 0.416183   \n8392          -2.72          -6.46                 0.426758   \n8393           4.12          11.82                 0.485782   \n\n      avg_awayPlay_Percentage  avg_homeAR avg_awayAR  avg_homeDiffPTS  \\\n0                    0.000000    0.000000   0.000000              0.0   \n1                    0.000000    0.000000   0.000000              0.0   \n2                    0.000000    0.000000   0.000000              0.0   \n3                    0.000000    0.000000   0.000000              0.0   \n4                    0.000000    0.000000   0.000000              0.0   \n...                       ...         ...        ...              ...   \n8389                 0.411622   23.905105  21.523502              7.0   \n8390                 0.460523   24.458955  20.863410              7.4   \n8391                 0.450595   18.578021  20.349306            -14.4   \n8392                 0.429294   21.121426  20.234609             -2.8   \n8393                 0.493061   23.382055  20.189421              5.0   \n\n      avg_awayDiffPTS  \n0                 0.0  \n1                 0.0  \n2                 0.0  \n3                 0.0  \n4                 0.0  \n...               ...  \n8389             -0.6  \n8390              5.6  \n8391             -7.0  \n8392             -6.4  \n8393             11.6  \n\n[8394 rows x 98 columns]",
      "text/html": "<div>\n<style scoped>\n    .dataframe tbody tr th:only-of-type {\n        vertical-align: middle;\n    }\n\n    .dataframe tbody tr th {\n        vertical-align: top;\n    }\n\n    .dataframe thead th {\n        text-align: right;\n    }\n</style>\n<table border=\"1\" class=\"dataframe\">\n  <thead>\n    <tr style=\"text-align: right;\">\n      <th></th>\n      <th>homeRslt</th>\n      <th>gmDate</th>\n      <th>gmTime</th>\n      <th>homeAbbr</th>\n      <th>home_games</th>\n      <th>home1x2FirstOptionRate</th>\n      <th>home1x2LastOptionRate</th>\n      <th>home1x2FirstWinRate</th>\n      <th>home1x2LastWinRate</th>\n      <th>home1x2KellyIndex</th>\n      <th>...</th>\n      <th>avg_homeFIC</th>\n      <th>avg_awayFIC</th>\n      <th>avg_homeEDiff</th>\n      <th>avg_awayEDiff</th>\n      <th>avg_homePlay_Percentage</th>\n      <th>avg_awayPlay_Percentage</th>\n      <th>avg_homeAR</th>\n      <th>avg_awayAR</th>\n      <th>avg_homeDiffPTS</th>\n      <th>avg_awayDiffPTS</th>\n    </tr>\n  </thead>\n  <tbody>\n    <tr>\n      <th>0</th>\n      <td>1</td>\n      <td>2014-10-28</td>\n      <td>20:00</td>\n      <td>New Orleans Pelicans</td>\n      <td>1</td>\n      <td>1.16</td>\n      <td>1.20</td>\n      <td>82.58</td>\n      <td>79.83</td>\n      <td>0.97</td>\n      <td>...</td>\n      <td>0.00</td>\n      <td>0.000</td>\n      <td>0.00</td>\n      <td>0.00</td>\n      <td>0.000000</td>\n      <td>0.000000</td>\n      <td>0.000000</td>\n      <td>0.000000</td>\n      <td>0.0</td>\n      <td>0.0</td>\n    </tr>\n    <tr>\n      <th>1</th>\n      <td>1</td>\n      <td>2014-10-28</td>\n      <td>20:00</td>\n      <td>San Antonio Spurs</td>\n      <td>1</td>\n      <td>1.50</td>\n      <td>1.62</td>\n      <td>64.29</td>\n      <td>59.70</td>\n      <td>0.99</td>\n      <td>...</td>\n      <td>0.00</td>\n      <td>0.000</td>\n      <td>0.00</td>\n      <td>0.00</td>\n      <td>0.000000</td>\n      <td>0.000000</td>\n      <td>0.000000</td>\n      <td>0.000000</td>\n      <td>0.0</td>\n      <td>0.0</td>\n    </tr>\n    <tr>\n      <th>2</th>\n      <td>0</td>\n      <td>2014-10-28</td>\n      <td>22:30</td>\n      <td>Los Angeles Lakers</td>\n      <td>1</td>\n      <td>3.20</td>\n      <td>3.35</td>\n      <td>29.98</td>\n      <td>28.57</td>\n      <td>0.97</td>\n      <td>...</td>\n      <td>0.00</td>\n      <td>0.000</td>\n      <td>0.00</td>\n      <td>0.00</td>\n      <td>0.000000</td>\n      <td>0.000000</td>\n      <td>0.000000</td>\n      <td>0.000000</td>\n      <td>0.0</td>\n      <td>0.0</td>\n    </tr>\n    <tr>\n      <th>3</th>\n      <td>1</td>\n      <td>2014-10-29</td>\n      <td>19:00</td>\n      <td>Charlotte Hornets</td>\n      <td>1</td>\n      <td>1.23</td>\n      <td>1.25</td>\n      <td>77.55</td>\n      <td>76.64</td>\n      <td>0.95</td>\n      <td>...</td>\n      <td>0.00</td>\n      <td>0.000</td>\n      <td>0.00</td>\n      <td>0.00</td>\n      <td>0.000000</td>\n      <td>0.000000</td>\n      <td>0.000000</td>\n      <td>0.000000</td>\n      <td>0.0</td>\n      <td>0.0</td>\n    </tr>\n    <tr>\n      <th>4</th>\n      <td>1</td>\n      <td>2014-10-29</td>\n      <td>19:00</td>\n      <td>Indiana Pacers</td>\n      <td>1</td>\n      <td>1.33</td>\n      <td>1.29</td>\n      <td>71.88</td>\n      <td>74.15</td>\n      <td>0.94</td>\n      <td>...</td>\n      <td>0.00</td>\n      <td>0.000</td>\n      <td>0.00</td>\n      <td>0.00</td>\n      <td>0.000000</td>\n      <td>0.000000</td>\n      <td>0.000000</td>\n      <td>0.000000</td>\n      <td>0.0</td>\n      <td>0.0</td>\n    </tr>\n    <tr>\n      <th>...</th>\n      <td>...</td>\n      <td>...</td>\n      <td>...</td>\n      <td>...</td>\n      <td>...</td>\n      <td>...</td>\n      <td>...</td>\n      <td>...</td>\n      <td>...</td>\n      <td>...</td>\n      <td>...</td>\n      <td>...</td>\n      <td>...</td>\n      <td>...</td>\n      <td>...</td>\n      <td>...</td>\n      <td>...</td>\n      <td>...</td>\n      <td>...</td>\n      <td>...</td>\n      <td>...</td>\n    </tr>\n    <tr>\n      <th>8389</th>\n      <td>1</td>\n      <td>2022-01-03</td>\n      <td>20:30</td>\n      <td>Dallas Mavericks</td>\n      <td>37</td>\n      <td>1.68</td>\n      <td>1.68</td>\n      <td>57.25</td>\n      <td>57.25</td>\n      <td>0.96</td>\n      <td>...</td>\n      <td>88.20</td>\n      <td>80.175</td>\n      <td>7.42</td>\n      <td>-0.46</td>\n      <td>0.463898</td>\n      <td>0.411622</td>\n      <td>23.905105</td>\n      <td>21.523502</td>\n      <td>7.0</td>\n      <td>-0.6</td>\n    </tr>\n    <tr>\n      <th>8390</th>\n      <td>1</td>\n      <td>2022-01-03</td>\n      <td>22:00</td>\n      <td>Golden State Warriors</td>\n      <td>36</td>\n      <td>1.26</td>\n      <td>1.18</td>\n      <td>76.05</td>\n      <td>81.65</td>\n      <td>0.96</td>\n      <td>...</td>\n      <td>93.60</td>\n      <td>87.625</td>\n      <td>7.64</td>\n      <td>6.02</td>\n      <td>0.460140</td>\n      <td>0.460523</td>\n      <td>24.458955</td>\n      <td>20.863410</td>\n      <td>7.4</td>\n      <td>5.6</td>\n    </tr>\n    <tr>\n      <th>8391</th>\n      <td>1</td>\n      <td>2022-01-03</td>\n      <td>22:00</td>\n      <td>Portland Trail Blazers</td>\n      <td>36</td>\n      <td>2.60</td>\n      <td>2.55</td>\n      <td>37.35</td>\n      <td>38.11</td>\n      <td>0.99</td>\n      <td>...</td>\n      <td>73.30</td>\n      <td>84.100</td>\n      <td>-14.88</td>\n      <td>-7.18</td>\n      <td>0.416183</td>\n      <td>0.450595</td>\n      <td>18.578021</td>\n      <td>20.349306</td>\n      <td>-14.4</td>\n      <td>-7.0</td>\n    </tr>\n    <tr>\n      <th>8392</th>\n      <td>0</td>\n      <td>2022-01-03</td>\n      <td>22:30</td>\n      <td>Los Angeles Clippers</td>\n      <td>38</td>\n      <td>1.74</td>\n      <td>1.64</td>\n      <td>55.27</td>\n      <td>58.90</td>\n      <td>0.97</td>\n      <td>...</td>\n      <td>81.75</td>\n      <td>80.775</td>\n      <td>-2.72</td>\n      <td>-6.46</td>\n      <td>0.426758</td>\n      <td>0.429294</td>\n      <td>21.121426</td>\n      <td>20.234609</td>\n      <td>-2.8</td>\n      <td>-6.4</td>\n    </tr>\n    <tr>\n      <th>8393</th>\n      <td>0</td>\n      <td>2022-01-04</td>\n      <td>19:00</td>\n      <td>Cleveland Cavaliers</td>\n      <td>38</td>\n      <td>1.68</td>\n      <td>1.64</td>\n      <td>57.25</td>\n      <td>58.90</td>\n      <td>0.95</td>\n      <td>...</td>\n      <td>95.90</td>\n      <td>100.625</td>\n      <td>4.12</td>\n      <td>11.82</td>\n      <td>0.485782</td>\n      <td>0.493061</td>\n      <td>23.382055</td>\n      <td>20.189421</td>\n      <td>5.0</td>\n      <td>11.6</td>\n    </tr>\n  </tbody>\n</table>\n<p>8394 rows × 98 columns</p>\n</div>"
     },
     "execution_count": 7,
     "metadata": {},
     "output_type": "execute_result"
    }
   ],
   "source": [
    "nba_df_for_ML = pd.read_csv('nba_df_for_ML(強弱盤).csv',index_col='Unnamed: 0')\n",
    "nba_df_for_ML"
   ],
   "metadata": {
    "collapsed": false,
    "pycharm": {
     "name": "#%%\n"
    }
   }
  },
  {
   "cell_type": "code",
   "execution_count": 162,
   "outputs": [],
   "source": [
    "import pandas as pd\n",
    "import pymssql\n",
    "import pandasql as ps\n",
    "from datetime import datetime, timezone, timedelta\n",
    "\n",
    "SourceCode = 'Bet365'  # 台灣運彩編碼\n",
    "server = \"gh.ecocoshiny.com\"\n",
    "database = 'GoHit'\n",
    "user = 'userLC'\n",
    "password = '123123Gohit'\n",
    "TournamentText = 'NBA'\n",
    "\n",
    "def get_ConnectionFromDB():\n",
    "    db = pymssql.connect(server, user, password, database)\n",
    "    cursor = db.cursor()\n",
    "    return db, cursor\n",
    "\n",
    "def TeamNameCorrection(Taiwan_TeamName, cursor):\n",
    "    sql = f\"SELECT teams.team FROM teamText join teams on teamText.team_id = teams.id where Text = '{Taiwan_TeamName}' ;\"\n",
    "    cursor.execute(sql)\n",
    "    result = cursor.fetchone()\n",
    "    if result:\n",
    "        print(f'{Taiwan_TeamName}更換名稱為{result[0]}')\n",
    "        return result[0]\n",
    "    else:\n",
    "        return Taiwan_TeamName\n",
    "\n",
    "import time\n",
    "def getOddsDataFrame(MatchTime, db, cursor):\n",
    "    sql = f'''SELECT MatchResults.EventCode,MatchTime,HomeTeam,AwayTeam,HomeScore,AwayScore,Odds.GroupOptionCode,Odds.OptionCode,Odds.OptionRate\n",
    "              from MatchResults\n",
    "              inner join Odds on Odds.EventCode = MatchResults.EventCode\n",
    "              where TournamentText = '{TournamentText}' and Odds.SourceCode='{SourceCode}' and Odds.GroupOptionCode = 20 AND\n",
    "                    MatchTime >= '{MatchTime}' order by MatchTime '''\n",
    "\n",
    "    return pd.read_sql(sql, db)\n",
    "\n",
    "def get_MatchResults(nba_df_for_ML):\n",
    "    db, cursor = get_ConnectionFromDB()\n",
    "    MatchResults = nba_df_for_ML.copy()\n",
    "    MatchResults['Odd_H'] = 0\n",
    "    MatchResults['Odd_A'] = 0\n",
    "    Odds = getOddsDataFrame('2021-10-20 00:00:00', db, cursor)\n",
    "    for index, game in nba_df_for_ML.iterrows():\n",
    "        MatchTime =datetime.strptime(game['gmDate']+' '+game['gmTime'], \"%Y-%m-%d %H:%M\")+timedelta(hours=13)\n",
    "        if MatchTime <= datetime.strptime('2021-10-20 00:00', \"%Y-%m-%d %H:%M\"):\n",
    "            continue\n",
    "        print(MatchTime)\n",
    "        HomeTeam = TeamNameCorrection(game['homeAbbr'],cursor)\n",
    "        AwayTeam = TeamNameCorrection(game['awayAbbr'],cursor)\n",
    "\n",
    "        offset_sec = 120*60\n",
    "        timestamp = time.mktime(MatchTime.timetuple())\n",
    "        top = datetime.fromtimestamp(timestamp+offset_sec)\n",
    "        bottom = datetime.fromtimestamp(timestamp-offset_sec)\n",
    "\n",
    "        Odd = Odds[(Odds['MatchTime']>=bottom) & (Odds['MatchTime']<top) & (Odds.HomeTeam==HomeTeam) & (Odds.AwayTeam==AwayTeam)]\n",
    "\n",
    "        for _,odd in Odd.iterrows():\n",
    "            if int(odd['OptionCode']) == 1:\n",
    "                MatchResults.loc[index,'Odd_H'] =odd['OptionRate']\n",
    "            else:\n",
    "                MatchResults.loc[index,'Odd_A'] =odd['OptionRate']\n",
    "\n",
    "        print(MatchResults.loc[index]['Odd_H'],MatchResults.loc[index]['Odd_A'])\n",
    "    cursor.close()\n",
    "    db.close()\n",
    "    return MatchResults"
   ],
   "metadata": {
    "collapsed": false,
    "pycharm": {
     "name": "#%%\n"
    }
   }
  },
  {
   "cell_type": "code",
   "execution_count": 163,
   "outputs": [
    {
     "name": "stdout",
     "output_type": "stream",
     "text": [
      "2021-10-20 08:30:00\n",
      "Milwaukee Bucks更換名稱為MIL Bucks\n",
      "Brooklyn Nets更換名稱為BKN Nets\n",
      "1.83 2.00\n",
      "2021-10-20 11:00:00\n",
      "Los Angeles Lakers更換名稱為LA Lakers\n",
      "Golden State Warriors更換名稱為GS Warriors\n",
      "1.64 2.35\n",
      "2021-10-21 08:00:00\n",
      "Charlotte Hornets更換名稱為CHA Hornets\n",
      "Indiana Pacers更換名稱為IND Pacers\n",
      "1.86 1.95\n",
      "2021-10-21 08:00:00\n",
      "Detroit Pistons更換名稱為DET Pistons\n",
      "Chicago Bulls更換名稱為CHI Bulls\n",
      "2.75 1.47\n",
      "2021-10-21 08:30:00\n",
      "New York Knicks更換名稱為NY Knicks\n",
      "Boston Celtics更換名稱為BOS Celtics\n",
      "1.76 2.10\n",
      "2021-10-21 08:30:00\n",
      "Toronto Raptors更換名稱為TOR Raptors\n",
      "Washington Wizards更換名稱為WAS Wizards\n",
      "1.71 2.20\n",
      "2021-10-21 09:00:00\n",
      "Memphis Grizzlies更換名稱為MEM Grizzlies\n",
      "Cleveland Cavaliers更換名稱為CLE Cavaliers\n",
      "1.33 3.40\n",
      "2021-10-21 09:00:00\n",
      "Minnesota Timberwolves更換名稱為MIN Timberwolves\n",
      "Houston Rockets更換名稱為HOU Rockets\n",
      "1.40 3.05\n",
      "2021-10-21 09:00:00\n",
      "New Orleans Pelicans更換名稱為NO Pelicans\n",
      "Philadelphia 76ers更換名稱為PHI 76ers\n",
      "2.45 1.60\n",
      "2021-10-21 09:30:00\n",
      "San Antonio Spurs更換名稱為SA Spurs\n",
      "Orlando Magic更換名稱為ORL Magic\n",
      "1.38 3.15\n",
      "2021-10-21 10:00:00\n",
      "Utah Jazz更換名稱為UTA Jazz\n",
      "Oklahoma City Thunder更換名稱為OKC Thunder\n",
      "1.09 8.00\n",
      "2021-10-21 11:00:00\n",
      "Portland Trail Blazers更換名稱為POR Trail Blazers\n",
      "Sacramento Kings更換名稱為SAC Kings\n",
      "1.38 3.15\n",
      "2021-10-21 11:00:00\n",
      "Phoenix Suns更換名稱為PHX Suns\n",
      "Denver Nuggets更換名稱為DEN Nuggets\n",
      "1.40 3.10\n",
      "2021-10-22 08:30:00\n",
      "Atlanta Hawks更換名稱為ATL Hawks\n",
      "Dallas Mavericks更換名稱為DAL Mavericks\n",
      "1.71 2.20\n",
      "2021-10-22 09:00:00\n",
      "Miami Heat更換名稱為MIA Heat\n",
      "Milwaukee Bucks更換名稱為MIL Bucks\n",
      "1.71 2.20\n",
      "2021-10-22 11:00:00\n",
      "Golden State Warriors更換名稱為GS Warriors\n",
      "Los Angeles Clippers更換名稱為LA Clippers\n",
      "1.60 2.45\n",
      "2021-10-23 08:00:00\n",
      "Orlando Magic更換名稱為ORL Magic\n",
      "New York Knicks更換名稱為NY Knicks\n",
      "4.00 1.26\n",
      "2021-10-23 08:00:00\n",
      "Washington Wizards更換名稱為WAS Wizards\n",
      "Indiana Pacers更換名稱為IND Pacers\n",
      "1.80 2.05\n",
      "2021-10-23 08:00:00\n",
      "Cleveland Cavaliers更換名稱為CLE Cavaliers\n",
      "Charlotte Hornets更換名稱為CHA Hornets\n",
      "2.20 1.71\n",
      "2021-10-23 08:30:00\n",
      "Boston Celtics更換名稱為BOS Celtics\n",
      "Toronto Raptors更換名稱為TOR Raptors\n",
      "1.37 3.20\n",
      "2021-10-23 08:30:00\n",
      "Philadelphia 76ers更換名稱為PHI 76ers\n",
      "Brooklyn Nets更換名稱為BKN Nets\n",
      "2.30 1.66\n",
      "2021-10-23 09:00:00\n",
      "Houston Rockets更換名稱為HOU Rockets\n",
      "Oklahoma City Thunder更換名稱為OKC Thunder\n",
      "1.64 2.35\n",
      "2021-10-23 09:00:00\n",
      "Chicago Bulls更換名稱為CHI Bulls\n",
      "New Orleans Pelicans更換名稱為NO Pelicans\n",
      "1.38 3.15\n",
      "2021-10-23 10:00:00\n",
      "Denver Nuggets更換名稱為DEN Nuggets\n",
      "San Antonio Spurs更換名稱為SA Spurs\n",
      "1.30 3.65\n",
      "2021-10-23 11:00:00\n",
      "Los Angeles Lakers更換名稱為LA Lakers\n",
      "Phoenix Suns更換名稱為PHX Suns\n",
      "1.86 1.95\n",
      "2021-10-23 11:00:00\n",
      "Sacramento Kings更換名稱為SAC Kings\n",
      "Utah Jazz更換名稱為UTA Jazz\n",
      "3.00 1.41\n",
      "2021-10-24 07:00:00\n",
      "Cleveland Cavaliers更換名稱為CLE Cavaliers\n",
      "Atlanta Hawks更換名稱為ATL Hawks\n",
      "3.70 1.29\n",
      "2021-10-24 08:00:00\n",
      "Indiana Pacers更換名稱為IND Pacers\n",
      "Miami Heat更換名稱為MIA Heat\n",
      "2.55 1.57\n",
      "2021-10-24 08:30:00\n",
      "Toronto Raptors更換名稱為TOR Raptors\n",
      "Dallas Mavericks更換名稱為DAL Mavericks\n",
      "2.50 1.58\n",
      "2021-10-24 09:00:00\n",
      "Chicago Bulls更換名稱為CHI Bulls\n",
      "Detroit Pistons更換名稱為DET Pistons\n",
      "1.28 3.75\n",
      "2021-10-24 09:00:00\n",
      "Minnesota Timberwolves更換名稱為MIN Timberwolves\n",
      "New Orleans Pelicans更換名稱為NO Pelicans\n",
      "1.33 3.40\n",
      "2021-10-24 09:30:00\n",
      "San Antonio Spurs更換名稱為SA Spurs\n",
      "Milwaukee Bucks更換名稱為MIL Bucks\n",
      "3.10 1.40\n",
      "2021-10-24 11:00:00\n",
      "Portland Trail Blazers更換名稱為POR Trail Blazers\n",
      "Phoenix Suns更換名稱為PHX Suns\n",
      "1.66 2.30\n",
      "2021-10-24 11:30:00\n",
      "Los Angeles Clippers更換名稱為LA Clippers\n",
      "Memphis Grizzlies更換名稱為MEM Grizzlies\n",
      "1.58 2.50\n",
      "2021-10-25 05:00:00\n",
      "Brooklyn Nets更換名稱為BKN Nets\n",
      "Charlotte Hornets更換名稱為CHA Hornets\n",
      "1.23 4.25\n",
      "2021-10-25 08:00:00\n",
      "Houston Rockets更換名稱為HOU Rockets\n",
      "Boston Celtics更換名稱為BOS Celtics\n",
      "2.80 1.45\n",
      "2021-10-25 08:00:00\n",
      "New York Knicks更換名稱為NY Knicks\n",
      "Orlando Magic更換名稱為ORL Magic\n",
      "1.12 6.50\n",
      "2021-10-25 08:00:00\n",
      "Oklahoma City Thunder更換名稱為OKC Thunder\n",
      "Philadelphia 76ers更換名稱為PHI 76ers\n",
      "3.65 1.30\n",
      "2021-10-25 10:00:00\n",
      "Sacramento Kings更換名稱為SAC Kings\n",
      "Golden State Warriors更換名稱為GS Warriors\n",
      "2.30 1.66\n",
      "2021-10-25 10:30:00\n",
      "Los Angeles Lakers更換名稱為LA Lakers\n",
      "Memphis Grizzlies更換名稱為MEM Grizzlies\n",
      "1.47 2.75\n",
      "2021-10-26 08:00:00\n",
      "Charlotte Hornets更換名稱為CHA Hornets\n",
      "Boston Celtics更換名稱為BOS Celtics\n",
      "1.95 1.86\n",
      "2021-10-26 08:00:00\n",
      "Indiana Pacers更換名稱為IND Pacers\n",
      "Milwaukee Bucks更換名稱為MIL Bucks\n",
      "2.10 1.76\n",
      "2021-10-26 08:30:00\n",
      "Toronto Raptors更換名稱為TOR Raptors\n",
      "Chicago Bulls更換名稱為CHI Bulls\n",
      "2.05 1.80\n",
      "2021-10-26 08:30:00\n",
      "Miami Heat更換名稱為MIA Heat\n",
      "Orlando Magic更換名稱為ORL Magic\n",
      "1.10 7.50\n",
      "2021-10-26 08:30:00\n",
      "Brooklyn Nets更換名稱為BKN Nets\n",
      "Washington Wizards更換名稱為WAS Wizards\n",
      "1.37 3.20\n",
      "2021-10-26 08:30:00\n",
      "Atlanta Hawks更換名稱為ATL Hawks\n",
      "Detroit Pistons更換名稱為DET Pistons\n",
      "1.15 5.75\n",
      "2021-10-26 09:00:00\n",
      "Minnesota Timberwolves更換名稱為MIN Timberwolves\n",
      "New Orleans Pelicans更換名稱為NO Pelicans\n",
      "1.44 2.85\n",
      "2021-10-26 10:00:00\n",
      "Denver Nuggets更換名稱為DEN Nuggets\n",
      "Cleveland Cavaliers更換名稱為CLE Cavaliers\n",
      "1.20 4.75\n",
      "2021-10-26 11:30:00\n",
      "Los Angeles Clippers更換名稱為LA Clippers\n",
      "Portland Trail Blazers更換名稱為POR Trail Blazers\n",
      "1.68 2.25\n",
      "2021-10-27 08:30:00\n",
      "New York Knicks更換名稱為NY Knicks\n",
      "Philadelphia 76ers更換名稱為PHI 76ers\n",
      "1.83 2.00\n",
      "2021-10-27 09:00:00\n",
      "Oklahoma City Thunder更換名稱為OKC Thunder\n",
      "Golden State Warriors更換名稱為GS Warriors\n",
      "4.75 1.20\n",
      "2021-10-27 09:30:00\n",
      "San Antonio Spurs更換名稱為SA Spurs\n",
      "Los Angeles Lakers更換名稱為LA Lakers\n",
      "1.86 1.95\n",
      "2021-10-27 09:30:00\n",
      "Dallas Mavericks更換名稱為DAL Mavericks\n",
      "Houston Rockets更換名稱為HOU Rockets\n",
      "1.15 5.75\n",
      "2021-10-27 11:00:00\n",
      "Utah Jazz更換名稱為UTA Jazz\n",
      "Denver Nuggets更換名稱為DEN Nuggets\n",
      "1.31 3.55\n",
      "2021-10-28 08:00:00\n",
      "Orlando Magic更換名稱為ORL Magic\n",
      "Charlotte Hornets更換名稱為CHA Hornets\n",
      "2.90 1.43\n",
      "2021-10-28 08:30:00\n",
      "Boston Celtics更換名稱為BOS Celtics\n",
      "Washington Wizards更換名稱為WAS Wizards\n",
      "1.52 2.67\n",
      "2021-10-28 08:30:00\n",
      "Brooklyn Nets更換名稱為BKN Nets\n",
      "Miami Heat更換名稱為MIA Heat\n",
      "1.57 2.55\n",
      "2021-10-28 08:30:00\n",
      "Toronto Raptors更換名稱為TOR Raptors\n",
      "Indiana Pacers更換名稱為IND Pacers\n",
      "1.90 1.90\n",
      "2021-10-28 08:30:00\n",
      "New Orleans Pelicans更換名稱為NO Pelicans\n",
      "Atlanta Hawks更換名稱為ATL Hawks\n",
      "2.85 1.44\n",
      "2021-10-28 09:00:00\n",
      "Milwaukee Bucks更換名稱為MIL Bucks\n",
      "Minnesota Timberwolves更換名稱為MIN Timberwolves\n",
      "1.40 3.10\n",
      "2021-10-28 09:00:00\n",
      "Oklahoma City Thunder更換名稱為OKC Thunder\n",
      "Los Angeles Lakers更換名稱為LA Lakers\n",
      "3.10 1.40\n",
      "2021-10-28 11:00:00\n",
      "Phoenix Suns更換名稱為PHX Suns\n",
      "Sacramento Kings更換名稱為SAC Kings\n",
      "1.28 3.75\n",
      "2021-10-28 11:00:00\n",
      "Portland Trail Blazers更換名稱為POR Trail Blazers\n",
      "Memphis Grizzlies更換名稱為MEM Grizzlies\n",
      "1.68 2.25\n",
      "2021-10-28 11:30:00\n",
      "Los Angeles Clippers更換名稱為LA Clippers\n",
      "Cleveland Cavaliers更換名稱為CLE Cavaliers\n",
      "1.28 3.75\n",
      "2021-10-29 08:00:00\n",
      "Washington Wizards更換名稱為WAS Wizards\n",
      "Atlanta Hawks更換名稱為ATL Hawks\n",
      "2.30 1.66\n",
      "2021-10-29 08:00:00\n",
      "Philadelphia 76ers更換名稱為PHI 76ers\n",
      "Detroit Pistons更換名稱為DET Pistons\n",
      "1.18 5.25\n",
      "2021-10-29 09:00:00\n",
      "Houston Rockets更換名稱為HOU Rockets\n",
      "Utah Jazz更換名稱為UTA Jazz\n",
      "4.50 1.22\n",
      "2021-10-29 09:00:00\n",
      "Chicago Bulls更換名稱為CHI Bulls\n",
      "New York Knicks更換名稱為NY Knicks\n",
      "1.80 2.05\n",
      "2021-10-29 09:30:00\n",
      "Dallas Mavericks更換名稱為DAL Mavericks\n",
      "San Antonio Spurs更換名稱為SA Spurs\n",
      "1.40 3.10\n",
      "2021-10-29 11:00:00\n",
      "Golden State Warriors更換名稱為GS Warriors\n",
      "Memphis Grizzlies更換名稱為MEM Grizzlies\n",
      "1.42 2.95\n",
      "2021-10-30 08:00:00\n",
      "Toronto Raptors更換名稱為TOR Raptors\n",
      "Orlando Magic更換名稱為ORL Magic\n",
      "1.28 3.75\n",
      "2021-10-30 08:30:00\n",
      "Miami Heat更換名稱為MIA Heat\n",
      "Charlotte Hornets更換名稱為CHA Hornets\n",
      "1.41 3.00\n",
      "2021-10-30 08:30:00\n",
      "Brooklyn Nets更換名稱為BKN Nets\n",
      "Indiana Pacers更換名稱為IND Pacers\n",
      "1.25 4.10\n",
      "2021-10-30 09:00:00\n",
      "New Orleans Pelicans更換名稱為NO Pelicans\n",
      "Sacramento Kings更換名稱為SAC Kings\n",
      "2.00 1.83\n",
      "2021-10-30 11:00:00\n",
      "Denver Nuggets更換名稱為DEN Nuggets\n",
      "Dallas Mavericks更換名稱為DAL Mavericks\n",
      "1.80 2.05\n",
      "2021-10-30 11:00:00\n",
      "Portland Trail Blazers更換名稱為POR Trail Blazers\n",
      "Los Angeles Clippers更換名稱為LA Clippers\n",
      "1.64 2.35\n",
      "2021-10-30 11:30:00\n",
      "Los Angeles Lakers更換名稱為LA Lakers\n",
      "Cleveland Cavaliers更換名稱為CLE Cavaliers\n",
      "1.32 3.50\n",
      "2021-10-31 06:00:00\n",
      "Washington Wizards更換名稱為WAS Wizards\n",
      "Boston Celtics更換名稱為BOS Celtics\n",
      "1.80 2.05\n",
      "2021-10-31 08:00:00\n",
      "Detroit Pistons更換名稱為DET Pistons\n",
      "Orlando Magic更換名稱為ORL Magic\n",
      "1.42 2.95\n",
      "2021-10-31 08:00:00\n",
      "New Orleans Pelicans更換名稱為NO Pelicans\n",
      "New York Knicks更換名稱為NY Knicks\n",
      "3.00 1.41\n",
      "2021-10-31 08:30:00\n",
      "Indiana Pacers更換名稱為IND Pacers\n",
      "Toronto Raptors更換名稱為TOR Raptors\n",
      "1.71 2.20\n",
      "2021-10-31 08:30:00\n",
      "Philadelphia 76ers更換名稱為PHI 76ers\n",
      "Atlanta Hawks更換名稱為ATL Hawks\n",
      "1.66 2.30\n",
      "2021-10-31 09:00:00\n",
      "Chicago Bulls更換名稱為CHI Bulls\n",
      "Utah Jazz更換名稱為UTA Jazz\n",
      "2.35 1.64\n",
      "2021-10-31 09:00:00\n",
      "Memphis Grizzlies更換名稱為MEM Grizzlies\n",
      "Miami Heat更換名稱為MIA Heat\n",
      "1.64 2.35\n",
      "2021-10-31 09:00:00\n",
      "Milwaukee Bucks更換名稱為MIL Bucks\n",
      "San Antonio Spurs更換名稱為SA Spurs\n",
      "1.34 3.35\n",
      "2021-10-31 09:30:00\n",
      "Golden State Warriors更換名稱為GS Warriors\n",
      "Oklahoma City Thunder更換名稱為OKC Thunder\n",
      "1.10 7.25\n",
      "2021-10-31 10:00:00\n",
      "Minnesota Timberwolves更換名稱為MIN Timberwolves\n",
      "Denver Nuggets更換名稱為DEN Nuggets\n",
      "1.83 2.00\n",
      "2021-10-31 11:00:00\n",
      "Phoenix Suns更換名稱為PHX Suns\n",
      "Cleveland Cavaliers更換名稱為CLE Cavaliers\n",
      "1.20 4.75\n",
      "2021-11-01 04:30:00\n",
      "Dallas Mavericks更換名稱為DAL Mavericks\n",
      "Sacramento Kings更換名稱為SAC Kings\n",
      "1.55 2.60\n",
      "2021-11-01 08:00:00\n",
      "Charlotte Hornets更換名稱為CHA Hornets\n",
      "Portland Trail Blazers更換名稱為POR Trail Blazers\n",
      "2.05 1.80\n",
      "2021-11-01 08:00:00\n",
      "Milwaukee Bucks更換名稱為MIL Bucks\n",
      "Utah Jazz更換名稱為UTA Jazz\n",
      "2.15 1.74\n",
      "2021-11-01 08:30:00\n",
      "Brooklyn Nets更換名稱為BKN Nets\n",
      "Detroit Pistons更換名稱為DET Pistons\n",
      "1.12 6.50\n",
      "2021-11-01 11:30:00\n",
      "Los Angeles Lakers更換名稱為LA Lakers\n",
      "Houston Rockets更換名稱為HOU Rockets\n",
      "1.19 5.00\n",
      "2021-11-02 08:00:00\n",
      "Charlotte Hornets更換名稱為CHA Hornets\n",
      "Cleveland Cavaliers更換名稱為CLE Cavaliers\n",
      "1.47 2.75\n",
      "2021-11-02 08:00:00\n",
      "Indiana Pacers更換名稱為IND Pacers\n",
      "San Antonio Spurs更換名稱為SA Spurs\n",
      "1.68 2.25\n",
      "2021-11-02 08:00:00\n",
      "Philadelphia 76ers更換名稱為PHI 76ers\n",
      "Portland Trail Blazers更換名稱為POR Trail Blazers\n",
      "1.47 2.75\n",
      "2021-11-02 08:30:00\n",
      "Atlanta Hawks更換名稱為ATL Hawks\n",
      "Washington Wizards更換名稱為WAS Wizards\n",
      "1.45 2.80\n",
      "2021-11-02 08:30:00\n",
      "Boston Celtics更換名稱為BOS Celtics\n",
      "Chicago Bulls更換名稱為CHI Bulls\n",
      "1.76 2.10\n",
      "2021-11-02 08:30:00\n",
      "New York Knicks更換名稱為NY Knicks\n",
      "Toronto Raptors更換名稱為TOR Raptors\n",
      "1.35 3.30\n",
      "2021-11-02 09:00:00\n",
      "Memphis Grizzlies更換名稱為MEM Grizzlies\n",
      "Denver Nuggets更換名稱為DEN Nuggets\n",
      "1.83 2.00\n",
      "2021-11-02 09:00:00\n",
      "Minnesota Timberwolves更換名稱為MIN Timberwolves\n",
      "Orlando Magic更換名稱為ORL Magic\n",
      "1.25 4.10\n",
      "2021-11-02 11:30:00\n",
      "Los Angeles Clippers更換名稱為LA Clippers\n",
      "Oklahoma City Thunder更換名稱為OKC Thunder\n",
      "1.11 6.75\n",
      "2021-11-03 08:00:00\n",
      "Detroit Pistons更換名稱為DET Pistons\n",
      "Milwaukee Bucks更換名稱為MIL Bucks\n",
      "2.60 1.55\n",
      "2021-11-03 08:30:00\n",
      "Dallas Mavericks更換名稱為DAL Mavericks\n",
      "Miami Heat更換名稱為MIA Heat\n",
      "2.15 1.74\n",
      "2021-11-03 10:00:00\n",
      "Utah Jazz更換名稱為UTA Jazz\n",
      "Sacramento Kings更換名稱為SAC Kings\n",
      "1.23 4.25\n",
      "2021-11-03 11:00:00\n",
      "Phoenix Suns更換名稱為PHX Suns\n",
      "New Orleans Pelicans更換名稱為NO Pelicans\n",
      "1.14 6.00\n",
      "2021-11-03 11:30:00\n",
      "Los Angeles Lakers更換名稱為LA Lakers\n",
      "Houston Rockets更換名稱為HOU Rockets\n",
      "1.19 5.00\n",
      "2021-11-04 08:00:00\n",
      "Cleveland Cavaliers更換名稱為CLE Cavaliers\n",
      "Portland Trail Blazers更換名稱為POR Trail Blazers\n",
      "2.65 1.54\n",
      "2021-11-04 08:00:00\n",
      "Indiana Pacers更換名稱為IND Pacers\n",
      "New York Knicks更換名稱為NY Knicks\n",
      "1.86 1.95\n",
      "2021-11-04 08:00:00\n",
      "Orlando Magic更換名稱為ORL Magic\n",
      "Boston Celtics更換名稱為BOS Celtics\n",
      "3.20 1.37\n",
      "2021-11-04 08:00:00\n",
      "Philadelphia 76ers更換名稱為PHI 76ers\n",
      "Chicago Bulls更換名稱為CHI Bulls\n",
      "1.74 2.15\n",
      "2021-11-04 08:00:00\n",
      "Washington Wizards更換名稱為WAS Wizards\n",
      "Toronto Raptors更換名稱為TOR Raptors\n",
      "1.62 2.40\n",
      "2021-11-04 08:30:00\n",
      "Brooklyn Nets更換名稱為BKN Nets\n",
      "Atlanta Hawks更換名稱為ATL Hawks\n",
      "1.47 2.75\n",
      "2021-11-04 09:00:00\n",
      "Memphis Grizzlies更換名稱為MEM Grizzlies\n",
      "Denver Nuggets更換名稱為DEN Nuggets\n",
      "2.00 1.83\n",
      "2021-11-04 09:00:00\n",
      "Minnesota Timberwolves更換名稱為MIN Timberwolves\n",
      "Los Angeles Clippers更換名稱為LA Clippers\n",
      "2.20 1.71\n",
      "2021-11-04 09:30:00\n",
      "San Antonio Spurs更換名稱為SA Spurs\n",
      "Dallas Mavericks更換名稱為DAL Mavericks\n",
      "2.10 1.76\n",
      "2021-11-04 11:00:00\n",
      "Golden State Warriors更換名稱為GS Warriors\n",
      "Charlotte Hornets更換名稱為CHA Hornets\n",
      "1.41 3.00\n",
      "2021-11-04 11:00:00\n",
      "Sacramento Kings更換名稱為SAC Kings\n",
      "New Orleans Pelicans更換名稱為NO Pelicans\n",
      "1.47 2.75\n",
      "2021-11-05 08:00:00\n",
      "Detroit Pistons更換名稱為DET Pistons\n",
      "Philadelphia 76ers更換名稱為PHI 76ers\n",
      "2.75 1.47\n",
      "2021-11-05 08:30:00\n",
      "Atlanta Hawks更換名稱為ATL Hawks\n",
      "Utah Jazz更換名稱為UTA Jazz\n",
      "2.05 1.80\n",
      "2021-11-05 08:30:00\n",
      "Miami Heat更換名稱為MIA Heat\n",
      "Boston Celtics更換名稱為BOS Celtics\n",
      "1.40 3.10\n",
      "2021-11-05 11:00:00\n",
      "Phoenix Suns更換名稱為PHX Suns\n",
      "Houston Rockets更換名稱為HOU Rockets\n",
      "1.16 5.50\n",
      "2021-11-05 11:30:00\n",
      "Los Angeles Lakers更換名稱為LA Lakers\n",
      "Oklahoma City Thunder更換名稱為OKC Thunder\n",
      "1.14 6.00\n",
      "2021-11-06 08:00:00\n",
      "Detroit Pistons更換名稱為DET Pistons\n",
      "Brooklyn Nets更換名稱為BKN Nets\n",
      "5.00 1.19\n",
      "2021-11-06 08:00:00\n",
      "Orlando Magic更換名稱為ORL Magic\n",
      "San Antonio Spurs更換名稱為SA Spurs\n",
      "2.40 1.62\n",
      "2021-11-06 08:00:00\n",
      "Washington Wizards更換名稱為WAS Wizards\n",
      "Memphis Grizzlies更換名稱為MEM Grizzlies\n",
      "1.83 2.00\n",
      "2021-11-06 08:30:00\n",
      "Milwaukee Bucks更換名稱為MIL Bucks\n",
      "New York Knicks更換名稱為NY Knicks\n",
      "1.57 2.55\n",
      "2021-11-06 08:30:00\n",
      "Toronto Raptors更換名稱為TOR Raptors\n",
      "Cleveland Cavaliers更換名稱為CLE Cavaliers\n",
      "1.45 2.80\n",
      "2021-11-06 09:00:00\n",
      "Minnesota Timberwolves更換名稱為MIN Timberwolves\n",
      "Los Angeles Clippers更換名稱為LA Clippers\n",
      "2.20 1.71\n",
      "2021-11-06 11:00:00\n",
      "Golden State Warriors更換名稱為GS Warriors\n",
      "New Orleans Pelicans更換名稱為NO Pelicans\n",
      "1.25 4.20\n",
      "2021-11-06 11:00:00\n",
      "Portland Trail Blazers更換名稱為POR Trail Blazers\n",
      "Indiana Pacers更換名稱為IND Pacers\n",
      "1.50 2.70\n",
      "2021-11-06 11:00:00\n",
      "Sacramento Kings更換名稱為SAC Kings\n",
      "Charlotte Hornets更換名稱為CHA Hornets\n",
      "1.76 2.10\n",
      "2021-11-07 06:00:00\n",
      "Denver Nuggets更換名稱為DEN Nuggets\n",
      "Houston Rockets更換名稱為HOU Rockets\n",
      "1.16 5.50\n",
      "2021-11-07 08:30:00\n",
      "Miami Heat更換名稱為MIA Heat\n",
      "Utah Jazz更換名稱為UTA Jazz\n",
      "1.74 2.15\n",
      "2021-11-07 09:00:00\n",
      "Chicago Bulls更換名稱為CHI Bulls\n",
      "Philadelphia 76ers更換名稱為PHI 76ers\n",
      "1.58 2.50\n",
      "2021-11-07 09:30:00\n",
      "Dallas Mavericks更換名稱為DAL Mavericks\n",
      "Boston Celtics更換名稱為BOS Celtics\n",
      "1.62 2.40\n",
      "2021-11-07 11:00:00\n",
      "Phoenix Suns更換名稱為PHX Suns\n",
      "Atlanta Hawks更換名稱為ATL Hawks\n",
      "1.58 2.50\n",
      "2021-11-07 11:30:00\n",
      "Portland Trail Blazers更換名稱為POR Trail Blazers\n",
      "Los Angeles Lakers更換名稱為LA Lakers\n",
      "1.45 2.80\n",
      "2021-11-08 04:30:00\n",
      "Toronto Raptors更換名稱為TOR Raptors\n",
      "Brooklyn Nets更換名稱為BKN Nets\n",
      "2.35 1.64\n",
      "2021-11-08 07:00:00\n",
      "New York Knicks更換名稱為NY Knicks\n",
      "Cleveland Cavaliers更換名稱為CLE Cavaliers\n",
      "1.29 3.70\n",
      "2021-11-08 07:00:00\n",
      "Orlando Magic更換名稱為ORL Magic\n",
      "Utah Jazz更換名稱為UTA Jazz\n",
      "6.75 1.11\n",
      "2021-11-08 07:00:00\n",
      "Sacramento Kings更換名稱為SAC Kings\n",
      "Indiana Pacers更換名稱為IND Pacers\n",
      "1.80 2.05\n",
      "2021-11-08 07:00:00\n",
      "Washington Wizards更換名稱為WAS Wizards\n",
      "Milwaukee Bucks更換名稱為MIL Bucks\n",
      "2.10 1.76\n",
      "2021-11-08 08:00:00\n",
      "Oklahoma City Thunder更換名稱為OKC Thunder\n",
      "San Antonio Spurs更換名稱為SA Spurs\n",
      "2.40 1.62\n",
      "2021-11-08 09:30:00\n",
      "Golden State Warriors更換名稱為GS Warriors\n",
      "Houston Rockets更換名稱為HOU Rockets\n",
      "1.11 6.75\n",
      "2021-11-08 10:00:00\n",
      "Los Angeles Clippers更換名稱為LA Clippers\n",
      "Charlotte Hornets更換名稱為CHA Hornets\n",
      "1.41 3.00\n",
      "2021-11-09 08:00:00\n",
      "Philadelphia 76ers更換名稱為PHI 76ers\n",
      "New York Knicks更換名稱為NY Knicks\n",
      "2.05 1.80\n",
      "2021-11-09 09:00:00\n",
      "Chicago Bulls更換名稱為CHI Bulls\n",
      "Brooklyn Nets更換名稱為BKN Nets\n",
      "1.95 1.86\n",
      "2021-11-09 09:00:00\n",
      "Memphis Grizzlies更換名稱為MEM Grizzlies\n",
      "Minnesota Timberwolves更換名稱為MIN Timberwolves\n",
      "1.50 2.70\n",
      "2021-11-09 09:30:00\n",
      "Dallas Mavericks更換名稱為DAL Mavericks\n",
      "New Orleans Pelicans更換名稱為NO Pelicans\n",
      "1.26 4.00\n",
      "2021-11-09 10:00:00\n",
      "Denver Nuggets更換名稱為DEN Nuggets\n",
      "Miami Heat更換名稱為MIA Heat\n",
      "2.05 1.80\n",
      "2021-11-09 11:00:00\n",
      "Golden State Warriors更換名稱為GS Warriors\n",
      "Atlanta Hawks更換名稱為ATL Hawks\n",
      "1.66 2.30\n",
      "2021-11-09 11:00:00\n",
      "Sacramento Kings更換名稱為SAC Kings\n",
      "Phoenix Suns更換名稱為PHX Suns\n",
      "2.30 1.66\n",
      "2021-11-09 11:30:00\n",
      "Los Angeles Lakers更換名稱為LA Lakers\n",
      "Charlotte Hornets更換名稱為CHA Hornets\n",
      "1.76 2.10\n",
      "2021-11-10 08:30:00\n",
      "Philadelphia 76ers更換名稱為PHI 76ers\n",
      "Milwaukee Bucks更換名稱為MIL Bucks\n",
      "3.20 1.37\n",
      "2021-11-10 10:00:00\n",
      "Utah Jazz更換名稱為UTA Jazz\n",
      "Atlanta Hawks更換名稱為ATL Hawks\n",
      "1.27 3.80\n",
      "2021-11-10 11:00:00\n",
      "Los Angeles Clippers更換名稱為LA Clippers\n",
      "Portland Trail Blazers更換名稱為POR Trail Blazers\n",
      "1.71 2.20\n",
      "2021-11-11 08:00:00\n",
      "Cleveland Cavaliers更換名稱為CLE Cavaliers\n",
      "Washington Wizards更換名稱為WAS Wizards\n",
      "2.35 1.64\n",
      "2021-11-11 08:00:00\n",
      "Orlando Magic更換名稱為ORL Magic\n",
      "Brooklyn Nets更換名稱為BKN Nets\n",
      "4.50 1.22\n",
      "2021-11-11 08:30:00\n",
      "Boston Celtics更換名稱為BOS Celtics\n",
      "Toronto Raptors更換名稱為TOR Raptors\n",
      "1.68 2.25\n",
      "2021-11-11 08:30:00\n",
      "Houston Rockets更換名稱為HOU Rockets\n",
      "Detroit Pistons更換名稱為DET Pistons\n",
      "1.66 2.30\n",
      "2021-11-11 08:30:00\n",
      "New York Knicks更換名稱為NY Knicks\n",
      "Milwaukee Bucks更換名稱為MIL Bucks\n",
      "1.62 2.40\n",
      "2021-11-11 09:00:00\n",
      "Chicago Bulls更換名稱為CHI Bulls\n",
      "Dallas Mavericks更換名稱為DAL Mavericks\n",
      "1.62 2.40\n",
      "2021-11-11 09:00:00\n",
      "Memphis Grizzlies更換名稱為MEM Grizzlies\n",
      "Charlotte Hornets更換名稱為CHA Hornets\n",
      "1.54 2.65\n",
      "2021-11-11 09:00:00\n",
      "New Orleans Pelicans更換名稱為NO Pelicans\n",
      "Oklahoma City Thunder更換名稱為OKC Thunder\n",
      "1.57 2.55\n",
      "2021-11-11 09:30:00\n",
      "San Antonio Spurs更換名稱為SA Spurs\n",
      "Sacramento Kings更換名稱為SAC Kings\n",
      "1.90 1.90\n",
      "2021-11-11 10:00:00\n",
      "Denver Nuggets更換名稱為DEN Nuggets\n",
      "Indiana Pacers更換名稱為IND Pacers\n",
      "2.30 1.66\n",
      "2021-11-11 10:00:00\n",
      "Phoenix Suns更換名稱為PHX Suns\n",
      "Portland Trail Blazers更換名稱為POR Trail Blazers\n",
      "1.50 2.70\n",
      "2021-11-11 11:00:00\n",
      "Golden State Warriors更換名稱為GS Warriors\n",
      "Minnesota Timberwolves更換名稱為MIN Timberwolves\n",
      "1.31 3.55\n",
      "2021-11-11 11:00:00\n",
      "Los Angeles Lakers更換名稱為LA Lakers\n",
      "Miami Heat更換名稱為MIA Heat\n",
      "2.70 1.50\n",
      "2021-11-12 08:00:00\n",
      "Philadelphia 76ers更換名稱為PHI 76ers\n",
      "Toronto Raptors更換名稱為TOR Raptors\n",
      "1.57 2.55\n",
      "2021-11-12 10:00:00\n",
      "Utah Jazz更換名稱為UTA Jazz\n",
      "Indiana Pacers更換名稱為IND Pacers\n",
      "1.16 5.50\n",
      "2021-11-12 11:30:00\n",
      "Los Angeles Clippers更換名稱為LA Clippers\n",
      "Miami Heat更換名稱為MIA Heat\n",
      "1.42 2.95\n",
      "2021-11-13 08:00:00\n",
      "Charlotte Hornets更換名稱為CHA Hornets\n",
      "New York Knicks更換名稱為NY Knicks\n",
      "2.10 1.76\n",
      "2021-11-13 08:30:00\n",
      "Boston Celtics更換名稱為BOS Celtics\n",
      "Milwaukee Bucks更換名稱為MIL Bucks\n",
      "1.47 2.75\n",
      "2021-11-13 08:30:00\n",
      "Cleveland Cavaliers更換名稱為CLE Cavaliers\n",
      "Detroit Pistons更換名稱為DET Pistons\n",
      "1.50 2.70\n",
      "2021-11-13 09:00:00\n",
      "Houston Rockets更換名稱為HOU Rockets\n",
      "Portland Trail Blazers更換名稱為POR Trail Blazers\n",
      "3.05 1.40\n",
      "2021-11-13 09:00:00\n",
      "Memphis Grizzlies更換名稱為MEM Grizzlies\n",
      "Phoenix Suns更換名稱為PHX Suns\n",
      "2.00 1.83\n",
      "2021-11-13 09:00:00\n",
      "New Orleans Pelicans更換名稱為NO Pelicans\n",
      "Brooklyn Nets更換名稱為BKN Nets\n",
      "4.50 1.22\n",
      "2021-11-13 09:00:00\n",
      "Oklahoma City Thunder更換名稱為OKC Thunder\n",
      "Sacramento Kings更換名稱為SAC Kings\n",
      "2.65 1.54\n",
      "2021-11-13 09:30:00\n",
      "San Antonio Spurs更換名稱為SA Spurs\n",
      "Dallas Mavericks更換名稱為DAL Mavericks\n",
      "2.20 1.71\n",
      "2021-11-13 10:00:00\n",
      "Denver Nuggets更換名稱為DEN Nuggets\n",
      "Atlanta Hawks更換名稱為ATL Hawks\n",
      "1.60 2.45\n",
      "2021-11-13 11:00:00\n",
      "Golden State Warriors更換名稱為GS Warriors\n",
      "Chicago Bulls更換名稱為CHI Bulls\n",
      "1.44 2.85\n",
      "2021-11-13 11:30:00\n",
      "Los Angeles Lakers更換名稱為LA Lakers\n",
      "Minnesota Timberwolves更換名稱為MIN Timberwolves\n",
      "1.76 2.10\n",
      "2021-11-14 06:00:00\n",
      "Utah Jazz更換名稱為UTA Jazz\n",
      "Miami Heat更換名稱為MIA Heat\n",
      "1.34 3.35\n",
      "2021-11-14 08:00:00\n",
      "Indiana Pacers更換名稱為IND Pacers\n",
      "Philadelphia 76ers更換名稱為PHI 76ers\n",
      "1.60 2.45\n",
      "2021-11-14 08:00:00\n",
      "New Orleans Pelicans更換名稱為NO Pelicans\n",
      "Memphis Grizzlies更換名稱為MEM Grizzlies\n",
      "2.40 1.62\n",
      "2021-11-14 08:00:00\n",
      "Orlando Magic更換名稱為ORL Magic\n",
      "Washington Wizards更換名稱為WAS Wizards\n",
      "2.60 1.55\n",
      "2021-11-14 08:30:00\n",
      "Toronto Raptors更換名稱為TOR Raptors\n",
      "Detroit Pistons更換名稱為DET Pistons\n",
      "1.26 4.00\n",
      "2021-11-14 09:00:00\n",
      "Cleveland Cavaliers更換名稱為CLE Cavaliers\n",
      "Boston Celtics更換名稱為BOS Celtics\n",
      "2.05 1.80\n",
      "2021-11-14 11:30:00\n",
      "Los Angeles Clippers更換名稱為LA Clippers\n",
      "Minnesota Timberwolves更換名稱為MIN Timberwolves\n",
      "1.35 3.30\n",
      "2021-11-15 04:30:00\n",
      "Los Angeles Lakers更換名稱為LA Lakers\n",
      "San Antonio Spurs更換名稱為SA Spurs\n",
      "1.68 2.25\n",
      "2021-11-15 07:00:00\n",
      "Atlanta Hawks更換名稱為ATL Hawks\n",
      "Milwaukee Bucks更換名稱為MIL Bucks\n",
      "1.80 2.05\n",
      "2021-11-15 08:00:00\n",
      "Charlotte Hornets更換名稱為CHA Hornets\n",
      "Golden State Warriors更換名稱為GS Warriors\n",
      "2.75 1.47\n",
      "2021-11-15 08:00:00\n",
      "Houston Rockets更換名稱為HOU Rockets\n",
      "Phoenix Suns更換名稱為PHX Suns\n",
      "4.00 1.26\n",
      "2021-11-15 08:00:00\n",
      "Oklahoma City Thunder更換名稱為OKC Thunder\n",
      "Brooklyn Nets更換名稱為BKN Nets\n",
      "4.20 1.25\n",
      "2021-11-15 09:00:00\n",
      "Denver Nuggets更換名稱為DEN Nuggets\n",
      "Portland Trail Blazers更換名稱為POR Trail Blazers\n",
      "1.40 3.05\n",
      "2021-11-15 10:30:00\n",
      "Los Angeles Clippers更換名稱為LA Clippers\n",
      "Chicago Bulls更換名稱為CHI Bulls\n",
      "1.58 2.50\n",
      "2021-11-16 08:00:00\n",
      "Cleveland Cavaliers更換名稱為CLE Cavaliers\n",
      "Boston Celtics更換名稱為BOS Celtics\n",
      "2.50 1.58\n",
      "2021-11-16 08:00:00\n",
      "Detroit Pistons更換名稱為DET Pistons\n",
      "Sacramento Kings更換名稱為SAC Kings\n",
      "2.55 1.57\n",
      "2021-11-16 08:00:00\n",
      "Washington Wizards更換名稱為WAS Wizards\n",
      "New Orleans Pelicans更換名稱為NO Pelicans\n",
      "1.55 2.60\n",
      "2021-11-16 08:30:00\n",
      "Atlanta Hawks更換名稱為ATL Hawks\n",
      "Orlando Magic更換名稱為ORL Magic\n",
      "1.18 5.25\n",
      "2021-11-16 08:30:00\n",
      "New York Knicks更換名稱為NY Knicks\n",
      "Indiana Pacers更換名稱為IND Pacers\n",
      "1.62 2.40\n",
      "2021-11-16 09:00:00\n",
      "Dallas Mavericks更換名稱為DAL Mavericks\n",
      "Denver Nuggets更換名稱為DEN Nuggets\n",
      "1.47 2.75\n",
      "2021-11-16 09:00:00\n",
      "Memphis Grizzlies更換名稱為MEM Grizzlies\n",
      "Houston Rockets更換名稱為HOU Rockets\n",
      "1.13 6.25\n",
      "2021-11-16 09:00:00\n",
      "Minnesota Timberwolves更換名稱為MIN Timberwolves\n",
      "Phoenix Suns更換名稱為PHX Suns\n",
      "2.55 1.57\n",
      "2021-11-16 09:00:00\n",
      "Oklahoma City Thunder更換名稱為OKC Thunder\n",
      "Miami Heat更換名稱為MIA Heat\n",
      "4.20 1.25\n",
      "2021-11-16 11:00:00\n",
      "Portland Trail Blazers更換名稱為POR Trail Blazers\n",
      "Toronto Raptors更換名稱為TOR Raptors\n",
      "1.76 2.10\n",
      "2021-11-16 11:30:00\n",
      "Los Angeles Lakers更換名稱為LA Lakers\n",
      "Chicago Bulls更換名稱為CHI Bulls\n",
      "2.05 1.80\n",
      "2021-11-17 08:30:00\n",
      "Brooklyn Nets更換名稱為BKN Nets\n",
      "Golden State Warriors更換名稱為GS Warriors\n",
      "1.71 2.20\n",
      "2021-11-17 11:00:00\n",
      "Utah Jazz更換名稱為UTA Jazz\n",
      "Philadelphia 76ers更換名稱為PHI 76ers\n",
      "1.22 4.50\n",
      "2021-11-17 11:30:00\n",
      "Los Angeles Clippers更換名稱為LA Clippers\n",
      "San Antonio Spurs更換名稱為SA Spurs\n",
      "1.33 3.40\n",
      "2021-11-18 08:00:00\n",
      "Charlotte Hornets更換名稱為CHA Hornets\n",
      "Washington Wizards更換名稱為WAS Wizards\n",
      "1.90 1.90\n",
      "2021-11-18 08:00:00\n",
      "Detroit Pistons更換名稱為DET Pistons\n",
      "Indiana Pacers更換名稱為IND Pacers\n",
      "3.30 1.35\n",
      "2021-11-18 08:30:00\n",
      "Atlanta Hawks更換名稱為ATL Hawks\n",
      "Boston Celtics更換名稱為BOS Celtics\n",
      "1.50 2.70\n",
      "2021-11-18 08:30:00\n",
      "Brooklyn Nets更換名稱為BKN Nets\n",
      "Cleveland Cavaliers更換名稱為CLE Cavaliers\n",
      "1.20 4.75\n",
      "2021-11-18 08:30:00\n",
      "Miami Heat更換名稱為MIA Heat\n",
      "New Orleans Pelicans更換名稱為NO Pelicans\n",
      "1.35 3.30\n",
      "2021-11-18 08:30:00\n",
      "Milwaukee Bucks更換名稱為MIL Bucks\n",
      "Los Angeles Lakers更換名稱為LA Lakers\n",
      "1.23 4.25\n",
      "2021-11-18 08:30:00\n",
      "New York Knicks更換名稱為NY Knicks\n",
      "Orlando Magic更換名稱為ORL Magic\n",
      "1.13 6.25\n",
      "2021-11-18 09:00:00\n",
      "Minnesota Timberwolves更換名稱為MIN Timberwolves\n",
      "Sacramento Kings更換名稱為SAC Kings\n",
      "1.71 2.20\n",
      "2021-11-18 09:00:00\n",
      "Oklahoma City Thunder更換名稱為OKC Thunder\n",
      "Houston Rockets更換名稱為HOU Rockets\n",
      "1.66 2.30\n",
      "2021-11-18 11:00:00\n",
      "Phoenix Suns更換名稱為PHX Suns\n",
      "Dallas Mavericks更換名稱為DAL Mavericks\n",
      "1.26 4.00\n",
      "2021-11-18 11:00:00\n",
      "Portland Trail Blazers更換名稱為POR Trail Blazers\n",
      "Chicago Bulls更換名稱為CHI Bulls\n",
      "1.83 2.00\n",
      "2021-11-19 08:30:00\n",
      "Cleveland Cavaliers更換名稱為CLE Cavaliers\n",
      "Golden State Warriors更換名稱為GS Warriors\n",
      "4.25 1.23\n",
      "2021-11-19 08:30:00\n",
      "Miami Heat更換名稱為MIA Heat\n",
      "Washington Wizards更換名稱為WAS Wizards\n",
      "1.41 3.00\n",
      "2021-11-19 09:00:00\n",
      "Memphis Grizzlies更換名稱為MEM Grizzlies\n",
      "Los Angeles Clippers更換名稱為LA Clippers\n",
      "1.86 1.95\n",
      "2021-11-19 09:00:00\n",
      "Minnesota Timberwolves更換名稱為MIN Timberwolves\n",
      "San Antonio Spurs更換名稱為SA Spurs\n",
      "1.76 2.10\n",
      "2021-11-19 10:00:00\n",
      "Denver Nuggets更換名稱為DEN Nuggets\n",
      "Philadelphia 76ers更換名稱為PHI 76ers\n",
      "1.30 3.65\n",
      "2021-11-19 10:00:00\n",
      "Utah Jazz更換名稱為UTA Jazz\n",
      "Toronto Raptors更換名稱為TOR Raptors\n",
      "1.19 5.00\n",
      "2021-11-20 08:00:00\n",
      "Charlotte Hornets更換名稱為CHA Hornets\n",
      "Indiana Pacers更換名稱為IND Pacers\n",
      "1.95 1.86\n",
      "2021-11-20 08:00:00\n",
      "Detroit Pistons更換名稱為DET Pistons\n",
      "Golden State Warriors更換名稱為GS Warriors\n",
      "2.10 1.76\n",
      "2021-11-20 08:30:00\n",
      "Boston Celtics更換名稱為BOS Celtics\n",
      "Los Angeles Lakers更換名稱為LA Lakers\n",
      "1.76 2.10\n",
      "2021-11-20 08:30:00\n",
      "Brooklyn Nets更換名稱為BKN Nets\n",
      "Orlando Magic更換名稱為ORL Magic\n",
      "1.20 4.75\n",
      "2021-11-20 09:00:00\n",
      "Milwaukee Bucks更換名稱為MIL Bucks\n",
      "Oklahoma City Thunder更換名稱為OKC Thunder\n",
      "1.11 7.00\n",
      "2021-11-20 09:00:00\n",
      "New Orleans Pelicans更換名稱為NO Pelicans\n",
      "Los Angeles Clippers更換名稱為LA Clippers\n",
      "2.60 1.55\n",
      "2021-11-20 10:00:00\n",
      "Denver Nuggets更換名稱為DEN Nuggets\n",
      "Chicago Bulls更換名稱為CHI Bulls\n",
      "1.86 1.95\n",
      "2021-11-20 11:00:00\n",
      "Phoenix Suns更換名稱為PHX Suns\n",
      "Dallas Mavericks更換名稱為DAL Mavericks\n",
      "1.28 3.75\n",
      "2021-11-20 11:00:00\n",
      "Sacramento Kings更換名稱為SAC Kings\n",
      "Toronto Raptors更換名稱為TOR Raptors\n",
      "1.64 2.35\n",
      "2021-11-21 06:00:00\n",
      "New York Knicks更換名稱為NY Knicks\n",
      "Houston Rockets更換名稱為HOU Rockets\n",
      "1.14 6.00\n",
      "2021-11-21 08:00:00\n",
      "Indiana Pacers更換名稱為IND Pacers\n",
      "New Orleans Pelicans更換名稱為NO Pelicans\n",
      "1.32 3.50\n",
      "2021-11-21 08:00:00\n",
      "Washington Wizards更換名稱為WAS Wizards\n",
      "Miami Heat更換名稱為MIA Heat\n",
      "2.15 1.74\n",
      "2021-11-21 08:30:00\n",
      "Atlanta Hawks更換名稱為ATL Hawks\n",
      "Charlotte Hornets更換名稱為CHA Hornets\n",
      "1.35 3.30\n",
      "2021-11-21 08:30:00\n",
      "Boston Celtics更換名稱為BOS Celtics\n",
      "Oklahoma City Thunder更換名稱為OKC Thunder\n",
      "1.23 4.25\n",
      "2021-11-21 09:00:00\n",
      "Milwaukee Bucks更換名稱為MIL Bucks\n",
      "Orlando Magic更換名稱為ORL Magic\n",
      "1.12 6.50\n",
      "2021-11-21 09:00:00\n",
      "Minnesota Timberwolves更換名稱為MIN Timberwolves\n",
      "Memphis Grizzlies更換名稱為MEM Grizzlies\n",
      "1.71 2.20\n",
      "2021-11-21 11:00:00\n",
      "Portland Trail Blazers更換名稱為POR Trail Blazers\n",
      "Philadelphia 76ers更換名稱為PHI 76ers\n",
      "1.37 3.20\n",
      "2021-11-21 11:00:00\n",
      "Sacramento Kings更換名稱為SAC Kings\n",
      "Utah Jazz更換名稱為UTA Jazz\n",
      "3.65 1.30\n",
      "2021-11-22 04:30:00\n",
      "Los Angeles Clippers更換名稱為LA Clippers\n",
      "Dallas Mavericks更換名稱為DAL Mavericks\n",
      "1.66 2.30\n",
      "2021-11-22 07:00:00\n",
      "Detroit Pistons更換名稱為DET Pistons\n",
      "Los Angeles Lakers更換名稱為LA Lakers\n",
      "3.55 1.31\n",
      "2021-11-22 09:00:00\n",
      "Chicago Bulls更換名稱為CHI Bulls\n",
      "New York Knicks更換名稱為NY Knicks\n",
      "1.47 2.75\n",
      "2021-11-22 09:00:00\n",
      "Phoenix Suns更換名稱為PHX Suns\n",
      "Denver Nuggets更換名稱為DEN Nuggets\n",
      "1.28 3.75\n",
      "2021-11-22 09:30:00\n",
      "Golden State Warriors更換名稱為GS Warriors\n",
      "Toronto Raptors更換名稱為TOR Raptors\n",
      "1.20 4.75\n",
      "2021-11-23 08:00:00\n",
      "Cleveland Cavaliers更換名稱為CLE Cavaliers\n",
      "Brooklyn Nets更換名稱為BKN Nets\n",
      "2.90 1.43\n",
      "2021-11-23 08:00:00\n",
      "Washington Wizards更換名稱為WAS Wizards\n",
      "Charlotte Hornets更換名稱為CHA Hornets\n",
      "1.55 2.60\n",
      "2021-11-23 08:30:00\n",
      "Atlanta Hawks更換名稱為ATL Hawks\n",
      "Oklahoma City Thunder更換名稱為OKC Thunder\n",
      "1.11 7.00\n",
      "2021-11-23 08:30:00\n",
      "Boston Celtics更換名稱為BOS Celtics\n",
      "Houston Rockets更換名稱為HOU Rockets\n",
      "1.13 6.25\n",
      "2021-11-23 09:00:00\n",
      "Chicago Bulls更換名稱為CHI Bulls\n",
      "Indiana Pacers更換名稱為IND Pacers\n",
      "1.80 2.05\n",
      "2021-11-23 09:00:00\n",
      "Milwaukee Bucks更換名稱為MIL Bucks\n",
      "Orlando Magic更換名稱為ORL Magic\n",
      "1.10 7.50\n",
      "2021-11-23 09:00:00\n",
      "New Orleans Pelicans更換名稱為NO Pelicans\n",
      "Minnesota Timberwolves更換名稱為MIN Timberwolves\n",
      "2.30 1.66\n",
      "2021-11-23 09:30:00\n",
      "San Antonio Spurs更換名稱為SA Spurs\n",
      "Phoenix Suns更換名稱為PHX Suns\n",
      "2.80 1.45\n",
      "2021-11-23 10:00:00\n",
      "Utah Jazz更換名稱為UTA Jazz\n",
      "Memphis Grizzlies更換名稱為MEM Grizzlies\n",
      "1.18 5.25\n",
      "2021-11-23 11:00:00\n",
      "Sacramento Kings更換名稱為SAC Kings\n",
      "Philadelphia 76ers更換名稱為PHI 76ers\n",
      "1.60 2.45\n",
      "2021-11-24 08:00:00\n",
      "Detroit Pistons更換名稱為DET Pistons\n",
      "Miami Heat更換名稱為MIA Heat\n",
      "4.75 1.20\n",
      "2021-11-24 08:30:00\n",
      "New York Knicks更換名稱為NY Knicks\n",
      "Los Angeles Lakers更換名稱為LA Lakers\n",
      "1.43 2.90\n",
      "2021-11-24 11:00:00\n",
      "Portland Trail Blazers更換名稱為POR Trail Blazers\n",
      "Denver Nuggets更換名稱為DEN Nuggets\n",
      "1.37 3.20\n",
      "2021-11-24 11:30:00\n",
      "Los Angeles Clippers更換名稱為LA Clippers\n",
      "Dallas Mavericks更換名稱為DAL Mavericks\n",
      "1.60 2.45\n",
      "2021-11-25 08:00:00\n",
      "Cleveland Cavaliers更換名稱為CLE Cavaliers\n",
      "Phoenix Suns更換名稱為PHX Suns\n",
      "3.45 1.32\n",
      "2021-11-25 08:00:00\n",
      "Indiana Pacers更換名稱為IND Pacers\n",
      "Los Angeles Lakers更換名稱為LA Lakers\n",
      "1.38 3.15\n",
      "2021-11-25 08:00:00\n",
      "Orlando Magic更換名稱為ORL Magic\n",
      "Charlotte Hornets更換名稱為CHA Hornets\n",
      "3.65 1.30\n",
      "2021-11-25 08:30:00\n",
      "Boston Celtics更換名稱為BOS Celtics\n",
      "Brooklyn Nets更換名稱為BKN Nets\n",
      "1.95 1.86\n",
      "2021-11-25 09:00:00\n",
      "Houston Rockets更換名稱為HOU Rockets\n",
      "Chicago Bulls更換名稱為CHI Bulls\n",
      "4.75 1.20\n",
      "2021-11-25 09:00:00\n",
      "Memphis Grizzlies更換名稱為MEM Grizzlies\n",
      "Toronto Raptors更換名稱為TOR Raptors\n",
      "1.66 2.30\n",
      "2021-11-25 09:00:00\n",
      "Milwaukee Bucks更換名稱為MIL Bucks\n",
      "Detroit Pistons更換名稱為DET Pistons\n",
      "1.06 10.00\n",
      "2021-11-25 09:00:00\n",
      "Minnesota Timberwolves更換名稱為MIN Timberwolves\n",
      "Miami Heat更換名稱為MIA Heat\n",
      "1.95 1.86\n",
      "2021-11-25 09:00:00\n",
      "New Orleans Pelicans更換名稱為NO Pelicans\n",
      "Washington Wizards更換名稱為WAS Wizards\n",
      "2.55 1.57\n",
      "2021-11-25 09:00:00\n",
      "Oklahoma City Thunder更換名稱為OKC Thunder\n",
      "Utah Jazz更換名稱為UTA Jazz\n",
      "8.00 1.09\n",
      "2021-11-25 09:30:00\n",
      "San Antonio Spurs更換名稱為SA Spurs\n",
      "Atlanta Hawks更換名稱為ATL Hawks\n",
      "2.45 1.60\n",
      "2021-11-25 11:00:00\n",
      "Golden State Warriors更換名稱為GS Warriors\n",
      "Philadelphia 76ers更換名稱為PHI 76ers\n",
      "1.19 5.00\n",
      "2021-11-25 11:00:00\n",
      "Sacramento Kings更換名稱為SAC Kings\n",
      "Portland Trail Blazers更換名稱為POR Trail Blazers\n",
      "2.10 1.76\n",
      "2021-11-27 04:30:00\n",
      "Los Angeles Clippers更換名稱為LA Clippers\n",
      "Detroit Pistons更換名稱為DET Pistons\n",
      "1.11 6.75\n",
      "2021-11-27 08:00:00\n",
      "Charlotte Hornets更換名稱為CHA Hornets\n",
      "Minnesota Timberwolves更換名稱為MIN Timberwolves\n",
      "1.74 2.15\n",
      "2021-11-27 08:00:00\n",
      "New York Knicks更換名稱為NY Knicks\n",
      "Phoenix Suns更換名稱為PHX Suns\n",
      "2.40 1.62\n",
      "2021-11-27 08:00:00\n",
      "Orlando Magic更換名稱為ORL Magic\n",
      "Chicago Bulls更換名稱為CHI Bulls\n",
      "4.50 1.22\n",
      "2021-11-27 09:00:00\n",
      "Indiana Pacers更換名稱為IND Pacers\n",
      "Toronto Raptors更換名稱為TOR Raptors\n",
      "1.57 2.55\n",
      "2021-11-27 09:00:00\n",
      "Memphis Grizzlies更換名稱為MEM Grizzlies\n",
      "Atlanta Hawks更換名稱為ATL Hawks\n",
      "1.86 1.95\n",
      "2021-11-27 09:00:00\n",
      "Oklahoma City Thunder更換名稱為OKC Thunder\n",
      "Washington Wizards更換名稱為WAS Wizards\n",
      "3.70 1.29\n",
      "2021-11-27 09:30:00\n",
      "San Antonio Spurs更換名稱為SA Spurs\n",
      "Boston Celtics更換名稱為BOS Celtics\n",
      "2.60 1.55\n",
      "2021-11-27 10:00:00\n",
      "Denver Nuggets更換名稱為DEN Nuggets\n",
      "Milwaukee Bucks更換名稱為MIL Bucks\n",
      "2.45 1.60\n",
      "2021-11-27 10:00:00\n",
      "Utah Jazz更換名稱為UTA Jazz\n",
      "New Orleans Pelicans更換名稱為NO Pelicans\n",
      "1.10 7.25\n",
      "2021-11-27 11:00:00\n",
      "Golden State Warriors更換名稱為GS Warriors\n",
      "Portland Trail Blazers更換名稱為POR Trail Blazers\n",
      "1.41 3.00\n",
      "2021-11-27 11:30:00\n",
      "Los Angeles Lakers更換名稱為LA Lakers\n",
      "Sacramento Kings更換名稱為SAC Kings\n",
      "1.26 4.00\n",
      "2021-11-28 07:00:00\n",
      "Philadelphia 76ers更換名稱為PHI 76ers\n",
      "Minnesota Timberwolves更換名稱為MIN Timberwolves\n",
      "1.47 2.75\n",
      "2021-11-28 08:30:00\n",
      "Atlanta Hawks更換名稱為ATL Hawks\n",
      "New York Knicks更換名稱為NY Knicks\n",
      "1.37 3.20\n",
      "2021-11-28 08:30:00\n",
      "Brooklyn Nets更換名稱為BKN Nets\n",
      "Phoenix Suns更換名稱為PHX Suns\n",
      "1.76 2.10\n",
      "2021-11-28 09:00:00\n",
      "Chicago Bulls更換名稱為CHI Bulls\n",
      "Miami Heat更換名稱為MIA Heat\n",
      "2.00 1.83\n",
      "2021-11-28 09:00:00\n",
      "Cleveland Cavaliers更換名稱為CLE Cavaliers\n",
      "Orlando Magic更換名稱為ORL Magic\n",
      "1.20 4.75\n",
      "2021-11-28 09:00:00\n",
      "Houston Rockets更換名稱為HOU Rockets\n",
      "Charlotte Hornets更換名稱為CHA Hornets\n",
      "2.80 1.45\n",
      "2021-11-28 09:30:00\n",
      "Dallas Mavericks更換名稱為DAL Mavericks\n",
      "Washington Wizards更換名稱為WAS Wizards\n",
      "1.36 3.25\n",
      "2021-11-28 10:00:00\n",
      "Utah Jazz更換名稱為UTA Jazz\n",
      "New Orleans Pelicans更換名稱為NO Pelicans\n",
      "1.09 8.00\n",
      "2021-11-29 04:30:00\n",
      "Los Angeles Clippers更換名稱為LA Clippers\n",
      "Golden State Warriors更換名稱為GS Warriors\n",
      "2.30 1.66\n",
      "2021-11-29 06:00:00\n",
      "Indiana Pacers更換名稱為IND Pacers\n",
      "Milwaukee Bucks更換名稱為MIL Bucks\n",
      "2.40 1.62\n",
      "2021-11-29 07:00:00\n",
      "Memphis Grizzlies更換名稱為MEM Grizzlies\n",
      "Sacramento Kings更換名稱為SAC Kings\n",
      "1.83 2.00\n",
      "2021-11-29 07:00:00\n",
      "Toronto Raptors更換名稱為TOR Raptors\n",
      "Boston Celtics更換名稱為BOS Celtics\n",
      "1.80 2.05\n",
      "2021-11-29 10:30:00\n",
      "Los Angeles Lakers更換名稱為LA Lakers\n",
      "Detroit Pistons更換名稱為DET Pistons\n",
      "1.20 4.75\n",
      "2021-11-30 08:00:00\n",
      "Philadelphia 76ers更換名稱為PHI 76ers\n",
      "Orlando Magic更換名稱為ORL Magic\n",
      "1.10 7.50\n",
      "2021-11-30 08:30:00\n",
      "Miami Heat更換名稱為MIA Heat\n",
      "Denver Nuggets更換名稱為DEN Nuggets\n",
      "1.71 2.20\n",
      "2021-11-30 09:00:00\n",
      "Chicago Bulls更換名稱為CHI Bulls\n",
      "Charlotte Hornets更換名稱為CHA Hornets\n",
      "1.57 2.55\n",
      "2021-11-30 09:00:00\n",
      "Houston Rockets更換名稱為HOU Rockets\n",
      "Oklahoma City Thunder更換名稱為OKC Thunder\n",
      "1.74 2.15\n",
      "2021-11-30 09:00:00\n",
      "Minnesota Timberwolves更換名稱為MIN Timberwolves\n",
      "Indiana Pacers更換名稱為IND Pacers\n",
      "1.71 2.20\n",
      "2021-11-30 09:30:00\n",
      "Dallas Mavericks更換名稱為DAL Mavericks\n",
      "Cleveland Cavaliers更換名稱為CLE Cavaliers\n",
      "1.37 3.20\n",
      "2021-11-30 09:30:00\n",
      "San Antonio Spurs更換名稱為SA Spurs\n",
      "Washington Wizards更換名稱為WAS Wizards\n",
      "2.35 1.64\n",
      "2021-11-30 10:00:00\n",
      "Utah Jazz更換名稱為UTA Jazz\n",
      "Portland Trail Blazers更換名稱為POR Trail Blazers\n",
      "1.35 3.30\n",
      "2021-11-30 11:30:00\n",
      "Los Angeles Clippers更換名稱為LA Clippers\n",
      "New Orleans Pelicans更換名稱為NO Pelicans\n",
      "1.35 3.30\n",
      "2021-12-01 08:30:00\n",
      "Brooklyn Nets更換名稱為BKN Nets\n",
      "New York Knicks更換名稱為NY Knicks\n",
      "1.41 3.00\n",
      "2021-12-01 08:30:00\n",
      "Toronto Raptors更換名稱為TOR Raptors\n",
      "Memphis Grizzlies更換名稱為MEM Grizzlies\n",
      "0 0\n",
      "2021-12-01 11:00:00\n",
      "Phoenix Suns更換名稱為PHX Suns\n",
      "Golden State Warriors更換名稱為GS Warriors\n",
      "1.66 2.30\n",
      "2021-12-01 11:00:00\n",
      "Portland Trail Blazers更換名稱為POR Trail Blazers\n",
      "Detroit Pistons更換名稱為DET Pistons\n",
      "1.34 3.35\n",
      "2021-12-01 11:00:00\n",
      "Sacramento Kings更換名稱為SAC Kings\n",
      "Los Angeles Lakers更換名稱為LA Lakers\n",
      "2.50 1.58\n",
      "2021-12-02 08:00:00\n",
      "Indiana Pacers更換名稱為IND Pacers\n",
      "Atlanta Hawks更換名稱為ATL Hawks\n",
      "1.80 2.05\n",
      "2021-12-02 08:00:00\n",
      "Orlando Magic更換名稱為ORL Magic\n",
      "Denver Nuggets更換名稱為DEN Nuggets\n",
      "3.80 1.27\n",
      "2021-12-02 08:00:00\n",
      "Washington Wizards更換名稱為WAS Wizards\n",
      "Minnesota Timberwolves更換名稱為MIN Timberwolves\n",
      "1.62 2.40\n",
      "2021-12-02 08:30:00\n",
      "Boston Celtics更換名稱為BOS Celtics\n",
      "Philadelphia 76ers更換名稱為PHI 76ers\n",
      "1.66 2.30\n",
      "2021-12-02 08:30:00\n",
      "Miami Heat更換名稱為MIA Heat\n",
      "Cleveland Cavaliers更換名稱為CLE Cavaliers\n",
      "1.71 2.20\n",
      "2021-12-02 09:00:00\n",
      "Milwaukee Bucks更換名稱為MIL Bucks\n",
      "Charlotte Hornets更換名稱為CHA Hornets\n",
      "1.26 4.00\n",
      "2021-12-02 09:00:00\n",
      "New Orleans Pelicans更換名稱為NO Pelicans\n",
      "Dallas Mavericks更換名稱為DAL Mavericks\n",
      "2.45 1.60\n",
      "2021-12-02 09:00:00\n",
      "Oklahoma City Thunder更換名稱為OKC Thunder\n",
      "Houston Rockets更換名稱為HOU Rockets\n",
      "1.74 2.15\n",
      "2021-12-02 11:30:00\n",
      "Los Angeles Clippers更換名稱為LA Clippers\n",
      "Sacramento Kings更換名稱為SAC Kings\n",
      "1.41 3.00\n",
      "2021-12-03 08:30:00\n",
      "New York Knicks更換名稱為NY Knicks\n",
      "Chicago Bulls更換名稱為CHI Bulls\n",
      "2.10 1.76\n",
      "2021-12-03 08:30:00\n",
      "Toronto Raptors更換名稱為TOR Raptors\n",
      "Milwaukee Bucks更換名稱為MIL Bucks\n",
      "2.70 1.50\n",
      "2021-12-03 09:00:00\n",
      "Memphis Grizzlies更換名稱為MEM Grizzlies\n",
      "Oklahoma City Thunder更換名稱為OKC Thunder\n",
      "1.18 5.25\n",
      "2021-12-03 10:00:00\n",
      "Phoenix Suns更換名稱為PHX Suns\n",
      "Detroit Pistons更換名稱為DET Pistons\n",
      "1.12 6.50\n",
      "2021-12-03 11:00:00\n",
      "Portland Trail Blazers更換名稱為POR Trail Blazers\n",
      "San Antonio Spurs更換名稱為SA Spurs\n",
      "1.50 2.70\n",
      "2021-12-04 08:00:00\n",
      "Indiana Pacers更換名稱為IND Pacers\n",
      "Miami Heat更換名稱為MIA Heat\n",
      "1.45 2.80\n",
      "2021-12-04 08:00:00\n",
      "Washington Wizards更換名稱為WAS Wizards\n",
      "Cleveland Cavaliers更換名稱為CLE Cavaliers\n",
      "1.66 2.30\n",
      "2021-12-04 08:30:00\n",
      "Atlanta Hawks更換名稱為ATL Hawks\n",
      "Philadelphia 76ers更換名稱為PHI 76ers\n",
      "1.68 2.25\n",
      "2021-12-04 08:30:00\n",
      "Brooklyn Nets更換名稱為BKN Nets\n",
      "Minnesota Timberwolves更換名稱為MIN Timberwolves\n",
      "1.32 3.50\n",
      "2021-12-04 09:00:00\n",
      "Houston Rockets更換名稱為HOU Rockets\n",
      "Orlando Magic更換名稱為ORL Magic\n",
      "1.68 2.25\n",
      "2021-12-04 09:30:00\n",
      "Dallas Mavericks更換名稱為DAL Mavericks\n",
      "New Orleans Pelicans更換名稱為NO Pelicans\n",
      "1.37 3.20\n",
      "2021-12-04 10:00:00\n",
      "Utah Jazz更換名稱為UTA Jazz\n",
      "Boston Celtics更換名稱為BOS Celtics\n",
      "1.27 3.80\n",
      "2021-12-04 11:00:00\n",
      "Golden State Warriors更換名稱為GS Warriors\n",
      "Phoenix Suns更換名稱為PHX Suns\n",
      "1.33 3.40\n",
      "2021-12-04 11:00:00\n",
      "Los Angeles Lakers更換名稱為LA Lakers\n",
      "Los Angeles Clippers更換名稱為LA Clippers\n",
      "1.71 2.20\n",
      "2021-12-05 02:00:00\n",
      "New York Knicks更換名稱為NY Knicks\n",
      "Denver Nuggets更換名稱為DEN Nuggets\n",
      "1.76 2.10\n",
      "2021-12-05 09:00:00\n",
      "Brooklyn Nets更換名稱為BKN Nets\n",
      "Chicago Bulls更換名稱為CHI Bulls\n",
      "1.68 2.25\n",
      "2021-12-05 09:00:00\n",
      "Milwaukee Bucks更換名稱為MIL Bucks\n",
      "Miami Heat更換名稱為MIA Heat\n",
      "1.40 3.10\n",
      "2021-12-05 09:30:00\n",
      "Dallas Mavericks更換名稱為DAL Mavericks\n",
      "Memphis Grizzlies更換名稱為MEM Grizzlies\n",
      "2.00 1.83\n",
      "2021-12-05 09:30:00\n",
      "Golden State Warriors更換名稱為GS Warriors\n",
      "San Antonio Spurs更換名稱為SA Spurs\n",
      "1.23 4.25\n",
      "2021-12-05 11:00:00\n",
      "Portland Trail Blazers更換名稱為POR Trail Blazers\n",
      "Boston Celtics更換名稱為BOS Celtics\n",
      "1.83 2.00\n",
      "2021-12-05 11:00:00\n",
      "Sacramento Kings更換名稱為SAC Kings\n",
      "Los Angeles Clippers更換名稱為LA Clippers\n",
      "2.05 1.80\n",
      "2021-12-06 04:30:00\n",
      "Cleveland Cavaliers更換名稱為CLE Cavaliers\n",
      "Utah Jazz更換名稱為UTA Jazz\n",
      "2.65 1.54\n",
      "2021-12-06 07:00:00\n",
      "Atlanta Hawks更換名稱為ATL Hawks\n",
      "Charlotte Hornets更換名稱為CHA Hornets\n",
      "1.34 3.35\n",
      "2021-12-06 07:00:00\n",
      "Toronto Raptors更換名稱為TOR Raptors\n",
      "Washington Wizards更換名稱為WAS Wizards\n",
      "1.90 1.90\n",
      "2021-12-06 08:00:00\n",
      "Houston Rockets更換名稱為HOU Rockets\n",
      "New Orleans Pelicans更換名稱為NO Pelicans\n",
      "2.25 1.68\n",
      "2021-12-07 08:00:00\n",
      "Charlotte Hornets更換名稱為CHA Hornets\n",
      "Philadelphia 76ers更換名稱為PHI 76ers\n",
      "3.60 1.31\n",
      "2021-12-07 08:00:00\n",
      "Detroit Pistons更換名稱為DET Pistons\n",
      "Oklahoma City Thunder更換名稱為OKC Thunder\n",
      "1.66 2.30\n",
      "2021-12-07 08:00:00\n",
      "Indiana Pacers更換名稱為IND Pacers\n",
      "Washington Wizards更換名稱為WAS Wizards\n",
      "1.44 2.85\n",
      "2021-12-07 08:30:00\n",
      "Miami Heat更換名稱為MIA Heat\n",
      "Memphis Grizzlies更換名稱為MEM Grizzlies\n",
      "1.41 3.00\n",
      "2021-12-07 09:00:00\n",
      "Chicago Bulls更換名稱為CHI Bulls\n",
      "Denver Nuggets更換名稱為DEN Nuggets\n",
      "1.76 2.10\n",
      "2021-12-07 09:00:00\n",
      "Milwaukee Bucks更換名稱為MIL Bucks\n",
      "Cleveland Cavaliers更換名稱為CLE Cavaliers\n",
      "1.32 3.50\n",
      "2021-12-07 09:00:00\n",
      "Minnesota Timberwolves更換名稱為MIN Timberwolves\n",
      "Atlanta Hawks更換名稱為ATL Hawks\n",
      "1.66 2.30\n",
      "2021-12-07 10:00:00\n",
      "Phoenix Suns更換名稱為PHX Suns\n",
      "San Antonio Spurs更換名稱為SA Spurs\n",
      "1.32 3.45\n",
      "2021-12-07 11:00:00\n",
      "Golden State Warriors更換名稱為GS Warriors\n",
      "Orlando Magic更換名稱為ORL Magic\n",
      "1.05 12.00\n",
      "2021-12-07 11:00:00\n",
      "Portland Trail Blazers更換名稱為POR Trail Blazers\n",
      "Los Angeles Clippers更換名稱為LA Clippers\n",
      "2.30 1.66\n",
      "2021-12-08 08:30:00\n",
      "Dallas Mavericks更換名稱為DAL Mavericks\n",
      "Brooklyn Nets更換名稱為BKN Nets\n",
      "2.05 1.80\n",
      "2021-12-08 09:30:00\n",
      "San Antonio Spurs更換名稱為SA Spurs\n",
      "New York Knicks更換名稱為NY Knicks\n",
      "2.00 1.83\n",
      "2021-12-08 11:00:00\n",
      "Los Angeles Lakers更換名稱為LA Lakers\n",
      "Boston Celtics更換名稱為BOS Celtics\n",
      "1.57 2.55\n",
      "2021-12-09 08:00:00\n",
      "Charlotte Hornets更換名稱為CHA Hornets\n",
      "Philadelphia 76ers更換名稱為PHI 76ers\n",
      "3.10 1.40\n",
      "2021-12-09 08:00:00\n",
      "Cleveland Cavaliers更換名稱為CLE Cavaliers\n",
      "Chicago Bulls更換名稱為CHI Bulls\n",
      "1.64 2.35\n",
      "2021-12-09 08:00:00\n",
      "Detroit Pistons更換名稱為DET Pistons\n",
      "Washington Wizards更換名稱為WAS Wizards\n",
      "2.75 1.47\n",
      "2021-12-09 08:00:00\n",
      "Indiana Pacers更換名稱為IND Pacers\n",
      "New York Knicks更換名稱為NY Knicks\n",
      "1.50 2.70\n",
      "2021-12-09 08:30:00\n",
      "Miami Heat更換名稱為MIA Heat\n",
      "Milwaukee Bucks更換名稱為MIL Bucks\n",
      "3.10 1.40\n",
      "2021-12-09 08:30:00\n",
      "Toronto Raptors更換名稱為TOR Raptors\n",
      "Oklahoma City Thunder更換名稱為OKC Thunder\n",
      "1.31 3.60\n",
      "2021-12-09 09:00:00\n",
      "Houston Rockets更換名稱為HOU Rockets\n",
      "Brooklyn Nets更換名稱為BKN Nets\n",
      "2.40 1.62\n",
      "2021-12-09 09:00:00\n",
      "Memphis Grizzlies更換名稱為MEM Grizzlies\n",
      "Dallas Mavericks更換名稱為DAL Mavericks\n",
      "1.74 2.15\n",
      "2021-12-09 09:00:00\n",
      "Minnesota Timberwolves更換名稱為MIN Timberwolves\n",
      "Utah Jazz更換名稱為UTA Jazz\n",
      "3.20 1.37\n",
      "2021-12-09 09:00:00\n",
      "New Orleans Pelicans更換名稱為NO Pelicans\n",
      "Denver Nuggets更換名稱為DEN Nuggets\n",
      "2.10 1.76\n",
      "2021-12-09 11:00:00\n",
      "Golden State Warriors更換名稱為GS Warriors\n",
      "Portland Trail Blazers更換名稱為POR Trail Blazers\n",
      "1.06 10.00\n",
      "2021-12-09 11:00:00\n",
      "Sacramento Kings更換名稱為SAC Kings\n",
      "Orlando Magic更換名稱為ORL Magic\n",
      "1.34 3.35\n",
      "2021-12-09 11:30:00\n",
      "Los Angeles Clippers更換名稱為LA Clippers\n",
      "Boston Celtics更換名稱為BOS Celtics\n",
      "1.64 2.35\n",
      "2021-12-10 08:00:00\n",
      "Philadelphia 76ers更換名稱為PHI 76ers\n",
      "Utah Jazz更換名稱為UTA Jazz\n",
      "2.25 1.68\n",
      "2021-12-10 09:00:00\n",
      "Memphis Grizzlies更換名稱為MEM Grizzlies\n",
      "Los Angeles Lakers更換名稱為LA Lakers\n",
      "2.40 1.62\n",
      "2021-12-10 09:30:00\n",
      "San Antonio Spurs更換名稱為SA Spurs\n",
      "Denver Nuggets更換名稱為DEN Nuggets\n",
      "1.74 2.15\n",
      "2021-12-11 08:00:00\n",
      "Charlotte Hornets更換名稱為CHA Hornets\n",
      "Sacramento Kings更換名稱為SAC Kings\n",
      "2.00 1.83\n",
      "2021-12-11 08:00:00\n",
      "Indiana Pacers更換名稱為IND Pacers\n",
      "Dallas Mavericks更換名稱為DAL Mavericks\n",
      "1.76 2.10\n",
      "2021-12-11 08:30:00\n",
      "Atlanta Hawks更換名稱為ATL Hawks\n",
      "Brooklyn Nets更換名稱為BKN Nets\n",
      "1.76 2.10\n",
      "2021-12-11 08:30:00\n",
      "Toronto Raptors更換名稱為TOR Raptors\n",
      "New York Knicks更換名稱為NY Knicks\n",
      "1.80 2.05\n",
      "2021-12-11 09:00:00\n",
      "Houston Rockets更換名稱為HOU Rockets\n",
      "Milwaukee Bucks更換名稱為MIL Bucks\n",
      "4.25 1.23\n",
      "2021-12-11 09:00:00\n",
      "Minnesota Timberwolves更換名稱為MIN Timberwolves\n",
      "Cleveland Cavaliers更換名稱為CLE Cavaliers\n",
      "2.05 1.80\n",
      "2021-12-11 09:00:00\n",
      "New Orleans Pelicans更換名稱為NO Pelicans\n",
      "Detroit Pistons更換名稱為DET Pistons\n",
      "1.40 3.05\n",
      "2021-12-11 09:00:00\n",
      "Oklahoma City Thunder更換名稱為OKC Thunder\n",
      "Los Angeles Lakers更換名稱為LA Lakers\n",
      "2.65 1.54\n",
      "2021-12-11 11:00:00\n",
      "Phoenix Suns更換名稱為PHX Suns\n",
      "Boston Celtics更換名稱為BOS Celtics\n",
      "1.57 2.55\n",
      "2021-12-12 04:30:00\n",
      "Los Angeles Clippers更換名稱為LA Clippers\n",
      "Orlando Magic更換名稱為ORL Magic\n",
      "1.23 4.25\n",
      "2021-12-12 08:00:00\n",
      "Washington Wizards更換名稱為WAS Wizards\n",
      "Utah Jazz更換名稱為UTA Jazz\n",
      "3.35 1.34\n",
      "2021-12-12 09:00:00\n",
      "Cleveland Cavaliers更換名稱為CLE Cavaliers\n",
      "Sacramento Kings更換名稱為SAC Kings\n",
      "1.37 3.20\n",
      "2021-12-12 09:00:00\n",
      "Memphis Grizzlies更換名稱為MEM Grizzlies\n",
      "Houston Rockets更換名稱為HOU Rockets\n",
      "1.28 3.75\n",
      "2021-12-12 09:00:00\n",
      "Miami Heat更換名稱為MIA Heat\n",
      "Chicago Bulls更換名稱為CHI Bulls\n",
      "2.05 1.80\n",
      "2021-12-12 09:30:00\n",
      "Philadelphia 76ers更換名稱為PHI 76ers\n",
      "Golden State Warriors更換名稱為GS Warriors\n",
      "2.25 1.68\n",
      "2021-12-12 09:30:00\n",
      "San Antonio Spurs更換名稱為SA Spurs\n",
      "Denver Nuggets更換名稱為DEN Nuggets\n",
      "1.90 1.90\n",
      "2021-12-13 01:00:00\n",
      "New York Knicks更換名稱為NY Knicks\n",
      "Milwaukee Bucks更換名稱為MIL Bucks\n",
      "3.05 1.40\n",
      "2021-12-13 07:00:00\n",
      "Detroit Pistons更換名稱為DET Pistons\n",
      "Brooklyn Nets更換名稱為BKN Nets\n",
      "4.00 1.26\n",
      "2021-12-13 08:00:00\n",
      "Oklahoma City Thunder更換名稱為OKC Thunder\n",
      "Dallas Mavericks更換名稱為DAL Mavericks\n",
      "2.55 1.57\n",
      "2021-12-13 08:00:00\n",
      "San Antonio Spurs更換名稱為SA Spurs\n",
      "New Orleans Pelicans更換名稱為NO Pelicans\n",
      "1.76 2.10\n",
      "2021-12-13 10:00:00\n",
      "Portland Trail Blazers更換名稱為POR Trail Blazers\n",
      "Minnesota Timberwolves更換名稱為MIN Timberwolves\n",
      "1.86 1.95\n",
      "2021-12-13 10:30:00\n",
      "Los Angeles Lakers更換名稱為LA Lakers\n",
      "Orlando Magic更換名稱為ORL Magic\n",
      "1.18 5.25\n",
      "2021-12-14 08:00:00\n",
      "Cleveland Cavaliers更換名稱為CLE Cavaliers\n",
      "Miami Heat更換名稱為MIA Heat\n",
      "1.47 2.75\n",
      "2021-12-14 08:00:00\n",
      "Indiana Pacers更換名稱為IND Pacers\n",
      "Golden State Warriors更換名稱為GS Warriors\n",
      "2.50 1.58\n",
      "2021-12-14 08:00:00\n",
      "Toronto Raptors更換名稱為TOR Raptors\n",
      "Sacramento Kings更換名稱為SAC Kings\n",
      "1.54 2.65\n",
      "2021-12-14 08:30:00\n",
      "Atlanta Hawks更換名稱為ATL Hawks\n",
      "Houston Rockets更換名稱為HOU Rockets\n",
      "1.18 5.25\n",
      "2021-12-14 08:30:00\n",
      "Boston Celtics更換名稱為BOS Celtics\n",
      "Milwaukee Bucks更換名稱為MIL Bucks\n",
      "1.86 1.95\n",
      "2021-12-14 09:00:00\n",
      "Memphis Grizzlies更換名稱為MEM Grizzlies\n",
      "Philadelphia 76ers更換名稱為PHI 76ers\n",
      "2.50 1.58\n",
      "2021-12-14 09:30:00\n",
      "Dallas Mavericks更換名稱為DAL Mavericks\n",
      "Charlotte Hornets更換名稱為CHA Hornets\n",
      "1.71 2.20\n",
      "2021-12-14 10:00:00\n",
      "Denver Nuggets更換名稱為DEN Nuggets\n",
      "Washington Wizards更換名稱為WAS Wizards\n",
      "1.62 2.40\n",
      "2021-12-14 11:30:00\n",
      "Los Angeles Clippers更換名稱為LA Clippers\n",
      "Phoenix Suns更換名稱為PHX Suns\n",
      "2.25 1.68\n",
      "2021-12-15 08:30:00\n",
      "Brooklyn Nets更換名稱為BKN Nets\n",
      "Toronto Raptors更換名稱為TOR Raptors\n",
      "1.40 3.10\n",
      "2021-12-15 08:30:00\n",
      "New York Knicks更換名稱為NY Knicks\n",
      "Golden State Warriors更換名稱為GS Warriors\n",
      "2.95 1.42\n",
      "2021-12-15 11:00:00\n",
      "Portland Trail Blazers更換名稱為POR Trail Blazers\n",
      "Phoenix Suns更換名稱為PHX Suns\n",
      "2.05 1.80\n",
      "2021-12-16 08:00:00\n",
      "Cleveland Cavaliers更換名稱為CLE Cavaliers\n",
      "Houston Rockets更換名稱為HOU Rockets\n",
      "1.22 4.50\n",
      "2021-12-16 08:00:00\n",
      "Orlando Magic更換名稱為ORL Magic\n",
      "Atlanta Hawks更換名稱為ATL Hawks\n",
      "3.60 1.31\n",
      "2021-12-16 08:00:00\n",
      "Philadelphia 76ers更換名稱為PHI 76ers\n",
      "Miami Heat更換名稱為MIA Heat\n",
      "1.35 3.30\n",
      "2021-12-16 08:30:00\n",
      "Dallas Mavericks更換名稱為DAL Mavericks\n",
      "Los Angeles Lakers更換名稱為LA Lakers\n",
      "2.20 1.71\n",
      "2021-12-16 09:00:00\n",
      "Milwaukee Bucks更換名稱為MIL Bucks\n",
      "Indiana Pacers更換名稱為IND Pacers\n",
      "2.40 1.62\n",
      "2021-12-16 09:00:00\n",
      "Oklahoma City Thunder更換名稱為OKC Thunder\n",
      "New Orleans Pelicans更換名稱為NO Pelicans\n",
      "2.60 1.55\n",
      "2021-12-16 09:30:00\n",
      "San Antonio Spurs更換名稱為SA Spurs\n",
      "Charlotte Hornets更換名稱為CHA Hornets\n",
      "1.62 2.40\n",
      "2021-12-16 10:00:00\n",
      "Denver Nuggets更換名稱為DEN Nuggets\n",
      "Minnesota Timberwolves更換名稱為MIN Timberwolves\n",
      "1.57 2.55\n",
      "2021-12-16 11:00:00\n",
      "Portland Trail Blazers更換名稱為POR Trail Blazers\n",
      "Memphis Grizzlies更換名稱為MEM Grizzlies\n",
      "2.15 1.74\n",
      "2021-12-16 11:00:00\n",
      "Sacramento Kings更換名稱為SAC Kings\n",
      "Washington Wizards更換名稱為WAS Wizards\n",
      "2.20 1.71\n",
      "2021-12-16 11:00:00\n",
      "Utah Jazz更換名稱為UTA Jazz\n",
      "Los Angeles Clippers更換名稱為LA Clippers\n",
      "1.23 4.25\n",
      "2021-12-17 08:00:00\n",
      "Indiana Pacers更換名稱為IND Pacers\n",
      "Detroit Pistons更換名稱為DET Pistons\n",
      "1.20 4.75\n",
      "2021-12-17 08:30:00\n",
      "Brooklyn Nets更換名稱為BKN Nets\n",
      "Philadelphia 76ers更換名稱為PHI 76ers\n",
      "2.10 1.76\n",
      "2021-12-17 09:00:00\n",
      "Houston Rockets更換名稱為HOU Rockets\n",
      "New York Knicks更換名稱為NY Knicks\n",
      "2.65 1.54\n",
      "2021-12-17 10:00:00\n",
      "Phoenix Suns更換名稱為PHX Suns\n",
      "Washington Wizards更換名稱為WAS Wizards\n",
      "1.23 4.25\n",
      "2021-12-18 08:00:00\n",
      "Orlando Magic更換名稱為ORL Magic\n",
      "Miami Heat更換名稱為MIA Heat\n",
      "4.25 1.23\n",
      "2021-12-18 08:30:00\n",
      "Atlanta Hawks更換名稱為ATL Hawks\n",
      "Denver Nuggets更換名稱為DEN Nuggets\n",
      "1.62 2.40\n",
      "2021-12-18 08:30:00\n",
      "Boston Celtics更換名稱為BOS Celtics\n",
      "Golden State Warriors更換名稱為GS Warriors\n",
      "2.75 1.47\n",
      "2021-12-18 09:00:00\n",
      "New Orleans Pelicans更換名稱為NO Pelicans\n",
      "Milwaukee Bucks更換名稱為MIL Bucks\n",
      "2.10 1.76\n",
      "2021-12-18 10:00:00\n",
      "Utah Jazz更換名稱為UTA Jazz\n",
      "San Antonio Spurs更換名稱為SA Spurs\n",
      "1.14 6.00\n",
      "2021-12-18 11:00:00\n",
      "Minnesota Timberwolves更換名稱為MIN Timberwolves\n",
      "Los Angeles Lakers更換名稱為LA Lakers\n",
      "2.00 1.83\n",
      "2021-12-18 11:00:00\n",
      "Portland Trail Blazers更換名稱為POR Trail Blazers\n",
      "Charlotte Hornets更換名稱為CHA Hornets\n",
      "1.74 2.15\n",
      "2021-12-18 11:00:00\n",
      "Sacramento Kings更換名稱為SAC Kings\n",
      "Memphis Grizzlies更換名稱為MEM Grizzlies\n",
      "3.30 1.35\n",
      "2021-12-19 01:00:00\n",
      "Detroit Pistons更換名稱為DET Pistons\n",
      "Houston Rockets更換名稱為HOU Rockets\n",
      "1.90 1.90\n",
      "2021-12-19 08:00:00\n",
      "Boston Celtics更換名稱為BOS Celtics\n",
      "New York Knicks更換名稱為NY Knicks\n",
      "1.45 2.80\n",
      "2021-12-19 08:30:00\n",
      "Brooklyn Nets更換名稱為BKN Nets\n",
      "Orlando Magic更換名稱為ORL Magic\n",
      "1.47 2.75\n",
      "2021-12-19 08:30:00\n",
      "Toronto Raptors更換名稱為TOR Raptors\n",
      "Golden State Warriors更換名稱為GS Warriors\n",
      "1.29 3.70\n",
      "2021-12-19 09:00:00\n",
      "Oklahoma City Thunder更換名稱為OKC Thunder\n",
      "Los Angeles Clippers更換名稱為LA Clippers\n",
      "2.65 1.54\n",
      "2021-12-19 10:00:00\n",
      "Milwaukee Bucks更換名稱為MIL Bucks\n",
      "Cleveland Cavaliers更換名稱為CLE Cavaliers\n",
      "2.35 1.64\n",
      "2021-12-19 10:00:00\n",
      "Utah Jazz更換名稱為UTA Jazz\n",
      "Washington Wizards更換名稱為WAS Wizards\n",
      "1.22 4.50\n",
      "2021-12-20 07:00:00\n",
      "Detroit Pistons更換名稱為DET Pistons\n",
      "Miami Heat更換名稱為MIA Heat\n",
      "3.30 1.35\n",
      "2021-12-20 07:00:00\n",
      "Memphis Grizzlies更換名稱為MEM Grizzlies\n",
      "Portland Trail Blazers更換名稱為POR Trail Blazers\n",
      "1.47 2.75\n",
      "2021-12-20 07:00:00\n",
      "Sacramento Kings更換名稱為SAC Kings\n",
      "San Antonio Spurs更換名稱為SA Spurs\n",
      "2.75 1.47\n",
      "2021-12-20 09:00:00\n",
      "Chicago Bulls更換名稱為CHI Bulls\n",
      "Los Angeles Lakers更換名稱為LA Lakers\n",
      "1.36 3.25\n",
      "2021-12-20 09:00:00\n",
      "Minnesota Timberwolves更換名稱為MIN Timberwolves\n",
      "Dallas Mavericks更換名稱為DAL Mavericks\n",
      "1.68 2.25\n",
      "2021-12-20 09:00:00\n",
      "Phoenix Suns更換名稱為PHX Suns\n",
      "Charlotte Hornets更換名稱為CHA Hornets\n",
      "1.26 4.00\n",
      "2021-12-21 08:30:00\n",
      "Boston Celtics更換名稱為BOS Celtics\n",
      "Philadelphia 76ers更換名稱為PHI 76ers\n",
      "1.47 2.75\n",
      "2021-12-21 09:00:00\n",
      "Chicago Bulls更換名稱為CHI Bulls\n",
      "Houston Rockets更換名稱為HOU Rockets\n",
      "1.38 3.15\n",
      "2021-12-21 09:00:00\n",
      "Memphis Grizzlies更換名稱為MEM Grizzlies\n",
      "Oklahoma City Thunder更換名稱為OKC Thunder\n",
      "1.22 4.50\n",
      "2021-12-21 10:00:00\n",
      "Utah Jazz更換名稱為UTA Jazz\n",
      "Charlotte Hornets更換名稱為CHA Hornets\n",
      "1.11 7.00\n",
      "2021-12-21 11:00:00\n",
      "Golden State Warriors更換名稱為GS Warriors\n",
      "Sacramento Kings更換名稱為SAC Kings\n",
      "1.11 6.75\n",
      "2021-12-21 11:30:00\n",
      "Los Angeles Clippers更換名稱為LA Clippers\n",
      "San Antonio Spurs更換名稱為SA Spurs\n",
      "1.54 2.65\n",
      "2021-12-22 08:30:00\n",
      "Miami Heat更換名稱為MIA Heat\n",
      "Indiana Pacers更換名稱為IND Pacers\n",
      "2.10 1.76\n",
      "2021-12-22 08:30:00\n",
      "New York Knicks更換名稱為NY Knicks\n",
      "Detroit Pistons更換名稱為DET Pistons\n",
      "1.34 3.35\n",
      "2021-12-22 09:00:00\n",
      "New Orleans Pelicans更換名稱為NO Pelicans\n",
      "Portland Trail Blazers更換名稱為POR Trail Blazers\n",
      "1.76 2.10\n",
      "2021-12-22 09:30:00\n",
      "Dallas Mavericks更換名稱為DAL Mavericks\n",
      "Minnesota Timberwolves更換名稱為MIN Timberwolves\n",
      "1.95 1.86\n",
      "2021-12-22 11:00:00\n",
      "Los Angeles Lakers更換名稱為LA Lakers\n",
      "Phoenix Suns更換名稱為PHX Suns\n",
      "3.40 1.33\n",
      "2021-12-23 08:30:00\n",
      "Atlanta Hawks更換名稱為ATL Hawks\n",
      "Orlando Magic更換名稱為ORL Magic\n",
      "1.33 3.40\n",
      "2021-12-23 08:30:00\n",
      "Boston Celtics更換名稱為BOS Celtics\n",
      "Cleveland Cavaliers更換名稱為CLE Cavaliers\n",
      "1.40 3.10\n",
      "2021-12-23 09:00:00\n",
      "Milwaukee Bucks更換名稱為MIL Bucks\n",
      "Houston Rockets更換名稱為HOU Rockets\n",
      "1.22 4.50\n",
      "2021-12-23 09:00:00\n",
      "Oklahoma City Thunder更換名稱為OKC Thunder\n",
      "Denver Nuggets更換名稱為DEN Nuggets\n",
      "3.05 1.40\n",
      "2021-12-23 11:00:00\n",
      "Sacramento Kings更換名稱為SAC Kings\n",
      "Los Angeles Clippers更換名稱為LA Clippers\n",
      "2.70 1.50\n",
      "2021-12-24 08:00:00\n",
      "Indiana Pacers更換名稱為IND Pacers\n",
      "Houston Rockets更換名稱為HOU Rockets\n",
      "1.38 3.15\n",
      "2021-12-24 08:00:00\n",
      "Orlando Magic更換名稱為ORL Magic\n",
      "New Orleans Pelicans更換名稱為NO Pelicans\n",
      "2.67 1.52\n",
      "2021-12-24 08:00:00\n",
      "Philadelphia 76ers更換名稱為PHI 76ers\n",
      "Atlanta Hawks更換名稱為ATL Hawks\n",
      "1.15 5.75\n",
      "2021-12-24 08:30:00\n",
      "Miami Heat更換名稱為MIA Heat\n",
      "Detroit Pistons更換名稱為DET Pistons\n",
      "1.11 6.75\n",
      "2021-12-24 08:30:00\n",
      "New York Knicks更換名稱為NY Knicks\n",
      "Washington Wizards更換名稱為WAS Wizards\n",
      "1.71 2.20\n",
      "2021-12-24 09:30:00\n",
      "Dallas Mavericks更換名稱為DAL Mavericks\n",
      "Milwaukee Bucks更換名稱為MIL Bucks\n",
      "2.35 1.64\n",
      "2021-12-24 10:00:00\n",
      "Denver Nuggets更換名稱為DEN Nuggets\n",
      "Charlotte Hornets更換名稱為CHA Hornets\n",
      "1.66 2.30\n",
      "2021-12-24 10:00:00\n",
      "Phoenix Suns更換名稱為PHX Suns\n",
      "Oklahoma City Thunder更換名稱為OKC Thunder\n",
      "1.07 9.50\n",
      "2021-12-24 10:00:00\n",
      "Utah Jazz更換名稱為UTA Jazz\n",
      "Minnesota Timberwolves更換名稱為MIN Timberwolves\n",
      "1.07 9.00\n",
      "2021-12-24 11:00:00\n",
      "Golden State Warriors更換名稱為GS Warriors\n",
      "Memphis Grizzlies更換名稱為MEM Grizzlies\n",
      "1.44 2.85\n",
      "2021-12-24 11:30:00\n",
      "Los Angeles Lakers更換名稱為LA Lakers\n",
      "San Antonio Spurs更換名稱為SA Spurs\n",
      "1.83 2.00\n",
      "2021-12-26 01:00:00\n",
      "New York Knicks更換名稱為NY Knicks\n",
      "Atlanta Hawks更換名稱為ATL Hawks\n",
      "1.42 2.95\n",
      "2021-12-26 03:30:00\n",
      "Milwaukee Bucks更換名稱為MIL Bucks\n",
      "Boston Celtics更換名稱為BOS Celtics\n",
      "1.37 3.20\n",
      "2021-12-26 06:00:00\n",
      "Phoenix Suns更換名稱為PHX Suns\n",
      "Golden State Warriors更換名稱為GS Warriors\n",
      "1.41 3.00\n",
      "2021-12-26 09:00:00\n",
      "Los Angeles Lakers更換名稱為LA Lakers\n",
      "Brooklyn Nets更換名稱為BKN Nets\n",
      "1.76 2.10\n",
      "2021-12-26 11:30:00\n",
      "Utah Jazz更換名稱為UTA Jazz\n",
      "Dallas Mavericks更換名稱為DAL Mavericks\n",
      "1.10 7.50\n",
      "2021-12-27 04:30:00\n",
      "Miami Heat更換名稱為MIA Heat\n",
      "Orlando Magic更換名稱為ORL Magic\n",
      "1.25 4.20\n",
      "2021-12-27 07:00:00\n",
      "Cleveland Cavaliers更換名稱為CLE Cavaliers\n",
      "Toronto Raptors更換名稱為TOR Raptors\n",
      "1.29 3.70\n",
      "2021-12-27 07:00:00\n",
      "Sacramento Kings更換名稱為SAC Kings\n",
      "Memphis Grizzlies更換名稱為MEM Grizzlies\n",
      "2.70 1.50\n",
      "2021-12-27 07:00:00\n",
      "Washington Wizards更換名稱為WAS Wizards\n",
      "Philadelphia 76ers更換名稱為PHI 76ers\n",
      "2.40 1.62\n",
      "2021-12-27 08:00:00\n",
      "Oklahoma City Thunder更換名稱為OKC Thunder\n",
      "New Orleans Pelicans更換名稱為NO Pelicans\n",
      "2.05 1.80\n",
      "2021-12-27 08:00:00\n",
      "San Antonio Spurs更換名稱為SA Spurs\n",
      "Detroit Pistons更換名稱為DET Pistons\n",
      "1.20 4.75\n",
      "2021-12-27 09:00:00\n",
      "Chicago Bulls更換名稱為CHI Bulls\n",
      "Indiana Pacers更換名稱為IND Pacers\n",
      "1.38 3.15\n",
      "2021-12-27 10:00:00\n",
      "Los Angeles Clippers更換名稱為LA Clippers\n",
      "Denver Nuggets更換名稱為DEN Nuggets\n",
      "2.50 1.58\n",
      "2021-12-28 08:00:00\n",
      "Charlotte Hornets更換名稱為CHA Hornets\n",
      "Houston Rockets更換名稱為HOU Rockets\n",
      "1.28 3.75\n",
      "2021-12-28 08:30:00\n",
      "Atlanta Hawks更換名稱為ATL Hawks\n",
      "Chicago Bulls更換名稱為CHI Bulls\n",
      "2.30 1.66\n",
      "2021-12-28 09:00:00\n",
      "Minnesota Timberwolves更換名稱為MIN Timberwolves\n",
      "Boston Celtics更換名稱為BOS Celtics\n",
      "2.85 1.44\n",
      "2021-12-28 09:30:00\n",
      "San Antonio Spurs更換名稱為SA Spurs\n",
      "Utah Jazz更換名稱為UTA Jazz\n",
      "3.15 1.38\n",
      "2021-12-28 10:00:00\n",
      "Phoenix Suns更換名稱為PHX Suns\n",
      "Memphis Grizzlies更換名稱為MEM Grizzlies\n",
      "1.32 3.50\n",
      "2021-12-28 11:00:00\n",
      "Portland Trail Blazers更換名稱為POR Trail Blazers\n",
      "Dallas Mavericks更換名稱為DAL Mavericks\n",
      "1.86 1.95\n",
      "2021-12-28 11:30:00\n",
      "Los Angeles Clippers更換名稱為LA Clippers\n",
      "Brooklyn Nets更換名稱為BKN Nets\n",
      "2.45 1.60\n",
      "2021-12-29 08:00:00\n",
      "Orlando Magic更換名稱為ORL Magic\n",
      "Milwaukee Bucks更換名稱為MIL Bucks\n",
      "8.50 1.08\n",
      "2021-12-29 08:30:00\n",
      "Miami Heat更換名稱為MIA Heat\n",
      "Washington Wizards更換名稱為WAS Wizards\n",
      "1.29 3.70\n",
      "2021-12-29 08:30:00\n",
      "Toronto Raptors更換名稱為TOR Raptors\n",
      "Philadelphia 76ers更換名稱為PHI 76ers\n",
      "3.00 1.41\n",
      "2021-12-29 09:00:00\n",
      "Houston Rockets更換名稱為HOU Rockets\n",
      "Los Angeles Lakers更換名稱為LA Lakers\n",
      "2.85 1.44\n",
      "2021-12-29 09:00:00\n",
      "Minnesota Timberwolves更換名稱為MIN Timberwolves\n",
      "New York Knicks更換名稱為NY Knicks\n",
      "2.67 1.52\n",
      "2021-12-29 09:00:00\n",
      "New Orleans Pelicans更換名稱為NO Pelicans\n",
      "Cleveland Cavaliers更換名稱為CLE Cavaliers\n",
      "2.65 1.54\n",
      "2021-12-29 11:00:00\n",
      "Golden State Warriors更換名稱為GS Warriors\n",
      "Denver Nuggets更換名稱為DEN Nuggets\n",
      "1.31 3.55\n",
      "2021-12-29 11:00:00\n",
      "Sacramento Kings更換名稱為SAC Kings\n",
      "Oklahoma City Thunder更換名稱為OKC Thunder\n",
      "1.44 2.85\n",
      "2021-12-30 08:00:00\n",
      "Detroit Pistons更換名稱為DET Pistons\n",
      "New York Knicks更換名稱為NY Knicks\n",
      "3.90 1.27\n",
      "2021-12-30 08:00:00\n",
      "Indiana Pacers更換名稱為IND Pacers\n",
      "Charlotte Hornets更換名稱為CHA Hornets\n",
      "1.64 2.35\n",
      "2021-12-30 08:30:00\n",
      "Boston Celtics更換名稱為BOS Celtics\n",
      "Los Angeles Clippers更換名稱為LA Clippers\n",
      "1.42 2.95\n",
      "2021-12-30 09:00:00\n",
      "Chicago Bulls更換名稱為CHI Bulls\n",
      "Atlanta Hawks更換名稱為ATL Hawks\n",
      "1.28 3.75\n",
      "2021-12-30 09:00:00\n",
      "Memphis Grizzlies更換名稱為MEM Grizzlies\n",
      "Los Angeles Lakers更換名稱為LA Lakers\n",
      "1.44 2.85\n",
      "2021-12-30 10:00:00\n",
      "Phoenix Suns更換名稱為PHX Suns\n",
      "Oklahoma City Thunder更換名稱為OKC Thunder\n",
      "1.07 9.00\n",
      "2021-12-30 11:00:00\n",
      "Portland Trail Blazers更換名稱為POR Trail Blazers\n",
      "Utah Jazz更換名稱為UTA Jazz\n",
      "3.50 1.32\n",
      "2021-12-30 11:30:00\n",
      "Sacramento Kings更換名稱為SAC Kings\n",
      "Dallas Mavericks更換名稱為DAL Mavericks\n",
      "2.00 1.83\n",
      "2021-12-31 08:00:00\n",
      "Brooklyn Nets更換名稱為BKN Nets\n",
      "Philadelphia 76ers更換名稱為PHI 76ers\n",
      "1.50 2.70\n",
      "2021-12-31 08:00:00\n",
      "Orlando Magic更換名稱為ORL Magic\n",
      "Milwaukee Bucks更換名稱為MIL Bucks\n",
      "8.50 1.08\n",
      "2021-12-31 08:00:00\n",
      "Washington Wizards更換名稱為WAS Wizards\n",
      "Cleveland Cavaliers更換名稱為CLE Cavaliers\n",
      "1.57 2.55\n",
      "2022-01-01 02:00:00\n",
      "Boston Celtics更換名稱為BOS Celtics\n",
      "Phoenix Suns更換名稱為PHX Suns\n",
      "2.60 1.55\n",
      "2022-01-01 04:00:00\n",
      "Indiana Pacers更換名稱為IND Pacers\n",
      "Chicago Bulls更換名稱為CHI Bulls\n",
      "2.60 1.55\n",
      "2022-01-01 07:00:00\n",
      "Sacramento Kings更換名稱為SAC Kings\n",
      "Dallas Mavericks更換名稱為DAL Mavericks\n",
      "1.95 1.86\n",
      "2022-01-01 08:00:00\n",
      "Houston Rockets更換名稱為HOU Rockets\n",
      "Miami Heat更換名稱為MIA Heat\n",
      "2.75 1.47\n",
      "2022-01-01 08:30:00\n",
      "Cleveland Cavaliers更換名稱為CLE Cavaliers\n",
      "Atlanta Hawks更換名稱為ATL Hawks\n",
      "1.80 2.05\n",
      "2022-01-01 08:30:00\n",
      "Toronto Raptors更換名稱為TOR Raptors\n",
      "Los Angeles Clippers更換名稱為LA Clippers\n",
      "1.38 3.15\n",
      "2022-01-01 09:00:00\n",
      "Memphis Grizzlies更換名稱為MEM Grizzlies\n",
      "San Antonio Spurs更換名稱為SA Spurs\n",
      "1.44 2.85\n",
      "2022-01-01 09:00:00\n",
      "Oklahoma City Thunder更換名稱為OKC Thunder\n",
      "New York Knicks更換名稱為NY Knicks\n",
      "2.55 1.57\n",
      "2022-01-01 10:00:00\n",
      "Utah Jazz更換名稱為UTA Jazz\n",
      "Minnesota Timberwolves更換名稱為MIN Timberwolves\n",
      "1.11 6.75\n",
      "2022-01-01 11:30:00\n",
      "Los Angeles Lakers更換名稱為LA Lakers\n",
      "Portland Trail Blazers更換名稱為POR Trail Blazers\n",
      "1.47 2.75\n",
      "2022-01-02 07:30:00\n",
      "Milwaukee Bucks更換名稱為MIL Bucks\n",
      "New Orleans Pelicans更換名稱為NO Pelicans\n",
      "1.15 5.75\n",
      "2022-01-02 08:00:00\n",
      "Detroit Pistons更換名稱為DET Pistons\n",
      "San Antonio Spurs更換名稱為SA Spurs\n",
      "3.20 1.37\n",
      "2022-01-02 08:00:00\n",
      "Washington Wizards更換名稱為WAS Wizards\n",
      "Chicago Bulls更換名稱為CHI Bulls\n",
      "2.10 1.76\n",
      "2022-01-02 08:30:00\n",
      "Brooklyn Nets更換名稱為BKN Nets\n",
      "Los Angeles Clippers更換名稱為LA Clippers\n",
      "1.10 7.50\n",
      "2022-01-02 09:00:00\n",
      "Houston Rockets更換名稱為HOU Rockets\n",
      "Denver Nuggets更換名稱為DEN Nuggets\n",
      "3.25 1.36\n",
      "2022-01-02 10:00:00\n",
      "Utah Jazz更換名稱為UTA Jazz\n",
      "Golden State Warriors更換名稱為GS Warriors\n",
      "1.54 2.65\n",
      "2022-01-03 04:30:00\n",
      "Toronto Raptors更換名稱為TOR Raptors\n",
      "New York Knicks更換名稱為NY Knicks\n",
      "1.26 4.00\n",
      "2022-01-03 07:00:00\n",
      "Boston Celtics更換名稱為BOS Celtics\n",
      "Orlando Magic更換名稱為ORL Magic\n",
      "1.14 6.00\n",
      "2022-01-03 07:00:00\n",
      "Cleveland Cavaliers更換名稱為CLE Cavaliers\n",
      "Indiana Pacers更換名稱為IND Pacers\n",
      "1.66 2.30\n",
      "2022-01-03 07:00:00\n",
      "Sacramento Kings更換名稱為SAC Kings\n",
      "Miami Heat更換名稱為MIA Heat\n",
      "2.45 1.60\n",
      "2022-01-03 08:00:00\n",
      "Charlotte Hornets更換名稱為CHA Hornets\n",
      "Phoenix Suns更換名稱為PHX Suns\n",
      "2.05 1.80\n",
      "2022-01-03 08:00:00\n",
      "Oklahoma City Thunder更換名稱為OKC Thunder\n",
      "Dallas Mavericks更換名稱為DAL Mavericks\n",
      "5.00 1.19\n",
      "2022-01-03 10:30:00\n",
      "Los Angeles Lakers更換名稱為LA Lakers\n",
      "Minnesota Timberwolves更換名稱為MIN Timberwolves\n",
      "1.27 3.80\n",
      "2022-01-04 08:00:00\n",
      "Philadelphia 76ers更換名稱為PHI 76ers\n",
      "Houston Rockets更換名稱為HOU Rockets\n",
      "1.10 7.50\n",
      "2022-01-04 08:00:00\n",
      "Washington Wizards更換名稱為WAS Wizards\n",
      "Charlotte Hornets更換名稱為CHA Hornets\n",
      "1.80 2.05\n",
      "2022-01-04 08:30:00\n",
      "Brooklyn Nets更換名稱為BKN Nets\n",
      "Memphis Grizzlies更換名稱為MEM Grizzlies\n",
      "1.40 3.10\n",
      "2022-01-04 09:00:00\n",
      "Chicago Bulls更換名稱為CHI Bulls\n",
      "Orlando Magic更換名稱為ORL Magic\n",
      "1.08 8.50\n",
      "2022-01-04 09:00:00\n",
      "Milwaukee Bucks更換名稱為MIL Bucks\n",
      "Detroit Pistons更換名稱為DET Pistons\n",
      "1.05 12.25\n",
      "2022-01-04 09:00:00\n",
      "New Orleans Pelicans更換名稱為NO Pelicans\n",
      "Utah Jazz更換名稱為UTA Jazz\n",
      "4.75 1.20\n",
      "2022-01-04 09:30:00\n",
      "Dallas Mavericks更換名稱為DAL Mavericks\n",
      "Denver Nuggets更換名稱為DEN Nuggets\n",
      "1.66 2.30\n",
      "2022-01-04 11:00:00\n",
      "Golden State Warriors更換名稱為GS Warriors\n",
      "Miami Heat更換名稱為MIA Heat\n",
      "1.18 5.25\n",
      "2022-01-04 11:00:00\n",
      "Portland Trail Blazers更換名稱為POR Trail Blazers\n",
      "Atlanta Hawks更換名稱為ATL Hawks\n",
      "2.60 1.55\n",
      "2022-01-04 11:30:00\n",
      "Los Angeles Clippers更換名稱為LA Clippers\n",
      "Minnesota Timberwolves更換名稱為MIN Timberwolves\n",
      "1.68 2.25\n",
      "2022-01-05 08:00:00\n",
      "Cleveland Cavaliers更換名稱為CLE Cavaliers\n",
      "Memphis Grizzlies更換名稱為MEM Grizzlies\n",
      "1.64 2.35\n"
     ]
    },
    {
     "data": {
      "text/plain": "            homeRslt      gmDate gmTime                homeAbbr  home_games  \\\nUnnamed: 0                                                                    \n0                  1  2014-10-28  20:00    New Orleans Pelicans           1   \n1                  1  2014-10-28  20:00       San Antonio Spurs           1   \n2                  0  2014-10-28  22:30      Los Angeles Lakers           1   \n3                  1  2014-10-29  19:00       Charlotte Hornets           1   \n4                  1  2014-10-29  19:00          Indiana Pacers           1   \n...              ...         ...    ...                     ...         ...   \n8389               1  2022-01-03  20:30        Dallas Mavericks          37   \n8390               1  2022-01-03  22:00   Golden State Warriors          36   \n8391               1  2022-01-03  22:00  Portland Trail Blazers          36   \n8392               0  2022-01-03  22:30    Los Angeles Clippers          38   \n8393               0  2022-01-04  19:00     Cleveland Cavaliers          38   \n\n            home1x2FirstOptionRate  home1x2LastOptionRate  \\\nUnnamed: 0                                                  \n0                             1.16                   1.20   \n1                             1.50                   1.62   \n2                             3.20                   3.35   \n3                             1.23                   1.25   \n4                             1.33                   1.29   \n...                            ...                    ...   \n8389                          1.68                   1.68   \n8390                          1.26                   1.18   \n8391                          2.60                   2.55   \n8392                          1.74                   1.64   \n8393                          1.68                   1.64   \n\n            home1x2FirstWinRate  home1x2LastWinRate  home1x2KellyIndex  ...  \\\nUnnamed: 0                                                              ...   \n0                         82.58               79.83               0.97  ...   \n1                         64.29               59.70               0.99  ...   \n2                         29.98               28.57               0.97  ...   \n3                         77.55               76.64               0.95  ...   \n4                         71.88               74.15               0.94  ...   \n...                         ...                 ...                ...  ...   \n8389                      57.25               57.25               0.96  ...   \n8390                      76.05               81.65               0.96  ...   \n8391                      37.35               38.11               0.99  ...   \n8392                      55.27               58.90               0.97  ...   \n8393                      57.25               58.90               0.95  ...   \n\n           avg_homeEDiff  avg_awayEDiff  avg_homePlay_Percentage  \\\nUnnamed: 0                                                         \n0                   0.00           0.00                 0.000000   \n1                   0.00           0.00                 0.000000   \n2                   0.00           0.00                 0.000000   \n3                   0.00           0.00                 0.000000   \n4                   0.00           0.00                 0.000000   \n...                  ...            ...                      ...   \n8389                7.42          -0.46                 0.463898   \n8390                7.64           6.02                 0.460140   \n8391              -14.88          -7.18                 0.416183   \n8392               -2.72          -6.46                 0.426758   \n8393                4.12          11.82                 0.485782   \n\n            avg_awayPlay_Percentage  avg_homeAR  avg_awayAR  avg_homeDiffPTS  \\\nUnnamed: 0                                                                     \n0                          0.000000    0.000000    0.000000              0.0   \n1                          0.000000    0.000000    0.000000              0.0   \n2                          0.000000    0.000000    0.000000              0.0   \n3                          0.000000    0.000000    0.000000              0.0   \n4                          0.000000    0.000000    0.000000              0.0   \n...                             ...         ...         ...              ...   \n8389                       0.411622   23.905105   21.523502              7.0   \n8390                       0.460523   24.458955   20.863410              7.4   \n8391                       0.450595   18.578021   20.349306            -14.4   \n8392                       0.429294   21.121426   20.234609             -2.8   \n8393                       0.493061   23.382055   20.189421              5.0   \n\n           avg_awayDiffPTS  Odd_H  Odd_A  \nUnnamed: 0                                \n0                      0.0      0      0  \n1                      0.0      0      0  \n2                      0.0      0      0  \n3                      0.0      0      0  \n4                      0.0      0      0  \n...                    ...    ...    ...  \n8389                  -0.6   1.66   2.30  \n8390                   5.6   1.18   5.25  \n8391                  -7.0   2.60   1.55  \n8392                  -6.4   1.68   2.25  \n8393                  11.6   1.64   2.35  \n\n[8394 rows x 100 columns]",
      "text/html": "<div>\n<style scoped>\n    .dataframe tbody tr th:only-of-type {\n        vertical-align: middle;\n    }\n\n    .dataframe tbody tr th {\n        vertical-align: top;\n    }\n\n    .dataframe thead th {\n        text-align: right;\n    }\n</style>\n<table border=\"1\" class=\"dataframe\">\n  <thead>\n    <tr style=\"text-align: right;\">\n      <th></th>\n      <th>homeRslt</th>\n      <th>gmDate</th>\n      <th>gmTime</th>\n      <th>homeAbbr</th>\n      <th>home_games</th>\n      <th>home1x2FirstOptionRate</th>\n      <th>home1x2LastOptionRate</th>\n      <th>home1x2FirstWinRate</th>\n      <th>home1x2LastWinRate</th>\n      <th>home1x2KellyIndex</th>\n      <th>...</th>\n      <th>avg_homeEDiff</th>\n      <th>avg_awayEDiff</th>\n      <th>avg_homePlay_Percentage</th>\n      <th>avg_awayPlay_Percentage</th>\n      <th>avg_homeAR</th>\n      <th>avg_awayAR</th>\n      <th>avg_homeDiffPTS</th>\n      <th>avg_awayDiffPTS</th>\n      <th>Odd_H</th>\n      <th>Odd_A</th>\n    </tr>\n    <tr>\n      <th>Unnamed: 0</th>\n      <th></th>\n      <th></th>\n      <th></th>\n      <th></th>\n      <th></th>\n      <th></th>\n      <th></th>\n      <th></th>\n      <th></th>\n      <th></th>\n      <th></th>\n      <th></th>\n      <th></th>\n      <th></th>\n      <th></th>\n      <th></th>\n      <th></th>\n      <th></th>\n      <th></th>\n      <th></th>\n      <th></th>\n    </tr>\n  </thead>\n  <tbody>\n    <tr>\n      <th>0</th>\n      <td>1</td>\n      <td>2014-10-28</td>\n      <td>20:00</td>\n      <td>New Orleans Pelicans</td>\n      <td>1</td>\n      <td>1.16</td>\n      <td>1.20</td>\n      <td>82.58</td>\n      <td>79.83</td>\n      <td>0.97</td>\n      <td>...</td>\n      <td>0.00</td>\n      <td>0.00</td>\n      <td>0.000000</td>\n      <td>0.000000</td>\n      <td>0.000000</td>\n      <td>0.000000</td>\n      <td>0.0</td>\n      <td>0.0</td>\n      <td>0</td>\n      <td>0</td>\n    </tr>\n    <tr>\n      <th>1</th>\n      <td>1</td>\n      <td>2014-10-28</td>\n      <td>20:00</td>\n      <td>San Antonio Spurs</td>\n      <td>1</td>\n      <td>1.50</td>\n      <td>1.62</td>\n      <td>64.29</td>\n      <td>59.70</td>\n      <td>0.99</td>\n      <td>...</td>\n      <td>0.00</td>\n      <td>0.00</td>\n      <td>0.000000</td>\n      <td>0.000000</td>\n      <td>0.000000</td>\n      <td>0.000000</td>\n      <td>0.0</td>\n      <td>0.0</td>\n      <td>0</td>\n      <td>0</td>\n    </tr>\n    <tr>\n      <th>2</th>\n      <td>0</td>\n      <td>2014-10-28</td>\n      <td>22:30</td>\n      <td>Los Angeles Lakers</td>\n      <td>1</td>\n      <td>3.20</td>\n      <td>3.35</td>\n      <td>29.98</td>\n      <td>28.57</td>\n      <td>0.97</td>\n      <td>...</td>\n      <td>0.00</td>\n      <td>0.00</td>\n      <td>0.000000</td>\n      <td>0.000000</td>\n      <td>0.000000</td>\n      <td>0.000000</td>\n      <td>0.0</td>\n      <td>0.0</td>\n      <td>0</td>\n      <td>0</td>\n    </tr>\n    <tr>\n      <th>3</th>\n      <td>1</td>\n      <td>2014-10-29</td>\n      <td>19:00</td>\n      <td>Charlotte Hornets</td>\n      <td>1</td>\n      <td>1.23</td>\n      <td>1.25</td>\n      <td>77.55</td>\n      <td>76.64</td>\n      <td>0.95</td>\n      <td>...</td>\n      <td>0.00</td>\n      <td>0.00</td>\n      <td>0.000000</td>\n      <td>0.000000</td>\n      <td>0.000000</td>\n      <td>0.000000</td>\n      <td>0.0</td>\n      <td>0.0</td>\n      <td>0</td>\n      <td>0</td>\n    </tr>\n    <tr>\n      <th>4</th>\n      <td>1</td>\n      <td>2014-10-29</td>\n      <td>19:00</td>\n      <td>Indiana Pacers</td>\n      <td>1</td>\n      <td>1.33</td>\n      <td>1.29</td>\n      <td>71.88</td>\n      <td>74.15</td>\n      <td>0.94</td>\n      <td>...</td>\n      <td>0.00</td>\n      <td>0.00</td>\n      <td>0.000000</td>\n      <td>0.000000</td>\n      <td>0.000000</td>\n      <td>0.000000</td>\n      <td>0.0</td>\n      <td>0.0</td>\n      <td>0</td>\n      <td>0</td>\n    </tr>\n    <tr>\n      <th>...</th>\n      <td>...</td>\n      <td>...</td>\n      <td>...</td>\n      <td>...</td>\n      <td>...</td>\n      <td>...</td>\n      <td>...</td>\n      <td>...</td>\n      <td>...</td>\n      <td>...</td>\n      <td>...</td>\n      <td>...</td>\n      <td>...</td>\n      <td>...</td>\n      <td>...</td>\n      <td>...</td>\n      <td>...</td>\n      <td>...</td>\n      <td>...</td>\n      <td>...</td>\n      <td>...</td>\n    </tr>\n    <tr>\n      <th>8389</th>\n      <td>1</td>\n      <td>2022-01-03</td>\n      <td>20:30</td>\n      <td>Dallas Mavericks</td>\n      <td>37</td>\n      <td>1.68</td>\n      <td>1.68</td>\n      <td>57.25</td>\n      <td>57.25</td>\n      <td>0.96</td>\n      <td>...</td>\n      <td>7.42</td>\n      <td>-0.46</td>\n      <td>0.463898</td>\n      <td>0.411622</td>\n      <td>23.905105</td>\n      <td>21.523502</td>\n      <td>7.0</td>\n      <td>-0.6</td>\n      <td>1.66</td>\n      <td>2.30</td>\n    </tr>\n    <tr>\n      <th>8390</th>\n      <td>1</td>\n      <td>2022-01-03</td>\n      <td>22:00</td>\n      <td>Golden State Warriors</td>\n      <td>36</td>\n      <td>1.26</td>\n      <td>1.18</td>\n      <td>76.05</td>\n      <td>81.65</td>\n      <td>0.96</td>\n      <td>...</td>\n      <td>7.64</td>\n      <td>6.02</td>\n      <td>0.460140</td>\n      <td>0.460523</td>\n      <td>24.458955</td>\n      <td>20.863410</td>\n      <td>7.4</td>\n      <td>5.6</td>\n      <td>1.18</td>\n      <td>5.25</td>\n    </tr>\n    <tr>\n      <th>8391</th>\n      <td>1</td>\n      <td>2022-01-03</td>\n      <td>22:00</td>\n      <td>Portland Trail Blazers</td>\n      <td>36</td>\n      <td>2.60</td>\n      <td>2.55</td>\n      <td>37.35</td>\n      <td>38.11</td>\n      <td>0.99</td>\n      <td>...</td>\n      <td>-14.88</td>\n      <td>-7.18</td>\n      <td>0.416183</td>\n      <td>0.450595</td>\n      <td>18.578021</td>\n      <td>20.349306</td>\n      <td>-14.4</td>\n      <td>-7.0</td>\n      <td>2.60</td>\n      <td>1.55</td>\n    </tr>\n    <tr>\n      <th>8392</th>\n      <td>0</td>\n      <td>2022-01-03</td>\n      <td>22:30</td>\n      <td>Los Angeles Clippers</td>\n      <td>38</td>\n      <td>1.74</td>\n      <td>1.64</td>\n      <td>55.27</td>\n      <td>58.90</td>\n      <td>0.97</td>\n      <td>...</td>\n      <td>-2.72</td>\n      <td>-6.46</td>\n      <td>0.426758</td>\n      <td>0.429294</td>\n      <td>21.121426</td>\n      <td>20.234609</td>\n      <td>-2.8</td>\n      <td>-6.4</td>\n      <td>1.68</td>\n      <td>2.25</td>\n    </tr>\n    <tr>\n      <th>8393</th>\n      <td>0</td>\n      <td>2022-01-04</td>\n      <td>19:00</td>\n      <td>Cleveland Cavaliers</td>\n      <td>38</td>\n      <td>1.68</td>\n      <td>1.64</td>\n      <td>57.25</td>\n      <td>58.90</td>\n      <td>0.95</td>\n      <td>...</td>\n      <td>4.12</td>\n      <td>11.82</td>\n      <td>0.485782</td>\n      <td>0.493061</td>\n      <td>23.382055</td>\n      <td>20.189421</td>\n      <td>5.0</td>\n      <td>11.6</td>\n      <td>1.64</td>\n      <td>2.35</td>\n    </tr>\n  </tbody>\n</table>\n<p>8394 rows × 100 columns</p>\n</div>"
     },
     "execution_count": 163,
     "metadata": {},
     "output_type": "execute_result"
    }
   ],
   "source": [
    "MatchResults = get_MatchResults(nba_df_for_ML)\n",
    "MatchResults"
   ],
   "metadata": {
    "collapsed": false,
    "pycharm": {
     "name": "#%%\n"
    }
   }
  },
  {
   "cell_type": "code",
   "execution_count": 165,
   "outputs": [
    {
     "data": {
      "text/plain": "array([[0.008     , 0.01176471, 0.85046322, ..., 0.62176166, 0.40372671,\n        1.        ],\n       [0.025     , 0.03647059, 0.65111717, ..., 0.62176166, 0.40372671,\n        1.        ],\n       [0.11      , 0.13823529, 0.27716621, ..., 0.62176166, 0.40372671,\n        1.        ],\n       ...,\n       [0.08      , 0.09117647, 0.35749319, ..., 0.43523316, 0.31677019,\n        1.        ],\n       [0.037     , 0.03764706, 0.55280654, ..., 0.58549223, 0.3242236 ,\n        1.        ],\n       [0.034     , 0.03764706, 0.57438692, ..., 0.6865285 , 0.54782609,\n        1.        ]])"
     },
     "execution_count": 165,
     "metadata": {},
     "output_type": "execute_result"
    }
   ],
   "source": [
    "#刪除nba_df_for_ML觀察用特徵:\n",
    "nba_df_for_ML_dumm = nba_df_for_ML.drop(['gmDate','gmTime','homeAbbr','home_games','awayAbbr','away_games'],axis=1)\n",
    "#虛擬變數\n",
    "nba_df_for_ML_dumm = pd.get_dummies(nba_df_for_ML_dumm)\n",
    "#Season_half_Post_AllStar\n",
    "nba_df_for_ML_dumm = nba_df_for_ML_dumm.drop(['Season_half_Post_AllStar'],axis=1)\n",
    "# SFS\n",
    "#nba_df_for_ML_dumm = nba_df_for_ML_dumm[['homeRslt']+list(sfs.k_feature_names_)]\n",
    "# 正規化\n",
    "from sklearn.preprocessing import MinMaxScaler\n",
    "X = nba_df_for_ML_dumm.drop('homeRslt',axis = 1)\n",
    "y = nba_df_for_ML_dumm.homeRslt\n",
    "scaler = MinMaxScaler(feature_range=(0, 1)).fit(X)\n",
    "X= scaler.transform(X)\n",
    "X"
   ],
   "metadata": {
    "collapsed": false,
    "pycharm": {
     "name": "#%%\n"
    }
   }
  },
  {
   "cell_type": "code",
   "execution_count": 186,
   "outputs": [],
   "source": [
    "MatchResults.Odd_H = MatchResults.Odd_H.astype('float64')\n",
    "MatchResults.Odd_A = MatchResults.Odd_A.astype('float64')\n",
    "\n",
    "\n",
    "# 取出有賠率的索引\n",
    "MatchResultsIndex = MatchResults[MatchResults.Odd_H>0][['homeRslt','Odd_H','Odd_A']].index\n",
    "\n",
    "# 取出超過門檻的預測值\n",
    "idxs = []\n",
    "for Index in MatchResultsIndex:\n",
    "    results = GradientBoosting_best.predict_proba([X[Index]])\n",
    "    if results[0][1]>results[0][0] and results[0][1]>=0.7:\n",
    "        idxs.append(Index)\n",
    "    if results[0][1]<results[0][0] and results[0][0]>=0.7:\n",
    "        idxs.append(Index)\n",
    "MatchResultsIndex = idxs\n",
    "\n",
    "# 取出預測\n",
    "MatchResults_pred_y = GradientBoosting_best.predict(X[MatchResultsIndex])\n",
    "# 取出賽果\n",
    "MatchResults2  = MatchResults.loc[MatchResultsIndex]\n",
    "# 取出Y\n",
    "MatchResults_y = y[MatchResultsIndex]"
   ],
   "metadata": {
    "collapsed": false,
    "pycharm": {
     "name": "#%%\n"
    }
   }
  },
  {
   "cell_type": "code",
   "execution_count": 187,
   "outputs": [
    {
     "data": {
      "text/plain": "homeRslt    0.797546\ndtype: float64"
     },
     "execution_count": 187,
     "metadata": {},
     "output_type": "execute_result"
    }
   ],
   "source": [
    "records = pd.DataFrame(MatchResults_y == MatchResults_pred_y)\n",
    "records[records.homeRslt==True].count()/records.count()"
   ],
   "metadata": {
    "collapsed": false,
    "pycharm": {
     "name": "#%%\n"
    }
   }
  },
  {
   "cell_type": "code",
   "execution_count": 188,
   "outputs": [
    {
     "name": "stdout",
     "output_type": "stream",
     "text": [
      "預測數量 :  163\n"
     ]
    }
   ],
   "source": [
    "print('預測數量 : ',len(records))"
   ],
   "metadata": {
    "collapsed": false,
    "pycharm": {
     "name": "#%%\n"
    }
   }
  },
  {
   "cell_type": "code",
   "execution_count": 189,
   "outputs": [],
   "source": [
    "for index in MatchResults2.index:\n",
    "    if records.loc[index].homeRslt == True:\n",
    "        if MatchResults_y.loc[index] == 1:\n",
    "            MatchResults2.loc[index,'profit'] = MatchResults2.loc[index,'Odd_H']*1000-1000\n",
    "        else:\n",
    "            MatchResults2.loc[index,'profit'] = MatchResults2.loc[index,'Odd_A']*1000-1000\n",
    "    else:\n",
    "        if MatchResults_y.loc[index] == 1:\n",
    "            MatchResults2.loc[index,'profit'] = -1000\n",
    "        else:\n",
    "            MatchResults2.loc[index,'profit'] = -1000"
   ],
   "metadata": {
    "collapsed": false,
    "pycharm": {
     "name": "#%%\n"
    }
   }
  },
  {
   "cell_type": "code",
   "execution_count": 190,
   "outputs": [
    {
     "name": "stdout",
     "output_type": "stream",
     "text": [
      "虛擬獲利 : -4780.0\n"
     ]
    }
   ],
   "source": [
    "print('虛擬獲利 :',sum(MatchResults2.profit))"
   ],
   "metadata": {
    "collapsed": false,
    "pycharm": {
     "name": "#%%\n"
    }
   }
  },
  {
   "cell_type": "code",
   "execution_count": 191,
   "outputs": [
    {
     "name": "stderr",
     "output_type": "stream",
     "text": [
      "C:\\Users\\xin\\AppData\\Local\\Temp/ipykernel_15240/3872322315.py:7: SettingWithCopyWarning: \n",
      "A value is trying to be set on a copy of a slice from a DataFrame.\n",
      "Try using .loc[row_indexer,col_indexer] = value instead\n",
      "\n",
      "See the caveats in the documentation: https://pandas.pydata.org/pandas-docs/stable/user_guide/indexing.html#returning-a-view-versus-a-copy\n",
      "  MatchResultsGroup['isMkMoney'] = MatchResultsGroup.profit.apply(lambda p: 1 if p > 0 else 0)\n",
      "C:\\Users\\xin\\AppData\\Local\\Temp/ipykernel_15240/3872322315.py:8: SettingWithCopyWarning: \n",
      "A value is trying to be set on a copy of a slice from a DataFrame.\n",
      "Try using .loc[row_indexer,col_indexer] = value instead\n",
      "\n",
      "See the caveats in the documentation: https://pandas.pydata.org/pandas-docs/stable/user_guide/indexing.html#returning-a-view-versus-a-copy\n",
      "  MatchResultsGroup['gms'] = MatchResultsGroup.profit.apply(lambda p: 1)\n"
     ]
    },
    {
     "data": {
      "text/plain": "<Figure size 1440x720 with 1 Axes>",
      "image/png": "[encoded data removed]"
     },
     "metadata": {
      "needs_background": "light"
     },
     "output_type": "display_data"
    }
   ],
   "source": [
    "import matplotlib.dates as mdates\n",
    "import seaborn as sns\n",
    "# 每天虛擬獲利情形\n",
    "fig = plt.figure(figsize=(20,10))\n",
    "ax = plt.gca()\n",
    "MatchResultsGroup = MatchResults2[['gmDate','profit']]\n",
    "MatchResultsGroup['isMkMoney'] = MatchResultsGroup.profit.apply(lambda p: 1 if p > 0 else 0)\n",
    "MatchResultsGroup['gms'] = MatchResultsGroup.profit.apply(lambda p: 1)\n",
    "MatchResultsGroup = MatchResultsGroup[['gmDate','profit','isMkMoney','gms']].groupby(['gmDate']).sum().reset_index()\n",
    "MatchResultsGroup['>=50%'] = np.where(MatchResultsGroup['isMkMoney']/MatchResultsGroup['gms'] >= 0.5,'Y','N')\n",
    "MatchResultsGroup['isMkMoney' ]= MatchResultsGroup.profit.apply(lambda p: 'Y' if p > 0 else 'N')\n",
    "\n",
    "ax = sns.barplot(x='gmDate', y='profit', data=MatchResultsGroup,hue = 'isMkMoney')\n",
    "ax.xaxis.set_major_locator(mdates.WeekdayLocator(interval=1))"
   ],
   "metadata": {
    "collapsed": false,
    "pycharm": {
     "name": "#%%\n"
    }
   }
  },
  {
   "cell_type": "code",
   "execution_count": 192,
   "outputs": [
    {
     "name": "stderr",
     "output_type": "stream",
     "text": [
      "C:\\Users\\xin\\AppData\\Local\\Temp/ipykernel_15240/3114824656.py:3: SettingWithCopyWarning: \n",
      "A value is trying to be set on a copy of a slice from a DataFrame.\n",
      "Try using .loc[row_indexer,col_indexer] = value instead\n",
      "\n",
      "See the caveats in the documentation: https://pandas.pydata.org/pandas-docs/stable/user_guide/indexing.html#returning-a-view-versus-a-copy\n",
      "  MatchResultsGroup['isMkMoney'] = MatchResultsGroup.profit.apply(lambda p: 1 if p > 0 else 0)\n",
      "C:\\Users\\xin\\AppData\\Local\\Temp/ipykernel_15240/3114824656.py:4: SettingWithCopyWarning: \n",
      "A value is trying to be set on a copy of a slice from a DataFrame.\n",
      "Try using .loc[row_indexer,col_indexer] = value instead\n",
      "\n",
      "See the caveats in the documentation: https://pandas.pydata.org/pandas-docs/stable/user_guide/indexing.html#returning-a-view-versus-a-copy\n",
      "  MatchResultsGroup['gms'] = MatchResultsGroup.profit.apply(lambda p: 1)\n"
     ]
    },
    {
     "data": {
      "text/plain": "<AxesSubplot:ylabel='>50%'>"
     },
     "execution_count": 192,
     "metadata": {},
     "output_type": "execute_result"
    },
    {
     "data": {
      "text/plain": "<Figure size 432x288 with 1 Axes>",
      "image/png": "[encoded data removed]"
     },
     "metadata": {
      "needs_background": "light"
     },
     "output_type": "display_data"
    }
   ],
   "source": [
    "# 計天猜中>50%與<50%總數\n",
    "MatchResultsGroup = MatchResults2[['gmDate','profit']]\n",
    "MatchResultsGroup['isMkMoney'] = MatchResultsGroup.profit.apply(lambda p: 1 if p > 0 else 0)\n",
    "MatchResultsGroup['gms'] = MatchResultsGroup.profit.apply(lambda p: 1)\n",
    "MatchResultsGroup = MatchResultsGroup[['gmDate','profit','isMkMoney','gms']].groupby(['gmDate']).sum().reset_index()\n",
    "MatchResultsGroup['>=50%'] = np.where(MatchResultsGroup['isMkMoney']/MatchResultsGroup['gms'] >= 0.5,'Y','N')\n",
    "MatchResultsGroup['isMkMoney' ]= MatchResultsGroup.profit.apply(lambda p: 'Y' if p > 0 else 'N')\n",
    "\n",
    "sns.barplot( x =['y','n'] ,y='>50%' ,data = pd.DataFrame({'>50%':[int(MatchResultsGroup[MatchResultsGroup['>=50%']=='Y']['>=50%'].count()),int(MatchResultsGroup[MatchResultsGroup['>=50%']=='N']['>=50%'].count())]}))"
   ],
   "metadata": {
    "collapsed": false,
    "pycharm": {
     "name": "#%%\n"
    }
   }
  },
  {
   "cell_type": "code",
   "execution_count": 193,
   "outputs": [
    {
     "name": "stderr",
     "output_type": "stream",
     "text": [
      "C:\\Users\\xin\\AppData\\Local\\Temp/ipykernel_15240/3443735752.py:3: SettingWithCopyWarning: \n",
      "A value is trying to be set on a copy of a slice from a DataFrame.\n",
      "Try using .loc[row_indexer,col_indexer] = value instead\n",
      "\n",
      "See the caveats in the documentation: https://pandas.pydata.org/pandas-docs/stable/user_guide/indexing.html#returning-a-view-versus-a-copy\n",
      "  MatchResultsGroup['isMkMoney'] = MatchResultsGroup.profit.apply(lambda p: 1 if p > 0 else 0)\n",
      "C:\\Users\\xin\\AppData\\Local\\Temp/ipykernel_15240/3443735752.py:4: SettingWithCopyWarning: \n",
      "A value is trying to be set on a copy of a slice from a DataFrame.\n",
      "Try using .loc[row_indexer,col_indexer] = value instead\n",
      "\n",
      "See the caveats in the documentation: https://pandas.pydata.org/pandas-docs/stable/user_guide/indexing.html#returning-a-view-versus-a-copy\n",
      "  MatchResultsGroup['gms'] = MatchResultsGroup.profit.apply(lambda p: 1)\n"
     ]
    },
    {
     "data": {
      "text/plain": "<AxesSubplot:ylabel='isMkMoney'>"
     },
     "execution_count": 193,
     "metadata": {},
     "output_type": "execute_result"
    },
    {
     "data": {
      "text/plain": "<Figure size 432x288 with 1 Axes>",
      "image/png": "[encoded data removed]"
     },
     "metadata": {
      "needs_background": "light"
     },
     "output_type": "display_data"
    }
   ],
   "source": [
    "# 計天虛擬獲利>0與<0總數\n",
    "MatchResultsGroup = MatchResults2[['gmDate','profit']]\n",
    "MatchResultsGroup['isMkMoney'] = MatchResultsGroup.profit.apply(lambda p: 1 if p > 0 else 0)\n",
    "MatchResultsGroup['gms'] = MatchResultsGroup.profit.apply(lambda p: 1)\n",
    "MatchResultsGroup = MatchResultsGroup[['gmDate','profit','isMkMoney','gms']].groupby(['gmDate']).sum().reset_index()\n",
    "MatchResultsGroup['>=50%'] = np.where(MatchResultsGroup['isMkMoney']/MatchResultsGroup['gms'] >= 0.5,'Y','N')\n",
    "MatchResultsGroup['isMkMoney' ]= MatchResultsGroup.profit.apply(lambda p: 'Y' if p > 0 else 'N')\n",
    "\n",
    "sns.barplot( x =['y','n'] ,y='isMkMoney' ,data = pd.DataFrame({'isMkMoney':[int(MatchResultsGroup[MatchResultsGroup['isMkMoney']=='Y']['isMkMoney'].count()),int(MatchResultsGroup[MatchResultsGroup['isMkMoney']=='N']['isMkMoney'].count())]}))"
   ],
   "metadata": {
    "collapsed": false,
    "pycharm": {
     "name": "#%%\n"
    }
   }
  },
  {
   "cell_type": "code",
   "execution_count": 195,
   "outputs": [
    {
     "name": "stderr",
     "output_type": "stream",
     "text": [
      "C:\\Users\\xin\\AppData\\Local\\Temp/ipykernel_15240/4015121101.py:7: SettingWithCopyWarning: \n",
      "A value is trying to be set on a copy of a slice from a DataFrame.\n",
      "Try using .loc[row_indexer,col_indexer] = value instead\n",
      "\n",
      "See the caveats in the documentation: https://pandas.pydata.org/pandas-docs/stable/user_guide/indexing.html#returning-a-view-versus-a-copy\n",
      "  MatchResultsGroup['isMkMoney'] = MatchResultsGroup.profit.apply(lambda p: 1 if p > 0 else 0)\n",
      "C:\\Users\\xin\\AppData\\Local\\Temp/ipykernel_15240/4015121101.py:8: SettingWithCopyWarning: \n",
      "A value is trying to be set on a copy of a slice from a DataFrame.\n",
      "Try using .loc[row_indexer,col_indexer] = value instead\n",
      "\n",
      "See the caveats in the documentation: https://pandas.pydata.org/pandas-docs/stable/user_guide/indexing.html#returning-a-view-versus-a-copy\n",
      "  MatchResultsGroup['gms'] = MatchResultsGroup.profit.apply(lambda p: 1)\n"
     ]
    },
    {
     "data": {
      "text/plain": "<Figure size 1440x720 with 1 Axes>",
      "image/png": "[encoded data removed]"
     },
     "metadata": {
      "needs_background": "light"
     },
     "output_type": "display_data"
    }
   ],
   "source": [
    "import matplotlib.dates as mdates\n",
    "import seaborn as sns\n",
    "# 每天虛擬獲利情形\n",
    "fig = plt.figure(figsize=(20,10))\n",
    "ax = plt.gca()\n",
    "MatchResultsGroup = MatchResults2[['gmDate','profit']]\n",
    "MatchResultsGroup['isMkMoney'] = MatchResultsGroup.profit.apply(lambda p: 1 if p > 0 else 0)\n",
    "MatchResultsGroup['gms'] = MatchResultsGroup.profit.apply(lambda p: 1)\n",
    "MatchResultsGroup = MatchResultsGroup[['gmDate','profit','isMkMoney','gms']].groupby(['gmDate']).sum().reset_index()\n",
    "MatchResultsGroup['>=50%'] = np.where(MatchResultsGroup['isMkMoney']/MatchResultsGroup['gms'] >= 0.5,'Y','N')\n",
    "MatchResultsGroup['isMkMoney' ]= MatchResultsGroup.profit.apply(lambda p: 'Y' if p > 0 else 'N')\n",
    "\n",
    "MatchResultsGroup['accumulate_profit'] = 0\n",
    "for idx in MatchResultsGroup.index:\n",
    "    if idx > 0:\n",
    "        MatchResultsGroup.loc[idx,'accumulate_profit'] = MatchResultsGroup.loc[idx-1,'accumulate_profit']+MatchResultsGroup.loc[idx,'profit']\n",
    "    else:\n",
    "        MatchResultsGroup.loc[idx,'accumulate_profit'] = MatchResultsGroup.loc[idx,'profit']\n",
    "\n",
    "ax = sns.barplot(x='gmDate', y='accumulate_profit', data=MatchResultsGroup)\n",
    "ax.xaxis.set_major_locator(mdates.WeekdayLocator(interval=1))"
   ],
   "metadata": {
    "collapsed": false,
    "pycharm": {
     "name": "#%%\n"
    }
   }
  }
 ],
 "metadata": {
  "kernelspec": {
   "display_name": "Python 3",
   "language": "python",
   "name": "python3"
  },
  "language_info": {
   "codemirror_mode": {
    "name": "ipython",
    "version": 2
   },
   "file_extension": ".py",
   "mimetype": "text/x-python",
   "name": "python",
   "nbconvert_exporter": "python",
   "pygments_lexer": "ipython2",
   "version": "2.7.6"
  }
 },
 "nbformat": 4,
 "nbformat_minor": 0
}
