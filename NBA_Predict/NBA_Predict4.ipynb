{
 "cells": [
  {
   "cell_type": "code",
   "execution_count": 1,
   "metadata": {
    "collapsed": true
   },
   "outputs": [],
   "source": [
    "import numpy as np\n",
    "import pandas as pd\n",
    "from datetime import datetime"
   ]
  },
  {
   "cell_type": "markdown",
   "source": [
    "# Data Cleaning"
   ],
   "metadata": {
    "collapsed": false,
    "pycharm": {
     "name": "#%% md\n"
    }
   }
  },
  {
   "cell_type": "code",
   "execution_count": 89,
   "outputs": [
    {
     "name": "stdout",
     "output_type": "stream",
     "text": [
      "(9840, 41)\n"
     ]
    },
    {
     "data": {
      "text/plain": "   Unnamed: 0 Team  Game        Date  Home Opponent WINorLOSS  TeamPoints  \\\n0           1  ATL     1  2014-10-29  Away      TOR         L         102   \n1           2  ATL     2  2014-11-01  Home      IND         W         102   \n2           3  ATL     3  2014-11-05  Away      SAS         L          92   \n3           4  ATL     4  2014-11-07  Away      CHO         L         119   \n4           5  ATL     5  2014-11-08  Home      NYK         W         103   \n\n   OpponentPoints  FieldGoals  ...  Opp.FreeThrows  Opp.FreeThrowsAttempted  \\\n0             109          40  ...              27                       33   \n1              92          35  ...              18                       21   \n2              94          38  ...              27                       38   \n3             122          43  ...              20                       27   \n4              96          33  ...               8                       11   \n\n   Opp.FreeThrows.  Opp.OffRebounds  Opp.TotalRebounds  Opp.Assists  \\\n0            0.818               16                 48           26   \n1            0.857               11                 44           25   \n2            0.711               11                 50           25   \n3            0.741               11                 51           31   \n4            0.727               13                 44           26   \n\n   Opp.Steals  Opp.Blocks  Opp.Turnovers  Opp.TotalFouls  \n0          13           9              9              22  \n1           5           5             18              26  \n2           7           9             19              15  \n3           6           7             19              30  \n4           2           6             15              29  \n\n[5 rows x 41 columns]",
      "text/html": "<div>\n<style scoped>\n    .dataframe tbody tr th:only-of-type {\n        vertical-align: middle;\n    }\n\n    .dataframe tbody tr th {\n        vertical-align: top;\n    }\n\n    .dataframe thead th {\n        text-align: right;\n    }\n</style>\n<table border=\"1\" class=\"dataframe\">\n  <thead>\n    <tr style=\"text-align: right;\">\n      <th></th>\n      <th>Unnamed: 0</th>\n      <th>Team</th>\n      <th>Game</th>\n      <th>Date</th>\n      <th>Home</th>\n      <th>Opponent</th>\n      <th>WINorLOSS</th>\n      <th>TeamPoints</th>\n      <th>OpponentPoints</th>\n      <th>FieldGoals</th>\n      <th>...</th>\n      <th>Opp.FreeThrows</th>\n      <th>Opp.FreeThrowsAttempted</th>\n      <th>Opp.FreeThrows.</th>\n      <th>Opp.OffRebounds</th>\n      <th>Opp.TotalRebounds</th>\n      <th>Opp.Assists</th>\n      <th>Opp.Steals</th>\n      <th>Opp.Blocks</th>\n      <th>Opp.Turnovers</th>\n      <th>Opp.TotalFouls</th>\n    </tr>\n  </thead>\n  <tbody>\n    <tr>\n      <th>0</th>\n      <td>1</td>\n      <td>ATL</td>\n      <td>1</td>\n      <td>2014-10-29</td>\n      <td>Away</td>\n      <td>TOR</td>\n      <td>L</td>\n      <td>102</td>\n      <td>109</td>\n      <td>40</td>\n      <td>...</td>\n      <td>27</td>\n      <td>33</td>\n      <td>0.818</td>\n      <td>16</td>\n      <td>48</td>\n      <td>26</td>\n      <td>13</td>\n      <td>9</td>\n      <td>9</td>\n      <td>22</td>\n    </tr>\n    <tr>\n      <th>1</th>\n      <td>2</td>\n      <td>ATL</td>\n      <td>2</td>\n      <td>2014-11-01</td>\n      <td>Home</td>\n      <td>IND</td>\n      <td>W</td>\n      <td>102</td>\n      <td>92</td>\n      <td>35</td>\n      <td>...</td>\n      <td>18</td>\n      <td>21</td>\n      <td>0.857</td>\n      <td>11</td>\n      <td>44</td>\n      <td>25</td>\n      <td>5</td>\n      <td>5</td>\n      <td>18</td>\n      <td>26</td>\n    </tr>\n    <tr>\n      <th>2</th>\n      <td>3</td>\n      <td>ATL</td>\n      <td>3</td>\n      <td>2014-11-05</td>\n      <td>Away</td>\n      <td>SAS</td>\n      <td>L</td>\n      <td>92</td>\n      <td>94</td>\n      <td>38</td>\n      <td>...</td>\n      <td>27</td>\n      <td>38</td>\n      <td>0.711</td>\n      <td>11</td>\n      <td>50</td>\n      <td>25</td>\n      <td>7</td>\n      <td>9</td>\n      <td>19</td>\n      <td>15</td>\n    </tr>\n    <tr>\n      <th>3</th>\n      <td>4</td>\n      <td>ATL</td>\n      <td>4</td>\n      <td>2014-11-07</td>\n      <td>Away</td>\n      <td>CHO</td>\n      <td>L</td>\n      <td>119</td>\n      <td>122</td>\n      <td>43</td>\n      <td>...</td>\n      <td>20</td>\n      <td>27</td>\n      <td>0.741</td>\n      <td>11</td>\n      <td>51</td>\n      <td>31</td>\n      <td>6</td>\n      <td>7</td>\n      <td>19</td>\n      <td>30</td>\n    </tr>\n    <tr>\n      <th>4</th>\n      <td>5</td>\n      <td>ATL</td>\n      <td>5</td>\n      <td>2014-11-08</td>\n      <td>Home</td>\n      <td>NYK</td>\n      <td>W</td>\n      <td>103</td>\n      <td>96</td>\n      <td>33</td>\n      <td>...</td>\n      <td>8</td>\n      <td>11</td>\n      <td>0.727</td>\n      <td>13</td>\n      <td>44</td>\n      <td>26</td>\n      <td>2</td>\n      <td>6</td>\n      <td>15</td>\n      <td>29</td>\n    </tr>\n  </tbody>\n</table>\n<p>5 rows × 41 columns</p>\n</div>"
     },
     "execution_count": 89,
     "metadata": {},
     "output_type": "execute_result"
    }
   ],
   "source": [
    "nba_df = pd.read_csv(\"./NBA_DATA4/nba.games.stats.csv\")\n",
    "print(nba_df.shape)\n",
    "nba_df.head(5)"
   ],
   "metadata": {
    "collapsed": false,
    "pycharm": {
     "name": "#%%\n"
    }
   }
  },
  {
   "cell_type": "code",
   "execution_count": 90,
   "outputs": [],
   "source": [
    "# Drop irrelevant column:\n",
    "nba_df=nba_df.drop('Unnamed: 0', axis=1)"
   ],
   "metadata": {
    "collapsed": false,
    "pycharm": {
     "name": "#%%\n"
    }
   }
  },
  {
   "cell_type": "code",
   "execution_count": 91,
   "outputs": [
    {
     "data": {
      "text/plain": "(9840, 42)"
     },
     "execution_count": 91,
     "metadata": {},
     "output_type": "execute_result"
    }
   ],
   "source": [
    "# create defence rebounds field for team and opponent:\n",
    "nba_df['DefRebounds'] = nba_df['TotalRebounds'] - nba_df['OffRebounds']\n",
    "nba_df['Opp.DefRebounds'] = nba_df['Opp.TotalRebounds'] - nba_df['Opp.OffRebounds']\n",
    "nba_df.shape"
   ],
   "metadata": {
    "collapsed": false,
    "pycharm": {
     "name": "#%%\n"
    }
   }
  },
  {
   "cell_type": "code",
   "execution_count": 92,
   "outputs": [
    {
     "name": "stderr",
     "output_type": "stream",
     "text": [
      "C:\\Users\\xin\\AppData\\Local\\Temp/ipykernel_4028/1059231952.py:2: FutureWarning: The default value of regex will change from True to False in a future version.\n",
      "  nba_df.columns = nba_df.columns.str.replace('Opp.', 'Opp')\n"
     ]
    }
   ],
   "source": [
    "# Cleaning texts for easier handling:\n",
    "nba_df.columns = nba_df.columns.str.replace('Opp.', 'Opp')\n",
    "nba_df.columns = nba_df.columns.str.replace('Opp3PointShots', 'OppX3PointShots' )"
   ],
   "metadata": {
    "collapsed": false,
    "pycharm": {
     "name": "#%%\n"
    }
   }
  },
  {
   "cell_type": "code",
   "execution_count": 93,
   "outputs": [
    {
     "data": {
      "text/plain": "     Team  Game        Date  Home Oppnent  WINorLOSS  TeamPoints  \\\n0     ATL     1  2014-10-29     0     TOR          0         102   \n1     ATL     2  2014-11-01     1     IND          1         102   \n2     ATL     3  2014-11-05     0     SAS          0          92   \n3     ATL     4  2014-11-07     0     CHO          0         119   \n4     ATL     5  2014-11-08     1     NYK          1         103   \n...   ...   ...         ...   ...     ...        ...         ...   \n9835  WAS    78  2018-04-03     0     HOU          0         104   \n9836  WAS    79  2018-04-05     0     CLE          0         115   \n9837  WAS    80  2018-04-06     1     ATL          0          97   \n9838  WAS    81  2018-04-10     1     BOS          1         113   \n9839  WAS    82  2018-04-11     0     ORL          0          92   \n\n      OppnentPoints  FieldGoals  FieldGoalsAttempted  ...  OppFreeThrows.  \\\n0               109          40                   80  ...           0.818   \n1                92          35                   69  ...           0.857   \n2                94          38                   92  ...           0.711   \n3               122          43                   93  ...           0.741   \n4                96          33                   81  ...           0.727   \n...             ...         ...                  ...  ...             ...   \n9835            120          38                   72  ...           0.667   \n9836            119          47                   94  ...           0.786   \n9837            103          35                   87  ...           0.696   \n9838            101          41                   83  ...           0.815   \n9839            101          33                   95  ...           0.815   \n\n      OppOffRebounds  OppTotalRebounds  OppAssists  OppSteals  OppBlocks  \\\n0                 16                48          26         13          9   \n1                 11                44          25          5          5   \n2                 11                50          25          7          9   \n3                 11                51          31          6          7   \n4                 13                44          26          2          6   \n...              ...               ...         ...        ...        ...   \n9835              10                46          26         13          3   \n9836               5                35          26         10          3   \n9837               7                50          24          5          5   \n9838              13                44          22         14          1   \n9839               6                42          20          6          7   \n\n      OppTurnovers  OppTotalFouls  DefRebounds  OppDefRebounds  \n0                9             22           32              32  \n1               18             26           34              33  \n2               19             15           27              39  \n3               19             30           31              40  \n4               15             29           29              31  \n...            ...            ...          ...             ...  \n9835             9             14           33              36  \n9836            16             14           29              30  \n9837            18             22           36              43  \n9838            16             18           41              31  \n9839            16             27           32              36  \n\n[9840 rows x 42 columns]",
      "text/html": "<div>\n<style scoped>\n    .dataframe tbody tr th:only-of-type {\n        vertical-align: middle;\n    }\n\n    .dataframe tbody tr th {\n        vertical-align: top;\n    }\n\n    .dataframe thead th {\n        text-align: right;\n    }\n</style>\n<table border=\"1\" class=\"dataframe\">\n  <thead>\n    <tr style=\"text-align: right;\">\n      <th></th>\n      <th>Team</th>\n      <th>Game</th>\n      <th>Date</th>\n      <th>Home</th>\n      <th>Oppnent</th>\n      <th>WINorLOSS</th>\n      <th>TeamPoints</th>\n      <th>OppnentPoints</th>\n      <th>FieldGoals</th>\n      <th>FieldGoalsAttempted</th>\n      <th>...</th>\n      <th>OppFreeThrows.</th>\n      <th>OppOffRebounds</th>\n      <th>OppTotalRebounds</th>\n      <th>OppAssists</th>\n      <th>OppSteals</th>\n      <th>OppBlocks</th>\n      <th>OppTurnovers</th>\n      <th>OppTotalFouls</th>\n      <th>DefRebounds</th>\n      <th>OppDefRebounds</th>\n    </tr>\n  </thead>\n  <tbody>\n    <tr>\n      <th>0</th>\n      <td>ATL</td>\n      <td>1</td>\n      <td>2014-10-29</td>\n      <td>0</td>\n      <td>TOR</td>\n      <td>0</td>\n      <td>102</td>\n      <td>109</td>\n      <td>40</td>\n      <td>80</td>\n      <td>...</td>\n      <td>0.818</td>\n      <td>16</td>\n      <td>48</td>\n      <td>26</td>\n      <td>13</td>\n      <td>9</td>\n      <td>9</td>\n      <td>22</td>\n      <td>32</td>\n      <td>32</td>\n    </tr>\n    <tr>\n      <th>1</th>\n      <td>ATL</td>\n      <td>2</td>\n      <td>2014-11-01</td>\n      <td>1</td>\n      <td>IND</td>\n      <td>1</td>\n      <td>102</td>\n      <td>92</td>\n      <td>35</td>\n      <td>69</td>\n      <td>...</td>\n      <td>0.857</td>\n      <td>11</td>\n      <td>44</td>\n      <td>25</td>\n      <td>5</td>\n      <td>5</td>\n      <td>18</td>\n      <td>26</td>\n      <td>34</td>\n      <td>33</td>\n    </tr>\n    <tr>\n      <th>2</th>\n      <td>ATL</td>\n      <td>3</td>\n      <td>2014-11-05</td>\n      <td>0</td>\n      <td>SAS</td>\n      <td>0</td>\n      <td>92</td>\n      <td>94</td>\n      <td>38</td>\n      <td>92</td>\n      <td>...</td>\n      <td>0.711</td>\n      <td>11</td>\n      <td>50</td>\n      <td>25</td>\n      <td>7</td>\n      <td>9</td>\n      <td>19</td>\n      <td>15</td>\n      <td>27</td>\n      <td>39</td>\n    </tr>\n    <tr>\n      <th>3</th>\n      <td>ATL</td>\n      <td>4</td>\n      <td>2014-11-07</td>\n      <td>0</td>\n      <td>CHO</td>\n      <td>0</td>\n      <td>119</td>\n      <td>122</td>\n      <td>43</td>\n      <td>93</td>\n      <td>...</td>\n      <td>0.741</td>\n      <td>11</td>\n      <td>51</td>\n      <td>31</td>\n      <td>6</td>\n      <td>7</td>\n      <td>19</td>\n      <td>30</td>\n      <td>31</td>\n      <td>40</td>\n    </tr>\n    <tr>\n      <th>4</th>\n      <td>ATL</td>\n      <td>5</td>\n      <td>2014-11-08</td>\n      <td>1</td>\n      <td>NYK</td>\n      <td>1</td>\n      <td>103</td>\n      <td>96</td>\n      <td>33</td>\n      <td>81</td>\n      <td>...</td>\n      <td>0.727</td>\n      <td>13</td>\n      <td>44</td>\n      <td>26</td>\n      <td>2</td>\n      <td>6</td>\n      <td>15</td>\n      <td>29</td>\n      <td>29</td>\n      <td>31</td>\n    </tr>\n    <tr>\n      <th>...</th>\n      <td>...</td>\n      <td>...</td>\n      <td>...</td>\n      <td>...</td>\n      <td>...</td>\n      <td>...</td>\n      <td>...</td>\n      <td>...</td>\n      <td>...</td>\n      <td>...</td>\n      <td>...</td>\n      <td>...</td>\n      <td>...</td>\n      <td>...</td>\n      <td>...</td>\n      <td>...</td>\n      <td>...</td>\n      <td>...</td>\n      <td>...</td>\n      <td>...</td>\n      <td>...</td>\n    </tr>\n    <tr>\n      <th>9835</th>\n      <td>WAS</td>\n      <td>78</td>\n      <td>2018-04-03</td>\n      <td>0</td>\n      <td>HOU</td>\n      <td>0</td>\n      <td>104</td>\n      <td>120</td>\n      <td>38</td>\n      <td>72</td>\n      <td>...</td>\n      <td>0.667</td>\n      <td>10</td>\n      <td>46</td>\n      <td>26</td>\n      <td>13</td>\n      <td>3</td>\n      <td>9</td>\n      <td>14</td>\n      <td>33</td>\n      <td>36</td>\n    </tr>\n    <tr>\n      <th>9836</th>\n      <td>WAS</td>\n      <td>79</td>\n      <td>2018-04-05</td>\n      <td>0</td>\n      <td>CLE</td>\n      <td>0</td>\n      <td>115</td>\n      <td>119</td>\n      <td>47</td>\n      <td>94</td>\n      <td>...</td>\n      <td>0.786</td>\n      <td>5</td>\n      <td>35</td>\n      <td>26</td>\n      <td>10</td>\n      <td>3</td>\n      <td>16</td>\n      <td>14</td>\n      <td>29</td>\n      <td>30</td>\n    </tr>\n    <tr>\n      <th>9837</th>\n      <td>WAS</td>\n      <td>80</td>\n      <td>2018-04-06</td>\n      <td>1</td>\n      <td>ATL</td>\n      <td>0</td>\n      <td>97</td>\n      <td>103</td>\n      <td>35</td>\n      <td>87</td>\n      <td>...</td>\n      <td>0.696</td>\n      <td>7</td>\n      <td>50</td>\n      <td>24</td>\n      <td>5</td>\n      <td>5</td>\n      <td>18</td>\n      <td>22</td>\n      <td>36</td>\n      <td>43</td>\n    </tr>\n    <tr>\n      <th>9838</th>\n      <td>WAS</td>\n      <td>81</td>\n      <td>2018-04-10</td>\n      <td>1</td>\n      <td>BOS</td>\n      <td>1</td>\n      <td>113</td>\n      <td>101</td>\n      <td>41</td>\n      <td>83</td>\n      <td>...</td>\n      <td>0.815</td>\n      <td>13</td>\n      <td>44</td>\n      <td>22</td>\n      <td>14</td>\n      <td>1</td>\n      <td>16</td>\n      <td>18</td>\n      <td>41</td>\n      <td>31</td>\n    </tr>\n    <tr>\n      <th>9839</th>\n      <td>WAS</td>\n      <td>82</td>\n      <td>2018-04-11</td>\n      <td>0</td>\n      <td>ORL</td>\n      <td>0</td>\n      <td>92</td>\n      <td>101</td>\n      <td>33</td>\n      <td>95</td>\n      <td>...</td>\n      <td>0.815</td>\n      <td>6</td>\n      <td>42</td>\n      <td>20</td>\n      <td>6</td>\n      <td>7</td>\n      <td>16</td>\n      <td>27</td>\n      <td>32</td>\n      <td>36</td>\n    </tr>\n  </tbody>\n</table>\n<p>9840 rows × 42 columns</p>\n</div>"
     },
     "execution_count": 93,
     "metadata": {},
     "output_type": "execute_result"
    }
   ],
   "source": [
    "# 2-class columns to Boolean:\n",
    "nba_df['Home'] = nba_df['Home'].replace(['Home', 'Away'], [1,0]).astype(str).astype(int)\n",
    "# 2-class columns to Boolean - Leave Column as such for ML:\n",
    "nba_df['WINorLOSS'] = nba_df['WINorLOSS'].replace(['W', 'L'], [1,0]).astype(str).astype(int)\n",
    "nba_df"
   ],
   "metadata": {
    "collapsed": false,
    "pycharm": {
     "name": "#%%\n"
    }
   }
  },
  {
   "cell_type": "markdown",
   "source": [
    "# Features Engineering"
   ],
   "metadata": {
    "collapsed": false,
    "pycharm": {
     "name": "#%% md\n"
    }
   }
  },
  {
   "cell_type": "code",
   "execution_count": 94,
   "outputs": [],
   "source": [
    "PIR = ((nba_df['TeamPoints'] + nba_df['TotalRebounds'] + nba_df['Assists']\n",
    "        + nba_df['Steals'] + nba_df['Blocks'] + nba_df['OppTotalFouls'])\n",
    "\n",
    "       # Missed Field Goals:\n",
    "       - ((nba_df['FieldGoalsAttempted']- nba_df['FieldGoals'])\n",
    "\n",
    "          # Missed Free Throws:\n",
    "          +(nba_df['FreeThrowsAttempted'] - nba_df['FreeThrows'])\n",
    "          + nba_df['Turnovers'] + nba_df['OppBlocks'] + nba_df['TotalFouls']))\n",
    "\n",
    "\n",
    "OppPIR = ((nba_df['OppnentPoints'] + nba_df['OppTotalRebounds'] + nba_df['OppAssists']\n",
    "           + nba_df['OppSteals'] + nba_df['OppBlocks'] + nba_df['TotalFouls'])\n",
    "          - ((nba_df['OppFieldGoalsAttempted']- nba_df['OppFieldGoals'])\n",
    "             +(nba_df['OppFreeThrowsAttempted'] - nba_df['OppFreeThrows'])\n",
    "             + nba_df['OppTurnovers'] + nba_df['Blocks'] + nba_df['OppTotalFouls']))\n",
    "\n",
    "nba_df['PIR'] = pd.Series(PIR)\n",
    "nba_df['OppPIR'] = pd.Series(OppPIR)"
   ],
   "metadata": {
    "collapsed": false,
    "pycharm": {
     "name": "#%%\n"
    }
   }
  },
  {
   "cell_type": "code",
   "execution_count": 95,
   "outputs": [
    {
     "data": {
      "text/plain": "     Team  Game        Date  Home Oppnent  WINorLOSS  TeamPoints  \\\n0     ATL     1  2014-10-29     0     TOR          0         102   \n1     ATL     2  2014-11-01     1     IND          1         102   \n2     ATL     3  2014-11-05     0     SAS          0          92   \n3     ATL     4  2014-11-07     0     CHO          0         119   \n4     ATL     5  2014-11-08     1     NYK          1         103   \n...   ...   ...         ...   ...     ...        ...         ...   \n9835  WAS    78  2018-04-03     0     HOU          0         104   \n9836  WAS    79  2018-04-05     0     CLE          0         115   \n9837  WAS    80  2018-04-06     1     ATL          0          97   \n9838  WAS    81  2018-04-10     1     BOS          1         113   \n9839  WAS    82  2018-04-11     0     ORL          0          92   \n\n      OppnentPoints  FieldGoals  FieldGoalsAttempted  ...  OppSteals  \\\n0               109          40                   80  ...         13   \n1                92          35                   69  ...          5   \n2                94          38                   92  ...          7   \n3               122          43                   93  ...          6   \n4                96          33                   81  ...          2   \n...             ...         ...                  ...  ...        ...   \n9835            120          38                   72  ...         13   \n9836            119          47                   94  ...         10   \n9837            103          35                   87  ...          5   \n9838            101          41                   83  ...         14   \n9839            101          33                   95  ...          6   \n\n      OppBlocks  OppTurnovers  OppTotalFouls  DefRebounds  OppDefRebounds  \\\n0             9             9             22           32              32   \n1             5            18             26           34              33   \n2             9            19             15           27              39   \n3             7            19             30           31              40   \n4             6            15             29           29              31   \n...         ...           ...            ...          ...             ...   \n9835          3             9             14           33              36   \n9836          3            16             14           29              30   \n9837          5            18             22           36              43   \n9838          1            16             18           41              31   \n9839          7            16             27           32              36   \n\n      PIR  OppPIR  Month  Year  \n0     108     131     10  2014  \n1     128      88     11  2014  \n2      85     122     11  2014  \n3     111     142     11  2014  \n4     119      95     11  2014  \n...   ...     ...    ...   ...  \n9835  104     155      4  2018  \n9836  129     138      4  2018  \n9837  105     110      4  2018  \n9838  134     110      4  2018  \n9839   75     108      4  2018  \n\n[9840 rows x 46 columns]",
      "text/html": "<div>\n<style scoped>\n    .dataframe tbody tr th:only-of-type {\n        vertical-align: middle;\n    }\n\n    .dataframe tbody tr th {\n        vertical-align: top;\n    }\n\n    .dataframe thead th {\n        text-align: right;\n    }\n</style>\n<table border=\"1\" class=\"dataframe\">\n  <thead>\n    <tr style=\"text-align: right;\">\n      <th></th>\n      <th>Team</th>\n      <th>Game</th>\n      <th>Date</th>\n      <th>Home</th>\n      <th>Oppnent</th>\n      <th>WINorLOSS</th>\n      <th>TeamPoints</th>\n      <th>OppnentPoints</th>\n      <th>FieldGoals</th>\n      <th>FieldGoalsAttempted</th>\n      <th>...</th>\n      <th>OppSteals</th>\n      <th>OppBlocks</th>\n      <th>OppTurnovers</th>\n      <th>OppTotalFouls</th>\n      <th>DefRebounds</th>\n      <th>OppDefRebounds</th>\n      <th>PIR</th>\n      <th>OppPIR</th>\n      <th>Month</th>\n      <th>Year</th>\n    </tr>\n  </thead>\n  <tbody>\n    <tr>\n      <th>0</th>\n      <td>ATL</td>\n      <td>1</td>\n      <td>2014-10-29</td>\n      <td>0</td>\n      <td>TOR</td>\n      <td>0</td>\n      <td>102</td>\n      <td>109</td>\n      <td>40</td>\n      <td>80</td>\n      <td>...</td>\n      <td>13</td>\n      <td>9</td>\n      <td>9</td>\n      <td>22</td>\n      <td>32</td>\n      <td>32</td>\n      <td>108</td>\n      <td>131</td>\n      <td>10</td>\n      <td>2014</td>\n    </tr>\n    <tr>\n      <th>1</th>\n      <td>ATL</td>\n      <td>2</td>\n      <td>2014-11-01</td>\n      <td>1</td>\n      <td>IND</td>\n      <td>1</td>\n      <td>102</td>\n      <td>92</td>\n      <td>35</td>\n      <td>69</td>\n      <td>...</td>\n      <td>5</td>\n      <td>5</td>\n      <td>18</td>\n      <td>26</td>\n      <td>34</td>\n      <td>33</td>\n      <td>128</td>\n      <td>88</td>\n      <td>11</td>\n      <td>2014</td>\n    </tr>\n    <tr>\n      <th>2</th>\n      <td>ATL</td>\n      <td>3</td>\n      <td>2014-11-05</td>\n      <td>0</td>\n      <td>SAS</td>\n      <td>0</td>\n      <td>92</td>\n      <td>94</td>\n      <td>38</td>\n      <td>92</td>\n      <td>...</td>\n      <td>7</td>\n      <td>9</td>\n      <td>19</td>\n      <td>15</td>\n      <td>27</td>\n      <td>39</td>\n      <td>85</td>\n      <td>122</td>\n      <td>11</td>\n      <td>2014</td>\n    </tr>\n    <tr>\n      <th>3</th>\n      <td>ATL</td>\n      <td>4</td>\n      <td>2014-11-07</td>\n      <td>0</td>\n      <td>CHO</td>\n      <td>0</td>\n      <td>119</td>\n      <td>122</td>\n      <td>43</td>\n      <td>93</td>\n      <td>...</td>\n      <td>6</td>\n      <td>7</td>\n      <td>19</td>\n      <td>30</td>\n      <td>31</td>\n      <td>40</td>\n      <td>111</td>\n      <td>142</td>\n      <td>11</td>\n      <td>2014</td>\n    </tr>\n    <tr>\n      <th>4</th>\n      <td>ATL</td>\n      <td>5</td>\n      <td>2014-11-08</td>\n      <td>1</td>\n      <td>NYK</td>\n      <td>1</td>\n      <td>103</td>\n      <td>96</td>\n      <td>33</td>\n      <td>81</td>\n      <td>...</td>\n      <td>2</td>\n      <td>6</td>\n      <td>15</td>\n      <td>29</td>\n      <td>29</td>\n      <td>31</td>\n      <td>119</td>\n      <td>95</td>\n      <td>11</td>\n      <td>2014</td>\n    </tr>\n    <tr>\n      <th>...</th>\n      <td>...</td>\n      <td>...</td>\n      <td>...</td>\n      <td>...</td>\n      <td>...</td>\n      <td>...</td>\n      <td>...</td>\n      <td>...</td>\n      <td>...</td>\n      <td>...</td>\n      <td>...</td>\n      <td>...</td>\n      <td>...</td>\n      <td>...</td>\n      <td>...</td>\n      <td>...</td>\n      <td>...</td>\n      <td>...</td>\n      <td>...</td>\n      <td>...</td>\n      <td>...</td>\n    </tr>\n    <tr>\n      <th>9835</th>\n      <td>WAS</td>\n      <td>78</td>\n      <td>2018-04-03</td>\n      <td>0</td>\n      <td>HOU</td>\n      <td>0</td>\n      <td>104</td>\n      <td>120</td>\n      <td>38</td>\n      <td>72</td>\n      <td>...</td>\n      <td>13</td>\n      <td>3</td>\n      <td>9</td>\n      <td>14</td>\n      <td>33</td>\n      <td>36</td>\n      <td>104</td>\n      <td>155</td>\n      <td>4</td>\n      <td>2018</td>\n    </tr>\n    <tr>\n      <th>9836</th>\n      <td>WAS</td>\n      <td>79</td>\n      <td>2018-04-05</td>\n      <td>0</td>\n      <td>CLE</td>\n      <td>0</td>\n      <td>115</td>\n      <td>119</td>\n      <td>47</td>\n      <td>94</td>\n      <td>...</td>\n      <td>10</td>\n      <td>3</td>\n      <td>16</td>\n      <td>14</td>\n      <td>29</td>\n      <td>30</td>\n      <td>129</td>\n      <td>138</td>\n      <td>4</td>\n      <td>2018</td>\n    </tr>\n    <tr>\n      <th>9837</th>\n      <td>WAS</td>\n      <td>80</td>\n      <td>2018-04-06</td>\n      <td>1</td>\n      <td>ATL</td>\n      <td>0</td>\n      <td>97</td>\n      <td>103</td>\n      <td>35</td>\n      <td>87</td>\n      <td>...</td>\n      <td>5</td>\n      <td>5</td>\n      <td>18</td>\n      <td>22</td>\n      <td>36</td>\n      <td>43</td>\n      <td>105</td>\n      <td>110</td>\n      <td>4</td>\n      <td>2018</td>\n    </tr>\n    <tr>\n      <th>9838</th>\n      <td>WAS</td>\n      <td>81</td>\n      <td>2018-04-10</td>\n      <td>1</td>\n      <td>BOS</td>\n      <td>1</td>\n      <td>113</td>\n      <td>101</td>\n      <td>41</td>\n      <td>83</td>\n      <td>...</td>\n      <td>14</td>\n      <td>1</td>\n      <td>16</td>\n      <td>18</td>\n      <td>41</td>\n      <td>31</td>\n      <td>134</td>\n      <td>110</td>\n      <td>4</td>\n      <td>2018</td>\n    </tr>\n    <tr>\n      <th>9839</th>\n      <td>WAS</td>\n      <td>82</td>\n      <td>2018-04-11</td>\n      <td>0</td>\n      <td>ORL</td>\n      <td>0</td>\n      <td>92</td>\n      <td>101</td>\n      <td>33</td>\n      <td>95</td>\n      <td>...</td>\n      <td>6</td>\n      <td>7</td>\n      <td>16</td>\n      <td>27</td>\n      <td>32</td>\n      <td>36</td>\n      <td>75</td>\n      <td>108</td>\n      <td>4</td>\n      <td>2018</td>\n    </tr>\n  </tbody>\n</table>\n<p>9840 rows × 46 columns</p>\n</div>"
     },
     "execution_count": 95,
     "metadata": {},
     "output_type": "execute_result"
    }
   ],
   "source": [
    "nba_df['Month'] = [int(m[5:7]) for m in nba_df['Date']]\n",
    "nba_df['Year'] = [int(y[:4]) for y in nba_df['Date']]\n",
    "nba_df"
   ],
   "metadata": {
    "collapsed": false,
    "pycharm": {
     "name": "#%%\n"
    }
   }
  },
  {
   "cell_type": "code",
   "execution_count": 96,
   "outputs": [
    {
     "data": {
      "text/plain": "     Team  Game        Date  Home Oppnent  WINorLOSS  TeamPoints  \\\n0     ATL     1  2014-10-29     0     TOR          0         102   \n1     ATL     2  2014-11-01     1     IND          1         102   \n2     ATL     3  2014-11-05     0     SAS          0          92   \n3     ATL     4  2014-11-07     0     CHO          0         119   \n4     ATL     5  2014-11-08     1     NYK          1         103   \n...   ...   ...         ...   ...     ...        ...         ...   \n9835  WAS    78  2018-04-03     0     HOU          0         104   \n9836  WAS    79  2018-04-05     0     CLE          0         115   \n9837  WAS    80  2018-04-06     1     ATL          0          97   \n9838  WAS    81  2018-04-10     1     BOS          1         113   \n9839  WAS    82  2018-04-11     0     ORL          0          92   \n\n      OppnentPoints  FieldGoals  FieldGoalsAttempted  ...  OppBlocks  \\\n0               109          40                   80  ...          9   \n1                92          35                   69  ...          5   \n2                94          38                   92  ...          9   \n3               122          43                   93  ...          7   \n4                96          33                   81  ...          6   \n...             ...         ...                  ...  ...        ...   \n9835            120          38                   72  ...          3   \n9836            119          47                   94  ...          3   \n9837            103          35                   87  ...          5   \n9838            101          41                   83  ...          1   \n9839            101          33                   95  ...          7   \n\n      OppTurnovers  OppTotalFouls  DefRebounds  OppDefRebounds  PIR  OppPIR  \\\n0                9             22           32              32  108     131   \n1               18             26           34              33  128      88   \n2               19             15           27              39   85     122   \n3               19             30           31              40  111     142   \n4               15             29           29              31  119      95   \n...            ...            ...          ...             ...  ...     ...   \n9835             9             14           33              36  104     155   \n9836            16             14           29              30  129     138   \n9837            18             22           36              43  105     110   \n9838            16             18           41              31  134     110   \n9839            16             27           32              36   75     108   \n\n      Month  Year  Season  \n0        10  2014     one  \n1        11  2014     one  \n2        11  2014     one  \n3        11  2014     one  \n4        11  2014     one  \n...     ...   ...     ...  \n9835      4  2018    four  \n9836      4  2018    four  \n9837      4  2018    four  \n9838      4  2018    four  \n9839      4  2018    four  \n\n[9840 rows x 47 columns]",
      "text/html": "<div>\n<style scoped>\n    .dataframe tbody tr th:only-of-type {\n        vertical-align: middle;\n    }\n\n    .dataframe tbody tr th {\n        vertical-align: top;\n    }\n\n    .dataframe thead th {\n        text-align: right;\n    }\n</style>\n<table border=\"1\" class=\"dataframe\">\n  <thead>\n    <tr style=\"text-align: right;\">\n      <th></th>\n      <th>Team</th>\n      <th>Game</th>\n      <th>Date</th>\n      <th>Home</th>\n      <th>Oppnent</th>\n      <th>WINorLOSS</th>\n      <th>TeamPoints</th>\n      <th>OppnentPoints</th>\n      <th>FieldGoals</th>\n      <th>FieldGoalsAttempted</th>\n      <th>...</th>\n      <th>OppBlocks</th>\n      <th>OppTurnovers</th>\n      <th>OppTotalFouls</th>\n      <th>DefRebounds</th>\n      <th>OppDefRebounds</th>\n      <th>PIR</th>\n      <th>OppPIR</th>\n      <th>Month</th>\n      <th>Year</th>\n      <th>Season</th>\n    </tr>\n  </thead>\n  <tbody>\n    <tr>\n      <th>0</th>\n      <td>ATL</td>\n      <td>1</td>\n      <td>2014-10-29</td>\n      <td>0</td>\n      <td>TOR</td>\n      <td>0</td>\n      <td>102</td>\n      <td>109</td>\n      <td>40</td>\n      <td>80</td>\n      <td>...</td>\n      <td>9</td>\n      <td>9</td>\n      <td>22</td>\n      <td>32</td>\n      <td>32</td>\n      <td>108</td>\n      <td>131</td>\n      <td>10</td>\n      <td>2014</td>\n      <td>one</td>\n    </tr>\n    <tr>\n      <th>1</th>\n      <td>ATL</td>\n      <td>2</td>\n      <td>2014-11-01</td>\n      <td>1</td>\n      <td>IND</td>\n      <td>1</td>\n      <td>102</td>\n      <td>92</td>\n      <td>35</td>\n      <td>69</td>\n      <td>...</td>\n      <td>5</td>\n      <td>18</td>\n      <td>26</td>\n      <td>34</td>\n      <td>33</td>\n      <td>128</td>\n      <td>88</td>\n      <td>11</td>\n      <td>2014</td>\n      <td>one</td>\n    </tr>\n    <tr>\n      <th>2</th>\n      <td>ATL</td>\n      <td>3</td>\n      <td>2014-11-05</td>\n      <td>0</td>\n      <td>SAS</td>\n      <td>0</td>\n      <td>92</td>\n      <td>94</td>\n      <td>38</td>\n      <td>92</td>\n      <td>...</td>\n      <td>9</td>\n      <td>19</td>\n      <td>15</td>\n      <td>27</td>\n      <td>39</td>\n      <td>85</td>\n      <td>122</td>\n      <td>11</td>\n      <td>2014</td>\n      <td>one</td>\n    </tr>\n    <tr>\n      <th>3</th>\n      <td>ATL</td>\n      <td>4</td>\n      <td>2014-11-07</td>\n      <td>0</td>\n      <td>CHO</td>\n      <td>0</td>\n      <td>119</td>\n      <td>122</td>\n      <td>43</td>\n      <td>93</td>\n      <td>...</td>\n      <td>7</td>\n      <td>19</td>\n      <td>30</td>\n      <td>31</td>\n      <td>40</td>\n      <td>111</td>\n      <td>142</td>\n      <td>11</td>\n      <td>2014</td>\n      <td>one</td>\n    </tr>\n    <tr>\n      <th>4</th>\n      <td>ATL</td>\n      <td>5</td>\n      <td>2014-11-08</td>\n      <td>1</td>\n      <td>NYK</td>\n      <td>1</td>\n      <td>103</td>\n      <td>96</td>\n      <td>33</td>\n      <td>81</td>\n      <td>...</td>\n      <td>6</td>\n      <td>15</td>\n      <td>29</td>\n      <td>29</td>\n      <td>31</td>\n      <td>119</td>\n      <td>95</td>\n      <td>11</td>\n      <td>2014</td>\n      <td>one</td>\n    </tr>\n    <tr>\n      <th>...</th>\n      <td>...</td>\n      <td>...</td>\n      <td>...</td>\n      <td>...</td>\n      <td>...</td>\n      <td>...</td>\n      <td>...</td>\n      <td>...</td>\n      <td>...</td>\n      <td>...</td>\n      <td>...</td>\n      <td>...</td>\n      <td>...</td>\n      <td>...</td>\n      <td>...</td>\n      <td>...</td>\n      <td>...</td>\n      <td>...</td>\n      <td>...</td>\n      <td>...</td>\n      <td>...</td>\n    </tr>\n    <tr>\n      <th>9835</th>\n      <td>WAS</td>\n      <td>78</td>\n      <td>2018-04-03</td>\n      <td>0</td>\n      <td>HOU</td>\n      <td>0</td>\n      <td>104</td>\n      <td>120</td>\n      <td>38</td>\n      <td>72</td>\n      <td>...</td>\n      <td>3</td>\n      <td>9</td>\n      <td>14</td>\n      <td>33</td>\n      <td>36</td>\n      <td>104</td>\n      <td>155</td>\n      <td>4</td>\n      <td>2018</td>\n      <td>four</td>\n    </tr>\n    <tr>\n      <th>9836</th>\n      <td>WAS</td>\n      <td>79</td>\n      <td>2018-04-05</td>\n      <td>0</td>\n      <td>CLE</td>\n      <td>0</td>\n      <td>115</td>\n      <td>119</td>\n      <td>47</td>\n      <td>94</td>\n      <td>...</td>\n      <td>3</td>\n      <td>16</td>\n      <td>14</td>\n      <td>29</td>\n      <td>30</td>\n      <td>129</td>\n      <td>138</td>\n      <td>4</td>\n      <td>2018</td>\n      <td>four</td>\n    </tr>\n    <tr>\n      <th>9837</th>\n      <td>WAS</td>\n      <td>80</td>\n      <td>2018-04-06</td>\n      <td>1</td>\n      <td>ATL</td>\n      <td>0</td>\n      <td>97</td>\n      <td>103</td>\n      <td>35</td>\n      <td>87</td>\n      <td>...</td>\n      <td>5</td>\n      <td>18</td>\n      <td>22</td>\n      <td>36</td>\n      <td>43</td>\n      <td>105</td>\n      <td>110</td>\n      <td>4</td>\n      <td>2018</td>\n      <td>four</td>\n    </tr>\n    <tr>\n      <th>9838</th>\n      <td>WAS</td>\n      <td>81</td>\n      <td>2018-04-10</td>\n      <td>1</td>\n      <td>BOS</td>\n      <td>1</td>\n      <td>113</td>\n      <td>101</td>\n      <td>41</td>\n      <td>83</td>\n      <td>...</td>\n      <td>1</td>\n      <td>16</td>\n      <td>18</td>\n      <td>41</td>\n      <td>31</td>\n      <td>134</td>\n      <td>110</td>\n      <td>4</td>\n      <td>2018</td>\n      <td>four</td>\n    </tr>\n    <tr>\n      <th>9839</th>\n      <td>WAS</td>\n      <td>82</td>\n      <td>2018-04-11</td>\n      <td>0</td>\n      <td>ORL</td>\n      <td>0</td>\n      <td>92</td>\n      <td>101</td>\n      <td>33</td>\n      <td>95</td>\n      <td>...</td>\n      <td>7</td>\n      <td>16</td>\n      <td>27</td>\n      <td>32</td>\n      <td>36</td>\n      <td>75</td>\n      <td>108</td>\n      <td>4</td>\n      <td>2018</td>\n      <td>four</td>\n    </tr>\n  </tbody>\n</table>\n<p>9840 rows × 47 columns</p>\n</div>"
     },
     "execution_count": 96,
     "metadata": {},
     "output_type": "execute_result"
    }
   ],
   "source": [
    "def seasons(d):\n",
    "    m=d[5:7]\n",
    "    y=d[:4]\n",
    "    if (y =='2014' and m in ('10','11','12')) or (y=='2015' and m in ('01','02','03','04')):\n",
    "        s='one'\n",
    "    elif (y=='2015' and m in ('10','11','12')) or (y=='2016' and m in ('01','02','03','04')):\n",
    "        s='two'\n",
    "    elif (y=='2016' and m in ('10','11','12')) or (y=='2017' and m in ('01','02','03','04')):\n",
    "        s='three'\n",
    "    else:\n",
    "        s='four'\n",
    "    return (s)\n",
    "\n",
    "nba_df['Season']=nba_df['Date'].apply(seasons)\n",
    "nba_df"
   ],
   "metadata": {
    "collapsed": false,
    "pycharm": {
     "name": "#%%\n"
    }
   }
  },
  {
   "cell_type": "code",
   "execution_count": 97,
   "outputs": [],
   "source": [
    "# Categorizing months into halfs (February contains the AllStar break). It will follow by dummies:\n",
    "\n",
    "def halfs(x):\n",
    "    if str(x) in ('10','11','12','1'):\n",
    "        x = 'Pre_AllStar'\n",
    "    else:\n",
    "        x = 'Post_AllStar'\n",
    "    return (x)\n",
    "\n",
    "nba_df['Season_half']=nba_df['Month'].apply(halfs)"
   ],
   "metadata": {
    "collapsed": false,
    "pycharm": {
     "name": "#%%\n"
    }
   }
  },
  {
   "cell_type": "code",
   "execution_count": 98,
   "outputs": [],
   "source": [
    "# Points Differance at the end of the game:\n",
    "\n",
    "nba_df['diff_points']=abs(nba_df['TeamPoints']-nba_df['OppnentPoints'])"
   ],
   "metadata": {
    "collapsed": false,
    "pycharm": {
     "name": "#%%\n"
    }
   }
  },
  {
   "cell_type": "code",
   "execution_count": 99,
   "outputs": [
    {
     "data": {
      "text/plain": "     Team  Game        Date  Home Oppnent  WINorLOSS  TeamPoints  \\\n0     ATL     1  2014-10-29     0     TOR          0         102   \n1     ATL     2  2014-11-01     1     IND          1         102   \n2     ATL     3  2014-11-05     0     SAS          0          92   \n3     ATL     4  2014-11-07     0     CHO          0         119   \n4     ATL     5  2014-11-08     1     NYK          1         103   \n...   ...   ...         ...   ...     ...        ...         ...   \n9835  WAS    78  2018-04-03     0     HOU          0         104   \n9836  WAS    79  2018-04-05     0     CLE          0         115   \n9837  WAS    80  2018-04-06     1     ATL          0          97   \n9838  WAS    81  2018-04-10     1     BOS          1         113   \n9839  WAS    82  2018-04-11     0     ORL          0          92   \n\n      OppnentPoints  FieldGoals  FieldGoalsAttempted  ...  OppTotalFouls  \\\n0               109          40                   80  ...             22   \n1                92          35                   69  ...             26   \n2                94          38                   92  ...             15   \n3               122          43                   93  ...             30   \n4                96          33                   81  ...             29   \n...             ...         ...                  ...  ...            ...   \n9835            120          38                   72  ...             14   \n9836            119          47                   94  ...             14   \n9837            103          35                   87  ...             22   \n9838            101          41                   83  ...             18   \n9839            101          33                   95  ...             27   \n\n      DefRebounds  OppDefRebounds  PIR  OppPIR  Month  Year  Season  \\\n0              32              32  108     131     10  2014     one   \n1              34              33  128      88     11  2014     one   \n2              27              39   85     122     11  2014     one   \n3              31              40  111     142     11  2014     one   \n4              29              31  119      95     11  2014     one   \n...           ...             ...  ...     ...    ...   ...     ...   \n9835           33              36  104     155      4  2018    four   \n9836           29              30  129     138      4  2018    four   \n9837           36              43  105     110      4  2018    four   \n9838           41              31  134     110      4  2018    four   \n9839           32              36   75     108      4  2018    four   \n\n       Season_half  diff_points  \n0      Pre_AllStar            7  \n1      Pre_AllStar           10  \n2      Pre_AllStar            2  \n3      Pre_AllStar            3  \n4      Pre_AllStar            7  \n...            ...          ...  \n9835  Post_AllStar           16  \n9836  Post_AllStar            4  \n9837  Post_AllStar            6  \n9838  Post_AllStar           12  \n9839  Post_AllStar            9  \n\n[9840 rows x 49 columns]",
      "text/html": "<div>\n<style scoped>\n    .dataframe tbody tr th:only-of-type {\n        vertical-align: middle;\n    }\n\n    .dataframe tbody tr th {\n        vertical-align: top;\n    }\n\n    .dataframe thead th {\n        text-align: right;\n    }\n</style>\n<table border=\"1\" class=\"dataframe\">\n  <thead>\n    <tr style=\"text-align: right;\">\n      <th></th>\n      <th>Team</th>\n      <th>Game</th>\n      <th>Date</th>\n      <th>Home</th>\n      <th>Oppnent</th>\n      <th>WINorLOSS</th>\n      <th>TeamPoints</th>\n      <th>OppnentPoints</th>\n      <th>FieldGoals</th>\n      <th>FieldGoalsAttempted</th>\n      <th>...</th>\n      <th>OppTotalFouls</th>\n      <th>DefRebounds</th>\n      <th>OppDefRebounds</th>\n      <th>PIR</th>\n      <th>OppPIR</th>\n      <th>Month</th>\n      <th>Year</th>\n      <th>Season</th>\n      <th>Season_half</th>\n      <th>diff_points</th>\n    </tr>\n  </thead>\n  <tbody>\n    <tr>\n      <th>0</th>\n      <td>ATL</td>\n      <td>1</td>\n      <td>2014-10-29</td>\n      <td>0</td>\n      <td>TOR</td>\n      <td>0</td>\n      <td>102</td>\n      <td>109</td>\n      <td>40</td>\n      <td>80</td>\n      <td>...</td>\n      <td>22</td>\n      <td>32</td>\n      <td>32</td>\n      <td>108</td>\n      <td>131</td>\n      <td>10</td>\n      <td>2014</td>\n      <td>one</td>\n      <td>Pre_AllStar</td>\n      <td>7</td>\n    </tr>\n    <tr>\n      <th>1</th>\n      <td>ATL</td>\n      <td>2</td>\n      <td>2014-11-01</td>\n      <td>1</td>\n      <td>IND</td>\n      <td>1</td>\n      <td>102</td>\n      <td>92</td>\n      <td>35</td>\n      <td>69</td>\n      <td>...</td>\n      <td>26</td>\n      <td>34</td>\n      <td>33</td>\n      <td>128</td>\n      <td>88</td>\n      <td>11</td>\n      <td>2014</td>\n      <td>one</td>\n      <td>Pre_AllStar</td>\n      <td>10</td>\n    </tr>\n    <tr>\n      <th>2</th>\n      <td>ATL</td>\n      <td>3</td>\n      <td>2014-11-05</td>\n      <td>0</td>\n      <td>SAS</td>\n      <td>0</td>\n      <td>92</td>\n      <td>94</td>\n      <td>38</td>\n      <td>92</td>\n      <td>...</td>\n      <td>15</td>\n      <td>27</td>\n      <td>39</td>\n      <td>85</td>\n      <td>122</td>\n      <td>11</td>\n      <td>2014</td>\n      <td>one</td>\n      <td>Pre_AllStar</td>\n      <td>2</td>\n    </tr>\n    <tr>\n      <th>3</th>\n      <td>ATL</td>\n      <td>4</td>\n      <td>2014-11-07</td>\n      <td>0</td>\n      <td>CHO</td>\n      <td>0</td>\n      <td>119</td>\n      <td>122</td>\n      <td>43</td>\n      <td>93</td>\n      <td>...</td>\n      <td>30</td>\n      <td>31</td>\n      <td>40</td>\n      <td>111</td>\n      <td>142</td>\n      <td>11</td>\n      <td>2014</td>\n      <td>one</td>\n      <td>Pre_AllStar</td>\n      <td>3</td>\n    </tr>\n    <tr>\n      <th>4</th>\n      <td>ATL</td>\n      <td>5</td>\n      <td>2014-11-08</td>\n      <td>1</td>\n      <td>NYK</td>\n      <td>1</td>\n      <td>103</td>\n      <td>96</td>\n      <td>33</td>\n      <td>81</td>\n      <td>...</td>\n      <td>29</td>\n      <td>29</td>\n      <td>31</td>\n      <td>119</td>\n      <td>95</td>\n      <td>11</td>\n      <td>2014</td>\n      <td>one</td>\n      <td>Pre_AllStar</td>\n      <td>7</td>\n    </tr>\n    <tr>\n      <th>...</th>\n      <td>...</td>\n      <td>...</td>\n      <td>...</td>\n      <td>...</td>\n      <td>...</td>\n      <td>...</td>\n      <td>...</td>\n      <td>...</td>\n      <td>...</td>\n      <td>...</td>\n      <td>...</td>\n      <td>...</td>\n      <td>...</td>\n      <td>...</td>\n      <td>...</td>\n      <td>...</td>\n      <td>...</td>\n      <td>...</td>\n      <td>...</td>\n      <td>...</td>\n      <td>...</td>\n    </tr>\n    <tr>\n      <th>9835</th>\n      <td>WAS</td>\n      <td>78</td>\n      <td>2018-04-03</td>\n      <td>0</td>\n      <td>HOU</td>\n      <td>0</td>\n      <td>104</td>\n      <td>120</td>\n      <td>38</td>\n      <td>72</td>\n      <td>...</td>\n      <td>14</td>\n      <td>33</td>\n      <td>36</td>\n      <td>104</td>\n      <td>155</td>\n      <td>4</td>\n      <td>2018</td>\n      <td>four</td>\n      <td>Post_AllStar</td>\n      <td>16</td>\n    </tr>\n    <tr>\n      <th>9836</th>\n      <td>WAS</td>\n      <td>79</td>\n      <td>2018-04-05</td>\n      <td>0</td>\n      <td>CLE</td>\n      <td>0</td>\n      <td>115</td>\n      <td>119</td>\n      <td>47</td>\n      <td>94</td>\n      <td>...</td>\n      <td>14</td>\n      <td>29</td>\n      <td>30</td>\n      <td>129</td>\n      <td>138</td>\n      <td>4</td>\n      <td>2018</td>\n      <td>four</td>\n      <td>Post_AllStar</td>\n      <td>4</td>\n    </tr>\n    <tr>\n      <th>9837</th>\n      <td>WAS</td>\n      <td>80</td>\n      <td>2018-04-06</td>\n      <td>1</td>\n      <td>ATL</td>\n      <td>0</td>\n      <td>97</td>\n      <td>103</td>\n      <td>35</td>\n      <td>87</td>\n      <td>...</td>\n      <td>22</td>\n      <td>36</td>\n      <td>43</td>\n      <td>105</td>\n      <td>110</td>\n      <td>4</td>\n      <td>2018</td>\n      <td>four</td>\n      <td>Post_AllStar</td>\n      <td>6</td>\n    </tr>\n    <tr>\n      <th>9838</th>\n      <td>WAS</td>\n      <td>81</td>\n      <td>2018-04-10</td>\n      <td>1</td>\n      <td>BOS</td>\n      <td>1</td>\n      <td>113</td>\n      <td>101</td>\n      <td>41</td>\n      <td>83</td>\n      <td>...</td>\n      <td>18</td>\n      <td>41</td>\n      <td>31</td>\n      <td>134</td>\n      <td>110</td>\n      <td>4</td>\n      <td>2018</td>\n      <td>four</td>\n      <td>Post_AllStar</td>\n      <td>12</td>\n    </tr>\n    <tr>\n      <th>9839</th>\n      <td>WAS</td>\n      <td>82</td>\n      <td>2018-04-11</td>\n      <td>0</td>\n      <td>ORL</td>\n      <td>0</td>\n      <td>92</td>\n      <td>101</td>\n      <td>33</td>\n      <td>95</td>\n      <td>...</td>\n      <td>27</td>\n      <td>32</td>\n      <td>36</td>\n      <td>75</td>\n      <td>108</td>\n      <td>4</td>\n      <td>2018</td>\n      <td>four</td>\n      <td>Post_AllStar</td>\n      <td>9</td>\n    </tr>\n  </tbody>\n</table>\n<p>9840 rows × 49 columns</p>\n</div>"
     },
     "execution_count": 99,
     "metadata": {},
     "output_type": "execute_result"
    }
   ],
   "source": [
    "nba_df"
   ],
   "metadata": {
    "collapsed": false,
    "pycharm": {
     "name": "#%%\n"
    }
   }
  },
  {
   "cell_type": "markdown",
   "source": [
    "# Team Rank (below) was tested, but caused features leakage, thus ignored"
   ],
   "metadata": {
    "collapsed": false,
    "pycharm": {
     "name": "#%% md\n"
    }
   }
  },
  {
   "cell_type": "code",
   "execution_count": 48,
   "outputs": [
    {
     "data": {
      "text/plain": "             WINorLOSS\nTeam Season           \nATL  four           24\n     one            60\n     three          43\n     two            48\nBOS  four           55\n...                ...\nUTA  two            40\nWAS  four           43\n     one            46\n     three          49\n     two            41\n\n[120 rows x 1 columns]",
      "text/html": "<div>\n<style scoped>\n    .dataframe tbody tr th:only-of-type {\n        vertical-align: middle;\n    }\n\n    .dataframe tbody tr th {\n        vertical-align: top;\n    }\n\n    .dataframe thead th {\n        text-align: right;\n    }\n</style>\n<table border=\"1\" class=\"dataframe\">\n  <thead>\n    <tr style=\"text-align: right;\">\n      <th></th>\n      <th></th>\n      <th>WINorLOSS</th>\n    </tr>\n    <tr>\n      <th>Team</th>\n      <th>Season</th>\n      <th></th>\n    </tr>\n  </thead>\n  <tbody>\n    <tr>\n      <th rowspan=\"4\" valign=\"top\">ATL</th>\n      <th>four</th>\n      <td>24</td>\n    </tr>\n    <tr>\n      <th>one</th>\n      <td>60</td>\n    </tr>\n    <tr>\n      <th>three</th>\n      <td>43</td>\n    </tr>\n    <tr>\n      <th>two</th>\n      <td>48</td>\n    </tr>\n    <tr>\n      <th>BOS</th>\n      <th>four</th>\n      <td>55</td>\n    </tr>\n    <tr>\n      <th>...</th>\n      <th>...</th>\n      <td>...</td>\n    </tr>\n    <tr>\n      <th>UTA</th>\n      <th>two</th>\n      <td>40</td>\n    </tr>\n    <tr>\n      <th rowspan=\"4\" valign=\"top\">WAS</th>\n      <th>four</th>\n      <td>43</td>\n    </tr>\n    <tr>\n      <th>one</th>\n      <td>46</td>\n    </tr>\n    <tr>\n      <th>three</th>\n      <td>49</td>\n    </tr>\n    <tr>\n      <th>two</th>\n      <td>41</td>\n    </tr>\n  </tbody>\n</table>\n<p>120 rows × 1 columns</p>\n</div>"
     },
     "execution_count": 48,
     "metadata": {},
     "output_type": "execute_result"
    }
   ],
   "source": [
    "total_wins_season = pd.DataFrame(nba_df.groupby(['Team', 'Season'])['WINorLOSS'].sum())\n",
    "total_wins_season"
   ],
   "metadata": {
    "collapsed": false,
    "pycharm": {
     "name": "#%%\n"
    }
   }
  },
  {
   "cell_type": "code",
   "execution_count": 49,
   "outputs": [
    {
     "data": {
      "text/plain": "     Team  Game        Date  Home Oppnent  WINorLOSS_x  TeamPoints  \\\n0     ATL     1  2014-10-29     0     TOR            0         102   \n1     ATL     2  2014-11-01     1     IND            1         102   \n2     ATL     3  2014-11-05     0     SAS            0          92   \n3     ATL     4  2014-11-07     0     CHO            0         119   \n4     ATL     5  2014-11-08     1     NYK            1         103   \n...   ...   ...         ...   ...     ...          ...         ...   \n9835  WAS    78  2018-04-03     0     HOU            0         104   \n9836  WAS    79  2018-04-05     0     CLE            0         115   \n9837  WAS    80  2018-04-06     1     ATL            0          97   \n9838  WAS    81  2018-04-10     1     BOS            1         113   \n9839  WAS    82  2018-04-11     0     ORL            0          92   \n\n      OppnentPoints  FieldGoals  FieldGoalsAttempted  ...  DefRebounds  \\\n0               109          40                   80  ...           32   \n1                92          35                   69  ...           34   \n2                94          38                   92  ...           27   \n3               122          43                   93  ...           31   \n4                96          33                   81  ...           29   \n...             ...         ...                  ...  ...          ...   \n9835            120          38                   72  ...           33   \n9836            119          47                   94  ...           29   \n9837            103          35                   87  ...           36   \n9838            101          41                   83  ...           41   \n9839            101          33                   95  ...           32   \n\n      OppDefRebounds  PIR  OppPIR  Month  Year  Season   Season_half  \\\n0                 32  108     131     10  2014     one  Post_AllStar   \n1                 33  128      88     11  2014     one  Post_AllStar   \n2                 39   85     122     11  2014     one  Post_AllStar   \n3                 40  111     142     11  2014     one  Post_AllStar   \n4                 31  119      95     11  2014     one  Post_AllStar   \n...              ...  ...     ...    ...   ...     ...           ...   \n9835              36  104     155      4  2018    four  Post_AllStar   \n9836              30  129     138      4  2018    four  Post_AllStar   \n9837              43  105     110      4  2018    four  Post_AllStar   \n9838              31  134     110      4  2018    four  Post_AllStar   \n9839              36   75     108      4  2018    four  Post_AllStar   \n\n      diff_points  WINorLOSS_y  \n0               7           60  \n1              10           60  \n2               2           60  \n3               3           60  \n4               7           60  \n...           ...          ...  \n9835           16           43  \n9836            4           43  \n9837            6           43  \n9838           12           43  \n9839            9           43  \n\n[9840 rows x 50 columns]",
      "text/html": "<div>\n<style scoped>\n    .dataframe tbody tr th:only-of-type {\n        vertical-align: middle;\n    }\n\n    .dataframe tbody tr th {\n        vertical-align: top;\n    }\n\n    .dataframe thead th {\n        text-align: right;\n    }\n</style>\n<table border=\"1\" class=\"dataframe\">\n  <thead>\n    <tr style=\"text-align: right;\">\n      <th></th>\n      <th>Team</th>\n      <th>Game</th>\n      <th>Date</th>\n      <th>Home</th>\n      <th>Oppnent</th>\n      <th>WINorLOSS_x</th>\n      <th>TeamPoints</th>\n      <th>OppnentPoints</th>\n      <th>FieldGoals</th>\n      <th>FieldGoalsAttempted</th>\n      <th>...</th>\n      <th>DefRebounds</th>\n      <th>OppDefRebounds</th>\n      <th>PIR</th>\n      <th>OppPIR</th>\n      <th>Month</th>\n      <th>Year</th>\n      <th>Season</th>\n      <th>Season_half</th>\n      <th>diff_points</th>\n      <th>WINorLOSS_y</th>\n    </tr>\n  </thead>\n  <tbody>\n    <tr>\n      <th>0</th>\n      <td>ATL</td>\n      <td>1</td>\n      <td>2014-10-29</td>\n      <td>0</td>\n      <td>TOR</td>\n      <td>0</td>\n      <td>102</td>\n      <td>109</td>\n      <td>40</td>\n      <td>80</td>\n      <td>...</td>\n      <td>32</td>\n      <td>32</td>\n      <td>108</td>\n      <td>131</td>\n      <td>10</td>\n      <td>2014</td>\n      <td>one</td>\n      <td>Post_AllStar</td>\n      <td>7</td>\n      <td>60</td>\n    </tr>\n    <tr>\n      <th>1</th>\n      <td>ATL</td>\n      <td>2</td>\n      <td>2014-11-01</td>\n      <td>1</td>\n      <td>IND</td>\n      <td>1</td>\n      <td>102</td>\n      <td>92</td>\n      <td>35</td>\n      <td>69</td>\n      <td>...</td>\n      <td>34</td>\n      <td>33</td>\n      <td>128</td>\n      <td>88</td>\n      <td>11</td>\n      <td>2014</td>\n      <td>one</td>\n      <td>Post_AllStar</td>\n      <td>10</td>\n      <td>60</td>\n    </tr>\n    <tr>\n      <th>2</th>\n      <td>ATL</td>\n      <td>3</td>\n      <td>2014-11-05</td>\n      <td>0</td>\n      <td>SAS</td>\n      <td>0</td>\n      <td>92</td>\n      <td>94</td>\n      <td>38</td>\n      <td>92</td>\n      <td>...</td>\n      <td>27</td>\n      <td>39</td>\n      <td>85</td>\n      <td>122</td>\n      <td>11</td>\n      <td>2014</td>\n      <td>one</td>\n      <td>Post_AllStar</td>\n      <td>2</td>\n      <td>60</td>\n    </tr>\n    <tr>\n      <th>3</th>\n      <td>ATL</td>\n      <td>4</td>\n      <td>2014-11-07</td>\n      <td>0</td>\n      <td>CHO</td>\n      <td>0</td>\n      <td>119</td>\n      <td>122</td>\n      <td>43</td>\n      <td>93</td>\n      <td>...</td>\n      <td>31</td>\n      <td>40</td>\n      <td>111</td>\n      <td>142</td>\n      <td>11</td>\n      <td>2014</td>\n      <td>one</td>\n      <td>Post_AllStar</td>\n      <td>3</td>\n      <td>60</td>\n    </tr>\n    <tr>\n      <th>4</th>\n      <td>ATL</td>\n      <td>5</td>\n      <td>2014-11-08</td>\n      <td>1</td>\n      <td>NYK</td>\n      <td>1</td>\n      <td>103</td>\n      <td>96</td>\n      <td>33</td>\n      <td>81</td>\n      <td>...</td>\n      <td>29</td>\n      <td>31</td>\n      <td>119</td>\n      <td>95</td>\n      <td>11</td>\n      <td>2014</td>\n      <td>one</td>\n      <td>Post_AllStar</td>\n      <td>7</td>\n      <td>60</td>\n    </tr>\n    <tr>\n      <th>...</th>\n      <td>...</td>\n      <td>...</td>\n      <td>...</td>\n      <td>...</td>\n      <td>...</td>\n      <td>...</td>\n      <td>...</td>\n      <td>...</td>\n      <td>...</td>\n      <td>...</td>\n      <td>...</td>\n      <td>...</td>\n      <td>...</td>\n      <td>...</td>\n      <td>...</td>\n      <td>...</td>\n      <td>...</td>\n      <td>...</td>\n      <td>...</td>\n      <td>...</td>\n      <td>...</td>\n    </tr>\n    <tr>\n      <th>9835</th>\n      <td>WAS</td>\n      <td>78</td>\n      <td>2018-04-03</td>\n      <td>0</td>\n      <td>HOU</td>\n      <td>0</td>\n      <td>104</td>\n      <td>120</td>\n      <td>38</td>\n      <td>72</td>\n      <td>...</td>\n      <td>33</td>\n      <td>36</td>\n      <td>104</td>\n      <td>155</td>\n      <td>4</td>\n      <td>2018</td>\n      <td>four</td>\n      <td>Post_AllStar</td>\n      <td>16</td>\n      <td>43</td>\n    </tr>\n    <tr>\n      <th>9836</th>\n      <td>WAS</td>\n      <td>79</td>\n      <td>2018-04-05</td>\n      <td>0</td>\n      <td>CLE</td>\n      <td>0</td>\n      <td>115</td>\n      <td>119</td>\n      <td>47</td>\n      <td>94</td>\n      <td>...</td>\n      <td>29</td>\n      <td>30</td>\n      <td>129</td>\n      <td>138</td>\n      <td>4</td>\n      <td>2018</td>\n      <td>four</td>\n      <td>Post_AllStar</td>\n      <td>4</td>\n      <td>43</td>\n    </tr>\n    <tr>\n      <th>9837</th>\n      <td>WAS</td>\n      <td>80</td>\n      <td>2018-04-06</td>\n      <td>1</td>\n      <td>ATL</td>\n      <td>0</td>\n      <td>97</td>\n      <td>103</td>\n      <td>35</td>\n      <td>87</td>\n      <td>...</td>\n      <td>36</td>\n      <td>43</td>\n      <td>105</td>\n      <td>110</td>\n      <td>4</td>\n      <td>2018</td>\n      <td>four</td>\n      <td>Post_AllStar</td>\n      <td>6</td>\n      <td>43</td>\n    </tr>\n    <tr>\n      <th>9838</th>\n      <td>WAS</td>\n      <td>81</td>\n      <td>2018-04-10</td>\n      <td>1</td>\n      <td>BOS</td>\n      <td>1</td>\n      <td>113</td>\n      <td>101</td>\n      <td>41</td>\n      <td>83</td>\n      <td>...</td>\n      <td>41</td>\n      <td>31</td>\n      <td>134</td>\n      <td>110</td>\n      <td>4</td>\n      <td>2018</td>\n      <td>four</td>\n      <td>Post_AllStar</td>\n      <td>12</td>\n      <td>43</td>\n    </tr>\n    <tr>\n      <th>9839</th>\n      <td>WAS</td>\n      <td>82</td>\n      <td>2018-04-11</td>\n      <td>0</td>\n      <td>ORL</td>\n      <td>0</td>\n      <td>92</td>\n      <td>101</td>\n      <td>33</td>\n      <td>95</td>\n      <td>...</td>\n      <td>32</td>\n      <td>36</td>\n      <td>75</td>\n      <td>108</td>\n      <td>4</td>\n      <td>2018</td>\n      <td>four</td>\n      <td>Post_AllStar</td>\n      <td>9</td>\n      <td>43</td>\n    </tr>\n  </tbody>\n</table>\n<p>9840 rows × 50 columns</p>\n</div>"
     },
     "execution_count": 49,
     "metadata": {},
     "output_type": "execute_result"
    }
   ],
   "source": [
    "team_rank = nba_df.merge(total_wins_season, left_on=['Team','Season'], right_index = True)\n",
    "team_rank"
   ],
   "metadata": {
    "collapsed": false,
    "pycharm": {
     "name": "#%%\n"
    }
   }
  },
  {
   "cell_type": "markdown",
   "source": [
    "# DF for ML:"
   ],
   "metadata": {
    "collapsed": false,
    "pycharm": {
     "name": "#%% md\n"
    }
   }
  },
  {
   "cell_type": "code",
   "execution_count": 100,
   "outputs": [
    {
     "data": {
      "text/plain": "      Game  Home  WINorLOSS Season   Season_half\n0        1     0          0    one   Pre_AllStar\n1        2     1          1    one   Pre_AllStar\n2        3     0          0    one   Pre_AllStar\n3        4     0          0    one   Pre_AllStar\n4        5     1          1    one   Pre_AllStar\n...    ...   ...        ...    ...           ...\n9835    78     0          0   four  Post_AllStar\n9836    79     0          0   four  Post_AllStar\n9837    80     1          0   four  Post_AllStar\n9838    81     1          1   four  Post_AllStar\n9839    82     0          0   four  Post_AllStar\n\n[9840 rows x 5 columns]",
      "text/html": "<div>\n<style scoped>\n    .dataframe tbody tr th:only-of-type {\n        vertical-align: middle;\n    }\n\n    .dataframe tbody tr th {\n        vertical-align: top;\n    }\n\n    .dataframe thead th {\n        text-align: right;\n    }\n</style>\n<table border=\"1\" class=\"dataframe\">\n  <thead>\n    <tr style=\"text-align: right;\">\n      <th></th>\n      <th>Game</th>\n      <th>Home</th>\n      <th>WINorLOSS</th>\n      <th>Season</th>\n      <th>Season_half</th>\n    </tr>\n  </thead>\n  <tbody>\n    <tr>\n      <th>0</th>\n      <td>1</td>\n      <td>0</td>\n      <td>0</td>\n      <td>one</td>\n      <td>Pre_AllStar</td>\n    </tr>\n    <tr>\n      <th>1</th>\n      <td>2</td>\n      <td>1</td>\n      <td>1</td>\n      <td>one</td>\n      <td>Pre_AllStar</td>\n    </tr>\n    <tr>\n      <th>2</th>\n      <td>3</td>\n      <td>0</td>\n      <td>0</td>\n      <td>one</td>\n      <td>Pre_AllStar</td>\n    </tr>\n    <tr>\n      <th>3</th>\n      <td>4</td>\n      <td>0</td>\n      <td>0</td>\n      <td>one</td>\n      <td>Pre_AllStar</td>\n    </tr>\n    <tr>\n      <th>4</th>\n      <td>5</td>\n      <td>1</td>\n      <td>1</td>\n      <td>one</td>\n      <td>Pre_AllStar</td>\n    </tr>\n    <tr>\n      <th>...</th>\n      <td>...</td>\n      <td>...</td>\n      <td>...</td>\n      <td>...</td>\n      <td>...</td>\n    </tr>\n    <tr>\n      <th>9835</th>\n      <td>78</td>\n      <td>0</td>\n      <td>0</td>\n      <td>four</td>\n      <td>Post_AllStar</td>\n    </tr>\n    <tr>\n      <th>9836</th>\n      <td>79</td>\n      <td>0</td>\n      <td>0</td>\n      <td>four</td>\n      <td>Post_AllStar</td>\n    </tr>\n    <tr>\n      <th>9837</th>\n      <td>80</td>\n      <td>1</td>\n      <td>0</td>\n      <td>four</td>\n      <td>Post_AllStar</td>\n    </tr>\n    <tr>\n      <th>9838</th>\n      <td>81</td>\n      <td>1</td>\n      <td>1</td>\n      <td>four</td>\n      <td>Post_AllStar</td>\n    </tr>\n    <tr>\n      <th>9839</th>\n      <td>82</td>\n      <td>0</td>\n      <td>0</td>\n      <td>four</td>\n      <td>Post_AllStar</td>\n    </tr>\n  </tbody>\n</table>\n<p>9840 rows × 5 columns</p>\n</div>"
     },
     "execution_count": 100,
     "metadata": {},
     "output_type": "execute_result"
    }
   ],
   "source": [
    "nba_df_for_ML = nba_df[['Game', 'Home','WINorLOSS', 'Season', 'Season_half']].copy()\n",
    "nba_df_for_ML"
   ],
   "metadata": {
    "collapsed": false,
    "pycharm": {
     "name": "#%%\n"
    }
   }
  },
  {
   "cell_type": "markdown",
   "source": [
    "# Avg last 5_games:"
   ],
   "metadata": {
    "collapsed": false,
    "pycharm": {
     "name": "#%% md\n"
    }
   }
  },
  {
   "cell_type": "code",
   "execution_count": 101,
   "outputs": [],
   "source": [
    "# Team stats coulmns are averaged for the last 5 games. The first 5 games are group_aggregated.\n",
    "# In some runs, Opponent Columns were averaged too, but it was not beneficial\n",
    "\n",
    "def five_last_games_avg(col):\n",
    "    first_games_avg_dict = {}\n",
    "\n",
    "    for idx in nba_df.index:\n",
    "        sum_points=0\n",
    "        if nba_df.loc[idx]['Game'] ==1:\n",
    "            first_games_avg = (nba_df.iloc[idx:idx+5][col].sum())/5\n",
    "            first_games_avg_dict.update({idx:first_games_avg})\n",
    "            for i in range(5):\n",
    "                first_games_avg_dict.update({idx+i:first_games_avg})\n",
    "        elif nba_df.loc[idx]['Game'] > 5:\n",
    "            y = nba_df.loc[idx]['Game'] -5\n",
    "            for i in range(y,nba_df.loc[idx]['Game']):\n",
    "                sum_points+=nba_df.loc[i][col]\n",
    "                first_games_avg_dict.update({idx:(sum_points/5)})\n",
    "\n",
    "    nba_df_for_ML[f'avg_{col}'] = pd.Series(first_games_avg_dict)"
   ],
   "metadata": {
    "collapsed": false,
    "pycharm": {
     "name": "#%%\n"
    }
   }
  },
  {
   "cell_type": "code",
   "execution_count": 102,
   "outputs": [],
   "source": [
    "# VERY VERY SLOW:\n",
    "# %%timeit\n",
    "# 1 loop, best of 3: 5min 57s per loop\n",
    "\n",
    "nba_df_columns_for_avg = ['PIR', 'OppPIR','TeamPoints',\n",
    "                          'FieldGoalsAttempted', 'FieldGoals.',\n",
    "                          'X3PointShotsAttempted', 'X3PointShots.',\n",
    "                          'FreeThrowsAttempted', 'FreeThrows.', 'OffRebounds',\n",
    "                          'DefRebounds', 'Assists', 'Steals', 'Blocks', 'Turnovers', 'TotalFouls','diff_points']\n",
    "\n",
    "for a in nba_df_columns_for_avg:\n",
    "    five_last_games_avg(a)"
   ],
   "metadata": {
    "collapsed": false,
    "pycharm": {
     "name": "#%%\n"
    }
   }
  },
  {
   "cell_type": "markdown",
   "source": [
    "# Calculating Rest Days:"
   ],
   "metadata": {
    "collapsed": false,
    "pycharm": {
     "name": "#%% md\n"
    }
   }
  },
  {
   "cell_type": "code",
   "execution_count": 103,
   "outputs": [
    {
     "data": {
      "text/plain": "0      2014-10-29\n1      2014-11-01\n2      2014-11-05\n3      2014-11-07\n4      2014-11-08\n          ...    \n9835   2018-04-03\n9836   2018-04-05\n9837   2018-04-06\n9838   2018-04-10\n9839   2018-04-11\nName: Game_Date, Length: 9840, dtype: datetime64[ns]"
     },
     "execution_count": 103,
     "metadata": {},
     "output_type": "execute_result"
    }
   ],
   "source": [
    "from datetime import timedelta\n",
    "nba_df['Game_Date'] = pd.to_datetime(nba_df['Date'])\n",
    "nba_df['Game_Date']"
   ],
   "metadata": {
    "collapsed": false,
    "pycharm": {
     "name": "#%%\n"
    }
   }
  },
  {
   "cell_type": "code",
   "execution_count": 104,
   "outputs": [],
   "source": [
    "def scale_rest_days(i):\n",
    "    x=nba_df.loc[i]['Game']\n",
    "    if x>3:\n",
    "        if (nba_df.loc[i]['Game_Date']- nba_df.loc[i-1]['Game_Date']).days==1:\n",
    "            if (nba_df.loc[i]['Game_Date']- nba_df.loc[i-2]['Game_Date']).days==2:\n",
    "                if (nba_df.loc[i]['Game_Date']- nba_df.loc[i-3]['Game_Date']).days==3:\n",
    "                    return -3\n",
    "                else:\n",
    "                    return -1\n",
    "            elif (nba_df.loc[i]['Game_Date']- nba_df.loc[i-2]['Game_Date']).days==3:\n",
    "                return 1\n",
    "            else:\n",
    "                return 2\n",
    "        elif (nba_df.loc[i]['Game_Date']- nba_df.loc[i-1]['Game_Date']).days==2:\n",
    "            if (nba_df.loc[i]['Game_Date']- nba_df.loc[i-2]['Game_Date']).days==3:\n",
    "                return 3\n",
    "            else:\n",
    "                return 4\n",
    "        elif (nba_df.loc[i]['Game_Date']- nba_df.loc[i-1]['Game_Date']).days==3:\n",
    "            return 5\n",
    "        else:\n",
    "            return 6\n",
    "    else:\n",
    "        return 0"
   ],
   "metadata": {
    "collapsed": false,
    "pycharm": {
     "name": "#%%\n"
    }
   }
  },
  {
   "cell_type": "code",
   "execution_count": 105,
   "outputs": [
    {
     "data": {
      "text/plain": "      Game  Home  WINorLOSS Season   Season_half  avg_PIR  avg_OppPIR  \\\n0        1     0          0    one   Pre_AllStar    110.2       115.6   \n1        2     1          1    one   Pre_AllStar    110.2       115.6   \n2        3     0          0    one   Pre_AllStar    110.2       115.6   \n3        4     0          0    one   Pre_AllStar    110.2       115.6   \n4        5     1          1    one   Pre_AllStar    110.2       115.6   \n...    ...   ...        ...    ...           ...      ...         ...   \n9835    78     0          0   four  Post_AllStar    129.2       101.8   \n9836    79     0          0   four  Post_AllStar    130.4       100.0   \n9837    80     1          0   four  Post_AllStar    129.4        99.4   \n9838    81     1          1   four  Post_AllStar    118.6       107.0   \n9839    82     0          0   four  Post_AllStar    111.4       115.2   \n\n      avg_TeamPoints  avg_FieldGoalsAttempted  avg_FieldGoals.  ...  \\\n0              103.6                     83.0           0.4578  ...   \n1              103.6                     83.0           0.4578  ...   \n2              103.6                     83.0           0.4578  ...   \n3              103.6                     83.0           0.4578  ...   \n4              103.6                     83.0           0.4578  ...   \n...              ...                      ...              ...  ...   \n9835           107.4                     82.8           0.5048  ...   \n9836           108.0                     83.4           0.5136  ...   \n9837           108.8                     84.0           0.5012  ...   \n9838           104.2                     85.2           0.4702  ...   \n9839           102.0                     87.0           0.4496  ...   \n\n      avg_FreeThrows.  avg_OffRebounds  avg_DefRebounds  avg_Assists  \\\n0              0.7122              8.4             30.6         24.8   \n1              0.7122              8.4             30.6         24.8   \n2              0.7122              8.4             30.6         24.8   \n3              0.7122              8.4             30.6         24.8   \n4              0.7122              8.4             30.6         24.8   \n...               ...              ...              ...          ...   \n9835           0.7538              9.8             32.8         30.0   \n9836           0.7372              9.2             33.8         30.4   \n9837           0.7472              8.2             33.8         30.2   \n9838           0.7440              9.2             33.4         27.6   \n9839           0.7440              9.6             30.6         26.4   \n\n      avg_Steals  avg_Blocks  avg_Turnovers  avg_TotalFouls  avg_diff_points  \\\n0            9.6         5.4           13.8            23.8              5.8   \n1            9.6         5.4           13.8            23.8              5.8   \n2            9.6         5.4           13.8            23.8              5.8   \n3            9.6         5.4           13.8            23.8              5.8   \n4            9.6         5.4           13.8            23.8              5.8   \n...          ...         ...            ...             ...              ...   \n9835         9.6         3.2           13.2            17.0             17.0   \n9836        10.6         3.2           13.6            16.6             19.2   \n9837        11.0         3.6           12.4            18.2             19.0   \n9838        10.0         3.4           11.6            18.4             13.4   \n9839        10.2         4.6           11.6            18.8              9.2   \n\n      rest_days_scale  \n0                   0  \n1                   0  \n2                   0  \n3                   4  \n4                   1  \n...               ...  \n9835                3  \n9836                4  \n9837                1  \n9838                6  \n9839                2  \n\n[9840 rows x 23 columns]",
      "text/html": "<div>\n<style scoped>\n    .dataframe tbody tr th:only-of-type {\n        vertical-align: middle;\n    }\n\n    .dataframe tbody tr th {\n        vertical-align: top;\n    }\n\n    .dataframe thead th {\n        text-align: right;\n    }\n</style>\n<table border=\"1\" class=\"dataframe\">\n  <thead>\n    <tr style=\"text-align: right;\">\n      <th></th>\n      <th>Game</th>\n      <th>Home</th>\n      <th>WINorLOSS</th>\n      <th>Season</th>\n      <th>Season_half</th>\n      <th>avg_PIR</th>\n      <th>avg_OppPIR</th>\n      <th>avg_TeamPoints</th>\n      <th>avg_FieldGoalsAttempted</th>\n      <th>avg_FieldGoals.</th>\n      <th>...</th>\n      <th>avg_FreeThrows.</th>\n      <th>avg_OffRebounds</th>\n      <th>avg_DefRebounds</th>\n      <th>avg_Assists</th>\n      <th>avg_Steals</th>\n      <th>avg_Blocks</th>\n      <th>avg_Turnovers</th>\n      <th>avg_TotalFouls</th>\n      <th>avg_diff_points</th>\n      <th>rest_days_scale</th>\n    </tr>\n  </thead>\n  <tbody>\n    <tr>\n      <th>0</th>\n      <td>1</td>\n      <td>0</td>\n      <td>0</td>\n      <td>one</td>\n      <td>Pre_AllStar</td>\n      <td>110.2</td>\n      <td>115.6</td>\n      <td>103.6</td>\n      <td>83.0</td>\n      <td>0.4578</td>\n      <td>...</td>\n      <td>0.7122</td>\n      <td>8.4</td>\n      <td>30.6</td>\n      <td>24.8</td>\n      <td>9.6</td>\n      <td>5.4</td>\n      <td>13.8</td>\n      <td>23.8</td>\n      <td>5.8</td>\n      <td>0</td>\n    </tr>\n    <tr>\n      <th>1</th>\n      <td>2</td>\n      <td>1</td>\n      <td>1</td>\n      <td>one</td>\n      <td>Pre_AllStar</td>\n      <td>110.2</td>\n      <td>115.6</td>\n      <td>103.6</td>\n      <td>83.0</td>\n      <td>0.4578</td>\n      <td>...</td>\n      <td>0.7122</td>\n      <td>8.4</td>\n      <td>30.6</td>\n      <td>24.8</td>\n      <td>9.6</td>\n      <td>5.4</td>\n      <td>13.8</td>\n      <td>23.8</td>\n      <td>5.8</td>\n      <td>0</td>\n    </tr>\n    <tr>\n      <th>2</th>\n      <td>3</td>\n      <td>0</td>\n      <td>0</td>\n      <td>one</td>\n      <td>Pre_AllStar</td>\n      <td>110.2</td>\n      <td>115.6</td>\n      <td>103.6</td>\n      <td>83.0</td>\n      <td>0.4578</td>\n      <td>...</td>\n      <td>0.7122</td>\n      <td>8.4</td>\n      <td>30.6</td>\n      <td>24.8</td>\n      <td>9.6</td>\n      <td>5.4</td>\n      <td>13.8</td>\n      <td>23.8</td>\n      <td>5.8</td>\n      <td>0</td>\n    </tr>\n    <tr>\n      <th>3</th>\n      <td>4</td>\n      <td>0</td>\n      <td>0</td>\n      <td>one</td>\n      <td>Pre_AllStar</td>\n      <td>110.2</td>\n      <td>115.6</td>\n      <td>103.6</td>\n      <td>83.0</td>\n      <td>0.4578</td>\n      <td>...</td>\n      <td>0.7122</td>\n      <td>8.4</td>\n      <td>30.6</td>\n      <td>24.8</td>\n      <td>9.6</td>\n      <td>5.4</td>\n      <td>13.8</td>\n      <td>23.8</td>\n      <td>5.8</td>\n      <td>4</td>\n    </tr>\n    <tr>\n      <th>4</th>\n      <td>5</td>\n      <td>1</td>\n      <td>1</td>\n      <td>one</td>\n      <td>Pre_AllStar</td>\n      <td>110.2</td>\n      <td>115.6</td>\n      <td>103.6</td>\n      <td>83.0</td>\n      <td>0.4578</td>\n      <td>...</td>\n      <td>0.7122</td>\n      <td>8.4</td>\n      <td>30.6</td>\n      <td>24.8</td>\n      <td>9.6</td>\n      <td>5.4</td>\n      <td>13.8</td>\n      <td>23.8</td>\n      <td>5.8</td>\n      <td>1</td>\n    </tr>\n    <tr>\n      <th>...</th>\n      <td>...</td>\n      <td>...</td>\n      <td>...</td>\n      <td>...</td>\n      <td>...</td>\n      <td>...</td>\n      <td>...</td>\n      <td>...</td>\n      <td>...</td>\n      <td>...</td>\n      <td>...</td>\n      <td>...</td>\n      <td>...</td>\n      <td>...</td>\n      <td>...</td>\n      <td>...</td>\n      <td>...</td>\n      <td>...</td>\n      <td>...</td>\n      <td>...</td>\n      <td>...</td>\n    </tr>\n    <tr>\n      <th>9835</th>\n      <td>78</td>\n      <td>0</td>\n      <td>0</td>\n      <td>four</td>\n      <td>Post_AllStar</td>\n      <td>129.2</td>\n      <td>101.8</td>\n      <td>107.4</td>\n      <td>82.8</td>\n      <td>0.5048</td>\n      <td>...</td>\n      <td>0.7538</td>\n      <td>9.8</td>\n      <td>32.8</td>\n      <td>30.0</td>\n      <td>9.6</td>\n      <td>3.2</td>\n      <td>13.2</td>\n      <td>17.0</td>\n      <td>17.0</td>\n      <td>3</td>\n    </tr>\n    <tr>\n      <th>9836</th>\n      <td>79</td>\n      <td>0</td>\n      <td>0</td>\n      <td>four</td>\n      <td>Post_AllStar</td>\n      <td>130.4</td>\n      <td>100.0</td>\n      <td>108.0</td>\n      <td>83.4</td>\n      <td>0.5136</td>\n      <td>...</td>\n      <td>0.7372</td>\n      <td>9.2</td>\n      <td>33.8</td>\n      <td>30.4</td>\n      <td>10.6</td>\n      <td>3.2</td>\n      <td>13.6</td>\n      <td>16.6</td>\n      <td>19.2</td>\n      <td>4</td>\n    </tr>\n    <tr>\n      <th>9837</th>\n      <td>80</td>\n      <td>1</td>\n      <td>0</td>\n      <td>four</td>\n      <td>Post_AllStar</td>\n      <td>129.4</td>\n      <td>99.4</td>\n      <td>108.8</td>\n      <td>84.0</td>\n      <td>0.5012</td>\n      <td>...</td>\n      <td>0.7472</td>\n      <td>8.2</td>\n      <td>33.8</td>\n      <td>30.2</td>\n      <td>11.0</td>\n      <td>3.6</td>\n      <td>12.4</td>\n      <td>18.2</td>\n      <td>19.0</td>\n      <td>1</td>\n    </tr>\n    <tr>\n      <th>9838</th>\n      <td>81</td>\n      <td>1</td>\n      <td>1</td>\n      <td>four</td>\n      <td>Post_AllStar</td>\n      <td>118.6</td>\n      <td>107.0</td>\n      <td>104.2</td>\n      <td>85.2</td>\n      <td>0.4702</td>\n      <td>...</td>\n      <td>0.7440</td>\n      <td>9.2</td>\n      <td>33.4</td>\n      <td>27.6</td>\n      <td>10.0</td>\n      <td>3.4</td>\n      <td>11.6</td>\n      <td>18.4</td>\n      <td>13.4</td>\n      <td>6</td>\n    </tr>\n    <tr>\n      <th>9839</th>\n      <td>82</td>\n      <td>0</td>\n      <td>0</td>\n      <td>four</td>\n      <td>Post_AllStar</td>\n      <td>111.4</td>\n      <td>115.2</td>\n      <td>102.0</td>\n      <td>87.0</td>\n      <td>0.4496</td>\n      <td>...</td>\n      <td>0.7440</td>\n      <td>9.6</td>\n      <td>30.6</td>\n      <td>26.4</td>\n      <td>10.2</td>\n      <td>4.6</td>\n      <td>11.6</td>\n      <td>18.8</td>\n      <td>9.2</td>\n      <td>2</td>\n    </tr>\n  </tbody>\n</table>\n<p>9840 rows × 23 columns</p>\n</div>"
     },
     "execution_count": 105,
     "metadata": {},
     "output_type": "execute_result"
    }
   ],
   "source": [
    "nba_df['ind']=nba_df.index.values\n",
    "nba_df_for_ML['rest_days_scale']= nba_df['ind'].apply(scale_rest_days)\n",
    "nba_df_for_ML"
   ],
   "metadata": {
    "collapsed": false,
    "pycharm": {
     "name": "#%%\n"
    }
   }
  },
  {
   "cell_type": "code",
   "execution_count": 106,
   "outputs": [
    {
     "data": {
      "text/plain": "Timedelta('3 days 00:00:00')"
     },
     "execution_count": 106,
     "metadata": {},
     "output_type": "execute_result"
    }
   ],
   "source": [
    "nba_df.loc[1]['Game_Date']-nba_df.loc[0]['Game_Date']"
   ],
   "metadata": {
    "collapsed": false,
    "pycharm": {
     "name": "#%%\n"
    }
   }
  },
  {
   "cell_type": "markdown",
   "source": [
    "# Create Wins Streak"
   ],
   "metadata": {
    "collapsed": false,
    "pycharm": {
     "name": "#%% md\n"
    }
   }
  },
  {
   "cell_type": "code",
   "execution_count": 107,
   "outputs": [],
   "source": [
    "def sum_wins():\n",
    "    streak_dict = {}\n",
    "    sum_wins = 0\n",
    "    for idx in nba_df_for_ML.index:\n",
    "        if nba_df_for_ML.loc[idx]['Game'] == 1:\n",
    "            sum_wins = nba_df_for_ML.loc[idx]['WINorLOSS']\n",
    "            streak_dict.update({idx:sum_wins})\n",
    "        else:\n",
    "            if nba_df_for_ML.loc[idx-1]['WINorLOSS'] == 0:\n",
    "                sum_wins=0\n",
    "                streak_dict.update({idx:sum_wins})\n",
    "            else:\n",
    "                sum_wins += nba_df_for_ML.loc[idx-1]['WINorLOSS']\n",
    "                streak_dict.update({idx:sum_wins})\n",
    "    nba_df_for_ML['wins_streak'] = pd.Series(streak_dict)\n",
    "\n",
    "sum_wins()"
   ],
   "metadata": {
    "collapsed": false,
    "pycharm": {
     "name": "#%%\n"
    }
   }
  },
  {
   "cell_type": "code",
   "execution_count": 108,
   "outputs": [
    {
     "name": "stdout",
     "output_type": "stream",
     "text": [
      "(9840, 24)\n"
     ]
    },
    {
     "data": {
      "text/plain": "   Game  Home  WINorLOSS Season  Season_half  avg_PIR  avg_OppPIR  \\\n0     1     0          0    one  Pre_AllStar    110.2       115.6   \n1     2     1          1    one  Pre_AllStar    110.2       115.6   \n2     3     0          0    one  Pre_AllStar    110.2       115.6   \n3     4     0          0    one  Pre_AllStar    110.2       115.6   \n4     5     1          1    one  Pre_AllStar    110.2       115.6   \n5     6     0          1    one  Pre_AllStar    110.0       104.2   \n6     7     1          1    one  Pre_AllStar    108.0       107.8   \n7     8     1          1    one  Pre_AllStar    120.0       106.4   \n8     9     0          0    one  Pre_AllStar    118.0       110.0   \n9    10     1          0    one  Pre_AllStar    119.6       115.0   \n\n   avg_TeamPoints  avg_FieldGoalsAttempted  avg_FieldGoals.  ...  \\\n0           103.6                     83.0           0.4578  ...   \n1           103.6                     83.0           0.4578  ...   \n2           103.6                     83.0           0.4578  ...   \n3           103.6                     83.0           0.4578  ...   \n4           103.6                     83.0           0.4578  ...   \n5           101.4                     81.2           0.4338  ...   \n6           101.0                     82.6           0.4350  ...   \n7           105.4                     79.2           0.4644  ...   \n8           100.4                     78.6           0.4608  ...   \n9           101.6                     79.4           0.4758  ...   \n\n   avg_OffRebounds  avg_DefRebounds  avg_Assists  avg_Steals  avg_Blocks  \\\n0              8.4             30.6         24.8         9.6         5.4   \n1              8.4             30.6         24.8         9.6         5.4   \n2              8.4             30.6         24.8         9.6         5.4   \n3              8.4             30.6         24.8         9.6         5.4   \n4              8.4             30.6         24.8         9.6         5.4   \n5              8.2             30.0         23.6         9.8         4.4   \n6             10.2             29.8         23.0         9.4         4.0   \n7              8.8             31.0         24.4         8.6         4.0   \n8              9.6             30.0         24.0         8.2         5.0   \n9              9.8             29.2         24.8         7.6         4.6   \n\n   avg_Turnovers  avg_TotalFouls  avg_diff_points  rest_days_scale  \\\n0           13.8            23.8              5.8                0   \n1           13.8            23.8              5.8                0   \n2           13.8            23.8              5.8                0   \n3           13.8            23.8              5.8                4   \n4           13.8            23.8              5.8                1   \n5           13.4            22.2              5.6                3   \n6           14.6            20.6              4.2                4   \n7           14.6            19.6              6.0                4   \n8           14.4            15.4             12.0                1   \n9           14.8            15.4             11.6                5   \n\n   wins_streak  \n0            0  \n1            0  \n2            1  \n3            0  \n4            0  \n5            1  \n6            2  \n7            3  \n8            4  \n9            0  \n\n[10 rows x 24 columns]",
      "text/html": "<div>\n<style scoped>\n    .dataframe tbody tr th:only-of-type {\n        vertical-align: middle;\n    }\n\n    .dataframe tbody tr th {\n        vertical-align: top;\n    }\n\n    .dataframe thead th {\n        text-align: right;\n    }\n</style>\n<table border=\"1\" class=\"dataframe\">\n  <thead>\n    <tr style=\"text-align: right;\">\n      <th></th>\n      <th>Game</th>\n      <th>Home</th>\n      <th>WINorLOSS</th>\n      <th>Season</th>\n      <th>Season_half</th>\n      <th>avg_PIR</th>\n      <th>avg_OppPIR</th>\n      <th>avg_TeamPoints</th>\n      <th>avg_FieldGoalsAttempted</th>\n      <th>avg_FieldGoals.</th>\n      <th>...</th>\n      <th>avg_OffRebounds</th>\n      <th>avg_DefRebounds</th>\n      <th>avg_Assists</th>\n      <th>avg_Steals</th>\n      <th>avg_Blocks</th>\n      <th>avg_Turnovers</th>\n      <th>avg_TotalFouls</th>\n      <th>avg_diff_points</th>\n      <th>rest_days_scale</th>\n      <th>wins_streak</th>\n    </tr>\n  </thead>\n  <tbody>\n    <tr>\n      <th>0</th>\n      <td>1</td>\n      <td>0</td>\n      <td>0</td>\n      <td>one</td>\n      <td>Pre_AllStar</td>\n      <td>110.2</td>\n      <td>115.6</td>\n      <td>103.6</td>\n      <td>83.0</td>\n      <td>0.4578</td>\n      <td>...</td>\n      <td>8.4</td>\n      <td>30.6</td>\n      <td>24.8</td>\n      <td>9.6</td>\n      <td>5.4</td>\n      <td>13.8</td>\n      <td>23.8</td>\n      <td>5.8</td>\n      <td>0</td>\n      <td>0</td>\n    </tr>\n    <tr>\n      <th>1</th>\n      <td>2</td>\n      <td>1</td>\n      <td>1</td>\n      <td>one</td>\n      <td>Pre_AllStar</td>\n      <td>110.2</td>\n      <td>115.6</td>\n      <td>103.6</td>\n      <td>83.0</td>\n      <td>0.4578</td>\n      <td>...</td>\n      <td>8.4</td>\n      <td>30.6</td>\n      <td>24.8</td>\n      <td>9.6</td>\n      <td>5.4</td>\n      <td>13.8</td>\n      <td>23.8</td>\n      <td>5.8</td>\n      <td>0</td>\n      <td>0</td>\n    </tr>\n    <tr>\n      <th>2</th>\n      <td>3</td>\n      <td>0</td>\n      <td>0</td>\n      <td>one</td>\n      <td>Pre_AllStar</td>\n      <td>110.2</td>\n      <td>115.6</td>\n      <td>103.6</td>\n      <td>83.0</td>\n      <td>0.4578</td>\n      <td>...</td>\n      <td>8.4</td>\n      <td>30.6</td>\n      <td>24.8</td>\n      <td>9.6</td>\n      <td>5.4</td>\n      <td>13.8</td>\n      <td>23.8</td>\n      <td>5.8</td>\n      <td>0</td>\n      <td>1</td>\n    </tr>\n    <tr>\n      <th>3</th>\n      <td>4</td>\n      <td>0</td>\n      <td>0</td>\n      <td>one</td>\n      <td>Pre_AllStar</td>\n      <td>110.2</td>\n      <td>115.6</td>\n      <td>103.6</td>\n      <td>83.0</td>\n      <td>0.4578</td>\n      <td>...</td>\n      <td>8.4</td>\n      <td>30.6</td>\n      <td>24.8</td>\n      <td>9.6</td>\n      <td>5.4</td>\n      <td>13.8</td>\n      <td>23.8</td>\n      <td>5.8</td>\n      <td>4</td>\n      <td>0</td>\n    </tr>\n    <tr>\n      <th>4</th>\n      <td>5</td>\n      <td>1</td>\n      <td>1</td>\n      <td>one</td>\n      <td>Pre_AllStar</td>\n      <td>110.2</td>\n      <td>115.6</td>\n      <td>103.6</td>\n      <td>83.0</td>\n      <td>0.4578</td>\n      <td>...</td>\n      <td>8.4</td>\n      <td>30.6</td>\n      <td>24.8</td>\n      <td>9.6</td>\n      <td>5.4</td>\n      <td>13.8</td>\n      <td>23.8</td>\n      <td>5.8</td>\n      <td>1</td>\n      <td>0</td>\n    </tr>\n    <tr>\n      <th>5</th>\n      <td>6</td>\n      <td>0</td>\n      <td>1</td>\n      <td>one</td>\n      <td>Pre_AllStar</td>\n      <td>110.0</td>\n      <td>104.2</td>\n      <td>101.4</td>\n      <td>81.2</td>\n      <td>0.4338</td>\n      <td>...</td>\n      <td>8.2</td>\n      <td>30.0</td>\n      <td>23.6</td>\n      <td>9.8</td>\n      <td>4.4</td>\n      <td>13.4</td>\n      <td>22.2</td>\n      <td>5.6</td>\n      <td>3</td>\n      <td>1</td>\n    </tr>\n    <tr>\n      <th>6</th>\n      <td>7</td>\n      <td>1</td>\n      <td>1</td>\n      <td>one</td>\n      <td>Pre_AllStar</td>\n      <td>108.0</td>\n      <td>107.8</td>\n      <td>101.0</td>\n      <td>82.6</td>\n      <td>0.4350</td>\n      <td>...</td>\n      <td>10.2</td>\n      <td>29.8</td>\n      <td>23.0</td>\n      <td>9.4</td>\n      <td>4.0</td>\n      <td>14.6</td>\n      <td>20.6</td>\n      <td>4.2</td>\n      <td>4</td>\n      <td>2</td>\n    </tr>\n    <tr>\n      <th>7</th>\n      <td>8</td>\n      <td>1</td>\n      <td>1</td>\n      <td>one</td>\n      <td>Pre_AllStar</td>\n      <td>120.0</td>\n      <td>106.4</td>\n      <td>105.4</td>\n      <td>79.2</td>\n      <td>0.4644</td>\n      <td>...</td>\n      <td>8.8</td>\n      <td>31.0</td>\n      <td>24.4</td>\n      <td>8.6</td>\n      <td>4.0</td>\n      <td>14.6</td>\n      <td>19.6</td>\n      <td>6.0</td>\n      <td>4</td>\n      <td>3</td>\n    </tr>\n    <tr>\n      <th>8</th>\n      <td>9</td>\n      <td>0</td>\n      <td>0</td>\n      <td>one</td>\n      <td>Pre_AllStar</td>\n      <td>118.0</td>\n      <td>110.0</td>\n      <td>100.4</td>\n      <td>78.6</td>\n      <td>0.4608</td>\n      <td>...</td>\n      <td>9.6</td>\n      <td>30.0</td>\n      <td>24.0</td>\n      <td>8.2</td>\n      <td>5.0</td>\n      <td>14.4</td>\n      <td>15.4</td>\n      <td>12.0</td>\n      <td>1</td>\n      <td>4</td>\n    </tr>\n    <tr>\n      <th>9</th>\n      <td>10</td>\n      <td>1</td>\n      <td>0</td>\n      <td>one</td>\n      <td>Pre_AllStar</td>\n      <td>119.6</td>\n      <td>115.0</td>\n      <td>101.6</td>\n      <td>79.4</td>\n      <td>0.4758</td>\n      <td>...</td>\n      <td>9.8</td>\n      <td>29.2</td>\n      <td>24.8</td>\n      <td>7.6</td>\n      <td>4.6</td>\n      <td>14.8</td>\n      <td>15.4</td>\n      <td>11.6</td>\n      <td>5</td>\n      <td>0</td>\n    </tr>\n  </tbody>\n</table>\n<p>10 rows × 24 columns</p>\n</div>"
     },
     "execution_count": 108,
     "metadata": {},
     "output_type": "execute_result"
    }
   ],
   "source": [
    "print(nba_df_for_ML.shape)\n",
    "nba_df_for_ML.head(10)"
   ],
   "metadata": {
    "collapsed": false,
    "pycharm": {
     "name": "#%%\n"
    }
   }
  },
  {
   "cell_type": "markdown",
   "source": [
    "# Running Models:"
   ],
   "metadata": {
    "collapsed": false,
    "pycharm": {
     "name": "#%% md\n"
    }
   }
  },
  {
   "cell_type": "code",
   "execution_count": 109,
   "outputs": [],
   "source": [
    "from sklearn.tree import DecisionTreeClassifier\n",
    "from sklearn.metrics import log_loss, confusion_matrix, classification_report, accuracy_score\n",
    "from sklearn.model_selection import cross_val_score\n",
    "from sklearn.model_selection import StratifiedShuffleSplit\n",
    "from sklearn.model_selection import train_test_split"
   ],
   "metadata": {
    "collapsed": false,
    "pycharm": {
     "name": "#%%\n"
    }
   }
  },
  {
   "cell_type": "code",
   "execution_count": 110,
   "outputs": [
    {
     "data": {
      "text/plain": "(9840, 28)"
     },
     "execution_count": 110,
     "metadata": {},
     "output_type": "execute_result"
    }
   ],
   "source": [
    "nba_df_dumm = pd.get_dummies(nba_df_for_ML)\n",
    "nba_df_for_ML.shape #(9840, 24)\n",
    "nba_df_dumm.shape"
   ],
   "metadata": {
    "collapsed": false,
    "pycharm": {
     "name": "#%%\n"
    }
   }
  },
  {
   "cell_type": "code",
   "execution_count": 111,
   "outputs": [
    {
     "data": {
      "text/plain": "   Game  Home  WINorLOSS  avg_PIR  avg_OppPIR  avg_TeamPoints  \\\n0     1     0          0    110.2       115.6           103.6   \n1     2     1          1    110.2       115.6           103.6   \n2     3     0          0    110.2       115.6           103.6   \n3     4     0          0    110.2       115.6           103.6   \n4     5     1          1    110.2       115.6           103.6   \n5     6     0          1    110.0       104.2           101.4   \n6     7     1          1    108.0       107.8           101.0   \n7     8     1          1    120.0       106.4           105.4   \n8     9     0          0    118.0       110.0           100.4   \n9    10     1          0    119.6       115.0           101.6   \n\n   avg_FieldGoalsAttempted  avg_FieldGoals.  avg_X3PointShotsAttempted  \\\n0                     83.0           0.4578                       24.4   \n1                     83.0           0.4578                       24.4   \n2                     83.0           0.4578                       24.4   \n3                     83.0           0.4578                       24.4   \n4                     83.0           0.4578                       24.4   \n5                     81.2           0.4338                       25.4   \n6                     82.6           0.4350                       25.4   \n7                     79.2           0.4644                       26.0   \n8                     78.6           0.4608                       23.8   \n9                     79.4           0.4758                       24.8   \n\n   avg_X3PointShots.  ...  avg_TotalFouls  avg_diff_points  rest_days_scale  \\\n0             0.4128  ...            23.8              5.8                0   \n1             0.4128  ...            23.8              5.8                0   \n2             0.4128  ...            23.8              5.8                0   \n3             0.4128  ...            23.8              5.8                4   \n4             0.4128  ...            23.8              5.8                1   \n5             0.3686  ...            22.2              5.6                3   \n6             0.3886  ...            20.6              4.2                4   \n7             0.4032  ...            19.6              6.0                4   \n8             0.3516  ...            15.4             12.0                1   \n9             0.3364  ...            15.4             11.6                5   \n\n   wins_streak  Season_four  Season_one  Season_three  Season_two  \\\n0            0            0           1             0           0   \n1            0            0           1             0           0   \n2            1            0           1             0           0   \n3            0            0           1             0           0   \n4            0            0           1             0           0   \n5            1            0           1             0           0   \n6            2            0           1             0           0   \n7            3            0           1             0           0   \n8            4            0           1             0           0   \n9            0            0           1             0           0   \n\n   Season_half_Post_AllStar  Season_half_Pre_AllStar  \n0                         0                        1  \n1                         0                        1  \n2                         0                        1  \n3                         0                        1  \n4                         0                        1  \n5                         0                        1  \n6                         0                        1  \n7                         0                        1  \n8                         0                        1  \n9                         0                        1  \n\n[10 rows x 28 columns]",
      "text/html": "<div>\n<style scoped>\n    .dataframe tbody tr th:only-of-type {\n        vertical-align: middle;\n    }\n\n    .dataframe tbody tr th {\n        vertical-align: top;\n    }\n\n    .dataframe thead th {\n        text-align: right;\n    }\n</style>\n<table border=\"1\" class=\"dataframe\">\n  <thead>\n    <tr style=\"text-align: right;\">\n      <th></th>\n      <th>Game</th>\n      <th>Home</th>\n      <th>WINorLOSS</th>\n      <th>avg_PIR</th>\n      <th>avg_OppPIR</th>\n      <th>avg_TeamPoints</th>\n      <th>avg_FieldGoalsAttempted</th>\n      <th>avg_FieldGoals.</th>\n      <th>avg_X3PointShotsAttempted</th>\n      <th>avg_X3PointShots.</th>\n      <th>...</th>\n      <th>avg_TotalFouls</th>\n      <th>avg_diff_points</th>\n      <th>rest_days_scale</th>\n      <th>wins_streak</th>\n      <th>Season_four</th>\n      <th>Season_one</th>\n      <th>Season_three</th>\n      <th>Season_two</th>\n      <th>Season_half_Post_AllStar</th>\n      <th>Season_half_Pre_AllStar</th>\n    </tr>\n  </thead>\n  <tbody>\n    <tr>\n      <th>0</th>\n      <td>1</td>\n      <td>0</td>\n      <td>0</td>\n      <td>110.2</td>\n      <td>115.6</td>\n      <td>103.6</td>\n      <td>83.0</td>\n      <td>0.4578</td>\n      <td>24.4</td>\n      <td>0.4128</td>\n      <td>...</td>\n      <td>23.8</td>\n      <td>5.8</td>\n      <td>0</td>\n      <td>0</td>\n      <td>0</td>\n      <td>1</td>\n      <td>0</td>\n      <td>0</td>\n      <td>0</td>\n      <td>1</td>\n    </tr>\n    <tr>\n      <th>1</th>\n      <td>2</td>\n      <td>1</td>\n      <td>1</td>\n      <td>110.2</td>\n      <td>115.6</td>\n      <td>103.6</td>\n      <td>83.0</td>\n      <td>0.4578</td>\n      <td>24.4</td>\n      <td>0.4128</td>\n      <td>...</td>\n      <td>23.8</td>\n      <td>5.8</td>\n      <td>0</td>\n      <td>0</td>\n      <td>0</td>\n      <td>1</td>\n      <td>0</td>\n      <td>0</td>\n      <td>0</td>\n      <td>1</td>\n    </tr>\n    <tr>\n      <th>2</th>\n      <td>3</td>\n      <td>0</td>\n      <td>0</td>\n      <td>110.2</td>\n      <td>115.6</td>\n      <td>103.6</td>\n      <td>83.0</td>\n      <td>0.4578</td>\n      <td>24.4</td>\n      <td>0.4128</td>\n      <td>...</td>\n      <td>23.8</td>\n      <td>5.8</td>\n      <td>0</td>\n      <td>1</td>\n      <td>0</td>\n      <td>1</td>\n      <td>0</td>\n      <td>0</td>\n      <td>0</td>\n      <td>1</td>\n    </tr>\n    <tr>\n      <th>3</th>\n      <td>4</td>\n      <td>0</td>\n      <td>0</td>\n      <td>110.2</td>\n      <td>115.6</td>\n      <td>103.6</td>\n      <td>83.0</td>\n      <td>0.4578</td>\n      <td>24.4</td>\n      <td>0.4128</td>\n      <td>...</td>\n      <td>23.8</td>\n      <td>5.8</td>\n      <td>4</td>\n      <td>0</td>\n      <td>0</td>\n      <td>1</td>\n      <td>0</td>\n      <td>0</td>\n      <td>0</td>\n      <td>1</td>\n    </tr>\n    <tr>\n      <th>4</th>\n      <td>5</td>\n      <td>1</td>\n      <td>1</td>\n      <td>110.2</td>\n      <td>115.6</td>\n      <td>103.6</td>\n      <td>83.0</td>\n      <td>0.4578</td>\n      <td>24.4</td>\n      <td>0.4128</td>\n      <td>...</td>\n      <td>23.8</td>\n      <td>5.8</td>\n      <td>1</td>\n      <td>0</td>\n      <td>0</td>\n      <td>1</td>\n      <td>0</td>\n      <td>0</td>\n      <td>0</td>\n      <td>1</td>\n    </tr>\n    <tr>\n      <th>5</th>\n      <td>6</td>\n      <td>0</td>\n      <td>1</td>\n      <td>110.0</td>\n      <td>104.2</td>\n      <td>101.4</td>\n      <td>81.2</td>\n      <td>0.4338</td>\n      <td>25.4</td>\n      <td>0.3686</td>\n      <td>...</td>\n      <td>22.2</td>\n      <td>5.6</td>\n      <td>3</td>\n      <td>1</td>\n      <td>0</td>\n      <td>1</td>\n      <td>0</td>\n      <td>0</td>\n      <td>0</td>\n      <td>1</td>\n    </tr>\n    <tr>\n      <th>6</th>\n      <td>7</td>\n      <td>1</td>\n      <td>1</td>\n      <td>108.0</td>\n      <td>107.8</td>\n      <td>101.0</td>\n      <td>82.6</td>\n      <td>0.4350</td>\n      <td>25.4</td>\n      <td>0.3886</td>\n      <td>...</td>\n      <td>20.6</td>\n      <td>4.2</td>\n      <td>4</td>\n      <td>2</td>\n      <td>0</td>\n      <td>1</td>\n      <td>0</td>\n      <td>0</td>\n      <td>0</td>\n      <td>1</td>\n    </tr>\n    <tr>\n      <th>7</th>\n      <td>8</td>\n      <td>1</td>\n      <td>1</td>\n      <td>120.0</td>\n      <td>106.4</td>\n      <td>105.4</td>\n      <td>79.2</td>\n      <td>0.4644</td>\n      <td>26.0</td>\n      <td>0.4032</td>\n      <td>...</td>\n      <td>19.6</td>\n      <td>6.0</td>\n      <td>4</td>\n      <td>3</td>\n      <td>0</td>\n      <td>1</td>\n      <td>0</td>\n      <td>0</td>\n      <td>0</td>\n      <td>1</td>\n    </tr>\n    <tr>\n      <th>8</th>\n      <td>9</td>\n      <td>0</td>\n      <td>0</td>\n      <td>118.0</td>\n      <td>110.0</td>\n      <td>100.4</td>\n      <td>78.6</td>\n      <td>0.4608</td>\n      <td>23.8</td>\n      <td>0.3516</td>\n      <td>...</td>\n      <td>15.4</td>\n      <td>12.0</td>\n      <td>1</td>\n      <td>4</td>\n      <td>0</td>\n      <td>1</td>\n      <td>0</td>\n      <td>0</td>\n      <td>0</td>\n      <td>1</td>\n    </tr>\n    <tr>\n      <th>9</th>\n      <td>10</td>\n      <td>1</td>\n      <td>0</td>\n      <td>119.6</td>\n      <td>115.0</td>\n      <td>101.6</td>\n      <td>79.4</td>\n      <td>0.4758</td>\n      <td>24.8</td>\n      <td>0.3364</td>\n      <td>...</td>\n      <td>15.4</td>\n      <td>11.6</td>\n      <td>5</td>\n      <td>0</td>\n      <td>0</td>\n      <td>1</td>\n      <td>0</td>\n      <td>0</td>\n      <td>0</td>\n      <td>1</td>\n    </tr>\n  </tbody>\n</table>\n<p>10 rows × 28 columns</p>\n</div>"
     },
     "execution_count": 111,
     "metadata": {},
     "output_type": "execute_result"
    }
   ],
   "source": [
    "nba_df_dumm.head(10)"
   ],
   "metadata": {
    "collapsed": false,
    "pycharm": {
     "name": "#%%\n"
    }
   }
  },
  {
   "cell_type": "code",
   "execution_count": 112,
   "outputs": [],
   "source": [
    "X = nba_df_dumm.drop(['WINorLOSS'], axis=1)\n",
    "y = nba_df_dumm.WINorLOSS\n",
    "\n",
    "X_train, X_test, y_train, y_test = train_test_split(X, y,\n",
    "                                                    train_size=0.75,\n",
    "                                                    test_size=0.25,\n",
    "                                                    shuffle=True,\n",
    "                                                    #stratify=nba_df_for_ML.WINorLOSS\n",
    "                                                    )"
   ],
   "metadata": {
    "collapsed": false,
    "pycharm": {
     "name": "#%%\n"
    }
   }
  },
  {
   "cell_type": "code",
   "execution_count": 113,
   "outputs": [],
   "source": [
    "dt_model_1 = DecisionTreeClassifier(min_samples_leaf=3, min_weight_fraction_leaf=0.01, max_leaf_nodes=40).fit(X_train, y_train)"
   ],
   "metadata": {
    "collapsed": false,
    "pycharm": {
     "name": "#%%\n"
    }
   }
  },
  {
   "cell_type": "code",
   "execution_count": 118,
   "outputs": [
    {
     "data": {
      "text/plain": "<Figure size 432x288 with 1 Axes>",
      "image/png": "[encoded data removed]"
     },
     "metadata": {
      "needs_background": "light"
     },
     "output_type": "display_data"
    }
   ],
   "source": [
    "\n",
    "pd.Series(dt_model_1.feature_importances_, index=X_train.columns).sort_values().tail(20).plot.barh(title='Features importance');"
   ],
   "metadata": {
    "collapsed": false,
    "pycharm": {
     "name": "#%%\n"
    }
   }
  },
  {
   "cell_type": "code",
   "execution_count": 131,
   "outputs": [
    {
     "data": {
      "text/plain": "array([0.55109489, 0.48905109, 0.58759124, 0.54945055, 0.5018315 ,\n       0.52380952, 0.58241758, 0.50549451, 0.51648352])"
     },
     "execution_count": 131,
     "metadata": {},
     "output_type": "execute_result"
    }
   ],
   "source": [
    "# Cross Validation:\n",
    "\n",
    "(cross_val_score(dt_model_1, X_test, y_test, cv=9, scoring='accuracy'))"
   ],
   "metadata": {
    "collapsed": false,
    "pycharm": {
     "name": "#%%\n"
    }
   }
  },
  {
   "cell_type": "code",
   "execution_count": 146,
   "outputs": [
    {
     "data": {
      "text/plain": "0.566260162601626"
     },
     "execution_count": 146,
     "metadata": {},
     "output_type": "execute_result"
    }
   ],
   "source": [
    "y_test_pred = pd.DataFrame(dt_model_1.predict(X_test),\n",
    "                    )\n",
    "\n",
    "accuracy_score(y_test, y_test_pred)"
   ],
   "metadata": {
    "collapsed": false,
    "pycharm": {
     "name": "#%%\n"
    }
   }
  },
  {
   "cell_type": "markdown",
   "source": [
    "# Random Forest & Grid Search:"
   ],
   "metadata": {
    "collapsed": false,
    "pycharm": {
     "name": "#%% md\n"
    }
   }
  },
  {
   "cell_type": "code",
   "execution_count": 147,
   "outputs": [],
   "source": [
    "from sklearn.ensemble import RandomForestClassifier\n",
    "from sklearn.model_selection import GridSearchCV"
   ],
   "metadata": {
    "collapsed": false,
    "pycharm": {
     "name": "#%%\n"
    }
   }
  },
  {
   "cell_type": "code",
   "execution_count": 148,
   "outputs": [
    {
     "data": {
      "text/plain": "GridSearchCV(cv=7,\n             estimator=RandomForestClassifier(max_leaf_nodes=100,\n                                              min_weight_fraction_leaf=0.01),\n             param_grid=[{'max_leaf_nodes': [30, 70, 100],\n                          'min_samples_leaf': [30, 70, 100],\n                          'n_estimators': [30, 70, 100]}],\n             scoring='neg_log_loss')"
     },
     "execution_count": 148,
     "metadata": {},
     "output_type": "execute_result"
    }
   ],
   "source": [
    "random_forest = RandomForestClassifier(n_estimators=100,max_leaf_nodes=100, min_weight_fraction_leaf= 0.01)\n",
    "my_param_grid = [{\"n_estimators\": [30, 70 ,100],\"max_leaf_nodes\": [30, 70, 100], \"min_samples_leaf\" : [30, 70, 100]}]\n",
    "k = 7\n",
    "random_forest_gs = GridSearchCV(random_forest, my_param_grid, scoring='neg_log_loss',cv=k)\n",
    "random_forest_gs.fit(X_train, y_train)"
   ],
   "metadata": {
    "collapsed": false,
    "pycharm": {
     "name": "#%%\n"
    }
   }
  },
  {
   "cell_type": "code",
   "execution_count": 149,
   "outputs": [
    {
     "data": {
      "text/plain": "{'max_leaf_nodes': 30, 'min_samples_leaf': 30, 'n_estimators': 100}"
     },
     "execution_count": 149,
     "metadata": {},
     "output_type": "execute_result"
    }
   ],
   "source": [
    "random_forest_gs.best_params_"
   ],
   "metadata": {
    "collapsed": false,
    "pycharm": {
     "name": "#%%\n"
    }
   }
  },
  {
   "cell_type": "code",
   "execution_count": 151,
   "outputs": [],
   "source": [
    "random_forest_2 = random_forest_gs.best_estimator_"
   ],
   "metadata": {
    "collapsed": false,
    "pycharm": {
     "name": "#%%\n"
    }
   }
  },
  {
   "cell_type": "code",
   "execution_count": 154,
   "outputs": [],
   "source": [
    "y_test_pred = pd.DataFrame(random_forest_2.predict(X_test))"
   ],
   "metadata": {
    "collapsed": false,
    "pycharm": {
     "name": "#%%\n"
    }
   }
  },
  {
   "cell_type": "code",
   "execution_count": 155,
   "outputs": [
    {
     "data": {
      "text/plain": "0.576"
     },
     "execution_count": 155,
     "metadata": {},
     "output_type": "execute_result"
    }
   ],
   "source": [
    "accuracy_score(y_true=y_test, y_pred=y_test_pred).mean().round(3)"
   ],
   "metadata": {
    "collapsed": false,
    "pycharm": {
     "name": "#%%\n"
    }
   }
  },
  {
   "cell_type": "code",
   "execution_count": null,
   "outputs": [],
   "source": [],
   "metadata": {
    "collapsed": false,
    "pycharm": {
     "name": "#%%\n"
    }
   }
  }
 ],
 "metadata": {
  "kernelspec": {
   "display_name": "Python 3",
   "language": "python",
   "name": "python3"
  },
  "language_info": {
   "codemirror_mode": {
    "name": "ipython",
    "version": 2
   },
   "file_extension": ".py",
   "mimetype": "text/x-python",
   "name": "python",
   "nbconvert_exporter": "python",
   "pygments_lexer": "ipython2",
   "version": "2.7.6"
  }
 },
 "nbformat": 4,
 "nbformat_minor": 0
}